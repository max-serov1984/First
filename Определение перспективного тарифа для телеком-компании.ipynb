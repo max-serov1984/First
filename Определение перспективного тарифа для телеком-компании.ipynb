{
 "cells": [
  {
   "cell_type": "markdown",
   "metadata": {},
   "source": [
    "# Определение перспективного тарифа для телеком-компании\n",
    "\n",
    "В моем распоряжении данные 500 пользователей «Мегалайна»: кто они, откуда, каким тарифом пользуются, сколько звонков и сообщений каждый отправил за 2018 год. Нужно проанализировать поведение клиентов и сделать вывод — какой тариф лучше. Моя задачи — обработать данные и привести их в нужный для анализа вид, сравнить выручку в разрезе по региону пользователя, по тарифу, оценить вероятность сравнительно одинаковой выручки от тарифов."
   ]
  },
  {
   "cell_type": "markdown",
   "metadata": {},
   "source": [
    "<h1>Содержание<span class=\"tocSkip\"></span></h1>\n",
    "<div class=\"toc\"><ul class=\"toc-item\"><li><span><a href=\"#Изучение-данных-из-файла\" data-toc-modified-id=\"Изучение-данных-из-файла-1\"><span class=\"toc-item-num\">1&nbsp;&nbsp;</span>Изучение данных из файла</a></span><ul class=\"toc-item\"><li><span><a href=\"#Вывод\" data-toc-modified-id=\"Вывод-1.1\"><span class=\"toc-item-num\">1.1&nbsp;&nbsp;</span>Вывод</a></span></li></ul></li><li><span><a href=\"#Подготовка данных\" data-toc-modified-id=\"Подготовка данных-2\"><span class=\"toc-item-num\">2&nbsp;&nbsp;</span>Подготовка данных</a></span></li><li><span><a href=\"#Анализ данных.\" data-toc-modified-id=\"Анализ данных.-3\"><span class=\"toc-item-num\">3&nbsp;&nbsp;</span>Анализ данных.</a></span></li><li><span><a href=\"#Проверка гипотез.\" data-toc-modified-id=\"Проверка гипотез.-4\"><span class=\"toc-item-num\">4&nbsp;&nbsp;</span>Проверка гипотез.</a></span></li><li><span><a href=\"#Общий-вывод\" data-toc-modified-id=\"Общий-вывод-5\"><span class=\"toc-item-num\">5&nbsp;&nbsp;</span>Общий вывод</a></span></li><li><span><a"
   ]
  },
  {
   "cell_type": "markdown",
   "metadata": {},
   "source": [
    "##  Изучение данных из файла."
   ]
  },
  {
   "cell_type": "code",
   "execution_count": 1,
   "metadata": {},
   "outputs": [
    {
     "name": "stdout",
     "output_type": "stream",
     "text": [
      "<class 'pandas.core.frame.DataFrame'>\n",
      "RangeIndex: 202607 entries, 0 to 202606\n",
      "Data columns (total 4 columns):\n",
      " #   Column     Non-Null Count   Dtype  \n",
      "---  ------     --------------   -----  \n",
      " 0   id         202607 non-null  object \n",
      " 1   call_date  202607 non-null  object \n",
      " 2   duration   202607 non-null  float64\n",
      " 3   user_id    202607 non-null  int64  \n",
      "dtypes: float64(1), int64(1), object(2)\n",
      "memory usage: 6.2+ MB\n"
     ]
    },
    {
     "data": {
      "text/html": [
       "<div>\n",
       "<style scoped>\n",
       "    .dataframe tbody tr th:only-of-type {\n",
       "        vertical-align: middle;\n",
       "    }\n",
       "\n",
       "    .dataframe tbody tr th {\n",
       "        vertical-align: top;\n",
       "    }\n",
       "\n",
       "    .dataframe thead th {\n",
       "        text-align: right;\n",
       "    }\n",
       "</style>\n",
       "<table border=\"1\" class=\"dataframe\">\n",
       "  <thead>\n",
       "    <tr style=\"text-align: right;\">\n",
       "      <th></th>\n",
       "      <th>id</th>\n",
       "      <th>call_date</th>\n",
       "      <th>duration</th>\n",
       "      <th>user_id</th>\n",
       "    </tr>\n",
       "  </thead>\n",
       "  <tbody>\n",
       "    <tr>\n",
       "      <th>0</th>\n",
       "      <td>1000_0</td>\n",
       "      <td>2018-07-25</td>\n",
       "      <td>0.00</td>\n",
       "      <td>1000</td>\n",
       "    </tr>\n",
       "    <tr>\n",
       "      <th>1</th>\n",
       "      <td>1000_1</td>\n",
       "      <td>2018-08-17</td>\n",
       "      <td>0.00</td>\n",
       "      <td>1000</td>\n",
       "    </tr>\n",
       "    <tr>\n",
       "      <th>2</th>\n",
       "      <td>1000_2</td>\n",
       "      <td>2018-06-11</td>\n",
       "      <td>2.85</td>\n",
       "      <td>1000</td>\n",
       "    </tr>\n",
       "    <tr>\n",
       "      <th>3</th>\n",
       "      <td>1000_3</td>\n",
       "      <td>2018-09-21</td>\n",
       "      <td>13.80</td>\n",
       "      <td>1000</td>\n",
       "    </tr>\n",
       "    <tr>\n",
       "      <th>4</th>\n",
       "      <td>1000_4</td>\n",
       "      <td>2018-12-15</td>\n",
       "      <td>5.18</td>\n",
       "      <td>1000</td>\n",
       "    </tr>\n",
       "  </tbody>\n",
       "</table>\n",
       "</div>"
      ],
      "text/plain": [
       "       id   call_date  duration  user_id\n",
       "0  1000_0  2018-07-25      0.00     1000\n",
       "1  1000_1  2018-08-17      0.00     1000\n",
       "2  1000_2  2018-06-11      2.85     1000\n",
       "3  1000_3  2018-09-21     13.80     1000\n",
       "4  1000_4  2018-12-15      5.18     1000"
      ]
     },
     "execution_count": 1,
     "metadata": {},
     "output_type": "execute_result"
    }
   ],
   "source": [
    "#импортируем пандас, изучаем данные\n",
    "from scipy import stats as st\n",
    "import pandas as pd\n",
    "import matplotlib.pyplot as plt\n",
    "import math\n",
    "import numpy as np\n",
    "from functools import reduce\n",
    "from scipy.stats import levene\n",
    "import seaborn as sns\n",
    "dc = pd.read_csv('/datasets/calls.csv')\n",
    "dc.info()\n",
    "dc.head()"
   ]
  },
  {
   "cell_type": "code",
   "execution_count": 2,
   "metadata": {},
   "outputs": [
    {
     "name": "stdout",
     "output_type": "stream",
     "text": [
      "<class 'pandas.core.frame.DataFrame'>\n",
      "RangeIndex: 149396 entries, 0 to 149395\n",
      "Data columns (total 5 columns):\n",
      " #   Column        Non-Null Count   Dtype  \n",
      "---  ------        --------------   -----  \n",
      " 0   Unnamed: 0    149396 non-null  int64  \n",
      " 1   id            149396 non-null  object \n",
      " 2   mb_used       149396 non-null  float64\n",
      " 3   session_date  149396 non-null  object \n",
      " 4   user_id       149396 non-null  int64  \n",
      "dtypes: float64(1), int64(2), object(2)\n",
      "memory usage: 5.7+ MB\n"
     ]
    },
    {
     "data": {
      "text/html": [
       "<div>\n",
       "<style scoped>\n",
       "    .dataframe tbody tr th:only-of-type {\n",
       "        vertical-align: middle;\n",
       "    }\n",
       "\n",
       "    .dataframe tbody tr th {\n",
       "        vertical-align: top;\n",
       "    }\n",
       "\n",
       "    .dataframe thead th {\n",
       "        text-align: right;\n",
       "    }\n",
       "</style>\n",
       "<table border=\"1\" class=\"dataframe\">\n",
       "  <thead>\n",
       "    <tr style=\"text-align: right;\">\n",
       "      <th></th>\n",
       "      <th>Unnamed: 0</th>\n",
       "      <th>id</th>\n",
       "      <th>mb_used</th>\n",
       "      <th>session_date</th>\n",
       "      <th>user_id</th>\n",
       "    </tr>\n",
       "  </thead>\n",
       "  <tbody>\n",
       "    <tr>\n",
       "      <th>0</th>\n",
       "      <td>0</td>\n",
       "      <td>1000_0</td>\n",
       "      <td>112.95</td>\n",
       "      <td>2018-11-25</td>\n",
       "      <td>1000</td>\n",
       "    </tr>\n",
       "    <tr>\n",
       "      <th>1</th>\n",
       "      <td>1</td>\n",
       "      <td>1000_1</td>\n",
       "      <td>1052.81</td>\n",
       "      <td>2018-09-07</td>\n",
       "      <td>1000</td>\n",
       "    </tr>\n",
       "    <tr>\n",
       "      <th>2</th>\n",
       "      <td>2</td>\n",
       "      <td>1000_2</td>\n",
       "      <td>1197.26</td>\n",
       "      <td>2018-06-25</td>\n",
       "      <td>1000</td>\n",
       "    </tr>\n",
       "    <tr>\n",
       "      <th>3</th>\n",
       "      <td>3</td>\n",
       "      <td>1000_3</td>\n",
       "      <td>550.27</td>\n",
       "      <td>2018-08-22</td>\n",
       "      <td>1000</td>\n",
       "    </tr>\n",
       "    <tr>\n",
       "      <th>4</th>\n",
       "      <td>4</td>\n",
       "      <td>1000_4</td>\n",
       "      <td>302.56</td>\n",
       "      <td>2018-09-24</td>\n",
       "      <td>1000</td>\n",
       "    </tr>\n",
       "  </tbody>\n",
       "</table>\n",
       "</div>"
      ],
      "text/plain": [
       "   Unnamed: 0      id  mb_used session_date  user_id\n",
       "0           0  1000_0   112.95   2018-11-25     1000\n",
       "1           1  1000_1  1052.81   2018-09-07     1000\n",
       "2           2  1000_2  1197.26   2018-06-25     1000\n",
       "3           3  1000_3   550.27   2018-08-22     1000\n",
       "4           4  1000_4   302.56   2018-09-24     1000"
      ]
     },
     "execution_count": 2,
     "metadata": {},
     "output_type": "execute_result"
    }
   ],
   "source": [
    "di = pd.read_csv('/datasets/internet.csv')\n",
    "di.info()\n",
    "di.head()"
   ]
  },
  {
   "cell_type": "code",
   "execution_count": 3,
   "metadata": {},
   "outputs": [
    {
     "name": "stdout",
     "output_type": "stream",
     "text": [
      "<class 'pandas.core.frame.DataFrame'>\n",
      "RangeIndex: 123036 entries, 0 to 123035\n",
      "Data columns (total 3 columns):\n",
      " #   Column        Non-Null Count   Dtype \n",
      "---  ------        --------------   ----- \n",
      " 0   id            123036 non-null  object\n",
      " 1   message_date  123036 non-null  object\n",
      " 2   user_id       123036 non-null  int64 \n",
      "dtypes: int64(1), object(2)\n",
      "memory usage: 2.8+ MB\n"
     ]
    },
    {
     "data": {
      "text/html": [
       "<div>\n",
       "<style scoped>\n",
       "    .dataframe tbody tr th:only-of-type {\n",
       "        vertical-align: middle;\n",
       "    }\n",
       "\n",
       "    .dataframe tbody tr th {\n",
       "        vertical-align: top;\n",
       "    }\n",
       "\n",
       "    .dataframe thead th {\n",
       "        text-align: right;\n",
       "    }\n",
       "</style>\n",
       "<table border=\"1\" class=\"dataframe\">\n",
       "  <thead>\n",
       "    <tr style=\"text-align: right;\">\n",
       "      <th></th>\n",
       "      <th>id</th>\n",
       "      <th>message_date</th>\n",
       "      <th>user_id</th>\n",
       "    </tr>\n",
       "  </thead>\n",
       "  <tbody>\n",
       "    <tr>\n",
       "      <th>0</th>\n",
       "      <td>1000_0</td>\n",
       "      <td>2018-06-27</td>\n",
       "      <td>1000</td>\n",
       "    </tr>\n",
       "    <tr>\n",
       "      <th>1</th>\n",
       "      <td>1000_1</td>\n",
       "      <td>2018-10-08</td>\n",
       "      <td>1000</td>\n",
       "    </tr>\n",
       "    <tr>\n",
       "      <th>2</th>\n",
       "      <td>1000_2</td>\n",
       "      <td>2018-08-04</td>\n",
       "      <td>1000</td>\n",
       "    </tr>\n",
       "    <tr>\n",
       "      <th>3</th>\n",
       "      <td>1000_3</td>\n",
       "      <td>2018-06-16</td>\n",
       "      <td>1000</td>\n",
       "    </tr>\n",
       "    <tr>\n",
       "      <th>4</th>\n",
       "      <td>1000_4</td>\n",
       "      <td>2018-12-05</td>\n",
       "      <td>1000</td>\n",
       "    </tr>\n",
       "  </tbody>\n",
       "</table>\n",
       "</div>"
      ],
      "text/plain": [
       "       id message_date  user_id\n",
       "0  1000_0   2018-06-27     1000\n",
       "1  1000_1   2018-10-08     1000\n",
       "2  1000_2   2018-08-04     1000\n",
       "3  1000_3   2018-06-16     1000\n",
       "4  1000_4   2018-12-05     1000"
      ]
     },
     "execution_count": 3,
     "metadata": {},
     "output_type": "execute_result"
    }
   ],
   "source": [
    "dm = pd.read_csv('/datasets/messages.csv')\n",
    "dm.info()\n",
    "dm.head()"
   ]
  },
  {
   "cell_type": "code",
   "execution_count": 4,
   "metadata": {},
   "outputs": [
    {
     "name": "stdout",
     "output_type": "stream",
     "text": [
      "<class 'pandas.core.frame.DataFrame'>\n",
      "RangeIndex: 2 entries, 0 to 1\n",
      "Data columns (total 8 columns):\n",
      " #   Column                 Non-Null Count  Dtype \n",
      "---  ------                 --------------  ----- \n",
      " 0   messages_included      2 non-null      int64 \n",
      " 1   mb_per_month_included  2 non-null      int64 \n",
      " 2   minutes_included       2 non-null      int64 \n",
      " 3   rub_monthly_fee        2 non-null      int64 \n",
      " 4   rub_per_gb             2 non-null      int64 \n",
      " 5   rub_per_message        2 non-null      int64 \n",
      " 6   rub_per_minute         2 non-null      int64 \n",
      " 7   tariff_name            2 non-null      object\n",
      "dtypes: int64(7), object(1)\n",
      "memory usage: 256.0+ bytes\n"
     ]
    },
    {
     "data": {
      "text/html": [
       "<div>\n",
       "<style scoped>\n",
       "    .dataframe tbody tr th:only-of-type {\n",
       "        vertical-align: middle;\n",
       "    }\n",
       "\n",
       "    .dataframe tbody tr th {\n",
       "        vertical-align: top;\n",
       "    }\n",
       "\n",
       "    .dataframe thead th {\n",
       "        text-align: right;\n",
       "    }\n",
       "</style>\n",
       "<table border=\"1\" class=\"dataframe\">\n",
       "  <thead>\n",
       "    <tr style=\"text-align: right;\">\n",
       "      <th></th>\n",
       "      <th>messages_included</th>\n",
       "      <th>mb_per_month_included</th>\n",
       "      <th>minutes_included</th>\n",
       "      <th>rub_monthly_fee</th>\n",
       "      <th>rub_per_gb</th>\n",
       "      <th>rub_per_message</th>\n",
       "      <th>rub_per_minute</th>\n",
       "      <th>tariff_name</th>\n",
       "    </tr>\n",
       "  </thead>\n",
       "  <tbody>\n",
       "    <tr>\n",
       "      <th>0</th>\n",
       "      <td>50</td>\n",
       "      <td>15360</td>\n",
       "      <td>500</td>\n",
       "      <td>550</td>\n",
       "      <td>200</td>\n",
       "      <td>3</td>\n",
       "      <td>3</td>\n",
       "      <td>smart</td>\n",
       "    </tr>\n",
       "    <tr>\n",
       "      <th>1</th>\n",
       "      <td>1000</td>\n",
       "      <td>30720</td>\n",
       "      <td>3000</td>\n",
       "      <td>1950</td>\n",
       "      <td>150</td>\n",
       "      <td>1</td>\n",
       "      <td>1</td>\n",
       "      <td>ultra</td>\n",
       "    </tr>\n",
       "  </tbody>\n",
       "</table>\n",
       "</div>"
      ],
      "text/plain": [
       "   messages_included  mb_per_month_included  minutes_included  \\\n",
       "0                 50                  15360               500   \n",
       "1               1000                  30720              3000   \n",
       "\n",
       "   rub_monthly_fee  rub_per_gb  rub_per_message  rub_per_minute tariff_name  \n",
       "0              550         200                3               3       smart  \n",
       "1             1950         150                1               1       ultra  "
      ]
     },
     "execution_count": 4,
     "metadata": {},
     "output_type": "execute_result"
    }
   ],
   "source": [
    "dt = pd.read_csv('/datasets/tariffs.csv')\n",
    "dt.info()\n",
    "dt.head()"
   ]
  },
  {
   "cell_type": "code",
   "execution_count": 5,
   "metadata": {},
   "outputs": [
    {
     "name": "stdout",
     "output_type": "stream",
     "text": [
      "<class 'pandas.core.frame.DataFrame'>\n",
      "RangeIndex: 500 entries, 0 to 499\n",
      "Data columns (total 8 columns):\n",
      " #   Column      Non-Null Count  Dtype \n",
      "---  ------      --------------  ----- \n",
      " 0   user_id     500 non-null    int64 \n",
      " 1   age         500 non-null    int64 \n",
      " 2   churn_date  38 non-null     object\n",
      " 3   city        500 non-null    object\n",
      " 4   first_name  500 non-null    object\n",
      " 5   last_name   500 non-null    object\n",
      " 6   reg_date    500 non-null    object\n",
      " 7   tariff      500 non-null    object\n",
      "dtypes: int64(2), object(6)\n",
      "memory usage: 31.4+ KB\n"
     ]
    },
    {
     "data": {
      "text/html": [
       "<div>\n",
       "<style scoped>\n",
       "    .dataframe tbody tr th:only-of-type {\n",
       "        vertical-align: middle;\n",
       "    }\n",
       "\n",
       "    .dataframe tbody tr th {\n",
       "        vertical-align: top;\n",
       "    }\n",
       "\n",
       "    .dataframe thead th {\n",
       "        text-align: right;\n",
       "    }\n",
       "</style>\n",
       "<table border=\"1\" class=\"dataframe\">\n",
       "  <thead>\n",
       "    <tr style=\"text-align: right;\">\n",
       "      <th></th>\n",
       "      <th>user_id</th>\n",
       "      <th>age</th>\n",
       "      <th>churn_date</th>\n",
       "      <th>city</th>\n",
       "      <th>first_name</th>\n",
       "      <th>last_name</th>\n",
       "      <th>reg_date</th>\n",
       "      <th>tariff</th>\n",
       "    </tr>\n",
       "  </thead>\n",
       "  <tbody>\n",
       "    <tr>\n",
       "      <th>0</th>\n",
       "      <td>1000</td>\n",
       "      <td>52</td>\n",
       "      <td>NaN</td>\n",
       "      <td>Краснодар</td>\n",
       "      <td>Рафаил</td>\n",
       "      <td>Верещагин</td>\n",
       "      <td>2018-05-25</td>\n",
       "      <td>ultra</td>\n",
       "    </tr>\n",
       "    <tr>\n",
       "      <th>1</th>\n",
       "      <td>1001</td>\n",
       "      <td>41</td>\n",
       "      <td>NaN</td>\n",
       "      <td>Москва</td>\n",
       "      <td>Иван</td>\n",
       "      <td>Ежов</td>\n",
       "      <td>2018-11-01</td>\n",
       "      <td>smart</td>\n",
       "    </tr>\n",
       "    <tr>\n",
       "      <th>2</th>\n",
       "      <td>1002</td>\n",
       "      <td>59</td>\n",
       "      <td>NaN</td>\n",
       "      <td>Стерлитамак</td>\n",
       "      <td>Евгений</td>\n",
       "      <td>Абрамович</td>\n",
       "      <td>2018-06-17</td>\n",
       "      <td>smart</td>\n",
       "    </tr>\n",
       "    <tr>\n",
       "      <th>3</th>\n",
       "      <td>1003</td>\n",
       "      <td>23</td>\n",
       "      <td>NaN</td>\n",
       "      <td>Москва</td>\n",
       "      <td>Белла</td>\n",
       "      <td>Белякова</td>\n",
       "      <td>2018-08-17</td>\n",
       "      <td>ultra</td>\n",
       "    </tr>\n",
       "    <tr>\n",
       "      <th>4</th>\n",
       "      <td>1004</td>\n",
       "      <td>68</td>\n",
       "      <td>NaN</td>\n",
       "      <td>Новокузнецк</td>\n",
       "      <td>Татьяна</td>\n",
       "      <td>Авдеенко</td>\n",
       "      <td>2018-05-14</td>\n",
       "      <td>ultra</td>\n",
       "    </tr>\n",
       "  </tbody>\n",
       "</table>\n",
       "</div>"
      ],
      "text/plain": [
       "   user_id  age churn_date         city first_name  last_name    reg_date  \\\n",
       "0     1000   52        NaN    Краснодар     Рафаил  Верещагин  2018-05-25   \n",
       "1     1001   41        NaN       Москва       Иван       Ежов  2018-11-01   \n",
       "2     1002   59        NaN  Стерлитамак    Евгений  Абрамович  2018-06-17   \n",
       "3     1003   23        NaN       Москва      Белла   Белякова  2018-08-17   \n",
       "4     1004   68        NaN  Новокузнецк    Татьяна   Авдеенко  2018-05-14   \n",
       "\n",
       "  tariff  \n",
       "0  ultra  \n",
       "1  smart  \n",
       "2  smart  \n",
       "3  ultra  \n",
       "4  ultra  "
      ]
     },
     "execution_count": 5,
     "metadata": {},
     "output_type": "execute_result"
    }
   ],
   "source": [
    "du = pd.read_csv('/datasets/users.csv')\n",
    "du.info()\n",
    "du.head()"
   ]
  },
  {
   "cell_type": "markdown",
   "metadata": {},
   "source": [
    "Вывод: Нужно объединить 5 таблиц в одну по user_id и тарифу (нужно переименовать в одной таблице столбец tariff_name в tariff). Добавить столбец месяц."
   ]
  },
  {
   "cell_type": "markdown",
   "metadata": {},
   "source": [
    "## . Подготовка данных"
   ]
  },
  {
   "cell_type": "code",
   "execution_count": 6,
   "metadata": {},
   "outputs": [],
   "source": [
    "# добавление столбца месяц\n",
    "dc['call_date'] = pd.to_datetime(dc['call_date'], format='%Y-%m-%d')\n",
    "dc['month'] = dc['call_date'].dt.month"
   ]
  },
  {
   "cell_type": "code",
   "execution_count": 8,
   "metadata": {},
   "outputs": [
    {
     "data": {
      "text/html": [
       "<div>\n",
       "<style scoped>\n",
       "    .dataframe tbody tr th:only-of-type {\n",
       "        vertical-align: middle;\n",
       "    }\n",
       "\n",
       "    .dataframe tbody tr th {\n",
       "        vertical-align: top;\n",
       "    }\n",
       "\n",
       "    .dataframe thead th {\n",
       "        text-align: right;\n",
       "    }\n",
       "</style>\n",
       "<table border=\"1\" class=\"dataframe\">\n",
       "  <thead>\n",
       "    <tr style=\"text-align: right;\">\n",
       "      <th></th>\n",
       "      <th>id</th>\n",
       "      <th>call_date</th>\n",
       "      <th>duration</th>\n",
       "      <th>user_id</th>\n",
       "      <th>month</th>\n",
       "    </tr>\n",
       "  </thead>\n",
       "  <tbody>\n",
       "    <tr>\n",
       "      <th>0</th>\n",
       "      <td>1000_0</td>\n",
       "      <td>2018-07-25</td>\n",
       "      <td>0.0</td>\n",
       "      <td>1000</td>\n",
       "      <td>7</td>\n",
       "    </tr>\n",
       "    <tr>\n",
       "      <th>1</th>\n",
       "      <td>1000_1</td>\n",
       "      <td>2018-08-17</td>\n",
       "      <td>0.0</td>\n",
       "      <td>1000</td>\n",
       "      <td>8</td>\n",
       "    </tr>\n",
       "    <tr>\n",
       "      <th>2</th>\n",
       "      <td>1000_2</td>\n",
       "      <td>2018-06-11</td>\n",
       "      <td>3.0</td>\n",
       "      <td>1000</td>\n",
       "      <td>6</td>\n",
       "    </tr>\n",
       "    <tr>\n",
       "      <th>3</th>\n",
       "      <td>1000_3</td>\n",
       "      <td>2018-09-21</td>\n",
       "      <td>14.0</td>\n",
       "      <td>1000</td>\n",
       "      <td>9</td>\n",
       "    </tr>\n",
       "    <tr>\n",
       "      <th>4</th>\n",
       "      <td>1000_4</td>\n",
       "      <td>2018-12-15</td>\n",
       "      <td>6.0</td>\n",
       "      <td>1000</td>\n",
       "      <td>12</td>\n",
       "    </tr>\n",
       "  </tbody>\n",
       "</table>\n",
       "</div>"
      ],
      "text/plain": [
       "       id  call_date  duration  user_id  month\n",
       "0  1000_0 2018-07-25       0.0     1000      7\n",
       "1  1000_1 2018-08-17       0.0     1000      8\n",
       "2  1000_2 2018-06-11       3.0     1000      6\n",
       "3  1000_3 2018-09-21      14.0     1000      9\n",
       "4  1000_4 2018-12-15       6.0     1000     12"
      ]
     },
     "execution_count": 8,
     "metadata": {},
     "output_type": "execute_result"
    }
   ],
   "source": [
    "# окргуление минут в сторону увеличения\n",
    "\n",
    "dc['duration'] = np.ceil(dc['duration'])\n",
    "dc.head()"
   ]
  },
  {
   "cell_type": "code",
   "execution_count": 9,
   "metadata": {},
   "outputs": [
    {
     "data": {
      "text/html": [
       "<div>\n",
       "<style scoped>\n",
       "    .dataframe tbody tr th:only-of-type {\n",
       "        vertical-align: middle;\n",
       "    }\n",
       "\n",
       "    .dataframe tbody tr th {\n",
       "        vertical-align: top;\n",
       "    }\n",
       "\n",
       "    .dataframe thead th {\n",
       "        text-align: right;\n",
       "    }\n",
       "</style>\n",
       "<table border=\"1\" class=\"dataframe\">\n",
       "  <thead>\n",
       "    <tr style=\"text-align: right;\">\n",
       "      <th></th>\n",
       "      <th>user_id</th>\n",
       "      <th>month</th>\n",
       "      <th>duration</th>\n",
       "    </tr>\n",
       "  </thead>\n",
       "  <tbody>\n",
       "    <tr>\n",
       "      <th>0</th>\n",
       "      <td>1000</td>\n",
       "      <td>5</td>\n",
       "      <td>159.0</td>\n",
       "    </tr>\n",
       "    <tr>\n",
       "      <th>1</th>\n",
       "      <td>1000</td>\n",
       "      <td>6</td>\n",
       "      <td>172.0</td>\n",
       "    </tr>\n",
       "    <tr>\n",
       "      <th>2</th>\n",
       "      <td>1000</td>\n",
       "      <td>7</td>\n",
       "      <td>340.0</td>\n",
       "    </tr>\n",
       "    <tr>\n",
       "      <th>3</th>\n",
       "      <td>1000</td>\n",
       "      <td>8</td>\n",
       "      <td>408.0</td>\n",
       "    </tr>\n",
       "    <tr>\n",
       "      <th>4</th>\n",
       "      <td>1000</td>\n",
       "      <td>9</td>\n",
       "      <td>466.0</td>\n",
       "    </tr>\n",
       "  </tbody>\n",
       "</table>\n",
       "</div>"
      ],
      "text/plain": [
       "   user_id  month  duration\n",
       "0     1000      5     159.0\n",
       "1     1000      6     172.0\n",
       "2     1000      7     340.0\n",
       "3     1000      8     408.0\n",
       "4     1000      9     466.0"
      ]
     },
     "execution_count": 9,
     "metadata": {},
     "output_type": "execute_result"
    }
   ],
   "source": [
    "# группировка по пользователю и месяцу с расчетом общей длительностьи звонков\n",
    "\n",
    "dc = dc.rename(columns = {'call_date' : 'date'})\n",
    "dc = dc.groupby(['user_id', 'month']).agg({'duration': 'sum'}).reset_index()\n",
    "dc.head()"
   ]
  },
  {
   "cell_type": "code",
   "execution_count": 10,
   "metadata": {},
   "outputs": [],
   "source": [
    "#добавление столбца месяц\n",
    "di['session_date'] = pd.to_datetime(di['session_date'], format='%Y-%m-%d')\n",
    "di['month'] = di['session_date'].dt.month\n",
    "di = di.rename(columns = {'session_date' : 'date'})\n",
    "di['date'] = di['date'].astype('datetime64[M]')"
   ]
  },
  {
   "cell_type": "code",
   "execution_count": 11,
   "metadata": {},
   "outputs": [
    {
     "data": {
      "text/html": [
       "<div>\n",
       "<style scoped>\n",
       "    .dataframe tbody tr th:only-of-type {\n",
       "        vertical-align: middle;\n",
       "    }\n",
       "\n",
       "    .dataframe tbody tr th {\n",
       "        vertical-align: top;\n",
       "    }\n",
       "\n",
       "    .dataframe thead th {\n",
       "        text-align: right;\n",
       "    }\n",
       "</style>\n",
       "<table border=\"1\" class=\"dataframe\">\n",
       "  <thead>\n",
       "    <tr style=\"text-align: right;\">\n",
       "      <th></th>\n",
       "      <th>user_id</th>\n",
       "      <th>month</th>\n",
       "      <th>mb_used</th>\n",
       "    </tr>\n",
       "  </thead>\n",
       "  <tbody>\n",
       "    <tr>\n",
       "      <th>0</th>\n",
       "      <td>1000</td>\n",
       "      <td>5</td>\n",
       "      <td>2253.49</td>\n",
       "    </tr>\n",
       "    <tr>\n",
       "      <th>1</th>\n",
       "      <td>1000</td>\n",
       "      <td>6</td>\n",
       "      <td>23233.77</td>\n",
       "    </tr>\n",
       "    <tr>\n",
       "      <th>2</th>\n",
       "      <td>1000</td>\n",
       "      <td>7</td>\n",
       "      <td>14003.64</td>\n",
       "    </tr>\n",
       "    <tr>\n",
       "      <th>3</th>\n",
       "      <td>1000</td>\n",
       "      <td>8</td>\n",
       "      <td>14055.93</td>\n",
       "    </tr>\n",
       "    <tr>\n",
       "      <th>4</th>\n",
       "      <td>1000</td>\n",
       "      <td>9</td>\n",
       "      <td>14568.91</td>\n",
       "    </tr>\n",
       "  </tbody>\n",
       "</table>\n",
       "</div>"
      ],
      "text/plain": [
       "   user_id  month   mb_used\n",
       "0     1000      5   2253.49\n",
       "1     1000      6  23233.77\n",
       "2     1000      7  14003.64\n",
       "3     1000      8  14055.93\n",
       "4     1000      9  14568.91"
      ]
     },
     "execution_count": 11,
     "metadata": {},
     "output_type": "execute_result"
    }
   ],
   "source": [
    "# группировка по пользователю и месяцу с расчетом общего объема трафика по месяцу\n",
    "di = di.groupby(['user_id', 'month']).agg({'mb_used': 'sum'}).reset_index()\n",
    "di.head()"
   ]
  },
  {
   "cell_type": "code",
   "execution_count": 12,
   "metadata": {},
   "outputs": [
    {
     "data": {
      "text/html": [
       "<div>\n",
       "<style scoped>\n",
       "    .dataframe tbody tr th:only-of-type {\n",
       "        vertical-align: middle;\n",
       "    }\n",
       "\n",
       "    .dataframe tbody tr th {\n",
       "        vertical-align: top;\n",
       "    }\n",
       "\n",
       "    .dataframe thead th {\n",
       "        text-align: right;\n",
       "    }\n",
       "</style>\n",
       "<table border=\"1\" class=\"dataframe\">\n",
       "  <thead>\n",
       "    <tr style=\"text-align: right;\">\n",
       "      <th></th>\n",
       "      <th>user_id</th>\n",
       "      <th>month</th>\n",
       "      <th>mb_used</th>\n",
       "      <th>gb_used</th>\n",
       "    </tr>\n",
       "  </thead>\n",
       "  <tbody>\n",
       "    <tr>\n",
       "      <th>0</th>\n",
       "      <td>1000</td>\n",
       "      <td>5</td>\n",
       "      <td>2253.49</td>\n",
       "      <td>3.0</td>\n",
       "    </tr>\n",
       "    <tr>\n",
       "      <th>1</th>\n",
       "      <td>1000</td>\n",
       "      <td>6</td>\n",
       "      <td>23233.77</td>\n",
       "      <td>23.0</td>\n",
       "    </tr>\n",
       "    <tr>\n",
       "      <th>2</th>\n",
       "      <td>1000</td>\n",
       "      <td>7</td>\n",
       "      <td>14003.64</td>\n",
       "      <td>14.0</td>\n",
       "    </tr>\n",
       "    <tr>\n",
       "      <th>3</th>\n",
       "      <td>1000</td>\n",
       "      <td>8</td>\n",
       "      <td>14055.93</td>\n",
       "      <td>14.0</td>\n",
       "    </tr>\n",
       "    <tr>\n",
       "      <th>4</th>\n",
       "      <td>1000</td>\n",
       "      <td>9</td>\n",
       "      <td>14568.91</td>\n",
       "      <td>15.0</td>\n",
       "    </tr>\n",
       "  </tbody>\n",
       "</table>\n",
       "</div>"
      ],
      "text/plain": [
       "   user_id  month   mb_used  gb_used\n",
       "0     1000      5   2253.49      3.0\n",
       "1     1000      6  23233.77     23.0\n",
       "2     1000      7  14003.64     14.0\n",
       "3     1000      8  14055.93     14.0\n",
       "4     1000      9  14568.91     15.0"
      ]
     },
     "execution_count": 12,
     "metadata": {},
     "output_type": "execute_result"
    }
   ],
   "source": [
    "# Добавление столбца гигабайты\n",
    "di['gb_used'] = di['mb_used']/1024\n",
    "di['gb_used'] = di['gb_used'].apply(np.ceil)\n",
    "di.head()"
   ]
  },
  {
   "cell_type": "code",
   "execution_count": 13,
   "metadata": {},
   "outputs": [
    {
     "data": {
      "text/html": [
       "<div>\n",
       "<style scoped>\n",
       "    .dataframe tbody tr th:only-of-type {\n",
       "        vertical-align: middle;\n",
       "    }\n",
       "\n",
       "    .dataframe tbody tr th {\n",
       "        vertical-align: top;\n",
       "    }\n",
       "\n",
       "    .dataframe thead th {\n",
       "        text-align: right;\n",
       "    }\n",
       "</style>\n",
       "<table border=\"1\" class=\"dataframe\">\n",
       "  <thead>\n",
       "    <tr style=\"text-align: right;\">\n",
       "      <th></th>\n",
       "      <th>id</th>\n",
       "      <th>date</th>\n",
       "      <th>user_id</th>\n",
       "      <th>month</th>\n",
       "    </tr>\n",
       "  </thead>\n",
       "  <tbody>\n",
       "    <tr>\n",
       "      <th>0</th>\n",
       "      <td>1000_0</td>\n",
       "      <td>2018-06-01</td>\n",
       "      <td>1000</td>\n",
       "      <td>6</td>\n",
       "    </tr>\n",
       "    <tr>\n",
       "      <th>1</th>\n",
       "      <td>1000_1</td>\n",
       "      <td>2018-10-01</td>\n",
       "      <td>1000</td>\n",
       "      <td>10</td>\n",
       "    </tr>\n",
       "    <tr>\n",
       "      <th>2</th>\n",
       "      <td>1000_2</td>\n",
       "      <td>2018-08-01</td>\n",
       "      <td>1000</td>\n",
       "      <td>8</td>\n",
       "    </tr>\n",
       "    <tr>\n",
       "      <th>3</th>\n",
       "      <td>1000_3</td>\n",
       "      <td>2018-06-01</td>\n",
       "      <td>1000</td>\n",
       "      <td>6</td>\n",
       "    </tr>\n",
       "    <tr>\n",
       "      <th>4</th>\n",
       "      <td>1000_4</td>\n",
       "      <td>2018-12-01</td>\n",
       "      <td>1000</td>\n",
       "      <td>12</td>\n",
       "    </tr>\n",
       "  </tbody>\n",
       "</table>\n",
       "</div>"
      ],
      "text/plain": [
       "       id       date  user_id  month\n",
       "0  1000_0 2018-06-01     1000      6\n",
       "1  1000_1 2018-10-01     1000     10\n",
       "2  1000_2 2018-08-01     1000      8\n",
       "3  1000_3 2018-06-01     1000      6\n",
       "4  1000_4 2018-12-01     1000     12"
      ]
     },
     "execution_count": 13,
     "metadata": {},
     "output_type": "execute_result"
    }
   ],
   "source": [
    "#добавление столбца месяц \n",
    "dm['message_date'] = pd.to_datetime(dm['message_date'], format='%Y-%m-%d')\n",
    "dm['month'] = dm['message_date'].dt.month\n",
    "dm = dm.rename(columns = {'message_date' : 'date'})\n",
    "dm['date'] = dm['date'].astype('datetime64[M]')\n",
    "dm.head()"
   ]
  },
  {
   "cell_type": "code",
   "execution_count": 14,
   "metadata": {},
   "outputs": [
    {
     "data": {
      "text/html": [
       "<div>\n",
       "<style scoped>\n",
       "    .dataframe tbody tr th:only-of-type {\n",
       "        vertical-align: middle;\n",
       "    }\n",
       "\n",
       "    .dataframe tbody tr th {\n",
       "        vertical-align: top;\n",
       "    }\n",
       "\n",
       "    .dataframe thead th {\n",
       "        text-align: right;\n",
       "    }\n",
       "</style>\n",
       "<table border=\"1\" class=\"dataframe\">\n",
       "  <thead>\n",
       "    <tr style=\"text-align: right;\">\n",
       "      <th></th>\n",
       "      <th>user_id</th>\n",
       "      <th>month</th>\n",
       "      <th>id</th>\n",
       "    </tr>\n",
       "  </thead>\n",
       "  <tbody>\n",
       "    <tr>\n",
       "      <th>0</th>\n",
       "      <td>1000</td>\n",
       "      <td>5</td>\n",
       "      <td>22</td>\n",
       "    </tr>\n",
       "    <tr>\n",
       "      <th>1</th>\n",
       "      <td>1000</td>\n",
       "      <td>6</td>\n",
       "      <td>60</td>\n",
       "    </tr>\n",
       "    <tr>\n",
       "      <th>2</th>\n",
       "      <td>1000</td>\n",
       "      <td>7</td>\n",
       "      <td>75</td>\n",
       "    </tr>\n",
       "    <tr>\n",
       "      <th>3</th>\n",
       "      <td>1000</td>\n",
       "      <td>8</td>\n",
       "      <td>81</td>\n",
       "    </tr>\n",
       "    <tr>\n",
       "      <th>4</th>\n",
       "      <td>1000</td>\n",
       "      <td>9</td>\n",
       "      <td>57</td>\n",
       "    </tr>\n",
       "  </tbody>\n",
       "</table>\n",
       "</div>"
      ],
      "text/plain": [
       "   user_id  month  id\n",
       "0     1000      5  22\n",
       "1     1000      6  60\n",
       "2     1000      7  75\n",
       "3     1000      8  81\n",
       "4     1000      9  57"
      ]
     },
     "execution_count": 14,
     "metadata": {},
     "output_type": "execute_result"
    }
   ],
   "source": [
    "# группировка по пользователю и месяцу с расчетом общего количества смс\n",
    "dm = dm.groupby(['user_id', 'month']).agg({'id': 'count'}).reset_index()\n",
    "dm.head()"
   ]
  },
  {
   "cell_type": "code",
   "execution_count": 15,
   "metadata": {},
   "outputs": [],
   "source": [
    "# переименование столбца по причине разности названий столцов tarif и tariff_name\n",
    "dt = dt.rename(columns = {'tariff_name' : 'tariff'})\n",
    "\n"
   ]
  },
  {
   "cell_type": "markdown",
   "metadata": {},
   "source": [
    "### Объединение таблиц"
   ]
  },
  {
   "cell_type": "code",
   "execution_count": 16,
   "metadata": {},
   "outputs": [
    {
     "data": {
      "text/html": [
       "<div>\n",
       "<style scoped>\n",
       "    .dataframe tbody tr th:only-of-type {\n",
       "        vertical-align: middle;\n",
       "    }\n",
       "\n",
       "    .dataframe tbody tr th {\n",
       "        vertical-align: top;\n",
       "    }\n",
       "\n",
       "    .dataframe thead th {\n",
       "        text-align: right;\n",
       "    }\n",
       "</style>\n",
       "<table border=\"1\" class=\"dataframe\">\n",
       "  <thead>\n",
       "    <tr style=\"text-align: right;\">\n",
       "      <th></th>\n",
       "      <th>user_id</th>\n",
       "      <th>month</th>\n",
       "      <th>duration</th>\n",
       "      <th>mb_used</th>\n",
       "      <th>gb_used</th>\n",
       "    </tr>\n",
       "  </thead>\n",
       "  <tbody>\n",
       "    <tr>\n",
       "      <th>0</th>\n",
       "      <td>1000</td>\n",
       "      <td>5</td>\n",
       "      <td>159.0</td>\n",
       "      <td>2253.49</td>\n",
       "      <td>3.0</td>\n",
       "    </tr>\n",
       "    <tr>\n",
       "      <th>1</th>\n",
       "      <td>1000</td>\n",
       "      <td>6</td>\n",
       "      <td>172.0</td>\n",
       "      <td>23233.77</td>\n",
       "      <td>23.0</td>\n",
       "    </tr>\n",
       "    <tr>\n",
       "      <th>2</th>\n",
       "      <td>1000</td>\n",
       "      <td>7</td>\n",
       "      <td>340.0</td>\n",
       "      <td>14003.64</td>\n",
       "      <td>14.0</td>\n",
       "    </tr>\n",
       "    <tr>\n",
       "      <th>3</th>\n",
       "      <td>1000</td>\n",
       "      <td>8</td>\n",
       "      <td>408.0</td>\n",
       "      <td>14055.93</td>\n",
       "      <td>14.0</td>\n",
       "    </tr>\n",
       "    <tr>\n",
       "      <th>4</th>\n",
       "      <td>1000</td>\n",
       "      <td>9</td>\n",
       "      <td>466.0</td>\n",
       "      <td>14568.91</td>\n",
       "      <td>15.0</td>\n",
       "    </tr>\n",
       "  </tbody>\n",
       "</table>\n",
       "</div>"
      ],
      "text/plain": [
       "   user_id  month  duration   mb_used  gb_used\n",
       "0     1000      5     159.0   2253.49      3.0\n",
       "1     1000      6     172.0  23233.77     23.0\n",
       "2     1000      7     340.0  14003.64     14.0\n",
       "3     1000      8     408.0  14055.93     14.0\n",
       "4     1000      9     466.0  14568.91     15.0"
      ]
     },
     "execution_count": 16,
     "metadata": {},
     "output_type": "execute_result"
    }
   ],
   "source": [
    "# объединяем звонки и интернет \n",
    "data = dc.merge(di, on = ['user_id', 'month'], how = 'outer')\n",
    "data.head()"
   ]
  },
  {
   "cell_type": "code",
   "execution_count": 17,
   "metadata": {},
   "outputs": [
    {
     "data": {
      "text/html": [
       "<div>\n",
       "<style scoped>\n",
       "    .dataframe tbody tr th:only-of-type {\n",
       "        vertical-align: middle;\n",
       "    }\n",
       "\n",
       "    .dataframe tbody tr th {\n",
       "        vertical-align: top;\n",
       "    }\n",
       "\n",
       "    .dataframe thead th {\n",
       "        text-align: right;\n",
       "    }\n",
       "</style>\n",
       "<table border=\"1\" class=\"dataframe\">\n",
       "  <thead>\n",
       "    <tr style=\"text-align: right;\">\n",
       "      <th></th>\n",
       "      <th>user_id</th>\n",
       "      <th>month</th>\n",
       "      <th>duration</th>\n",
       "      <th>mb_used</th>\n",
       "      <th>gb_used</th>\n",
       "      <th>id</th>\n",
       "    </tr>\n",
       "  </thead>\n",
       "  <tbody>\n",
       "    <tr>\n",
       "      <th>0</th>\n",
       "      <td>1000</td>\n",
       "      <td>5</td>\n",
       "      <td>159.0</td>\n",
       "      <td>2253.49</td>\n",
       "      <td>3.0</td>\n",
       "      <td>22.0</td>\n",
       "    </tr>\n",
       "    <tr>\n",
       "      <th>1</th>\n",
       "      <td>1000</td>\n",
       "      <td>6</td>\n",
       "      <td>172.0</td>\n",
       "      <td>23233.77</td>\n",
       "      <td>23.0</td>\n",
       "      <td>60.0</td>\n",
       "    </tr>\n",
       "    <tr>\n",
       "      <th>2</th>\n",
       "      <td>1000</td>\n",
       "      <td>7</td>\n",
       "      <td>340.0</td>\n",
       "      <td>14003.64</td>\n",
       "      <td>14.0</td>\n",
       "      <td>75.0</td>\n",
       "    </tr>\n",
       "    <tr>\n",
       "      <th>3</th>\n",
       "      <td>1000</td>\n",
       "      <td>8</td>\n",
       "      <td>408.0</td>\n",
       "      <td>14055.93</td>\n",
       "      <td>14.0</td>\n",
       "      <td>81.0</td>\n",
       "    </tr>\n",
       "    <tr>\n",
       "      <th>4</th>\n",
       "      <td>1000</td>\n",
       "      <td>9</td>\n",
       "      <td>466.0</td>\n",
       "      <td>14568.91</td>\n",
       "      <td>15.0</td>\n",
       "      <td>57.0</td>\n",
       "    </tr>\n",
       "  </tbody>\n",
       "</table>\n",
       "</div>"
      ],
      "text/plain": [
       "   user_id  month  duration   mb_used  gb_used    id\n",
       "0     1000      5     159.0   2253.49      3.0  22.0\n",
       "1     1000      6     172.0  23233.77     23.0  60.0\n",
       "2     1000      7     340.0  14003.64     14.0  75.0\n",
       "3     1000      8     408.0  14055.93     14.0  81.0\n",
       "4     1000      9     466.0  14568.91     15.0  57.0"
      ]
     },
     "execution_count": 17,
     "metadata": {},
     "output_type": "execute_result"
    }
   ],
   "source": [
    "# добавляем смски\n",
    "data_2 = data.merge(dm, on = ['user_id', 'month'], how = 'outer')\n",
    "data_2.head()"
   ]
  },
  {
   "cell_type": "code",
   "execution_count": 18,
   "metadata": {},
   "outputs": [
    {
     "data": {
      "text/html": [
       "<div>\n",
       "<style scoped>\n",
       "    .dataframe tbody tr th:only-of-type {\n",
       "        vertical-align: middle;\n",
       "    }\n",
       "\n",
       "    .dataframe tbody tr th {\n",
       "        vertical-align: top;\n",
       "    }\n",
       "\n",
       "    .dataframe thead th {\n",
       "        text-align: right;\n",
       "    }\n",
       "</style>\n",
       "<table border=\"1\" class=\"dataframe\">\n",
       "  <thead>\n",
       "    <tr style=\"text-align: right;\">\n",
       "      <th></th>\n",
       "      <th>user_id</th>\n",
       "      <th>month</th>\n",
       "      <th>duration</th>\n",
       "      <th>mb_used</th>\n",
       "      <th>gb_used</th>\n",
       "      <th>id</th>\n",
       "      <th>age</th>\n",
       "      <th>churn_date</th>\n",
       "      <th>city</th>\n",
       "      <th>first_name</th>\n",
       "      <th>last_name</th>\n",
       "      <th>reg_date</th>\n",
       "      <th>tariff</th>\n",
       "    </tr>\n",
       "  </thead>\n",
       "  <tbody>\n",
       "    <tr>\n",
       "      <th>0</th>\n",
       "      <td>1000</td>\n",
       "      <td>5.0</td>\n",
       "      <td>159.0</td>\n",
       "      <td>2253.49</td>\n",
       "      <td>3.0</td>\n",
       "      <td>22.0</td>\n",
       "      <td>52</td>\n",
       "      <td>NaN</td>\n",
       "      <td>Краснодар</td>\n",
       "      <td>Рафаил</td>\n",
       "      <td>Верещагин</td>\n",
       "      <td>2018-05-25</td>\n",
       "      <td>ultra</td>\n",
       "    </tr>\n",
       "    <tr>\n",
       "      <th>1</th>\n",
       "      <td>1000</td>\n",
       "      <td>6.0</td>\n",
       "      <td>172.0</td>\n",
       "      <td>23233.77</td>\n",
       "      <td>23.0</td>\n",
       "      <td>60.0</td>\n",
       "      <td>52</td>\n",
       "      <td>NaN</td>\n",
       "      <td>Краснодар</td>\n",
       "      <td>Рафаил</td>\n",
       "      <td>Верещагин</td>\n",
       "      <td>2018-05-25</td>\n",
       "      <td>ultra</td>\n",
       "    </tr>\n",
       "    <tr>\n",
       "      <th>2</th>\n",
       "      <td>1000</td>\n",
       "      <td>7.0</td>\n",
       "      <td>340.0</td>\n",
       "      <td>14003.64</td>\n",
       "      <td>14.0</td>\n",
       "      <td>75.0</td>\n",
       "      <td>52</td>\n",
       "      <td>NaN</td>\n",
       "      <td>Краснодар</td>\n",
       "      <td>Рафаил</td>\n",
       "      <td>Верещагин</td>\n",
       "      <td>2018-05-25</td>\n",
       "      <td>ultra</td>\n",
       "    </tr>\n",
       "    <tr>\n",
       "      <th>3</th>\n",
       "      <td>1000</td>\n",
       "      <td>8.0</td>\n",
       "      <td>408.0</td>\n",
       "      <td>14055.93</td>\n",
       "      <td>14.0</td>\n",
       "      <td>81.0</td>\n",
       "      <td>52</td>\n",
       "      <td>NaN</td>\n",
       "      <td>Краснодар</td>\n",
       "      <td>Рафаил</td>\n",
       "      <td>Верещагин</td>\n",
       "      <td>2018-05-25</td>\n",
       "      <td>ultra</td>\n",
       "    </tr>\n",
       "    <tr>\n",
       "      <th>4</th>\n",
       "      <td>1000</td>\n",
       "      <td>9.0</td>\n",
       "      <td>466.0</td>\n",
       "      <td>14568.91</td>\n",
       "      <td>15.0</td>\n",
       "      <td>57.0</td>\n",
       "      <td>52</td>\n",
       "      <td>NaN</td>\n",
       "      <td>Краснодар</td>\n",
       "      <td>Рафаил</td>\n",
       "      <td>Верещагин</td>\n",
       "      <td>2018-05-25</td>\n",
       "      <td>ultra</td>\n",
       "    </tr>\n",
       "  </tbody>\n",
       "</table>\n",
       "</div>"
      ],
      "text/plain": [
       "   user_id  month  duration   mb_used  gb_used    id  age churn_date  \\\n",
       "0     1000    5.0     159.0   2253.49      3.0  22.0   52        NaN   \n",
       "1     1000    6.0     172.0  23233.77     23.0  60.0   52        NaN   \n",
       "2     1000    7.0     340.0  14003.64     14.0  75.0   52        NaN   \n",
       "3     1000    8.0     408.0  14055.93     14.0  81.0   52        NaN   \n",
       "4     1000    9.0     466.0  14568.91     15.0  57.0   52        NaN   \n",
       "\n",
       "        city first_name  last_name    reg_date tariff  \n",
       "0  Краснодар     Рафаил  Верещагин  2018-05-25  ultra  \n",
       "1  Краснодар     Рафаил  Верещагин  2018-05-25  ultra  \n",
       "2  Краснодар     Рафаил  Верещагин  2018-05-25  ultra  \n",
       "3  Краснодар     Рафаил  Верещагин  2018-05-25  ultra  \n",
       "4  Краснодар     Рафаил  Верещагин  2018-05-25  ultra  "
      ]
     },
     "execution_count": 18,
     "metadata": {},
     "output_type": "execute_result"
    }
   ],
   "source": [
    "# добавляем пользователей\n",
    "data_3 = data_2.merge(du, on = ['user_id'], how = 'outer')\n",
    "data_3.head()"
   ]
  },
  {
   "cell_type": "code",
   "execution_count": 19,
   "metadata": {},
   "outputs": [
    {
     "data": {
      "text/html": [
       "<div>\n",
       "<style scoped>\n",
       "    .dataframe tbody tr th:only-of-type {\n",
       "        vertical-align: middle;\n",
       "    }\n",
       "\n",
       "    .dataframe tbody tr th {\n",
       "        vertical-align: top;\n",
       "    }\n",
       "\n",
       "    .dataframe thead th {\n",
       "        text-align: right;\n",
       "    }\n",
       "</style>\n",
       "<table border=\"1\" class=\"dataframe\">\n",
       "  <thead>\n",
       "    <tr style=\"text-align: right;\">\n",
       "      <th></th>\n",
       "      <th>user_id</th>\n",
       "      <th>month</th>\n",
       "      <th>duration</th>\n",
       "      <th>mb_used</th>\n",
       "      <th>gb_used</th>\n",
       "      <th>id</th>\n",
       "      <th>age</th>\n",
       "      <th>churn_date</th>\n",
       "      <th>city</th>\n",
       "      <th>first_name</th>\n",
       "      <th>last_name</th>\n",
       "      <th>reg_date</th>\n",
       "      <th>tariff</th>\n",
       "      <th>messages_included</th>\n",
       "      <th>mb_per_month_included</th>\n",
       "      <th>minutes_included</th>\n",
       "      <th>rub_monthly_fee</th>\n",
       "      <th>rub_per_gb</th>\n",
       "      <th>rub_per_message</th>\n",
       "      <th>rub_per_minute</th>\n",
       "    </tr>\n",
       "  </thead>\n",
       "  <tbody>\n",
       "    <tr>\n",
       "      <th>0</th>\n",
       "      <td>1000</td>\n",
       "      <td>5.0</td>\n",
       "      <td>159.0</td>\n",
       "      <td>2253.49</td>\n",
       "      <td>3.0</td>\n",
       "      <td>22.0</td>\n",
       "      <td>52</td>\n",
       "      <td>NaN</td>\n",
       "      <td>Краснодар</td>\n",
       "      <td>Рафаил</td>\n",
       "      <td>Верещагин</td>\n",
       "      <td>2018-05-25</td>\n",
       "      <td>ultra</td>\n",
       "      <td>1000</td>\n",
       "      <td>30720</td>\n",
       "      <td>3000</td>\n",
       "      <td>1950</td>\n",
       "      <td>150</td>\n",
       "      <td>1</td>\n",
       "      <td>1</td>\n",
       "    </tr>\n",
       "    <tr>\n",
       "      <th>1</th>\n",
       "      <td>1000</td>\n",
       "      <td>6.0</td>\n",
       "      <td>172.0</td>\n",
       "      <td>23233.77</td>\n",
       "      <td>23.0</td>\n",
       "      <td>60.0</td>\n",
       "      <td>52</td>\n",
       "      <td>NaN</td>\n",
       "      <td>Краснодар</td>\n",
       "      <td>Рафаил</td>\n",
       "      <td>Верещагин</td>\n",
       "      <td>2018-05-25</td>\n",
       "      <td>ultra</td>\n",
       "      <td>1000</td>\n",
       "      <td>30720</td>\n",
       "      <td>3000</td>\n",
       "      <td>1950</td>\n",
       "      <td>150</td>\n",
       "      <td>1</td>\n",
       "      <td>1</td>\n",
       "    </tr>\n",
       "    <tr>\n",
       "      <th>2</th>\n",
       "      <td>1000</td>\n",
       "      <td>7.0</td>\n",
       "      <td>340.0</td>\n",
       "      <td>14003.64</td>\n",
       "      <td>14.0</td>\n",
       "      <td>75.0</td>\n",
       "      <td>52</td>\n",
       "      <td>NaN</td>\n",
       "      <td>Краснодар</td>\n",
       "      <td>Рафаил</td>\n",
       "      <td>Верещагин</td>\n",
       "      <td>2018-05-25</td>\n",
       "      <td>ultra</td>\n",
       "      <td>1000</td>\n",
       "      <td>30720</td>\n",
       "      <td>3000</td>\n",
       "      <td>1950</td>\n",
       "      <td>150</td>\n",
       "      <td>1</td>\n",
       "      <td>1</td>\n",
       "    </tr>\n",
       "    <tr>\n",
       "      <th>3</th>\n",
       "      <td>1000</td>\n",
       "      <td>8.0</td>\n",
       "      <td>408.0</td>\n",
       "      <td>14055.93</td>\n",
       "      <td>14.0</td>\n",
       "      <td>81.0</td>\n",
       "      <td>52</td>\n",
       "      <td>NaN</td>\n",
       "      <td>Краснодар</td>\n",
       "      <td>Рафаил</td>\n",
       "      <td>Верещагин</td>\n",
       "      <td>2018-05-25</td>\n",
       "      <td>ultra</td>\n",
       "      <td>1000</td>\n",
       "      <td>30720</td>\n",
       "      <td>3000</td>\n",
       "      <td>1950</td>\n",
       "      <td>150</td>\n",
       "      <td>1</td>\n",
       "      <td>1</td>\n",
       "    </tr>\n",
       "    <tr>\n",
       "      <th>4</th>\n",
       "      <td>1000</td>\n",
       "      <td>9.0</td>\n",
       "      <td>466.0</td>\n",
       "      <td>14568.91</td>\n",
       "      <td>15.0</td>\n",
       "      <td>57.0</td>\n",
       "      <td>52</td>\n",
       "      <td>NaN</td>\n",
       "      <td>Краснодар</td>\n",
       "      <td>Рафаил</td>\n",
       "      <td>Верещагин</td>\n",
       "      <td>2018-05-25</td>\n",
       "      <td>ultra</td>\n",
       "      <td>1000</td>\n",
       "      <td>30720</td>\n",
       "      <td>3000</td>\n",
       "      <td>1950</td>\n",
       "      <td>150</td>\n",
       "      <td>1</td>\n",
       "      <td>1</td>\n",
       "    </tr>\n",
       "    <tr>\n",
       "      <th>5</th>\n",
       "      <td>1000</td>\n",
       "      <td>10.0</td>\n",
       "      <td>350.0</td>\n",
       "      <td>14702.49</td>\n",
       "      <td>15.0</td>\n",
       "      <td>73.0</td>\n",
       "      <td>52</td>\n",
       "      <td>NaN</td>\n",
       "      <td>Краснодар</td>\n",
       "      <td>Рафаил</td>\n",
       "      <td>Верещагин</td>\n",
       "      <td>2018-05-25</td>\n",
       "      <td>ultra</td>\n",
       "      <td>1000</td>\n",
       "      <td>30720</td>\n",
       "      <td>3000</td>\n",
       "      <td>1950</td>\n",
       "      <td>150</td>\n",
       "      <td>1</td>\n",
       "      <td>1</td>\n",
       "    </tr>\n",
       "    <tr>\n",
       "      <th>6</th>\n",
       "      <td>1000</td>\n",
       "      <td>11.0</td>\n",
       "      <td>338.0</td>\n",
       "      <td>14756.47</td>\n",
       "      <td>15.0</td>\n",
       "      <td>58.0</td>\n",
       "      <td>52</td>\n",
       "      <td>NaN</td>\n",
       "      <td>Краснодар</td>\n",
       "      <td>Рафаил</td>\n",
       "      <td>Верещагин</td>\n",
       "      <td>2018-05-25</td>\n",
       "      <td>ultra</td>\n",
       "      <td>1000</td>\n",
       "      <td>30720</td>\n",
       "      <td>3000</td>\n",
       "      <td>1950</td>\n",
       "      <td>150</td>\n",
       "      <td>1</td>\n",
       "      <td>1</td>\n",
       "    </tr>\n",
       "    <tr>\n",
       "      <th>7</th>\n",
       "      <td>1000</td>\n",
       "      <td>12.0</td>\n",
       "      <td>333.0</td>\n",
       "      <td>9817.61</td>\n",
       "      <td>10.0</td>\n",
       "      <td>70.0</td>\n",
       "      <td>52</td>\n",
       "      <td>NaN</td>\n",
       "      <td>Краснодар</td>\n",
       "      <td>Рафаил</td>\n",
       "      <td>Верещагин</td>\n",
       "      <td>2018-05-25</td>\n",
       "      <td>ultra</td>\n",
       "      <td>1000</td>\n",
       "      <td>30720</td>\n",
       "      <td>3000</td>\n",
       "      <td>1950</td>\n",
       "      <td>150</td>\n",
       "      <td>1</td>\n",
       "      <td>1</td>\n",
       "    </tr>\n",
       "    <tr>\n",
       "      <th>8</th>\n",
       "      <td>1003</td>\n",
       "      <td>8.0</td>\n",
       "      <td>380.0</td>\n",
       "      <td>8565.21</td>\n",
       "      <td>9.0</td>\n",
       "      <td>37.0</td>\n",
       "      <td>23</td>\n",
       "      <td>NaN</td>\n",
       "      <td>Москва</td>\n",
       "      <td>Белла</td>\n",
       "      <td>Белякова</td>\n",
       "      <td>2018-08-17</td>\n",
       "      <td>ultra</td>\n",
       "      <td>1000</td>\n",
       "      <td>30720</td>\n",
       "      <td>3000</td>\n",
       "      <td>1950</td>\n",
       "      <td>150</td>\n",
       "      <td>1</td>\n",
       "      <td>1</td>\n",
       "    </tr>\n",
       "    <tr>\n",
       "      <th>9</th>\n",
       "      <td>1003</td>\n",
       "      <td>9.0</td>\n",
       "      <td>961.0</td>\n",
       "      <td>12468.87</td>\n",
       "      <td>13.0</td>\n",
       "      <td>91.0</td>\n",
       "      <td>23</td>\n",
       "      <td>NaN</td>\n",
       "      <td>Москва</td>\n",
       "      <td>Белла</td>\n",
       "      <td>Белякова</td>\n",
       "      <td>2018-08-17</td>\n",
       "      <td>ultra</td>\n",
       "      <td>1000</td>\n",
       "      <td>30720</td>\n",
       "      <td>3000</td>\n",
       "      <td>1950</td>\n",
       "      <td>150</td>\n",
       "      <td>1</td>\n",
       "      <td>1</td>\n",
       "    </tr>\n",
       "  </tbody>\n",
       "</table>\n",
       "</div>"
      ],
      "text/plain": [
       "   user_id  month  duration   mb_used  gb_used    id  age churn_date  \\\n",
       "0     1000    5.0     159.0   2253.49      3.0  22.0   52        NaN   \n",
       "1     1000    6.0     172.0  23233.77     23.0  60.0   52        NaN   \n",
       "2     1000    7.0     340.0  14003.64     14.0  75.0   52        NaN   \n",
       "3     1000    8.0     408.0  14055.93     14.0  81.0   52        NaN   \n",
       "4     1000    9.0     466.0  14568.91     15.0  57.0   52        NaN   \n",
       "5     1000   10.0     350.0  14702.49     15.0  73.0   52        NaN   \n",
       "6     1000   11.0     338.0  14756.47     15.0  58.0   52        NaN   \n",
       "7     1000   12.0     333.0   9817.61     10.0  70.0   52        NaN   \n",
       "8     1003    8.0     380.0   8565.21      9.0  37.0   23        NaN   \n",
       "9     1003    9.0     961.0  12468.87     13.0  91.0   23        NaN   \n",
       "\n",
       "        city first_name  last_name    reg_date tariff  messages_included  \\\n",
       "0  Краснодар     Рафаил  Верещагин  2018-05-25  ultra               1000   \n",
       "1  Краснодар     Рафаил  Верещагин  2018-05-25  ultra               1000   \n",
       "2  Краснодар     Рафаил  Верещагин  2018-05-25  ultra               1000   \n",
       "3  Краснодар     Рафаил  Верещагин  2018-05-25  ultra               1000   \n",
       "4  Краснодар     Рафаил  Верещагин  2018-05-25  ultra               1000   \n",
       "5  Краснодар     Рафаил  Верещагин  2018-05-25  ultra               1000   \n",
       "6  Краснодар     Рафаил  Верещагин  2018-05-25  ultra               1000   \n",
       "7  Краснодар     Рафаил  Верещагин  2018-05-25  ultra               1000   \n",
       "8     Москва      Белла   Белякова  2018-08-17  ultra               1000   \n",
       "9     Москва      Белла   Белякова  2018-08-17  ultra               1000   \n",
       "\n",
       "   mb_per_month_included  minutes_included  rub_monthly_fee  rub_per_gb  \\\n",
       "0                  30720              3000             1950         150   \n",
       "1                  30720              3000             1950         150   \n",
       "2                  30720              3000             1950         150   \n",
       "3                  30720              3000             1950         150   \n",
       "4                  30720              3000             1950         150   \n",
       "5                  30720              3000             1950         150   \n",
       "6                  30720              3000             1950         150   \n",
       "7                  30720              3000             1950         150   \n",
       "8                  30720              3000             1950         150   \n",
       "9                  30720              3000             1950         150   \n",
       "\n",
       "   rub_per_message  rub_per_minute  \n",
       "0                1               1  \n",
       "1                1               1  \n",
       "2                1               1  \n",
       "3                1               1  \n",
       "4                1               1  \n",
       "5                1               1  \n",
       "6                1               1  \n",
       "7                1               1  \n",
       "8                1               1  \n",
       "9                1               1  "
      ]
     },
     "execution_count": 19,
     "metadata": {},
     "output_type": "execute_result"
    }
   ],
   "source": [
    "# добавляем тариф\n",
    "data_total = data_3.merge(dt, on = ['tariff'], how = 'outer')\n",
    "data_total.head(10)"
   ]
  },
  {
   "cell_type": "code",
   "execution_count": 22,
   "metadata": {},
   "outputs": [
    {
     "data": {
      "text/html": [
       "<div>\n",
       "<style scoped>\n",
       "    .dataframe tbody tr th:only-of-type {\n",
       "        vertical-align: middle;\n",
       "    }\n",
       "\n",
       "    .dataframe tbody tr th {\n",
       "        vertical-align: top;\n",
       "    }\n",
       "\n",
       "    .dataframe thead th {\n",
       "        text-align: right;\n",
       "    }\n",
       "</style>\n",
       "<table border=\"1\" class=\"dataframe\">\n",
       "  <thead>\n",
       "    <tr style=\"text-align: right;\">\n",
       "      <th></th>\n",
       "      <th>user_id</th>\n",
       "      <th>month</th>\n",
       "      <th>duration</th>\n",
       "      <th>mb_used</th>\n",
       "      <th>gb_used</th>\n",
       "      <th>id</th>\n",
       "      <th>age</th>\n",
       "      <th>churn_date</th>\n",
       "      <th>city</th>\n",
       "      <th>first_name</th>\n",
       "      <th>...</th>\n",
       "      <th>reg_date</th>\n",
       "      <th>tariff</th>\n",
       "      <th>messages_included</th>\n",
       "      <th>mb_per_month_included</th>\n",
       "      <th>minutes_included</th>\n",
       "      <th>rub_monthly_fee</th>\n",
       "      <th>rub_per_gb</th>\n",
       "      <th>rub_per_message</th>\n",
       "      <th>rub_per_minute</th>\n",
       "      <th>profit_call</th>\n",
       "    </tr>\n",
       "  </thead>\n",
       "  <tbody>\n",
       "    <tr>\n",
       "      <th>0</th>\n",
       "      <td>1000</td>\n",
       "      <td>5.0</td>\n",
       "      <td>159.0</td>\n",
       "      <td>2253.49</td>\n",
       "      <td>3.0</td>\n",
       "      <td>22.0</td>\n",
       "      <td>52</td>\n",
       "      <td>NaN</td>\n",
       "      <td>Краснодар</td>\n",
       "      <td>Рафаил</td>\n",
       "      <td>...</td>\n",
       "      <td>2018-05-25</td>\n",
       "      <td>ultra</td>\n",
       "      <td>1000</td>\n",
       "      <td>30720</td>\n",
       "      <td>3000</td>\n",
       "      <td>1950</td>\n",
       "      <td>150</td>\n",
       "      <td>1</td>\n",
       "      <td>1</td>\n",
       "      <td>0.0</td>\n",
       "    </tr>\n",
       "    <tr>\n",
       "      <th>1</th>\n",
       "      <td>1000</td>\n",
       "      <td>6.0</td>\n",
       "      <td>172.0</td>\n",
       "      <td>23233.77</td>\n",
       "      <td>23.0</td>\n",
       "      <td>60.0</td>\n",
       "      <td>52</td>\n",
       "      <td>NaN</td>\n",
       "      <td>Краснодар</td>\n",
       "      <td>Рафаил</td>\n",
       "      <td>...</td>\n",
       "      <td>2018-05-25</td>\n",
       "      <td>ultra</td>\n",
       "      <td>1000</td>\n",
       "      <td>30720</td>\n",
       "      <td>3000</td>\n",
       "      <td>1950</td>\n",
       "      <td>150</td>\n",
       "      <td>1</td>\n",
       "      <td>1</td>\n",
       "      <td>0.0</td>\n",
       "    </tr>\n",
       "    <tr>\n",
       "      <th>2</th>\n",
       "      <td>1000</td>\n",
       "      <td>7.0</td>\n",
       "      <td>340.0</td>\n",
       "      <td>14003.64</td>\n",
       "      <td>14.0</td>\n",
       "      <td>75.0</td>\n",
       "      <td>52</td>\n",
       "      <td>NaN</td>\n",
       "      <td>Краснодар</td>\n",
       "      <td>Рафаил</td>\n",
       "      <td>...</td>\n",
       "      <td>2018-05-25</td>\n",
       "      <td>ultra</td>\n",
       "      <td>1000</td>\n",
       "      <td>30720</td>\n",
       "      <td>3000</td>\n",
       "      <td>1950</td>\n",
       "      <td>150</td>\n",
       "      <td>1</td>\n",
       "      <td>1</td>\n",
       "      <td>0.0</td>\n",
       "    </tr>\n",
       "    <tr>\n",
       "      <th>3</th>\n",
       "      <td>1000</td>\n",
       "      <td>8.0</td>\n",
       "      <td>408.0</td>\n",
       "      <td>14055.93</td>\n",
       "      <td>14.0</td>\n",
       "      <td>81.0</td>\n",
       "      <td>52</td>\n",
       "      <td>NaN</td>\n",
       "      <td>Краснодар</td>\n",
       "      <td>Рафаил</td>\n",
       "      <td>...</td>\n",
       "      <td>2018-05-25</td>\n",
       "      <td>ultra</td>\n",
       "      <td>1000</td>\n",
       "      <td>30720</td>\n",
       "      <td>3000</td>\n",
       "      <td>1950</td>\n",
       "      <td>150</td>\n",
       "      <td>1</td>\n",
       "      <td>1</td>\n",
       "      <td>0.0</td>\n",
       "    </tr>\n",
       "    <tr>\n",
       "      <th>4</th>\n",
       "      <td>1000</td>\n",
       "      <td>9.0</td>\n",
       "      <td>466.0</td>\n",
       "      <td>14568.91</td>\n",
       "      <td>15.0</td>\n",
       "      <td>57.0</td>\n",
       "      <td>52</td>\n",
       "      <td>NaN</td>\n",
       "      <td>Краснодар</td>\n",
       "      <td>Рафаил</td>\n",
       "      <td>...</td>\n",
       "      <td>2018-05-25</td>\n",
       "      <td>ultra</td>\n",
       "      <td>1000</td>\n",
       "      <td>30720</td>\n",
       "      <td>3000</td>\n",
       "      <td>1950</td>\n",
       "      <td>150</td>\n",
       "      <td>1</td>\n",
       "      <td>1</td>\n",
       "      <td>0.0</td>\n",
       "    </tr>\n",
       "  </tbody>\n",
       "</table>\n",
       "<p>5 rows × 21 columns</p>\n",
       "</div>"
      ],
      "text/plain": [
       "   user_id  month  duration   mb_used  gb_used    id  age churn_date  \\\n",
       "0     1000    5.0     159.0   2253.49      3.0  22.0   52        NaN   \n",
       "1     1000    6.0     172.0  23233.77     23.0  60.0   52        NaN   \n",
       "2     1000    7.0     340.0  14003.64     14.0  75.0   52        NaN   \n",
       "3     1000    8.0     408.0  14055.93     14.0  81.0   52        NaN   \n",
       "4     1000    9.0     466.0  14568.91     15.0  57.0   52        NaN   \n",
       "\n",
       "        city first_name  ...    reg_date tariff messages_included  \\\n",
       "0  Краснодар     Рафаил  ...  2018-05-25  ultra              1000   \n",
       "1  Краснодар     Рафаил  ...  2018-05-25  ultra              1000   \n",
       "2  Краснодар     Рафаил  ...  2018-05-25  ultra              1000   \n",
       "3  Краснодар     Рафаил  ...  2018-05-25  ultra              1000   \n",
       "4  Краснодар     Рафаил  ...  2018-05-25  ultra              1000   \n",
       "\n",
       "   mb_per_month_included  minutes_included  rub_monthly_fee  rub_per_gb  \\\n",
       "0                  30720              3000             1950         150   \n",
       "1                  30720              3000             1950         150   \n",
       "2                  30720              3000             1950         150   \n",
       "3                  30720              3000             1950         150   \n",
       "4                  30720              3000             1950         150   \n",
       "\n",
       "   rub_per_message  rub_per_minute  profit_call  \n",
       "0                1               1          0.0  \n",
       "1                1               1          0.0  \n",
       "2                1               1          0.0  \n",
       "3                1               1          0.0  \n",
       "4                1               1          0.0  \n",
       "\n",
       "[5 rows x 21 columns]"
      ]
     },
     "execution_count": 22,
     "metadata": {},
     "output_type": "execute_result"
    }
   ],
   "source": [
    "# функция для расчета выручки от звонков и добавление столбца\n",
    "def profit(row):\n",
    "    if row['duration'] > row['minutes_included']: return (row['duration'] - row['minutes_included'])*row['rub_per_minute']\n",
    "    return 0\n",
    "data_total['profit_call'] = data_total.apply(profit, axis = 1)\n",
    "data_total.head()"
   ]
  },
  {
   "cell_type": "code",
   "execution_count": 23,
   "metadata": {
    "scrolled": true
   },
   "outputs": [
    {
     "data": {
      "text/html": [
       "<div>\n",
       "<style scoped>\n",
       "    .dataframe tbody tr th:only-of-type {\n",
       "        vertical-align: middle;\n",
       "    }\n",
       "\n",
       "    .dataframe tbody tr th {\n",
       "        vertical-align: top;\n",
       "    }\n",
       "\n",
       "    .dataframe thead th {\n",
       "        text-align: right;\n",
       "    }\n",
       "</style>\n",
       "<table border=\"1\" class=\"dataframe\">\n",
       "  <thead>\n",
       "    <tr style=\"text-align: right;\">\n",
       "      <th></th>\n",
       "      <th>user_id</th>\n",
       "      <th>month</th>\n",
       "      <th>duration</th>\n",
       "      <th>mb_used</th>\n",
       "      <th>gb_used</th>\n",
       "      <th>id</th>\n",
       "      <th>age</th>\n",
       "      <th>churn_date</th>\n",
       "      <th>city</th>\n",
       "      <th>first_name</th>\n",
       "      <th>...</th>\n",
       "      <th>tariff</th>\n",
       "      <th>messages_included</th>\n",
       "      <th>mb_per_month_included</th>\n",
       "      <th>minutes_included</th>\n",
       "      <th>rub_monthly_fee</th>\n",
       "      <th>rub_per_gb</th>\n",
       "      <th>rub_per_message</th>\n",
       "      <th>rub_per_minute</th>\n",
       "      <th>profit_call</th>\n",
       "      <th>profit_internet</th>\n",
       "    </tr>\n",
       "  </thead>\n",
       "  <tbody>\n",
       "    <tr>\n",
       "      <th>0</th>\n",
       "      <td>1000</td>\n",
       "      <td>5.0</td>\n",
       "      <td>159.0</td>\n",
       "      <td>2253.49</td>\n",
       "      <td>3.0</td>\n",
       "      <td>22.0</td>\n",
       "      <td>52</td>\n",
       "      <td>NaN</td>\n",
       "      <td>Краснодар</td>\n",
       "      <td>Рафаил</td>\n",
       "      <td>...</td>\n",
       "      <td>ultra</td>\n",
       "      <td>1000</td>\n",
       "      <td>30720</td>\n",
       "      <td>3000</td>\n",
       "      <td>1950</td>\n",
       "      <td>150</td>\n",
       "      <td>1</td>\n",
       "      <td>1</td>\n",
       "      <td>0.0</td>\n",
       "      <td>0.0</td>\n",
       "    </tr>\n",
       "    <tr>\n",
       "      <th>1</th>\n",
       "      <td>1000</td>\n",
       "      <td>6.0</td>\n",
       "      <td>172.0</td>\n",
       "      <td>23233.77</td>\n",
       "      <td>23.0</td>\n",
       "      <td>60.0</td>\n",
       "      <td>52</td>\n",
       "      <td>NaN</td>\n",
       "      <td>Краснодар</td>\n",
       "      <td>Рафаил</td>\n",
       "      <td>...</td>\n",
       "      <td>ultra</td>\n",
       "      <td>1000</td>\n",
       "      <td>30720</td>\n",
       "      <td>3000</td>\n",
       "      <td>1950</td>\n",
       "      <td>150</td>\n",
       "      <td>1</td>\n",
       "      <td>1</td>\n",
       "      <td>0.0</td>\n",
       "      <td>0.0</td>\n",
       "    </tr>\n",
       "    <tr>\n",
       "      <th>2</th>\n",
       "      <td>1000</td>\n",
       "      <td>7.0</td>\n",
       "      <td>340.0</td>\n",
       "      <td>14003.64</td>\n",
       "      <td>14.0</td>\n",
       "      <td>75.0</td>\n",
       "      <td>52</td>\n",
       "      <td>NaN</td>\n",
       "      <td>Краснодар</td>\n",
       "      <td>Рафаил</td>\n",
       "      <td>...</td>\n",
       "      <td>ultra</td>\n",
       "      <td>1000</td>\n",
       "      <td>30720</td>\n",
       "      <td>3000</td>\n",
       "      <td>1950</td>\n",
       "      <td>150</td>\n",
       "      <td>1</td>\n",
       "      <td>1</td>\n",
       "      <td>0.0</td>\n",
       "      <td>0.0</td>\n",
       "    </tr>\n",
       "    <tr>\n",
       "      <th>3</th>\n",
       "      <td>1000</td>\n",
       "      <td>8.0</td>\n",
       "      <td>408.0</td>\n",
       "      <td>14055.93</td>\n",
       "      <td>14.0</td>\n",
       "      <td>81.0</td>\n",
       "      <td>52</td>\n",
       "      <td>NaN</td>\n",
       "      <td>Краснодар</td>\n",
       "      <td>Рафаил</td>\n",
       "      <td>...</td>\n",
       "      <td>ultra</td>\n",
       "      <td>1000</td>\n",
       "      <td>30720</td>\n",
       "      <td>3000</td>\n",
       "      <td>1950</td>\n",
       "      <td>150</td>\n",
       "      <td>1</td>\n",
       "      <td>1</td>\n",
       "      <td>0.0</td>\n",
       "      <td>0.0</td>\n",
       "    </tr>\n",
       "    <tr>\n",
       "      <th>4</th>\n",
       "      <td>1000</td>\n",
       "      <td>9.0</td>\n",
       "      <td>466.0</td>\n",
       "      <td>14568.91</td>\n",
       "      <td>15.0</td>\n",
       "      <td>57.0</td>\n",
       "      <td>52</td>\n",
       "      <td>NaN</td>\n",
       "      <td>Краснодар</td>\n",
       "      <td>Рафаил</td>\n",
       "      <td>...</td>\n",
       "      <td>ultra</td>\n",
       "      <td>1000</td>\n",
       "      <td>30720</td>\n",
       "      <td>3000</td>\n",
       "      <td>1950</td>\n",
       "      <td>150</td>\n",
       "      <td>1</td>\n",
       "      <td>1</td>\n",
       "      <td>0.0</td>\n",
       "      <td>0.0</td>\n",
       "    </tr>\n",
       "  </tbody>\n",
       "</table>\n",
       "<p>5 rows × 22 columns</p>\n",
       "</div>"
      ],
      "text/plain": [
       "   user_id  month  duration   mb_used  gb_used    id  age churn_date  \\\n",
       "0     1000    5.0     159.0   2253.49      3.0  22.0   52        NaN   \n",
       "1     1000    6.0     172.0  23233.77     23.0  60.0   52        NaN   \n",
       "2     1000    7.0     340.0  14003.64     14.0  75.0   52        NaN   \n",
       "3     1000    8.0     408.0  14055.93     14.0  81.0   52        NaN   \n",
       "4     1000    9.0     466.0  14568.91     15.0  57.0   52        NaN   \n",
       "\n",
       "        city first_name  ... tariff messages_included mb_per_month_included  \\\n",
       "0  Краснодар     Рафаил  ...  ultra              1000                 30720   \n",
       "1  Краснодар     Рафаил  ...  ultra              1000                 30720   \n",
       "2  Краснодар     Рафаил  ...  ultra              1000                 30720   \n",
       "3  Краснодар     Рафаил  ...  ultra              1000                 30720   \n",
       "4  Краснодар     Рафаил  ...  ultra              1000                 30720   \n",
       "\n",
       "   minutes_included  rub_monthly_fee  rub_per_gb  rub_per_message  \\\n",
       "0              3000             1950         150                1   \n",
       "1              3000             1950         150                1   \n",
       "2              3000             1950         150                1   \n",
       "3              3000             1950         150                1   \n",
       "4              3000             1950         150                1   \n",
       "\n",
       "   rub_per_minute  profit_call  profit_internet  \n",
       "0               1          0.0              0.0  \n",
       "1               1          0.0              0.0  \n",
       "2               1          0.0              0.0  \n",
       "3               1          0.0              0.0  \n",
       "4               1          0.0              0.0  \n",
       "\n",
       "[5 rows x 22 columns]"
      ]
     },
     "execution_count": 23,
     "metadata": {},
     "output_type": "execute_result"
    }
   ],
   "source": [
    "# функция для расчета выручки от интернета и добавление столбца\n",
    "def profit_2(row):\n",
    "    if row['gb_used'] > (row['mb_per_month_included']/1024): return (row['gb_used'] - (row['mb_per_month_included']/1024))*row['rub_per_gb']\n",
    "    return 0\n",
    "data_total['profit_internet'] = data_total.apply(profit_2, axis = 1)\n",
    "data_total.head()"
   ]
  },
  {
   "cell_type": "code",
   "execution_count": 24,
   "metadata": {},
   "outputs": [
    {
     "data": {
      "text/html": [
       "<div>\n",
       "<style scoped>\n",
       "    .dataframe tbody tr th:only-of-type {\n",
       "        vertical-align: middle;\n",
       "    }\n",
       "\n",
       "    .dataframe tbody tr th {\n",
       "        vertical-align: top;\n",
       "    }\n",
       "\n",
       "    .dataframe thead th {\n",
       "        text-align: right;\n",
       "    }\n",
       "</style>\n",
       "<table border=\"1\" class=\"dataframe\">\n",
       "  <thead>\n",
       "    <tr style=\"text-align: right;\">\n",
       "      <th></th>\n",
       "      <th>user_id</th>\n",
       "      <th>month</th>\n",
       "      <th>duration</th>\n",
       "      <th>mb_used</th>\n",
       "      <th>gb_used</th>\n",
       "      <th>id</th>\n",
       "      <th>age</th>\n",
       "      <th>churn_date</th>\n",
       "      <th>city</th>\n",
       "      <th>first_name</th>\n",
       "      <th>last_name</th>\n",
       "      <th>reg_date</th>\n",
       "      <th>tariff</th>\n",
       "      <th>messages_included</th>\n",
       "      <th>mb_per_month_included</th>\n",
       "      <th>minutes_included</th>\n",
       "      <th>rub_monthly_fee</th>\n",
       "      <th>rub_per_gb</th>\n",
       "      <th>rub_per_message</th>\n",
       "      <th>rub_per_minute</th>\n",
       "      <th>profit_call</th>\n",
       "      <th>profit_internet</th>\n",
       "      <th>profit_message</th>\n",
       "    </tr>\n",
       "  </thead>\n",
       "  <tbody>\n",
       "    <tr>\n",
       "      <th>0</th>\n",
       "      <td>1000</td>\n",
       "      <td>5.0</td>\n",
       "      <td>159.0</td>\n",
       "      <td>2253.49</td>\n",
       "      <td>3.0</td>\n",
       "      <td>22.0</td>\n",
       "      <td>52</td>\n",
       "      <td>NaN</td>\n",
       "      <td>Краснодар</td>\n",
       "      <td>Рафаил</td>\n",
       "      <td>Верещагин</td>\n",
       "      <td>2018-05-25</td>\n",
       "      <td>ultra</td>\n",
       "      <td>1000</td>\n",
       "      <td>30720</td>\n",
       "      <td>3000</td>\n",
       "      <td>1950</td>\n",
       "      <td>150</td>\n",
       "      <td>1</td>\n",
       "      <td>1</td>\n",
       "      <td>0.0</td>\n",
       "      <td>0.0</td>\n",
       "      <td>0.0</td>\n",
       "    </tr>\n",
       "    <tr>\n",
       "      <th>1</th>\n",
       "      <td>1000</td>\n",
       "      <td>6.0</td>\n",
       "      <td>172.0</td>\n",
       "      <td>23233.77</td>\n",
       "      <td>23.0</td>\n",
       "      <td>60.0</td>\n",
       "      <td>52</td>\n",
       "      <td>NaN</td>\n",
       "      <td>Краснодар</td>\n",
       "      <td>Рафаил</td>\n",
       "      <td>Верещагин</td>\n",
       "      <td>2018-05-25</td>\n",
       "      <td>ultra</td>\n",
       "      <td>1000</td>\n",
       "      <td>30720</td>\n",
       "      <td>3000</td>\n",
       "      <td>1950</td>\n",
       "      <td>150</td>\n",
       "      <td>1</td>\n",
       "      <td>1</td>\n",
       "      <td>0.0</td>\n",
       "      <td>0.0</td>\n",
       "      <td>0.0</td>\n",
       "    </tr>\n",
       "    <tr>\n",
       "      <th>2</th>\n",
       "      <td>1000</td>\n",
       "      <td>7.0</td>\n",
       "      <td>340.0</td>\n",
       "      <td>14003.64</td>\n",
       "      <td>14.0</td>\n",
       "      <td>75.0</td>\n",
       "      <td>52</td>\n",
       "      <td>NaN</td>\n",
       "      <td>Краснодар</td>\n",
       "      <td>Рафаил</td>\n",
       "      <td>Верещагин</td>\n",
       "      <td>2018-05-25</td>\n",
       "      <td>ultra</td>\n",
       "      <td>1000</td>\n",
       "      <td>30720</td>\n",
       "      <td>3000</td>\n",
       "      <td>1950</td>\n",
       "      <td>150</td>\n",
       "      <td>1</td>\n",
       "      <td>1</td>\n",
       "      <td>0.0</td>\n",
       "      <td>0.0</td>\n",
       "      <td>0.0</td>\n",
       "    </tr>\n",
       "    <tr>\n",
       "      <th>3</th>\n",
       "      <td>1000</td>\n",
       "      <td>8.0</td>\n",
       "      <td>408.0</td>\n",
       "      <td>14055.93</td>\n",
       "      <td>14.0</td>\n",
       "      <td>81.0</td>\n",
       "      <td>52</td>\n",
       "      <td>NaN</td>\n",
       "      <td>Краснодар</td>\n",
       "      <td>Рафаил</td>\n",
       "      <td>Верещагин</td>\n",
       "      <td>2018-05-25</td>\n",
       "      <td>ultra</td>\n",
       "      <td>1000</td>\n",
       "      <td>30720</td>\n",
       "      <td>3000</td>\n",
       "      <td>1950</td>\n",
       "      <td>150</td>\n",
       "      <td>1</td>\n",
       "      <td>1</td>\n",
       "      <td>0.0</td>\n",
       "      <td>0.0</td>\n",
       "      <td>0.0</td>\n",
       "    </tr>\n",
       "    <tr>\n",
       "      <th>4</th>\n",
       "      <td>1000</td>\n",
       "      <td>9.0</td>\n",
       "      <td>466.0</td>\n",
       "      <td>14568.91</td>\n",
       "      <td>15.0</td>\n",
       "      <td>57.0</td>\n",
       "      <td>52</td>\n",
       "      <td>NaN</td>\n",
       "      <td>Краснодар</td>\n",
       "      <td>Рафаил</td>\n",
       "      <td>Верещагин</td>\n",
       "      <td>2018-05-25</td>\n",
       "      <td>ultra</td>\n",
       "      <td>1000</td>\n",
       "      <td>30720</td>\n",
       "      <td>3000</td>\n",
       "      <td>1950</td>\n",
       "      <td>150</td>\n",
       "      <td>1</td>\n",
       "      <td>1</td>\n",
       "      <td>0.0</td>\n",
       "      <td>0.0</td>\n",
       "      <td>0.0</td>\n",
       "    </tr>\n",
       "  </tbody>\n",
       "</table>\n",
       "</div>"
      ],
      "text/plain": [
       "   user_id  month  duration   mb_used  gb_used    id  age churn_date  \\\n",
       "0     1000    5.0     159.0   2253.49      3.0  22.0   52        NaN   \n",
       "1     1000    6.0     172.0  23233.77     23.0  60.0   52        NaN   \n",
       "2     1000    7.0     340.0  14003.64     14.0  75.0   52        NaN   \n",
       "3     1000    8.0     408.0  14055.93     14.0  81.0   52        NaN   \n",
       "4     1000    9.0     466.0  14568.91     15.0  57.0   52        NaN   \n",
       "\n",
       "        city first_name  last_name    reg_date tariff  messages_included  \\\n",
       "0  Краснодар     Рафаил  Верещагин  2018-05-25  ultra               1000   \n",
       "1  Краснодар     Рафаил  Верещагин  2018-05-25  ultra               1000   \n",
       "2  Краснодар     Рафаил  Верещагин  2018-05-25  ultra               1000   \n",
       "3  Краснодар     Рафаил  Верещагин  2018-05-25  ultra               1000   \n",
       "4  Краснодар     Рафаил  Верещагин  2018-05-25  ultra               1000   \n",
       "\n",
       "   mb_per_month_included  minutes_included  rub_monthly_fee  rub_per_gb  \\\n",
       "0                  30720              3000             1950         150   \n",
       "1                  30720              3000             1950         150   \n",
       "2                  30720              3000             1950         150   \n",
       "3                  30720              3000             1950         150   \n",
       "4                  30720              3000             1950         150   \n",
       "\n",
       "   rub_per_message  rub_per_minute  profit_call  profit_internet  \\\n",
       "0                1               1          0.0              0.0   \n",
       "1                1               1          0.0              0.0   \n",
       "2                1               1          0.0              0.0   \n",
       "3                1               1          0.0              0.0   \n",
       "4                1               1          0.0              0.0   \n",
       "\n",
       "   profit_message  \n",
       "0             0.0  \n",
       "1             0.0  \n",
       "2             0.0  \n",
       "3             0.0  \n",
       "4             0.0  "
      ]
     },
     "execution_count": 24,
     "metadata": {},
     "output_type": "execute_result"
    }
   ],
   "source": [
    "# функция для расчета выручки от смс и добавление столбца\n",
    "def profit_3(row):\n",
    "    if row['id'] > row['messages_included']: return (row['id'] - row['messages_included'])*row['rub_per_message']\n",
    "    return 0\n",
    "data_total['profit_message'] = data_total.apply(profit_3, axis = 1)\n",
    "pd.set_option('display.max_columns', None)\n",
    "data_total.head()"
   ]
  },
  {
   "cell_type": "code",
   "execution_count": 25,
   "metadata": {},
   "outputs": [],
   "source": [
    "# добавляем столбец общий доход\n",
    "data_total['total_profit'] = data_total['profit_call'] + data_total['profit_internet'] + data_total['profit_message'] + data_total['rub_monthly_fee']"
   ]
  },
  {
   "cell_type": "markdown",
   "metadata": {},
   "source": [
    "Вывод: Объединили все данные в одну таблицу. Рассчитали общий объем смс, интернета, звонков по месяцам и по пользователям."
   ]
  },
  {
   "cell_type": "markdown",
   "metadata": {},
   "source": [
    "## Анализ данных."
   ]
  },
  {
   "cell_type": "code",
   "execution_count": 26,
   "metadata": {},
   "outputs": [
    {
     "name": "stdout",
     "output_type": "stream",
     "text": [
      "duration\n",
      "-163.0 1045.0\n",
      "gb_used\n",
      "1.0 33.0\n",
      "id\n",
      "-47.0 129.0\n"
     ]
    }
   ],
   "source": [
    "# считаем максимум и минимум диаграммы размаха указанных столбцов\n",
    "columns_to_quantile = ['duration', 'gb_used', 'id'] \n",
    "for element in columns_to_quantile:\n",
    "    q1 = data_total[element].quantile(0.25)\n",
    "    q3 = data_total[element].quantile(0.75)\n",
    "    iqr = q3 - q1 \n",
    "    first = q1 - 1.5 * iqr\n",
    "    last = q3 + 1.5 * iqr# iqr\n",
    "# границы интервала наиболее вероятных значений\n",
    "    print(element)\n",
    "    print(first, last)"
   ]
  },
  {
   "cell_type": "code",
   "execution_count": 27,
   "metadata": {},
   "outputs": [
    {
     "data": {
      "text/html": [
       "<div>\n",
       "<style scoped>\n",
       "    .dataframe tbody tr th:only-of-type {\n",
       "        vertical-align: middle;\n",
       "    }\n",
       "\n",
       "    .dataframe tbody tr th {\n",
       "        vertical-align: top;\n",
       "    }\n",
       "\n",
       "    .dataframe thead tr th {\n",
       "        text-align: left;\n",
       "    }\n",
       "\n",
       "    .dataframe thead tr:last-of-type th {\n",
       "        text-align: right;\n",
       "    }\n",
       "</style>\n",
       "<table border=\"1\" class=\"dataframe\">\n",
       "  <thead>\n",
       "    <tr>\n",
       "      <th></th>\n",
       "      <th colspan=\"5\" halign=\"left\">duration</th>\n",
       "    </tr>\n",
       "    <tr>\n",
       "      <th></th>\n",
       "      <th>mean</th>\n",
       "      <th>std</th>\n",
       "      <th>var</th>\n",
       "      <th>count</th>\n",
       "      <th>median</th>\n",
       "    </tr>\n",
       "    <tr>\n",
       "      <th>tariff</th>\n",
       "      <th></th>\n",
       "      <th></th>\n",
       "      <th></th>\n",
       "      <th></th>\n",
       "      <th></th>\n",
       "    </tr>\n",
       "  </thead>\n",
       "  <tbody>\n",
       "    <tr>\n",
       "      <th>smart</th>\n",
       "      <td>419.062978</td>\n",
       "      <td>189.325618</td>\n",
       "      <td>35844.189551</td>\n",
       "      <td>2223</td>\n",
       "      <td>423.0</td>\n",
       "    </tr>\n",
       "    <tr>\n",
       "      <th>ultra</th>\n",
       "      <td>545.451104</td>\n",
       "      <td>306.925754</td>\n",
       "      <td>94203.418396</td>\n",
       "      <td>951</td>\n",
       "      <td>528.0</td>\n",
       "    </tr>\n",
       "  </tbody>\n",
       "</table>\n",
       "</div>"
      ],
      "text/plain": [
       "          duration                                       \n",
       "              mean         std           var count median\n",
       "tariff                                                   \n",
       "smart   419.062978  189.325618  35844.189551  2223  423.0\n",
       "ultra   545.451104  306.925754  94203.418396   951  528.0"
      ]
     },
     "execution_count": 27,
     "metadata": {},
     "output_type": "execute_result"
    }
   ],
   "source": [
    "# считаем среднее, стандартное отклонение и дисперсию. До кучи сумму и медиану.\n",
    "data_total.groupby('tariff').agg({'duration': ['mean', 'std', 'var', 'count', 'median']})"
   ]
  },
  {
   "cell_type": "code",
   "execution_count": 28,
   "metadata": {},
   "outputs": [
    {
     "data": {
      "image/png": "[encoded data removed]",
      "text/plain": [
       "<Figure size 432x288 with 1 Axes>"
      ]
     },
     "metadata": {
      "needs_background": "light"
     },
     "output_type": "display_data"
    }
   ],
   "source": [
    "# строим гистограмму распределения звонков\n",
    "smart = data_total.query('tariff == \"smart\"')\n",
    "smart['duration'].hist(bins = 50, alpha=0.7)\n",
    "plt.title('Распределение общей длительности звонков. Тариф Смарт');"
   ]
  },
  {
   "cell_type": "code",
   "execution_count": null,
   "metadata": {},
   "outputs": [],
   "source": [
    "# построили диаграмму размаха\n",
    "smart['duration'].plot.box(grid = True, figsize =(10,10))\n",
    "plt.title('Диаграмма размаха общая длительность звонков');"
   ]
  },
  {
   "cell_type": "markdown",
   "metadata": {},
   "source": [
    "Нормальное распределение с небольшим количеством выбросов. Большая часть пользователей тарифа Смарт укладывается в положенные в тариф количество минут."
   ]
  },
  {
   "cell_type": "code",
   "execution_count": 30,
   "metadata": {},
   "outputs": [
    {
     "data": {
      "image/png": "[encoded data removed]",
      "text/plain": [
       "<Figure size 432x288 with 1 Axes>"
      ]
     },
     "metadata": {
      "needs_background": "light"
     },
     "output_type": "display_data"
    }
   ],
   "source": [
    "# строим гистограмму распределения звонков\n",
    "ultra = data_total.query('tariff == \"ultra\"')\n",
    "ultra['duration'].hist(bins=50, alpha=0.7)\n",
    "plt.title('Распределение общей длительности звонков. Тариф Ультра');"
   ]
  },
  {
   "cell_type": "code",
   "execution_count": 31,
   "metadata": {},
   "outputs": [
    {
     "data": {
      "image/png": "[encoded data removed]",
      "text/plain": [
       "<Figure size 720x720 with 1 Axes>"
      ]
     },
     "metadata": {
      "needs_background": "light"
     },
     "output_type": "display_data"
    }
   ],
   "source": [
    "# построили диаграмму размаха\n",
    "ultra['duration'].plot.box(grid = True, figsize =(10,10))\n",
    "plt.title('Диаграмма размаха общая длительность звонков');"
   ]
  },
  {
   "cell_type": "markdown",
   "metadata": {},
   "source": [
    "Норму звонков не выбирает никто, следовательно заработать на дополнительных минутах с высокой долей вероятности не выйдет."
   ]
  },
  {
   "cell_type": "code",
   "execution_count": 32,
   "metadata": {},
   "outputs": [
    {
     "data": {
      "text/html": [
       "<div>\n",
       "<style scoped>\n",
       "    .dataframe tbody tr th:only-of-type {\n",
       "        vertical-align: middle;\n",
       "    }\n",
       "\n",
       "    .dataframe tbody tr th {\n",
       "        vertical-align: top;\n",
       "    }\n",
       "\n",
       "    .dataframe thead tr th {\n",
       "        text-align: left;\n",
       "    }\n",
       "\n",
       "    .dataframe thead tr:last-of-type th {\n",
       "        text-align: right;\n",
       "    }\n",
       "</style>\n",
       "<table border=\"1\" class=\"dataframe\">\n",
       "  <thead>\n",
       "    <tr>\n",
       "      <th></th>\n",
       "      <th colspan=\"5\" halign=\"left\">gb_used</th>\n",
       "    </tr>\n",
       "    <tr>\n",
       "      <th></th>\n",
       "      <th>mean</th>\n",
       "      <th>std</th>\n",
       "      <th>var</th>\n",
       "      <th>count</th>\n",
       "      <th>median</th>\n",
       "    </tr>\n",
       "    <tr>\n",
       "      <th>tariff</th>\n",
       "      <th></th>\n",
       "      <th></th>\n",
       "      <th></th>\n",
       "      <th></th>\n",
       "      <th></th>\n",
       "    </tr>\n",
       "  </thead>\n",
       "  <tbody>\n",
       "    <tr>\n",
       "      <th>smart</th>\n",
       "      <td>16.336176</td>\n",
       "      <td>5.737923</td>\n",
       "      <td>32.923756</td>\n",
       "      <td>2228</td>\n",
       "      <td>17.0</td>\n",
       "    </tr>\n",
       "    <tr>\n",
       "      <th>ultra</th>\n",
       "      <td>19.694359</td>\n",
       "      <td>9.702924</td>\n",
       "      <td>94.146734</td>\n",
       "      <td>975</td>\n",
       "      <td>19.0</td>\n",
       "    </tr>\n",
       "  </tbody>\n",
       "</table>\n",
       "</div>"
      ],
      "text/plain": [
       "          gb_used                                  \n",
       "             mean       std        var count median\n",
       "tariff                                             \n",
       "smart   16.336176  5.737923  32.923756  2228   17.0\n",
       "ultra   19.694359  9.702924  94.146734   975   19.0"
      ]
     },
     "execution_count": 32,
     "metadata": {},
     "output_type": "execute_result"
    }
   ],
   "source": [
    "# считаем среднее, стандартное отклонение и дисперсию\n",
    "data_total.groupby('tariff').agg({'gb_used': ['mean', 'std', 'var', 'count', 'median']})"
   ]
  },
  {
   "cell_type": "code",
   "execution_count": 33,
   "metadata": {},
   "outputs": [
    {
     "data": {
      "image/png": "[encoded data removed]",
      "text/plain": [
       "<Figure size 432x288 with 1 Axes>"
      ]
     },
     "metadata": {
      "needs_background": "light"
     },
     "output_type": "display_data"
    }
   ],
   "source": [
    "# строим гистограмму распределения интернета\n",
    "smart_2 = data_total.query('tariff == \"smart\"')\n",
    "smart_2['gb_used'].hist(bins = 50, alpha=0.7)\n",
    "plt.title('Распределение общего объема интернет-трафика. Тариф Смарт');"
   ]
  },
  {
   "cell_type": "code",
   "execution_count": 34,
   "metadata": {},
   "outputs": [
    {
     "data": {
      "image/png": "[encoded data removed]",
      "text/plain": [
       "<Figure size 720x720 with 1 Axes>"
      ]
     },
     "metadata": {
      "needs_background": "light"
     },
     "output_type": "display_data"
    }
   ],
   "source": [
    "# построили диаграмму размаха\n",
    "smart_2['gb_used'].plot.box(grid = True, figsize =(10,10))\n",
    "plt.title('Диаграмма размаха общий объем интернет');"
   ]
  },
  {
   "cell_type": "markdown",
   "metadata": {},
   "source": [
    "Типичное нормальное распределение в виде колокола. Пользователи тарифа Смарт разделились где-то 45 на 55 как уклаыдвающиеся в тарифный объем интернета и как не укладывающиеся."
   ]
  },
  {
   "cell_type": "code",
   "execution_count": 35,
   "metadata": {},
   "outputs": [
    {
     "data": {
      "image/png": "[encoded data removed]",
      "text/plain": [
       "<Figure size 432x288 with 1 Axes>"
      ]
     },
     "metadata": {
      "needs_background": "light"
     },
     "output_type": "display_data"
    }
   ],
   "source": [
    "# строим гистограмму распределения интернета\n",
    "ultra_2 = data_total.query('tariff == \"ultra\"')\n",
    "ultra_2['gb_used'].hist(bins=50, alpha=0.7)\n",
    "plt.title('Распределение общей длительности звонков. Тариф Ультра');"
   ]
  },
  {
   "cell_type": "code",
   "execution_count": 36,
   "metadata": {},
   "outputs": [
    {
     "data": {
      "image/png": "[encoded data removed]",
      "text/plain": [
       "<Figure size 720x720 with 1 Axes>"
      ]
     },
     "metadata": {
      "needs_background": "light"
     },
     "output_type": "display_data"
    }
   ],
   "source": [
    "# построили диаграмму размаха\n",
    "ultra_2['gb_used'].plot.box(grid = True, figsize =(10,10))\n",
    "plt.title('Диаграмма размаха общий объем интернет');"
   ]
  },
  {
   "cell_type": "markdown",
   "metadata": {},
   "source": [
    "Большинство пользователей укладывается в положенные тарифом гигабайты, но есть немаленькая доля кто превышает."
   ]
  },
  {
   "cell_type": "code",
   "execution_count": 37,
   "metadata": {
    "scrolled": true
   },
   "outputs": [
    {
     "data": {
      "text/html": [
       "<div>\n",
       "<style scoped>\n",
       "    .dataframe tbody tr th:only-of-type {\n",
       "        vertical-align: middle;\n",
       "    }\n",
       "\n",
       "    .dataframe tbody tr th {\n",
       "        vertical-align: top;\n",
       "    }\n",
       "\n",
       "    .dataframe thead tr th {\n",
       "        text-align: left;\n",
       "    }\n",
       "\n",
       "    .dataframe thead tr:last-of-type th {\n",
       "        text-align: right;\n",
       "    }\n",
       "</style>\n",
       "<table border=\"1\" class=\"dataframe\">\n",
       "  <thead>\n",
       "    <tr>\n",
       "      <th></th>\n",
       "      <th colspan=\"5\" halign=\"left\">id</th>\n",
       "    </tr>\n",
       "    <tr>\n",
       "      <th></th>\n",
       "      <th>mean</th>\n",
       "      <th>std</th>\n",
       "      <th>var</th>\n",
       "      <th>count</th>\n",
       "      <th>median</th>\n",
       "    </tr>\n",
       "    <tr>\n",
       "      <th>tariff</th>\n",
       "      <th></th>\n",
       "      <th></th>\n",
       "      <th></th>\n",
       "      <th></th>\n",
       "      <th></th>\n",
       "    </tr>\n",
       "  </thead>\n",
       "  <tbody>\n",
       "    <tr>\n",
       "      <th>smart</th>\n",
       "      <td>38.716441</td>\n",
       "      <td>26.787949</td>\n",
       "      <td>717.594201</td>\n",
       "      <td>1922</td>\n",
       "      <td>34.0</td>\n",
       "    </tr>\n",
       "    <tr>\n",
       "      <th>ultra</th>\n",
       "      <td>61.161006</td>\n",
       "      <td>45.931026</td>\n",
       "      <td>2109.659183</td>\n",
       "      <td>795</td>\n",
       "      <td>51.0</td>\n",
       "    </tr>\n",
       "  </tbody>\n",
       "</table>\n",
       "</div>"
      ],
      "text/plain": [
       "               id                                     \n",
       "             mean        std          var count median\n",
       "tariff                                                \n",
       "smart   38.716441  26.787949   717.594201  1922   34.0\n",
       "ultra   61.161006  45.931026  2109.659183   795   51.0"
      ]
     },
     "execution_count": 37,
     "metadata": {},
     "output_type": "execute_result"
    }
   ],
   "source": [
    "# считаем среднее, стандартное отклонение и дисперсию\n",
    "data_total.groupby('tariff').agg({'id': ['mean', 'std', 'var', 'count', 'median']})"
   ]
  },
  {
   "cell_type": "code",
   "execution_count": 38,
   "metadata": {},
   "outputs": [
    {
     "data": {
      "image/png": "[encoded data removed]",
      "text/plain": [
       "<Figure size 432x288 with 1 Axes>"
      ]
     },
     "metadata": {
      "needs_background": "light"
     },
     "output_type": "display_data"
    }
   ],
   "source": [
    "# строим гистограмму распределения смс\n",
    "smart_3 = data_total.query('tariff == \"smart\"')\n",
    "smart_3['id'].hist(bins = 50, alpha=0.7)\n",
    "plt.title('Распределение общего количества смс. Тариф Смарт');"
   ]
  },
  {
   "cell_type": "code",
   "execution_count": 39,
   "metadata": {},
   "outputs": [
    {
     "data": {
      "image/png": "[encoded data removed]",
      "text/plain": [
       "<Figure size 720x720 with 1 Axes>"
      ]
     },
     "metadata": {
      "needs_background": "light"
     },
     "output_type": "display_data"
    }
   ],
   "source": [
    "# построили диаграмму размаха\n",
    "smart_3['id'].plot.box(grid = True, figsize =(10,10))\n",
    "plt.title('Диаграмма размаха общий объем смс');"
   ]
  },
  {
   "cell_type": "markdown",
   "metadata": {},
   "source": [
    "Нормальное распределение со сдвигом влево. Небольшая доля польователей пользуется доп. смсками."
   ]
  },
  {
   "cell_type": "code",
   "execution_count": 40,
   "metadata": {},
   "outputs": [
    {
     "data": {
      "image/png": "[encoded data removed]",
      "text/plain": [
       "<Figure size 432x288 with 1 Axes>"
      ]
     },
     "metadata": {
      "needs_background": "light"
     },
     "output_type": "display_data"
    }
   ],
   "source": [
    "# строим гистограмму распределения смс\n",
    "ultra_3 = data_total.query('tariff == \"ultra\"')\n",
    "ultra_3['id'].hist(bins=50, alpha=0.7)\n",
    "plt.title('Распределение общего количества смс. Тариф Ультра');"
   ]
  },
  {
   "cell_type": "code",
   "execution_count": 41,
   "metadata": {},
   "outputs": [
    {
     "data": {
      "image/png": "[encoded data removed]",
      "text/plain": [
       "<Figure size 720x720 with 1 Axes>"
      ]
     },
     "metadata": {
      "needs_background": "light"
     },
     "output_type": "display_data"
    }
   ],
   "source": [
    "# построили диаграмму размаха\n",
    "ultra_3['id'].plot.box(grid = True, figsize =(10,10))\n",
    "plt.title('Диаграмма размаха общий объем смс');"
   ]
  },
  {
   "cell_type": "markdown",
   "metadata": {},
   "source": [
    "С смс история аналогичная звонкам. Доп. смс никто не пользуется."
   ]
  },
  {
   "cell_type": "code",
   "execution_count": 42,
   "metadata": {},
   "outputs": [
    {
     "data": {
      "image/png": "[encoded data removed]",
      "text/plain": [
       "<Figure size 432x288 with 1 Axes>"
      ]
     },
     "metadata": {
      "needs_background": "light"
     },
     "output_type": "display_data"
    }
   ],
   "source": [
    "ax=data_total[data_total['tariff']=='smart']['duration'].hist(bins=30)\n",
    "data_total[data_total['tariff']=='ultra']['duration'].hist(bins=30, alpha=0.7)\n",
    "plt.title('Распределение общей длительности звонков.')\n",
    "plt.xlabel('минут')\n",
    "plt.ylabel('частота')\n",
    "plt.legend(['smart', 'ultra'])\n",
    "plt.show()"
   ]
  },
  {
   "cell_type": "code",
   "execution_count": 43,
   "metadata": {},
   "outputs": [
    {
     "data": {
      "image/png": "[encoded data removed]",
      "text/plain": [
       "<Figure size 432x288 with 1 Axes>"
      ]
     },
     "metadata": {
      "needs_background": "light"
     },
     "output_type": "display_data"
    }
   ],
   "source": [
    "data_total.boxplot(column='duration', by='tariff')\n",
    "plt.ylim(0, 1500);"
   ]
  },
  {
   "cell_type": "code",
   "execution_count": 44,
   "metadata": {},
   "outputs": [
    {
     "data": {
      "image/png": "[encoded data removed]",
      "text/plain": [
       "<Figure size 432x288 with 1 Axes>"
      ]
     },
     "metadata": {
      "needs_background": "light"
     },
     "output_type": "display_data"
    }
   ],
   "source": [
    "ax=data_total[data_total['tariff']=='smart']['gb_used'].hist(bins=30)\n",
    "data_total[data_total['tariff']=='ultra']['gb_used'].hist(bins=30, alpha=0.7)\n",
    "plt.title('Распределение объема интернет-трафика.')\n",
    "plt.xlabel('Гб')\n",
    "plt.ylabel('частота')\n",
    "plt.legend(['smart', 'ultra'])\n",
    "plt.show()"
   ]
  },
  {
   "cell_type": "code",
   "execution_count": 45,
   "metadata": {},
   "outputs": [
    {
     "data": {
      "image/png": "[encoded data removed]",
      "text/plain": [
       "<Figure size 432x288 with 1 Axes>"
      ]
     },
     "metadata": {
      "needs_background": "light"
     },
     "output_type": "display_data"
    }
   ],
   "source": [
    "data_total.boxplot(column='gb_used', by='tariff')\n",
    "plt.ylim(0, 50);"
   ]
  },
  {
   "cell_type": "code",
   "execution_count": 46,
   "metadata": {},
   "outputs": [
    {
     "data": {
      "image/png": "[encoded data removed]",
      "text/plain": [
       "<Figure size 432x288 with 1 Axes>"
      ]
     },
     "metadata": {
      "needs_background": "light"
     },
     "output_type": "display_data"
    }
   ],
   "source": [
    "ax=data_total[data_total['tariff']=='smart']['id'].hist(bins=30)\n",
    "data_total[data_total['tariff']=='ultra']['id'].hist(bins=30, alpha=0.7)\n",
    "plt.title('Распределение общего количества смс.')\n",
    "plt.xlabel('количество смс')\n",
    "plt.ylabel('частота')\n",
    "plt.legend(['smart', 'ultra'])\n",
    "plt.show()"
   ]
  },
  {
   "cell_type": "code",
   "execution_count": 47,
   "metadata": {},
   "outputs": [
    {
     "data": {
      "image/png": "[encoded data removed]",
      "text/plain": [
       "<Figure size 432x288 with 1 Axes>"
      ]
     },
     "metadata": {
      "needs_background": "light"
     },
     "output_type": "display_data"
    }
   ],
   "source": [
    "data_total.boxplot(column='id', by='tariff')\n",
    "plt.ylim(0, 200);"
   ]
  },
  {
   "cell_type": "code",
   "execution_count": 51,
   "metadata": {},
   "outputs": [
    {
     "data": {
      "image/png": "[encoded data removed]",
      "text/plain": [
       "<Figure size 432x288 with 1 Axes>"
      ]
     },
     "metadata": {
      "needs_background": "light"
     },
     "output_type": "display_data"
    }
   ],
   "source": [
    "#Строим диаграммы размаха для столбца тариф\n",
    "import warnings\n",
    "warnings.filterwarnings('ignore')\n",
    "data_total.boxplot(column='total_profit', by='tariff')\n",
    "plt.suptitle('')\n",
    "plt.ylim(0, 4000);"
   ]
  },
  {
   "cell_type": "markdown",
   "metadata": {},
   "source": [
    "Все значения выручки которые укладываются в диаграмму размаха по тарифу Ультра явяляются медианой, то есть ежемесячной платой а тариф. Следовательно доп. выручка от превышения в общей массе незначительна и явялется выбросами.\n",
    "По тарифу Смарт можно сказать, что за стоимоcть тарифа выходят практически все, поскольку 2 квантиль примерно равен 550 рублям тарифа, следовательно все остальные выше указанной суммы. Однако медиана свидетельствует о том, что все таки выручка от тарифа Смарт меньше выручки от тарифа Ультра."
   ]
  },
  {
   "cell_type": "code",
   "execution_count": 57,
   "metadata": {},
   "outputs": [
    {
     "data": {
      "image/png": "[encoded data removed]",
      "text/plain": [
       "<Figure size 1152x360 with 2 Axes>"
      ]
     },
     "metadata": {
      "needs_background": "light"
     },
     "output_type": "display_data"
    }
   ],
   "source": [
    "fig, axes = plt.subplots(1, 2, figsize=(16, 5))\n",
    "sns.boxplot(data=data_total.sort_values(by='tariff'), x='duration', y='tariff', ax=axes[0])\n",
    "\n",
    "sns.distplot(data_total.query('tariff == \"smart\"')['duration'], color='darkblue', ax=axes[1])\n",
    "sns.distplot(data_total.query('tariff == \"ultra\"')['duration'], color='darkorange', ax=axes[1])\n",
    "\n",
    "fig.suptitle('Использование звонков по тарифам')\n",
    "\n",
    "plt.show();\n"
   ]
  },
  {
   "cell_type": "code",
   "execution_count": 58,
   "metadata": {},
   "outputs": [
    {
     "data": {
      "image/png": "[encoded data removed]",
      "text/plain": [
       "<Figure size 1152x360 with 2 Axes>"
      ]
     },
     "metadata": {
      "needs_background": "light"
     },
     "output_type": "display_data"
    }
   ],
   "source": [
    "fig, axes = plt.subplots(1, 2, figsize=(16, 5))\n",
    "sns.boxplot(data=data_total.sort_values(by='tariff'), x='gb_used', y='tariff', ax=axes[0])\n",
    "\n",
    "sns.distplot(data_total.query('tariff == \"smart\"')['gb_used'], color='darkblue', ax=axes[1])\n",
    "sns.distplot(data_total.query('tariff == \"ultra\"')['gb_used'], color='darkorange', ax=axes[1])\n",
    "\n",
    "fig.suptitle('Использование гигабайт по тарифам')\n",
    "\n",
    "plt.show();\n"
   ]
  },
  {
   "cell_type": "code",
   "execution_count": 53,
   "metadata": {},
   "outputs": [
    {
     "data": {
      "text/html": [
       "<div>\n",
       "<style scoped>\n",
       "    .dataframe tbody tr th:only-of-type {\n",
       "        vertical-align: middle;\n",
       "    }\n",
       "\n",
       "    .dataframe tbody tr th {\n",
       "        vertical-align: top;\n",
       "    }\n",
       "\n",
       "    .dataframe thead th {\n",
       "        text-align: right;\n",
       "    }\n",
       "</style>\n",
       "<table border=\"1\" class=\"dataframe\">\n",
       "  <thead>\n",
       "    <tr style=\"text-align: right;\">\n",
       "      <th></th>\n",
       "      <th>user_id</th>\n",
       "      <th>month</th>\n",
       "      <th>duration</th>\n",
       "      <th>mb_used</th>\n",
       "      <th>gb_used</th>\n",
       "      <th>id</th>\n",
       "      <th>age</th>\n",
       "      <th>churn_date</th>\n",
       "      <th>city</th>\n",
       "      <th>first_name</th>\n",
       "      <th>last_name</th>\n",
       "      <th>reg_date</th>\n",
       "      <th>tariff</th>\n",
       "      <th>messages_included</th>\n",
       "      <th>mb_per_month_included</th>\n",
       "      <th>minutes_included</th>\n",
       "      <th>rub_monthly_fee</th>\n",
       "      <th>rub_per_gb</th>\n",
       "      <th>rub_per_message</th>\n",
       "      <th>rub_per_minute</th>\n",
       "      <th>profit_call</th>\n",
       "      <th>profit_internet</th>\n",
       "      <th>profit_message</th>\n",
       "      <th>total_profit</th>\n",
       "    </tr>\n",
       "  </thead>\n",
       "  <tbody>\n",
       "    <tr>\n",
       "      <th>0</th>\n",
       "      <td>1000</td>\n",
       "      <td>5.0</td>\n",
       "      <td>159.0</td>\n",
       "      <td>2253.49</td>\n",
       "      <td>3.0</td>\n",
       "      <td>22.0</td>\n",
       "      <td>52</td>\n",
       "      <td>NaN</td>\n",
       "      <td>Краснодар</td>\n",
       "      <td>Рафаил</td>\n",
       "      <td>Верещагин</td>\n",
       "      <td>2018-05-25</td>\n",
       "      <td>ultra</td>\n",
       "      <td>1000</td>\n",
       "      <td>30720</td>\n",
       "      <td>3000</td>\n",
       "      <td>1950</td>\n",
       "      <td>150</td>\n",
       "      <td>1</td>\n",
       "      <td>1</td>\n",
       "      <td>0.0</td>\n",
       "      <td>0.0</td>\n",
       "      <td>0.0</td>\n",
       "      <td>1950.0</td>\n",
       "    </tr>\n",
       "    <tr>\n",
       "      <th>1</th>\n",
       "      <td>1000</td>\n",
       "      <td>6.0</td>\n",
       "      <td>172.0</td>\n",
       "      <td>23233.77</td>\n",
       "      <td>23.0</td>\n",
       "      <td>60.0</td>\n",
       "      <td>52</td>\n",
       "      <td>NaN</td>\n",
       "      <td>Краснодар</td>\n",
       "      <td>Рафаил</td>\n",
       "      <td>Верещагин</td>\n",
       "      <td>2018-05-25</td>\n",
       "      <td>ultra</td>\n",
       "      <td>1000</td>\n",
       "      <td>30720</td>\n",
       "      <td>3000</td>\n",
       "      <td>1950</td>\n",
       "      <td>150</td>\n",
       "      <td>1</td>\n",
       "      <td>1</td>\n",
       "      <td>0.0</td>\n",
       "      <td>0.0</td>\n",
       "      <td>0.0</td>\n",
       "      <td>1950.0</td>\n",
       "    </tr>\n",
       "    <tr>\n",
       "      <th>2</th>\n",
       "      <td>1000</td>\n",
       "      <td>7.0</td>\n",
       "      <td>340.0</td>\n",
       "      <td>14003.64</td>\n",
       "      <td>14.0</td>\n",
       "      <td>75.0</td>\n",
       "      <td>52</td>\n",
       "      <td>NaN</td>\n",
       "      <td>Краснодар</td>\n",
       "      <td>Рафаил</td>\n",
       "      <td>Верещагин</td>\n",
       "      <td>2018-05-25</td>\n",
       "      <td>ultra</td>\n",
       "      <td>1000</td>\n",
       "      <td>30720</td>\n",
       "      <td>3000</td>\n",
       "      <td>1950</td>\n",
       "      <td>150</td>\n",
       "      <td>1</td>\n",
       "      <td>1</td>\n",
       "      <td>0.0</td>\n",
       "      <td>0.0</td>\n",
       "      <td>0.0</td>\n",
       "      <td>1950.0</td>\n",
       "    </tr>\n",
       "    <tr>\n",
       "      <th>3</th>\n",
       "      <td>1000</td>\n",
       "      <td>8.0</td>\n",
       "      <td>408.0</td>\n",
       "      <td>14055.93</td>\n",
       "      <td>14.0</td>\n",
       "      <td>81.0</td>\n",
       "      <td>52</td>\n",
       "      <td>NaN</td>\n",
       "      <td>Краснодар</td>\n",
       "      <td>Рафаил</td>\n",
       "      <td>Верещагин</td>\n",
       "      <td>2018-05-25</td>\n",
       "      <td>ultra</td>\n",
       "      <td>1000</td>\n",
       "      <td>30720</td>\n",
       "      <td>3000</td>\n",
       "      <td>1950</td>\n",
       "      <td>150</td>\n",
       "      <td>1</td>\n",
       "      <td>1</td>\n",
       "      <td>0.0</td>\n",
       "      <td>0.0</td>\n",
       "      <td>0.0</td>\n",
       "      <td>1950.0</td>\n",
       "    </tr>\n",
       "    <tr>\n",
       "      <th>4</th>\n",
       "      <td>1000</td>\n",
       "      <td>9.0</td>\n",
       "      <td>466.0</td>\n",
       "      <td>14568.91</td>\n",
       "      <td>15.0</td>\n",
       "      <td>57.0</td>\n",
       "      <td>52</td>\n",
       "      <td>NaN</td>\n",
       "      <td>Краснодар</td>\n",
       "      <td>Рафаил</td>\n",
       "      <td>Верещагин</td>\n",
       "      <td>2018-05-25</td>\n",
       "      <td>ultra</td>\n",
       "      <td>1000</td>\n",
       "      <td>30720</td>\n",
       "      <td>3000</td>\n",
       "      <td>1950</td>\n",
       "      <td>150</td>\n",
       "      <td>1</td>\n",
       "      <td>1</td>\n",
       "      <td>0.0</td>\n",
       "      <td>0.0</td>\n",
       "      <td>0.0</td>\n",
       "      <td>1950.0</td>\n",
       "    </tr>\n",
       "    <tr>\n",
       "      <th>...</th>\n",
       "      <td>...</td>\n",
       "      <td>...</td>\n",
       "      <td>...</td>\n",
       "      <td>...</td>\n",
       "      <td>...</td>\n",
       "      <td>...</td>\n",
       "      <td>...</td>\n",
       "      <td>...</td>\n",
       "      <td>...</td>\n",
       "      <td>...</td>\n",
       "      <td>...</td>\n",
       "      <td>...</td>\n",
       "      <td>...</td>\n",
       "      <td>...</td>\n",
       "      <td>...</td>\n",
       "      <td>...</td>\n",
       "      <td>...</td>\n",
       "      <td>...</td>\n",
       "      <td>...</td>\n",
       "      <td>...</td>\n",
       "      <td>...</td>\n",
       "      <td>...</td>\n",
       "      <td>...</td>\n",
       "      <td>...</td>\n",
       "    </tr>\n",
       "    <tr>\n",
       "      <th>3211</th>\n",
       "      <td>1489</td>\n",
       "      <td>9.0</td>\n",
       "      <td>NaN</td>\n",
       "      <td>17206.30</td>\n",
       "      <td>17.0</td>\n",
       "      <td>32.0</td>\n",
       "      <td>35</td>\n",
       "      <td>NaN</td>\n",
       "      <td>Санкт-Петербург</td>\n",
       "      <td>Павел</td>\n",
       "      <td>Гончаров</td>\n",
       "      <td>2018-08-15</td>\n",
       "      <td>smart</td>\n",
       "      <td>50</td>\n",
       "      <td>15360</td>\n",
       "      <td>500</td>\n",
       "      <td>550</td>\n",
       "      <td>200</td>\n",
       "      <td>3</td>\n",
       "      <td>3</td>\n",
       "      <td>0.0</td>\n",
       "      <td>400.0</td>\n",
       "      <td>0.0</td>\n",
       "      <td>950.0</td>\n",
       "    </tr>\n",
       "    <tr>\n",
       "      <th>3212</th>\n",
       "      <td>1489</td>\n",
       "      <td>10.0</td>\n",
       "      <td>NaN</td>\n",
       "      <td>19559.44</td>\n",
       "      <td>20.0</td>\n",
       "      <td>21.0</td>\n",
       "      <td>35</td>\n",
       "      <td>NaN</td>\n",
       "      <td>Санкт-Петербург</td>\n",
       "      <td>Павел</td>\n",
       "      <td>Гончаров</td>\n",
       "      <td>2018-08-15</td>\n",
       "      <td>smart</td>\n",
       "      <td>50</td>\n",
       "      <td>15360</td>\n",
       "      <td>500</td>\n",
       "      <td>550</td>\n",
       "      <td>200</td>\n",
       "      <td>3</td>\n",
       "      <td>3</td>\n",
       "      <td>0.0</td>\n",
       "      <td>1000.0</td>\n",
       "      <td>0.0</td>\n",
       "      <td>1550.0</td>\n",
       "    </tr>\n",
       "    <tr>\n",
       "      <th>3213</th>\n",
       "      <td>1489</td>\n",
       "      <td>11.0</td>\n",
       "      <td>NaN</td>\n",
       "      <td>17491.56</td>\n",
       "      <td>18.0</td>\n",
       "      <td>20.0</td>\n",
       "      <td>35</td>\n",
       "      <td>NaN</td>\n",
       "      <td>Санкт-Петербург</td>\n",
       "      <td>Павел</td>\n",
       "      <td>Гончаров</td>\n",
       "      <td>2018-08-15</td>\n",
       "      <td>smart</td>\n",
       "      <td>50</td>\n",
       "      <td>15360</td>\n",
       "      <td>500</td>\n",
       "      <td>550</td>\n",
       "      <td>200</td>\n",
       "      <td>3</td>\n",
       "      <td>3</td>\n",
       "      <td>0.0</td>\n",
       "      <td>600.0</td>\n",
       "      <td>0.0</td>\n",
       "      <td>1150.0</td>\n",
       "    </tr>\n",
       "    <tr>\n",
       "      <th>3214</th>\n",
       "      <td>1489</td>\n",
       "      <td>12.0</td>\n",
       "      <td>NaN</td>\n",
       "      <td>17322.51</td>\n",
       "      <td>17.0</td>\n",
       "      <td>35.0</td>\n",
       "      <td>35</td>\n",
       "      <td>NaN</td>\n",
       "      <td>Санкт-Петербург</td>\n",
       "      <td>Павел</td>\n",
       "      <td>Гончаров</td>\n",
       "      <td>2018-08-15</td>\n",
       "      <td>smart</td>\n",
       "      <td>50</td>\n",
       "      <td>15360</td>\n",
       "      <td>500</td>\n",
       "      <td>550</td>\n",
       "      <td>200</td>\n",
       "      <td>3</td>\n",
       "      <td>3</td>\n",
       "      <td>0.0</td>\n",
       "      <td>400.0</td>\n",
       "      <td>0.0</td>\n",
       "      <td>950.0</td>\n",
       "    </tr>\n",
       "    <tr>\n",
       "      <th>3215</th>\n",
       "      <td>1371</td>\n",
       "      <td>NaN</td>\n",
       "      <td>NaN</td>\n",
       "      <td>NaN</td>\n",
       "      <td>NaN</td>\n",
       "      <td>NaN</td>\n",
       "      <td>50</td>\n",
       "      <td>2018-12-30</td>\n",
       "      <td>Омск</td>\n",
       "      <td>Ириней</td>\n",
       "      <td>Трофимов</td>\n",
       "      <td>2018-12-25</td>\n",
       "      <td>smart</td>\n",
       "      <td>50</td>\n",
       "      <td>15360</td>\n",
       "      <td>500</td>\n",
       "      <td>550</td>\n",
       "      <td>200</td>\n",
       "      <td>3</td>\n",
       "      <td>3</td>\n",
       "      <td>0.0</td>\n",
       "      <td>0.0</td>\n",
       "      <td>0.0</td>\n",
       "      <td>550.0</td>\n",
       "    </tr>\n",
       "  </tbody>\n",
       "</table>\n",
       "<p>3216 rows × 24 columns</p>\n",
       "</div>"
      ],
      "text/plain": [
       "      user_id  month  duration   mb_used  gb_used    id  age  churn_date  \\\n",
       "0        1000    5.0     159.0   2253.49      3.0  22.0   52         NaN   \n",
       "1        1000    6.0     172.0  23233.77     23.0  60.0   52         NaN   \n",
       "2        1000    7.0     340.0  14003.64     14.0  75.0   52         NaN   \n",
       "3        1000    8.0     408.0  14055.93     14.0  81.0   52         NaN   \n",
       "4        1000    9.0     466.0  14568.91     15.0  57.0   52         NaN   \n",
       "...       ...    ...       ...       ...      ...   ...  ...         ...   \n",
       "3211     1489    9.0       NaN  17206.30     17.0  32.0   35         NaN   \n",
       "3212     1489   10.0       NaN  19559.44     20.0  21.0   35         NaN   \n",
       "3213     1489   11.0       NaN  17491.56     18.0  20.0   35         NaN   \n",
       "3214     1489   12.0       NaN  17322.51     17.0  35.0   35         NaN   \n",
       "3215     1371    NaN       NaN       NaN      NaN   NaN   50  2018-12-30   \n",
       "\n",
       "                 city first_name  last_name    reg_date tariff  \\\n",
       "0           Краснодар     Рафаил  Верещагин  2018-05-25  ultra   \n",
       "1           Краснодар     Рафаил  Верещагин  2018-05-25  ultra   \n",
       "2           Краснодар     Рафаил  Верещагин  2018-05-25  ultra   \n",
       "3           Краснодар     Рафаил  Верещагин  2018-05-25  ultra   \n",
       "4           Краснодар     Рафаил  Верещагин  2018-05-25  ultra   \n",
       "...               ...        ...        ...         ...    ...   \n",
       "3211  Санкт-Петербург      Павел   Гончаров  2018-08-15  smart   \n",
       "3212  Санкт-Петербург      Павел   Гончаров  2018-08-15  smart   \n",
       "3213  Санкт-Петербург      Павел   Гончаров  2018-08-15  smart   \n",
       "3214  Санкт-Петербург      Павел   Гончаров  2018-08-15  smart   \n",
       "3215             Омск     Ириней   Трофимов  2018-12-25  smart   \n",
       "\n",
       "      messages_included  mb_per_month_included  minutes_included  \\\n",
       "0                  1000                  30720              3000   \n",
       "1                  1000                  30720              3000   \n",
       "2                  1000                  30720              3000   \n",
       "3                  1000                  30720              3000   \n",
       "4                  1000                  30720              3000   \n",
       "...                 ...                    ...               ...   \n",
       "3211                 50                  15360               500   \n",
       "3212                 50                  15360               500   \n",
       "3213                 50                  15360               500   \n",
       "3214                 50                  15360               500   \n",
       "3215                 50                  15360               500   \n",
       "\n",
       "      rub_monthly_fee  rub_per_gb  rub_per_message  rub_per_minute  \\\n",
       "0                1950         150                1               1   \n",
       "1                1950         150                1               1   \n",
       "2                1950         150                1               1   \n",
       "3                1950         150                1               1   \n",
       "4                1950         150                1               1   \n",
       "...               ...         ...              ...             ...   \n",
       "3211              550         200                3               3   \n",
       "3212              550         200                3               3   \n",
       "3213              550         200                3               3   \n",
       "3214              550         200                3               3   \n",
       "3215              550         200                3               3   \n",
       "\n",
       "      profit_call  profit_internet  profit_message  total_profit  \n",
       "0             0.0              0.0             0.0        1950.0  \n",
       "1             0.0              0.0             0.0        1950.0  \n",
       "2             0.0              0.0             0.0        1950.0  \n",
       "3             0.0              0.0             0.0        1950.0  \n",
       "4             0.0              0.0             0.0        1950.0  \n",
       "...           ...              ...             ...           ...  \n",
       "3211          0.0            400.0             0.0         950.0  \n",
       "3212          0.0           1000.0             0.0        1550.0  \n",
       "3213          0.0            600.0             0.0        1150.0  \n",
       "3214          0.0            400.0             0.0         950.0  \n",
       "3215          0.0              0.0             0.0         550.0  \n",
       "\n",
       "[3216 rows x 24 columns]"
      ]
     },
     "execution_count": 53,
     "metadata": {},
     "output_type": "execute_result"
    }
   ],
   "source": [
    "data_total"
   ]
  },
  {
   "cell_type": "markdown",
   "metadata": {},
   "source": [
    "## Проверка гипотез."
   ]
  },
  {
   "cell_type": "markdown",
   "metadata": {},
   "source": [
    "Нулевая гипотеза - считаем, что средняя выручка пользователей тарифов «Ультра» и «Смарт» приблизительно одинаковы. Альтернативная гипотеза - обратна нулевой гипотезе."
   ]
  },
  {
   "cell_type": "code",
   "execution_count": 59,
   "metadata": {},
   "outputs": [
    {
     "name": "stdout",
     "output_type": "stream",
     "text": [
      "669430.4361979931\n",
      "141244.31956107615\n",
      "p-значение:  8.081909555489933e-161\n",
      "Отвергаем нулевую гипотезу\n"
     ]
    }
   ],
   "source": [
    "smart_profit = data_total.query('tariff == \"smart\"')\n",
    "variance_estimate_1 = np.var(smart_profit['total_profit'])\n",
    "smart_profit_od = smart_profit['total_profit']\n",
    "ultra_profit = data_total.query('tariff == \"ultra\"')\n",
    "variance_estimate_2 = np.var(ultra_profit['total_profit'])\n",
    "ultra_profit_od = ultra_profit['total_profit']\n",
    "print(variance_estimate_1)\n",
    "print(variance_estimate_2)\n",
    "alpha = 0.05  # критический уровень статистической значимости\n",
    "\n",
    "#results = st.ttest_1samp(smart_profit_od, ultra_profit_od)\n",
    "results = st.ttest_ind(smart_profit_od, ultra_profit_od)\n",
    "print('p-значение: ', results.pvalue)\n",
    "\n",
    "if results.pvalue < alpha:\n",
    "    print(\"Отвергаем нулевую гипотезу\")\n",
    "else:\n",
    "    print(\"Не получилось отвергнуть нулевую гипотезу\")"
   ]
  },
  {
   "cell_type": "code",
   "execution_count": 60,
   "metadata": {},
   "outputs": [
    {
     "data": {
      "text/plain": [
       "2.3578651290079928e-122"
      ]
     },
     "execution_count": 60,
     "metadata": {},
     "output_type": "execute_result"
    }
   ],
   "source": [
    "# Тест Левена для оценки равенства дисперсии между двумя разными выборками\n",
    "stat, p = levene(smart_profit['total_profit'], ultra_profit['total_profit'])\n",
    "\n",
    "p"
   ]
  },
  {
   "cell_type": "markdown",
   "metadata": {},
   "source": [
    "Полученное значение p-value говорит о том, что получить схожую среднюю выручку по тарифам практически невозможно, настолько малая вероятность."
   ]
  },
  {
   "cell_type": "markdown",
   "metadata": {},
   "source": [
    "Нулевая гипотеза - считаем, что средняя выручка пользователей Москвы и других регионов приблизительно одинаковы. Альтернативная гипотеза - обратна нулевой гипотезе."
   ]
  },
  {
   "cell_type": "code",
   "execution_count": 61,
   "metadata": {},
   "outputs": [
    {
     "name": "stdout",
     "output_type": "stream",
     "text": [
      "565636.467011886\n",
      "654069.574962777\n",
      "p-значение:  0.5400751614511182\n",
      "Не получилось отвергнуть нулевую гипотезу\n"
     ]
    }
   ],
   "source": [
    "msk_profit = data_total.query('city == \"Москва\"')\n",
    "variance_estimate_1 = np.var(msk_profit['total_profit'], ddof=1)\n",
    "msk_profit_od = msk_profit['total_profit']\n",
    "other_profit = data_total.query('city != \"Москва\"')\n",
    "variance_estimate_2 = np.var(other_profit['total_profit'], ddof=1)\n",
    "other_profit_od = other_profit['total_profit']\n",
    "print(variance_estimate_1)\n",
    "print(variance_estimate_2)\n",
    "\n",
    "alpha = 0.05  # критический уровень статистической значимости\n",
    "\n",
    "#results = st.ttest_1samp(msk_profit_od, other_profit_od)\n",
    "results = st.ttest_ind(msk_profit_od, other_profit_od)\n",
    "print('p-значение: ', results.pvalue)\n",
    "\n",
    "if results.pvalue < alpha:\n",
    "    print(\"Отвергаем нулевую гипотезу\")\n",
    "else:\n",
    "    print(\"Не получилось отвергнуть нулевую гипотезу\")"
   ]
  },
  {
   "cell_type": "code",
   "execution_count": 62,
   "metadata": {},
   "outputs": [
    {
     "data": {
      "text/plain": [
       "2.3578651290079928e-122"
      ]
     },
     "execution_count": 62,
     "metadata": {},
     "output_type": "execute_result"
    }
   ],
   "source": [
    "# Тест Левена для оценки равенства дисперсии между двумя разными выборками\n",
    "stat, p = levene(smart_profit['total_profit'], ultra_profit['total_profit'])\n",
    "\n",
    "p"
   ]
  },
  {
   "cell_type": "markdown",
   "metadata": {},
   "source": [
    "Полученное значение p-value говорит о том, что есть высокая вероятность получить среднюю выручку по пользователям в Москве и пользователям других регионов."
   ]
  },
  {
   "cell_type": "markdown",
   "metadata": {},
   "source": [
    "## Общий вывод."
   ]
  },
  {
   "cell_type": "markdown",
   "metadata": {},
   "source": [
    "Тариф Смарт. \n",
    "Большая часть пользователей тарифа  укладывается в положенные в тариф количество минут. Немалая доля пользователей пользуется доп. минутами.\n",
    "Пользователи тарифа разделились где-то 45 на 55 как уклаыдвающиеся в тарифный объем интернета и как не укладывающиеся.\n",
    "Небольшая доля пользователей пользуется доп. смсками.\n",
    "\n",
    "Тариф Ультра.\n",
    "Большинство пользователей укладывается в положенные тарифом гигабайты, но есть немаленькая доля кто превышает.\n",
    "Норму звонков не выбирает никто, следовательно заработать на дополнительных минутах с высокой долей вероятности не выйдет.\n",
    "С смс история аналогичная звонкам. Доп. смс никто не пользуется.\n",
    "\n",
    "Подавляющее большинство пользователей тарифа Ультра приносят выручку в размере платы за тариф. Следовательно доп. выручка от превышения в общей массе незначительна.\n",
    "По тарифу Смарт можно сказать, что за стоимоcть тарифа выходят практически все, тем не менее выручка в среднем от тарифа Смарт меньше выручки от тарифа Ультра.\n",
    "\n",
    "Тариф Смарт позволяет с высокой долей вероятности получить дополнительную прибыль за дополнительные пакеты звонков, смс и интернета. Однако тариф Ультра безусловно предпочтительнее с точки зрения выручки. Весьма вероятно стоит уменьшить объем пакетов включенных в тариф с целью дополнительной выручки :). Проверкой гипотез выяснилось, что добиться схожей выручки по тарифам маловероятно. Также маловероятно получить отличную выручку между пользователями Москвы и других регионов практически нет."
   ]
  }
 ],
 "metadata": {
  "ExecuteTimeLog": [
   {
    "duration": 1596,
    "start_time": "2021-12-17T16:17:10.771Z"
   },
   {
    "duration": 754,
    "start_time": "2021-12-17T16:18:11.170Z"
   },
   {
    "duration": 483,
    "start_time": "2021-12-17T16:22:13.764Z"
   },
   {
    "duration": 457,
    "start_time": "2021-12-17T16:22:26.852Z"
   },
   {
    "duration": 587,
    "start_time": "2021-12-17T16:22:47.445Z"
   },
   {
    "duration": 1068,
    "start_time": "2021-12-17T16:24:01.912Z"
   },
   {
    "duration": 197,
    "start_time": "2021-12-17T16:24:02.983Z"
   },
   {
    "duration": 139,
    "start_time": "2021-12-17T16:24:03.184Z"
   },
   {
    "duration": 32,
    "start_time": "2021-12-17T16:24:03.326Z"
   },
   {
    "duration": 58,
    "start_time": "2021-12-17T16:24:03.360Z"
   },
   {
    "duration": 41,
    "start_time": "2021-12-17T16:31:10.529Z"
   },
   {
    "duration": 420,
    "start_time": "2021-12-17T16:35:17.117Z"
   },
   {
    "duration": 1083,
    "start_time": "2021-12-17T16:35:31.993Z"
   },
   {
    "duration": 197,
    "start_time": "2021-12-17T16:35:33.079Z"
   },
   {
    "duration": 130,
    "start_time": "2021-12-17T16:35:33.279Z"
   },
   {
    "duration": 33,
    "start_time": "2021-12-17T16:35:33.412Z"
   },
   {
    "duration": 47,
    "start_time": "2021-12-17T16:35:33.448Z"
   },
   {
    "duration": 503,
    "start_time": "2021-12-17T16:35:33.497Z"
   },
   {
    "duration": 378,
    "start_time": "2021-12-17T16:37:33.094Z"
   },
   {
    "duration": 885,
    "start_time": "2021-12-17T16:37:59.827Z"
   },
   {
    "duration": 384,
    "start_time": "2021-12-17T16:47:57.824Z"
   },
   {
    "duration": 371,
    "start_time": "2021-12-17T16:48:10.823Z"
   },
   {
    "duration": 372,
    "start_time": "2021-12-17T16:48:36.995Z"
   },
   {
    "duration": 368,
    "start_time": "2021-12-17T16:52:08.642Z"
   },
   {
    "duration": 443,
    "start_time": "2021-12-17T16:52:34.788Z"
   },
   {
    "duration": 388,
    "start_time": "2021-12-17T17:06:38.898Z"
   },
   {
    "duration": 394,
    "start_time": "2021-12-17T17:07:11.226Z"
   },
   {
    "duration": 39,
    "start_time": "2021-12-17T17:07:41.581Z"
   },
   {
    "duration": 39,
    "start_time": "2021-12-17T17:08:09.430Z"
   },
   {
    "duration": 112,
    "start_time": "2021-12-17T17:09:19.295Z"
   },
   {
    "duration": 378,
    "start_time": "2021-12-17T17:17:47.643Z"
   },
   {
    "duration": 387,
    "start_time": "2021-12-17T17:18:19.776Z"
   },
   {
    "duration": 423,
    "start_time": "2021-12-17T17:21:19.786Z"
   },
   {
    "duration": 1087,
    "start_time": "2021-12-17T17:21:54.612Z"
   },
   {
    "duration": 195,
    "start_time": "2021-12-17T17:21:55.702Z"
   },
   {
    "duration": 136,
    "start_time": "2021-12-17T17:21:55.900Z"
   },
   {
    "duration": 34,
    "start_time": "2021-12-17T17:21:56.039Z"
   },
   {
    "duration": 50,
    "start_time": "2021-12-17T17:21:56.076Z"
   },
   {
    "duration": 131,
    "start_time": "2021-12-17T17:21:56.129Z"
   },
   {
    "duration": 473,
    "start_time": "2021-12-17T17:21:56.262Z"
   },
   {
    "duration": 6,
    "start_time": "2021-12-17T17:23:35.526Z"
   },
   {
    "duration": 365,
    "start_time": "2021-12-17T17:24:31.935Z"
   },
   {
    "duration": 405,
    "start_time": "2021-12-17T17:24:53.375Z"
   },
   {
    "duration": 424,
    "start_time": "2021-12-17T17:26:24.326Z"
   },
   {
    "duration": 411,
    "start_time": "2021-12-17T17:27:02.798Z"
   },
   {
    "duration": 11104,
    "start_time": "2021-12-17T17:27:19.135Z"
   },
   {
    "duration": 10271,
    "start_time": "2021-12-17T17:27:53.117Z"
   },
   {
    "duration": 27,
    "start_time": "2021-12-17T17:32:09.152Z"
   },
   {
    "duration": 28,
    "start_time": "2021-12-17T17:32:29.359Z"
   },
   {
    "duration": 1401,
    "start_time": "2021-12-17T17:34:57.083Z"
   },
   {
    "duration": 363,
    "start_time": "2021-12-17T17:36:05.106Z"
   },
   {
    "duration": 8,
    "start_time": "2021-12-17T17:36:13.155Z"
   },
   {
    "duration": 17,
    "start_time": "2021-12-17T17:36:21.039Z"
   },
   {
    "duration": 37,
    "start_time": "2021-12-17T17:36:29.596Z"
   },
   {
    "duration": 10,
    "start_time": "2021-12-17T17:38:48.542Z"
   },
   {
    "duration": 20,
    "start_time": "2021-12-17T17:44:35.478Z"
   },
   {
    "duration": 23,
    "start_time": "2021-12-17T17:45:10.522Z"
   },
   {
    "duration": 96,
    "start_time": "2021-12-17T17:46:10.854Z"
   },
   {
    "duration": 10,
    "start_time": "2021-12-17T17:47:41.041Z"
   },
   {
    "duration": 7,
    "start_time": "2021-12-17T17:47:57.193Z"
   },
   {
    "duration": 34,
    "start_time": "2021-12-17T17:49:15.152Z"
   },
   {
    "duration": 149,
    "start_time": "2021-12-17T17:51:12.832Z"
   },
   {
    "duration": 22,
    "start_time": "2021-12-17T17:51:26.700Z"
   },
   {
    "duration": 1093,
    "start_time": "2021-12-18T06:12:52.999Z"
   },
   {
    "duration": 352,
    "start_time": "2021-12-18T06:12:58.872Z"
   },
   {
    "duration": 71,
    "start_time": "2021-12-18T06:13:14.246Z"
   },
   {
    "duration": 44,
    "start_time": "2021-12-18T06:13:17.091Z"
   },
   {
    "duration": 208,
    "start_time": "2021-12-18T06:14:03.562Z"
   },
   {
    "duration": 250,
    "start_time": "2021-12-18T06:14:07.217Z"
   },
   {
    "duration": 51,
    "start_time": "2021-12-18T06:14:11.714Z"
   },
   {
    "duration": 6774,
    "start_time": "2021-12-18T06:14:14.343Z"
   },
   {
    "duration": 49,
    "start_time": "2021-12-18T06:14:32.816Z"
   },
   {
    "duration": 25,
    "start_time": "2021-12-18T06:14:37.360Z"
   },
   {
    "duration": 6495,
    "start_time": "2021-12-18T06:14:44.347Z"
   },
   {
    "duration": 511,
    "start_time": "2021-12-18T06:14:52.256Z"
   },
   {
    "duration": 30,
    "start_time": "2021-12-18T06:16:18.998Z"
   },
   {
    "duration": 530,
    "start_time": "2021-12-18T06:16:22.468Z"
   },
   {
    "duration": 522,
    "start_time": "2021-12-18T06:16:57.270Z"
   },
   {
    "duration": 23,
    "start_time": "2021-12-18T06:18:30.314Z"
   },
   {
    "duration": 19,
    "start_time": "2021-12-18T06:18:56.633Z"
   },
   {
    "duration": 6781,
    "start_time": "2021-12-18T06:19:04.714Z"
   },
   {
    "duration": -1395,
    "start_time": "2021-12-18T06:19:12.892Z"
   },
   {
    "duration": 1127,
    "start_time": "2021-12-18T06:19:48.153Z"
   },
   {
    "duration": 69,
    "start_time": "2021-12-18T06:19:49.282Z"
   },
   {
    "duration": 41,
    "start_time": "2021-12-18T06:19:49.369Z"
   },
   {
    "duration": 214,
    "start_time": "2021-12-18T06:19:49.412Z"
   },
   {
    "duration": 64,
    "start_time": "2021-12-18T06:19:49.629Z"
   },
   {
    "duration": 37,
    "start_time": "2021-12-18T06:19:49.695Z"
   },
   {
    "duration": 145,
    "start_time": "2021-12-18T06:19:49.734Z"
   },
   {
    "duration": 371,
    "start_time": "2021-12-18T06:19:49.883Z"
   },
   {
    "duration": -1350,
    "start_time": "2021-12-18T06:19:51.607Z"
   },
   {
    "duration": -1352,
    "start_time": "2021-12-18T06:19:51.610Z"
   },
   {
    "duration": -1378,
    "start_time": "2021-12-18T06:19:51.638Z"
   },
   {
    "duration": -1383,
    "start_time": "2021-12-18T06:19:51.644Z"
   },
   {
    "duration": -1383,
    "start_time": "2021-12-18T06:19:51.646Z"
   },
   {
    "duration": -1385,
    "start_time": "2021-12-18T06:19:51.649Z"
   },
   {
    "duration": -1386,
    "start_time": "2021-12-18T06:19:51.651Z"
   },
   {
    "duration": -1386,
    "start_time": "2021-12-18T06:19:51.653Z"
   },
   {
    "duration": -1387,
    "start_time": "2021-12-18T06:19:51.655Z"
   },
   {
    "duration": -1388,
    "start_time": "2021-12-18T06:19:51.657Z"
   },
   {
    "duration": 7435,
    "start_time": "2021-12-18T06:20:18.772Z"
   },
   {
    "duration": 6551,
    "start_time": "2021-12-18T06:21:08.511Z"
   },
   {
    "duration": 27,
    "start_time": "2021-12-18T06:21:58.104Z"
   },
   {
    "duration": 25,
    "start_time": "2021-12-18T06:22:19.072Z"
   },
   {
    "duration": 32,
    "start_time": "2021-12-18T06:22:46.736Z"
   },
   {
    "duration": 61,
    "start_time": "2021-12-18T06:22:49.935Z"
   },
   {
    "duration": 21,
    "start_time": "2021-12-18T06:23:48.380Z"
   },
   {
    "duration": 10,
    "start_time": "2021-12-18T06:25:10.044Z"
   },
   {
    "duration": 19,
    "start_time": "2021-12-18T06:25:19.562Z"
   },
   {
    "duration": 342,
    "start_time": "2021-12-18T06:27:39.372Z"
   },
   {
    "duration": 27,
    "start_time": "2021-12-18T06:27:47.682Z"
   },
   {
    "duration": 5,
    "start_time": "2021-12-18T06:30:36.703Z"
   },
   {
    "duration": 32,
    "start_time": "2021-12-18T06:31:43.898Z"
   },
   {
    "duration": 41,
    "start_time": "2021-12-18T06:32:11.630Z"
   },
   {
    "duration": 91,
    "start_time": "2021-12-18T06:38:54.113Z"
   },
   {
    "duration": 97,
    "start_time": "2021-12-18T06:39:00.110Z"
   },
   {
    "duration": 1599,
    "start_time": "2021-12-18T06:39:08.840Z"
   },
   {
    "duration": 1114,
    "start_time": "2021-12-18T06:39:23.569Z"
   },
   {
    "duration": 86,
    "start_time": "2021-12-18T06:39:24.686Z"
   },
   {
    "duration": 1130,
    "start_time": "2021-12-18T06:39:47.327Z"
   },
   {
    "duration": 75,
    "start_time": "2021-12-18T06:39:48.459Z"
   },
   {
    "duration": 1104,
    "start_time": "2021-12-18T06:41:00.389Z"
   },
   {
    "duration": 89,
    "start_time": "2021-12-18T06:41:01.496Z"
   },
   {
    "duration": 1125,
    "start_time": "2021-12-18T06:42:28.751Z"
   },
   {
    "duration": 69,
    "start_time": "2021-12-18T06:42:29.879Z"
   },
   {
    "duration": 17,
    "start_time": "2021-12-18T06:42:29.951Z"
   },
   {
    "duration": 47,
    "start_time": "2021-12-18T06:42:29.971Z"
   },
   {
    "duration": 224,
    "start_time": "2021-12-18T06:42:30.021Z"
   },
   {
    "duration": 64,
    "start_time": "2021-12-18T06:42:30.247Z"
   },
   {
    "duration": 55,
    "start_time": "2021-12-18T06:42:30.313Z"
   },
   {
    "duration": 141,
    "start_time": "2021-12-18T06:42:30.371Z"
   },
   {
    "duration": 65,
    "start_time": "2021-12-18T06:42:30.518Z"
   },
   {
    "duration": 27,
    "start_time": "2021-12-18T06:42:30.587Z"
   },
   {
    "duration": 50,
    "start_time": "2021-12-18T06:42:30.617Z"
   },
   {
    "duration": 6,
    "start_time": "2021-12-18T06:42:30.670Z"
   },
   {
    "duration": 67,
    "start_time": "2021-12-18T06:42:30.679Z"
   },
   {
    "duration": 21,
    "start_time": "2021-12-18T06:42:30.748Z"
   },
   {
    "duration": 37,
    "start_time": "2021-12-18T06:42:30.771Z"
   },
   {
    "duration": 29,
    "start_time": "2021-12-18T06:42:30.810Z"
   },
   {
    "duration": 54,
    "start_time": "2021-12-18T06:42:30.842Z"
   },
   {
    "duration": 355,
    "start_time": "2021-12-18T06:42:30.899Z"
   },
   {
    "duration": 87,
    "start_time": "2021-12-18T06:42:42.840Z"
   },
   {
    "duration": 83,
    "start_time": "2021-12-18T06:42:58.019Z"
   },
   {
    "duration": 284,
    "start_time": "2021-12-18T06:43:06.923Z"
   },
   {
    "duration": 271,
    "start_time": "2021-12-18T06:45:47.454Z"
   },
   {
    "duration": 6,
    "start_time": "2021-12-18T06:47:16.293Z"
   },
   {
    "duration": 13,
    "start_time": "2021-12-18T06:47:22.400Z"
   },
   {
    "duration": 1114,
    "start_time": "2021-12-18T06:47:45.397Z"
   },
   {
    "duration": 77,
    "start_time": "2021-12-18T06:47:46.514Z"
   },
   {
    "duration": 107,
    "start_time": "2021-12-18T06:47:46.594Z"
   },
   {
    "duration": 39,
    "start_time": "2021-12-18T06:47:46.704Z"
   },
   {
    "duration": 222,
    "start_time": "2021-12-18T06:47:46.746Z"
   },
   {
    "duration": 53,
    "start_time": "2021-12-18T06:47:46.971Z"
   },
   {
    "duration": 63,
    "start_time": "2021-12-18T06:47:47.027Z"
   },
   {
    "duration": 148,
    "start_time": "2021-12-18T06:47:47.095Z"
   },
   {
    "duration": 57,
    "start_time": "2021-12-18T06:47:47.247Z"
   },
   {
    "duration": 28,
    "start_time": "2021-12-18T06:47:47.307Z"
   },
   {
    "duration": 50,
    "start_time": "2021-12-18T06:47:47.338Z"
   },
   {
    "duration": 5,
    "start_time": "2021-12-18T06:47:47.390Z"
   },
   {
    "duration": 58,
    "start_time": "2021-12-18T06:47:47.397Z"
   },
   {
    "duration": 27,
    "start_time": "2021-12-18T06:47:47.458Z"
   },
   {
    "duration": 27,
    "start_time": "2021-12-18T06:47:47.488Z"
   },
   {
    "duration": 65,
    "start_time": "2021-12-18T06:47:47.518Z"
   },
   {
    "duration": 62,
    "start_time": "2021-12-18T06:47:47.586Z"
   },
   {
    "duration": 416,
    "start_time": "2021-12-18T06:47:47.668Z"
   },
   {
    "duration": 12,
    "start_time": "2021-12-18T06:48:51.593Z"
   },
   {
    "duration": 1525,
    "start_time": "2021-12-18T06:49:01.028Z"
   },
   {
    "duration": 103,
    "start_time": "2021-12-18T06:49:02.556Z"
   },
   {
    "duration": 129,
    "start_time": "2021-12-18T06:49:02.669Z"
   },
   {
    "duration": 67,
    "start_time": "2021-12-18T06:49:02.801Z"
   },
   {
    "duration": 301,
    "start_time": "2021-12-18T06:49:02.871Z"
   },
   {
    "duration": 72,
    "start_time": "2021-12-18T06:49:03.175Z"
   },
   {
    "duration": 48,
    "start_time": "2021-12-18T06:49:03.267Z"
   },
   {
    "duration": 166,
    "start_time": "2021-12-18T06:49:03.319Z"
   },
   {
    "duration": 44,
    "start_time": "2021-12-18T06:49:03.488Z"
   },
   {
    "duration": 52,
    "start_time": "2021-12-18T06:49:03.535Z"
   },
   {
    "duration": 32,
    "start_time": "2021-12-18T06:49:03.590Z"
   },
   {
    "duration": 6,
    "start_time": "2021-12-18T06:49:03.626Z"
   },
   {
    "duration": 58,
    "start_time": "2021-12-18T06:49:03.634Z"
   },
   {
    "duration": 21,
    "start_time": "2021-12-18T06:49:03.694Z"
   },
   {
    "duration": 44,
    "start_time": "2021-12-18T06:49:03.717Z"
   },
   {
    "duration": 30,
    "start_time": "2021-12-18T06:49:03.764Z"
   },
   {
    "duration": 77,
    "start_time": "2021-12-18T06:49:03.797Z"
   },
   {
    "duration": 368,
    "start_time": "2021-12-18T06:49:03.876Z"
   },
   {
    "duration": 1117,
    "start_time": "2021-12-18T06:51:04.797Z"
   },
   {
    "duration": 82,
    "start_time": "2021-12-18T06:51:05.917Z"
   },
   {
    "duration": 5,
    "start_time": "2021-12-18T06:51:06.002Z"
   },
   {
    "duration": 86,
    "start_time": "2021-12-18T06:51:06.010Z"
   },
   {
    "duration": 41,
    "start_time": "2021-12-18T06:51:06.099Z"
   },
   {
    "duration": 222,
    "start_time": "2021-12-18T06:51:06.142Z"
   },
   {
    "duration": 54,
    "start_time": "2021-12-18T06:51:06.367Z"
   },
   {
    "duration": 66,
    "start_time": "2021-12-18T06:51:06.426Z"
   },
   {
    "duration": 147,
    "start_time": "2021-12-18T06:51:06.495Z"
   },
   {
    "duration": 50,
    "start_time": "2021-12-18T06:51:06.644Z"
   },
   {
    "duration": 25,
    "start_time": "2021-12-18T06:51:06.697Z"
   },
   {
    "duration": 48,
    "start_time": "2021-12-18T06:51:06.725Z"
   },
   {
    "duration": 9,
    "start_time": "2021-12-18T06:51:06.776Z"
   },
   {
    "duration": 67,
    "start_time": "2021-12-18T06:51:06.788Z"
   },
   {
    "duration": 27,
    "start_time": "2021-12-18T06:51:06.857Z"
   },
   {
    "duration": 25,
    "start_time": "2021-12-18T06:51:06.887Z"
   },
   {
    "duration": 56,
    "start_time": "2021-12-18T06:51:06.915Z"
   },
   {
    "duration": 59,
    "start_time": "2021-12-18T06:51:06.974Z"
   },
   {
    "duration": 431,
    "start_time": "2021-12-18T06:51:07.035Z"
   },
   {
    "duration": 343,
    "start_time": "2021-12-18T06:52:33.335Z"
   },
   {
    "duration": 65,
    "start_time": "2021-12-18T06:54:25.033Z"
   },
   {
    "duration": 1359,
    "start_time": "2021-12-18T06:54:33.484Z"
   },
   {
    "duration": 80,
    "start_time": "2021-12-18T06:54:34.846Z"
   },
   {
    "duration": 4,
    "start_time": "2021-12-18T06:54:34.928Z"
   },
   {
    "duration": 87,
    "start_time": "2021-12-18T06:54:34.934Z"
   },
   {
    "duration": 53,
    "start_time": "2021-12-18T06:54:35.023Z"
   },
   {
    "duration": 243,
    "start_time": "2021-12-18T06:54:35.078Z"
   },
   {
    "duration": 68,
    "start_time": "2021-12-18T06:54:35.323Z"
   },
   {
    "duration": 36,
    "start_time": "2021-12-18T06:54:35.395Z"
   },
   {
    "duration": 187,
    "start_time": "2021-12-18T06:54:35.435Z"
   },
   {
    "duration": 56,
    "start_time": "2021-12-18T06:54:35.624Z"
   },
   {
    "duration": 25,
    "start_time": "2021-12-18T06:54:35.683Z"
   },
   {
    "duration": 32,
    "start_time": "2021-12-18T06:54:35.710Z"
   },
   {
    "duration": 26,
    "start_time": "2021-12-18T06:54:35.745Z"
   },
   {
    "duration": 70,
    "start_time": "2021-12-18T06:54:35.775Z"
   },
   {
    "duration": 27,
    "start_time": "2021-12-18T06:54:35.848Z"
   },
   {
    "duration": 31,
    "start_time": "2021-12-18T06:54:35.879Z"
   },
   {
    "duration": 54,
    "start_time": "2021-12-18T06:54:35.913Z"
   },
   {
    "duration": 52,
    "start_time": "2021-12-18T06:54:35.970Z"
   },
   {
    "duration": 378,
    "start_time": "2021-12-18T06:54:36.024Z"
   },
   {
    "duration": 13,
    "start_time": "2021-12-18T06:55:06.294Z"
   },
   {
    "duration": 1509,
    "start_time": "2021-12-18T06:55:13.524Z"
   },
   {
    "duration": 107,
    "start_time": "2021-12-18T06:55:15.036Z"
   },
   {
    "duration": 4,
    "start_time": "2021-12-18T06:55:15.148Z"
   },
   {
    "duration": 86,
    "start_time": "2021-12-18T06:55:15.167Z"
   },
   {
    "duration": 45,
    "start_time": "2021-12-18T06:55:15.256Z"
   },
   {
    "duration": 211,
    "start_time": "2021-12-18T06:55:15.303Z"
   },
   {
    "duration": 65,
    "start_time": "2021-12-18T06:55:15.517Z"
   },
   {
    "duration": 37,
    "start_time": "2021-12-18T06:55:15.585Z"
   },
   {
    "duration": 156,
    "start_time": "2021-12-18T06:55:15.626Z"
   },
   {
    "duration": 43,
    "start_time": "2021-12-18T06:55:15.785Z"
   },
   {
    "duration": 48,
    "start_time": "2021-12-18T06:55:15.830Z"
   },
   {
    "duration": 37,
    "start_time": "2021-12-18T06:55:15.881Z"
   },
   {
    "duration": 6,
    "start_time": "2021-12-18T06:55:15.921Z"
   },
   {
    "duration": 66,
    "start_time": "2021-12-18T06:55:15.930Z"
   },
   {
    "duration": 21,
    "start_time": "2021-12-18T06:55:15.998Z"
   },
   {
    "duration": 46,
    "start_time": "2021-12-18T06:55:16.022Z"
   },
   {
    "duration": 28,
    "start_time": "2021-12-18T06:55:16.071Z"
   },
   {
    "duration": 68,
    "start_time": "2021-12-18T06:55:16.101Z"
   },
   {
    "duration": 356,
    "start_time": "2021-12-18T06:55:16.171Z"
   },
   {
    "duration": 1143,
    "start_time": "2021-12-18T06:57:42.151Z"
   },
   {
    "duration": 82,
    "start_time": "2021-12-18T06:57:43.297Z"
   },
   {
    "duration": 5,
    "start_time": "2021-12-18T06:57:43.382Z"
   },
   {
    "duration": 101,
    "start_time": "2021-12-18T06:57:43.390Z"
   },
   {
    "duration": 42,
    "start_time": "2021-12-18T06:57:43.494Z"
   },
   {
    "duration": 219,
    "start_time": "2021-12-18T06:57:43.539Z"
   },
   {
    "duration": 55,
    "start_time": "2021-12-18T06:57:43.768Z"
   },
   {
    "duration": 56,
    "start_time": "2021-12-18T06:57:43.827Z"
   },
   {
    "duration": 142,
    "start_time": "2021-12-18T06:57:43.886Z"
   },
   {
    "duration": 61,
    "start_time": "2021-12-18T06:57:44.031Z"
   },
   {
    "duration": 26,
    "start_time": "2021-12-18T06:57:44.094Z"
   },
   {
    "duration": 44,
    "start_time": "2021-12-18T06:57:44.123Z"
   },
   {
    "duration": 5,
    "start_time": "2021-12-18T06:57:44.170Z"
   },
   {
    "duration": 83,
    "start_time": "2021-12-18T06:57:44.177Z"
   },
   {
    "duration": 28,
    "start_time": "2021-12-18T06:57:44.262Z"
   },
   {
    "duration": 19,
    "start_time": "2021-12-18T06:57:44.292Z"
   },
   {
    "duration": 45,
    "start_time": "2021-12-18T06:57:44.314Z"
   },
   {
    "duration": 46,
    "start_time": "2021-12-18T06:57:44.366Z"
   },
   {
    "duration": 371,
    "start_time": "2021-12-18T06:57:44.414Z"
   },
   {
    "duration": 1129,
    "start_time": "2021-12-18T06:58:24.468Z"
   },
   {
    "duration": 87,
    "start_time": "2021-12-18T06:58:25.600Z"
   },
   {
    "duration": 10,
    "start_time": "2021-12-18T06:58:25.689Z"
   },
   {
    "duration": 77,
    "start_time": "2021-12-18T06:58:25.702Z"
   },
   {
    "duration": 40,
    "start_time": "2021-12-18T06:58:25.782Z"
   },
   {
    "duration": 224,
    "start_time": "2021-12-18T06:58:25.824Z"
   },
   {
    "duration": 59,
    "start_time": "2021-12-18T06:58:26.050Z"
   },
   {
    "duration": 55,
    "start_time": "2021-12-18T06:58:26.112Z"
   },
   {
    "duration": 135,
    "start_time": "2021-12-18T06:58:26.170Z"
   },
   {
    "duration": 59,
    "start_time": "2021-12-18T06:58:26.308Z"
   },
   {
    "duration": 27,
    "start_time": "2021-12-18T06:58:26.369Z"
   },
   {
    "duration": 30,
    "start_time": "2021-12-18T06:58:26.399Z"
   },
   {
    "duration": 5,
    "start_time": "2021-12-18T06:58:26.432Z"
   },
   {
    "duration": 48,
    "start_time": "2021-12-18T06:58:26.440Z"
   },
   {
    "duration": 23,
    "start_time": "2021-12-18T06:58:26.490Z"
   },
   {
    "duration": 57,
    "start_time": "2021-12-18T06:58:26.515Z"
   },
   {
    "duration": 29,
    "start_time": "2021-12-18T06:58:26.574Z"
   },
   {
    "duration": 72,
    "start_time": "2021-12-18T06:58:26.606Z"
   },
   {
    "duration": 350,
    "start_time": "2021-12-18T06:58:26.681Z"
   },
   {
    "duration": 1197,
    "start_time": "2021-12-18T07:00:58.382Z"
   },
   {
    "duration": 106,
    "start_time": "2021-12-18T07:00:59.583Z"
   },
   {
    "duration": 117319,
    "start_time": "2021-12-18T07:00:59.693Z"
   },
   {
    "duration": 99,
    "start_time": "2021-12-18T07:02:57.015Z"
   },
   {
    "duration": 52,
    "start_time": "2021-12-18T07:02:57.116Z"
   },
   {
    "duration": 216,
    "start_time": "2021-12-18T07:02:57.170Z"
   },
   {
    "duration": 56,
    "start_time": "2021-12-18T07:02:57.390Z"
   },
   {
    "duration": 45,
    "start_time": "2021-12-18T07:02:57.471Z"
   },
   {
    "duration": 150,
    "start_time": "2021-12-18T07:02:57.520Z"
   },
   {
    "duration": 43,
    "start_time": "2021-12-18T07:02:57.672Z"
   },
   {
    "duration": 26,
    "start_time": "2021-12-18T07:02:57.718Z"
   },
   {
    "duration": 33,
    "start_time": "2021-12-18T07:02:57.767Z"
   },
   {
    "duration": 33,
    "start_time": "2021-12-18T07:02:57.802Z"
   },
   {
    "duration": 61,
    "start_time": "2021-12-18T07:02:57.838Z"
   },
   {
    "duration": 24,
    "start_time": "2021-12-18T07:02:57.902Z"
   },
   {
    "duration": 23,
    "start_time": "2021-12-18T07:02:57.930Z"
   },
   {
    "duration": 28,
    "start_time": "2021-12-18T07:02:57.968Z"
   },
   {
    "duration": 44,
    "start_time": "2021-12-18T07:02:57.999Z"
   },
   {
    "duration": 433,
    "start_time": "2021-12-18T07:02:58.068Z"
   },
   {
    "duration": 1193,
    "start_time": "2021-12-18T07:06:39.994Z"
   },
   {
    "duration": 78,
    "start_time": "2021-12-18T07:06:41.189Z"
   },
   {
    "duration": 384,
    "start_time": "2021-12-18T07:06:41.276Z"
   },
   {
    "duration": -1331,
    "start_time": "2021-12-18T07:06:42.995Z"
   },
   {
    "duration": -1348,
    "start_time": "2021-12-18T07:06:43.013Z"
   },
   {
    "duration": -1354,
    "start_time": "2021-12-18T07:06:43.021Z"
   },
   {
    "duration": -1357,
    "start_time": "2021-12-18T07:06:43.025Z"
   },
   {
    "duration": -1358,
    "start_time": "2021-12-18T07:06:43.027Z"
   },
   {
    "duration": -1358,
    "start_time": "2021-12-18T07:06:43.029Z"
   },
   {
    "duration": -1360,
    "start_time": "2021-12-18T07:06:43.032Z"
   },
   {
    "duration": -1361,
    "start_time": "2021-12-18T07:06:43.034Z"
   },
   {
    "duration": -1362,
    "start_time": "2021-12-18T07:06:43.036Z"
   },
   {
    "duration": -1362,
    "start_time": "2021-12-18T07:06:43.037Z"
   },
   {
    "duration": -1363,
    "start_time": "2021-12-18T07:06:43.039Z"
   },
   {
    "duration": -1363,
    "start_time": "2021-12-18T07:06:43.041Z"
   },
   {
    "duration": -1363,
    "start_time": "2021-12-18T07:06:43.042Z"
   },
   {
    "duration": -1372,
    "start_time": "2021-12-18T07:06:43.052Z"
   },
   {
    "duration": -1371,
    "start_time": "2021-12-18T07:06:43.053Z"
   },
   {
    "duration": 1180,
    "start_time": "2021-12-18T07:13:21.701Z"
   },
   {
    "duration": 91,
    "start_time": "2021-12-18T07:13:22.885Z"
   },
   {
    "duration": 4,
    "start_time": "2021-12-18T07:13:22.981Z"
   },
   {
    "duration": 53,
    "start_time": "2021-12-18T07:13:22.988Z"
   },
   {
    "duration": 229,
    "start_time": "2021-12-18T07:13:23.043Z"
   },
   {
    "duration": 59,
    "start_time": "2021-12-18T07:13:23.275Z"
   },
   {
    "duration": 74,
    "start_time": "2021-12-18T07:13:23.336Z"
   },
   {
    "duration": 165,
    "start_time": "2021-12-18T07:13:23.412Z"
   },
   {
    "duration": 45,
    "start_time": "2021-12-18T07:13:23.582Z"
   },
   {
    "duration": 57,
    "start_time": "2021-12-18T07:13:23.630Z"
   },
   {
    "duration": 33,
    "start_time": "2021-12-18T07:13:23.689Z"
   },
   {
    "duration": 8,
    "start_time": "2021-12-18T07:13:23.724Z"
   },
   {
    "duration": 56,
    "start_time": "2021-12-18T07:13:23.734Z"
   },
   {
    "duration": 21,
    "start_time": "2021-12-18T07:13:23.793Z"
   },
   {
    "duration": 20,
    "start_time": "2021-12-18T07:13:23.816Z"
   },
   {
    "duration": 61,
    "start_time": "2021-12-18T07:13:23.838Z"
   },
   {
    "duration": 68,
    "start_time": "2021-12-18T07:13:23.902Z"
   },
   {
    "duration": 362,
    "start_time": "2021-12-18T07:13:23.973Z"
   },
   {
    "duration": 87,
    "start_time": "2021-12-18T09:20:09.151Z"
   },
   {
    "duration": 400,
    "start_time": "2021-12-18T09:20:19.095Z"
   },
   {
    "duration": 1196,
    "start_time": "2021-12-18T09:20:31.329Z"
   },
   {
    "duration": 99,
    "start_time": "2021-12-18T09:20:32.528Z"
   },
   {
    "duration": 373,
    "start_time": "2021-12-18T09:20:32.631Z"
   },
   {
    "duration": -773,
    "start_time": "2021-12-18T09:20:33.781Z"
   },
   {
    "duration": -798,
    "start_time": "2021-12-18T09:20:33.807Z"
   },
   {
    "duration": -799,
    "start_time": "2021-12-18T09:20:33.810Z"
   },
   {
    "duration": -801,
    "start_time": "2021-12-18T09:20:33.813Z"
   },
   {
    "duration": -802,
    "start_time": "2021-12-18T09:20:33.816Z"
   },
   {
    "duration": -803,
    "start_time": "2021-12-18T09:20:33.818Z"
   },
   {
    "duration": -804,
    "start_time": "2021-12-18T09:20:33.820Z"
   },
   {
    "duration": -804,
    "start_time": "2021-12-18T09:20:33.821Z"
   },
   {
    "duration": -804,
    "start_time": "2021-12-18T09:20:33.823Z"
   },
   {
    "duration": -804,
    "start_time": "2021-12-18T09:20:33.825Z"
   },
   {
    "duration": -803,
    "start_time": "2021-12-18T09:20:33.827Z"
   },
   {
    "duration": -802,
    "start_time": "2021-12-18T09:20:33.828Z"
   },
   {
    "duration": -804,
    "start_time": "2021-12-18T09:20:33.831Z"
   },
   {
    "duration": -804,
    "start_time": "2021-12-18T09:20:33.833Z"
   },
   {
    "duration": -811,
    "start_time": "2021-12-18T09:20:33.841Z"
   },
   {
    "duration": 269,
    "start_time": "2021-12-18T09:20:43.971Z"
   },
   {
    "duration": 297,
    "start_time": "2021-12-18T09:20:52.534Z"
   },
   {
    "duration": 277,
    "start_time": "2021-12-18T09:21:11.555Z"
   },
   {
    "duration": 275,
    "start_time": "2021-12-18T09:21:29.585Z"
   },
   {
    "duration": 7,
    "start_time": "2021-12-18T09:22:01.688Z"
   },
   {
    "duration": 16,
    "start_time": "2021-12-18T09:22:11.763Z"
   },
   {
    "duration": 1205,
    "start_time": "2021-12-18T09:22:47.296Z"
   },
   {
    "duration": 81,
    "start_time": "2021-12-18T09:22:48.504Z"
   },
   {
    "duration": 17,
    "start_time": "2021-12-18T09:22:48.589Z"
   },
   {
    "duration": 65,
    "start_time": "2021-12-18T09:22:48.609Z"
   },
   {
    "duration": 232,
    "start_time": "2021-12-18T09:22:48.683Z"
   },
   {
    "duration": 70,
    "start_time": "2021-12-18T09:22:48.917Z"
   },
   {
    "duration": 42,
    "start_time": "2021-12-18T09:22:48.989Z"
   },
   {
    "duration": 178,
    "start_time": "2021-12-18T09:22:49.035Z"
   },
   {
    "duration": 60,
    "start_time": "2021-12-18T09:22:49.217Z"
   },
   {
    "duration": 27,
    "start_time": "2021-12-18T09:22:49.286Z"
   },
   {
    "duration": 31,
    "start_time": "2021-12-18T09:22:49.316Z"
   },
   {
    "duration": 26,
    "start_time": "2021-12-18T09:22:49.350Z"
   },
   {
    "duration": 50,
    "start_time": "2021-12-18T09:22:49.382Z"
   },
   {
    "duration": 19,
    "start_time": "2021-12-18T09:22:49.435Z"
   },
   {
    "duration": 46,
    "start_time": "2021-12-18T09:22:49.457Z"
   },
   {
    "duration": 35,
    "start_time": "2021-12-18T09:22:49.506Z"
   },
   {
    "duration": 53,
    "start_time": "2021-12-18T09:22:49.543Z"
   },
   {
    "duration": 89,
    "start_time": "2021-12-18T09:22:49.599Z"
   },
   {
    "duration": 42,
    "start_time": "2021-12-18T09:29:00.672Z"
   },
   {
    "duration": 138,
    "start_time": "2021-12-18T09:38:33.758Z"
   },
   {
    "duration": 161,
    "start_time": "2021-12-18T09:38:44.827Z"
   },
   {
    "duration": 202,
    "start_time": "2021-12-18T09:39:07.261Z"
   },
   {
    "duration": 190,
    "start_time": "2021-12-18T09:39:35.634Z"
   },
   {
    "duration": 568,
    "start_time": "2021-12-18T09:40:57.787Z"
   },
   {
    "duration": 169,
    "start_time": "2021-12-18T09:41:24.171Z"
   },
   {
    "duration": 451,
    "start_time": "2021-12-18T09:41:41.362Z"
   },
   {
    "duration": 168,
    "start_time": "2021-12-18T09:42:09.628Z"
   },
   {
    "duration": 155,
    "start_time": "2021-12-18T09:42:20.248Z"
   },
   {
    "duration": 152,
    "start_time": "2021-12-18T09:42:48.437Z"
   },
   {
    "duration": 143,
    "start_time": "2021-12-18T09:44:52.319Z"
   },
   {
    "duration": 147,
    "start_time": "2021-12-18T09:45:13.286Z"
   },
   {
    "duration": 167,
    "start_time": "2021-12-18T09:45:33.076Z"
   },
   {
    "duration": 6766,
    "start_time": "2021-12-18T09:50:16.536Z"
   },
   {
    "duration": 7150,
    "start_time": "2021-12-18T09:52:20.781Z"
   },
   {
    "duration": 1229,
    "start_time": "2021-12-18T09:52:52.859Z"
   },
   {
    "duration": 73,
    "start_time": "2021-12-18T09:52:54.095Z"
   },
   {
    "duration": 19,
    "start_time": "2021-12-18T09:52:54.172Z"
   },
   {
    "duration": 39,
    "start_time": "2021-12-18T09:52:54.195Z"
   },
   {
    "duration": 246,
    "start_time": "2021-12-18T09:52:54.237Z"
   },
   {
    "duration": 80,
    "start_time": "2021-12-18T09:52:54.486Z"
   },
   {
    "duration": 43,
    "start_time": "2021-12-18T09:52:54.569Z"
   },
   {
    "duration": 7328,
    "start_time": "2021-12-18T09:52:54.616Z"
   },
   {
    "duration": -796,
    "start_time": "2021-12-18T09:53:02.745Z"
   },
   {
    "duration": -799,
    "start_time": "2021-12-18T09:53:02.750Z"
   },
   {
    "duration": -800,
    "start_time": "2021-12-18T09:53:02.753Z"
   },
   {
    "duration": -801,
    "start_time": "2021-12-18T09:53:02.756Z"
   },
   {
    "duration": -804,
    "start_time": "2021-12-18T09:53:02.761Z"
   },
   {
    "duration": -806,
    "start_time": "2021-12-18T09:53:02.765Z"
   },
   {
    "duration": -809,
    "start_time": "2021-12-18T09:53:02.770Z"
   },
   {
    "duration": -813,
    "start_time": "2021-12-18T09:53:02.776Z"
   },
   {
    "duration": -828,
    "start_time": "2021-12-18T09:53:02.793Z"
   },
   {
    "duration": -830,
    "start_time": "2021-12-18T09:53:02.797Z"
   },
   {
    "duration": -834,
    "start_time": "2021-12-18T09:53:02.802Z"
   },
   {
    "duration": -827,
    "start_time": "2021-12-18T09:53:02.805Z"
   },
   {
    "duration": 1295,
    "start_time": "2021-12-18T09:54:29.223Z"
   },
   {
    "duration": 113,
    "start_time": "2021-12-18T09:54:30.522Z"
   },
   {
    "duration": 14,
    "start_time": "2021-12-18T09:54:30.637Z"
   },
   {
    "duration": 47,
    "start_time": "2021-12-18T09:54:30.667Z"
   },
   {
    "duration": 309,
    "start_time": "2021-12-18T09:54:30.717Z"
   },
   {
    "duration": 92,
    "start_time": "2021-12-18T09:54:31.029Z"
   },
   {
    "duration": 58,
    "start_time": "2021-12-18T09:54:31.124Z"
   },
   {
    "duration": 6914,
    "start_time": "2021-12-18T09:54:31.187Z"
   },
   {
    "duration": -771,
    "start_time": "2021-12-18T09:54:38.876Z"
   },
   {
    "duration": -772,
    "start_time": "2021-12-18T09:54:38.879Z"
   },
   {
    "duration": -771,
    "start_time": "2021-12-18T09:54:38.881Z"
   },
   {
    "duration": -772,
    "start_time": "2021-12-18T09:54:38.884Z"
   },
   {
    "duration": -772,
    "start_time": "2021-12-18T09:54:38.886Z"
   },
   {
    "duration": -772,
    "start_time": "2021-12-18T09:54:38.888Z"
   },
   {
    "duration": -772,
    "start_time": "2021-12-18T09:54:38.890Z"
   },
   {
    "duration": -773,
    "start_time": "2021-12-18T09:54:38.893Z"
   },
   {
    "duration": -774,
    "start_time": "2021-12-18T09:54:38.896Z"
   },
   {
    "duration": -774,
    "start_time": "2021-12-18T09:54:38.898Z"
   },
   {
    "duration": -775,
    "start_time": "2021-12-18T09:54:38.901Z"
   },
   {
    "duration": -775,
    "start_time": "2021-12-18T09:54:38.903Z"
   },
   {
    "duration": 1238,
    "start_time": "2021-12-18T09:55:17.793Z"
   },
   {
    "duration": 93,
    "start_time": "2021-12-18T09:55:19.033Z"
   },
   {
    "duration": 14,
    "start_time": "2021-12-18T09:55:19.130Z"
   },
   {
    "duration": 58,
    "start_time": "2021-12-18T09:55:19.147Z"
   },
   {
    "duration": 306,
    "start_time": "2021-12-18T09:55:19.208Z"
   },
   {
    "duration": 68,
    "start_time": "2021-12-18T09:55:19.516Z"
   },
   {
    "duration": 43,
    "start_time": "2021-12-18T09:55:19.587Z"
   },
   {
    "duration": 41,
    "start_time": "2021-12-18T09:55:19.634Z"
   },
   {
    "duration": 180,
    "start_time": "2021-12-18T09:55:19.678Z"
   },
   {
    "duration": 58,
    "start_time": "2021-12-18T09:55:19.861Z"
   },
   {
    "duration": 44,
    "start_time": "2021-12-18T09:55:19.922Z"
   },
   {
    "duration": 33,
    "start_time": "2021-12-18T09:55:19.970Z"
   },
   {
    "duration": 11,
    "start_time": "2021-12-18T09:55:20.007Z"
   },
   {
    "duration": 84,
    "start_time": "2021-12-18T09:55:20.021Z"
   },
   {
    "duration": 24,
    "start_time": "2021-12-18T09:55:20.109Z"
   },
   {
    "duration": 40,
    "start_time": "2021-12-18T09:55:20.136Z"
   },
   {
    "duration": 42,
    "start_time": "2021-12-18T09:55:20.179Z"
   },
   {
    "duration": 72,
    "start_time": "2021-12-18T09:55:20.224Z"
   },
   {
    "duration": 174,
    "start_time": "2021-12-18T09:55:20.300Z"
   },
   {
    "duration": 203,
    "start_time": "2021-12-18T09:55:20.478Z"
   },
   {
    "duration": 186,
    "start_time": "2021-12-18T09:58:07.365Z"
   },
   {
    "duration": 170,
    "start_time": "2021-12-18T09:58:31.917Z"
   },
   {
    "duration": 148,
    "start_time": "2021-12-18T09:59:22.401Z"
   },
   {
    "duration": 146,
    "start_time": "2021-12-18T10:00:01.216Z"
   },
   {
    "duration": 235,
    "start_time": "2021-12-18T10:00:36.061Z"
   },
   {
    "duration": 174,
    "start_time": "2021-12-18T10:01:53.217Z"
   },
   {
    "duration": 211,
    "start_time": "2021-12-18T10:03:14.023Z"
   },
   {
    "duration": 159,
    "start_time": "2021-12-18T10:05:06.715Z"
   },
   {
    "duration": 7,
    "start_time": "2021-12-18T10:13:40.090Z"
   },
   {
    "duration": 8,
    "start_time": "2021-12-18T10:14:01.692Z"
   },
   {
    "duration": 385,
    "start_time": "2021-12-18T10:15:25.549Z"
   },
   {
    "duration": 310,
    "start_time": "2021-12-18T10:15:41.771Z"
   },
   {
    "duration": 302,
    "start_time": "2021-12-18T10:15:56.975Z"
   },
   {
    "duration": 46,
    "start_time": "2021-12-18T10:17:04.800Z"
   },
   {
    "duration": 7,
    "start_time": "2021-12-18T10:18:19.684Z"
   },
   {
    "duration": 318,
    "start_time": "2021-12-18T10:20:28.136Z"
   },
   {
    "duration": 11,
    "start_time": "2021-12-18T10:20:42.028Z"
   },
   {
    "duration": 5,
    "start_time": "2021-12-18T10:20:44.627Z"
   },
   {
    "duration": 6,
    "start_time": "2021-12-18T10:20:57.865Z"
   },
   {
    "duration": 419,
    "start_time": "2021-12-18T10:23:19.183Z"
   },
   {
    "duration": 295,
    "start_time": "2021-12-18T10:26:38.765Z"
   },
   {
    "duration": 293,
    "start_time": "2021-12-18T10:26:52.647Z"
   },
   {
    "duration": 377,
    "start_time": "2021-12-18T10:27:04.748Z"
   },
   {
    "duration": 104,
    "start_time": "2021-12-18T10:28:58.838Z"
   },
   {
    "duration": 329,
    "start_time": "2021-12-18T10:29:06.974Z"
   },
   {
    "duration": 316,
    "start_time": "2021-12-18T10:29:31.906Z"
   },
   {
    "duration": 313,
    "start_time": "2021-12-18T10:33:05.202Z"
   },
   {
    "duration": 325,
    "start_time": "2021-12-18T10:34:07.708Z"
   },
   {
    "duration": 11,
    "start_time": "2021-12-18T10:34:57.925Z"
   },
   {
    "duration": 11,
    "start_time": "2021-12-18T10:35:08.494Z"
   },
   {
    "duration": 10,
    "start_time": "2021-12-18T10:35:35.910Z"
   },
   {
    "duration": 13,
    "start_time": "2021-12-18T10:35:39.451Z"
   },
   {
    "duration": 13,
    "start_time": "2021-12-18T10:37:24.341Z"
   },
   {
    "duration": 593,
    "start_time": "2021-12-18T10:39:18.452Z"
   },
   {
    "duration": 582,
    "start_time": "2021-12-18T10:39:43.047Z"
   },
   {
    "duration": 362,
    "start_time": "2021-12-18T10:39:53.167Z"
   },
   {
    "duration": 285,
    "start_time": "2021-12-18T10:41:06.952Z"
   },
   {
    "duration": 22,
    "start_time": "2021-12-18T10:41:30.522Z"
   },
   {
    "duration": 26,
    "start_time": "2021-12-18T10:42:04.998Z"
   },
   {
    "duration": 31,
    "start_time": "2021-12-18T10:43:04.433Z"
   },
   {
    "duration": 498,
    "start_time": "2021-12-18T10:44:00.254Z"
   },
   {
    "duration": 28,
    "start_time": "2021-12-18T10:44:06.332Z"
   },
   {
    "duration": 14,
    "start_time": "2021-12-18T10:44:09.138Z"
   },
   {
    "duration": 56,
    "start_time": "2021-12-18T16:10:32.388Z"
   },
   {
    "duration": 241,
    "start_time": "2021-12-18T16:10:42.109Z"
   },
   {
    "duration": 830,
    "start_time": "2021-12-18T16:10:51.293Z"
   },
   {
    "duration": 46,
    "start_time": "2021-12-18T16:10:52.125Z"
   },
   {
    "duration": 22,
    "start_time": "2021-12-18T16:10:52.173Z"
   },
   {
    "duration": 37,
    "start_time": "2021-12-18T16:10:52.197Z"
   },
   {
    "duration": 193,
    "start_time": "2021-12-18T16:10:52.236Z"
   },
   {
    "duration": 36,
    "start_time": "2021-12-18T16:10:52.431Z"
   },
   {
    "duration": 53,
    "start_time": "2021-12-18T16:10:52.468Z"
   },
   {
    "duration": 10,
    "start_time": "2021-12-18T16:10:52.522Z"
   },
   {
    "duration": 104,
    "start_time": "2021-12-18T16:10:52.535Z"
   },
   {
    "duration": 28,
    "start_time": "2021-12-18T16:10:52.641Z"
   },
   {
    "duration": 34,
    "start_time": "2021-12-18T16:10:52.670Z"
   },
   {
    "duration": 25,
    "start_time": "2021-12-18T16:10:52.706Z"
   },
   {
    "duration": 3,
    "start_time": "2021-12-18T16:10:52.733Z"
   },
   {
    "duration": 49,
    "start_time": "2021-12-18T16:10:52.738Z"
   },
   {
    "duration": 15,
    "start_time": "2021-12-18T16:10:52.788Z"
   },
   {
    "duration": 14,
    "start_time": "2021-12-18T16:10:52.804Z"
   },
   {
    "duration": 17,
    "start_time": "2021-12-18T16:10:52.820Z"
   },
   {
    "duration": 22,
    "start_time": "2021-12-18T16:10:52.838Z"
   },
   {
    "duration": 115,
    "start_time": "2021-12-18T16:10:52.862Z"
   },
   {
    "duration": 115,
    "start_time": "2021-12-18T16:10:52.979Z"
   },
   {
    "duration": 83,
    "start_time": "2021-12-18T16:10:53.096Z"
   },
   {
    "duration": 4,
    "start_time": "2021-12-18T16:10:53.191Z"
   },
   {
    "duration": 14,
    "start_time": "2021-12-18T16:10:53.197Z"
   },
   {
    "duration": 15,
    "start_time": "2021-12-18T16:10:53.213Z"
   },
   {
    "duration": 18,
    "start_time": "2021-12-18T16:10:53.230Z"
   },
   {
    "duration": 7,
    "start_time": "2021-12-18T16:10:53.249Z"
   },
   {
    "duration": 221,
    "start_time": "2021-12-18T16:10:53.259Z"
   },
   {
    "duration": 173,
    "start_time": "2021-12-18T16:11:45.581Z"
   },
   {
    "duration": 181,
    "start_time": "2021-12-18T16:12:11.464Z"
   },
   {
    "duration": 229,
    "start_time": "2021-12-18T16:13:00.581Z"
   },
   {
    "duration": 22,
    "start_time": "2021-12-18T16:13:30.379Z"
   },
   {
    "duration": 23,
    "start_time": "2021-12-18T16:16:08.489Z"
   },
   {
    "duration": 186,
    "start_time": "2021-12-18T16:17:01.137Z"
   },
   {
    "duration": 187,
    "start_time": "2021-12-18T16:17:27.229Z"
   },
   {
    "duration": 181,
    "start_time": "2021-12-18T16:20:02.522Z"
   },
   {
    "duration": 205,
    "start_time": "2021-12-18T16:21:49.647Z"
   },
   {
    "duration": 244,
    "start_time": "2021-12-18T16:22:31.450Z"
   },
   {
    "duration": 15,
    "start_time": "2021-12-18T16:23:05.431Z"
   },
   {
    "duration": 267,
    "start_time": "2021-12-18T16:24:44.485Z"
   },
   {
    "duration": 247,
    "start_time": "2021-12-18T16:25:07.178Z"
   },
   {
    "duration": 170,
    "start_time": "2021-12-18T16:25:14.837Z"
   },
   {
    "duration": 176,
    "start_time": "2021-12-18T16:28:29.148Z"
   },
   {
    "duration": 255,
    "start_time": "2021-12-18T16:28:36.739Z"
   },
   {
    "duration": 1113,
    "start_time": "2021-12-18T16:32:32.436Z"
   },
   {
    "duration": 54,
    "start_time": "2021-12-18T16:32:33.551Z"
   },
   {
    "duration": 10,
    "start_time": "2021-12-18T16:32:33.606Z"
   },
   {
    "duration": 28,
    "start_time": "2021-12-18T16:32:33.617Z"
   },
   {
    "duration": 151,
    "start_time": "2021-12-18T16:32:33.646Z"
   },
   {
    "duration": 35,
    "start_time": "2021-12-18T16:32:33.799Z"
   },
   {
    "duration": 27,
    "start_time": "2021-12-18T16:32:33.835Z"
   },
   {
    "duration": 30,
    "start_time": "2021-12-18T16:32:33.863Z"
   },
   {
    "duration": 96,
    "start_time": "2021-12-18T16:32:33.895Z"
   },
   {
    "duration": 29,
    "start_time": "2021-12-18T16:32:33.993Z"
   },
   {
    "duration": 18,
    "start_time": "2021-12-18T16:32:34.023Z"
   },
   {
    "duration": 25,
    "start_time": "2021-12-18T16:32:34.042Z"
   },
   {
    "duration": 10,
    "start_time": "2021-12-18T16:32:34.068Z"
   },
   {
    "duration": 37,
    "start_time": "2021-12-18T16:32:34.079Z"
   },
   {
    "duration": 13,
    "start_time": "2021-12-18T16:32:34.118Z"
   },
   {
    "duration": 13,
    "start_time": "2021-12-18T16:32:34.133Z"
   },
   {
    "duration": 16,
    "start_time": "2021-12-18T16:32:34.147Z"
   },
   {
    "duration": 36,
    "start_time": "2021-12-18T16:32:34.165Z"
   },
   {
    "duration": 93,
    "start_time": "2021-12-18T16:32:34.202Z"
   },
   {
    "duration": 104,
    "start_time": "2021-12-18T16:32:34.296Z"
   },
   {
    "duration": 80,
    "start_time": "2021-12-18T16:32:34.402Z"
   },
   {
    "duration": 4,
    "start_time": "2021-12-18T16:32:34.492Z"
   },
   {
    "duration": 16,
    "start_time": "2021-12-18T16:32:34.497Z"
   },
   {
    "duration": 279,
    "start_time": "2021-12-18T16:32:34.515Z"
   },
   {
    "duration": 264,
    "start_time": "2021-12-18T16:32:34.796Z"
   },
   {
    "duration": 15,
    "start_time": "2021-12-18T16:36:48.342Z"
   },
   {
    "duration": 266,
    "start_time": "2021-12-18T16:37:37.567Z"
   },
   {
    "duration": 253,
    "start_time": "2021-12-18T16:38:10.597Z"
   },
   {
    "duration": 248,
    "start_time": "2021-12-18T16:38:49.675Z"
   },
   {
    "duration": 18,
    "start_time": "2021-12-18T16:39:23.834Z"
   },
   {
    "duration": 244,
    "start_time": "2021-12-18T16:39:54.632Z"
   },
   {
    "duration": 234,
    "start_time": "2021-12-18T16:40:37.712Z"
   },
   {
    "duration": 253,
    "start_time": "2021-12-18T16:51:32.471Z"
   },
   {
    "duration": 219,
    "start_time": "2021-12-18T16:52:01.395Z"
   },
   {
    "duration": 11,
    "start_time": "2021-12-18T16:53:20.361Z"
   },
   {
    "duration": 10,
    "start_time": "2021-12-18T16:54:50.729Z"
   },
   {
    "duration": 10,
    "start_time": "2021-12-18T17:03:39.882Z"
   },
   {
    "duration": 378,
    "start_time": "2021-12-18T17:13:24.954Z"
   },
   {
    "duration": 264,
    "start_time": "2021-12-18T17:13:41.610Z"
   },
   {
    "duration": 226,
    "start_time": "2021-12-18T17:13:52.774Z"
   },
   {
    "duration": 11,
    "start_time": "2021-12-18T17:16:23.655Z"
   },
   {
    "duration": 180,
    "start_time": "2021-12-18T17:29:48.056Z"
   },
   {
    "duration": 183,
    "start_time": "2021-12-18T17:36:16.186Z"
   },
   {
    "duration": 17,
    "start_time": "2021-12-18T17:37:27.237Z"
   },
   {
    "duration": 17,
    "start_time": "2021-12-18T17:38:15.531Z"
   },
   {
    "duration": 17,
    "start_time": "2021-12-18T17:38:32.052Z"
   },
   {
    "duration": 267,
    "start_time": "2021-12-19T05:19:03.967Z"
   },
   {
    "duration": 1142,
    "start_time": "2021-12-19T05:19:13.982Z"
   },
   {
    "duration": 42,
    "start_time": "2021-12-19T05:19:15.126Z"
   },
   {
    "duration": 18,
    "start_time": "2021-12-19T05:19:15.170Z"
   },
   {
    "duration": 25,
    "start_time": "2021-12-19T05:19:15.190Z"
   },
   {
    "duration": 134,
    "start_time": "2021-12-19T05:19:15.216Z"
   },
   {
    "duration": 41,
    "start_time": "2021-12-19T05:19:15.351Z"
   },
   {
    "duration": 25,
    "start_time": "2021-12-19T05:19:15.393Z"
   },
   {
    "duration": 12,
    "start_time": "2021-12-19T05:19:15.420Z"
   },
   {
    "duration": 96,
    "start_time": "2021-12-19T05:19:15.434Z"
   },
   {
    "duration": 28,
    "start_time": "2021-12-19T05:19:15.532Z"
   },
   {
    "duration": 38,
    "start_time": "2021-12-19T05:19:15.562Z"
   },
   {
    "duration": 22,
    "start_time": "2021-12-19T05:19:15.602Z"
   },
   {
    "duration": 6,
    "start_time": "2021-12-19T05:19:15.626Z"
   },
   {
    "duration": 49,
    "start_time": "2021-12-19T05:19:15.634Z"
   },
   {
    "duration": 12,
    "start_time": "2021-12-19T05:19:15.684Z"
   },
   {
    "duration": 37,
    "start_time": "2021-12-19T05:19:15.698Z"
   },
   {
    "duration": 15,
    "start_time": "2021-12-19T05:19:15.737Z"
   },
   {
    "duration": 23,
    "start_time": "2021-12-19T05:19:15.754Z"
   },
   {
    "duration": 86,
    "start_time": "2021-12-19T05:19:15.779Z"
   },
   {
    "duration": 95,
    "start_time": "2021-12-19T05:19:15.867Z"
   },
   {
    "duration": 85,
    "start_time": "2021-12-19T05:19:15.963Z"
   },
   {
    "duration": 4,
    "start_time": "2021-12-19T05:19:16.050Z"
   },
   {
    "duration": 18,
    "start_time": "2021-12-19T05:19:16.057Z"
   },
   {
    "duration": 32,
    "start_time": "2021-12-19T05:19:16.077Z"
   },
   {
    "duration": 240,
    "start_time": "2021-12-19T05:19:16.110Z"
   },
   {
    "duration": 200,
    "start_time": "2021-12-19T05:19:16.352Z"
   },
   {
    "duration": 224,
    "start_time": "2021-12-19T05:19:16.553Z"
   },
   {
    "duration": 19,
    "start_time": "2021-12-19T05:19:16.778Z"
   },
   {
    "duration": 242,
    "start_time": "2021-12-19T05:19:16.798Z"
   },
   {
    "duration": 219,
    "start_time": "2021-12-19T05:19:17.042Z"
   },
   {
    "duration": 14,
    "start_time": "2021-12-19T05:19:17.262Z"
   },
   {
    "duration": 265,
    "start_time": "2021-12-19T05:19:17.278Z"
   },
   {
    "duration": 213,
    "start_time": "2021-12-19T05:19:17.545Z"
   },
   {
    "duration": 1163,
    "start_time": "2021-12-19T05:19:17.759Z"
   },
   {
    "duration": -1195,
    "start_time": "2021-12-19T05:19:20.119Z"
   },
   {
    "duration": -1202,
    "start_time": "2021-12-19T05:19:20.127Z"
   },
   {
    "duration": -1228,
    "start_time": "2021-12-19T05:19:20.154Z"
   },
   {
    "duration": 146,
    "start_time": "2021-12-19T05:20:09.323Z"
   },
   {
    "duration": 146,
    "start_time": "2021-12-19T05:28:28.868Z"
   },
   {
    "duration": 143,
    "start_time": "2021-12-19T05:28:42.375Z"
   },
   {
    "duration": 146,
    "start_time": "2021-12-19T05:35:40.908Z"
   },
   {
    "duration": 165,
    "start_time": "2021-12-19T05:35:58.718Z"
   },
   {
    "duration": 10,
    "start_time": "2021-12-19T05:41:37.175Z"
   },
   {
    "duration": 9,
    "start_time": "2021-12-19T05:41:41.262Z"
   },
   {
    "duration": 1645,
    "start_time": "2021-12-19T16:06:50.503Z"
   },
   {
    "duration": 202,
    "start_time": "2021-12-19T16:06:52.151Z"
   },
   {
    "duration": 142,
    "start_time": "2021-12-19T16:06:52.356Z"
   },
   {
    "duration": 39,
    "start_time": "2021-12-19T16:06:52.501Z"
   },
   {
    "duration": 51,
    "start_time": "2021-12-19T16:06:52.542Z"
   },
   {
    "duration": 83,
    "start_time": "2021-12-19T16:06:52.595Z"
   },
   {
    "duration": 15,
    "start_time": "2021-12-19T16:06:52.680Z"
   },
   {
    "duration": 64,
    "start_time": "2021-12-19T16:06:52.700Z"
   },
   {
    "duration": 437,
    "start_time": "2021-12-19T16:06:52.767Z"
   },
   {
    "duration": -686,
    "start_time": "2021-12-19T16:06:53.894Z"
   },
   {
    "duration": -689,
    "start_time": "2021-12-19T16:06:53.899Z"
   },
   {
    "duration": -699,
    "start_time": "2021-12-19T16:06:53.911Z"
   },
   {
    "duration": -700,
    "start_time": "2021-12-19T16:06:53.914Z"
   },
   {
    "duration": -705,
    "start_time": "2021-12-19T16:06:53.921Z"
   },
   {
    "duration": -707,
    "start_time": "2021-12-19T16:06:53.925Z"
   },
   {
    "duration": -709,
    "start_time": "2021-12-19T16:06:53.929Z"
   },
   {
    "duration": -713,
    "start_time": "2021-12-19T16:06:53.935Z"
   },
   {
    "duration": -716,
    "start_time": "2021-12-19T16:06:53.940Z"
   },
   {
    "duration": -717,
    "start_time": "2021-12-19T16:06:53.943Z"
   },
   {
    "duration": -718,
    "start_time": "2021-12-19T16:06:53.947Z"
   },
   {
    "duration": -719,
    "start_time": "2021-12-19T16:06:53.951Z"
   },
   {
    "duration": -721,
    "start_time": "2021-12-19T16:06:53.955Z"
   },
   {
    "duration": -723,
    "start_time": "2021-12-19T16:06:53.959Z"
   },
   {
    "duration": -723,
    "start_time": "2021-12-19T16:06:53.961Z"
   },
   {
    "duration": -734,
    "start_time": "2021-12-19T16:06:53.974Z"
   },
   {
    "duration": -736,
    "start_time": "2021-12-19T16:06:53.978Z"
   },
   {
    "duration": -719,
    "start_time": "2021-12-19T16:06:53.982Z"
   },
   {
    "duration": -720,
    "start_time": "2021-12-19T16:06:53.985Z"
   },
   {
    "duration": -721,
    "start_time": "2021-12-19T16:06:53.988Z"
   },
   {
    "duration": -722,
    "start_time": "2021-12-19T16:06:53.991Z"
   },
   {
    "duration": -723,
    "start_time": "2021-12-19T16:06:53.994Z"
   },
   {
    "duration": -722,
    "start_time": "2021-12-19T16:06:53.996Z"
   },
   {
    "duration": -724,
    "start_time": "2021-12-19T16:06:54.000Z"
   },
   {
    "duration": -725,
    "start_time": "2021-12-19T16:06:54.003Z"
   },
   {
    "duration": -726,
    "start_time": "2021-12-19T16:06:54.006Z"
   },
   {
    "duration": -727,
    "start_time": "2021-12-19T16:06:54.009Z"
   },
   {
    "duration": 1773,
    "start_time": "2021-12-19T16:09:30.920Z"
   },
   {
    "duration": 249,
    "start_time": "2021-12-19T16:09:32.697Z"
   },
   {
    "duration": 144,
    "start_time": "2021-12-19T16:09:32.950Z"
   },
   {
    "duration": 33,
    "start_time": "2021-12-19T16:09:33.097Z"
   },
   {
    "duration": 46,
    "start_time": "2021-12-19T16:09:33.133Z"
   },
   {
    "duration": 86,
    "start_time": "2021-12-19T16:09:33.182Z"
   },
   {
    "duration": 17,
    "start_time": "2021-12-19T16:09:33.271Z"
   },
   {
    "duration": 40,
    "start_time": "2021-12-19T16:09:33.291Z"
   },
   {
    "duration": 8864,
    "start_time": "2021-12-19T16:09:33.365Z"
   },
   {
    "duration": -668,
    "start_time": "2021-12-19T16:09:42.901Z"
   },
   {
    "duration": -672,
    "start_time": "2021-12-19T16:09:42.906Z"
   },
   {
    "duration": -676,
    "start_time": "2021-12-19T16:09:42.912Z"
   },
   {
    "duration": -679,
    "start_time": "2021-12-19T16:09:42.916Z"
   },
   {
    "duration": -681,
    "start_time": "2021-12-19T16:09:42.920Z"
   },
   {
    "duration": -684,
    "start_time": "2021-12-19T16:09:42.924Z"
   },
   {
    "duration": -688,
    "start_time": "2021-12-19T16:09:42.929Z"
   },
   {
    "duration": -690,
    "start_time": "2021-12-19T16:09:42.933Z"
   },
   {
    "duration": -694,
    "start_time": "2021-12-19T16:09:42.938Z"
   },
   {
    "duration": -698,
    "start_time": "2021-12-19T16:09:42.943Z"
   },
   {
    "duration": -699,
    "start_time": "2021-12-19T16:09:42.946Z"
   },
   {
    "duration": -702,
    "start_time": "2021-12-19T16:09:42.950Z"
   },
   {
    "duration": -705,
    "start_time": "2021-12-19T16:09:42.954Z"
   },
   {
    "duration": -707,
    "start_time": "2021-12-19T16:09:42.958Z"
   },
   {
    "duration": -710,
    "start_time": "2021-12-19T16:09:42.962Z"
   },
   {
    "duration": -711,
    "start_time": "2021-12-19T16:09:42.965Z"
   },
   {
    "duration": -726,
    "start_time": "2021-12-19T16:09:42.981Z"
   },
   {
    "duration": -729,
    "start_time": "2021-12-19T16:09:42.986Z"
   },
   {
    "duration": -734,
    "start_time": "2021-12-19T16:09:42.992Z"
   },
   {
    "duration": -735,
    "start_time": "2021-12-19T16:09:42.995Z"
   },
   {
    "duration": -737,
    "start_time": "2021-12-19T16:09:42.998Z"
   },
   {
    "duration": -738,
    "start_time": "2021-12-19T16:09:43.001Z"
   },
   {
    "duration": -741,
    "start_time": "2021-12-19T16:09:43.005Z"
   },
   {
    "duration": -744,
    "start_time": "2021-12-19T16:09:43.009Z"
   },
   {
    "duration": -747,
    "start_time": "2021-12-19T16:09:43.013Z"
   },
   {
    "duration": -749,
    "start_time": "2021-12-19T16:09:43.017Z"
   },
   {
    "duration": -751,
    "start_time": "2021-12-19T16:09:43.020Z"
   },
   {
    "duration": -752,
    "start_time": "2021-12-19T16:09:43.024Z"
   },
   {
    "duration": 2000,
    "start_time": "2021-12-19T16:10:00.502Z"
   },
   {
    "duration": 304,
    "start_time": "2021-12-19T16:10:02.505Z"
   },
   {
    "duration": 193,
    "start_time": "2021-12-19T16:10:02.813Z"
   },
   {
    "duration": 39,
    "start_time": "2021-12-19T16:10:03.009Z"
   },
   {
    "duration": 48,
    "start_time": "2021-12-19T16:10:03.051Z"
   },
   {
    "duration": 92,
    "start_time": "2021-12-19T16:10:03.102Z"
   },
   {
    "duration": 15,
    "start_time": "2021-12-19T16:10:03.196Z"
   },
   {
    "duration": 74,
    "start_time": "2021-12-19T16:10:03.217Z"
   },
   {
    "duration": 87,
    "start_time": "2021-12-19T16:10:03.295Z"
   },
   {
    "duration": 50,
    "start_time": "2021-12-19T16:10:03.385Z"
   },
   {
    "duration": 33,
    "start_time": "2021-12-19T16:10:03.438Z"
   },
   {
    "duration": 43,
    "start_time": "2021-12-19T16:10:03.478Z"
   },
   {
    "duration": 56,
    "start_time": "2021-12-19T16:10:03.523Z"
   },
   {
    "duration": 6,
    "start_time": "2021-12-19T16:10:03.581Z"
   },
   {
    "duration": 31,
    "start_time": "2021-12-19T16:10:03.590Z"
   },
   {
    "duration": 51,
    "start_time": "2021-12-19T16:10:03.624Z"
   },
   {
    "duration": 29,
    "start_time": "2021-12-19T16:10:03.677Z"
   },
   {
    "duration": 72,
    "start_time": "2021-12-19T16:10:03.709Z"
   },
   {
    "duration": 188,
    "start_time": "2021-12-19T16:10:03.785Z"
   },
   {
    "duration": 188,
    "start_time": "2021-12-19T16:10:03.976Z"
   },
   {
    "duration": 159,
    "start_time": "2021-12-19T16:10:04.168Z"
   },
   {
    "duration": 6,
    "start_time": "2021-12-19T16:10:04.330Z"
   },
   {
    "duration": 21,
    "start_time": "2021-12-19T16:10:04.363Z"
   },
   {
    "duration": 24,
    "start_time": "2021-12-19T16:10:04.387Z"
   },
   {
    "duration": 482,
    "start_time": "2021-12-19T16:10:04.414Z"
   },
   {
    "duration": 555,
    "start_time": "2021-12-19T16:10:04.900Z"
   },
   {
    "duration": 430,
    "start_time": "2021-12-19T16:10:05.458Z"
   },
   {
    "duration": 26,
    "start_time": "2021-12-19T16:10:05.891Z"
   },
   {
    "duration": 501,
    "start_time": "2021-12-19T16:10:05.920Z"
   },
   {
    "duration": 557,
    "start_time": "2021-12-19T16:10:06.424Z"
   },
   {
    "duration": 28,
    "start_time": "2021-12-19T16:10:06.985Z"
   },
   {
    "duration": 467,
    "start_time": "2021-12-19T16:10:07.017Z"
   },
   {
    "duration": 514,
    "start_time": "2021-12-19T16:10:07.487Z"
   },
   {
    "duration": 303,
    "start_time": "2021-12-19T16:10:08.004Z"
   },
   {
    "duration": 14,
    "start_time": "2021-12-19T16:10:08.310Z"
   },
   {
    "duration": 42,
    "start_time": "2021-12-19T16:10:08.327Z"
   },
   {
    "duration": 506,
    "start_time": "2021-12-19T16:10:08.372Z"
   },
   {
    "duration": 502,
    "start_time": "2021-12-19T16:27:37.056Z"
   },
   {
    "duration": 451,
    "start_time": "2021-12-19T16:27:42.476Z"
   },
   {
    "duration": 374,
    "start_time": "2021-12-19T16:28:33.701Z"
   },
   {
    "duration": 378,
    "start_time": "2021-12-19T16:29:45.765Z"
   },
   {
    "duration": 1674,
    "start_time": "2021-12-19T16:39:21.391Z"
   },
   {
    "duration": 203,
    "start_time": "2021-12-19T16:39:23.068Z"
   },
   {
    "duration": 141,
    "start_time": "2021-12-19T16:39:23.274Z"
   },
   {
    "duration": 32,
    "start_time": "2021-12-19T16:39:23.418Z"
   },
   {
    "duration": 54,
    "start_time": "2021-12-19T16:39:23.452Z"
   },
   {
    "duration": 71,
    "start_time": "2021-12-19T16:39:23.508Z"
   },
   {
    "duration": 15,
    "start_time": "2021-12-19T16:39:23.582Z"
   },
   {
    "duration": 37,
    "start_time": "2021-12-19T16:39:23.599Z"
   },
   {
    "duration": 71,
    "start_time": "2021-12-19T16:39:23.640Z"
   },
   {
    "duration": 54,
    "start_time": "2021-12-19T16:39:23.715Z"
   },
   {
    "duration": 19,
    "start_time": "2021-12-19T16:39:23.773Z"
   },
   {
    "duration": 44,
    "start_time": "2021-12-19T16:39:23.795Z"
   },
   {
    "duration": 46,
    "start_time": "2021-12-19T16:39:23.841Z"
   },
   {
    "duration": 4,
    "start_time": "2021-12-19T16:39:23.890Z"
   },
   {
    "duration": 24,
    "start_time": "2021-12-19T16:39:23.897Z"
   },
   {
    "duration": 48,
    "start_time": "2021-12-19T16:39:23.923Z"
   },
   {
    "duration": 28,
    "start_time": "2021-12-19T16:39:23.973Z"
   },
   {
    "duration": 62,
    "start_time": "2021-12-19T16:39:24.003Z"
   },
   {
    "duration": 158,
    "start_time": "2021-12-19T16:39:24.067Z"
   },
   {
    "duration": 182,
    "start_time": "2021-12-19T16:39:24.228Z"
   },
   {
    "duration": 152,
    "start_time": "2021-12-19T16:39:24.413Z"
   },
   {
    "duration": 5,
    "start_time": "2021-12-19T16:39:24.567Z"
   },
   {
    "duration": 17,
    "start_time": "2021-12-19T16:39:24.575Z"
   },
   {
    "duration": 23,
    "start_time": "2021-12-19T16:39:24.594Z"
   },
   {
    "duration": 479,
    "start_time": "2021-12-19T16:39:24.619Z"
   },
   {
    "duration": 407,
    "start_time": "2021-12-19T16:39:25.102Z"
   },
   {
    "duration": 431,
    "start_time": "2021-12-19T16:39:25.516Z"
   },
   {
    "duration": 391,
    "start_time": "2021-12-19T16:39:25.951Z"
   },
   {
    "duration": 34,
    "start_time": "2021-12-19T16:39:26.345Z"
   },
   {
    "duration": 503,
    "start_time": "2021-12-19T16:39:26.382Z"
   },
   {
    "duration": 444,
    "start_time": "2021-12-19T16:39:26.888Z"
   },
   {
    "duration": 465,
    "start_time": "2021-12-19T16:39:27.335Z"
   },
   {
    "duration": 419,
    "start_time": "2021-12-19T16:39:27.804Z"
   },
   {
    "duration": 23,
    "start_time": "2021-12-19T16:39:28.226Z"
   },
   {
    "duration": 526,
    "start_time": "2021-12-19T16:39:28.263Z"
   },
   {
    "duration": 404,
    "start_time": "2021-12-19T16:39:28.792Z"
   },
   {
    "duration": 684,
    "start_time": "2021-12-19T16:39:29.199Z"
   },
   {
    "duration": 382,
    "start_time": "2021-12-19T16:39:29.885Z"
   },
   {
    "duration": 318,
    "start_time": "2021-12-19T16:39:30.269Z"
   },
   {
    "duration": 18,
    "start_time": "2021-12-19T16:39:30.589Z"
   },
   {
    "duration": 36,
    "start_time": "2021-12-19T16:39:30.610Z"
   },
   {
    "duration": 449,
    "start_time": "2021-12-19T16:39:30.648Z"
   },
   {
    "duration": 25,
    "start_time": "2021-12-19T16:51:34.565Z"
   },
   {
    "duration": 20,
    "start_time": "2021-12-19T16:51:40.727Z"
   },
   {
    "duration": 300,
    "start_time": "2021-12-19T16:52:24.940Z"
   },
   {
    "duration": 1592,
    "start_time": "2021-12-19T17:06:03.672Z"
   },
   {
    "duration": 263,
    "start_time": "2021-12-19T17:06:05.267Z"
   },
   {
    "duration": 244,
    "start_time": "2021-12-19T17:06:05.534Z"
   },
   {
    "duration": 70,
    "start_time": "2021-12-19T17:06:05.781Z"
   },
   {
    "duration": 112,
    "start_time": "2021-12-19T17:06:05.854Z"
   },
   {
    "duration": 149,
    "start_time": "2021-12-19T17:06:05.979Z"
   },
   {
    "duration": 20,
    "start_time": "2021-12-19T17:06:06.131Z"
   },
   {
    "duration": 51,
    "start_time": "2021-12-19T17:06:06.162Z"
   },
   {
    "duration": 75,
    "start_time": "2021-12-19T17:06:06.219Z"
   },
   {
    "duration": 35,
    "start_time": "2021-12-19T17:06:06.297Z"
   },
   {
    "duration": 37,
    "start_time": "2021-12-19T17:06:06.335Z"
   },
   {
    "duration": 47,
    "start_time": "2021-12-19T17:06:06.374Z"
   },
   {
    "duration": 45,
    "start_time": "2021-12-19T17:06:06.423Z"
   },
   {
    "duration": 5,
    "start_time": "2021-12-19T17:06:06.470Z"
   },
   {
    "duration": 55,
    "start_time": "2021-12-19T17:06:06.477Z"
   },
   {
    "duration": 40,
    "start_time": "2021-12-19T17:06:06.535Z"
   },
   {
    "duration": 42,
    "start_time": "2021-12-19T17:06:06.578Z"
   },
   {
    "duration": 72,
    "start_time": "2021-12-19T17:06:06.622Z"
   },
   {
    "duration": 171,
    "start_time": "2021-12-19T17:06:06.696Z"
   },
   {
    "duration": 208,
    "start_time": "2021-12-19T17:06:06.870Z"
   },
   {
    "duration": 171,
    "start_time": "2021-12-19T17:06:07.080Z"
   },
   {
    "duration": 11,
    "start_time": "2021-12-19T17:06:07.253Z"
   },
   {
    "duration": 26,
    "start_time": "2021-12-19T17:06:07.267Z"
   },
   {
    "duration": 40,
    "start_time": "2021-12-19T17:06:07.295Z"
   },
   {
    "duration": 452,
    "start_time": "2021-12-19T17:06:07.338Z"
   },
   {
    "duration": 383,
    "start_time": "2021-12-19T17:06:07.793Z"
   },
   {
    "duration": 440,
    "start_time": "2021-12-19T17:06:08.181Z"
   },
   {
    "duration": 385,
    "start_time": "2021-12-19T17:06:08.623Z"
   },
   {
    "duration": 23,
    "start_time": "2021-12-19T17:06:09.010Z"
   },
   {
    "duration": 592,
    "start_time": "2021-12-19T17:06:09.036Z"
   },
   {
    "duration": 489,
    "start_time": "2021-12-19T17:06:09.631Z"
   },
   {
    "duration": 436,
    "start_time": "2021-12-19T17:06:10.122Z"
   },
   {
    "duration": 371,
    "start_time": "2021-12-19T17:06:10.562Z"
   },
   {
    "duration": 39,
    "start_time": "2021-12-19T17:06:10.936Z"
   },
   {
    "duration": 510,
    "start_time": "2021-12-19T17:06:10.977Z"
   },
   {
    "duration": 542,
    "start_time": "2021-12-19T17:06:11.490Z"
   },
   {
    "duration": 673,
    "start_time": "2021-12-19T17:06:12.035Z"
   },
   {
    "duration": 539,
    "start_time": "2021-12-19T17:06:12.711Z"
   },
   {
    "duration": 448,
    "start_time": "2021-12-19T17:06:13.253Z"
   },
   {
    "duration": 21,
    "start_time": "2021-12-19T17:06:13.704Z"
   },
   {
    "duration": 40,
    "start_time": "2021-12-19T17:06:13.729Z"
   },
   {
    "duration": 1617,
    "start_time": "2021-12-19T17:15:01.020Z"
   },
   {
    "duration": 202,
    "start_time": "2021-12-19T17:15:02.640Z"
   },
   {
    "duration": 146,
    "start_time": "2021-12-19T17:15:02.845Z"
   },
   {
    "duration": 35,
    "start_time": "2021-12-19T17:15:02.993Z"
   },
   {
    "duration": 48,
    "start_time": "2021-12-19T17:15:03.032Z"
   },
   {
    "duration": 89,
    "start_time": "2021-12-19T17:15:03.083Z"
   },
   {
    "duration": 15,
    "start_time": "2021-12-19T17:15:03.174Z"
   },
   {
    "duration": 39,
    "start_time": "2021-12-19T17:15:03.192Z"
   },
   {
    "duration": 79,
    "start_time": "2021-12-19T17:15:03.234Z"
   },
   {
    "duration": 59,
    "start_time": "2021-12-19T17:15:03.316Z"
   },
   {
    "duration": 28,
    "start_time": "2021-12-19T17:15:03.378Z"
   },
   {
    "duration": 58,
    "start_time": "2021-12-19T17:15:03.408Z"
   },
   {
    "duration": 32,
    "start_time": "2021-12-19T17:15:03.469Z"
   },
   {
    "duration": 5,
    "start_time": "2021-12-19T17:15:03.504Z"
   },
   {
    "duration": 54,
    "start_time": "2021-12-19T17:15:03.512Z"
   },
   {
    "duration": 20,
    "start_time": "2021-12-19T17:15:03.569Z"
   },
   {
    "duration": 29,
    "start_time": "2021-12-19T17:15:03.591Z"
   },
   {
    "duration": 68,
    "start_time": "2021-12-19T17:15:03.623Z"
   },
   {
    "duration": 191,
    "start_time": "2021-12-19T17:15:03.695Z"
   },
   {
    "duration": 211,
    "start_time": "2021-12-19T17:15:03.889Z"
   },
   {
    "duration": 169,
    "start_time": "2021-12-19T17:15:04.103Z"
   },
   {
    "duration": 6,
    "start_time": "2021-12-19T17:15:04.275Z"
   },
   {
    "duration": 21,
    "start_time": "2021-12-19T17:15:04.286Z"
   },
   {
    "duration": 69,
    "start_time": "2021-12-19T17:15:04.311Z"
   },
   {
    "duration": 479,
    "start_time": "2021-12-19T17:15:04.383Z"
   },
   {
    "duration": 381,
    "start_time": "2021-12-19T17:15:04.865Z"
   },
   {
    "duration": 432,
    "start_time": "2021-12-19T17:15:05.249Z"
   },
   {
    "duration": 391,
    "start_time": "2021-12-19T17:15:05.684Z"
   },
   {
    "duration": 22,
    "start_time": "2021-12-19T17:15:06.078Z"
   },
   {
    "duration": 463,
    "start_time": "2021-12-19T17:15:06.102Z"
   },
   {
    "duration": 413,
    "start_time": "2021-12-19T17:15:06.568Z"
   },
   {
    "duration": 416,
    "start_time": "2021-12-19T17:15:06.985Z"
   },
   {
    "duration": 553,
    "start_time": "2021-12-19T17:15:07.403Z"
   },
   {
    "duration": 24,
    "start_time": "2021-12-19T17:15:07.959Z"
   },
   {
    "duration": 716,
    "start_time": "2021-12-19T17:15:07.986Z"
   },
   {
    "duration": 548,
    "start_time": "2021-12-19T17:15:08.706Z"
   },
   {
    "duration": 677,
    "start_time": "2021-12-19T17:15:09.264Z"
   },
   {
    "duration": 528,
    "start_time": "2021-12-19T17:15:09.944Z"
   },
   {
    "duration": 448,
    "start_time": "2021-12-19T17:15:10.475Z"
   },
   {
    "duration": 36,
    "start_time": "2021-12-19T17:15:10.926Z"
   },
   {
    "duration": 21,
    "start_time": "2021-12-19T17:15:10.965Z"
   },
   {
    "duration": 2026,
    "start_time": "2021-12-19T17:15:34.806Z"
   },
   {
    "duration": 263,
    "start_time": "2021-12-19T17:15:36.836Z"
   },
   {
    "duration": 167,
    "start_time": "2021-12-19T17:15:37.102Z"
   },
   {
    "duration": 34,
    "start_time": "2021-12-19T17:15:37.271Z"
   },
   {
    "duration": 62,
    "start_time": "2021-12-19T17:15:37.308Z"
   },
   {
    "duration": 72,
    "start_time": "2021-12-19T17:15:37.372Z"
   },
   {
    "duration": 28,
    "start_time": "2021-12-19T17:15:37.446Z"
   },
   {
    "duration": 37,
    "start_time": "2021-12-19T17:15:37.478Z"
   },
   {
    "duration": 80,
    "start_time": "2021-12-19T17:15:37.519Z"
   },
   {
    "duration": 38,
    "start_time": "2021-12-19T17:15:37.601Z"
   },
   {
    "duration": 15,
    "start_time": "2021-12-19T17:15:37.662Z"
   },
   {
    "duration": 44,
    "start_time": "2021-12-19T17:15:37.679Z"
   },
   {
    "duration": 57,
    "start_time": "2021-12-19T17:15:37.725Z"
   },
   {
    "duration": 5,
    "start_time": "2021-12-19T17:15:37.784Z"
   },
   {
    "duration": 22,
    "start_time": "2021-12-19T17:15:37.792Z"
   },
   {
    "duration": 45,
    "start_time": "2021-12-19T17:15:37.819Z"
   },
   {
    "duration": 37,
    "start_time": "2021-12-19T17:15:37.867Z"
   },
   {
    "duration": 69,
    "start_time": "2021-12-19T17:15:37.907Z"
   },
   {
    "duration": 255,
    "start_time": "2021-12-19T17:15:37.979Z"
   },
   {
    "duration": 285,
    "start_time": "2021-12-19T17:15:38.237Z"
   },
   {
    "duration": 240,
    "start_time": "2021-12-19T17:15:38.525Z"
   },
   {
    "duration": 7,
    "start_time": "2021-12-19T17:15:38.768Z"
   },
   {
    "duration": 18,
    "start_time": "2021-12-19T17:15:38.782Z"
   },
   {
    "duration": 31,
    "start_time": "2021-12-19T17:15:38.802Z"
   },
   {
    "duration": 467,
    "start_time": "2021-12-19T17:15:38.863Z"
   },
   {
    "duration": 394,
    "start_time": "2021-12-19T17:15:39.333Z"
   },
   {
    "duration": 457,
    "start_time": "2021-12-19T17:15:39.729Z"
   },
   {
    "duration": 396,
    "start_time": "2021-12-19T17:15:40.189Z"
   },
   {
    "duration": 24,
    "start_time": "2021-12-19T17:15:40.588Z"
   },
   {
    "duration": 867,
    "start_time": "2021-12-19T17:15:40.615Z"
   },
   {
    "duration": 486,
    "start_time": "2021-12-19T17:15:41.485Z"
   },
   {
    "duration": 705,
    "start_time": "2021-12-19T17:15:41.974Z"
   },
   {
    "duration": 386,
    "start_time": "2021-12-19T17:15:42.682Z"
   },
   {
    "duration": 34,
    "start_time": "2021-12-19T17:15:43.072Z"
   },
   {
    "duration": 596,
    "start_time": "2021-12-19T17:15:43.109Z"
   },
   {
    "duration": 405,
    "start_time": "2021-12-19T17:15:43.708Z"
   },
   {
    "duration": 507,
    "start_time": "2021-12-19T17:15:44.117Z"
   },
   {
    "duration": 476,
    "start_time": "2021-12-19T17:15:44.627Z"
   },
   {
    "duration": 322,
    "start_time": "2021-12-19T17:15:45.107Z"
   },
   {
    "duration": 29,
    "start_time": "2021-12-19T17:15:45.432Z"
   },
   {
    "duration": 20,
    "start_time": "2021-12-19T17:15:45.465Z"
   },
   {
    "duration": 1524,
    "start_time": "2021-12-19T17:16:36.605Z"
   },
   {
    "duration": 196,
    "start_time": "2021-12-19T17:16:38.132Z"
   },
   {
    "duration": 139,
    "start_time": "2021-12-19T17:16:38.332Z"
   },
   {
    "duration": 31,
    "start_time": "2021-12-19T17:16:38.474Z"
   },
   {
    "duration": 51,
    "start_time": "2021-12-19T17:16:38.508Z"
   },
   {
    "duration": 74,
    "start_time": "2021-12-19T17:16:38.561Z"
   },
   {
    "duration": 29,
    "start_time": "2021-12-19T17:16:38.637Z"
   },
   {
    "duration": 37,
    "start_time": "2021-12-19T17:16:38.672Z"
   },
   {
    "duration": 80,
    "start_time": "2021-12-19T17:16:38.713Z"
   },
   {
    "duration": 36,
    "start_time": "2021-12-19T17:16:38.795Z"
   },
   {
    "duration": 36,
    "start_time": "2021-12-19T17:16:38.833Z"
   },
   {
    "duration": 43,
    "start_time": "2021-12-19T17:16:38.872Z"
   },
   {
    "duration": 57,
    "start_time": "2021-12-19T17:16:38.918Z"
   },
   {
    "duration": 5,
    "start_time": "2021-12-19T17:16:38.978Z"
   },
   {
    "duration": 23,
    "start_time": "2021-12-19T17:16:38.986Z"
   },
   {
    "duration": 19,
    "start_time": "2021-12-19T17:16:39.012Z"
   },
   {
    "duration": 28,
    "start_time": "2021-12-19T17:16:39.062Z"
   },
   {
    "duration": 36,
    "start_time": "2021-12-19T17:16:39.092Z"
   },
   {
    "duration": 266,
    "start_time": "2021-12-19T17:16:39.131Z"
   },
   {
    "duration": 182,
    "start_time": "2021-12-19T17:16:39.399Z"
   },
   {
    "duration": 149,
    "start_time": "2021-12-19T17:16:39.584Z"
   },
   {
    "duration": 6,
    "start_time": "2021-12-19T17:16:39.735Z"
   },
   {
    "duration": 15,
    "start_time": "2021-12-19T17:16:39.762Z"
   },
   {
    "duration": 43,
    "start_time": "2021-12-19T17:16:39.780Z"
   },
   {
    "duration": 470,
    "start_time": "2021-12-19T17:16:39.826Z"
   },
   {
    "duration": 388,
    "start_time": "2021-12-19T17:16:40.298Z"
   },
   {
    "duration": 455,
    "start_time": "2021-12-19T17:16:40.689Z"
   },
   {
    "duration": 396,
    "start_time": "2021-12-19T17:16:41.147Z"
   },
   {
    "duration": 32,
    "start_time": "2021-12-19T17:16:41.546Z"
   },
   {
    "duration": 450,
    "start_time": "2021-12-19T17:16:41.581Z"
   },
   {
    "duration": 384,
    "start_time": "2021-12-19T17:16:42.034Z"
   },
   {
    "duration": 423,
    "start_time": "2021-12-19T17:16:42.420Z"
   },
   {
    "duration": 371,
    "start_time": "2021-12-19T17:16:42.845Z"
   },
   {
    "duration": 23,
    "start_time": "2021-12-19T17:16:43.219Z"
   },
   {
    "duration": 506,
    "start_time": "2021-12-19T17:16:43.245Z"
   },
   {
    "duration": 385,
    "start_time": "2021-12-19T17:16:43.754Z"
   },
   {
    "duration": 426,
    "start_time": "2021-12-19T17:16:44.141Z"
   },
   {
    "duration": 364,
    "start_time": "2021-12-19T17:16:44.569Z"
   },
   {
    "duration": 288,
    "start_time": "2021-12-19T17:16:44.936Z"
   },
   {
    "duration": 15,
    "start_time": "2021-12-19T17:16:45.226Z"
   },
   {
    "duration": 31,
    "start_time": "2021-12-19T17:16:45.244Z"
   },
   {
    "duration": 1797,
    "start_time": "2021-12-19T17:18:47.073Z"
   },
   {
    "duration": 192,
    "start_time": "2021-12-19T17:18:48.873Z"
   },
   {
    "duration": 139,
    "start_time": "2021-12-19T17:18:49.068Z"
   },
   {
    "duration": 34,
    "start_time": "2021-12-19T17:18:49.210Z"
   },
   {
    "duration": 61,
    "start_time": "2021-12-19T17:18:49.247Z"
   },
   {
    "duration": 74,
    "start_time": "2021-12-19T17:18:49.310Z"
   },
   {
    "duration": 15,
    "start_time": "2021-12-19T17:18:49.387Z"
   },
   {
    "duration": 63,
    "start_time": "2021-12-19T17:18:49.407Z"
   },
   {
    "duration": 54,
    "start_time": "2021-12-19T17:18:49.475Z"
   },
   {
    "duration": 62,
    "start_time": "2021-12-19T17:18:49.532Z"
   },
   {
    "duration": 35,
    "start_time": "2021-12-19T17:18:49.597Z"
   },
   {
    "duration": 49,
    "start_time": "2021-12-19T17:18:49.635Z"
   },
   {
    "duration": 31,
    "start_time": "2021-12-19T17:18:49.687Z"
   },
   {
    "duration": 5,
    "start_time": "2021-12-19T17:18:49.720Z"
   },
   {
    "duration": 48,
    "start_time": "2021-12-19T17:18:49.728Z"
   },
   {
    "duration": 19,
    "start_time": "2021-12-19T17:18:49.778Z"
   },
   {
    "duration": 27,
    "start_time": "2021-12-19T17:18:49.800Z"
   },
   {
    "duration": 38,
    "start_time": "2021-12-19T17:18:49.864Z"
   },
   {
    "duration": 171,
    "start_time": "2021-12-19T17:18:49.905Z"
   },
   {
    "duration": 178,
    "start_time": "2021-12-19T17:18:50.079Z"
   },
   {
    "duration": 148,
    "start_time": "2021-12-19T17:18:50.263Z"
   },
   {
    "duration": 6,
    "start_time": "2021-12-19T17:18:50.414Z"
   },
   {
    "duration": 19,
    "start_time": "2021-12-19T17:18:50.425Z"
   },
   {
    "duration": 23,
    "start_time": "2021-12-19T17:18:50.464Z"
   },
   {
    "duration": 588,
    "start_time": "2021-12-19T17:18:50.490Z"
   },
   {
    "duration": 386,
    "start_time": "2021-12-19T17:18:51.081Z"
   },
   {
    "duration": 499,
    "start_time": "2021-12-19T17:18:51.470Z"
   },
   {
    "duration": 525,
    "start_time": "2021-12-19T17:18:51.972Z"
   },
   {
    "duration": 63,
    "start_time": "2021-12-19T17:18:52.500Z"
   },
   {
    "duration": 696,
    "start_time": "2021-12-19T17:18:52.567Z"
   },
   {
    "duration": 724,
    "start_time": "2021-12-19T17:18:53.265Z"
   },
   {
    "duration": 457,
    "start_time": "2021-12-19T17:18:53.992Z"
   },
   {
    "duration": 385,
    "start_time": "2021-12-19T17:18:54.452Z"
   },
   {
    "duration": 48,
    "start_time": "2021-12-19T17:18:54.840Z"
   },
   {
    "duration": 608,
    "start_time": "2021-12-19T17:18:54.891Z"
   },
   {
    "duration": 641,
    "start_time": "2021-12-19T17:18:55.501Z"
   },
   {
    "duration": 601,
    "start_time": "2021-12-19T17:18:56.145Z"
   },
   {
    "duration": 421,
    "start_time": "2021-12-19T17:18:56.748Z"
   },
   {
    "duration": 349,
    "start_time": "2021-12-19T17:18:57.172Z"
   },
   {
    "duration": 16,
    "start_time": "2021-12-19T17:18:57.524Z"
   },
   {
    "duration": 31,
    "start_time": "2021-12-19T17:18:57.543Z"
   },
   {
    "duration": 1533,
    "start_time": "2021-12-19T17:21:39.517Z"
   },
   {
    "duration": 190,
    "start_time": "2021-12-19T17:21:41.062Z"
   },
   {
    "duration": 134,
    "start_time": "2021-12-19T17:21:41.255Z"
   },
   {
    "duration": 33,
    "start_time": "2021-12-19T17:21:41.392Z"
   },
   {
    "duration": 64,
    "start_time": "2021-12-19T17:21:41.427Z"
   },
   {
    "duration": 81,
    "start_time": "2021-12-19T17:21:41.493Z"
   },
   {
    "duration": 16,
    "start_time": "2021-12-19T17:21:41.576Z"
   },
   {
    "duration": 36,
    "start_time": "2021-12-19T17:21:41.596Z"
   },
   {
    "duration": 77,
    "start_time": "2021-12-19T17:21:41.635Z"
   },
   {
    "duration": 49,
    "start_time": "2021-12-19T17:21:41.715Z"
   },
   {
    "duration": 20,
    "start_time": "2021-12-19T17:21:41.767Z"
   },
   {
    "duration": 45,
    "start_time": "2021-12-19T17:21:41.790Z"
   },
   {
    "duration": 51,
    "start_time": "2021-12-19T17:21:41.838Z"
   },
   {
    "duration": 6,
    "start_time": "2021-12-19T17:21:41.892Z"
   },
   {
    "duration": 22,
    "start_time": "2021-12-19T17:21:41.900Z"
   },
   {
    "duration": 53,
    "start_time": "2021-12-19T17:21:41.924Z"
   },
   {
    "duration": 27,
    "start_time": "2021-12-19T17:21:41.980Z"
   },
   {
    "duration": 62,
    "start_time": "2021-12-19T17:21:42.009Z"
   },
   {
    "duration": 159,
    "start_time": "2021-12-19T17:21:42.074Z"
   },
   {
    "duration": 191,
    "start_time": "2021-12-19T17:21:42.236Z"
   },
   {
    "duration": 164,
    "start_time": "2021-12-19T17:21:42.430Z"
   },
   {
    "duration": 6,
    "start_time": "2021-12-19T17:21:42.596Z"
   },
   {
    "duration": 43,
    "start_time": "2021-12-19T17:21:42.606Z"
   },
   {
    "duration": 31,
    "start_time": "2021-12-19T17:21:42.652Z"
   },
   {
    "duration": 578,
    "start_time": "2021-12-19T17:21:42.685Z"
   },
   {
    "duration": 390,
    "start_time": "2021-12-19T17:21:43.265Z"
   },
   {
    "duration": 490,
    "start_time": "2021-12-19T17:21:43.662Z"
   },
   {
    "duration": 412,
    "start_time": "2021-12-19T17:21:44.155Z"
   },
   {
    "duration": 23,
    "start_time": "2021-12-19T17:21:44.570Z"
   },
   {
    "duration": 488,
    "start_time": "2021-12-19T17:21:44.596Z"
   },
   {
    "duration": 388,
    "start_time": "2021-12-19T17:21:45.086Z"
   },
   {
    "duration": 435,
    "start_time": "2021-12-19T17:21:45.477Z"
   },
   {
    "duration": 491,
    "start_time": "2021-12-19T17:21:45.914Z"
   },
   {
    "duration": 30,
    "start_time": "2021-12-19T17:21:46.408Z"
   },
   {
    "duration": 565,
    "start_time": "2021-12-19T17:21:46.441Z"
   },
   {
    "duration": 445,
    "start_time": "2021-12-19T17:21:47.010Z"
   },
   {
    "duration": 428,
    "start_time": "2021-12-19T17:21:47.457Z"
   },
   {
    "duration": 381,
    "start_time": "2021-12-19T17:21:47.887Z"
   },
   {
    "duration": 297,
    "start_time": "2021-12-19T17:21:48.271Z"
   },
   {
    "duration": 14,
    "start_time": "2021-12-19T17:21:48.571Z"
   },
   {
    "duration": 34,
    "start_time": "2021-12-19T17:21:48.587Z"
   },
   {
    "duration": 1719,
    "start_time": "2021-12-20T09:39:29.618Z"
   },
   {
    "duration": 231,
    "start_time": "2021-12-20T09:39:31.339Z"
   },
   {
    "duration": 157,
    "start_time": "2021-12-20T09:39:31.574Z"
   },
   {
    "duration": 36,
    "start_time": "2021-12-20T09:39:31.734Z"
   },
   {
    "duration": 51,
    "start_time": "2021-12-20T09:39:31.774Z"
   },
   {
    "duration": 99,
    "start_time": "2021-12-20T09:39:31.829Z"
   },
   {
    "duration": 18,
    "start_time": "2021-12-20T09:39:31.931Z"
   },
   {
    "duration": 43,
    "start_time": "2021-12-20T09:39:31.971Z"
   },
   {
    "duration": 81,
    "start_time": "2021-12-20T09:39:32.017Z"
   },
   {
    "duration": 39,
    "start_time": "2021-12-20T09:39:32.101Z"
   },
   {
    "duration": 38,
    "start_time": "2021-12-20T09:39:32.143Z"
   },
   {
    "duration": 47,
    "start_time": "2021-12-20T09:39:32.184Z"
   },
   {
    "duration": 59,
    "start_time": "2021-12-20T09:39:32.234Z"
   },
   {
    "duration": 6,
    "start_time": "2021-12-20T09:39:32.297Z"
   },
   {
    "duration": 25,
    "start_time": "2021-12-20T09:39:32.306Z"
   },
   {
    "duration": 56,
    "start_time": "2021-12-20T09:39:32.334Z"
   },
   {
    "duration": 32,
    "start_time": "2021-12-20T09:39:32.393Z"
   },
   {
    "duration": 75,
    "start_time": "2021-12-20T09:39:32.428Z"
   },
   {
    "duration": 183,
    "start_time": "2021-12-20T09:39:32.506Z"
   },
   {
    "duration": 203,
    "start_time": "2021-12-20T09:39:32.691Z"
   },
   {
    "duration": 173,
    "start_time": "2021-12-20T09:39:32.898Z"
   },
   {
    "duration": 15,
    "start_time": "2021-12-20T09:39:33.073Z"
   },
   {
    "duration": 17,
    "start_time": "2021-12-20T09:39:33.094Z"
   },
   {
    "duration": 63,
    "start_time": "2021-12-20T09:39:33.114Z"
   },
   {
    "duration": 520,
    "start_time": "2021-12-20T09:39:33.181Z"
   },
   {
    "duration": 447,
    "start_time": "2021-12-20T09:39:33.704Z"
   },
   {
    "duration": 502,
    "start_time": "2021-12-20T09:39:34.153Z"
   },
   {
    "duration": 429,
    "start_time": "2021-12-20T09:39:34.658Z"
   },
   {
    "duration": 24,
    "start_time": "2021-12-20T09:39:35.090Z"
   },
   {
    "duration": 545,
    "start_time": "2021-12-20T09:39:35.117Z"
   },
   {
    "duration": 434,
    "start_time": "2021-12-20T09:39:35.668Z"
   },
   {
    "duration": 489,
    "start_time": "2021-12-20T09:39:36.105Z"
   },
   {
    "duration": 475,
    "start_time": "2021-12-20T09:39:36.596Z"
   },
   {
    "duration": 28,
    "start_time": "2021-12-20T09:39:37.073Z"
   },
   {
    "duration": 502,
    "start_time": "2021-12-20T09:39:37.104Z"
   },
   {
    "duration": 427,
    "start_time": "2021-12-20T09:39:37.609Z"
   },
   {
    "duration": 477,
    "start_time": "2021-12-20T09:39:38.039Z"
   },
   {
    "duration": 417,
    "start_time": "2021-12-20T09:39:38.518Z"
   },
   {
    "duration": 351,
    "start_time": "2021-12-20T09:39:38.938Z"
   },
   {
    "duration": 16,
    "start_time": "2021-12-20T09:39:39.291Z"
   },
   {
    "duration": 20,
    "start_time": "2021-12-20T09:39:39.309Z"
   },
   {
    "duration": 36,
    "start_time": "2021-12-20T09:48:17.974Z"
   },
   {
    "duration": 125,
    "start_time": "2021-12-20T09:52:11.075Z"
   },
   {
    "duration": 172,
    "start_time": "2021-12-20T16:18:26.252Z"
   },
   {
    "duration": 378,
    "start_time": "2021-12-20T16:18:42.347Z"
   },
   {
    "duration": 1221,
    "start_time": "2021-12-20T16:18:51.389Z"
   },
   {
    "duration": 178,
    "start_time": "2021-12-20T16:18:52.612Z"
   },
   {
    "duration": 115,
    "start_time": "2021-12-20T16:18:52.792Z"
   },
   {
    "duration": 26,
    "start_time": "2021-12-20T16:18:52.909Z"
   },
   {
    "duration": 50,
    "start_time": "2021-12-20T16:18:52.936Z"
   },
   {
    "duration": 3,
    "start_time": "2021-12-20T16:18:52.988Z"
   },
   {
    "duration": 55,
    "start_time": "2021-12-20T16:18:52.992Z"
   },
   {
    "duration": 11,
    "start_time": "2021-12-20T16:18:53.049Z"
   },
   {
    "duration": 431,
    "start_time": "2021-12-20T16:18:53.063Z"
   },
   {
    "duration": -476,
    "start_time": "2021-12-20T16:18:53.973Z"
   },
   {
    "duration": -488,
    "start_time": "2021-12-20T16:18:53.986Z"
   },
   {
    "duration": -493,
    "start_time": "2021-12-20T16:18:53.992Z"
   },
   {
    "duration": -497,
    "start_time": "2021-12-20T16:18:53.997Z"
   },
   {
    "duration": -501,
    "start_time": "2021-12-20T16:18:54.002Z"
   },
   {
    "duration": -507,
    "start_time": "2021-12-20T16:18:54.010Z"
   },
   {
    "duration": -526,
    "start_time": "2021-12-20T16:18:54.030Z"
   },
   {
    "duration": -530,
    "start_time": "2021-12-20T16:18:54.035Z"
   },
   {
    "duration": -535,
    "start_time": "2021-12-20T16:18:54.041Z"
   },
   {
    "duration": -547,
    "start_time": "2021-12-20T16:18:54.054Z"
   },
   {
    "duration": -560,
    "start_time": "2021-12-20T16:18:54.068Z"
   },
   {
    "duration": -565,
    "start_time": "2021-12-20T16:18:54.074Z"
   },
   {
    "duration": -578,
    "start_time": "2021-12-20T16:18:54.088Z"
   },
   {
    "duration": -598,
    "start_time": "2021-12-20T16:18:54.109Z"
   },
   {
    "duration": -614,
    "start_time": "2021-12-20T16:18:54.126Z"
   },
   {
    "duration": -618,
    "start_time": "2021-12-20T16:18:54.131Z"
   },
   {
    "duration": -639,
    "start_time": "2021-12-20T16:18:54.153Z"
   },
   {
    "duration": -650,
    "start_time": "2021-12-20T16:18:54.165Z"
   },
   {
    "duration": -654,
    "start_time": "2021-12-20T16:18:54.170Z"
   },
   {
    "duration": -660,
    "start_time": "2021-12-20T16:18:54.177Z"
   },
   {
    "duration": -664,
    "start_time": "2021-12-20T16:18:54.182Z"
   },
   {
    "duration": -668,
    "start_time": "2021-12-20T16:18:54.187Z"
   },
   {
    "duration": -672,
    "start_time": "2021-12-20T16:18:54.192Z"
   },
   {
    "duration": -676,
    "start_time": "2021-12-20T16:18:54.197Z"
   },
   {
    "duration": -680,
    "start_time": "2021-12-20T16:18:54.202Z"
   },
   {
    "duration": -683,
    "start_time": "2021-12-20T16:18:54.207Z"
   },
   {
    "duration": -687,
    "start_time": "2021-12-20T16:18:54.212Z"
   },
   {
    "duration": -691,
    "start_time": "2021-12-20T16:18:54.217Z"
   },
   {
    "duration": -694,
    "start_time": "2021-12-20T16:18:54.221Z"
   },
   {
    "duration": -697,
    "start_time": "2021-12-20T16:18:54.225Z"
   },
   {
    "duration": -702,
    "start_time": "2021-12-20T16:18:54.230Z"
   },
   {
    "duration": -704,
    "start_time": "2021-12-20T16:18:54.234Z"
   },
   {
    "duration": -708,
    "start_time": "2021-12-20T16:18:54.239Z"
   },
   {
    "duration": 28,
    "start_time": "2021-12-20T16:19:32.901Z"
   },
   {
    "duration": 30,
    "start_time": "2021-12-20T16:19:55.921Z"
   },
   {
    "duration": 8,
    "start_time": "2021-12-20T16:22:31.355Z"
   },
   {
    "duration": 14,
    "start_time": "2021-12-20T16:24:29.291Z"
   },
   {
    "duration": 41,
    "start_time": "2021-12-20T16:25:11.064Z"
   },
   {
    "duration": -777,
    "start_time": "2021-12-20T16:25:35.183Z"
   },
   {
    "duration": 19,
    "start_time": "2021-12-20T16:25:34.704Z"
   },
   {
    "duration": 20,
    "start_time": "2021-12-20T16:25:34.854Z"
   },
   {
    "duration": 8954,
    "start_time": "2021-12-20T16:26:49.699Z"
   },
   {
    "duration": -496,
    "start_time": "2021-12-20T16:26:59.150Z"
   },
   {
    "duration": 33,
    "start_time": "2021-12-20T16:27:09.136Z"
   },
   {
    "duration": 359,
    "start_time": "2021-12-20T16:27:19.681Z"
   },
   {
    "duration": 369,
    "start_time": "2021-12-20T16:28:11.585Z"
   },
   {
    "duration": 702,
    "start_time": "2021-12-20T16:28:25.374Z"
   },
   {
    "duration": 22,
    "start_time": "2021-12-20T16:28:45.825Z"
   },
   {
    "duration": 375,
    "start_time": "2021-12-20T16:29:11.777Z"
   },
   {
    "duration": 26,
    "start_time": "2021-12-20T16:29:25.625Z"
   },
   {
    "duration": 5,
    "start_time": "2021-12-20T16:29:33.495Z"
   },
   {
    "duration": 171,
    "start_time": "2021-12-20T16:31:55.141Z"
   },
   {
    "duration": 602,
    "start_time": "2021-12-20T16:34:30.792Z"
   },
   {
    "duration": 1242,
    "start_time": "2021-12-20T16:34:54.072Z"
   },
   {
    "duration": 152,
    "start_time": "2021-12-20T16:34:55.316Z"
   },
   {
    "duration": 99,
    "start_time": "2021-12-20T16:34:55.471Z"
   },
   {
    "duration": 25,
    "start_time": "2021-12-20T16:34:55.572Z"
   },
   {
    "duration": 42,
    "start_time": "2021-12-20T16:34:55.598Z"
   },
   {
    "duration": 3,
    "start_time": "2021-12-20T16:34:55.641Z"
   },
   {
    "duration": 56,
    "start_time": "2021-12-20T16:34:55.645Z"
   },
   {
    "duration": 10,
    "start_time": "2021-12-20T16:34:55.703Z"
   },
   {
    "duration": 40,
    "start_time": "2021-12-20T16:34:55.716Z"
   },
   {
    "duration": 55,
    "start_time": "2021-12-20T16:34:55.759Z"
   },
   {
    "duration": 29,
    "start_time": "2021-12-20T16:34:55.816Z"
   },
   {
    "duration": 11,
    "start_time": "2021-12-20T16:34:55.847Z"
   },
   {
    "duration": 53,
    "start_time": "2021-12-20T16:34:55.860Z"
   },
   {
    "duration": 24,
    "start_time": "2021-12-20T16:34:55.915Z"
   },
   {
    "duration": 3,
    "start_time": "2021-12-20T16:34:55.941Z"
   },
   {
    "duration": 8,
    "start_time": "2021-12-20T16:34:55.946Z"
   },
   {
    "duration": 4,
    "start_time": "2021-12-20T16:34:55.955Z"
   },
   {
    "duration": 5,
    "start_time": "2021-12-20T16:34:55.960Z"
   },
   {
    "duration": 4,
    "start_time": "2021-12-20T16:34:55.966Z"
   },
   {
    "duration": 820,
    "start_time": "2021-12-20T16:34:55.972Z"
   },
   {
    "duration": -484,
    "start_time": "2021-12-20T16:34:57.279Z"
   },
   {
    "duration": -490,
    "start_time": "2021-12-20T16:34:57.286Z"
   },
   {
    "duration": -505,
    "start_time": "2021-12-20T16:34:57.302Z"
   },
   {
    "duration": -522,
    "start_time": "2021-12-20T16:34:57.319Z"
   },
   {
    "duration": -538,
    "start_time": "2021-12-20T16:34:57.336Z"
   },
   {
    "duration": -553,
    "start_time": "2021-12-20T16:34:57.352Z"
   },
   {
    "duration": -567,
    "start_time": "2021-12-20T16:34:57.367Z"
   },
   {
    "duration": -571,
    "start_time": "2021-12-20T16:34:57.372Z"
   },
   {
    "duration": -576,
    "start_time": "2021-12-20T16:34:57.378Z"
   },
   {
    "duration": -581,
    "start_time": "2021-12-20T16:34:57.384Z"
   },
   {
    "duration": -585,
    "start_time": "2021-12-20T16:34:57.389Z"
   },
   {
    "duration": -589,
    "start_time": "2021-12-20T16:34:57.394Z"
   },
   {
    "duration": -594,
    "start_time": "2021-12-20T16:34:57.400Z"
   },
   {
    "duration": -597,
    "start_time": "2021-12-20T16:34:57.404Z"
   },
   {
    "duration": -603,
    "start_time": "2021-12-20T16:34:57.410Z"
   },
   {
    "duration": -609,
    "start_time": "2021-12-20T16:34:57.417Z"
   },
   {
    "duration": -614,
    "start_time": "2021-12-20T16:34:57.423Z"
   },
   {
    "duration": -617,
    "start_time": "2021-12-20T16:34:57.427Z"
   },
   {
    "duration": -622,
    "start_time": "2021-12-20T16:34:57.433Z"
   },
   {
    "duration": -625,
    "start_time": "2021-12-20T16:34:57.437Z"
   },
   {
    "duration": -631,
    "start_time": "2021-12-20T16:34:57.443Z"
   },
   {
    "duration": -634,
    "start_time": "2021-12-20T16:34:57.447Z"
   },
   {
    "duration": -639,
    "start_time": "2021-12-20T16:34:57.453Z"
   },
   {
    "duration": 3850,
    "start_time": "2021-12-20T16:35:12.117Z"
   },
   {
    "duration": 78,
    "start_time": "2021-12-20T16:36:14.164Z"
   },
   {
    "duration": 72,
    "start_time": "2021-12-20T16:36:45.679Z"
   },
   {
    "duration": 63,
    "start_time": "2021-12-20T16:37:01.210Z"
   },
   {
    "duration": 6439,
    "start_time": "2021-12-20T16:38:21.620Z"
   },
   {
    "duration": 7150,
    "start_time": "2021-12-20T16:38:33.942Z"
   },
   {
    "duration": 2948,
    "start_time": "2021-12-20T16:38:45.472Z"
   },
   {
    "duration": 6555,
    "start_time": "2021-12-20T16:39:42.710Z"
   },
   {
    "duration": 6482,
    "start_time": "2021-12-20T16:40:10.977Z"
   },
   {
    "duration": 5856,
    "start_time": "2021-12-20T16:41:56.901Z"
   },
   {
    "duration": 5881,
    "start_time": "2021-12-20T16:42:37.949Z"
   },
   {
    "duration": 7739,
    "start_time": "2021-12-20T16:45:32.235Z"
   },
   {
    "duration": 1266,
    "start_time": "2021-12-20T16:45:48.939Z"
   },
   {
    "duration": 150,
    "start_time": "2021-12-20T16:45:50.207Z"
   },
   {
    "duration": 109,
    "start_time": "2021-12-20T16:45:50.359Z"
   },
   {
    "duration": 25,
    "start_time": "2021-12-20T16:45:50.470Z"
   },
   {
    "duration": 52,
    "start_time": "2021-12-20T16:45:50.497Z"
   },
   {
    "duration": 2,
    "start_time": "2021-12-20T16:45:50.551Z"
   },
   {
    "duration": 60,
    "start_time": "2021-12-20T16:45:50.555Z"
   },
   {
    "duration": 10,
    "start_time": "2021-12-20T16:45:50.617Z"
   },
   {
    "duration": 30,
    "start_time": "2021-12-20T16:45:50.629Z"
   },
   {
    "duration": 57,
    "start_time": "2021-12-20T16:45:50.660Z"
   },
   {
    "duration": 30,
    "start_time": "2021-12-20T16:45:50.719Z"
   },
   {
    "duration": 14,
    "start_time": "2021-12-20T16:45:50.751Z"
   },
   {
    "duration": 50,
    "start_time": "2021-12-20T16:45:50.766Z"
   },
   {
    "duration": 25,
    "start_time": "2021-12-20T16:45:50.817Z"
   },
   {
    "duration": 3,
    "start_time": "2021-12-20T16:45:50.843Z"
   },
   {
    "duration": 7,
    "start_time": "2021-12-20T16:45:50.848Z"
   },
   {
    "duration": 5,
    "start_time": "2021-12-20T16:45:50.857Z"
   },
   {
    "duration": 6,
    "start_time": "2021-12-20T16:45:50.863Z"
   },
   {
    "duration": 4,
    "start_time": "2021-12-20T16:45:50.870Z"
   },
   {
    "duration": 108,
    "start_time": "2021-12-20T16:45:50.876Z"
   },
   {
    "duration": 73,
    "start_time": "2021-12-20T16:45:50.986Z"
   },
   {
    "duration": 6475,
    "start_time": "2021-12-20T16:45:51.061Z"
   },
   {
    "duration": 7391,
    "start_time": "2021-12-20T16:45:57.539Z"
   },
   {
    "duration": 6855,
    "start_time": "2021-12-20T16:46:04.932Z"
   },
   {
    "duration": 5,
    "start_time": "2021-12-20T16:46:11.789Z"
   },
   {
    "duration": 21,
    "start_time": "2021-12-20T16:46:11.807Z"
   },
   {
    "duration": 46,
    "start_time": "2021-12-20T16:46:11.830Z"
   },
   {
    "duration": 322,
    "start_time": "2021-12-20T16:46:11.878Z"
   },
   {
    "duration": 306,
    "start_time": "2021-12-20T16:46:12.202Z"
   },
   {
    "duration": 302,
    "start_time": "2021-12-20T16:46:12.511Z"
   },
   {
    "duration": 244,
    "start_time": "2021-12-20T16:46:12.815Z"
   },
   {
    "duration": 45,
    "start_time": "2021-12-20T16:46:13.061Z"
   },
   {
    "duration": 324,
    "start_time": "2021-12-20T16:46:13.108Z"
   },
   {
    "duration": 258,
    "start_time": "2021-12-20T16:46:13.435Z"
   },
   {
    "duration": 294,
    "start_time": "2021-12-20T16:46:13.695Z"
   },
   {
    "duration": 240,
    "start_time": "2021-12-20T16:46:13.991Z"
   },
   {
    "duration": 428,
    "start_time": "2021-12-20T16:46:14.232Z"
   },
   {
    "duration": -511,
    "start_time": "2021-12-20T16:46:15.173Z"
   },
   {
    "duration": -517,
    "start_time": "2021-12-20T16:46:15.180Z"
   },
   {
    "duration": -528,
    "start_time": "2021-12-20T16:46:15.192Z"
   },
   {
    "duration": -539,
    "start_time": "2021-12-20T16:46:15.204Z"
   },
   {
    "duration": -544,
    "start_time": "2021-12-20T16:46:15.210Z"
   },
   {
    "duration": -565,
    "start_time": "2021-12-20T16:46:15.232Z"
   },
   {
    "duration": -592,
    "start_time": "2021-12-20T16:46:15.259Z"
   },
   {
    "duration": 6785,
    "start_time": "2021-12-20T16:48:11.161Z"
   },
   {
    "duration": 255,
    "start_time": "2021-12-20T16:50:52.874Z"
   },
   {
    "duration": 217,
    "start_time": "2021-12-20T16:51:30.033Z"
   },
   {
    "duration": 280,
    "start_time": "2021-12-20T16:51:38.090Z"
   },
   {
    "duration": 226,
    "start_time": "2021-12-20T16:51:49.101Z"
   },
   {
    "duration": 256,
    "start_time": "2021-12-20T16:51:55.354Z"
   },
   {
    "duration": 209,
    "start_time": "2021-12-20T16:52:02.827Z"
   },
   {
    "duration": 31,
    "start_time": "2021-12-20T16:52:18.699Z"
   },
   {
    "duration": 306,
    "start_time": "2021-12-20T16:52:53.156Z"
   },
   {
    "duration": 296,
    "start_time": "2021-12-20T16:52:56.801Z"
   },
   {
    "duration": 828,
    "start_time": "2021-12-20T16:53:02.536Z"
   },
   {
    "duration": 280,
    "start_time": "2021-12-20T16:53:10.757Z"
   },
   {
    "duration": 375,
    "start_time": "2021-12-20T16:53:28.071Z"
   },
   {
    "duration": 253,
    "start_time": "2021-12-20T16:53:37.522Z"
   },
   {
    "duration": 250,
    "start_time": "2021-12-20T16:53:43.483Z"
   },
   {
    "duration": 216,
    "start_time": "2021-12-20T16:53:49.114Z"
   },
   {
    "duration": 204,
    "start_time": "2021-12-20T16:53:52.407Z"
   },
   {
    "duration": 199,
    "start_time": "2021-12-20T16:54:09.729Z"
   },
   {
    "duration": 126,
    "start_time": "2021-12-20T16:54:24.771Z"
   },
   {
    "duration": 118,
    "start_time": "2021-12-20T16:54:40.562Z"
   },
   {
    "duration": 118,
    "start_time": "2021-12-20T16:55:02.864Z"
   },
   {
    "duration": 190,
    "start_time": "2021-12-20T16:57:40.388Z"
   },
   {
    "duration": 270,
    "start_time": "2021-12-20T17:06:15.701Z"
   },
   {
    "duration": 217,
    "start_time": "2021-12-20T17:06:22.211Z"
   },
   {
    "duration": 187,
    "start_time": "2021-12-20T17:13:38.879Z"
   },
   {
    "duration": 172,
    "start_time": "2021-12-20T17:13:50.528Z"
   },
   {
    "duration": 272,
    "start_time": "2021-12-20T17:13:58.784Z"
   },
   {
    "duration": 189,
    "start_time": "2021-12-20T17:14:09.094Z"
   },
   {
    "duration": 3281,
    "start_time": "2021-12-21T16:25:29.312Z"
   },
   {
    "duration": 756,
    "start_time": "2021-12-21T16:25:32.596Z"
   },
   {
    "duration": 180,
    "start_time": "2021-12-21T16:25:33.356Z"
   },
   {
    "duration": 51,
    "start_time": "2021-12-21T16:25:33.541Z"
   },
   {
    "duration": 70,
    "start_time": "2021-12-21T16:25:33.594Z"
   },
   {
    "duration": 4,
    "start_time": "2021-12-21T16:25:33.667Z"
   },
   {
    "duration": 101,
    "start_time": "2021-12-21T16:25:33.674Z"
   },
   {
    "duration": 16,
    "start_time": "2021-12-21T16:25:33.781Z"
   },
   {
    "duration": 77,
    "start_time": "2021-12-21T16:25:33.801Z"
   },
   {
    "duration": 50,
    "start_time": "2021-12-21T16:25:33.881Z"
   },
   {
    "duration": 55,
    "start_time": "2021-12-21T16:25:33.934Z"
   },
   {
    "duration": 22,
    "start_time": "2021-12-21T16:25:33.991Z"
   },
   {
    "duration": 76,
    "start_time": "2021-12-21T16:25:34.016Z"
   },
   {
    "duration": 39,
    "start_time": "2021-12-21T16:25:34.095Z"
   },
   {
    "duration": 24,
    "start_time": "2021-12-21T16:25:34.136Z"
   },
   {
    "duration": 6,
    "start_time": "2021-12-21T16:25:34.162Z"
   },
   {
    "duration": 5,
    "start_time": "2021-12-21T16:25:34.171Z"
   },
   {
    "duration": 7,
    "start_time": "2021-12-21T16:25:34.178Z"
   },
   {
    "duration": 5,
    "start_time": "2021-12-21T16:25:34.187Z"
   },
   {
    "duration": 169,
    "start_time": "2021-12-21T16:25:34.195Z"
   },
   {
    "duration": 118,
    "start_time": "2021-12-21T16:25:34.366Z"
   },
   {
    "duration": 10918,
    "start_time": "2021-12-21T16:25:34.486Z"
   },
   {
    "duration": 12250,
    "start_time": "2021-12-21T16:25:45.409Z"
   },
   {
    "duration": 11041,
    "start_time": "2021-12-21T16:25:57.663Z"
   },
   {
    "duration": 8,
    "start_time": "2021-12-21T16:26:08.706Z"
   },
   {
    "duration": 54,
    "start_time": "2021-12-21T16:26:08.717Z"
   },
   {
    "duration": 87,
    "start_time": "2021-12-21T16:26:08.774Z"
   },
   {
    "duration": 479,
    "start_time": "2021-12-21T16:26:08.863Z"
   },
   {
    "duration": 390,
    "start_time": "2021-12-21T16:26:09.345Z"
   },
   {
    "duration": 463,
    "start_time": "2021-12-21T16:26:09.737Z"
   },
   {
    "duration": 383,
    "start_time": "2021-12-21T16:26:10.203Z"
   },
   {
    "duration": 74,
    "start_time": "2021-12-21T16:26:10.590Z"
   },
   {
    "duration": 483,
    "start_time": "2021-12-21T16:26:10.666Z"
   },
   {
    "duration": 393,
    "start_time": "2021-12-21T16:26:11.151Z"
   },
   {
    "duration": 463,
    "start_time": "2021-12-21T16:26:11.548Z"
   },
   {
    "duration": 371,
    "start_time": "2021-12-21T16:26:12.014Z"
   },
   {
    "duration": 89,
    "start_time": "2021-12-21T16:26:12.389Z"
   },
   {
    "duration": 891,
    "start_time": "2021-12-21T16:26:12.482Z"
   },
   {
    "duration": 577,
    "start_time": "2021-12-21T16:26:13.377Z"
   },
   {
    "duration": 735,
    "start_time": "2021-12-21T16:26:13.961Z"
   },
   {
    "duration": 367,
    "start_time": "2021-12-21T16:26:14.700Z"
   },
   {
    "duration": 4,
    "start_time": "2021-12-21T16:26:15.070Z"
   },
   {
    "duration": 330,
    "start_time": "2021-12-21T16:26:15.077Z"
   },
   {
    "duration": 329,
    "start_time": "2021-12-21T16:26:15.410Z"
   },
   {
    "duration": 3,
    "start_time": "2021-12-21T16:26:15.742Z"
   },
   {
    "duration": 83,
    "start_time": "2021-12-21T16:26:15.747Z"
   },
   {
    "duration": 28,
    "start_time": "2021-12-21T16:26:15.832Z"
   },
   {
    "duration": 96,
    "start_time": "2021-12-21T16:26:15.863Z"
   },
   {
    "duration": 3,
    "start_time": "2021-12-21T16:26:15.961Z"
   },
   {
    "duration": 700,
    "start_time": "2021-12-21T16:31:58.363Z"
   },
   {
    "duration": 133,
    "start_time": "2021-12-21T16:34:20.818Z"
   },
   {
    "duration": 796,
    "start_time": "2021-12-21T16:34:45.914Z"
   },
   {
    "duration": 997,
    "start_time": "2021-12-21T16:35:48.219Z"
   },
   {
    "duration": 972,
    "start_time": "2021-12-21T16:36:16.128Z"
   },
   {
    "duration": 302,
    "start_time": "2021-12-21T16:37:04.757Z"
   },
   {
    "duration": 299,
    "start_time": "2021-12-21T16:37:20.535Z"
   },
   {
    "duration": 282,
    "start_time": "2021-12-21T16:37:28.881Z"
   },
   {
    "duration": 446,
    "start_time": "2021-12-21T16:38:00.597Z"
   },
   {
    "duration": 275,
    "start_time": "2021-12-21T16:38:08.608Z"
   },
   {
    "duration": 389,
    "start_time": "2021-12-21T16:38:14.473Z"
   },
   {
    "duration": 645,
    "start_time": "2021-12-21T16:39:15.255Z"
   },
   {
    "duration": 593,
    "start_time": "2021-12-21T16:40:14.282Z"
   },
   {
    "duration": 785,
    "start_time": "2021-12-21T16:40:29.151Z"
   },
   {
    "duration": 672,
    "start_time": "2021-12-21T16:40:39.521Z"
   },
   {
    "duration": 637,
    "start_time": "2021-12-21T16:41:20.079Z"
   },
   {
    "duration": 293,
    "start_time": "2021-12-21T16:41:29.204Z"
   },
   {
    "duration": 301,
    "start_time": "2021-12-21T16:41:35.592Z"
   },
   {
    "duration": 301,
    "start_time": "2021-12-21T16:41:43.133Z"
   },
   {
    "duration": 1383,
    "start_time": "2021-12-21T16:42:13.187Z"
   },
   {
    "duration": 1081,
    "start_time": "2021-12-21T16:43:00.527Z"
   },
   {
    "duration": 486,
    "start_time": "2021-12-21T16:43:35.799Z"
   },
   {
    "duration": 303,
    "start_time": "2021-12-21T16:43:42.181Z"
   },
   {
    "duration": 1330,
    "start_time": "2021-12-21T16:44:22.689Z"
   },
   {
    "duration": 955,
    "start_time": "2021-12-21T16:51:09.131Z"
   },
   {
    "duration": 861,
    "start_time": "2021-12-21T16:52:11.634Z"
   },
   {
    "duration": 914,
    "start_time": "2021-12-21T16:52:34.507Z"
   },
   {
    "duration": 974,
    "start_time": "2021-12-21T16:56:08.311Z"
   },
   {
    "duration": 985,
    "start_time": "2021-12-21T16:56:33.484Z"
   },
   {
    "duration": 1429,
    "start_time": "2021-12-21T17:01:06.425Z"
   },
   {
    "duration": 1685,
    "start_time": "2021-12-21T17:01:28.333Z"
   },
   {
    "duration": 983,
    "start_time": "2021-12-21T17:02:13.018Z"
   },
   {
    "duration": 1871,
    "start_time": "2021-12-21T17:02:30.553Z"
   },
   {
    "duration": 994,
    "start_time": "2021-12-21T17:03:25.918Z"
   },
   {
    "duration": 937,
    "start_time": "2021-12-21T17:04:02.863Z"
   },
   {
    "duration": 3059,
    "start_time": "2021-12-21T17:10:14.710Z"
   },
   {
    "duration": 1323,
    "start_time": "2021-12-21T17:10:32.872Z"
   },
   {
    "duration": 5061,
    "start_time": "2021-12-21T17:13:42.667Z"
   },
   {
    "duration": 5010,
    "start_time": "2021-12-21T17:14:18.173Z"
   },
   {
    "duration": 68,
    "start_time": "2021-12-21T17:15:39.977Z"
   },
   {
    "duration": 2860,
    "start_time": "2021-12-21T17:15:51.418Z"
   },
   {
    "duration": 15,
    "start_time": "2021-12-21T17:16:15.883Z"
   },
   {
    "duration": 10,
    "start_time": "2021-12-21T17:20:09.747Z"
   },
   {
    "duration": 33,
    "start_time": "2021-12-21T17:20:40.031Z"
   },
   {
    "duration": 32,
    "start_time": "2021-12-21T17:21:13.332Z"
   },
   {
    "duration": 441,
    "start_time": "2021-12-21T17:21:51.078Z"
   },
   {
    "duration": 402,
    "start_time": "2021-12-21T17:22:05.354Z"
   },
   {
    "duration": 18,
    "start_time": "2021-12-21T17:22:48.291Z"
   },
   {
    "duration": 6,
    "start_time": "2021-12-21T17:23:05.438Z"
   },
   {
    "duration": 2305,
    "start_time": "2021-12-21T17:23:16.491Z"
   },
   {
    "duration": 284,
    "start_time": "2021-12-21T17:23:18.799Z"
   },
   {
    "duration": 203,
    "start_time": "2021-12-21T17:23:19.086Z"
   },
   {
    "duration": 35,
    "start_time": "2021-12-21T17:23:19.292Z"
   },
   {
    "duration": 96,
    "start_time": "2021-12-21T17:23:19.359Z"
   },
   {
    "duration": 4,
    "start_time": "2021-12-21T17:23:19.459Z"
   },
   {
    "duration": 103,
    "start_time": "2021-12-21T17:23:19.465Z"
   },
   {
    "duration": 15,
    "start_time": "2021-12-21T17:23:19.572Z"
   },
   {
    "duration": 44,
    "start_time": "2021-12-21T17:23:19.590Z"
   },
   {
    "duration": 54,
    "start_time": "2021-12-21T17:23:19.660Z"
   },
   {
    "duration": 59,
    "start_time": "2021-12-21T17:23:19.717Z"
   },
   {
    "duration": 18,
    "start_time": "2021-12-21T17:23:19.778Z"
   },
   {
    "duration": 90,
    "start_time": "2021-12-21T17:23:19.800Z"
   },
   {
    "duration": 47,
    "start_time": "2021-12-21T17:23:19.894Z"
   },
   {
    "duration": 21,
    "start_time": "2021-12-21T17:23:19.944Z"
   },
   {
    "duration": 4,
    "start_time": "2021-12-21T17:23:19.969Z"
   },
   {
    "duration": 4,
    "start_time": "2021-12-21T17:23:19.977Z"
   },
   {
    "duration": 3,
    "start_time": "2021-12-21T17:23:19.985Z"
   },
   {
    "duration": 5,
    "start_time": "2021-12-21T17:23:19.991Z"
   },
   {
    "duration": 173,
    "start_time": "2021-12-21T17:23:19.999Z"
   },
   {
    "duration": 112,
    "start_time": "2021-12-21T17:23:20.176Z"
   },
   {
    "duration": 10324,
    "start_time": "2021-12-21T17:23:20.291Z"
   },
   {
    "duration": 12261,
    "start_time": "2021-12-21T17:23:30.624Z"
   },
   {
    "duration": 21628,
    "start_time": "2021-12-21T17:23:42.888Z"
   },
   {
    "duration": -329,
    "start_time": "2021-12-21T17:24:04.848Z"
   },
   {
    "duration": -339,
    "start_time": "2021-12-21T17:24:04.859Z"
   },
   {
    "duration": -348,
    "start_time": "2021-12-21T17:24:04.870Z"
   },
   {
    "duration": -354,
    "start_time": "2021-12-21T17:24:04.877Z"
   },
   {
    "duration": -359,
    "start_time": "2021-12-21T17:24:04.883Z"
   },
   {
    "duration": -366,
    "start_time": "2021-12-21T17:24:04.892Z"
   },
   {
    "duration": -375,
    "start_time": "2021-12-21T17:24:04.902Z"
   },
   {
    "duration": -388,
    "start_time": "2021-12-21T17:24:04.917Z"
   },
   {
    "duration": -393,
    "start_time": "2021-12-21T17:24:04.923Z"
   },
   {
    "duration": -398,
    "start_time": "2021-12-21T17:24:04.929Z"
   },
   {
    "duration": -402,
    "start_time": "2021-12-21T17:24:04.935Z"
   },
   {
    "duration": -407,
    "start_time": "2021-12-21T17:24:04.941Z"
   },
   {
    "duration": -411,
    "start_time": "2021-12-21T17:24:04.946Z"
   },
   {
    "duration": -416,
    "start_time": "2021-12-21T17:24:04.953Z"
   },
   {
    "duration": -420,
    "start_time": "2021-12-21T17:24:04.958Z"
   },
   {
    "duration": -425,
    "start_time": "2021-12-21T17:24:04.965Z"
   },
   {
    "duration": -430,
    "start_time": "2021-12-21T17:24:04.971Z"
   },
   {
    "duration": -434,
    "start_time": "2021-12-21T17:24:04.976Z"
   },
   {
    "duration": -438,
    "start_time": "2021-12-21T17:24:04.981Z"
   },
   {
    "duration": -442,
    "start_time": "2021-12-21T17:24:04.987Z"
   },
   {
    "duration": -446,
    "start_time": "2021-12-21T17:24:04.992Z"
   },
   {
    "duration": -450,
    "start_time": "2021-12-21T17:24:04.998Z"
   },
   {
    "duration": -456,
    "start_time": "2021-12-21T17:24:05.005Z"
   },
   {
    "duration": -461,
    "start_time": "2021-12-21T17:24:05.011Z"
   },
   {
    "duration": -474,
    "start_time": "2021-12-21T17:24:05.026Z"
   },
   {
    "duration": -479,
    "start_time": "2021-12-21T17:24:05.032Z"
   },
   {
    "duration": -483,
    "start_time": "2021-12-21T17:24:05.037Z"
   },
   {
    "duration": -487,
    "start_time": "2021-12-21T17:24:05.043Z"
   },
   {
    "duration": -492,
    "start_time": "2021-12-21T17:24:05.049Z"
   },
   {
    "duration": -496,
    "start_time": "2021-12-21T17:24:05.054Z"
   },
   {
    "duration": -501,
    "start_time": "2021-12-21T17:24:05.060Z"
   },
   {
    "duration": 5,
    "start_time": "2021-12-21T17:25:47.433Z"
   },
   {
    "duration": 124,
    "start_time": "2021-12-21T17:25:51.553Z"
   },
   {
    "duration": 95,
    "start_time": "2021-12-21T17:25:55.893Z"
   },
   {
    "duration": 14032,
    "start_time": "2021-12-21T17:26:41.236Z"
   },
   {
    "duration": 11750,
    "start_time": "2021-12-21T17:27:51.504Z"
   },
   {
    "duration": 1743,
    "start_time": "2021-12-21T17:28:12.820Z"
   },
   {
    "duration": 207,
    "start_time": "2021-12-21T17:28:14.566Z"
   },
   {
    "duration": 134,
    "start_time": "2021-12-21T17:28:14.777Z"
   },
   {
    "duration": 45,
    "start_time": "2021-12-21T17:28:14.914Z"
   },
   {
    "duration": 63,
    "start_time": "2021-12-21T17:28:14.961Z"
   },
   {
    "duration": 3,
    "start_time": "2021-12-21T17:28:15.027Z"
   },
   {
    "duration": 82,
    "start_time": "2021-12-21T17:28:15.032Z"
   },
   {
    "duration": 13,
    "start_time": "2021-12-21T17:28:15.118Z"
   },
   {
    "duration": 55,
    "start_time": "2021-12-21T17:28:15.134Z"
   },
   {
    "duration": 71,
    "start_time": "2021-12-21T17:28:15.192Z"
   },
   {
    "duration": 42,
    "start_time": "2021-12-21T17:28:15.266Z"
   },
   {
    "duration": 33,
    "start_time": "2021-12-21T17:28:15.311Z"
   },
   {
    "duration": 54,
    "start_time": "2021-12-21T17:28:15.346Z"
   },
   {
    "duration": 33,
    "start_time": "2021-12-21T17:28:15.403Z"
   },
   {
    "duration": 24,
    "start_time": "2021-12-21T17:28:15.438Z"
   },
   {
    "duration": 5,
    "start_time": "2021-12-21T17:28:15.465Z"
   },
   {
    "duration": 9,
    "start_time": "2021-12-21T17:28:15.473Z"
   },
   {
    "duration": 8,
    "start_time": "2021-12-21T17:28:15.484Z"
   },
   {
    "duration": 3,
    "start_time": "2021-12-21T17:28:15.495Z"
   },
   {
    "duration": 153,
    "start_time": "2021-12-21T17:28:15.500Z"
   },
   {
    "duration": 149,
    "start_time": "2021-12-21T17:28:15.660Z"
   },
   {
    "duration": 9765,
    "start_time": "2021-12-21T17:28:15.812Z"
   },
   {
    "duration": 13246,
    "start_time": "2021-12-21T17:28:25.584Z"
   },
   {
    "duration": 9570,
    "start_time": "2021-12-21T17:28:38.833Z"
   },
   {
    "duration": 7,
    "start_time": "2021-12-21T17:28:48.406Z"
   },
   {
    "duration": 54,
    "start_time": "2021-12-21T17:28:48.416Z"
   },
   {
    "duration": 87,
    "start_time": "2021-12-21T17:28:48.472Z"
   },
   {
    "duration": 467,
    "start_time": "2021-12-21T17:28:48.561Z"
   },
   {
    "duration": 385,
    "start_time": "2021-12-21T17:28:49.031Z"
   },
   {
    "duration": 627,
    "start_time": "2021-12-21T17:28:49.420Z"
   },
   {
    "duration": 558,
    "start_time": "2021-12-21T17:28:50.050Z"
   },
   {
    "duration": 68,
    "start_time": "2021-12-21T17:28:50.610Z"
   },
   {
    "duration": 547,
    "start_time": "2021-12-21T17:28:50.681Z"
   },
   {
    "duration": 396,
    "start_time": "2021-12-21T17:28:51.231Z"
   },
   {
    "duration": 433,
    "start_time": "2021-12-21T17:28:51.629Z"
   },
   {
    "duration": 359,
    "start_time": "2021-12-21T17:28:52.064Z"
   },
   {
    "duration": 676,
    "start_time": "2021-12-21T17:28:52.427Z"
   },
   {
    "duration": -293,
    "start_time": "2021-12-21T17:28:53.399Z"
   },
   {
    "duration": -299,
    "start_time": "2021-12-21T17:28:53.406Z"
   },
   {
    "duration": -302,
    "start_time": "2021-12-21T17:28:53.411Z"
   },
   {
    "duration": -307,
    "start_time": "2021-12-21T17:28:53.417Z"
   },
   {
    "duration": -310,
    "start_time": "2021-12-21T17:28:53.422Z"
   },
   {
    "duration": -315,
    "start_time": "2021-12-21T17:28:53.428Z"
   },
   {
    "duration": -318,
    "start_time": "2021-12-21T17:28:53.433Z"
   },
   {
    "duration": -321,
    "start_time": "2021-12-21T17:28:53.438Z"
   },
   {
    "duration": -325,
    "start_time": "2021-12-21T17:28:53.443Z"
   },
   {
    "duration": -329,
    "start_time": "2021-12-21T17:28:53.448Z"
   },
   {
    "duration": -339,
    "start_time": "2021-12-21T17:28:53.460Z"
   },
   {
    "duration": -343,
    "start_time": "2021-12-21T17:28:53.466Z"
   },
   {
    "duration": -359,
    "start_time": "2021-12-21T17:28:53.483Z"
   },
   {
    "duration": -363,
    "start_time": "2021-12-21T17:28:53.489Z"
   },
   {
    "duration": -367,
    "start_time": "2021-12-21T17:28:53.494Z"
   },
   {
    "duration": -376,
    "start_time": "2021-12-21T17:28:53.505Z"
   },
   {
    "duration": -379,
    "start_time": "2021-12-21T17:28:53.510Z"
   },
   {
    "duration": -388,
    "start_time": "2021-12-21T17:28:53.521Z"
   },
   {
    "duration": 52,
    "start_time": "2021-12-21T17:29:15.947Z"
   },
   {
    "duration": 9472,
    "start_time": "2021-12-21T17:29:19.399Z"
   },
   {
    "duration": 465,
    "start_time": "2021-12-21T17:29:32.107Z"
   },
   {
    "duration": 355,
    "start_time": "2021-12-21T17:29:39.484Z"
   },
   {
    "duration": 426,
    "start_time": "2021-12-21T17:29:49.476Z"
   },
   {
    "duration": 350,
    "start_time": "2021-12-21T17:29:52.149Z"
   },
   {
    "duration": 581,
    "start_time": "2021-12-21T17:29:57.076Z"
   },
   {
    "duration": 294,
    "start_time": "2021-12-21T17:29:59.841Z"
   },
   {
    "duration": 658,
    "start_time": "2021-12-21T17:30:02.606Z"
   },
   {
    "duration": 278,
    "start_time": "2021-12-21T17:30:06.430Z"
   },
   {
    "duration": 10047,
    "start_time": "2021-12-21T17:30:10.844Z"
   },
   {
    "duration": 676,
    "start_time": "2021-12-21T17:30:21.409Z"
   },
   {
    "duration": 293,
    "start_time": "2021-12-21T17:30:28.588Z"
   },
   {
    "duration": 315,
    "start_time": "2021-12-21T17:30:32.212Z"
   },
   {
    "duration": 1095,
    "start_time": "2021-12-21T17:30:38.469Z"
   },
   {
    "duration": 898,
    "start_time": "2021-12-21T17:30:42.709Z"
   },
   {
    "duration": 1075,
    "start_time": "2021-12-21T17:30:50.624Z"
   },
   {
    "duration": 66,
    "start_time": "2021-12-21T17:30:58.677Z"
   },
   {
    "duration": 11,
    "start_time": "2021-12-21T17:31:04.312Z"
   },
   {
    "duration": 75,
    "start_time": "2021-12-21T17:31:08.934Z"
   },
   {
    "duration": 1725,
    "start_time": "2021-12-21T17:31:52.575Z"
   },
   {
    "duration": 192,
    "start_time": "2021-12-21T17:31:54.303Z"
   },
   {
    "duration": 141,
    "start_time": "2021-12-21T17:31:54.498Z"
   },
   {
    "duration": 34,
    "start_time": "2021-12-21T17:31:54.642Z"
   },
   {
    "duration": 70,
    "start_time": "2021-12-21T17:31:54.679Z"
   },
   {
    "duration": 3,
    "start_time": "2021-12-21T17:31:54.751Z"
   },
   {
    "duration": 82,
    "start_time": "2021-12-21T17:31:54.756Z"
   },
   {
    "duration": 22,
    "start_time": "2021-12-21T17:31:54.841Z"
   },
   {
    "duration": 42,
    "start_time": "2021-12-21T17:31:54.866Z"
   },
   {
    "duration": 75,
    "start_time": "2021-12-21T17:31:54.911Z"
   },
   {
    "duration": 39,
    "start_time": "2021-12-21T17:31:54.989Z"
   },
   {
    "duration": 35,
    "start_time": "2021-12-21T17:31:55.031Z"
   },
   {
    "duration": 43,
    "start_time": "2021-12-21T17:31:55.069Z"
   },
   {
    "duration": 50,
    "start_time": "2021-12-21T17:31:55.115Z"
   },
   {
    "duration": 5,
    "start_time": "2021-12-21T17:31:55.167Z"
   },
   {
    "duration": 6,
    "start_time": "2021-12-21T17:31:55.174Z"
   },
   {
    "duration": 5,
    "start_time": "2021-12-21T17:31:55.183Z"
   },
   {
    "duration": 5,
    "start_time": "2021-12-21T17:31:55.191Z"
   },
   {
    "duration": 6,
    "start_time": "2021-12-21T17:31:55.198Z"
   },
   {
    "duration": 154,
    "start_time": "2021-12-21T17:31:55.207Z"
   },
   {
    "duration": 114,
    "start_time": "2021-12-21T17:31:55.363Z"
   },
   {
    "duration": 10433,
    "start_time": "2021-12-21T17:31:55.479Z"
   },
   {
    "duration": 11026,
    "start_time": "2021-12-21T17:32:05.917Z"
   },
   {
    "duration": 9515,
    "start_time": "2021-12-21T17:32:16.946Z"
   },
   {
    "duration": 8,
    "start_time": "2021-12-21T17:32:26.463Z"
   },
   {
    "duration": 30,
    "start_time": "2021-12-21T17:32:26.473Z"
   },
   {
    "duration": 105,
    "start_time": "2021-12-21T17:32:26.505Z"
   },
   {
    "duration": 473,
    "start_time": "2021-12-21T17:32:26.612Z"
   },
   {
    "duration": 382,
    "start_time": "2021-12-21T17:32:27.088Z"
   },
   {
    "duration": 444,
    "start_time": "2021-12-21T17:32:27.472Z"
   },
   {
    "duration": 378,
    "start_time": "2021-12-21T17:32:27.918Z"
   },
   {
    "duration": 63,
    "start_time": "2021-12-21T17:32:28.298Z"
   },
   {
    "duration": 639,
    "start_time": "2021-12-21T17:32:28.363Z"
   },
   {
    "duration": 374,
    "start_time": "2021-12-21T17:32:29.005Z"
   },
   {
    "duration": 434,
    "start_time": "2021-12-21T17:32:29.381Z"
   },
   {
    "duration": 500,
    "start_time": "2021-12-21T17:32:29.818Z"
   },
   {
    "duration": 88,
    "start_time": "2021-12-21T17:32:30.321Z"
   },
   {
    "duration": 712,
    "start_time": "2021-12-21T17:32:30.415Z"
   },
   {
    "duration": 391,
    "start_time": "2021-12-21T17:32:31.129Z"
   },
   {
    "duration": 467,
    "start_time": "2021-12-21T17:32:31.523Z"
   },
   {
    "duration": 349,
    "start_time": "2021-12-21T17:32:31.992Z"
   },
   {
    "duration": 646,
    "start_time": "2021-12-21T17:32:32.344Z"
   },
   {
    "duration": 411,
    "start_time": "2021-12-21T17:32:32.992Z"
   },
   {
    "duration": 662,
    "start_time": "2021-12-21T17:32:33.406Z"
   },
   {
    "duration": 309,
    "start_time": "2021-12-21T17:32:34.071Z"
   },
   {
    "duration": 580,
    "start_time": "2021-12-21T17:32:34.382Z"
   },
   {
    "duration": 312,
    "start_time": "2021-12-21T17:32:34.964Z"
   },
   {
    "duration": 329,
    "start_time": "2021-12-21T17:32:35.278Z"
   },
   {
    "duration": 1118,
    "start_time": "2021-12-21T17:32:35.610Z"
   },
   {
    "duration": -287,
    "start_time": "2021-12-21T17:32:37.018Z"
   },
   {
    "duration": -289,
    "start_time": "2021-12-21T17:32:37.023Z"
   },
   {
    "duration": -299,
    "start_time": "2021-12-21T17:32:37.035Z"
   },
   {
    "duration": -303,
    "start_time": "2021-12-21T17:32:37.041Z"
   },
   {
    "duration": -306,
    "start_time": "2021-12-21T17:32:37.046Z"
   },
   {
    "duration": -309,
    "start_time": "2021-12-21T17:32:37.051Z"
   },
   {
    "duration": 907,
    "start_time": "2021-12-21T17:33:17.632Z"
   },
   {
    "duration": 896,
    "start_time": "2021-12-21T17:33:23.804Z"
   },
   {
    "duration": 74,
    "start_time": "2021-12-21T17:33:32.813Z"
   },
   {
    "duration": 12,
    "start_time": "2021-12-21T17:33:48.279Z"
   },
   {
    "duration": 72,
    "start_time": "2021-12-21T17:34:05.403Z"
   },
   {
    "duration": 700,
    "start_time": "2021-12-21T17:34:18.246Z"
   },
   {
    "duration": 145,
    "start_time": "2021-12-21T17:34:38.208Z"
   },
   {
    "duration": 1766,
    "start_time": "2021-12-21T17:38:57.852Z"
   },
   {
    "duration": 198,
    "start_time": "2021-12-21T17:38:59.622Z"
   },
   {
    "duration": 138,
    "start_time": "2021-12-21T17:38:59.823Z"
   },
   {
    "duration": 32,
    "start_time": "2021-12-21T17:38:59.964Z"
   },
   {
    "duration": 65,
    "start_time": "2021-12-21T17:38:59.998Z"
   },
   {
    "duration": 3,
    "start_time": "2021-12-21T17:39:00.065Z"
   },
   {
    "duration": 92,
    "start_time": "2021-12-21T17:39:00.070Z"
   },
   {
    "duration": 14,
    "start_time": "2021-12-21T17:39:00.165Z"
   },
   {
    "duration": 42,
    "start_time": "2021-12-21T17:39:00.182Z"
   },
   {
    "duration": 79,
    "start_time": "2021-12-21T17:39:00.226Z"
   },
   {
    "duration": 53,
    "start_time": "2021-12-21T17:39:00.307Z"
   },
   {
    "duration": 20,
    "start_time": "2021-12-21T17:39:00.363Z"
   },
   {
    "duration": 44,
    "start_time": "2021-12-21T17:39:00.386Z"
   },
   {
    "duration": 55,
    "start_time": "2021-12-21T17:39:00.433Z"
   },
   {
    "duration": 5,
    "start_time": "2021-12-21T17:39:00.490Z"
   },
   {
    "duration": 683,
    "start_time": "2021-12-21T17:39:00.497Z"
   },
   {
    "duration": -295,
    "start_time": "2021-12-21T17:39:01.480Z"
   },
   {
    "duration": -301,
    "start_time": "2021-12-21T17:39:01.489Z"
   },
   {
    "duration": -304,
    "start_time": "2021-12-21T17:39:01.493Z"
   },
   {
    "duration": -313,
    "start_time": "2021-12-21T17:39:01.504Z"
   },
   {
    "duration": -341,
    "start_time": "2021-12-21T17:39:01.534Z"
   },
   {
    "duration": -347,
    "start_time": "2021-12-21T17:39:01.541Z"
   },
   {
    "duration": -353,
    "start_time": "2021-12-21T17:39:01.548Z"
   },
   {
    "duration": -361,
    "start_time": "2021-12-21T17:39:01.558Z"
   },
   {
    "duration": -365,
    "start_time": "2021-12-21T17:39:01.563Z"
   },
   {
    "duration": -373,
    "start_time": "2021-12-21T17:39:01.573Z"
   },
   {
    "duration": -381,
    "start_time": "2021-12-21T17:39:01.582Z"
   },
   {
    "duration": -386,
    "start_time": "2021-12-21T17:39:01.589Z"
   },
   {
    "duration": -392,
    "start_time": "2021-12-21T17:39:01.596Z"
   },
   {
    "duration": -429,
    "start_time": "2021-12-21T17:39:01.634Z"
   },
   {
    "duration": -434,
    "start_time": "2021-12-21T17:39:01.640Z"
   },
   {
    "duration": -439,
    "start_time": "2021-12-21T17:39:01.646Z"
   },
   {
    "duration": -443,
    "start_time": "2021-12-21T17:39:01.652Z"
   },
   {
    "duration": -448,
    "start_time": "2021-12-21T17:39:01.658Z"
   },
   {
    "duration": -451,
    "start_time": "2021-12-21T17:39:01.662Z"
   },
   {
    "duration": -457,
    "start_time": "2021-12-21T17:39:01.669Z"
   },
   {
    "duration": -461,
    "start_time": "2021-12-21T17:39:01.674Z"
   },
   {
    "duration": -465,
    "start_time": "2021-12-21T17:39:01.679Z"
   },
   {
    "duration": -470,
    "start_time": "2021-12-21T17:39:01.686Z"
   },
   {
    "duration": -472,
    "start_time": "2021-12-21T17:39:01.690Z"
   },
   {
    "duration": -430,
    "start_time": "2021-12-21T17:39:01.694Z"
   },
   {
    "duration": -434,
    "start_time": "2021-12-21T17:39:01.699Z"
   },
   {
    "duration": -439,
    "start_time": "2021-12-21T17:39:01.706Z"
   },
   {
    "duration": -443,
    "start_time": "2021-12-21T17:39:01.711Z"
   },
   {
    "duration": -446,
    "start_time": "2021-12-21T17:39:01.715Z"
   },
   {
    "duration": -451,
    "start_time": "2021-12-21T17:39:01.723Z"
   },
   {
    "duration": -466,
    "start_time": "2021-12-21T17:39:01.739Z"
   },
   {
    "duration": -515,
    "start_time": "2021-12-21T17:39:01.790Z"
   },
   {
    "duration": -536,
    "start_time": "2021-12-21T17:39:01.812Z"
   },
   {
    "duration": -541,
    "start_time": "2021-12-21T17:39:01.819Z"
   },
   {
    "duration": -545,
    "start_time": "2021-12-21T17:39:01.824Z"
   },
   {
    "duration": -548,
    "start_time": "2021-12-21T17:39:01.829Z"
   },
   {
    "duration": -553,
    "start_time": "2021-12-21T17:39:01.836Z"
   },
   {
    "duration": -557,
    "start_time": "2021-12-21T17:39:01.842Z"
   },
   {
    "duration": -561,
    "start_time": "2021-12-21T17:39:01.847Z"
   },
   {
    "duration": 418,
    "start_time": "2021-12-21T17:40:54.654Z"
   },
   {
    "duration": 23,
    "start_time": "2021-12-21T17:41:19.834Z"
   },
   {
    "duration": 1688,
    "start_time": "2021-12-21T17:44:02.379Z"
   },
   {
    "duration": 202,
    "start_time": "2021-12-21T17:44:04.069Z"
   },
   {
    "duration": 140,
    "start_time": "2021-12-21T17:44:04.274Z"
   },
   {
    "duration": 35,
    "start_time": "2021-12-21T17:44:04.418Z"
   },
   {
    "duration": 63,
    "start_time": "2021-12-21T17:44:04.459Z"
   },
   {
    "duration": 3,
    "start_time": "2021-12-21T17:44:04.525Z"
   },
   {
    "duration": 83,
    "start_time": "2021-12-21T17:44:04.531Z"
   },
   {
    "duration": 14,
    "start_time": "2021-12-21T17:44:04.616Z"
   },
   {
    "duration": 58,
    "start_time": "2021-12-21T17:44:04.634Z"
   },
   {
    "duration": 63,
    "start_time": "2021-12-21T17:44:04.696Z"
   },
   {
    "duration": 38,
    "start_time": "2021-12-21T17:44:04.762Z"
   },
   {
    "duration": 19,
    "start_time": "2021-12-21T17:44:04.803Z"
   },
   {
    "duration": 60,
    "start_time": "2021-12-21T17:44:04.824Z"
   },
   {
    "duration": 29,
    "start_time": "2021-12-21T17:44:04.887Z"
   },
   {
    "duration": 5,
    "start_time": "2021-12-21T17:44:04.918Z"
   },
   {
    "duration": 34,
    "start_time": "2021-12-21T17:44:04.926Z"
   },
   {
    "duration": 4,
    "start_time": "2021-12-21T17:44:04.964Z"
   },
   {
    "duration": 4,
    "start_time": "2021-12-21T17:44:04.970Z"
   },
   {
    "duration": 5,
    "start_time": "2021-12-21T17:44:04.977Z"
   },
   {
    "duration": 155,
    "start_time": "2021-12-21T17:44:04.984Z"
   },
   {
    "duration": 101,
    "start_time": "2021-12-21T17:44:05.141Z"
   },
   {
    "duration": 9575,
    "start_time": "2021-12-21T17:44:05.244Z"
   },
   {
    "duration": 10812,
    "start_time": "2021-12-21T17:44:14.822Z"
   },
   {
    "duration": 9673,
    "start_time": "2021-12-21T17:44:25.637Z"
   },
   {
    "duration": 7,
    "start_time": "2021-12-21T17:44:35.312Z"
   },
   {
    "duration": 51,
    "start_time": "2021-12-21T17:44:35.321Z"
   },
   {
    "duration": 89,
    "start_time": "2021-12-21T17:44:35.377Z"
   },
   {
    "duration": 593,
    "start_time": "2021-12-21T17:44:35.470Z"
   },
   {
    "duration": 556,
    "start_time": "2021-12-21T17:44:36.067Z"
   },
   {
    "duration": 738,
    "start_time": "2021-12-21T17:44:36.626Z"
   },
   {
    "duration": 560,
    "start_time": "2021-12-21T17:44:37.367Z"
   },
   {
    "duration": 83,
    "start_time": "2021-12-21T17:44:37.930Z"
   },
   {
    "duration": 858,
    "start_time": "2021-12-21T17:44:38.016Z"
   },
   {
    "duration": 556,
    "start_time": "2021-12-21T17:44:38.878Z"
   },
   {
    "duration": 753,
    "start_time": "2021-12-21T17:44:39.437Z"
   },
   {
    "duration": 537,
    "start_time": "2021-12-21T17:44:40.194Z"
   },
   {
    "duration": 67,
    "start_time": "2021-12-21T17:44:40.734Z"
   },
   {
    "duration": 600,
    "start_time": "2021-12-21T17:44:40.804Z"
   },
   {
    "duration": 380,
    "start_time": "2021-12-21T17:44:41.407Z"
   },
   {
    "duration": 421,
    "start_time": "2021-12-21T17:44:41.790Z"
   },
   {
    "duration": 356,
    "start_time": "2021-12-21T17:44:42.214Z"
   },
   {
    "duration": 598,
    "start_time": "2021-12-21T17:44:42.572Z"
   },
   {
    "duration": 391,
    "start_time": "2021-12-21T17:44:43.173Z"
   },
   {
    "duration": 721,
    "start_time": "2021-12-21T17:44:43.567Z"
   },
   {
    "duration": 427,
    "start_time": "2021-12-21T17:44:44.291Z"
   },
   {
    "duration": 787,
    "start_time": "2021-12-21T17:44:44.721Z"
   },
   {
    "duration": 311,
    "start_time": "2021-12-21T17:44:45.511Z"
   },
   {
    "duration": 335,
    "start_time": "2021-12-21T17:44:45.824Z"
   },
   {
    "duration": 1289,
    "start_time": "2021-12-21T17:44:46.161Z"
   },
   {
    "duration": -285,
    "start_time": "2021-12-21T17:44:47.737Z"
   },
   {
    "duration": -290,
    "start_time": "2021-12-21T17:44:47.744Z"
   },
   {
    "duration": -290,
    "start_time": "2021-12-21T17:44:47.749Z"
   },
   {
    "duration": -294,
    "start_time": "2021-12-21T17:44:47.754Z"
   },
   {
    "duration": -297,
    "start_time": "2021-12-21T17:44:47.759Z"
   },
   {
    "duration": -299,
    "start_time": "2021-12-21T17:44:47.763Z"
   },
   {
    "duration": 888,
    "start_time": "2021-12-21T17:44:53.108Z"
   },
   {
    "duration": 889,
    "start_time": "2021-12-21T17:44:57.182Z"
   },
   {
    "duration": 79,
    "start_time": "2021-12-21T17:45:04.880Z"
   },
   {
    "duration": 12,
    "start_time": "2021-12-21T17:45:08.691Z"
   },
   {
    "duration": 75,
    "start_time": "2021-12-21T17:45:14.627Z"
   },
   {
    "duration": 856,
    "start_time": "2021-12-21T17:45:25.920Z"
   },
   {
    "duration": 3844,
    "start_time": "2021-12-21T17:46:26.576Z"
   },
   {
    "duration": 76,
    "start_time": "2021-12-21T17:47:21.476Z"
   },
   {
    "duration": 9,
    "start_time": "2021-12-21T17:47:27.943Z"
   },
   {
    "duration": 1654,
    "start_time": "2021-12-21T20:40:56.477Z"
   },
   {
    "duration": 203,
    "start_time": "2021-12-21T20:40:58.134Z"
   },
   {
    "duration": 147,
    "start_time": "2021-12-21T20:40:58.340Z"
   },
   {
    "duration": 33,
    "start_time": "2021-12-21T20:40:58.490Z"
   },
   {
    "duration": 47,
    "start_time": "2021-12-21T20:40:58.526Z"
   },
   {
    "duration": 3,
    "start_time": "2021-12-21T20:40:58.577Z"
   },
   {
    "duration": 138,
    "start_time": "2021-12-21T20:40:58.583Z"
   },
   {
    "duration": 17,
    "start_time": "2021-12-21T20:40:58.726Z"
   },
   {
    "duration": 72,
    "start_time": "2021-12-21T20:40:58.747Z"
   },
   {
    "duration": 91,
    "start_time": "2021-12-21T20:40:58.822Z"
   },
   {
    "duration": 60,
    "start_time": "2021-12-21T20:40:58.916Z"
   },
   {
    "duration": 25,
    "start_time": "2021-12-21T20:40:58.979Z"
   },
   {
    "duration": 79,
    "start_time": "2021-12-21T20:40:59.007Z"
   },
   {
    "duration": 40,
    "start_time": "2021-12-21T20:40:59.089Z"
   },
   {
    "duration": 6,
    "start_time": "2021-12-21T20:40:59.132Z"
   },
   {
    "duration": 24,
    "start_time": "2021-12-21T20:40:59.140Z"
   },
   {
    "duration": 20,
    "start_time": "2021-12-21T20:40:59.167Z"
   },
   {
    "duration": 9,
    "start_time": "2021-12-21T20:40:59.190Z"
   },
   {
    "duration": 19,
    "start_time": "2021-12-21T20:40:59.202Z"
   },
   {
    "duration": 174,
    "start_time": "2021-12-21T20:40:59.224Z"
   },
   {
    "duration": 155,
    "start_time": "2021-12-21T20:40:59.401Z"
   },
   {
    "duration": 15104,
    "start_time": "2021-12-21T20:40:59.559Z"
   },
   {
    "duration": 11814,
    "start_time": "2021-12-21T20:41:14.669Z"
   },
   {
    "duration": 9818,
    "start_time": "2021-12-21T20:41:26.486Z"
   },
   {
    "duration": 8,
    "start_time": "2021-12-21T20:41:36.306Z"
   },
   {
    "duration": 47,
    "start_time": "2021-12-21T20:41:36.316Z"
   },
   {
    "duration": 72,
    "start_time": "2021-12-21T20:41:36.365Z"
   },
   {
    "duration": 522,
    "start_time": "2021-12-21T20:41:36.440Z"
   },
   {
    "duration": 376,
    "start_time": "2021-12-21T20:41:36.965Z"
   },
   {
    "duration": 470,
    "start_time": "2021-12-21T20:41:37.343Z"
   },
   {
    "duration": 368,
    "start_time": "2021-12-21T20:41:37.816Z"
   },
   {
    "duration": 77,
    "start_time": "2021-12-21T20:41:38.187Z"
   },
   {
    "duration": 1402,
    "start_time": "2021-12-21T20:41:38.267Z"
   },
   {
    "duration": 557,
    "start_time": "2021-12-21T20:41:39.672Z"
   },
   {
    "duration": 448,
    "start_time": "2021-12-21T20:41:40.231Z"
   },
   {
    "duration": 716,
    "start_time": "2021-12-21T20:41:40.681Z"
   },
   {
    "duration": 75,
    "start_time": "2021-12-21T20:41:41.400Z"
   },
   {
    "duration": 514,
    "start_time": "2021-12-21T20:41:41.477Z"
   },
   {
    "duration": 380,
    "start_time": "2021-12-21T20:41:41.993Z"
   },
   {
    "duration": 438,
    "start_time": "2021-12-21T20:41:42.375Z"
   },
   {
    "duration": 366,
    "start_time": "2021-12-21T20:41:42.816Z"
   },
   {
    "duration": 721,
    "start_time": "2021-12-21T20:41:43.184Z"
   },
   {
    "duration": 305,
    "start_time": "2021-12-21T20:41:43.908Z"
   },
   {
    "duration": 625,
    "start_time": "2021-12-21T20:41:44.216Z"
   },
   {
    "duration": 301,
    "start_time": "2021-12-21T20:41:44.843Z"
   },
   {
    "duration": 700,
    "start_time": "2021-12-21T20:41:45.146Z"
   },
   {
    "duration": 314,
    "start_time": "2021-12-21T20:41:45.849Z"
   },
   {
    "duration": 323,
    "start_time": "2021-12-21T20:41:46.165Z"
   },
   {
    "duration": 1353,
    "start_time": "2021-12-21T20:41:46.491Z"
   },
   {
    "duration": -92,
    "start_time": "2021-12-21T20:41:47.939Z"
   },
   {
    "duration": -94,
    "start_time": "2021-12-21T20:41:47.943Z"
   },
   {
    "duration": -95,
    "start_time": "2021-12-21T20:41:47.946Z"
   },
   {
    "duration": -98,
    "start_time": "2021-12-21T20:41:47.950Z"
   },
   {
    "duration": -101,
    "start_time": "2021-12-21T20:41:47.954Z"
   },
   {
    "duration": -97,
    "start_time": "2021-12-21T20:41:47.960Z"
   },
   {
    "duration": 295,
    "start_time": "2021-12-21T20:42:56.234Z"
   },
   {
    "duration": 77,
    "start_time": "2021-12-21T20:43:00.108Z"
   },
   {
    "duration": 10,
    "start_time": "2021-12-21T20:43:04.285Z"
   },
   {
    "duration": 8,
    "start_time": "2021-12-21T20:43:10.680Z"
   },
   {
    "duration": 48,
    "start_time": "2021-12-21T20:43:32.460Z"
   },
   {
    "duration": 50,
    "start_time": "2021-12-21T20:44:19.264Z"
   },
   {
    "duration": 13,
    "start_time": "2021-12-21T20:47:56.109Z"
   },
   {
    "duration": 57,
    "start_time": "2021-12-21T20:48:29.837Z"
   },
   {
    "duration": 504,
    "start_time": "2021-12-21T20:48:55.890Z"
   },
   {
    "duration": 111,
    "start_time": "2021-12-21T20:49:09.648Z"
   },
   {
    "duration": 49,
    "start_time": "2021-12-21T20:53:27.483Z"
   },
   {
    "duration": 1189,
    "start_time": "2021-12-21T20:54:09.178Z"
   },
   {
    "duration": 923,
    "start_time": "2021-12-21T20:54:32.333Z"
   },
   {
    "duration": 937,
    "start_time": "2021-12-21T20:54:36.187Z"
   },
   {
    "duration": 2732,
    "start_time": "2021-12-21T20:55:32.723Z"
   },
   {
    "duration": 2856,
    "start_time": "2021-12-21T20:55:42.210Z"
   },
   {
    "duration": 2221,
    "start_time": "2021-12-22T16:32:26.957Z"
   },
   {
    "duration": 239,
    "start_time": "2021-12-22T16:32:29.182Z"
   },
   {
    "duration": 142,
    "start_time": "2021-12-22T16:32:29.425Z"
   },
   {
    "duration": 39,
    "start_time": "2021-12-22T16:32:29.571Z"
   },
   {
    "duration": 50,
    "start_time": "2021-12-22T16:32:29.613Z"
   },
   {
    "duration": 3,
    "start_time": "2021-12-22T16:32:29.666Z"
   },
   {
    "duration": 98,
    "start_time": "2021-12-22T16:32:29.672Z"
   },
   {
    "duration": 17,
    "start_time": "2021-12-22T16:32:29.774Z"
   },
   {
    "duration": 77,
    "start_time": "2021-12-22T16:32:29.796Z"
   },
   {
    "duration": 87,
    "start_time": "2021-12-22T16:32:29.876Z"
   },
   {
    "duration": 40,
    "start_time": "2021-12-22T16:32:29.966Z"
   },
   {
    "duration": 34,
    "start_time": "2021-12-22T16:32:30.009Z"
   },
   {
    "duration": 58,
    "start_time": "2021-12-22T16:32:30.045Z"
   },
   {
    "duration": 66,
    "start_time": "2021-12-22T16:32:30.105Z"
   },
   {
    "duration": 11,
    "start_time": "2021-12-22T16:32:30.173Z"
   },
   {
    "duration": 11,
    "start_time": "2021-12-22T16:32:30.187Z"
   },
   {
    "duration": 13,
    "start_time": "2021-12-22T16:32:30.201Z"
   },
   {
    "duration": 10,
    "start_time": "2021-12-22T16:32:30.217Z"
   },
   {
    "duration": 12,
    "start_time": "2021-12-22T16:32:30.230Z"
   },
   {
    "duration": 1328,
    "start_time": "2021-12-22T16:32:30.245Z"
   },
   {
    "duration": -868,
    "start_time": "2021-12-22T16:32:32.447Z"
   },
   {
    "duration": -873,
    "start_time": "2021-12-22T16:32:32.454Z"
   },
   {
    "duration": -878,
    "start_time": "2021-12-22T16:32:32.461Z"
   },
   {
    "duration": -881,
    "start_time": "2021-12-22T16:32:32.466Z"
   },
   {
    "duration": -885,
    "start_time": "2021-12-22T16:32:32.472Z"
   },
   {
    "duration": -890,
    "start_time": "2021-12-22T16:32:32.479Z"
   },
   {
    "duration": -894,
    "start_time": "2021-12-22T16:32:32.485Z"
   },
   {
    "duration": -898,
    "start_time": "2021-12-22T16:32:32.491Z"
   },
   {
    "duration": -902,
    "start_time": "2021-12-22T16:32:32.497Z"
   },
   {
    "duration": -907,
    "start_time": "2021-12-22T16:32:32.503Z"
   },
   {
    "duration": -927,
    "start_time": "2021-12-22T16:32:32.525Z"
   },
   {
    "duration": -943,
    "start_time": "2021-12-22T16:32:32.543Z"
   },
   {
    "duration": -975,
    "start_time": "2021-12-22T16:32:32.578Z"
   },
   {
    "duration": -993,
    "start_time": "2021-12-22T16:32:32.598Z"
   },
   {
    "duration": -1029,
    "start_time": "2021-12-22T16:32:32.635Z"
   },
   {
    "duration": -1074,
    "start_time": "2021-12-22T16:32:32.682Z"
   },
   {
    "duration": -1079,
    "start_time": "2021-12-22T16:32:32.688Z"
   },
   {
    "duration": -1085,
    "start_time": "2021-12-22T16:32:32.696Z"
   },
   {
    "duration": -1091,
    "start_time": "2021-12-22T16:32:32.704Z"
   },
   {
    "duration": -1051,
    "start_time": "2021-12-22T16:32:32.710Z"
   },
   {
    "duration": -1053,
    "start_time": "2021-12-22T16:32:32.716Z"
   },
   {
    "duration": -1057,
    "start_time": "2021-12-22T16:32:32.723Z"
   },
   {
    "duration": -1063,
    "start_time": "2021-12-22T16:32:32.731Z"
   },
   {
    "duration": -1066,
    "start_time": "2021-12-22T16:32:32.735Z"
   },
   {
    "duration": -1072,
    "start_time": "2021-12-22T16:32:32.743Z"
   },
   {
    "duration": -1075,
    "start_time": "2021-12-22T16:32:32.748Z"
   },
   {
    "duration": -1082,
    "start_time": "2021-12-22T16:32:32.756Z"
   },
   {
    "duration": -1087,
    "start_time": "2021-12-22T16:32:32.763Z"
   },
   {
    "duration": -1092,
    "start_time": "2021-12-22T16:32:32.770Z"
   },
   {
    "duration": -1113,
    "start_time": "2021-12-22T16:32:32.793Z"
   },
   {
    "duration": -1227,
    "start_time": "2021-12-22T16:32:32.909Z"
   },
   {
    "duration": -1243,
    "start_time": "2021-12-22T16:32:32.927Z"
   },
   {
    "duration": -1277,
    "start_time": "2021-12-22T16:32:32.963Z"
   },
   {
    "duration": -1294,
    "start_time": "2021-12-22T16:32:32.982Z"
   },
   {
    "duration": -1299,
    "start_time": "2021-12-22T16:32:32.988Z"
   },
   {
    "duration": 740,
    "start_time": "2021-12-22T16:32:53.845Z"
   },
   {
    "duration": 123,
    "start_time": "2021-12-22T16:33:22.765Z"
   },
   {
    "duration": 3396,
    "start_time": "2021-12-22T16:35:15.639Z"
   },
   {
    "duration": 1069,
    "start_time": "2021-12-22T16:35:19.037Z"
   },
   {
    "duration": 178,
    "start_time": "2021-12-22T16:35:20.110Z"
   },
   {
    "duration": 34,
    "start_time": "2021-12-22T16:35:20.292Z"
   },
   {
    "duration": 63,
    "start_time": "2021-12-22T16:35:20.328Z"
   },
   {
    "duration": 3,
    "start_time": "2021-12-22T16:35:20.393Z"
   },
   {
    "duration": 91,
    "start_time": "2021-12-22T16:35:20.399Z"
   },
   {
    "duration": 14,
    "start_time": "2021-12-22T16:35:20.494Z"
   },
   {
    "duration": 60,
    "start_time": "2021-12-22T16:35:20.512Z"
   },
   {
    "duration": 47,
    "start_time": "2021-12-22T16:35:20.575Z"
   },
   {
    "duration": 59,
    "start_time": "2021-12-22T16:35:20.624Z"
   },
   {
    "duration": 20,
    "start_time": "2021-12-22T16:35:20.685Z"
   },
   {
    "duration": 81,
    "start_time": "2021-12-22T16:35:20.707Z"
   },
   {
    "duration": 34,
    "start_time": "2021-12-22T16:35:20.790Z"
   },
   {
    "duration": 35,
    "start_time": "2021-12-22T16:35:20.827Z"
   },
   {
    "duration": 3,
    "start_time": "2021-12-22T16:35:20.865Z"
   },
   {
    "duration": 14,
    "start_time": "2021-12-22T16:35:20.871Z"
   },
   {
    "duration": 10,
    "start_time": "2021-12-22T16:35:20.887Z"
   },
   {
    "duration": 6,
    "start_time": "2021-12-22T16:35:20.900Z"
   },
   {
    "duration": 461,
    "start_time": "2021-12-22T16:36:10.175Z"
   },
   {
    "duration": 1777,
    "start_time": "2021-12-22T16:36:24.602Z"
   },
   {
    "duration": 307,
    "start_time": "2021-12-22T16:36:26.382Z"
   },
   {
    "duration": 167,
    "start_time": "2021-12-22T16:36:26.692Z"
   },
   {
    "duration": 33,
    "start_time": "2021-12-22T16:36:26.862Z"
   },
   {
    "duration": 53,
    "start_time": "2021-12-22T16:36:26.897Z"
   },
   {
    "duration": 3,
    "start_time": "2021-12-22T16:36:26.952Z"
   },
   {
    "duration": 80,
    "start_time": "2021-12-22T16:36:26.958Z"
   },
   {
    "duration": 29,
    "start_time": "2021-12-22T16:36:27.043Z"
   },
   {
    "duration": 43,
    "start_time": "2021-12-22T16:36:27.076Z"
   },
   {
    "duration": 79,
    "start_time": "2021-12-22T16:36:27.122Z"
   },
   {
    "duration": 54,
    "start_time": "2021-12-22T16:36:27.204Z"
   },
   {
    "duration": 21,
    "start_time": "2021-12-22T16:36:27.261Z"
   },
   {
    "duration": 82,
    "start_time": "2021-12-22T16:36:27.285Z"
   },
   {
    "duration": 43,
    "start_time": "2021-12-22T16:36:27.370Z"
   },
   {
    "duration": 10,
    "start_time": "2021-12-22T16:36:27.416Z"
   },
   {
    "duration": 33,
    "start_time": "2021-12-22T16:36:27.429Z"
   },
   {
    "duration": 11,
    "start_time": "2021-12-22T16:36:27.468Z"
   },
   {
    "duration": 9,
    "start_time": "2021-12-22T16:36:27.482Z"
   },
   {
    "duration": 11,
    "start_time": "2021-12-22T16:36:27.493Z"
   },
   {
    "duration": 135,
    "start_time": "2021-12-22T16:36:27.507Z"
   },
   {
    "duration": 105,
    "start_time": "2021-12-22T16:36:27.644Z"
   },
   {
    "duration": 11486,
    "start_time": "2021-12-22T16:36:27.760Z"
   },
   {
    "duration": 12287,
    "start_time": "2021-12-22T16:36:39.260Z"
   },
   {
    "duration": 17027,
    "start_time": "2021-12-22T16:36:51.551Z"
   },
   {
    "duration": -1133,
    "start_time": "2021-12-22T16:37:09.714Z"
   },
   {
    "duration": -1138,
    "start_time": "2021-12-22T16:37:09.720Z"
   },
   {
    "duration": -1142,
    "start_time": "2021-12-22T16:37:09.726Z"
   },
   {
    "duration": -1178,
    "start_time": "2021-12-22T16:37:09.763Z"
   },
   {
    "duration": -1187,
    "start_time": "2021-12-22T16:37:09.774Z"
   },
   {
    "duration": -1197,
    "start_time": "2021-12-22T16:37:09.785Z"
   },
   {
    "duration": -1208,
    "start_time": "2021-12-22T16:37:09.797Z"
   },
   {
    "duration": -1213,
    "start_time": "2021-12-22T16:37:09.804Z"
   },
   {
    "duration": -1219,
    "start_time": "2021-12-22T16:37:09.811Z"
   },
   {
    "duration": -1221,
    "start_time": "2021-12-22T16:37:09.815Z"
   },
   {
    "duration": -1226,
    "start_time": "2021-12-22T16:37:09.821Z"
   },
   {
    "duration": -1229,
    "start_time": "2021-12-22T16:37:09.826Z"
   },
   {
    "duration": -1234,
    "start_time": "2021-12-22T16:37:09.832Z"
   },
   {
    "duration": -1238,
    "start_time": "2021-12-22T16:37:09.838Z"
   },
   {
    "duration": -1243,
    "start_time": "2021-12-22T16:37:09.844Z"
   },
   {
    "duration": -1247,
    "start_time": "2021-12-22T16:37:09.850Z"
   },
   {
    "duration": -1252,
    "start_time": "2021-12-22T16:37:09.856Z"
   },
   {
    "duration": -1265,
    "start_time": "2021-12-22T16:37:09.870Z"
   },
   {
    "duration": -1270,
    "start_time": "2021-12-22T16:37:09.877Z"
   },
   {
    "duration": -1272,
    "start_time": "2021-12-22T16:37:09.882Z"
   },
   {
    "duration": -1277,
    "start_time": "2021-12-22T16:37:09.888Z"
   },
   {
    "duration": -1282,
    "start_time": "2021-12-22T16:37:09.894Z"
   },
   {
    "duration": -1286,
    "start_time": "2021-12-22T16:37:09.900Z"
   },
   {
    "duration": -1290,
    "start_time": "2021-12-22T16:37:09.906Z"
   },
   {
    "duration": -1295,
    "start_time": "2021-12-22T16:37:09.912Z"
   },
   {
    "duration": -1300,
    "start_time": "2021-12-22T16:37:09.918Z"
   },
   {
    "duration": -1303,
    "start_time": "2021-12-22T16:37:09.923Z"
   },
   {
    "duration": -1307,
    "start_time": "2021-12-22T16:37:09.928Z"
   },
   {
    "duration": -1311,
    "start_time": "2021-12-22T16:37:09.933Z"
   },
   {
    "duration": -1314,
    "start_time": "2021-12-22T16:37:09.938Z"
   },
   {
    "duration": -1320,
    "start_time": "2021-12-22T16:37:09.945Z"
   },
   {
    "duration": 513,
    "start_time": "2021-12-22T16:41:02.152Z"
   },
   {
    "duration": 1788,
    "start_time": "2021-12-22T16:41:13.573Z"
   },
   {
    "duration": 219,
    "start_time": "2021-12-22T16:41:15.364Z"
   },
   {
    "duration": 235,
    "start_time": "2021-12-22T16:41:15.586Z"
   },
   {
    "duration": 35,
    "start_time": "2021-12-22T16:41:15.824Z"
   },
   {
    "duration": 50,
    "start_time": "2021-12-22T16:41:15.862Z"
   },
   {
    "duration": 3,
    "start_time": "2021-12-22T16:41:15.914Z"
   },
   {
    "duration": 89,
    "start_time": "2021-12-22T16:41:15.920Z"
   },
   {
    "duration": 14,
    "start_time": "2021-12-22T16:41:16.013Z"
   },
   {
    "duration": 64,
    "start_time": "2021-12-22T16:41:16.030Z"
   },
   {
    "duration": 63,
    "start_time": "2021-12-22T16:41:16.096Z"
   },
   {
    "duration": 38,
    "start_time": "2021-12-22T16:41:16.162Z"
   },
   {
    "duration": 21,
    "start_time": "2021-12-22T16:41:16.203Z"
   },
   {
    "duration": 71,
    "start_time": "2021-12-22T16:41:16.227Z"
   },
   {
    "duration": 59,
    "start_time": "2021-12-22T16:41:16.300Z"
   },
   {
    "duration": 11,
    "start_time": "2021-12-22T16:41:16.362Z"
   },
   {
    "duration": 4,
    "start_time": "2021-12-22T16:41:16.376Z"
   },
   {
    "duration": 5,
    "start_time": "2021-12-22T16:41:16.382Z"
   },
   {
    "duration": 11,
    "start_time": "2021-12-22T16:41:16.389Z"
   },
   {
    "duration": 7,
    "start_time": "2021-12-22T16:41:16.402Z"
   },
   {
    "duration": 171,
    "start_time": "2021-12-22T16:41:16.411Z"
   },
   {
    "duration": 112,
    "start_time": "2021-12-22T16:41:16.584Z"
   },
   {
    "duration": 11565,
    "start_time": "2021-12-22T16:41:16.699Z"
   },
   {
    "duration": 12804,
    "start_time": "2021-12-22T16:41:28.270Z"
   },
   {
    "duration": 11099,
    "start_time": "2021-12-22T16:41:41.077Z"
   },
   {
    "duration": 7,
    "start_time": "2021-12-22T16:41:52.179Z"
   },
   {
    "duration": 10531,
    "start_time": "2021-12-22T16:41:52.188Z"
   },
   {
    "duration": -848,
    "start_time": "2021-12-22T16:42:03.571Z"
   },
   {
    "duration": -853,
    "start_time": "2021-12-22T16:42:03.578Z"
   },
   {
    "duration": -856,
    "start_time": "2021-12-22T16:42:03.583Z"
   },
   {
    "duration": -859,
    "start_time": "2021-12-22T16:42:03.588Z"
   },
   {
    "duration": -861,
    "start_time": "2021-12-22T16:42:03.592Z"
   },
   {
    "duration": -865,
    "start_time": "2021-12-22T16:42:03.598Z"
   },
   {
    "duration": -869,
    "start_time": "2021-12-22T16:42:03.605Z"
   },
   {
    "duration": -873,
    "start_time": "2021-12-22T16:42:03.611Z"
   },
   {
    "duration": -876,
    "start_time": "2021-12-22T16:42:03.616Z"
   },
   {
    "duration": -879,
    "start_time": "2021-12-22T16:42:03.622Z"
   },
   {
    "duration": -882,
    "start_time": "2021-12-22T16:42:03.627Z"
   },
   {
    "duration": -885,
    "start_time": "2021-12-22T16:42:03.633Z"
   },
   {
    "duration": -889,
    "start_time": "2021-12-22T16:42:03.639Z"
   },
   {
    "duration": -893,
    "start_time": "2021-12-22T16:42:03.645Z"
   },
   {
    "duration": -896,
    "start_time": "2021-12-22T16:42:03.651Z"
   },
   {
    "duration": -900,
    "start_time": "2021-12-22T16:42:03.657Z"
   },
   {
    "duration": -903,
    "start_time": "2021-12-22T16:42:03.662Z"
   },
   {
    "duration": -907,
    "start_time": "2021-12-22T16:42:03.668Z"
   },
   {
    "duration": -911,
    "start_time": "2021-12-22T16:42:03.674Z"
   },
   {
    "duration": -914,
    "start_time": "2021-12-22T16:42:03.680Z"
   },
   {
    "duration": -917,
    "start_time": "2021-12-22T16:42:03.685Z"
   },
   {
    "duration": -920,
    "start_time": "2021-12-22T16:42:03.690Z"
   },
   {
    "duration": -923,
    "start_time": "2021-12-22T16:42:03.695Z"
   },
   {
    "duration": -926,
    "start_time": "2021-12-22T16:42:03.701Z"
   },
   {
    "duration": -929,
    "start_time": "2021-12-22T16:42:03.706Z"
   },
   {
    "duration": -933,
    "start_time": "2021-12-22T16:42:03.712Z"
   },
   {
    "duration": -936,
    "start_time": "2021-12-22T16:42:03.718Z"
   },
   {
    "duration": -940,
    "start_time": "2021-12-22T16:42:03.724Z"
   },
   {
    "duration": -943,
    "start_time": "2021-12-22T16:42:03.729Z"
   },
   {
    "duration": 1700,
    "start_time": "2021-12-22T16:46:06.370Z"
   },
   {
    "duration": 190,
    "start_time": "2021-12-22T16:46:08.073Z"
   },
   {
    "duration": 137,
    "start_time": "2021-12-22T16:46:08.266Z"
   },
   {
    "duration": 31,
    "start_time": "2021-12-22T16:46:08.406Z"
   },
   {
    "duration": 48,
    "start_time": "2021-12-22T16:46:08.440Z"
   },
   {
    "duration": 3,
    "start_time": "2021-12-22T16:46:08.490Z"
   },
   {
    "duration": 90,
    "start_time": "2021-12-22T16:46:08.495Z"
   },
   {
    "duration": 13,
    "start_time": "2021-12-22T16:46:08.589Z"
   },
   {
    "duration": 79,
    "start_time": "2021-12-22T16:46:08.605Z"
   },
   {
    "duration": 79,
    "start_time": "2021-12-22T16:46:08.687Z"
   },
   {
    "duration": 61,
    "start_time": "2021-12-22T16:46:08.768Z"
   },
   {
    "duration": 32,
    "start_time": "2021-12-22T16:46:08.831Z"
   },
   {
    "duration": 57,
    "start_time": "2021-12-22T16:46:08.865Z"
   },
   {
    "duration": 57,
    "start_time": "2021-12-22T16:46:08.924Z"
   },
   {
    "duration": 5,
    "start_time": "2021-12-22T16:46:08.984Z"
   },
   {
    "duration": 9,
    "start_time": "2021-12-22T16:46:08.991Z"
   },
   {
    "duration": 10,
    "start_time": "2021-12-22T16:46:09.002Z"
   },
   {
    "duration": 6,
    "start_time": "2021-12-22T16:46:09.014Z"
   },
   {
    "duration": 7,
    "start_time": "2021-12-22T16:46:09.023Z"
   },
   {
    "duration": 2167,
    "start_time": "2021-12-22T16:46:09.033Z"
   },
   {
    "duration": 1666,
    "start_time": "2021-12-22T16:46:11.203Z"
   },
   {
    "duration": 525,
    "start_time": "2021-12-22T16:49:28.595Z"
   },
   {
    "duration": 1722,
    "start_time": "2021-12-22T16:49:37.886Z"
   },
   {
    "duration": 195,
    "start_time": "2021-12-22T16:49:39.610Z"
   },
   {
    "duration": 144,
    "start_time": "2021-12-22T16:49:39.809Z"
   },
   {
    "duration": 31,
    "start_time": "2021-12-22T16:49:39.960Z"
   },
   {
    "duration": 49,
    "start_time": "2021-12-22T16:49:39.994Z"
   },
   {
    "duration": 2,
    "start_time": "2021-12-22T16:49:40.046Z"
   },
   {
    "duration": 96,
    "start_time": "2021-12-22T16:49:40.051Z"
   },
   {
    "duration": 14,
    "start_time": "2021-12-22T16:49:40.151Z"
   },
   {
    "duration": 61,
    "start_time": "2021-12-22T16:49:40.168Z"
   },
   {
    "duration": 87,
    "start_time": "2021-12-22T16:49:40.232Z"
   },
   {
    "duration": 79,
    "start_time": "2021-12-22T16:49:40.322Z"
   },
   {
    "duration": 48,
    "start_time": "2021-12-22T16:49:40.403Z"
   },
   {
    "duration": 61,
    "start_time": "2021-12-22T16:49:40.453Z"
   },
   {
    "duration": 57,
    "start_time": "2021-12-22T16:49:40.517Z"
   },
   {
    "duration": 5,
    "start_time": "2021-12-22T16:49:40.576Z"
   },
   {
    "duration": 9,
    "start_time": "2021-12-22T16:49:40.584Z"
   },
   {
    "duration": 5,
    "start_time": "2021-12-22T16:49:40.596Z"
   },
   {
    "duration": 5,
    "start_time": "2021-12-22T16:49:40.603Z"
   },
   {
    "duration": 10,
    "start_time": "2021-12-22T16:49:40.610Z"
   },
   {
    "duration": 1110,
    "start_time": "2021-12-22T16:49:40.623Z"
   },
   {
    "duration": -843,
    "start_time": "2021-12-22T16:49:42.580Z"
   },
   {
    "duration": -848,
    "start_time": "2021-12-22T16:49:42.587Z"
   },
   {
    "duration": -853,
    "start_time": "2021-12-22T16:49:42.593Z"
   },
   {
    "duration": -857,
    "start_time": "2021-12-22T16:49:42.599Z"
   },
   {
    "duration": -860,
    "start_time": "2021-12-22T16:49:42.604Z"
   },
   {
    "duration": -865,
    "start_time": "2021-12-22T16:49:42.610Z"
   },
   {
    "duration": -869,
    "start_time": "2021-12-22T16:49:42.616Z"
   },
   {
    "duration": -872,
    "start_time": "2021-12-22T16:49:42.620Z"
   },
   {
    "duration": -875,
    "start_time": "2021-12-22T16:49:42.625Z"
   },
   {
    "duration": -877,
    "start_time": "2021-12-22T16:49:42.629Z"
   },
   {
    "duration": -881,
    "start_time": "2021-12-22T16:49:42.634Z"
   },
   {
    "duration": -893,
    "start_time": "2021-12-22T16:49:42.648Z"
   },
   {
    "duration": -897,
    "start_time": "2021-12-22T16:49:42.653Z"
   },
   {
    "duration": -902,
    "start_time": "2021-12-22T16:49:42.659Z"
   },
   {
    "duration": -906,
    "start_time": "2021-12-22T16:49:42.665Z"
   },
   {
    "duration": -910,
    "start_time": "2021-12-22T16:49:42.670Z"
   },
   {
    "duration": -913,
    "start_time": "2021-12-22T16:49:42.675Z"
   },
   {
    "duration": -916,
    "start_time": "2021-12-22T16:49:42.680Z"
   },
   {
    "duration": -921,
    "start_time": "2021-12-22T16:49:42.686Z"
   },
   {
    "duration": -924,
    "start_time": "2021-12-22T16:49:42.691Z"
   },
   {
    "duration": -930,
    "start_time": "2021-12-22T16:49:42.698Z"
   },
   {
    "duration": -934,
    "start_time": "2021-12-22T16:49:42.703Z"
   },
   {
    "duration": -938,
    "start_time": "2021-12-22T16:49:42.709Z"
   },
   {
    "duration": -942,
    "start_time": "2021-12-22T16:49:42.714Z"
   },
   {
    "duration": -946,
    "start_time": "2021-12-22T16:49:42.720Z"
   },
   {
    "duration": -951,
    "start_time": "2021-12-22T16:49:42.726Z"
   },
   {
    "duration": -964,
    "start_time": "2021-12-22T16:49:42.741Z"
   },
   {
    "duration": -968,
    "start_time": "2021-12-22T16:49:42.747Z"
   },
   {
    "duration": -972,
    "start_time": "2021-12-22T16:49:42.753Z"
   },
   {
    "duration": -976,
    "start_time": "2021-12-22T16:49:42.758Z"
   },
   {
    "duration": -985,
    "start_time": "2021-12-22T16:49:42.769Z"
   },
   {
    "duration": -987,
    "start_time": "2021-12-22T16:49:42.773Z"
   },
   {
    "duration": -990,
    "start_time": "2021-12-22T16:49:42.778Z"
   },
   {
    "duration": -994,
    "start_time": "2021-12-22T16:49:42.783Z"
   },
   {
    "duration": -998,
    "start_time": "2021-12-22T16:49:42.789Z"
   },
   {
    "duration": 1772,
    "start_time": "2021-12-22T16:51:09.113Z"
   },
   {
    "duration": 207,
    "start_time": "2021-12-22T16:51:10.888Z"
   },
   {
    "duration": 135,
    "start_time": "2021-12-22T16:51:11.098Z"
   },
   {
    "duration": 36,
    "start_time": "2021-12-22T16:51:11.237Z"
   },
   {
    "duration": 50,
    "start_time": "2021-12-22T16:51:11.276Z"
   },
   {
    "duration": 2,
    "start_time": "2021-12-22T16:51:11.329Z"
   },
   {
    "duration": 108,
    "start_time": "2021-12-22T16:51:11.334Z"
   },
   {
    "duration": 23,
    "start_time": "2021-12-22T16:51:11.445Z"
   },
   {
    "duration": 66,
    "start_time": "2021-12-22T16:51:11.471Z"
   },
   {
    "duration": 79,
    "start_time": "2021-12-22T16:51:11.539Z"
   },
   {
    "duration": 56,
    "start_time": "2021-12-22T16:51:11.620Z"
   },
   {
    "duration": 20,
    "start_time": "2021-12-22T16:51:11.679Z"
   },
   {
    "duration": 81,
    "start_time": "2021-12-22T16:51:11.702Z"
   },
   {
    "duration": 37,
    "start_time": "2021-12-22T16:51:11.785Z"
   },
   {
    "duration": 6,
    "start_time": "2021-12-22T16:51:11.825Z"
   },
   {
    "duration": 27,
    "start_time": "2021-12-22T16:51:11.834Z"
   },
   {
    "duration": 8,
    "start_time": "2021-12-22T16:51:11.864Z"
   },
   {
    "duration": 8,
    "start_time": "2021-12-22T16:51:11.875Z"
   },
   {
    "duration": 7,
    "start_time": "2021-12-22T16:51:11.885Z"
   },
   {
    "duration": 425,
    "start_time": "2021-12-22T16:52:36.715Z"
   },
   {
    "duration": 373,
    "start_time": "2021-12-22T16:52:42.452Z"
   },
   {
    "duration": 843,
    "start_time": "2021-12-22T16:52:44.981Z"
   },
   {
    "duration": 2290,
    "start_time": "2021-12-22T16:52:56.523Z"
   },
   {
    "duration": 196,
    "start_time": "2021-12-22T16:52:58.816Z"
   },
   {
    "duration": 154,
    "start_time": "2021-12-22T16:52:59.015Z"
   },
   {
    "duration": 39,
    "start_time": "2021-12-22T16:52:59.172Z"
   },
   {
    "duration": 50,
    "start_time": "2021-12-22T16:52:59.213Z"
   },
   {
    "duration": 3,
    "start_time": "2021-12-22T16:52:59.265Z"
   },
   {
    "duration": 93,
    "start_time": "2021-12-22T16:52:59.271Z"
   },
   {
    "duration": 15,
    "start_time": "2021-12-22T16:52:59.368Z"
   },
   {
    "duration": 80,
    "start_time": "2021-12-22T16:52:59.386Z"
   },
   {
    "duration": 68,
    "start_time": "2021-12-22T16:52:59.468Z"
   },
   {
    "duration": 53,
    "start_time": "2021-12-22T16:52:59.538Z"
   },
   {
    "duration": 22,
    "start_time": "2021-12-22T16:52:59.593Z"
   },
   {
    "duration": 95,
    "start_time": "2021-12-22T16:52:59.618Z"
   },
   {
    "duration": 50,
    "start_time": "2021-12-22T16:52:59.716Z"
   },
   {
    "duration": 6,
    "start_time": "2021-12-22T16:52:59.769Z"
   },
   {
    "duration": 6,
    "start_time": "2021-12-22T16:52:59.777Z"
   },
   {
    "duration": 4,
    "start_time": "2021-12-22T16:52:59.785Z"
   },
   {
    "duration": 3,
    "start_time": "2021-12-22T16:52:59.793Z"
   },
   {
    "duration": 4,
    "start_time": "2021-12-22T16:52:59.799Z"
   },
   {
    "duration": 181,
    "start_time": "2021-12-22T16:52:59.806Z"
   },
   {
    "duration": 116,
    "start_time": "2021-12-22T16:52:59.990Z"
   },
   {
    "duration": 11464,
    "start_time": "2021-12-22T16:53:00.108Z"
   },
   {
    "duration": 11984,
    "start_time": "2021-12-22T16:53:11.577Z"
   },
   {
    "duration": 10582,
    "start_time": "2021-12-22T16:53:23.565Z"
   },
   {
    "duration": 11,
    "start_time": "2021-12-22T16:53:34.149Z"
   },
   {
    "duration": 10021,
    "start_time": "2021-12-22T16:53:34.162Z"
   },
   {
    "duration": -845,
    "start_time": "2021-12-22T16:53:45.031Z"
   },
   {
    "duration": -853,
    "start_time": "2021-12-22T16:53:45.041Z"
   },
   {
    "duration": -860,
    "start_time": "2021-12-22T16:53:45.050Z"
   },
   {
    "duration": -866,
    "start_time": "2021-12-22T16:53:45.057Z"
   },
   {
    "duration": -871,
    "start_time": "2021-12-22T16:53:45.064Z"
   },
   {
    "duration": -878,
    "start_time": "2021-12-22T16:53:45.073Z"
   },
   {
    "duration": -883,
    "start_time": "2021-12-22T16:53:45.079Z"
   },
   {
    "duration": -889,
    "start_time": "2021-12-22T16:53:45.086Z"
   },
   {
    "duration": -893,
    "start_time": "2021-12-22T16:53:45.092Z"
   },
   {
    "duration": -898,
    "start_time": "2021-12-22T16:53:45.098Z"
   },
   {
    "duration": -903,
    "start_time": "2021-12-22T16:53:45.104Z"
   },
   {
    "duration": -908,
    "start_time": "2021-12-22T16:53:45.111Z"
   },
   {
    "duration": -912,
    "start_time": "2021-12-22T16:53:45.117Z"
   },
   {
    "duration": -917,
    "start_time": "2021-12-22T16:53:45.123Z"
   },
   {
    "duration": -932,
    "start_time": "2021-12-22T16:53:45.140Z"
   },
   {
    "duration": -937,
    "start_time": "2021-12-22T16:53:45.146Z"
   },
   {
    "duration": -941,
    "start_time": "2021-12-22T16:53:45.151Z"
   },
   {
    "duration": -946,
    "start_time": "2021-12-22T16:53:45.157Z"
   },
   {
    "duration": -950,
    "start_time": "2021-12-22T16:53:45.162Z"
   },
   {
    "duration": -955,
    "start_time": "2021-12-22T16:53:45.169Z"
   },
   {
    "duration": -960,
    "start_time": "2021-12-22T16:53:45.175Z"
   },
   {
    "duration": -966,
    "start_time": "2021-12-22T16:53:45.182Z"
   },
   {
    "duration": -970,
    "start_time": "2021-12-22T16:53:45.187Z"
   },
   {
    "duration": -974,
    "start_time": "2021-12-22T16:53:45.193Z"
   },
   {
    "duration": -977,
    "start_time": "2021-12-22T16:53:45.197Z"
   },
   {
    "duration": -980,
    "start_time": "2021-12-22T16:53:45.202Z"
   },
   {
    "duration": -985,
    "start_time": "2021-12-22T16:53:45.208Z"
   },
   {
    "duration": -990,
    "start_time": "2021-12-22T16:53:45.215Z"
   },
   {
    "duration": -994,
    "start_time": "2021-12-22T16:53:45.220Z"
   },
   {
    "duration": 26,
    "start_time": "2021-12-22T16:55:47.890Z"
   },
   {
    "duration": 75,
    "start_time": "2021-12-22T16:55:53.360Z"
   },
   {
    "duration": 1778,
    "start_time": "2021-12-22T16:56:01.523Z"
   },
   {
    "duration": 189,
    "start_time": "2021-12-22T16:56:03.303Z"
   },
   {
    "duration": 141,
    "start_time": "2021-12-22T16:56:03.496Z"
   },
   {
    "duration": 36,
    "start_time": "2021-12-22T16:56:03.640Z"
   },
   {
    "duration": 48,
    "start_time": "2021-12-22T16:56:03.678Z"
   },
   {
    "duration": 3,
    "start_time": "2021-12-22T16:56:03.729Z"
   },
   {
    "duration": 95,
    "start_time": "2021-12-22T16:56:03.736Z"
   },
   {
    "duration": 30,
    "start_time": "2021-12-22T16:56:03.835Z"
   },
   {
    "duration": 59,
    "start_time": "2021-12-22T16:56:03.868Z"
   },
   {
    "duration": 90,
    "start_time": "2021-12-22T16:56:03.929Z"
   },
   {
    "duration": 55,
    "start_time": "2021-12-22T16:56:04.022Z"
   },
   {
    "duration": 20,
    "start_time": "2021-12-22T16:56:04.081Z"
   },
   {
    "duration": 78,
    "start_time": "2021-12-22T16:56:04.104Z"
   },
   {
    "duration": 32,
    "start_time": "2021-12-22T16:56:04.185Z"
   },
   {
    "duration": 5,
    "start_time": "2021-12-22T16:56:04.219Z"
   },
   {
    "duration": 5,
    "start_time": "2021-12-22T16:56:04.226Z"
   },
   {
    "duration": 28,
    "start_time": "2021-12-22T16:56:04.233Z"
   },
   {
    "duration": 5,
    "start_time": "2021-12-22T16:56:04.264Z"
   },
   {
    "duration": 7,
    "start_time": "2021-12-22T16:56:04.272Z"
   },
   {
    "duration": 159,
    "start_time": "2021-12-22T16:56:04.282Z"
   },
   {
    "duration": 107,
    "start_time": "2021-12-22T16:56:04.444Z"
   },
   {
    "duration": 10968,
    "start_time": "2021-12-22T16:56:04.559Z"
   },
   {
    "duration": 14037,
    "start_time": "2021-12-22T16:56:15.535Z"
   },
   {
    "duration": 11604,
    "start_time": "2021-12-22T16:56:29.576Z"
   },
   {
    "duration": 8,
    "start_time": "2021-12-22T16:56:41.182Z"
   },
   {
    "duration": 32,
    "start_time": "2021-12-22T16:56:41.196Z"
   },
   {
    "duration": 96,
    "start_time": "2021-12-22T16:56:41.231Z"
   },
   {
    "duration": 512,
    "start_time": "2021-12-22T16:56:41.330Z"
   },
   {
    "duration": 377,
    "start_time": "2021-12-22T16:56:41.844Z"
   },
   {
    "duration": 455,
    "start_time": "2021-12-22T16:56:42.224Z"
   },
   {
    "duration": 377,
    "start_time": "2021-12-22T16:56:42.682Z"
   },
   {
    "duration": 52,
    "start_time": "2021-12-22T16:56:43.062Z"
   },
   {
    "duration": 481,
    "start_time": "2021-12-22T16:56:43.117Z"
   },
   {
    "duration": 412,
    "start_time": "2021-12-22T16:56:43.601Z"
   },
   {
    "duration": 443,
    "start_time": "2021-12-22T16:56:44.016Z"
   },
   {
    "duration": 357,
    "start_time": "2021-12-22T16:56:44.461Z"
   },
   {
    "duration": 781,
    "start_time": "2021-12-22T16:56:44.820Z"
   },
   {
    "duration": -831,
    "start_time": "2021-12-22T16:56:46.435Z"
   },
   {
    "duration": -834,
    "start_time": "2021-12-22T16:56:46.440Z"
   },
   {
    "duration": -838,
    "start_time": "2021-12-22T16:56:46.445Z"
   },
   {
    "duration": -841,
    "start_time": "2021-12-22T16:56:46.450Z"
   },
   {
    "duration": -845,
    "start_time": "2021-12-22T16:56:46.455Z"
   },
   {
    "duration": -849,
    "start_time": "2021-12-22T16:56:46.461Z"
   },
   {
    "duration": -853,
    "start_time": "2021-12-22T16:56:46.467Z"
   },
   {
    "duration": -857,
    "start_time": "2021-12-22T16:56:46.473Z"
   },
   {
    "duration": -859,
    "start_time": "2021-12-22T16:56:46.478Z"
   },
   {
    "duration": -862,
    "start_time": "2021-12-22T16:56:46.483Z"
   },
   {
    "duration": -865,
    "start_time": "2021-12-22T16:56:46.488Z"
   },
   {
    "duration": -868,
    "start_time": "2021-12-22T16:56:46.493Z"
   },
   {
    "duration": -870,
    "start_time": "2021-12-22T16:56:46.497Z"
   },
   {
    "duration": -873,
    "start_time": "2021-12-22T16:56:46.502Z"
   },
   {
    "duration": -894,
    "start_time": "2021-12-22T16:56:46.525Z"
   },
   {
    "duration": -900,
    "start_time": "2021-12-22T16:56:46.533Z"
   },
   {
    "duration": -905,
    "start_time": "2021-12-22T16:56:46.539Z"
   },
   {
    "duration": -910,
    "start_time": "2021-12-22T16:56:46.546Z"
   },
   {
    "duration": 54,
    "start_time": "2021-12-22T16:57:20.484Z"
   },
   {
    "duration": -836,
    "start_time": "2021-12-22T16:57:35.559Z"
   },
   {
    "duration": 366,
    "start_time": "2021-12-22T16:57:39.949Z"
   },
   {
    "duration": 472,
    "start_time": "2021-12-22T16:57:44.152Z"
   },
   {
    "duration": 484,
    "start_time": "2021-12-22T16:57:57.962Z"
   },
   {
    "duration": 391,
    "start_time": "2021-12-22T16:58:01.152Z"
   },
   {
    "duration": 764,
    "start_time": "2021-12-22T16:58:06.613Z"
   },
   {
    "duration": 308,
    "start_time": "2021-12-22T16:58:12.922Z"
   },
   {
    "duration": 597,
    "start_time": "2021-12-22T16:58:17.479Z"
   },
   {
    "duration": 392,
    "start_time": "2021-12-22T16:58:20.953Z"
   },
   {
    "duration": -825,
    "start_time": "2021-12-22T16:58:43.227Z"
   },
   {
    "duration": 374,
    "start_time": "2021-12-22T16:58:42.960Z"
   },
   {
    "duration": 656,
    "start_time": "2021-12-22T16:58:45.513Z"
   },
   {
    "duration": 317,
    "start_time": "2021-12-22T16:58:50.630Z"
   },
   {
    "duration": 1343,
    "start_time": "2021-12-22T16:58:57.348Z"
   },
   {
    "duration": 1502,
    "start_time": "2021-12-22T16:59:09.549Z"
   },
   {
    "duration": 73,
    "start_time": "2021-12-22T16:59:13.862Z"
   },
   {
    "duration": 77,
    "start_time": "2021-12-22T16:59:22.475Z"
   },
   {
    "duration": 11,
    "start_time": "2021-12-22T16:59:27.641Z"
   },
   {
    "duration": 76,
    "start_time": "2021-12-22T16:59:33.140Z"
   },
   {
    "duration": 10,
    "start_time": "2021-12-22T16:59:38.085Z"
   },
   {
    "duration": 480,
    "start_time": "2021-12-22T17:03:21.867Z"
   },
   {
    "duration": 390,
    "start_time": "2021-12-22T17:03:59.453Z"
   },
   {
    "duration": 19668,
    "start_time": "2021-12-22T17:04:11.103Z"
   },
   {
    "duration": 3007,
    "start_time": "2021-12-22T17:04:43.597Z"
   },
   {
    "duration": 434,
    "start_time": "2021-12-22T17:09:18.158Z"
   },
   {
    "duration": 1957,
    "start_time": "2021-12-22T17:09:59.581Z"
   },
   {
    "duration": 314,
    "start_time": "2021-12-22T17:10:01.541Z"
   },
   {
    "duration": 165,
    "start_time": "2021-12-22T17:10:01.861Z"
   },
   {
    "duration": 49,
    "start_time": "2021-12-22T17:10:02.030Z"
   },
   {
    "duration": 51,
    "start_time": "2021-12-22T17:10:02.082Z"
   },
   {
    "duration": 3,
    "start_time": "2021-12-22T17:10:02.136Z"
   },
   {
    "duration": 143,
    "start_time": "2021-12-22T17:10:02.143Z"
   },
   {
    "duration": 20,
    "start_time": "2021-12-22T17:10:02.292Z"
   },
   {
    "duration": 107,
    "start_time": "2021-12-22T17:10:02.316Z"
   },
   {
    "duration": 84,
    "start_time": "2021-12-22T17:10:02.425Z"
   },
   {
    "duration": 52,
    "start_time": "2021-12-22T17:10:02.511Z"
   },
   {
    "duration": 21,
    "start_time": "2021-12-22T17:10:02.565Z"
   },
   {
    "duration": 75,
    "start_time": "2021-12-22T17:10:02.589Z"
   },
   {
    "duration": 35,
    "start_time": "2021-12-22T17:10:02.667Z"
   },
   {
    "duration": 5,
    "start_time": "2021-12-22T17:10:02.704Z"
   },
   {
    "duration": 12,
    "start_time": "2021-12-22T17:10:02.712Z"
   },
   {
    "duration": 33,
    "start_time": "2021-12-22T17:10:02.727Z"
   },
   {
    "duration": 4,
    "start_time": "2021-12-22T17:10:02.763Z"
   },
   {
    "duration": 5,
    "start_time": "2021-12-22T17:10:02.770Z"
   },
   {
    "duration": 206,
    "start_time": "2021-12-22T17:10:02.778Z"
   },
   {
    "duration": 156,
    "start_time": "2021-12-22T17:10:02.988Z"
   },
   {
    "duration": 18404,
    "start_time": "2021-12-22T17:10:03.147Z"
   },
   {
    "duration": 42,
    "start_time": "2021-12-22T17:10:21.562Z"
   },
   {
    "duration": 63,
    "start_time": "2021-12-22T17:10:21.608Z"
   },
   {
    "duration": 45,
    "start_time": "2021-12-22T17:10:21.674Z"
   },
   {
    "duration": 12,
    "start_time": "2021-12-22T17:10:21.723Z"
   },
   {
    "duration": 24,
    "start_time": "2021-12-22T17:10:21.758Z"
   },
   {
    "duration": 79,
    "start_time": "2021-12-22T17:10:21.784Z"
   },
   {
    "duration": 500,
    "start_time": "2021-12-22T17:10:21.866Z"
   },
   {
    "duration": 868,
    "start_time": "2021-12-22T17:10:22.369Z"
   },
   {
    "duration": -804,
    "start_time": "2021-12-22T17:10:24.044Z"
   },
   {
    "duration": -806,
    "start_time": "2021-12-22T17:10:24.049Z"
   },
   {
    "duration": -808,
    "start_time": "2021-12-22T17:10:24.053Z"
   },
   {
    "duration": -821,
    "start_time": "2021-12-22T17:10:24.068Z"
   },
   {
    "duration": -826,
    "start_time": "2021-12-22T17:10:24.076Z"
   },
   {
    "duration": -837,
    "start_time": "2021-12-22T17:10:24.089Z"
   },
   {
    "duration": -840,
    "start_time": "2021-12-22T17:10:24.094Z"
   },
   {
    "duration": -842,
    "start_time": "2021-12-22T17:10:24.099Z"
   },
   {
    "duration": -844,
    "start_time": "2021-12-22T17:10:24.103Z"
   },
   {
    "duration": -847,
    "start_time": "2021-12-22T17:10:24.108Z"
   },
   {
    "duration": -850,
    "start_time": "2021-12-22T17:10:24.113Z"
   },
   {
    "duration": -852,
    "start_time": "2021-12-22T17:10:24.117Z"
   },
   {
    "duration": -855,
    "start_time": "2021-12-22T17:10:24.122Z"
   },
   {
    "duration": -858,
    "start_time": "2021-12-22T17:10:24.127Z"
   },
   {
    "duration": -859,
    "start_time": "2021-12-22T17:10:24.131Z"
   },
   {
    "duration": -864,
    "start_time": "2021-12-22T17:10:24.138Z"
   },
   {
    "duration": -868,
    "start_time": "2021-12-22T17:10:24.144Z"
   },
   {
    "duration": -872,
    "start_time": "2021-12-22T17:10:24.150Z"
   },
   {
    "duration": -883,
    "start_time": "2021-12-22T17:10:24.164Z"
   },
   {
    "duration": -887,
    "start_time": "2021-12-22T17:10:24.170Z"
   },
   {
    "duration": -899,
    "start_time": "2021-12-22T17:10:24.184Z"
   },
   {
    "duration": -902,
    "start_time": "2021-12-22T17:10:24.189Z"
   },
   {
    "duration": -904,
    "start_time": "2021-12-22T17:10:24.193Z"
   },
   {
    "duration": -906,
    "start_time": "2021-12-22T17:10:24.198Z"
   },
   {
    "duration": -910,
    "start_time": "2021-12-22T17:10:24.206Z"
   },
   {
    "duration": -913,
    "start_time": "2021-12-22T17:10:24.211Z"
   },
   {
    "duration": 1932,
    "start_time": "2021-12-22T17:10:50.301Z"
   },
   {
    "duration": 296,
    "start_time": "2021-12-22T17:10:52.236Z"
   },
   {
    "duration": 139,
    "start_time": "2021-12-22T17:10:52.536Z"
   },
   {
    "duration": 33,
    "start_time": "2021-12-22T17:10:52.677Z"
   },
   {
    "duration": 48,
    "start_time": "2021-12-22T17:10:52.712Z"
   },
   {
    "duration": 4,
    "start_time": "2021-12-22T17:10:52.762Z"
   },
   {
    "duration": 99,
    "start_time": "2021-12-22T17:10:52.768Z"
   },
   {
    "duration": 14,
    "start_time": "2021-12-22T17:10:52.873Z"
   },
   {
    "duration": 89,
    "start_time": "2021-12-22T17:10:52.889Z"
   },
   {
    "duration": 79,
    "start_time": "2021-12-22T17:10:52.980Z"
   },
   {
    "duration": 35,
    "start_time": "2021-12-22T17:10:53.061Z"
   },
   {
    "duration": 28,
    "start_time": "2021-12-22T17:10:53.099Z"
   },
   {
    "duration": 108,
    "start_time": "2021-12-22T17:10:53.130Z"
   },
   {
    "duration": 45,
    "start_time": "2021-12-22T17:10:53.241Z"
   },
   {
    "duration": 4,
    "start_time": "2021-12-22T17:10:53.289Z"
   },
   {
    "duration": 4,
    "start_time": "2021-12-22T17:10:53.296Z"
   },
   {
    "duration": 4,
    "start_time": "2021-12-22T17:10:53.303Z"
   },
   {
    "duration": 7,
    "start_time": "2021-12-22T17:10:53.310Z"
   },
   {
    "duration": 43,
    "start_time": "2021-12-22T17:10:53.319Z"
   },
   {
    "duration": 197,
    "start_time": "2021-12-22T17:10:53.364Z"
   },
   {
    "duration": 109,
    "start_time": "2021-12-22T17:10:53.564Z"
   },
   {
    "duration": 12596,
    "start_time": "2021-12-22T17:10:53.676Z"
   },
   {
    "duration": 13003,
    "start_time": "2021-12-22T17:11:06.277Z"
   },
   {
    "duration": 10964,
    "start_time": "2021-12-22T17:11:19.283Z"
   },
   {
    "duration": 11,
    "start_time": "2021-12-22T17:11:30.250Z"
   },
   {
    "duration": 34,
    "start_time": "2021-12-22T17:11:30.263Z"
   },
   {
    "duration": 95,
    "start_time": "2021-12-22T17:11:30.299Z"
   },
   {
    "duration": 495,
    "start_time": "2021-12-22T17:11:30.396Z"
   },
   {
    "duration": 383,
    "start_time": "2021-12-22T17:11:30.894Z"
   },
   {
    "duration": 471,
    "start_time": "2021-12-22T17:11:31.279Z"
   },
   {
    "duration": 387,
    "start_time": "2021-12-22T17:11:31.752Z"
   },
   {
    "duration": 62,
    "start_time": "2021-12-22T17:11:32.141Z"
   },
   {
    "duration": 470,
    "start_time": "2021-12-22T17:11:32.205Z"
   },
   {
    "duration": 366,
    "start_time": "2021-12-22T17:11:32.678Z"
   },
   {
    "duration": 442,
    "start_time": "2021-12-22T17:11:33.046Z"
   },
   {
    "duration": 349,
    "start_time": "2021-12-22T17:11:33.491Z"
   },
   {
    "duration": 59,
    "start_time": "2021-12-22T17:11:33.842Z"
   },
   {
    "duration": 480,
    "start_time": "2021-12-22T17:11:33.903Z"
   },
   {
    "duration": 359,
    "start_time": "2021-12-22T17:11:34.385Z"
   },
   {
    "duration": 416,
    "start_time": "2021-12-22T17:11:34.747Z"
   },
   {
    "duration": 361,
    "start_time": "2021-12-22T17:11:35.166Z"
   },
   {
    "duration": 610,
    "start_time": "2021-12-22T17:11:35.529Z"
   },
   {
    "duration": 307,
    "start_time": "2021-12-22T17:11:36.141Z"
   },
   {
    "duration": 596,
    "start_time": "2021-12-22T17:11:36.451Z"
   },
   {
    "duration": 294,
    "start_time": "2021-12-22T17:11:37.049Z"
   },
   {
    "duration": 597,
    "start_time": "2021-12-22T17:11:37.346Z"
   },
   {
    "duration": 300,
    "start_time": "2021-12-22T17:11:37.946Z"
   },
   {
    "duration": 314,
    "start_time": "2021-12-22T17:11:38.248Z"
   },
   {
    "duration": 1042,
    "start_time": "2021-12-22T17:11:38.564Z"
   },
   {
    "duration": -825,
    "start_time": "2021-12-22T17:11:40.433Z"
   },
   {
    "duration": -835,
    "start_time": "2021-12-22T17:11:40.445Z"
   },
   {
    "duration": -839,
    "start_time": "2021-12-22T17:11:40.450Z"
   },
   {
    "duration": -849,
    "start_time": "2021-12-22T17:11:40.461Z"
   },
   {
    "duration": -853,
    "start_time": "2021-12-22T17:11:40.466Z"
   },
   {
    "duration": -861,
    "start_time": "2021-12-22T17:11:40.476Z"
   },
   {
    "duration": 132,
    "start_time": "2021-12-22T17:13:44.500Z"
   },
   {
    "duration": -997,
    "start_time": "2021-12-22T17:13:45.633Z"
   },
   {
    "duration": -1001,
    "start_time": "2021-12-22T17:13:45.639Z"
   },
   {
    "duration": -1009,
    "start_time": "2021-12-22T17:13:45.648Z"
   },
   {
    "duration": -1014,
    "start_time": "2021-12-22T17:13:45.654Z"
   },
   {
    "duration": -1023,
    "start_time": "2021-12-22T17:13:45.664Z"
   },
   {
    "duration": -1027,
    "start_time": "2021-12-22T17:13:45.669Z"
   },
   {
    "duration": -1029,
    "start_time": "2021-12-22T17:13:45.673Z"
   },
   {
    "duration": -1032,
    "start_time": "2021-12-22T17:13:45.677Z"
   },
   {
    "duration": -1038,
    "start_time": "2021-12-22T17:13:45.685Z"
   },
   {
    "duration": -1064,
    "start_time": "2021-12-22T17:13:45.712Z"
   },
   {
    "duration": -1071,
    "start_time": "2021-12-22T17:13:45.720Z"
   },
   {
    "duration": -1076,
    "start_time": "2021-12-22T17:13:45.727Z"
   },
   {
    "duration": -1083,
    "start_time": "2021-12-22T17:13:45.735Z"
   },
   {
    "duration": -1090,
    "start_time": "2021-12-22T17:13:45.743Z"
   },
   {
    "duration": -1096,
    "start_time": "2021-12-22T17:13:45.751Z"
   },
   {
    "duration": -1100,
    "start_time": "2021-12-22T17:13:45.756Z"
   },
   {
    "duration": -1107,
    "start_time": "2021-12-22T17:13:45.764Z"
   },
   {
    "duration": -1109,
    "start_time": "2021-12-22T17:13:45.768Z"
   },
   {
    "duration": -1115,
    "start_time": "2021-12-22T17:13:45.775Z"
   },
   {
    "duration": -1119,
    "start_time": "2021-12-22T17:13:45.782Z"
   },
   {
    "duration": -1124,
    "start_time": "2021-12-22T17:13:45.788Z"
   },
   {
    "duration": -1127,
    "start_time": "2021-12-22T17:13:45.793Z"
   },
   {
    "duration": -1133,
    "start_time": "2021-12-22T17:13:45.800Z"
   },
   {
    "duration": -1137,
    "start_time": "2021-12-22T17:13:45.805Z"
   },
   {
    "duration": -1152,
    "start_time": "2021-12-22T17:13:45.822Z"
   },
   {
    "duration": -1157,
    "start_time": "2021-12-22T17:13:45.828Z"
   },
   {
    "duration": -1162,
    "start_time": "2021-12-22T17:13:45.834Z"
   },
   {
    "duration": 416,
    "start_time": "2021-12-22T17:13:44.676Z"
   },
   {
    "duration": -1502,
    "start_time": "2021-12-22T17:13:46.598Z"
   },
   {
    "duration": -1506,
    "start_time": "2021-12-22T17:13:46.603Z"
   },
   {
    "duration": -1510,
    "start_time": "2021-12-22T17:13:46.608Z"
   },
   {
    "duration": -1514,
    "start_time": "2021-12-22T17:13:46.614Z"
   },
   {
    "duration": -1528,
    "start_time": "2021-12-22T17:13:46.629Z"
   },
   {
    "duration": -1533,
    "start_time": "2021-12-22T17:13:46.635Z"
   },
   {
    "duration": -1536,
    "start_time": "2021-12-22T17:13:46.639Z"
   },
   {
    "duration": -1540,
    "start_time": "2021-12-22T17:13:46.645Z"
   },
   {
    "duration": -1544,
    "start_time": "2021-12-22T17:13:46.650Z"
   },
   {
    "duration": -1547,
    "start_time": "2021-12-22T17:13:46.654Z"
   },
   {
    "duration": -1550,
    "start_time": "2021-12-22T17:13:46.658Z"
   },
   {
    "duration": -1555,
    "start_time": "2021-12-22T17:13:46.664Z"
   },
   {
    "duration": -1557,
    "start_time": "2021-12-22T17:13:46.668Z"
   },
   {
    "duration": -1561,
    "start_time": "2021-12-22T17:13:46.674Z"
   },
   {
    "duration": -1564,
    "start_time": "2021-12-22T17:13:46.678Z"
   },
   {
    "duration": -1568,
    "start_time": "2021-12-22T17:13:46.683Z"
   },
   {
    "duration": -1570,
    "start_time": "2021-12-22T17:13:46.687Z"
   },
   {
    "duration": -1574,
    "start_time": "2021-12-22T17:13:46.692Z"
   },
   {
    "duration": -1576,
    "start_time": "2021-12-22T17:13:46.696Z"
   },
   {
    "duration": -1579,
    "start_time": "2021-12-22T17:13:46.701Z"
   },
   {
    "duration": -1581,
    "start_time": "2021-12-22T17:13:46.705Z"
   },
   {
    "duration": -1583,
    "start_time": "2021-12-22T17:13:46.709Z"
   },
   {
    "duration": -1585,
    "start_time": "2021-12-22T17:13:46.713Z"
   },
   {
    "duration": -1587,
    "start_time": "2021-12-22T17:13:46.717Z"
   },
   {
    "duration": -1589,
    "start_time": "2021-12-22T17:13:46.721Z"
   },
   {
    "duration": -1568,
    "start_time": "2021-12-22T17:13:46.726Z"
   },
   {
    "duration": -1580,
    "start_time": "2021-12-22T17:13:46.741Z"
   },
   {
    "duration": 1774,
    "start_time": "2021-12-22T17:14:29.696Z"
   },
   {
    "duration": 189,
    "start_time": "2021-12-22T17:14:31.473Z"
   },
   {
    "duration": 136,
    "start_time": "2021-12-22T17:14:31.665Z"
   },
   {
    "duration": 32,
    "start_time": "2021-12-22T17:14:31.804Z"
   },
   {
    "duration": 51,
    "start_time": "2021-12-22T17:14:31.838Z"
   },
   {
    "duration": 3,
    "start_time": "2021-12-22T17:14:31.892Z"
   },
   {
    "duration": 87,
    "start_time": "2021-12-22T17:14:31.897Z"
   },
   {
    "duration": 14,
    "start_time": "2021-12-22T17:14:31.987Z"
   },
   {
    "duration": 77,
    "start_time": "2021-12-22T17:14:32.004Z"
   },
   {
    "duration": 76,
    "start_time": "2021-12-22T17:14:32.084Z"
   },
   {
    "duration": 36,
    "start_time": "2021-12-22T17:14:32.162Z"
   },
   {
    "duration": 21,
    "start_time": "2021-12-22T17:14:32.200Z"
   },
   {
    "duration": 83,
    "start_time": "2021-12-22T17:14:32.223Z"
   },
   {
    "duration": 32,
    "start_time": "2021-12-22T17:14:32.309Z"
   },
   {
    "duration": 4,
    "start_time": "2021-12-22T17:14:32.359Z"
   },
   {
    "duration": 9,
    "start_time": "2021-12-22T17:14:32.365Z"
   },
   {
    "duration": 6,
    "start_time": "2021-12-22T17:14:32.377Z"
   },
   {
    "duration": 6,
    "start_time": "2021-12-22T17:14:32.385Z"
   },
   {
    "duration": 5,
    "start_time": "2021-12-22T17:14:32.394Z"
   },
   {
    "duration": 152,
    "start_time": "2021-12-22T17:14:32.401Z"
   },
   {
    "duration": 110,
    "start_time": "2021-12-22T17:14:32.559Z"
   },
   {
    "duration": 11383,
    "start_time": "2021-12-22T17:14:32.672Z"
   },
   {
    "duration": 12602,
    "start_time": "2021-12-22T17:14:44.064Z"
   },
   {
    "duration": 434,
    "start_time": "2022-01-29T09:15:02.532Z"
   },
   {
    "duration": 1255,
    "start_time": "2022-01-29T09:15:10.300Z"
   },
   {
    "duration": 126,
    "start_time": "2022-01-29T09:15:11.556Z"
   },
   {
    "duration": 88,
    "start_time": "2022-01-29T09:15:11.684Z"
   },
   {
    "duration": 22,
    "start_time": "2022-01-29T09:15:11.774Z"
   },
   {
    "duration": 38,
    "start_time": "2022-01-29T09:15:11.797Z"
   },
   {
    "duration": 2,
    "start_time": "2022-01-29T09:15:11.836Z"
   },
   {
    "duration": 55,
    "start_time": "2022-01-29T09:15:11.839Z"
   },
   {
    "duration": 9,
    "start_time": "2022-01-29T09:15:11.896Z"
   },
   {
    "duration": 57,
    "start_time": "2022-01-29T09:15:11.907Z"
   },
   {
    "duration": 48,
    "start_time": "2022-01-29T09:15:11.966Z"
   },
   {
    "duration": 33,
    "start_time": "2022-01-29T09:15:12.015Z"
   },
   {
    "duration": 9,
    "start_time": "2022-01-29T09:15:12.049Z"
   },
   {
    "duration": 41,
    "start_time": "2022-01-29T09:15:12.059Z"
   },
   {
    "duration": 42,
    "start_time": "2022-01-29T09:15:12.102Z"
   },
   {
    "duration": 3,
    "start_time": "2022-01-29T09:15:12.146Z"
   },
   {
    "duration": 4,
    "start_time": "2022-01-29T09:15:12.151Z"
   },
   {
    "duration": 4,
    "start_time": "2022-01-29T09:15:12.157Z"
   },
   {
    "duration": 5,
    "start_time": "2022-01-29T09:15:12.162Z"
   },
   {
    "duration": 4,
    "start_time": "2022-01-29T09:15:12.168Z"
   },
   {
    "duration": 1270,
    "start_time": "2022-01-29T09:16:25.664Z"
   },
   {
    "duration": 128,
    "start_time": "2022-01-29T09:16:26.936Z"
   },
   {
    "duration": 88,
    "start_time": "2022-01-29T09:16:27.066Z"
   },
   {
    "duration": 21,
    "start_time": "2022-01-29T09:16:27.156Z"
   },
   {
    "duration": 34,
    "start_time": "2022-01-29T09:16:27.179Z"
   },
   {
    "duration": 2,
    "start_time": "2022-01-29T09:16:27.215Z"
   },
   {
    "duration": 51,
    "start_time": "2022-01-29T09:16:27.219Z"
   },
   {
    "duration": 9,
    "start_time": "2022-01-29T09:16:27.272Z"
   },
   {
    "duration": 50,
    "start_time": "2022-01-29T09:16:27.283Z"
   },
   {
    "duration": 45,
    "start_time": "2022-01-29T09:16:27.335Z"
   },
   {
    "duration": 23,
    "start_time": "2022-01-29T09:16:27.382Z"
   },
   {
    "duration": 27,
    "start_time": "2022-01-29T09:16:27.407Z"
   },
   {
    "duration": 38,
    "start_time": "2022-01-29T09:16:27.435Z"
   },
   {
    "duration": 21,
    "start_time": "2022-01-29T09:16:27.474Z"
   },
   {
    "duration": 9,
    "start_time": "2022-01-29T09:16:27.496Z"
   },
   {
    "duration": 28,
    "start_time": "2022-01-29T09:16:27.507Z"
   },
   {
    "duration": 4,
    "start_time": "2022-01-29T09:16:27.537Z"
   },
   {
    "duration": 5,
    "start_time": "2022-01-29T09:16:27.543Z"
   },
   {
    "duration": 7,
    "start_time": "2022-01-29T09:16:27.549Z"
   },
   {
    "duration": 406,
    "start_time": "2022-01-29T09:17:33.241Z"
   },
   {
    "duration": 1174,
    "start_time": "2022-01-29T09:17:42.037Z"
   },
   {
    "duration": 125,
    "start_time": "2022-01-29T09:17:45.531Z"
   },
   {
    "duration": 90,
    "start_time": "2022-01-29T09:17:47.994Z"
   },
   {
    "duration": 23,
    "start_time": "2022-01-29T09:17:50.912Z"
   },
   {
    "duration": 35,
    "start_time": "2022-01-29T09:17:53.544Z"
   },
   {
    "duration": 50,
    "start_time": "2022-01-29T09:17:57.232Z"
   },
   {
    "duration": 10,
    "start_time": "2022-01-29T09:17:59.521Z"
   },
   {
    "duration": 40,
    "start_time": "2022-01-29T09:18:03.748Z"
   },
   {
    "duration": 45,
    "start_time": "2022-01-29T09:18:06.789Z"
   },
   {
    "duration": 24,
    "start_time": "2022-01-29T09:18:10.924Z"
   },
   {
    "duration": 17,
    "start_time": "2022-01-29T09:18:13.077Z"
   },
   {
    "duration": 37,
    "start_time": "2022-01-29T09:18:15.803Z"
   },
   {
    "duration": 22,
    "start_time": "2022-01-29T09:18:17.861Z"
   },
   {
    "duration": 4,
    "start_time": "2022-01-29T09:18:20.515Z"
   },
   {
    "duration": 352,
    "start_time": "2022-01-29T09:18:58.853Z"
   },
   {
    "duration": 311,
    "start_time": "2022-01-29T09:21:39.388Z"
   },
   {
    "duration": 1167,
    "start_time": "2022-01-29T09:21:46.773Z"
   },
   {
    "duration": 128,
    "start_time": "2022-01-29T09:21:47.941Z"
   },
   {
    "duration": 87,
    "start_time": "2022-01-29T09:21:48.071Z"
   },
   {
    "duration": 21,
    "start_time": "2022-01-29T09:21:48.160Z"
   },
   {
    "duration": 36,
    "start_time": "2022-01-29T09:21:48.183Z"
   },
   {
    "duration": 1,
    "start_time": "2022-01-29T09:21:48.221Z"
   },
   {
    "duration": 53,
    "start_time": "2022-01-29T09:21:48.224Z"
   },
   {
    "duration": 8,
    "start_time": "2022-01-29T09:21:48.279Z"
   },
   {
    "duration": 46,
    "start_time": "2022-01-29T09:21:48.289Z"
   },
   {
    "duration": 45,
    "start_time": "2022-01-29T09:21:48.337Z"
   },
   {
    "duration": 23,
    "start_time": "2022-01-29T09:21:48.384Z"
   },
   {
    "duration": 29,
    "start_time": "2022-01-29T09:21:48.408Z"
   },
   {
    "duration": 36,
    "start_time": "2022-01-29T09:21:48.439Z"
   },
   {
    "duration": 19,
    "start_time": "2022-01-29T09:21:48.477Z"
   },
   {
    "duration": 3,
    "start_time": "2022-01-29T09:21:48.498Z"
   },
   {
    "duration": 26,
    "start_time": "2022-01-29T09:21:48.502Z"
   },
   {
    "duration": 5,
    "start_time": "2022-01-29T09:21:48.529Z"
   },
   {
    "duration": 6,
    "start_time": "2022-01-29T09:21:48.535Z"
   },
   {
    "duration": 5,
    "start_time": "2022-01-29T09:21:48.542Z"
   },
   {
    "duration": 83,
    "start_time": "2022-01-29T09:21:48.548Z"
   },
   {
    "duration": 57,
    "start_time": "2022-01-29T09:21:48.632Z"
   },
   {
    "duration": 6078,
    "start_time": "2022-01-29T09:21:48.690Z"
   },
   {
    "duration": 7303,
    "start_time": "2022-01-29T09:21:54.769Z"
   },
   {
    "duration": 5912,
    "start_time": "2022-01-29T09:22:02.075Z"
   },
   {
    "duration": 5,
    "start_time": "2022-01-29T09:22:07.989Z"
   },
   {
    "duration": 32,
    "start_time": "2022-01-29T09:22:07.995Z"
   },
   {
    "duration": 39,
    "start_time": "2022-01-29T09:22:08.030Z"
   },
   {
    "duration": 253,
    "start_time": "2022-01-29T09:22:08.071Z"
   },
   {
    "duration": 204,
    "start_time": "2022-01-29T09:22:08.325Z"
   },
   {
    "duration": 237,
    "start_time": "2022-01-29T09:22:08.530Z"
   },
   {
    "duration": 207,
    "start_time": "2022-01-29T09:22:08.769Z"
   },
   {
    "duration": 29,
    "start_time": "2022-01-29T09:22:08.978Z"
   },
   {
    "duration": 265,
    "start_time": "2022-01-29T09:22:09.008Z"
   },
   {
    "duration": 204,
    "start_time": "2022-01-29T09:22:09.274Z"
   },
   {
    "duration": 234,
    "start_time": "2022-01-29T09:22:09.479Z"
   },
   {
    "duration": 195,
    "start_time": "2022-01-29T09:22:09.715Z"
   },
   {
    "duration": 33,
    "start_time": "2022-01-29T09:22:09.911Z"
   },
   {
    "duration": 258,
    "start_time": "2022-01-29T09:22:09.946Z"
   },
   {
    "duration": 202,
    "start_time": "2022-01-29T09:22:10.206Z"
   },
   {
    "duration": 222,
    "start_time": "2022-01-29T09:22:10.410Z"
   },
   {
    "duration": 190,
    "start_time": "2022-01-29T09:22:10.634Z"
   },
   {
    "duration": 327,
    "start_time": "2022-01-29T09:22:10.825Z"
   },
   {
    "duration": 158,
    "start_time": "2022-01-29T09:22:11.153Z"
   },
   {
    "duration": 327,
    "start_time": "2022-01-29T09:22:11.313Z"
   },
   {
    "duration": 156,
    "start_time": "2022-01-29T09:22:11.642Z"
   },
   {
    "duration": 310,
    "start_time": "2022-01-29T09:22:11.800Z"
   },
   {
    "duration": 162,
    "start_time": "2022-01-29T09:22:12.112Z"
   },
   {
    "duration": 177,
    "start_time": "2022-01-29T09:22:12.276Z"
   },
   {
    "duration": 684,
    "start_time": "2022-01-29T09:22:12.454Z"
   },
   {
    "duration": -520,
    "start_time": "2022-01-29T09:22:13.660Z"
   },
   {
    "duration": -529,
    "start_time": "2022-01-29T09:22:13.669Z"
   },
   {
    "duration": -544,
    "start_time": "2022-01-29T09:22:13.685Z"
   },
   {
    "duration": -554,
    "start_time": "2022-01-29T09:22:13.696Z"
   },
   {
    "duration": -559,
    "start_time": "2022-01-29T09:22:13.702Z"
   },
   {
    "duration": -564,
    "start_time": "2022-01-29T09:22:13.708Z"
   },
   {
    "duration": 79,
    "start_time": "2022-01-29T09:28:18.311Z"
   },
   {
    "duration": 70,
    "start_time": "2022-01-29T09:30:10.337Z"
   },
   {
    "duration": 593,
    "start_time": "2022-01-29T09:34:30.207Z"
   },
   {
    "duration": 920,
    "start_time": "2022-01-29T09:35:45.065Z"
   },
   {
    "duration": 1373,
    "start_time": "2022-01-29T09:35:57.990Z"
   },
   {
    "duration": 131,
    "start_time": "2022-01-29T09:35:59.364Z"
   },
   {
    "duration": 91,
    "start_time": "2022-01-29T09:35:59.497Z"
   },
   {
    "duration": 22,
    "start_time": "2022-01-29T09:35:59.590Z"
   },
   {
    "duration": 33,
    "start_time": "2022-01-29T09:35:59.614Z"
   },
   {
    "duration": 2,
    "start_time": "2022-01-29T09:35:59.649Z"
   },
   {
    "duration": 52,
    "start_time": "2022-01-29T09:35:59.652Z"
   },
   {
    "duration": 9,
    "start_time": "2022-01-29T09:35:59.705Z"
   },
   {
    "duration": 46,
    "start_time": "2022-01-29T09:35:59.716Z"
   },
   {
    "duration": 47,
    "start_time": "2022-01-29T09:35:59.764Z"
   },
   {
    "duration": 37,
    "start_time": "2022-01-29T09:35:59.812Z"
   },
   {
    "duration": 9,
    "start_time": "2022-01-29T09:35:59.851Z"
   },
   {
    "duration": 35,
    "start_time": "2022-01-29T09:35:59.861Z"
   },
   {
    "duration": 41,
    "start_time": "2022-01-29T09:35:59.898Z"
   },
   {
    "duration": 3,
    "start_time": "2022-01-29T09:35:59.941Z"
   },
   {
    "duration": 7,
    "start_time": "2022-01-29T09:35:59.945Z"
   },
   {
    "duration": 4,
    "start_time": "2022-01-29T09:35:59.953Z"
   },
   {
    "duration": 6,
    "start_time": "2022-01-29T09:35:59.958Z"
   },
   {
    "duration": 5,
    "start_time": "2022-01-29T09:35:59.965Z"
   },
   {
    "duration": 1743,
    "start_time": "2022-01-29T09:35:59.972Z"
   },
   {
    "duration": -542,
    "start_time": "2022-01-29T09:36:02.260Z"
   },
   {
    "duration": -548,
    "start_time": "2022-01-29T09:36:02.267Z"
   },
   {
    "duration": -552,
    "start_time": "2022-01-29T09:36:02.273Z"
   },
   {
    "duration": -556,
    "start_time": "2022-01-29T09:36:02.278Z"
   },
   {
    "duration": -559,
    "start_time": "2022-01-29T09:36:02.282Z"
   },
   {
    "duration": -563,
    "start_time": "2022-01-29T09:36:02.287Z"
   },
   {
    "duration": -565,
    "start_time": "2022-01-29T09:36:02.291Z"
   },
   {
    "duration": -569,
    "start_time": "2022-01-29T09:36:02.296Z"
   },
   {
    "duration": -586,
    "start_time": "2022-01-29T09:36:02.314Z"
   },
   {
    "duration": -589,
    "start_time": "2022-01-29T09:36:02.319Z"
   },
   {
    "duration": -605,
    "start_time": "2022-01-29T09:36:02.336Z"
   },
   {
    "duration": -609,
    "start_time": "2022-01-29T09:36:02.342Z"
   },
   {
    "duration": -615,
    "start_time": "2022-01-29T09:36:02.349Z"
   },
   {
    "duration": -626,
    "start_time": "2022-01-29T09:36:02.361Z"
   },
   {
    "duration": -630,
    "start_time": "2022-01-29T09:36:02.366Z"
   },
   {
    "duration": -634,
    "start_time": "2022-01-29T09:36:02.372Z"
   },
   {
    "duration": -646,
    "start_time": "2022-01-29T09:36:02.385Z"
   },
   {
    "duration": -656,
    "start_time": "2022-01-29T09:36:02.396Z"
   },
   {
    "duration": -660,
    "start_time": "2022-01-29T09:36:02.401Z"
   },
   {
    "duration": -669,
    "start_time": "2022-01-29T09:36:02.412Z"
   },
   {
    "duration": -672,
    "start_time": "2022-01-29T09:36:02.417Z"
   },
   {
    "duration": -682,
    "start_time": "2022-01-29T09:36:02.428Z"
   },
   {
    "duration": -1228,
    "start_time": "2022-01-29T09:36:02.976Z"
   },
   {
    "duration": -1234,
    "start_time": "2022-01-29T09:36:02.983Z"
   },
   {
    "duration": -1250,
    "start_time": "2022-01-29T09:36:03.000Z"
   },
   {
    "duration": -1265,
    "start_time": "2022-01-29T09:36:03.017Z"
   },
   {
    "duration": -1282,
    "start_time": "2022-01-29T09:36:03.035Z"
   },
   {
    "duration": -1297,
    "start_time": "2022-01-29T09:36:03.051Z"
   },
   {
    "duration": -1311,
    "start_time": "2022-01-29T09:36:03.067Z"
   },
   {
    "duration": -1327,
    "start_time": "2022-01-29T09:36:03.084Z"
   },
   {
    "duration": -1344,
    "start_time": "2022-01-29T09:36:03.102Z"
   },
   {
    "duration": -1357,
    "start_time": "2022-01-29T09:36:03.117Z"
   },
   {
    "duration": -1373,
    "start_time": "2022-01-29T09:36:03.134Z"
   },
   {
    "duration": -1388,
    "start_time": "2022-01-29T09:36:03.150Z"
   },
   {
    "duration": -1401,
    "start_time": "2022-01-29T09:36:03.165Z"
   },
   {
    "duration": 1842,
    "start_time": "2022-05-22T16:28:18.229Z"
   },
   {
    "duration": 446,
    "start_time": "2022-05-22T16:28:20.073Z"
   },
   {
    "duration": 289,
    "start_time": "2022-05-22T16:28:20.521Z"
   },
   {
    "duration": 89,
    "start_time": "2022-05-22T16:28:20.812Z"
   },
   {
    "duration": 79,
    "start_time": "2022-05-22T16:28:20.903Z"
   },
   {
    "duration": 3,
    "start_time": "2022-05-22T16:28:20.984Z"
   },
   {
    "duration": 66,
    "start_time": "2022-05-22T16:28:20.988Z"
   },
   {
    "duration": 29,
    "start_time": "2022-05-22T16:28:21.056Z"
   },
   {
    "duration": 39,
    "start_time": "2022-05-22T16:28:21.087Z"
   },
   {
    "duration": 66,
    "start_time": "2022-05-22T16:28:21.130Z"
   },
   {
    "duration": 27,
    "start_time": "2022-05-22T16:28:21.198Z"
   },
   {
    "duration": 18,
    "start_time": "2022-05-22T16:28:21.226Z"
   },
   {
    "duration": 67,
    "start_time": "2022-05-22T16:28:21.245Z"
   },
   {
    "duration": 23,
    "start_time": "2022-05-22T16:28:21.314Z"
   },
   {
    "duration": 3,
    "start_time": "2022-05-22T16:28:21.339Z"
   },
   {
    "duration": 5,
    "start_time": "2022-05-22T16:28:21.343Z"
   },
   {
    "duration": 5,
    "start_time": "2022-05-22T16:28:21.349Z"
   },
   {
    "duration": 6,
    "start_time": "2022-05-22T16:28:21.356Z"
   },
   {
    "duration": 21,
    "start_time": "2022-05-22T16:28:21.363Z"
   },
   {
    "duration": 139,
    "start_time": "2022-05-22T16:28:21.386Z"
   },
   {
    "duration": 0,
    "start_time": "2022-05-22T16:28:21.527Z"
   },
   {
    "duration": 0,
    "start_time": "2022-05-22T16:28:21.529Z"
   },
   {
    "duration": 0,
    "start_time": "2022-05-22T16:28:21.530Z"
   },
   {
    "duration": 0,
    "start_time": "2022-05-22T16:28:21.531Z"
   },
   {
    "duration": 0,
    "start_time": "2022-05-22T16:28:21.532Z"
   },
   {
    "duration": 0,
    "start_time": "2022-05-22T16:28:21.535Z"
   },
   {
    "duration": 0,
    "start_time": "2022-05-22T16:28:21.536Z"
   },
   {
    "duration": 0,
    "start_time": "2022-05-22T16:28:21.538Z"
   },
   {
    "duration": 0,
    "start_time": "2022-05-22T16:28:21.539Z"
   },
   {
    "duration": 0,
    "start_time": "2022-05-22T16:28:21.540Z"
   },
   {
    "duration": 0,
    "start_time": "2022-05-22T16:28:21.541Z"
   },
   {
    "duration": 0,
    "start_time": "2022-05-22T16:28:21.542Z"
   },
   {
    "duration": 1,
    "start_time": "2022-05-22T16:28:21.542Z"
   },
   {
    "duration": 0,
    "start_time": "2022-05-22T16:28:21.543Z"
   },
   {
    "duration": 0,
    "start_time": "2022-05-22T16:28:21.544Z"
   },
   {
    "duration": 0,
    "start_time": "2022-05-22T16:28:21.545Z"
   },
   {
    "duration": 0,
    "start_time": "2022-05-22T16:28:21.546Z"
   },
   {
    "duration": 0,
    "start_time": "2022-05-22T16:28:21.547Z"
   },
   {
    "duration": 0,
    "start_time": "2022-05-22T16:28:21.548Z"
   },
   {
    "duration": 0,
    "start_time": "2022-05-22T16:28:21.584Z"
   },
   {
    "duration": 0,
    "start_time": "2022-05-22T16:28:21.585Z"
   },
   {
    "duration": 0,
    "start_time": "2022-05-22T16:28:21.586Z"
   },
   {
    "duration": 0,
    "start_time": "2022-05-22T16:28:21.587Z"
   },
   {
    "duration": 0,
    "start_time": "2022-05-22T16:28:21.589Z"
   },
   {
    "duration": 0,
    "start_time": "2022-05-22T16:28:21.590Z"
   },
   {
    "duration": 0,
    "start_time": "2022-05-22T16:28:21.591Z"
   },
   {
    "duration": 0,
    "start_time": "2022-05-22T16:28:21.592Z"
   },
   {
    "duration": 0,
    "start_time": "2022-05-22T16:28:21.593Z"
   },
   {
    "duration": 0,
    "start_time": "2022-05-22T16:28:21.594Z"
   },
   {
    "duration": 0,
    "start_time": "2022-05-22T16:28:21.595Z"
   },
   {
    "duration": 0,
    "start_time": "2022-05-22T16:28:21.596Z"
   },
   {
    "duration": 0,
    "start_time": "2022-05-22T16:28:21.597Z"
   },
   {
    "duration": 0,
    "start_time": "2022-05-22T16:28:21.598Z"
   },
   {
    "duration": 0,
    "start_time": "2022-05-22T16:28:21.599Z"
   },
   {
    "duration": 0,
    "start_time": "2022-05-22T16:28:21.600Z"
   },
   {
    "duration": 127,
    "start_time": "2022-05-22T16:37:17.971Z"
   },
   {
    "duration": 103,
    "start_time": "2022-05-22T16:37:45.000Z"
   },
   {
    "duration": 168,
    "start_time": "2022-05-22T16:37:57.365Z"
   },
   {
    "duration": 87,
    "start_time": "2022-05-22T16:38:30.484Z"
   },
   {
    "duration": 80,
    "start_time": "2022-05-22T16:38:40.527Z"
   },
   {
    "duration": 134,
    "start_time": "2022-05-22T16:38:48.894Z"
   },
   {
    "duration": 104,
    "start_time": "2022-05-22T16:38:55.986Z"
   },
   {
    "duration": 88,
    "start_time": "2022-05-22T16:43:25.243Z"
   },
   {
    "duration": 95,
    "start_time": "2022-05-22T16:44:26.201Z"
   },
   {
    "duration": 74,
    "start_time": "2022-05-22T16:45:12.876Z"
   },
   {
    "duration": 1357,
    "start_time": "2022-05-22T16:45:25.371Z"
   },
   {
    "duration": 220,
    "start_time": "2022-05-22T16:45:26.730Z"
   },
   {
    "duration": 119,
    "start_time": "2022-05-22T16:45:26.952Z"
   },
   {
    "duration": 31,
    "start_time": "2022-05-22T16:45:27.074Z"
   },
   {
    "duration": 42,
    "start_time": "2022-05-22T16:45:27.107Z"
   },
   {
    "duration": 4,
    "start_time": "2022-05-22T16:45:27.151Z"
   },
   {
    "duration": 72,
    "start_time": "2022-05-22T16:45:27.157Z"
   },
   {
    "duration": 15,
    "start_time": "2022-05-22T16:45:27.232Z"
   },
   {
    "duration": 72,
    "start_time": "2022-05-22T16:45:27.249Z"
   },
   {
    "duration": 60,
    "start_time": "2022-05-22T16:45:27.324Z"
   },
   {
    "duration": 26,
    "start_time": "2022-05-22T16:45:27.386Z"
   },
   {
    "duration": 12,
    "start_time": "2022-05-22T16:45:27.414Z"
   },
   {
    "duration": 68,
    "start_time": "2022-05-22T16:45:27.428Z"
   },
   {
    "duration": 24,
    "start_time": "2022-05-22T16:45:27.498Z"
   },
   {
    "duration": 3,
    "start_time": "2022-05-22T16:45:27.524Z"
   },
   {
    "duration": 5,
    "start_time": "2022-05-22T16:45:27.529Z"
   },
   {
    "duration": 11,
    "start_time": "2022-05-22T16:45:27.536Z"
   },
   {
    "duration": 6,
    "start_time": "2022-05-22T16:45:27.549Z"
   },
   {
    "duration": 4,
    "start_time": "2022-05-22T16:45:27.557Z"
   },
   {
    "duration": 122,
    "start_time": "2022-05-22T16:45:27.563Z"
   },
   {
    "duration": 76,
    "start_time": "2022-05-22T16:45:27.688Z"
   },
   {
    "duration": 4453,
    "start_time": "2022-05-22T16:45:27.765Z"
   },
   {
    "duration": 4547,
    "start_time": "2022-05-22T16:45:32.220Z"
   },
   {
    "duration": 4225,
    "start_time": "2022-05-22T16:45:36.769Z"
   },
   {
    "duration": 6,
    "start_time": "2022-05-22T16:45:40.997Z"
   },
   {
    "duration": 27,
    "start_time": "2022-05-22T16:45:41.006Z"
   },
   {
    "duration": 74,
    "start_time": "2022-05-22T16:45:41.035Z"
   },
   {
    "duration": 255,
    "start_time": "2022-05-22T16:45:41.114Z"
   },
   {
    "duration": 180,
    "start_time": "2022-05-22T16:45:41.371Z"
   },
   {
    "duration": 230,
    "start_time": "2022-05-22T16:45:41.553Z"
   },
   {
    "duration": 146,
    "start_time": "2022-05-22T16:45:41.785Z"
   },
   {
    "duration": 52,
    "start_time": "2022-05-22T16:45:41.933Z"
   },
   {
    "duration": 233,
    "start_time": "2022-05-22T16:45:41.986Z"
   },
   {
    "duration": 152,
    "start_time": "2022-05-22T16:45:42.221Z"
   },
   {
    "duration": 220,
    "start_time": "2022-05-22T16:45:42.375Z"
   },
   {
    "duration": 142,
    "start_time": "2022-05-22T16:45:42.597Z"
   },
   {
    "duration": 44,
    "start_time": "2022-05-22T16:45:42.741Z"
   },
   {
    "duration": 240,
    "start_time": "2022-05-22T16:45:42.787Z"
   },
   {
    "duration": 155,
    "start_time": "2022-05-22T16:45:43.028Z"
   },
   {
    "duration": 202,
    "start_time": "2022-05-22T16:45:43.185Z"
   },
   {
    "duration": 138,
    "start_time": "2022-05-22T16:45:43.390Z"
   },
   {
    "duration": 340,
    "start_time": "2022-05-22T16:45:43.530Z"
   },
   {
    "duration": 275,
    "start_time": "2022-05-22T16:45:43.873Z"
   },
   {
    "duration": 462,
    "start_time": "2022-05-22T16:45:44.150Z"
   },
   {
    "duration": 278,
    "start_time": "2022-05-22T16:45:44.614Z"
   },
   {
    "duration": 321,
    "start_time": "2022-05-22T16:45:44.894Z"
   },
   {
    "duration": 284,
    "start_time": "2022-05-22T16:45:45.218Z"
   },
   {
    "duration": 308,
    "start_time": "2022-05-22T16:45:45.504Z"
   },
   {
    "duration": 412,
    "start_time": "2022-05-22T16:45:45.814Z"
   },
   {
    "duration": 0,
    "start_time": "2022-05-22T16:45:46.228Z"
   },
   {
    "duration": 0,
    "start_time": "2022-05-22T16:45:46.229Z"
   },
   {
    "duration": 0,
    "start_time": "2022-05-22T16:45:46.231Z"
   },
   {
    "duration": 0,
    "start_time": "2022-05-22T16:45:46.232Z"
   },
   {
    "duration": 0,
    "start_time": "2022-05-22T16:45:46.233Z"
   },
   {
    "duration": 0,
    "start_time": "2022-05-22T16:45:46.234Z"
   },
   {
    "duration": 6621,
    "start_time": "2022-05-22T16:48:30.394Z"
   },
   {
    "duration": 116,
    "start_time": "2022-05-22T16:48:49.928Z"
   },
   {
    "duration": 60,
    "start_time": "2022-05-22T16:49:11.468Z"
   },
   {
    "duration": 1725,
    "start_time": "2022-05-22T16:49:18.467Z"
   },
   {
    "duration": 441,
    "start_time": "2022-05-22T16:49:20.194Z"
   },
   {
    "duration": 318,
    "start_time": "2022-05-22T16:49:20.636Z"
   },
   {
    "duration": 89,
    "start_time": "2022-05-22T16:49:20.956Z"
   },
   {
    "duration": 79,
    "start_time": "2022-05-22T16:49:21.047Z"
   },
   {
    "duration": 3,
    "start_time": "2022-05-22T16:49:21.127Z"
   },
   {
    "duration": 67,
    "start_time": "2022-05-22T16:49:21.131Z"
   },
   {
    "duration": 11,
    "start_time": "2022-05-22T16:49:21.200Z"
   },
   {
    "duration": 41,
    "start_time": "2022-05-22T16:49:21.212Z"
   },
   {
    "duration": 73,
    "start_time": "2022-05-22T16:49:21.255Z"
   },
   {
    "duration": 27,
    "start_time": "2022-05-22T16:49:21.330Z"
   },
   {
    "duration": 33,
    "start_time": "2022-05-22T16:49:21.359Z"
   },
   {
    "duration": 44,
    "start_time": "2022-05-22T16:49:21.393Z"
   },
   {
    "duration": 50,
    "start_time": "2022-05-22T16:49:21.439Z"
   },
   {
    "duration": 5,
    "start_time": "2022-05-22T16:49:21.491Z"
   },
   {
    "duration": 4,
    "start_time": "2022-05-22T16:49:21.498Z"
   },
   {
    "duration": 5,
    "start_time": "2022-05-22T16:49:21.504Z"
   },
   {
    "duration": 5,
    "start_time": "2022-05-22T16:49:21.511Z"
   },
   {
    "duration": 4,
    "start_time": "2022-05-22T16:49:21.518Z"
   },
   {
    "duration": 60,
    "start_time": "2022-05-22T16:49:37.139Z"
   },
   {
    "duration": 1655,
    "start_time": "2022-05-22T16:49:42.335Z"
   },
   {
    "duration": 431,
    "start_time": "2022-05-22T16:49:43.992Z"
   },
   {
    "duration": 328,
    "start_time": "2022-05-22T16:49:44.426Z"
   },
   {
    "duration": 90,
    "start_time": "2022-05-22T16:49:44.756Z"
   },
   {
    "duration": 90,
    "start_time": "2022-05-22T16:49:44.849Z"
   },
   {
    "duration": 4,
    "start_time": "2022-05-22T16:49:44.941Z"
   },
   {
    "duration": 70,
    "start_time": "2022-05-22T16:49:44.947Z"
   },
   {
    "duration": 14,
    "start_time": "2022-05-22T16:49:45.019Z"
   },
   {
    "duration": 62,
    "start_time": "2022-05-22T16:49:45.035Z"
   },
   {
    "duration": 48,
    "start_time": "2022-05-22T16:49:45.099Z"
   },
   {
    "duration": 43,
    "start_time": "2022-05-22T16:49:45.149Z"
   },
   {
    "duration": 16,
    "start_time": "2022-05-22T16:49:45.194Z"
   },
   {
    "duration": 50,
    "start_time": "2022-05-22T16:49:45.212Z"
   },
   {
    "duration": 26,
    "start_time": "2022-05-22T16:49:45.283Z"
   },
   {
    "duration": 4,
    "start_time": "2022-05-22T16:49:45.310Z"
   },
   {
    "duration": 8,
    "start_time": "2022-05-22T16:49:45.317Z"
   },
   {
    "duration": 5,
    "start_time": "2022-05-22T16:49:45.327Z"
   },
   {
    "duration": 6,
    "start_time": "2022-05-22T16:49:45.333Z"
   },
   {
    "duration": 11,
    "start_time": "2022-05-22T16:49:45.341Z"
   },
   {
    "duration": 134,
    "start_time": "2022-05-22T16:49:45.354Z"
   },
   {
    "duration": 70,
    "start_time": "2022-05-22T16:49:45.490Z"
   },
   {
    "duration": 4474,
    "start_time": "2022-05-22T16:49:45.562Z"
   },
   {
    "duration": 4513,
    "start_time": "2022-05-22T16:49:50.038Z"
   },
   {
    "duration": 4272,
    "start_time": "2022-05-22T16:49:54.553Z"
   },
   {
    "duration": 7,
    "start_time": "2022-05-22T16:49:58.826Z"
   },
   {
    "duration": 39,
    "start_time": "2022-05-22T16:49:58.835Z"
   },
   {
    "duration": 44,
    "start_time": "2022-05-22T16:49:58.875Z"
   },
   {
    "duration": 262,
    "start_time": "2022-05-22T16:49:58.921Z"
   },
   {
    "duration": 153,
    "start_time": "2022-05-22T16:49:59.186Z"
   },
   {
    "duration": 231,
    "start_time": "2022-05-22T16:49:59.341Z"
   },
   {
    "duration": 152,
    "start_time": "2022-05-22T16:49:59.573Z"
   },
   {
    "duration": 40,
    "start_time": "2022-05-22T16:49:59.726Z"
   },
   {
    "duration": 228,
    "start_time": "2022-05-22T16:49:59.783Z"
   },
   {
    "duration": 160,
    "start_time": "2022-05-22T16:50:00.013Z"
   },
   {
    "duration": 226,
    "start_time": "2022-05-22T16:50:00.175Z"
   },
   {
    "duration": 142,
    "start_time": "2022-05-22T16:50:00.403Z"
   },
   {
    "duration": 48,
    "start_time": "2022-05-22T16:50:00.547Z"
   },
   {
    "duration": 255,
    "start_time": "2022-05-22T16:50:00.597Z"
   },
   {
    "duration": 152,
    "start_time": "2022-05-22T16:50:00.854Z"
   },
   {
    "duration": 211,
    "start_time": "2022-05-22T16:50:01.009Z"
   },
   {
    "duration": 146,
    "start_time": "2022-05-22T16:50:01.225Z"
   },
   {
    "duration": 350,
    "start_time": "2022-05-22T16:50:01.372Z"
   },
   {
    "duration": 314,
    "start_time": "2022-05-22T16:50:01.725Z"
   },
   {
    "duration": 452,
    "start_time": "2022-05-22T16:50:02.041Z"
   },
   {
    "duration": 271,
    "start_time": "2022-05-22T16:50:02.495Z"
   },
   {
    "duration": 311,
    "start_time": "2022-05-22T16:50:02.769Z"
   },
   {
    "duration": 273,
    "start_time": "2022-05-22T16:50:03.082Z"
   },
   {
    "duration": 287,
    "start_time": "2022-05-22T16:50:03.357Z"
   },
   {
    "duration": 405,
    "start_time": "2022-05-22T16:50:03.646Z"
   },
   {
    "duration": 0,
    "start_time": "2022-05-22T16:50:04.053Z"
   },
   {
    "duration": 0,
    "start_time": "2022-05-22T16:50:04.054Z"
   },
   {
    "duration": 0,
    "start_time": "2022-05-22T16:50:04.055Z"
   },
   {
    "duration": 0,
    "start_time": "2022-05-22T16:50:04.056Z"
   },
   {
    "duration": 0,
    "start_time": "2022-05-22T16:50:04.057Z"
   },
   {
    "duration": 0,
    "start_time": "2022-05-22T16:50:04.058Z"
   },
   {
    "duration": 4,
    "start_time": "2022-05-22T16:56:24.409Z"
   },
   {
    "duration": 83,
    "start_time": "2022-05-22T16:56:39.350Z"
   },
   {
    "duration": 13,
    "start_time": "2022-05-22T17:02:20.357Z"
   },
   {
    "duration": 14,
    "start_time": "2022-05-22T17:02:32.093Z"
   },
   {
    "duration": 81,
    "start_time": "2022-05-22T17:02:52.877Z"
   },
   {
    "duration": 90,
    "start_time": "2022-05-22T17:03:45.057Z"
   },
   {
    "duration": 46,
    "start_time": "2022-05-22T17:10:16.270Z"
   },
   {
    "duration": 5,
    "start_time": "2022-05-22T17:11:02.804Z"
   },
   {
    "duration": 1419,
    "start_time": "2022-05-22T17:12:03.764Z"
   },
   {
    "duration": 172,
    "start_time": "2022-05-22T17:12:05.185Z"
   },
   {
    "duration": 121,
    "start_time": "2022-05-22T17:12:05.359Z"
   },
   {
    "duration": 29,
    "start_time": "2022-05-22T17:12:05.484Z"
   },
   {
    "duration": 52,
    "start_time": "2022-05-22T17:12:05.516Z"
   },
   {
    "duration": 3,
    "start_time": "2022-05-22T17:12:05.569Z"
   },
   {
    "duration": 73,
    "start_time": "2022-05-22T17:12:05.573Z"
   },
   {
    "duration": 20,
    "start_time": "2022-05-22T17:12:05.648Z"
   },
   {
    "duration": 51,
    "start_time": "2022-05-22T17:12:05.679Z"
   },
   {
    "duration": 64,
    "start_time": "2022-05-22T17:12:05.732Z"
   },
   {
    "duration": 27,
    "start_time": "2022-05-22T17:12:05.798Z"
   },
   {
    "duration": 11,
    "start_time": "2022-05-22T17:12:05.827Z"
   },
   {
    "duration": 69,
    "start_time": "2022-05-22T17:12:05.840Z"
   },
   {
    "duration": 28,
    "start_time": "2022-05-22T17:12:05.914Z"
   },
   {
    "duration": 5,
    "start_time": "2022-05-22T17:12:05.944Z"
   },
   {
    "duration": 5,
    "start_time": "2022-05-22T17:12:05.951Z"
   },
   {
    "duration": 27,
    "start_time": "2022-05-22T17:12:05.957Z"
   },
   {
    "duration": 5,
    "start_time": "2022-05-22T17:12:05.986Z"
   },
   {
    "duration": 6,
    "start_time": "2022-05-22T17:12:05.994Z"
   },
   {
    "duration": 115,
    "start_time": "2022-05-22T17:12:06.002Z"
   },
   {
    "duration": 80,
    "start_time": "2022-05-22T17:12:06.122Z"
   },
   {
    "duration": 4686,
    "start_time": "2022-05-22T17:12:06.204Z"
   },
   {
    "duration": 4955,
    "start_time": "2022-05-22T17:12:10.892Z"
   },
   {
    "duration": 4417,
    "start_time": "2022-05-22T17:12:15.849Z"
   },
   {
    "duration": 14,
    "start_time": "2022-05-22T17:12:20.269Z"
   },
   {
    "duration": 33,
    "start_time": "2022-05-22T17:12:20.286Z"
   },
   {
    "duration": 86,
    "start_time": "2022-05-22T17:12:20.322Z"
   },
   {
    "duration": 310,
    "start_time": "2022-05-22T17:12:20.410Z"
   },
   {
    "duration": 177,
    "start_time": "2022-05-22T17:12:20.721Z"
   },
   {
    "duration": 352,
    "start_time": "2022-05-22T17:12:20.900Z"
   },
   {
    "duration": 159,
    "start_time": "2022-05-22T17:12:21.253Z"
   },
   {
    "duration": 35,
    "start_time": "2022-05-22T17:12:21.414Z"
   },
   {
    "duration": 272,
    "start_time": "2022-05-22T17:12:21.451Z"
   },
   {
    "duration": 156,
    "start_time": "2022-05-22T17:12:21.725Z"
   },
   {
    "duration": 242,
    "start_time": "2022-05-22T17:12:21.882Z"
   },
   {
    "duration": 187,
    "start_time": "2022-05-22T17:12:22.127Z"
   },
   {
    "duration": 49,
    "start_time": "2022-05-22T17:12:22.317Z"
   },
   {
    "duration": 262,
    "start_time": "2022-05-22T17:12:22.368Z"
   },
   {
    "duration": 211,
    "start_time": "2022-05-22T17:12:22.633Z"
   },
   {
    "duration": 211,
    "start_time": "2022-05-22T17:12:22.846Z"
   },
   {
    "duration": 155,
    "start_time": "2022-05-22T17:12:23.062Z"
   },
   {
    "duration": 385,
    "start_time": "2022-05-22T17:12:23.219Z"
   },
   {
    "duration": 326,
    "start_time": "2022-05-22T17:12:23.606Z"
   },
   {
    "duration": 537,
    "start_time": "2022-05-22T17:12:23.934Z"
   },
   {
    "duration": 355,
    "start_time": "2022-05-22T17:12:24.473Z"
   },
   {
    "duration": 333,
    "start_time": "2022-05-22T17:12:24.830Z"
   },
   {
    "duration": 276,
    "start_time": "2022-05-22T17:12:25.164Z"
   },
   {
    "duration": 369,
    "start_time": "2022-05-22T17:12:25.443Z"
   },
   {
    "duration": 436,
    "start_time": "2022-05-22T17:12:25.814Z"
   },
   {
    "duration": 0,
    "start_time": "2022-05-22T17:12:26.252Z"
   },
   {
    "duration": 0,
    "start_time": "2022-05-22T17:12:26.254Z"
   },
   {
    "duration": 0,
    "start_time": "2022-05-22T17:12:26.256Z"
   },
   {
    "duration": 0,
    "start_time": "2022-05-22T17:12:26.258Z"
   },
   {
    "duration": 0,
    "start_time": "2022-05-22T17:12:26.259Z"
   },
   {
    "duration": 0,
    "start_time": "2022-05-22T17:12:26.261Z"
   },
   {
    "duration": 1585,
    "start_time": "2022-05-22T17:31:36.737Z"
   },
   {
    "duration": 176,
    "start_time": "2022-05-22T17:31:38.325Z"
   },
   {
    "duration": 120,
    "start_time": "2022-05-22T17:31:38.503Z"
   },
   {
    "duration": 28,
    "start_time": "2022-05-22T17:31:38.625Z"
   },
   {
    "duration": 47,
    "start_time": "2022-05-22T17:31:38.655Z"
   },
   {
    "duration": 58,
    "start_time": "2022-05-22T17:31:38.704Z"
   },
   {
    "duration": 2,
    "start_time": "2022-05-22T17:31:38.764Z"
   },
   {
    "duration": 33,
    "start_time": "2022-05-22T17:31:38.768Z"
   },
   {
    "duration": 59,
    "start_time": "2022-05-22T17:31:38.803Z"
   },
   {
    "duration": 81,
    "start_time": "2022-05-22T17:31:38.865Z"
   },
   {
    "duration": 49,
    "start_time": "2022-05-22T17:31:38.948Z"
   },
   {
    "duration": 13,
    "start_time": "2022-05-22T17:31:38.999Z"
   },
   {
    "duration": 51,
    "start_time": "2022-05-22T17:31:39.013Z"
   },
   {
    "duration": 44,
    "start_time": "2022-05-22T17:31:39.065Z"
   },
   {
    "duration": 3,
    "start_time": "2022-05-22T17:31:39.111Z"
   },
   {
    "duration": 87,
    "start_time": "2022-05-22T17:31:39.116Z"
   },
   {
    "duration": 131,
    "start_time": "2022-05-22T17:31:39.205Z"
   },
   {
    "duration": 0,
    "start_time": "2022-05-22T17:31:39.339Z"
   },
   {
    "duration": 0,
    "start_time": "2022-05-22T17:31:39.341Z"
   },
   {
    "duration": 0,
    "start_time": "2022-05-22T17:31:39.342Z"
   },
   {
    "duration": 0,
    "start_time": "2022-05-22T17:31:39.344Z"
   },
   {
    "duration": 0,
    "start_time": "2022-05-22T17:31:39.345Z"
   },
   {
    "duration": 0,
    "start_time": "2022-05-22T17:31:39.347Z"
   },
   {
    "duration": 0,
    "start_time": "2022-05-22T17:31:39.348Z"
   },
   {
    "duration": 0,
    "start_time": "2022-05-22T17:31:39.350Z"
   },
   {
    "duration": 0,
    "start_time": "2022-05-22T17:31:39.354Z"
   },
   {
    "duration": 0,
    "start_time": "2022-05-22T17:31:39.356Z"
   },
   {
    "duration": 0,
    "start_time": "2022-05-22T17:31:39.383Z"
   },
   {
    "duration": 1,
    "start_time": "2022-05-22T17:31:39.384Z"
   },
   {
    "duration": 0,
    "start_time": "2022-05-22T17:31:39.385Z"
   },
   {
    "duration": 0,
    "start_time": "2022-05-22T17:31:39.386Z"
   },
   {
    "duration": 0,
    "start_time": "2022-05-22T17:31:39.387Z"
   },
   {
    "duration": 0,
    "start_time": "2022-05-22T17:31:39.388Z"
   },
   {
    "duration": 0,
    "start_time": "2022-05-22T17:31:39.388Z"
   },
   {
    "duration": 0,
    "start_time": "2022-05-22T17:31:39.389Z"
   },
   {
    "duration": 0,
    "start_time": "2022-05-22T17:31:39.390Z"
   },
   {
    "duration": 0,
    "start_time": "2022-05-22T17:31:39.390Z"
   },
   {
    "duration": 0,
    "start_time": "2022-05-22T17:31:39.391Z"
   },
   {
    "duration": 0,
    "start_time": "2022-05-22T17:31:39.391Z"
   },
   {
    "duration": 0,
    "start_time": "2022-05-22T17:31:39.392Z"
   },
   {
    "duration": 0,
    "start_time": "2022-05-22T17:31:39.393Z"
   },
   {
    "duration": 0,
    "start_time": "2022-05-22T17:31:39.394Z"
   },
   {
    "duration": 0,
    "start_time": "2022-05-22T17:31:39.395Z"
   },
   {
    "duration": 0,
    "start_time": "2022-05-22T17:31:39.396Z"
   },
   {
    "duration": 0,
    "start_time": "2022-05-22T17:31:39.397Z"
   },
   {
    "duration": 0,
    "start_time": "2022-05-22T17:31:39.397Z"
   },
   {
    "duration": 0,
    "start_time": "2022-05-22T17:31:39.398Z"
   },
   {
    "duration": 0,
    "start_time": "2022-05-22T17:31:39.399Z"
   },
   {
    "duration": 0,
    "start_time": "2022-05-22T17:31:39.402Z"
   },
   {
    "duration": 0,
    "start_time": "2022-05-22T17:31:39.403Z"
   },
   {
    "duration": 0,
    "start_time": "2022-05-22T17:31:39.404Z"
   },
   {
    "duration": 0,
    "start_time": "2022-05-22T17:31:39.405Z"
   },
   {
    "duration": 0,
    "start_time": "2022-05-22T17:31:39.406Z"
   },
   {
    "duration": 0,
    "start_time": "2022-05-22T17:31:39.407Z"
   },
   {
    "duration": 0,
    "start_time": "2022-05-22T17:31:39.409Z"
   },
   {
    "duration": 19,
    "start_time": "2022-05-22T17:33:27.568Z"
   },
   {
    "duration": 1436,
    "start_time": "2022-05-22T17:33:40.064Z"
   },
   {
    "duration": 170,
    "start_time": "2022-05-22T17:33:41.502Z"
   },
   {
    "duration": 140,
    "start_time": "2022-05-22T17:33:41.674Z"
   },
   {
    "duration": 28,
    "start_time": "2022-05-22T17:33:41.816Z"
   },
   {
    "duration": 46,
    "start_time": "2022-05-22T17:33:41.846Z"
   },
   {
    "duration": 58,
    "start_time": "2022-05-22T17:33:41.893Z"
   },
   {
    "duration": 3,
    "start_time": "2022-05-22T17:33:41.953Z"
   },
   {
    "duration": 14,
    "start_time": "2022-05-22T17:33:41.958Z"
   },
   {
    "duration": 66,
    "start_time": "2022-05-22T17:33:41.974Z"
   },
   {
    "duration": 77,
    "start_time": "2022-05-22T17:33:42.043Z"
   },
   {
    "duration": 26,
    "start_time": "2022-05-22T17:33:42.122Z"
   },
   {
    "duration": 13,
    "start_time": "2022-05-22T17:33:42.150Z"
   },
   {
    "duration": 63,
    "start_time": "2022-05-22T17:33:42.184Z"
   },
   {
    "duration": 44,
    "start_time": "2022-05-22T17:33:42.249Z"
   },
   {
    "duration": 4,
    "start_time": "2022-05-22T17:33:42.295Z"
   },
   {
    "duration": 93,
    "start_time": "2022-05-22T17:33:42.301Z"
   },
   {
    "duration": 121,
    "start_time": "2022-05-22T17:33:42.395Z"
   },
   {
    "duration": 0,
    "start_time": "2022-05-22T17:33:42.519Z"
   },
   {
    "duration": 0,
    "start_time": "2022-05-22T17:33:42.520Z"
   },
   {
    "duration": 0,
    "start_time": "2022-05-22T17:33:42.522Z"
   },
   {
    "duration": 0,
    "start_time": "2022-05-22T17:33:42.524Z"
   },
   {
    "duration": 0,
    "start_time": "2022-05-22T17:33:42.526Z"
   },
   {
    "duration": 0,
    "start_time": "2022-05-22T17:33:42.528Z"
   },
   {
    "duration": 0,
    "start_time": "2022-05-22T17:33:42.529Z"
   },
   {
    "duration": 0,
    "start_time": "2022-05-22T17:33:42.530Z"
   },
   {
    "duration": 0,
    "start_time": "2022-05-22T17:33:42.532Z"
   },
   {
    "duration": 0,
    "start_time": "2022-05-22T17:33:42.537Z"
   },
   {
    "duration": 0,
    "start_time": "2022-05-22T17:33:42.538Z"
   },
   {
    "duration": 0,
    "start_time": "2022-05-22T17:33:42.540Z"
   },
   {
    "duration": 0,
    "start_time": "2022-05-22T17:33:42.541Z"
   },
   {
    "duration": 0,
    "start_time": "2022-05-22T17:33:42.544Z"
   },
   {
    "duration": 0,
    "start_time": "2022-05-22T17:33:42.545Z"
   },
   {
    "duration": 0,
    "start_time": "2022-05-22T17:33:42.587Z"
   },
   {
    "duration": 0,
    "start_time": "2022-05-22T17:33:42.588Z"
   },
   {
    "duration": 0,
    "start_time": "2022-05-22T17:33:42.589Z"
   },
   {
    "duration": 0,
    "start_time": "2022-05-22T17:33:42.590Z"
   },
   {
    "duration": 0,
    "start_time": "2022-05-22T17:33:42.590Z"
   },
   {
    "duration": 0,
    "start_time": "2022-05-22T17:33:42.591Z"
   },
   {
    "duration": 0,
    "start_time": "2022-05-22T17:33:42.592Z"
   },
   {
    "duration": 0,
    "start_time": "2022-05-22T17:33:42.592Z"
   },
   {
    "duration": 0,
    "start_time": "2022-05-22T17:33:42.593Z"
   },
   {
    "duration": 0,
    "start_time": "2022-05-22T17:33:42.594Z"
   },
   {
    "duration": 0,
    "start_time": "2022-05-22T17:33:42.594Z"
   },
   {
    "duration": 0,
    "start_time": "2022-05-22T17:33:42.595Z"
   },
   {
    "duration": 0,
    "start_time": "2022-05-22T17:33:42.595Z"
   },
   {
    "duration": 0,
    "start_time": "2022-05-22T17:33:42.596Z"
   },
   {
    "duration": 0,
    "start_time": "2022-05-22T17:33:42.597Z"
   },
   {
    "duration": 0,
    "start_time": "2022-05-22T17:33:42.597Z"
   },
   {
    "duration": 0,
    "start_time": "2022-05-22T17:33:42.598Z"
   },
   {
    "duration": 0,
    "start_time": "2022-05-22T17:33:42.598Z"
   },
   {
    "duration": 0,
    "start_time": "2022-05-22T17:33:42.599Z"
   },
   {
    "duration": 0,
    "start_time": "2022-05-22T17:33:42.599Z"
   },
   {
    "duration": 0,
    "start_time": "2022-05-22T17:33:42.600Z"
   },
   {
    "duration": 0,
    "start_time": "2022-05-22T17:33:42.600Z"
   },
   {
    "duration": 0,
    "start_time": "2022-05-22T17:33:42.601Z"
   },
   {
    "duration": 1435,
    "start_time": "2022-05-22T17:34:56.421Z"
   },
   {
    "duration": 226,
    "start_time": "2022-05-22T17:34:57.859Z"
   },
   {
    "duration": 170,
    "start_time": "2022-05-22T17:34:58.087Z"
   },
   {
    "duration": 40,
    "start_time": "2022-05-22T17:34:58.260Z"
   },
   {
    "duration": 48,
    "start_time": "2022-05-22T17:34:58.302Z"
   },
   {
    "duration": 76,
    "start_time": "2022-05-22T17:34:58.351Z"
   },
   {
    "duration": 3,
    "start_time": "2022-05-22T17:34:58.429Z"
   },
   {
    "duration": 15,
    "start_time": "2022-05-22T17:34:58.434Z"
   },
   {
    "duration": 83,
    "start_time": "2022-05-22T17:34:58.450Z"
   },
   {
    "duration": 53,
    "start_time": "2022-05-22T17:34:58.535Z"
   },
   {
    "duration": 30,
    "start_time": "2022-05-22T17:34:58.597Z"
   },
   {
    "duration": 11,
    "start_time": "2022-05-22T17:34:58.629Z"
   },
   {
    "duration": 72,
    "start_time": "2022-05-22T17:34:58.642Z"
   },
   {
    "duration": 26,
    "start_time": "2022-05-22T17:34:58.716Z"
   },
   {
    "duration": 3,
    "start_time": "2022-05-22T17:34:58.744Z"
   },
   {
    "duration": 122,
    "start_time": "2022-05-22T17:34:58.749Z"
   },
   {
    "duration": 131,
    "start_time": "2022-05-22T17:34:58.873Z"
   },
   {
    "duration": 0,
    "start_time": "2022-05-22T17:34:59.006Z"
   },
   {
    "duration": 0,
    "start_time": "2022-05-22T17:34:59.008Z"
   },
   {
    "duration": 0,
    "start_time": "2022-05-22T17:34:59.009Z"
   },
   {
    "duration": 0,
    "start_time": "2022-05-22T17:34:59.012Z"
   },
   {
    "duration": 0,
    "start_time": "2022-05-22T17:34:59.013Z"
   },
   {
    "duration": 0,
    "start_time": "2022-05-22T17:34:59.014Z"
   },
   {
    "duration": 0,
    "start_time": "2022-05-22T17:34:59.015Z"
   },
   {
    "duration": 0,
    "start_time": "2022-05-22T17:34:59.016Z"
   },
   {
    "duration": 0,
    "start_time": "2022-05-22T17:34:59.017Z"
   },
   {
    "duration": 0,
    "start_time": "2022-05-22T17:34:59.018Z"
   },
   {
    "duration": 0,
    "start_time": "2022-05-22T17:34:59.019Z"
   },
   {
    "duration": 0,
    "start_time": "2022-05-22T17:34:59.020Z"
   },
   {
    "duration": 0,
    "start_time": "2022-05-22T17:34:59.022Z"
   },
   {
    "duration": 0,
    "start_time": "2022-05-22T17:34:59.024Z"
   },
   {
    "duration": 0,
    "start_time": "2022-05-22T17:34:59.025Z"
   },
   {
    "duration": 0,
    "start_time": "2022-05-22T17:34:59.026Z"
   },
   {
    "duration": 0,
    "start_time": "2022-05-22T17:34:59.028Z"
   },
   {
    "duration": 0,
    "start_time": "2022-05-22T17:34:59.029Z"
   },
   {
    "duration": 0,
    "start_time": "2022-05-22T17:34:59.031Z"
   },
   {
    "duration": 0,
    "start_time": "2022-05-22T17:34:59.032Z"
   },
   {
    "duration": 0,
    "start_time": "2022-05-22T17:34:59.033Z"
   },
   {
    "duration": 0,
    "start_time": "2022-05-22T17:34:59.034Z"
   },
   {
    "duration": 0,
    "start_time": "2022-05-22T17:34:59.035Z"
   },
   {
    "duration": 0,
    "start_time": "2022-05-22T17:34:59.036Z"
   },
   {
    "duration": 0,
    "start_time": "2022-05-22T17:34:59.085Z"
   },
   {
    "duration": 0,
    "start_time": "2022-05-22T17:34:59.085Z"
   },
   {
    "duration": 0,
    "start_time": "2022-05-22T17:34:59.086Z"
   },
   {
    "duration": 0,
    "start_time": "2022-05-22T17:34:59.087Z"
   },
   {
    "duration": 0,
    "start_time": "2022-05-22T17:34:59.087Z"
   },
   {
    "duration": 0,
    "start_time": "2022-05-22T17:34:59.088Z"
   },
   {
    "duration": 0,
    "start_time": "2022-05-22T17:34:59.089Z"
   },
   {
    "duration": 0,
    "start_time": "2022-05-22T17:34:59.090Z"
   },
   {
    "duration": 0,
    "start_time": "2022-05-22T17:34:59.091Z"
   },
   {
    "duration": 1,
    "start_time": "2022-05-22T17:34:59.091Z"
   },
   {
    "duration": 0,
    "start_time": "2022-05-22T17:34:59.092Z"
   },
   {
    "duration": 0,
    "start_time": "2022-05-22T17:34:59.093Z"
   },
   {
    "duration": 0,
    "start_time": "2022-05-22T17:34:59.094Z"
   },
   {
    "duration": 0,
    "start_time": "2022-05-22T17:34:59.094Z"
   },
   {
    "duration": 35,
    "start_time": "2022-05-22T17:35:44.371Z"
   },
   {
    "duration": 21,
    "start_time": "2022-05-22T17:36:05.293Z"
   },
   {
    "duration": 12,
    "start_time": "2022-05-22T17:36:18.891Z"
   },
   {
    "duration": 970,
    "start_time": "2022-05-22T17:36:27.875Z"
   },
   {
    "duration": 1460,
    "start_time": "2022-05-22T17:37:09.894Z"
   },
   {
    "duration": 180,
    "start_time": "2022-05-22T17:37:11.356Z"
   },
   {
    "duration": 123,
    "start_time": "2022-05-22T17:37:11.538Z"
   },
   {
    "duration": 29,
    "start_time": "2022-05-22T17:37:11.662Z"
   },
   {
    "duration": 54,
    "start_time": "2022-05-22T17:37:11.696Z"
   },
   {
    "duration": 63,
    "start_time": "2022-05-22T17:37:11.752Z"
   },
   {
    "duration": 3,
    "start_time": "2022-05-22T17:37:11.817Z"
   },
   {
    "duration": 22,
    "start_time": "2022-05-22T17:37:11.822Z"
   },
   {
    "duration": 92,
    "start_time": "2022-05-22T17:37:11.846Z"
   },
   {
    "duration": 70,
    "start_time": "2022-05-22T17:37:11.939Z"
   },
   {
    "duration": 27,
    "start_time": "2022-05-22T17:37:12.011Z"
   },
   {
    "duration": 16,
    "start_time": "2022-05-22T17:37:12.040Z"
   },
   {
    "duration": 65,
    "start_time": "2022-05-22T17:37:12.085Z"
   },
   {
    "duration": 39,
    "start_time": "2022-05-22T17:37:12.154Z"
   },
   {
    "duration": 4,
    "start_time": "2022-05-22T17:37:12.195Z"
   },
   {
    "duration": 96,
    "start_time": "2022-05-22T17:37:12.200Z"
   },
   {
    "duration": 125,
    "start_time": "2022-05-22T17:37:12.297Z"
   },
   {
    "duration": 0,
    "start_time": "2022-05-22T17:37:12.424Z"
   },
   {
    "duration": 0,
    "start_time": "2022-05-22T17:37:12.425Z"
   },
   {
    "duration": 0,
    "start_time": "2022-05-22T17:37:12.427Z"
   },
   {
    "duration": 0,
    "start_time": "2022-05-22T17:37:12.428Z"
   },
   {
    "duration": 0,
    "start_time": "2022-05-22T17:37:12.429Z"
   },
   {
    "duration": 0,
    "start_time": "2022-05-22T17:37:12.430Z"
   },
   {
    "duration": 0,
    "start_time": "2022-05-22T17:37:12.431Z"
   },
   {
    "duration": 0,
    "start_time": "2022-05-22T17:37:12.432Z"
   },
   {
    "duration": 0,
    "start_time": "2022-05-22T17:37:12.433Z"
   },
   {
    "duration": 0,
    "start_time": "2022-05-22T17:37:12.435Z"
   },
   {
    "duration": 0,
    "start_time": "2022-05-22T17:37:12.438Z"
   },
   {
    "duration": 0,
    "start_time": "2022-05-22T17:37:12.439Z"
   },
   {
    "duration": 0,
    "start_time": "2022-05-22T17:37:12.441Z"
   },
   {
    "duration": 0,
    "start_time": "2022-05-22T17:37:12.442Z"
   },
   {
    "duration": 0,
    "start_time": "2022-05-22T17:37:12.443Z"
   },
   {
    "duration": 0,
    "start_time": "2022-05-22T17:37:12.445Z"
   },
   {
    "duration": 0,
    "start_time": "2022-05-22T17:37:12.487Z"
   },
   {
    "duration": 0,
    "start_time": "2022-05-22T17:37:12.488Z"
   },
   {
    "duration": 0,
    "start_time": "2022-05-22T17:37:12.489Z"
   },
   {
    "duration": 0,
    "start_time": "2022-05-22T17:37:12.493Z"
   },
   {
    "duration": 0,
    "start_time": "2022-05-22T17:37:12.494Z"
   },
   {
    "duration": 0,
    "start_time": "2022-05-22T17:37:12.495Z"
   },
   {
    "duration": 0,
    "start_time": "2022-05-22T17:37:12.496Z"
   },
   {
    "duration": 0,
    "start_time": "2022-05-22T17:37:12.497Z"
   },
   {
    "duration": 0,
    "start_time": "2022-05-22T17:37:12.499Z"
   },
   {
    "duration": 0,
    "start_time": "2022-05-22T17:37:12.500Z"
   },
   {
    "duration": 0,
    "start_time": "2022-05-22T17:37:12.501Z"
   },
   {
    "duration": 0,
    "start_time": "2022-05-22T17:37:12.504Z"
   },
   {
    "duration": 0,
    "start_time": "2022-05-22T17:37:12.505Z"
   },
   {
    "duration": 0,
    "start_time": "2022-05-22T17:37:12.506Z"
   },
   {
    "duration": 0,
    "start_time": "2022-05-22T17:37:12.507Z"
   },
   {
    "duration": 0,
    "start_time": "2022-05-22T17:37:12.508Z"
   },
   {
    "duration": 0,
    "start_time": "2022-05-22T17:37:12.509Z"
   },
   {
    "duration": 0,
    "start_time": "2022-05-22T17:37:12.510Z"
   },
   {
    "duration": 0,
    "start_time": "2022-05-22T17:37:12.511Z"
   },
   {
    "duration": 0,
    "start_time": "2022-05-22T17:37:12.512Z"
   },
   {
    "duration": 0,
    "start_time": "2022-05-22T17:37:12.513Z"
   },
   {
    "duration": 0,
    "start_time": "2022-05-22T17:37:12.514Z"
   },
   {
    "duration": 19,
    "start_time": "2022-05-22T17:37:28.054Z"
   },
   {
    "duration": 1482,
    "start_time": "2022-05-22T17:37:37.857Z"
   },
   {
    "duration": 194,
    "start_time": "2022-05-22T17:37:39.342Z"
   },
   {
    "duration": 121,
    "start_time": "2022-05-22T17:37:39.538Z"
   },
   {
    "duration": 38,
    "start_time": "2022-05-22T17:37:39.661Z"
   },
   {
    "duration": 44,
    "start_time": "2022-05-22T17:37:39.703Z"
   },
   {
    "duration": 61,
    "start_time": "2022-05-22T17:37:39.749Z"
   },
   {
    "duration": 3,
    "start_time": "2022-05-22T17:37:39.812Z"
   },
   {
    "duration": 16,
    "start_time": "2022-05-22T17:37:39.817Z"
   },
   {
    "duration": 68,
    "start_time": "2022-05-22T17:37:39.834Z"
   },
   {
    "duration": 60,
    "start_time": "2022-05-22T17:37:39.905Z"
   },
   {
    "duration": 46,
    "start_time": "2022-05-22T17:37:39.966Z"
   },
   {
    "duration": 13,
    "start_time": "2022-05-22T17:37:40.014Z"
   },
   {
    "duration": 76,
    "start_time": "2022-05-22T17:37:40.029Z"
   },
   {
    "duration": 24,
    "start_time": "2022-05-22T17:37:40.108Z"
   },
   {
    "duration": 4,
    "start_time": "2022-05-22T17:37:40.133Z"
   },
   {
    "duration": 103,
    "start_time": "2022-05-22T17:37:40.138Z"
   },
   {
    "duration": 123,
    "start_time": "2022-05-22T17:37:40.243Z"
   },
   {
    "duration": 0,
    "start_time": "2022-05-22T17:37:40.368Z"
   },
   {
    "duration": 0,
    "start_time": "2022-05-22T17:37:40.369Z"
   },
   {
    "duration": 0,
    "start_time": "2022-05-22T17:37:40.370Z"
   },
   {
    "duration": 0,
    "start_time": "2022-05-22T17:37:40.371Z"
   },
   {
    "duration": 0,
    "start_time": "2022-05-22T17:37:40.372Z"
   },
   {
    "duration": 0,
    "start_time": "2022-05-22T17:37:40.385Z"
   },
   {
    "duration": 0,
    "start_time": "2022-05-22T17:37:40.385Z"
   },
   {
    "duration": 0,
    "start_time": "2022-05-22T17:37:40.386Z"
   },
   {
    "duration": 0,
    "start_time": "2022-05-22T17:37:40.387Z"
   },
   {
    "duration": 0,
    "start_time": "2022-05-22T17:37:40.387Z"
   },
   {
    "duration": 0,
    "start_time": "2022-05-22T17:37:40.389Z"
   },
   {
    "duration": 0,
    "start_time": "2022-05-22T17:37:40.392Z"
   },
   {
    "duration": 0,
    "start_time": "2022-05-22T17:37:40.393Z"
   },
   {
    "duration": 0,
    "start_time": "2022-05-22T17:37:40.394Z"
   },
   {
    "duration": 0,
    "start_time": "2022-05-22T17:37:40.395Z"
   },
   {
    "duration": 0,
    "start_time": "2022-05-22T17:37:40.396Z"
   },
   {
    "duration": 0,
    "start_time": "2022-05-22T17:37:40.397Z"
   },
   {
    "duration": 0,
    "start_time": "2022-05-22T17:37:40.397Z"
   },
   {
    "duration": 0,
    "start_time": "2022-05-22T17:37:40.398Z"
   },
   {
    "duration": 0,
    "start_time": "2022-05-22T17:37:40.399Z"
   },
   {
    "duration": 0,
    "start_time": "2022-05-22T17:37:40.404Z"
   },
   {
    "duration": 0,
    "start_time": "2022-05-22T17:37:40.405Z"
   },
   {
    "duration": 0,
    "start_time": "2022-05-22T17:37:40.406Z"
   },
   {
    "duration": 0,
    "start_time": "2022-05-22T17:37:40.407Z"
   },
   {
    "duration": 0,
    "start_time": "2022-05-22T17:37:40.408Z"
   },
   {
    "duration": 0,
    "start_time": "2022-05-22T17:37:40.409Z"
   },
   {
    "duration": 0,
    "start_time": "2022-05-22T17:37:40.411Z"
   },
   {
    "duration": 0,
    "start_time": "2022-05-22T17:37:40.412Z"
   },
   {
    "duration": 0,
    "start_time": "2022-05-22T17:37:40.413Z"
   },
   {
    "duration": 0,
    "start_time": "2022-05-22T17:37:40.414Z"
   },
   {
    "duration": 0,
    "start_time": "2022-05-22T17:37:40.415Z"
   },
   {
    "duration": 0,
    "start_time": "2022-05-22T17:37:40.416Z"
   },
   {
    "duration": 0,
    "start_time": "2022-05-22T17:37:40.417Z"
   },
   {
    "duration": 0,
    "start_time": "2022-05-22T17:37:40.418Z"
   },
   {
    "duration": 0,
    "start_time": "2022-05-22T17:37:40.420Z"
   },
   {
    "duration": 1,
    "start_time": "2022-05-22T17:37:40.420Z"
   },
   {
    "duration": 0,
    "start_time": "2022-05-22T17:37:40.421Z"
   },
   {
    "duration": 0,
    "start_time": "2022-05-22T17:37:40.422Z"
   },
   {
    "duration": 13,
    "start_time": "2022-05-22T17:38:40.901Z"
   },
   {
    "duration": 16,
    "start_time": "2022-05-22T17:39:08.990Z"
   },
   {
    "duration": 2080,
    "start_time": "2022-05-22T17:40:05.799Z"
   },
   {
    "duration": 1599,
    "start_time": "2022-05-22T17:40:45.355Z"
   },
   {
    "duration": 208,
    "start_time": "2022-05-22T17:40:46.956Z"
   },
   {
    "duration": 141,
    "start_time": "2022-05-22T17:40:47.166Z"
   },
   {
    "duration": 30,
    "start_time": "2022-05-22T17:40:47.312Z"
   },
   {
    "duration": 49,
    "start_time": "2022-05-22T17:40:47.344Z"
   },
   {
    "duration": 8,
    "start_time": "2022-05-22T17:40:47.394Z"
   },
   {
    "duration": 4,
    "start_time": "2022-05-22T17:40:47.405Z"
   },
   {
    "duration": 22,
    "start_time": "2022-05-22T17:40:47.410Z"
   },
   {
    "duration": 194,
    "start_time": "2022-05-22T17:40:47.434Z"
   },
   {
    "duration": 0,
    "start_time": "2022-05-22T17:40:47.632Z"
   },
   {
    "duration": 0,
    "start_time": "2022-05-22T17:40:47.633Z"
   },
   {
    "duration": 0,
    "start_time": "2022-05-22T17:40:47.634Z"
   },
   {
    "duration": 0,
    "start_time": "2022-05-22T17:40:47.636Z"
   },
   {
    "duration": 0,
    "start_time": "2022-05-22T17:40:47.637Z"
   },
   {
    "duration": 0,
    "start_time": "2022-05-22T17:40:47.638Z"
   },
   {
    "duration": 0,
    "start_time": "2022-05-22T17:40:47.641Z"
   },
   {
    "duration": 0,
    "start_time": "2022-05-22T17:40:47.642Z"
   },
   {
    "duration": 0,
    "start_time": "2022-05-22T17:40:47.643Z"
   },
   {
    "duration": 0,
    "start_time": "2022-05-22T17:40:47.644Z"
   },
   {
    "duration": 0,
    "start_time": "2022-05-22T17:40:47.645Z"
   },
   {
    "duration": 0,
    "start_time": "2022-05-22T17:40:47.647Z"
   },
   {
    "duration": 0,
    "start_time": "2022-05-22T17:40:47.648Z"
   },
   {
    "duration": 0,
    "start_time": "2022-05-22T17:40:47.650Z"
   },
   {
    "duration": 0,
    "start_time": "2022-05-22T17:40:47.651Z"
   },
   {
    "duration": 0,
    "start_time": "2022-05-22T17:40:47.652Z"
   },
   {
    "duration": 0,
    "start_time": "2022-05-22T17:40:47.685Z"
   },
   {
    "duration": 0,
    "start_time": "2022-05-22T17:40:47.696Z"
   },
   {
    "duration": 0,
    "start_time": "2022-05-22T17:40:47.697Z"
   },
   {
    "duration": 0,
    "start_time": "2022-05-22T17:40:47.698Z"
   },
   {
    "duration": 0,
    "start_time": "2022-05-22T17:40:47.699Z"
   },
   {
    "duration": 0,
    "start_time": "2022-05-22T17:40:47.700Z"
   },
   {
    "duration": 0,
    "start_time": "2022-05-22T17:40:47.701Z"
   },
   {
    "duration": 0,
    "start_time": "2022-05-22T17:40:47.702Z"
   },
   {
    "duration": 0,
    "start_time": "2022-05-22T17:40:47.703Z"
   },
   {
    "duration": 0,
    "start_time": "2022-05-22T17:40:47.704Z"
   },
   {
    "duration": 1,
    "start_time": "2022-05-22T17:40:47.705Z"
   },
   {
    "duration": 0,
    "start_time": "2022-05-22T17:40:47.706Z"
   },
   {
    "duration": 0,
    "start_time": "2022-05-22T17:40:47.707Z"
   },
   {
    "duration": 0,
    "start_time": "2022-05-22T17:40:47.708Z"
   },
   {
    "duration": 0,
    "start_time": "2022-05-22T17:40:47.709Z"
   },
   {
    "duration": 0,
    "start_time": "2022-05-22T17:40:47.710Z"
   },
   {
    "duration": 0,
    "start_time": "2022-05-22T17:40:47.711Z"
   },
   {
    "duration": 0,
    "start_time": "2022-05-22T17:40:47.712Z"
   },
   {
    "duration": 0,
    "start_time": "2022-05-22T17:40:47.713Z"
   },
   {
    "duration": 0,
    "start_time": "2022-05-22T17:40:47.715Z"
   },
   {
    "duration": 0,
    "start_time": "2022-05-22T17:40:47.716Z"
   },
   {
    "duration": 0,
    "start_time": "2022-05-22T17:40:47.718Z"
   },
   {
    "duration": 0,
    "start_time": "2022-05-22T17:40:47.718Z"
   },
   {
    "duration": 0,
    "start_time": "2022-05-22T17:40:47.719Z"
   },
   {
    "duration": 0,
    "start_time": "2022-05-22T17:40:47.720Z"
   },
   {
    "duration": 0,
    "start_time": "2022-05-22T17:40:47.721Z"
   },
   {
    "duration": 0,
    "start_time": "2022-05-22T17:40:47.722Z"
   },
   {
    "duration": 0,
    "start_time": "2022-05-22T17:40:47.723Z"
   },
   {
    "duration": 0,
    "start_time": "2022-05-22T17:40:47.725Z"
   },
   {
    "duration": 0,
    "start_time": "2022-05-22T17:40:47.727Z"
   },
   {
    "duration": 1510,
    "start_time": "2022-05-22T17:41:27.190Z"
   },
   {
    "duration": 170,
    "start_time": "2022-05-22T17:41:28.702Z"
   },
   {
    "duration": 126,
    "start_time": "2022-05-22T17:41:28.874Z"
   },
   {
    "duration": 27,
    "start_time": "2022-05-22T17:41:29.003Z"
   },
   {
    "duration": 41,
    "start_time": "2022-05-22T17:41:29.031Z"
   },
   {
    "duration": 64,
    "start_time": "2022-05-22T17:41:29.073Z"
   },
   {
    "duration": 2,
    "start_time": "2022-05-22T17:41:29.139Z"
   },
   {
    "duration": 16,
    "start_time": "2022-05-22T17:41:29.143Z"
   },
   {
    "duration": 77,
    "start_time": "2022-05-22T17:41:29.161Z"
   },
   {
    "duration": 70,
    "start_time": "2022-05-22T17:41:29.241Z"
   },
   {
    "duration": 28,
    "start_time": "2022-05-22T17:41:29.313Z"
   },
   {
    "duration": 13,
    "start_time": "2022-05-22T17:41:29.342Z"
   },
   {
    "duration": 81,
    "start_time": "2022-05-22T17:41:29.357Z"
   },
   {
    "duration": 23,
    "start_time": "2022-05-22T17:41:29.439Z"
   },
   {
    "duration": 28,
    "start_time": "2022-05-22T17:41:29.464Z"
   },
   {
    "duration": 73,
    "start_time": "2022-05-22T17:41:29.497Z"
   },
   {
    "duration": 138,
    "start_time": "2022-05-22T17:41:29.572Z"
   },
   {
    "duration": 0,
    "start_time": "2022-05-22T17:41:29.712Z"
   },
   {
    "duration": 0,
    "start_time": "2022-05-22T17:41:29.714Z"
   },
   {
    "duration": 0,
    "start_time": "2022-05-22T17:41:29.715Z"
   },
   {
    "duration": 0,
    "start_time": "2022-05-22T17:41:29.716Z"
   },
   {
    "duration": 0,
    "start_time": "2022-05-22T17:41:29.717Z"
   },
   {
    "duration": 0,
    "start_time": "2022-05-22T17:41:29.718Z"
   },
   {
    "duration": 0,
    "start_time": "2022-05-22T17:41:29.719Z"
   },
   {
    "duration": 0,
    "start_time": "2022-05-22T17:41:29.721Z"
   },
   {
    "duration": 0,
    "start_time": "2022-05-22T17:41:29.721Z"
   },
   {
    "duration": 0,
    "start_time": "2022-05-22T17:41:29.725Z"
   },
   {
    "duration": 0,
    "start_time": "2022-05-22T17:41:29.727Z"
   },
   {
    "duration": 0,
    "start_time": "2022-05-22T17:41:29.728Z"
   },
   {
    "duration": 0,
    "start_time": "2022-05-22T17:41:29.730Z"
   },
   {
    "duration": 0,
    "start_time": "2022-05-22T17:41:29.731Z"
   },
   {
    "duration": 0,
    "start_time": "2022-05-22T17:41:29.733Z"
   },
   {
    "duration": 0,
    "start_time": "2022-05-22T17:41:29.734Z"
   },
   {
    "duration": 0,
    "start_time": "2022-05-22T17:41:29.736Z"
   },
   {
    "duration": 0,
    "start_time": "2022-05-22T17:41:29.737Z"
   },
   {
    "duration": 0,
    "start_time": "2022-05-22T17:41:29.739Z"
   },
   {
    "duration": 0,
    "start_time": "2022-05-22T17:41:29.740Z"
   },
   {
    "duration": 0,
    "start_time": "2022-05-22T17:41:29.784Z"
   },
   {
    "duration": 0,
    "start_time": "2022-05-22T17:41:29.785Z"
   },
   {
    "duration": 0,
    "start_time": "2022-05-22T17:41:29.786Z"
   },
   {
    "duration": 0,
    "start_time": "2022-05-22T17:41:29.789Z"
   },
   {
    "duration": 0,
    "start_time": "2022-05-22T17:41:29.789Z"
   },
   {
    "duration": 0,
    "start_time": "2022-05-22T17:41:29.790Z"
   },
   {
    "duration": 0,
    "start_time": "2022-05-22T17:41:29.791Z"
   },
   {
    "duration": 0,
    "start_time": "2022-05-22T17:41:29.791Z"
   },
   {
    "duration": 0,
    "start_time": "2022-05-22T17:41:29.792Z"
   },
   {
    "duration": 0,
    "start_time": "2022-05-22T17:41:29.793Z"
   },
   {
    "duration": 0,
    "start_time": "2022-05-22T17:41:29.793Z"
   },
   {
    "duration": 0,
    "start_time": "2022-05-22T17:41:29.794Z"
   },
   {
    "duration": 0,
    "start_time": "2022-05-22T17:41:29.794Z"
   },
   {
    "duration": 0,
    "start_time": "2022-05-22T17:41:29.795Z"
   },
   {
    "duration": 0,
    "start_time": "2022-05-22T17:41:29.796Z"
   },
   {
    "duration": 0,
    "start_time": "2022-05-22T17:41:29.796Z"
   },
   {
    "duration": 0,
    "start_time": "2022-05-22T17:41:29.797Z"
   },
   {
    "duration": 0,
    "start_time": "2022-05-22T17:41:29.798Z"
   },
   {
    "duration": 18,
    "start_time": "2022-05-22T17:41:53.392Z"
   },
   {
    "duration": 16,
    "start_time": "2022-05-22T17:42:50.741Z"
   },
   {
    "duration": 26,
    "start_time": "2022-05-22T17:43:56.882Z"
   },
   {
    "duration": 790,
    "start_time": "2022-05-22T17:44:02.886Z"
   },
   {
    "duration": 1383,
    "start_time": "2022-05-22T17:44:22.118Z"
   },
   {
    "duration": 177,
    "start_time": "2022-05-22T17:44:23.503Z"
   },
   {
    "duration": 137,
    "start_time": "2022-05-22T17:44:23.683Z"
   },
   {
    "duration": 28,
    "start_time": "2022-05-22T17:44:23.822Z"
   },
   {
    "duration": 49,
    "start_time": "2022-05-22T17:44:23.852Z"
   },
   {
    "duration": 61,
    "start_time": "2022-05-22T17:44:23.902Z"
   },
   {
    "duration": 2,
    "start_time": "2022-05-22T17:44:23.966Z"
   },
   {
    "duration": 33,
    "start_time": "2022-05-22T17:44:23.969Z"
   },
   {
    "duration": 43,
    "start_time": "2022-05-22T17:44:24.003Z"
   },
   {
    "duration": 72,
    "start_time": "2022-05-22T17:44:24.050Z"
   },
   {
    "duration": 29,
    "start_time": "2022-05-22T17:44:24.124Z"
   },
   {
    "duration": 32,
    "start_time": "2022-05-22T17:44:24.155Z"
   },
   {
    "duration": 64,
    "start_time": "2022-05-22T17:44:24.191Z"
   },
   {
    "duration": 44,
    "start_time": "2022-05-22T17:44:24.257Z"
   },
   {
    "duration": 4,
    "start_time": "2022-05-22T17:44:24.303Z"
   },
   {
    "duration": 21,
    "start_time": "2022-05-22T17:44:24.309Z"
   },
   {
    "duration": 133,
    "start_time": "2022-05-22T17:44:24.332Z"
   },
   {
    "duration": 0,
    "start_time": "2022-05-22T17:44:24.468Z"
   },
   {
    "duration": 0,
    "start_time": "2022-05-22T17:44:24.469Z"
   },
   {
    "duration": 0,
    "start_time": "2022-05-22T17:44:24.471Z"
   },
   {
    "duration": 0,
    "start_time": "2022-05-22T17:44:24.472Z"
   },
   {
    "duration": 0,
    "start_time": "2022-05-22T17:44:24.473Z"
   },
   {
    "duration": 0,
    "start_time": "2022-05-22T17:44:24.473Z"
   },
   {
    "duration": 0,
    "start_time": "2022-05-22T17:44:24.474Z"
   },
   {
    "duration": 0,
    "start_time": "2022-05-22T17:44:24.474Z"
   },
   {
    "duration": 0,
    "start_time": "2022-05-22T17:44:24.484Z"
   },
   {
    "duration": 0,
    "start_time": "2022-05-22T17:44:24.485Z"
   },
   {
    "duration": 0,
    "start_time": "2022-05-22T17:44:24.486Z"
   },
   {
    "duration": 0,
    "start_time": "2022-05-22T17:44:24.486Z"
   },
   {
    "duration": 0,
    "start_time": "2022-05-22T17:44:24.495Z"
   },
   {
    "duration": 0,
    "start_time": "2022-05-22T17:44:24.497Z"
   },
   {
    "duration": 0,
    "start_time": "2022-05-22T17:44:24.500Z"
   },
   {
    "duration": 0,
    "start_time": "2022-05-22T17:44:24.501Z"
   },
   {
    "duration": 0,
    "start_time": "2022-05-22T17:44:24.502Z"
   },
   {
    "duration": 0,
    "start_time": "2022-05-22T17:44:24.504Z"
   },
   {
    "duration": 0,
    "start_time": "2022-05-22T17:44:24.505Z"
   },
   {
    "duration": 0,
    "start_time": "2022-05-22T17:44:24.506Z"
   },
   {
    "duration": 0,
    "start_time": "2022-05-22T17:44:24.508Z"
   },
   {
    "duration": 0,
    "start_time": "2022-05-22T17:44:24.510Z"
   },
   {
    "duration": 0,
    "start_time": "2022-05-22T17:44:24.511Z"
   },
   {
    "duration": 0,
    "start_time": "2022-05-22T17:44:24.513Z"
   },
   {
    "duration": 1,
    "start_time": "2022-05-22T17:44:24.514Z"
   },
   {
    "duration": 1,
    "start_time": "2022-05-22T17:44:24.516Z"
   },
   {
    "duration": 0,
    "start_time": "2022-05-22T17:44:24.518Z"
   },
   {
    "duration": 0,
    "start_time": "2022-05-22T17:44:24.519Z"
   },
   {
    "duration": 0,
    "start_time": "2022-05-22T17:44:24.521Z"
   },
   {
    "duration": 0,
    "start_time": "2022-05-22T17:44:24.522Z"
   },
   {
    "duration": 0,
    "start_time": "2022-05-22T17:44:24.523Z"
   },
   {
    "duration": 0,
    "start_time": "2022-05-22T17:44:24.524Z"
   },
   {
    "duration": 0,
    "start_time": "2022-05-22T17:44:24.525Z"
   },
   {
    "duration": 0,
    "start_time": "2022-05-22T17:44:24.526Z"
   },
   {
    "duration": 0,
    "start_time": "2022-05-22T17:44:24.528Z"
   },
   {
    "duration": 0,
    "start_time": "2022-05-22T17:44:24.583Z"
   },
   {
    "duration": 0,
    "start_time": "2022-05-22T17:44:24.587Z"
   },
   {
    "duration": 0,
    "start_time": "2022-05-22T17:44:24.587Z"
   },
   {
    "duration": 19,
    "start_time": "2022-05-22T17:45:18.919Z"
   },
   {
    "duration": 476,
    "start_time": "2022-05-22T17:45:46.221Z"
   },
   {
    "duration": 1452,
    "start_time": "2022-05-22T17:46:03.152Z"
   },
   {
    "duration": 187,
    "start_time": "2022-05-22T17:46:04.606Z"
   },
   {
    "duration": 118,
    "start_time": "2022-05-22T17:46:04.798Z"
   },
   {
    "duration": 27,
    "start_time": "2022-05-22T17:46:04.919Z"
   },
   {
    "duration": 47,
    "start_time": "2022-05-22T17:46:04.948Z"
   },
   {
    "duration": 60,
    "start_time": "2022-05-22T17:46:05.001Z"
   },
   {
    "duration": 3,
    "start_time": "2022-05-22T17:46:05.063Z"
   },
   {
    "duration": 28,
    "start_time": "2022-05-22T17:46:05.068Z"
   },
   {
    "duration": 40,
    "start_time": "2022-05-22T17:46:05.098Z"
   },
   {
    "duration": 79,
    "start_time": "2022-05-22T17:46:05.141Z"
   },
   {
    "duration": 25,
    "start_time": "2022-05-22T17:46:05.222Z"
   },
   {
    "duration": 11,
    "start_time": "2022-05-22T17:46:05.249Z"
   },
   {
    "duration": 81,
    "start_time": "2022-05-22T17:46:05.262Z"
   },
   {
    "duration": 39,
    "start_time": "2022-05-22T17:46:05.345Z"
   },
   {
    "duration": 5,
    "start_time": "2022-05-22T17:46:05.390Z"
   },
   {
    "duration": 31,
    "start_time": "2022-05-22T17:46:05.401Z"
   },
   {
    "duration": 162,
    "start_time": "2022-05-22T17:46:05.434Z"
   },
   {
    "duration": 0,
    "start_time": "2022-05-22T17:46:05.598Z"
   },
   {
    "duration": 0,
    "start_time": "2022-05-22T17:46:05.599Z"
   },
   {
    "duration": 0,
    "start_time": "2022-05-22T17:46:05.601Z"
   },
   {
    "duration": 0,
    "start_time": "2022-05-22T17:46:05.602Z"
   },
   {
    "duration": 0,
    "start_time": "2022-05-22T17:46:05.603Z"
   },
   {
    "duration": 0,
    "start_time": "2022-05-22T17:46:05.604Z"
   },
   {
    "duration": 0,
    "start_time": "2022-05-22T17:46:05.606Z"
   },
   {
    "duration": 0,
    "start_time": "2022-05-22T17:46:05.607Z"
   },
   {
    "duration": 0,
    "start_time": "2022-05-22T17:46:05.608Z"
   },
   {
    "duration": 0,
    "start_time": "2022-05-22T17:46:05.611Z"
   },
   {
    "duration": 0,
    "start_time": "2022-05-22T17:46:05.612Z"
   },
   {
    "duration": 0,
    "start_time": "2022-05-22T17:46:05.613Z"
   },
   {
    "duration": 0,
    "start_time": "2022-05-22T17:46:05.614Z"
   },
   {
    "duration": 0,
    "start_time": "2022-05-22T17:46:05.615Z"
   },
   {
    "duration": 0,
    "start_time": "2022-05-22T17:46:05.616Z"
   },
   {
    "duration": 0,
    "start_time": "2022-05-22T17:46:05.617Z"
   },
   {
    "duration": 0,
    "start_time": "2022-05-22T17:46:05.618Z"
   },
   {
    "duration": 0,
    "start_time": "2022-05-22T17:46:05.619Z"
   },
   {
    "duration": 0,
    "start_time": "2022-05-22T17:46:05.621Z"
   },
   {
    "duration": 0,
    "start_time": "2022-05-22T17:46:05.622Z"
   },
   {
    "duration": 0,
    "start_time": "2022-05-22T17:46:05.623Z"
   },
   {
    "duration": 0,
    "start_time": "2022-05-22T17:46:05.623Z"
   },
   {
    "duration": 0,
    "start_time": "2022-05-22T17:46:05.625Z"
   },
   {
    "duration": 0,
    "start_time": "2022-05-22T17:46:05.626Z"
   },
   {
    "duration": 0,
    "start_time": "2022-05-22T17:46:05.627Z"
   },
   {
    "duration": 0,
    "start_time": "2022-05-22T17:46:05.628Z"
   },
   {
    "duration": 0,
    "start_time": "2022-05-22T17:46:05.629Z"
   },
   {
    "duration": 0,
    "start_time": "2022-05-22T17:46:05.630Z"
   },
   {
    "duration": 0,
    "start_time": "2022-05-22T17:46:05.631Z"
   },
   {
    "duration": 0,
    "start_time": "2022-05-22T17:46:05.633Z"
   },
   {
    "duration": 0,
    "start_time": "2022-05-22T17:46:05.685Z"
   },
   {
    "duration": 0,
    "start_time": "2022-05-22T17:46:05.697Z"
   },
   {
    "duration": 0,
    "start_time": "2022-05-22T17:46:05.697Z"
   },
   {
    "duration": 0,
    "start_time": "2022-05-22T17:46:05.698Z"
   },
   {
    "duration": 0,
    "start_time": "2022-05-22T17:46:05.699Z"
   },
   {
    "duration": 0,
    "start_time": "2022-05-22T17:46:05.699Z"
   },
   {
    "duration": 0,
    "start_time": "2022-05-22T17:46:05.702Z"
   },
   {
    "duration": 0,
    "start_time": "2022-05-22T17:46:05.703Z"
   },
   {
    "duration": 1407,
    "start_time": "2022-05-22T17:46:39.936Z"
   },
   {
    "duration": 175,
    "start_time": "2022-05-22T17:46:41.345Z"
   },
   {
    "duration": 117,
    "start_time": "2022-05-22T17:46:41.522Z"
   },
   {
    "duration": 28,
    "start_time": "2022-05-22T17:46:41.641Z"
   },
   {
    "duration": 45,
    "start_time": "2022-05-22T17:46:41.671Z"
   },
   {
    "duration": 55,
    "start_time": "2022-05-22T17:46:41.718Z"
   },
   {
    "duration": 3,
    "start_time": "2022-05-22T17:46:41.775Z"
   },
   {
    "duration": 17,
    "start_time": "2022-05-22T17:46:41.784Z"
   },
   {
    "duration": 41,
    "start_time": "2022-05-22T17:46:41.803Z"
   },
   {
    "duration": 83,
    "start_time": "2022-05-22T17:46:41.848Z"
   },
   {
    "duration": 25,
    "start_time": "2022-05-22T17:46:41.933Z"
   },
   {
    "duration": 32,
    "start_time": "2022-05-22T17:46:41.960Z"
   },
   {
    "duration": 57,
    "start_time": "2022-05-22T17:46:41.994Z"
   },
   {
    "duration": 49,
    "start_time": "2022-05-22T17:46:42.053Z"
   },
   {
    "duration": 3,
    "start_time": "2022-05-22T17:46:42.104Z"
   },
   {
    "duration": 29,
    "start_time": "2022-05-22T17:46:42.109Z"
   },
   {
    "duration": 122,
    "start_time": "2022-05-22T17:46:42.139Z"
   },
   {
    "duration": 0,
    "start_time": "2022-05-22T17:46:42.264Z"
   },
   {
    "duration": 0,
    "start_time": "2022-05-22T17:46:42.265Z"
   },
   {
    "duration": 0,
    "start_time": "2022-05-22T17:46:42.266Z"
   },
   {
    "duration": 0,
    "start_time": "2022-05-22T17:46:42.267Z"
   },
   {
    "duration": 0,
    "start_time": "2022-05-22T17:46:42.268Z"
   },
   {
    "duration": 0,
    "start_time": "2022-05-22T17:46:42.269Z"
   },
   {
    "duration": 0,
    "start_time": "2022-05-22T17:46:42.270Z"
   },
   {
    "duration": 0,
    "start_time": "2022-05-22T17:46:42.270Z"
   },
   {
    "duration": 0,
    "start_time": "2022-05-22T17:46:42.283Z"
   },
   {
    "duration": 0,
    "start_time": "2022-05-22T17:46:42.284Z"
   },
   {
    "duration": 0,
    "start_time": "2022-05-22T17:46:42.285Z"
   },
   {
    "duration": 0,
    "start_time": "2022-05-22T17:46:42.286Z"
   },
   {
    "duration": 0,
    "start_time": "2022-05-22T17:46:42.287Z"
   },
   {
    "duration": 0,
    "start_time": "2022-05-22T17:46:42.288Z"
   },
   {
    "duration": 0,
    "start_time": "2022-05-22T17:46:42.288Z"
   },
   {
    "duration": 0,
    "start_time": "2022-05-22T17:46:42.291Z"
   },
   {
    "duration": 0,
    "start_time": "2022-05-22T17:46:42.292Z"
   },
   {
    "duration": 0,
    "start_time": "2022-05-22T17:46:42.293Z"
   },
   {
    "duration": 0,
    "start_time": "2022-05-22T17:46:42.294Z"
   },
   {
    "duration": 0,
    "start_time": "2022-05-22T17:46:42.294Z"
   },
   {
    "duration": 0,
    "start_time": "2022-05-22T17:46:42.295Z"
   },
   {
    "duration": 0,
    "start_time": "2022-05-22T17:46:42.296Z"
   },
   {
    "duration": 0,
    "start_time": "2022-05-22T17:46:42.296Z"
   },
   {
    "duration": 0,
    "start_time": "2022-05-22T17:46:42.297Z"
   },
   {
    "duration": 0,
    "start_time": "2022-05-22T17:46:42.301Z"
   },
   {
    "duration": 0,
    "start_time": "2022-05-22T17:46:42.303Z"
   },
   {
    "duration": 0,
    "start_time": "2022-05-22T17:46:42.304Z"
   },
   {
    "duration": 0,
    "start_time": "2022-05-22T17:46:42.305Z"
   },
   {
    "duration": 0,
    "start_time": "2022-05-22T17:46:42.307Z"
   },
   {
    "duration": 0,
    "start_time": "2022-05-22T17:46:42.308Z"
   },
   {
    "duration": 0,
    "start_time": "2022-05-22T17:46:42.309Z"
   },
   {
    "duration": 0,
    "start_time": "2022-05-22T17:46:42.310Z"
   },
   {
    "duration": 0,
    "start_time": "2022-05-22T17:46:42.312Z"
   },
   {
    "duration": 0,
    "start_time": "2022-05-22T17:46:42.314Z"
   },
   {
    "duration": 0,
    "start_time": "2022-05-22T17:46:42.315Z"
   },
   {
    "duration": 0,
    "start_time": "2022-05-22T17:46:42.316Z"
   },
   {
    "duration": 0,
    "start_time": "2022-05-22T17:46:42.318Z"
   },
   {
    "duration": 0,
    "start_time": "2022-05-22T17:46:42.320Z"
   },
   {
    "duration": 39,
    "start_time": "2022-05-22T17:47:38.376Z"
   },
   {
    "duration": 1427,
    "start_time": "2022-05-22T17:50:04.176Z"
   },
   {
    "duration": 184,
    "start_time": "2022-05-22T17:50:05.606Z"
   },
   {
    "duration": 118,
    "start_time": "2022-05-22T17:50:05.792Z"
   },
   {
    "duration": 27,
    "start_time": "2022-05-22T17:50:05.912Z"
   },
   {
    "duration": 41,
    "start_time": "2022-05-22T17:50:05.942Z"
   },
   {
    "duration": 64,
    "start_time": "2022-05-22T17:50:06.000Z"
   },
   {
    "duration": 2,
    "start_time": "2022-05-22T17:50:06.066Z"
   },
   {
    "duration": 28,
    "start_time": "2022-05-22T17:50:06.070Z"
   },
   {
    "duration": 44,
    "start_time": "2022-05-22T17:50:06.100Z"
   },
   {
    "duration": 70,
    "start_time": "2022-05-22T17:50:06.146Z"
   },
   {
    "duration": 24,
    "start_time": "2022-05-22T17:50:06.218Z"
   },
   {
    "duration": 11,
    "start_time": "2022-05-22T17:50:06.243Z"
   },
   {
    "duration": 83,
    "start_time": "2022-05-22T17:50:06.256Z"
   },
   {
    "duration": 51,
    "start_time": "2022-05-22T17:50:06.341Z"
   },
   {
    "duration": 6,
    "start_time": "2022-05-22T17:50:06.394Z"
   },
   {
    "duration": 21,
    "start_time": "2022-05-22T17:50:06.401Z"
   },
   {
    "duration": 34,
    "start_time": "2022-05-22T17:50:06.424Z"
   },
   {
    "duration": 72,
    "start_time": "2022-05-22T17:50:06.460Z"
   },
   {
    "duration": 78,
    "start_time": "2022-05-22T17:50:06.534Z"
   },
   {
    "duration": 132,
    "start_time": "2022-05-22T17:50:06.613Z"
   },
   {
    "duration": 0,
    "start_time": "2022-05-22T17:50:06.749Z"
   },
   {
    "duration": 0,
    "start_time": "2022-05-22T17:50:06.750Z"
   },
   {
    "duration": 0,
    "start_time": "2022-05-22T17:50:06.753Z"
   },
   {
    "duration": 0,
    "start_time": "2022-05-22T17:50:06.754Z"
   },
   {
    "duration": 0,
    "start_time": "2022-05-22T17:50:06.755Z"
   },
   {
    "duration": 0,
    "start_time": "2022-05-22T17:50:06.757Z"
   },
   {
    "duration": 0,
    "start_time": "2022-05-22T17:50:06.759Z"
   },
   {
    "duration": 0,
    "start_time": "2022-05-22T17:50:06.760Z"
   },
   {
    "duration": 0,
    "start_time": "2022-05-22T17:50:06.761Z"
   },
   {
    "duration": 0,
    "start_time": "2022-05-22T17:50:06.762Z"
   },
   {
    "duration": 0,
    "start_time": "2022-05-22T17:50:06.785Z"
   },
   {
    "duration": 0,
    "start_time": "2022-05-22T17:50:06.786Z"
   },
   {
    "duration": 0,
    "start_time": "2022-05-22T17:50:06.788Z"
   },
   {
    "duration": 0,
    "start_time": "2022-05-22T17:50:06.789Z"
   },
   {
    "duration": 0,
    "start_time": "2022-05-22T17:50:06.790Z"
   },
   {
    "duration": 0,
    "start_time": "2022-05-22T17:50:06.792Z"
   },
   {
    "duration": 0,
    "start_time": "2022-05-22T17:50:06.792Z"
   },
   {
    "duration": 0,
    "start_time": "2022-05-22T17:50:06.793Z"
   },
   {
    "duration": 0,
    "start_time": "2022-05-22T17:50:06.793Z"
   },
   {
    "duration": 0,
    "start_time": "2022-05-22T17:50:06.797Z"
   },
   {
    "duration": 0,
    "start_time": "2022-05-22T17:50:06.797Z"
   },
   {
    "duration": 0,
    "start_time": "2022-05-22T17:50:06.798Z"
   },
   {
    "duration": 0,
    "start_time": "2022-05-22T17:50:06.800Z"
   },
   {
    "duration": 0,
    "start_time": "2022-05-22T17:50:06.803Z"
   },
   {
    "duration": 0,
    "start_time": "2022-05-22T17:50:06.806Z"
   },
   {
    "duration": 0,
    "start_time": "2022-05-22T17:50:06.807Z"
   },
   {
    "duration": 0,
    "start_time": "2022-05-22T17:50:06.808Z"
   },
   {
    "duration": 0,
    "start_time": "2022-05-22T17:50:06.808Z"
   },
   {
    "duration": 0,
    "start_time": "2022-05-22T17:50:06.810Z"
   },
   {
    "duration": 0,
    "start_time": "2022-05-22T17:50:06.812Z"
   },
   {
    "duration": 0,
    "start_time": "2022-05-22T17:50:06.814Z"
   },
   {
    "duration": 0,
    "start_time": "2022-05-22T17:50:06.815Z"
   },
   {
    "duration": 0,
    "start_time": "2022-05-22T17:50:06.817Z"
   },
   {
    "duration": 0,
    "start_time": "2022-05-22T17:50:06.818Z"
   },
   {
    "duration": 0,
    "start_time": "2022-05-22T17:50:06.819Z"
   },
   {
    "duration": 23,
    "start_time": "2022-05-22T17:51:30.379Z"
   },
   {
    "duration": 1464,
    "start_time": "2022-05-22T17:51:47.451Z"
   },
   {
    "duration": 181,
    "start_time": "2022-05-22T17:51:48.917Z"
   },
   {
    "duration": 117,
    "start_time": "2022-05-22T17:51:49.099Z"
   },
   {
    "duration": 27,
    "start_time": "2022-05-22T17:51:49.218Z"
   },
   {
    "duration": 51,
    "start_time": "2022-05-22T17:51:49.247Z"
   },
   {
    "duration": 69,
    "start_time": "2022-05-22T17:51:49.300Z"
   },
   {
    "duration": 2,
    "start_time": "2022-05-22T17:51:49.371Z"
   },
   {
    "duration": 25,
    "start_time": "2022-05-22T17:51:49.375Z"
   },
   {
    "duration": 54,
    "start_time": "2022-05-22T17:51:49.401Z"
   },
   {
    "duration": 80,
    "start_time": "2022-05-22T17:51:49.458Z"
   },
   {
    "duration": 24,
    "start_time": "2022-05-22T17:51:49.540Z"
   },
   {
    "duration": 25,
    "start_time": "2022-05-22T17:51:49.565Z"
   },
   {
    "duration": 53,
    "start_time": "2022-05-22T17:51:49.593Z"
   },
   {
    "duration": 50,
    "start_time": "2022-05-22T17:51:49.648Z"
   },
   {
    "duration": 4,
    "start_time": "2022-05-22T17:51:49.700Z"
   },
   {
    "duration": 92,
    "start_time": "2022-05-22T17:51:49.706Z"
   },
   {
    "duration": 433,
    "start_time": "2022-05-22T17:51:49.799Z"
   },
   {
    "duration": 1030,
    "start_time": "2022-05-22T17:51:50.234Z"
   },
   {
    "duration": 1161,
    "start_time": "2022-05-22T17:51:51.266Z"
   },
   {
    "duration": 5,
    "start_time": "2022-05-22T17:51:52.429Z"
   },
   {
    "duration": 30,
    "start_time": "2022-05-22T17:51:52.435Z"
   },
   {
    "duration": 1843,
    "start_time": "2022-05-22T17:52:56.506Z"
   },
   {
    "duration": 425,
    "start_time": "2022-05-22T17:52:58.351Z"
   },
   {
    "duration": 304,
    "start_time": "2022-05-22T17:52:58.778Z"
   },
   {
    "duration": 80,
    "start_time": "2022-05-22T17:52:59.084Z"
   },
   {
    "duration": 82,
    "start_time": "2022-05-22T17:52:59.165Z"
   },
   {
    "duration": 53,
    "start_time": "2022-05-22T17:52:59.249Z"
   },
   {
    "duration": 2,
    "start_time": "2022-05-22T17:52:59.304Z"
   },
   {
    "duration": 17,
    "start_time": "2022-05-22T17:52:59.308Z"
   },
   {
    "duration": 69,
    "start_time": "2022-05-22T17:52:59.326Z"
   },
   {
    "duration": 55,
    "start_time": "2022-05-22T17:52:59.398Z"
   },
   {
    "duration": 34,
    "start_time": "2022-05-22T17:52:59.455Z"
   },
   {
    "duration": 11,
    "start_time": "2022-05-22T17:52:59.491Z"
   },
   {
    "duration": 52,
    "start_time": "2022-05-22T17:52:59.504Z"
   },
   {
    "duration": 45,
    "start_time": "2022-05-22T17:52:59.557Z"
   },
   {
    "duration": 3,
    "start_time": "2022-05-22T17:52:59.604Z"
   },
   {
    "duration": 88,
    "start_time": "2022-05-22T17:52:59.608Z"
   },
   {
    "duration": 430,
    "start_time": "2022-05-22T17:52:59.697Z"
   },
   {
    "duration": 988,
    "start_time": "2022-05-22T17:53:00.129Z"
   },
   {
    "duration": 1176,
    "start_time": "2022-05-22T17:53:01.118Z"
   },
   {
    "duration": 3,
    "start_time": "2022-05-22T17:53:02.295Z"
   },
   {
    "duration": 16,
    "start_time": "2022-05-22T17:53:02.299Z"
   },
   {
    "duration": 58,
    "start_time": "2022-05-22T17:54:03.372Z"
   },
   {
    "duration": 1759,
    "start_time": "2022-05-22T17:54:09.897Z"
   },
   {
    "duration": 416,
    "start_time": "2022-05-22T17:54:11.658Z"
   },
   {
    "duration": 299,
    "start_time": "2022-05-22T17:54:12.076Z"
   },
   {
    "duration": 88,
    "start_time": "2022-05-22T17:54:12.377Z"
   },
   {
    "duration": 79,
    "start_time": "2022-05-22T17:54:12.467Z"
   },
   {
    "duration": 57,
    "start_time": "2022-05-22T17:54:12.548Z"
   },
   {
    "duration": 2,
    "start_time": "2022-05-22T17:54:12.607Z"
   },
   {
    "duration": 15,
    "start_time": "2022-05-22T17:54:12.611Z"
   },
   {
    "duration": 65,
    "start_time": "2022-05-22T17:54:12.628Z"
   },
   {
    "duration": 57,
    "start_time": "2022-05-22T17:54:12.696Z"
   },
   {
    "duration": 43,
    "start_time": "2022-05-22T17:54:12.755Z"
   },
   {
    "duration": 10,
    "start_time": "2022-05-22T17:54:12.800Z"
   },
   {
    "duration": 52,
    "start_time": "2022-05-22T17:54:12.812Z"
   },
   {
    "duration": 21,
    "start_time": "2022-05-22T17:54:12.884Z"
   },
   {
    "duration": 3,
    "start_time": "2022-05-22T17:54:12.907Z"
   },
   {
    "duration": 127,
    "start_time": "2022-05-22T17:54:12.912Z"
   },
   {
    "duration": 0,
    "start_time": "2022-05-22T17:54:13.042Z"
   },
   {
    "duration": 0,
    "start_time": "2022-05-22T17:54:13.043Z"
   },
   {
    "duration": 0,
    "start_time": "2022-05-22T17:54:13.044Z"
   },
   {
    "duration": 0,
    "start_time": "2022-05-22T17:54:13.046Z"
   },
   {
    "duration": 0,
    "start_time": "2022-05-22T17:54:13.047Z"
   },
   {
    "duration": 0,
    "start_time": "2022-05-22T17:54:13.048Z"
   },
   {
    "duration": 0,
    "start_time": "2022-05-22T17:54:13.049Z"
   },
   {
    "duration": 0,
    "start_time": "2022-05-22T17:54:13.050Z"
   },
   {
    "duration": 0,
    "start_time": "2022-05-22T17:54:13.051Z"
   },
   {
    "duration": 0,
    "start_time": "2022-05-22T17:54:13.052Z"
   },
   {
    "duration": 0,
    "start_time": "2022-05-22T17:54:13.053Z"
   },
   {
    "duration": 0,
    "start_time": "2022-05-22T17:54:13.054Z"
   },
   {
    "duration": 0,
    "start_time": "2022-05-22T17:54:13.055Z"
   },
   {
    "duration": 0,
    "start_time": "2022-05-22T17:54:13.083Z"
   },
   {
    "duration": 0,
    "start_time": "2022-05-22T17:54:13.085Z"
   },
   {
    "duration": 0,
    "start_time": "2022-05-22T17:54:13.086Z"
   },
   {
    "duration": 0,
    "start_time": "2022-05-22T17:54:13.087Z"
   },
   {
    "duration": 0,
    "start_time": "2022-05-22T17:54:13.091Z"
   },
   {
    "duration": 0,
    "start_time": "2022-05-22T17:54:13.092Z"
   },
   {
    "duration": 0,
    "start_time": "2022-05-22T17:54:13.094Z"
   },
   {
    "duration": 0,
    "start_time": "2022-05-22T17:54:13.095Z"
   },
   {
    "duration": 0,
    "start_time": "2022-05-22T17:54:13.097Z"
   },
   {
    "duration": 0,
    "start_time": "2022-05-22T17:54:13.098Z"
   },
   {
    "duration": 0,
    "start_time": "2022-05-22T17:54:13.099Z"
   },
   {
    "duration": 0,
    "start_time": "2022-05-22T17:54:13.100Z"
   },
   {
    "duration": 0,
    "start_time": "2022-05-22T17:54:13.101Z"
   },
   {
    "duration": 0,
    "start_time": "2022-05-22T17:54:13.103Z"
   },
   {
    "duration": 0,
    "start_time": "2022-05-22T17:54:13.104Z"
   },
   {
    "duration": 0,
    "start_time": "2022-05-22T17:54:13.105Z"
   },
   {
    "duration": 0,
    "start_time": "2022-05-22T17:54:13.107Z"
   },
   {
    "duration": 0,
    "start_time": "2022-05-22T17:54:13.108Z"
   },
   {
    "duration": 0,
    "start_time": "2022-05-22T17:54:13.109Z"
   },
   {
    "duration": 0,
    "start_time": "2022-05-22T17:54:13.111Z"
   },
   {
    "duration": 0,
    "start_time": "2022-05-22T17:54:13.112Z"
   },
   {
    "duration": 0,
    "start_time": "2022-05-22T17:54:13.113Z"
   },
   {
    "duration": 0,
    "start_time": "2022-05-22T17:54:13.115Z"
   },
   {
    "duration": 0,
    "start_time": "2022-05-22T17:54:13.116Z"
   },
   {
    "duration": 0,
    "start_time": "2022-05-22T17:54:13.118Z"
   },
   {
    "duration": 0,
    "start_time": "2022-05-22T17:54:13.119Z"
   },
   {
    "duration": 1454,
    "start_time": "2022-05-25T17:12:29.391Z"
   },
   {
    "duration": 207,
    "start_time": "2022-05-25T17:12:30.847Z"
   },
   {
    "duration": 140,
    "start_time": "2022-05-25T17:12:31.059Z"
   },
   {
    "duration": 26,
    "start_time": "2022-05-25T17:12:31.202Z"
   },
   {
    "duration": 57,
    "start_time": "2022-05-25T17:12:31.230Z"
   },
   {
    "duration": 75,
    "start_time": "2022-05-25T17:12:31.289Z"
   },
   {
    "duration": 4,
    "start_time": "2022-05-25T17:12:31.373Z"
   },
   {
    "duration": 43,
    "start_time": "2022-05-25T17:12:31.378Z"
   },
   {
    "duration": 51,
    "start_time": "2022-05-25T17:12:31.422Z"
   },
   {
    "duration": 77,
    "start_time": "2022-05-25T17:12:31.476Z"
   },
   {
    "duration": 43,
    "start_time": "2022-05-25T17:12:31.554Z"
   },
   {
    "duration": 22,
    "start_time": "2022-05-25T17:12:31.599Z"
   },
   {
    "duration": 65,
    "start_time": "2022-05-25T17:12:31.623Z"
   },
   {
    "duration": 31,
    "start_time": "2022-05-25T17:12:31.692Z"
   },
   {
    "duration": 4,
    "start_time": "2022-05-25T17:12:31.724Z"
   },
   {
    "duration": 32,
    "start_time": "2022-05-25T17:12:31.729Z"
   },
   {
    "duration": 21,
    "start_time": "2022-05-25T17:12:31.763Z"
   },
   {
    "duration": 46,
    "start_time": "2022-05-25T17:12:31.791Z"
   },
   {
    "duration": 54,
    "start_time": "2022-05-25T17:12:31.838Z"
   },
   {
    "duration": 34,
    "start_time": "2022-05-25T17:12:31.894Z"
   },
   {
    "duration": 14,
    "start_time": "2022-05-25T17:12:31.930Z"
   },
   {
    "duration": 349,
    "start_time": "2022-05-25T17:12:31.945Z"
   },
   {
    "duration": 386,
    "start_time": "2022-05-25T17:12:32.298Z"
   },
   {
    "duration": 291,
    "start_time": "2022-05-25T17:12:32.687Z"
   },
   {
    "duration": 10,
    "start_time": "2022-05-25T17:12:32.979Z"
   },
   {
    "duration": 20,
    "start_time": "2022-05-25T17:12:32.993Z"
   },
   {
    "duration": 21,
    "start_time": "2022-05-25T17:12:33.015Z"
   },
   {
    "duration": 280,
    "start_time": "2022-05-25T17:12:33.039Z"
   },
   {
    "duration": 199,
    "start_time": "2022-05-25T17:12:33.320Z"
   },
   {
    "duration": 223,
    "start_time": "2022-05-25T17:12:33.520Z"
   },
   {
    "duration": 168,
    "start_time": "2022-05-25T17:12:33.744Z"
   },
   {
    "duration": 20,
    "start_time": "2022-05-25T17:12:33.919Z"
   },
   {
    "duration": 230,
    "start_time": "2022-05-25T17:12:33.941Z"
   },
   {
    "duration": 156,
    "start_time": "2022-05-25T17:12:34.176Z"
   },
   {
    "duration": 260,
    "start_time": "2022-05-25T17:12:34.333Z"
   },
   {
    "duration": 134,
    "start_time": "2022-05-25T17:12:34.598Z"
   },
   {
    "duration": 15,
    "start_time": "2022-05-25T17:12:34.734Z"
   },
   {
    "duration": 222,
    "start_time": "2022-05-25T17:12:34.751Z"
   },
   {
    "duration": 238,
    "start_time": "2022-05-25T17:12:34.977Z"
   },
   {
    "duration": 187,
    "start_time": "2022-05-25T17:12:35.217Z"
   },
   {
    "duration": 138,
    "start_time": "2022-05-25T17:12:35.405Z"
   },
   {
    "duration": 287,
    "start_time": "2022-05-25T17:12:35.545Z"
   },
   {
    "duration": 180,
    "start_time": "2022-05-25T17:12:35.833Z"
   },
   {
    "duration": 274,
    "start_time": "2022-05-25T17:12:36.015Z"
   },
   {
    "duration": 197,
    "start_time": "2022-05-25T17:12:36.296Z"
   },
   {
    "duration": 278,
    "start_time": "2022-05-25T17:12:36.497Z"
   },
   {
    "duration": 238,
    "start_time": "2022-05-25T17:12:36.776Z"
   },
   {
    "duration": 217,
    "start_time": "2022-05-25T17:12:37.016Z"
   },
   {
    "duration": 433,
    "start_time": "2022-05-25T17:12:37.234Z"
   },
   {
    "duration": 0,
    "start_time": "2022-05-25T17:12:37.672Z"
   },
   {
    "duration": 0,
    "start_time": "2022-05-25T17:12:37.673Z"
   },
   {
    "duration": 0,
    "start_time": "2022-05-25T17:12:37.674Z"
   },
   {
    "duration": 0,
    "start_time": "2022-05-25T17:12:37.676Z"
   },
   {
    "duration": 0,
    "start_time": "2022-05-25T17:12:37.682Z"
   },
   {
    "duration": 0,
    "start_time": "2022-05-25T17:12:37.682Z"
   },
   {
    "duration": 21,
    "start_time": "2022-05-25T17:14:00.188Z"
   },
   {
    "duration": 1449,
    "start_time": "2022-05-25T17:14:07.930Z"
   },
   {
    "duration": 172,
    "start_time": "2022-05-25T17:14:09.385Z"
   },
   {
    "duration": 135,
    "start_time": "2022-05-25T17:14:09.559Z"
   },
   {
    "duration": 30,
    "start_time": "2022-05-25T17:14:09.696Z"
   },
   {
    "duration": 45,
    "start_time": "2022-05-25T17:14:09.729Z"
   },
   {
    "duration": 61,
    "start_time": "2022-05-25T17:14:09.780Z"
   },
   {
    "duration": 2,
    "start_time": "2022-05-25T17:14:09.843Z"
   },
   {
    "duration": 80,
    "start_time": "2022-05-25T17:14:09.847Z"
   },
   {
    "duration": 50,
    "start_time": "2022-05-25T17:14:09.928Z"
   },
   {
    "duration": 70,
    "start_time": "2022-05-25T17:14:09.985Z"
   },
   {
    "duration": 38,
    "start_time": "2022-05-25T17:14:10.056Z"
   },
   {
    "duration": 26,
    "start_time": "2022-05-25T17:14:10.099Z"
   },
   {
    "duration": 77,
    "start_time": "2022-05-25T17:14:10.127Z"
   },
   {
    "duration": 46,
    "start_time": "2022-05-25T17:14:10.208Z"
   },
   {
    "duration": 14,
    "start_time": "2022-05-25T17:14:10.256Z"
   },
   {
    "duration": 67,
    "start_time": "2022-05-25T17:14:10.272Z"
   },
   {
    "duration": 23,
    "start_time": "2022-05-25T17:14:10.342Z"
   },
   {
    "duration": 48,
    "start_time": "2022-05-25T17:14:10.367Z"
   },
   {
    "duration": 52,
    "start_time": "2022-05-25T17:14:10.416Z"
   },
   {
    "duration": 29,
    "start_time": "2022-05-25T17:14:10.470Z"
   },
   {
    "duration": 12,
    "start_time": "2022-05-25T17:14:10.501Z"
   },
   {
    "duration": 93,
    "start_time": "2022-05-25T17:14:10.515Z"
   },
   {
    "duration": 86,
    "start_time": "2022-05-25T17:14:10.610Z"
   },
   {
    "duration": 96,
    "start_time": "2022-05-25T17:14:10.699Z"
   },
   {
    "duration": 5,
    "start_time": "2022-05-25T17:14:10.799Z"
   },
   {
    "duration": 28,
    "start_time": "2022-05-25T17:14:10.808Z"
   },
   {
    "duration": 23,
    "start_time": "2022-05-25T17:14:10.838Z"
   },
   {
    "duration": 438,
    "start_time": "2022-05-25T17:14:10.863Z"
   },
   {
    "duration": 195,
    "start_time": "2022-05-25T17:14:11.305Z"
   },
   {
    "duration": 268,
    "start_time": "2022-05-25T17:14:11.502Z"
   },
   {
    "duration": 199,
    "start_time": "2022-05-25T17:14:11.774Z"
   },
   {
    "duration": 30,
    "start_time": "2022-05-25T17:14:11.977Z"
   },
   {
    "duration": 256,
    "start_time": "2022-05-25T17:14:12.009Z"
   },
   {
    "duration": 165,
    "start_time": "2022-05-25T17:14:12.266Z"
   },
   {
    "duration": 201,
    "start_time": "2022-05-25T17:14:12.433Z"
   },
   {
    "duration": 167,
    "start_time": "2022-05-25T17:14:12.637Z"
   },
   {
    "duration": 17,
    "start_time": "2022-05-25T17:14:12.805Z"
   },
   {
    "duration": 320,
    "start_time": "2022-05-25T17:14:12.824Z"
   },
   {
    "duration": 337,
    "start_time": "2022-05-25T17:14:13.146Z"
   },
   {
    "duration": 240,
    "start_time": "2022-05-25T17:14:13.485Z"
   },
   {
    "duration": 222,
    "start_time": "2022-05-25T17:14:13.737Z"
   },
   {
    "duration": 401,
    "start_time": "2022-05-25T17:14:13.964Z"
   },
   {
    "duration": 254,
    "start_time": "2022-05-25T17:14:14.367Z"
   },
   {
    "duration": 483,
    "start_time": "2022-05-25T17:14:14.623Z"
   },
   {
    "duration": 280,
    "start_time": "2022-05-25T17:14:15.108Z"
   },
   {
    "duration": 520,
    "start_time": "2022-05-25T17:14:15.398Z"
   },
   {
    "duration": 388,
    "start_time": "2022-05-25T17:14:15.922Z"
   },
   {
    "duration": 142,
    "start_time": "2022-05-25T17:14:16.312Z"
   },
   {
    "duration": 369,
    "start_time": "2022-05-25T17:14:16.456Z"
   },
   {
    "duration": 0,
    "start_time": "2022-05-25T17:14:16.827Z"
   },
   {
    "duration": 0,
    "start_time": "2022-05-25T17:14:16.828Z"
   },
   {
    "duration": 0,
    "start_time": "2022-05-25T17:14:16.830Z"
   },
   {
    "duration": 0,
    "start_time": "2022-05-25T17:14:16.831Z"
   },
   {
    "duration": 0,
    "start_time": "2022-05-25T17:14:16.832Z"
   },
   {
    "duration": 0,
    "start_time": "2022-05-25T17:14:16.834Z"
   },
   {
    "duration": 259,
    "start_time": "2022-05-25T17:16:36.450Z"
   },
   {
    "duration": 127,
    "start_time": "2022-05-25T17:22:15.399Z"
   },
   {
    "duration": 279,
    "start_time": "2022-05-25T17:22:47.692Z"
   },
   {
    "duration": 42,
    "start_time": "2022-05-25T17:22:50.803Z"
   },
   {
    "duration": 331,
    "start_time": "2022-05-25T17:23:24.426Z"
   },
   {
    "duration": 378,
    "start_time": "2022-05-25T17:23:45.370Z"
   },
   {
    "duration": 433,
    "start_time": "2022-05-25T17:24:30.337Z"
   },
   {
    "duration": 351,
    "start_time": "2022-05-25T17:25:11.931Z"
   },
   {
    "duration": 371,
    "start_time": "2022-05-25T17:25:31.612Z"
   },
   {
    "duration": 12,
    "start_time": "2022-05-25T17:25:39.548Z"
   },
   {
    "duration": 6,
    "start_time": "2022-05-25T17:25:41.514Z"
   },
   {
    "duration": 13,
    "start_time": "2022-05-25T17:25:55.685Z"
   },
   {
    "duration": 7,
    "start_time": "2022-05-25T17:25:57.801Z"
   }
  ],
  "kernelspec": {
   "display_name": "Python 3 (ipykernel)",
   "language": "python",
   "name": "python3"
  },
  "language_info": {
   "codemirror_mode": {
    "name": "ipython",
    "version": 3
   },
   "file_extension": ".py",
   "mimetype": "text/x-python",
   "name": "python",
   "nbconvert_exporter": "python",
   "pygments_lexer": "ipython3",
   "version": "3.9.5"
  },
  "toc": {
   "base_numbering": 1,
   "nav_menu": {},
   "number_sections": true,
   "sideBar": true,
   "skip_h1_title": true,
   "title_cell": "Table of Contents",
   "title_sidebar": "Contents",
   "toc_cell": false,
   "toc_position": {},
   "toc_section_display": true,
   "toc_window_display": false
  }
 },
 "nbformat": 4,
 "nbformat_minor": 2
}
