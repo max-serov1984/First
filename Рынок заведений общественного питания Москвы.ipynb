{
 "cells": [
  {
   "cell_type": "markdown",
   "metadata": {},
   "source": [
    "# Проект по теме: \"Как рассказать историю с помощью данных\""
   ]
  },
  {
   "cell_type": "markdown",
   "metadata": {
    "toc": true
   },
   "source": [
    "<h1>Table of Contents<span class=\"tocSkip\"></span></h1>\n",
    "<div class=\"toc\"><ul class=\"toc-item\"><li><span><a href=\"#Загрузка-данных\" data-toc-modified-id=\"Загрузка-данных-1\"><span class=\"toc-item-num\">1&nbsp;&nbsp;</span>Загрузка данных</a></span></li><li><span><a href=\"#Предобработка-данных\" data-toc-modified-id=\"Предобработка-данных-2\"><span class=\"toc-item-num\">2&nbsp;&nbsp;</span>Предобработка данных</a></span></li><li><span><a href=\"#Анализ-данных\" data-toc-modified-id=\"Анализ-данных-3\"><span class=\"toc-item-num\">3&nbsp;&nbsp;</span>Анализ данных</a></span><ul class=\"toc-item\"><li><span><a href=\"#Соотношение-видов-объектов-общественного-питания-по-количеству\" data-toc-modified-id=\"Соотношение-видов-объектов-общественного-питания-по-количеству-3.1\"><span class=\"toc-item-num\">3.1&nbsp;&nbsp;</span>Соотношение видов объектов общественного питания по количеству</a></span></li><li><span><a href=\"#Соотношение-сетевых-и-несетевых-заведений-по-количеству\" data-toc-modified-id=\"Соотношение-сетевых-и-несетевых-заведений-по-количеству-3.2\"><span class=\"toc-item-num\">3.2&nbsp;&nbsp;</span>Соотношение сетевых и несетевых заведений по количеству</a></span></li><li><span><a href=\"#Cреднее-количество-посадочных-мест-в-разрезе-по-объектам-общественного-питания\" data-toc-modified-id=\"Cреднее-количество-посадочных-мест-в-разрезе-по-объектам-общественного-питания-3.3\"><span class=\"toc-item-num\">3.3&nbsp;&nbsp;</span>Cреднее количество посадочных мест в разрезе по объектам общественного питания</a></span></li><li><span><a href=\"#Топ-10-улиц-по-количеству-объектов-общественного-питания\" data-toc-modified-id=\"Топ-10-улиц-по-количеству-объектов-общественного-питания-3.4\"><span class=\"toc-item-num\">3.4&nbsp;&nbsp;</span>Топ-10 улиц по количеству объектов общественного питания</a></span></li><li><span><a href=\"#Число-улиц-с-одним-объектом-общественного-питания\" data-toc-modified-id=\"Число-улиц-с-одним-объектом-общественного-питания-3.5\"><span class=\"toc-item-num\">3.5&nbsp;&nbsp;</span>Число улиц с одним объектом общественного питания</a></span></li><li><span><a href=\"#Распределение-количества-посадочных-мест-для-улиц-с-большим-количеством-объектов-общественного-питания\" data-toc-modified-id=\"Распределение-количества-посадочных-мест-для-улиц-с-большим-количеством-объектов-общественного-питания-3.6\"><span class=\"toc-item-num\">3.6&nbsp;&nbsp;</span>Распределение количества посадочных мест для улиц с большим количеством объектов общественного питания</a></span></li><li><span><a href=\"#Вывод\" data-toc-modified-id=\"Вывод-3.7\"><span class=\"toc-item-num\">3.7&nbsp;&nbsp;</span>Вывод</a></span></li></ul></li></ul></div>"
   ]
  },
  {
   "cell_type": "markdown",
   "metadata": {},
   "source": [
    "# Описание проекта\n",
    "\n",
    "Я — \"гуру\" аналитики, и мне нужно подготовить исследование рынка заведений общественного питания в Москве. \n",
    "Заказчика интересует текущее положение дел на рынке — смогут ли они снискать популярность на долгое время.\n",
    "Нужно исследовать виды заведений общественного питания, выяснить районы и улицы с максимальной концентрацией данных заведений, подготовить презентацию для заказчика."
   ]
  },
  {
   "cell_type": "markdown",
   "metadata": {},
   "source": [
    "## Загрузка данных"
   ]
  },
  {
   "cell_type": "code",
   "execution_count": 1,
   "metadata": {},
   "outputs": [],
   "source": [
    "import warnings \n",
    "warnings.filterwarnings(\"ignore\")\n",
    "import json\n",
    "import math\n",
    "import numpy as np\n",
    "import matplotlib.pyplot as plt\n",
    "import pandas as pd\n",
    "import requests\n",
    "import scipy.stats as stats\n",
    "import seaborn as sns\n",
    "import warnings\n",
    "import plotly.express as px"
   ]
  },
  {
   "cell_type": "code",
   "execution_count": 2,
   "metadata": {},
   "outputs": [
    {
     "data": {
      "text/html": [
       "<div>\n",
       "<style scoped>\n",
       "    .dataframe tbody tr th:only-of-type {\n",
       "        vertical-align: middle;\n",
       "    }\n",
       "\n",
       "    .dataframe tbody tr th {\n",
       "        vertical-align: top;\n",
       "    }\n",
       "\n",
       "    .dataframe thead th {\n",
       "        text-align: right;\n",
       "    }\n",
       "</style>\n",
       "<table border=\"1\" class=\"dataframe\">\n",
       "  <thead>\n",
       "    <tr style=\"text-align: right;\">\n",
       "      <th></th>\n",
       "      <th>id</th>\n",
       "      <th>object_name</th>\n",
       "      <th>chain</th>\n",
       "      <th>object_type</th>\n",
       "      <th>address</th>\n",
       "      <th>number</th>\n",
       "    </tr>\n",
       "  </thead>\n",
       "  <tbody>\n",
       "    <tr>\n",
       "      <th>0</th>\n",
       "      <td>151635</td>\n",
       "      <td>СМЕТАНА</td>\n",
       "      <td>нет</td>\n",
       "      <td>кафе</td>\n",
       "      <td>город Москва, улица Егора Абакумова, дом 9</td>\n",
       "      <td>48</td>\n",
       "    </tr>\n",
       "    <tr>\n",
       "      <th>1</th>\n",
       "      <td>77874</td>\n",
       "      <td>Родник</td>\n",
       "      <td>нет</td>\n",
       "      <td>кафе</td>\n",
       "      <td>город Москва, улица Талалихина, дом 2/1, корпус 1</td>\n",
       "      <td>35</td>\n",
       "    </tr>\n",
       "    <tr>\n",
       "      <th>2</th>\n",
       "      <td>24309</td>\n",
       "      <td>Кафе «Академия»</td>\n",
       "      <td>нет</td>\n",
       "      <td>кафе</td>\n",
       "      <td>город Москва, Абельмановская улица, дом 6</td>\n",
       "      <td>95</td>\n",
       "    </tr>\n",
       "    <tr>\n",
       "      <th>3</th>\n",
       "      <td>21894</td>\n",
       "      <td>ПИЦЦЕТОРИЯ</td>\n",
       "      <td>да</td>\n",
       "      <td>кафе</td>\n",
       "      <td>город Москва, Абрамцевская улица, дом 1</td>\n",
       "      <td>40</td>\n",
       "    </tr>\n",
       "    <tr>\n",
       "      <th>4</th>\n",
       "      <td>119365</td>\n",
       "      <td>Кафе «Вишневая метель»</td>\n",
       "      <td>нет</td>\n",
       "      <td>кафе</td>\n",
       "      <td>город Москва, Абрамцевская улица, дом 9, корпус 1</td>\n",
       "      <td>50</td>\n",
       "    </tr>\n",
       "    <tr>\n",
       "      <th>...</th>\n",
       "      <td>...</td>\n",
       "      <td>...</td>\n",
       "      <td>...</td>\n",
       "      <td>...</td>\n",
       "      <td>...</td>\n",
       "      <td>...</td>\n",
       "    </tr>\n",
       "    <tr>\n",
       "      <th>15361</th>\n",
       "      <td>208537</td>\n",
       "      <td>Шоколадница</td>\n",
       "      <td>да</td>\n",
       "      <td>кафе</td>\n",
       "      <td>город Москва, 3-й Крутицкий переулок, дом 18</td>\n",
       "      <td>50</td>\n",
       "    </tr>\n",
       "    <tr>\n",
       "      <th>15362</th>\n",
       "      <td>209264</td>\n",
       "      <td>Шоколадница</td>\n",
       "      <td>да</td>\n",
       "      <td>кафе</td>\n",
       "      <td>город Москва, улица Земляной Вал, дом 33</td>\n",
       "      <td>10</td>\n",
       "    </tr>\n",
       "    <tr>\n",
       "      <th>15363</th>\n",
       "      <td>209186</td>\n",
       "      <td>Шоколадница</td>\n",
       "      <td>да</td>\n",
       "      <td>кафе</td>\n",
       "      <td>город Москва, улица Земляной Вал, дом 33</td>\n",
       "      <td>20</td>\n",
       "    </tr>\n",
       "    <tr>\n",
       "      <th>15364</th>\n",
       "      <td>221900</td>\n",
       "      <td>Шоколадница</td>\n",
       "      <td>да</td>\n",
       "      <td>кафе</td>\n",
       "      <td>город Москва, поселение Московский, Киевское шоссе, 22-й километр, домовладение 4, строение 1</td>\n",
       "      <td>36</td>\n",
       "    </tr>\n",
       "    <tr>\n",
       "      <th>15365</th>\n",
       "      <td>222535</td>\n",
       "      <td>Шоколадница</td>\n",
       "      <td>да</td>\n",
       "      <td>кафе</td>\n",
       "      <td>город Москва, Ходынский бульвар, дом 4</td>\n",
       "      <td>10</td>\n",
       "    </tr>\n",
       "  </tbody>\n",
       "</table>\n",
       "<p>15366 rows × 6 columns</p>\n",
       "</div>"
      ],
      "text/plain": [
       "           id             object_name chain object_type  \\\n",
       "0      151635                 СМЕТАНА   нет        кафе   \n",
       "1       77874                  Родник   нет        кафе   \n",
       "2       24309         Кафе «Академия»   нет        кафе   \n",
       "3       21894              ПИЦЦЕТОРИЯ    да        кафе   \n",
       "4      119365  Кафе «Вишневая метель»   нет        кафе   \n",
       "...       ...                     ...   ...         ...   \n",
       "15361  208537             Шоколадница    да        кафе   \n",
       "15362  209264             Шоколадница    да        кафе   \n",
       "15363  209186             Шоколадница    да        кафе   \n",
       "15364  221900             Шоколадница    да        кафе   \n",
       "15365  222535             Шоколадница    да        кафе   \n",
       "\n",
       "                                                                                             address  \\\n",
       "0                                                         город Москва, улица Егора Абакумова, дом 9   \n",
       "1                                                  город Москва, улица Талалихина, дом 2/1, корпус 1   \n",
       "2                                                          город Москва, Абельмановская улица, дом 6   \n",
       "3                                                            город Москва, Абрамцевская улица, дом 1   \n",
       "4                                                  город Москва, Абрамцевская улица, дом 9, корпус 1   \n",
       "...                                                                                              ...   \n",
       "15361                                                   город Москва, 3-й Крутицкий переулок, дом 18   \n",
       "15362                                                       город Москва, улица Земляной Вал, дом 33   \n",
       "15363                                                       город Москва, улица Земляной Вал, дом 33   \n",
       "15364  город Москва, поселение Московский, Киевское шоссе, 22-й километр, домовладение 4, строение 1   \n",
       "15365                                                         город Москва, Ходынский бульвар, дом 4   \n",
       "\n",
       "       number  \n",
       "0          48  \n",
       "1          35  \n",
       "2          95  \n",
       "3          40  \n",
       "4          50  \n",
       "...       ...  \n",
       "15361      50  \n",
       "15362      10  \n",
       "15363      20  \n",
       "15364      36  \n",
       "15365      10  \n",
       "\n",
       "[15366 rows x 6 columns]"
      ]
     },
     "execution_count": 2,
     "metadata": {},
     "output_type": "execute_result"
    }
   ],
   "source": [
    "rest_data = pd.read_csv('/datasets/rest_data.csv', sep=',')\n",
    "\n",
    "pd.set_option('display.max_columns', None)\n",
    "pd.options.display.max_colwidth = 150\n",
    "rest_data"
   ]
  },
  {
   "cell_type": "markdown",
   "metadata": {},
   "source": [
    "## Предобработка данных"
   ]
  },
  {
   "cell_type": "code",
   "execution_count": 3,
   "metadata": {},
   "outputs": [],
   "source": [
    "#функция для вывода данных\n",
    "def data(dataframes):\n",
    "    dataframes.columns = [x.lower().replace(' ', '_') for x in dataframes.columns.values]\n",
    "    for column in dataframes.columns:\n",
    "        print('====================')\n",
    "        print(column)\n",
    "        print(dataframes[column].value_counts())\n",
    "        print(dataframes[column].unique())\n",
    "    print(dataframes.info())\n",
    "    display(dataframes.head())"
   ]
  },
  {
   "cell_type": "code",
   "execution_count": 4,
   "metadata": {},
   "outputs": [
    {
     "name": "stdout",
     "output_type": "stream",
     "text": [
      "====================\n",
      "id\n",
      "163840    1\n",
      "207007    1\n",
      "58806     1\n",
      "198074    1\n",
      "150035    1\n",
      "         ..\n",
      "29419     1\n",
      "69506     1\n",
      "23278     1\n",
      "185071    1\n",
      "167934    1\n",
      "Name: id, Length: 15366, dtype: int64\n",
      "[151635  77874  24309 ... 209186 221900 222535]\n",
      "====================\n",
      "object_name\n",
      "Столовая                              267\n",
      "Кафе                                  236\n",
      "Шаурма                                234\n",
      "KFC                                   155\n",
      "Шоколадница                           142\n",
      "                                     ... \n",
      "Чайхана «Айва»                          1\n",
      "СТОЛ.ШК.1983ГУП «ШКОЛЬНОЕ ПИТАНИЕ»      1\n",
      "Час Пик                                 1\n",
      "САТУРН-ШБС-3 СТОЛОВАЯ ШКОЛЫ 1018        1\n",
      "АРТС ПАЛАС                              1\n",
      "Name: object_name, Length: 10393, dtype: int64\n",
      "['СМЕТАНА' 'Родник' 'Кафе «Академия»' ... 'Бар Мята Lounge'\n",
      " 'Мята Lounge Октябрьская' 'Кальянная «Мята Lounge»']\n",
      "====================\n",
      "chain\n",
      "нет    12398\n",
      "да      2968\n",
      "Name: chain, dtype: int64\n",
      "['нет' 'да']\n",
      "====================\n",
      "object_type\n",
      "кафе                                 6099\n",
      "столовая                             2587\n",
      "ресторан                             2285\n",
      "предприятие быстрого обслуживания    1923\n",
      "бар                                   856\n",
      "буфет                                 585\n",
      "кафетерий                             398\n",
      "закусочная                            360\n",
      "магазин (отдел кулинарии)             273\n",
      "Name: object_type, dtype: int64\n",
      "['кафе' 'столовая' 'закусочная' 'предприятие быстрого обслуживания'\n",
      " 'ресторан' 'кафетерий' 'буфет' 'бар' 'магазин (отдел кулинарии)']\n",
      "====================\n",
      "address\n",
      "город Москва, Ходынский бульвар, дом 4                     95\n",
      "город Москва, Пресненская набережная, дом 2                63\n",
      "город Москва, проспект Мира, дом 211, корпус 2             60\n",
      "город Москва, Кировоградская улица, дом 13А                53\n",
      "город Москва, площадь Киевского Вокзала, дом 2             48\n",
      "                                                           ..\n",
      "город Москва, улица Радио, дом 14                           1\n",
      "город Москва, Новомосковская улица, дом 15А, строение 1     1\n",
      "город Москва, улица Кулакова, дом 2, корпус 2               1\n",
      "город Москва, Свободный проспект, дом 22                    1\n",
      "город Москва, Донская улица, дом 1                          1\n",
      "Name: address, Length: 9108, dtype: int64\n",
      "['город Москва, улица Егора Абакумова, дом 9'\n",
      " 'город Москва, улица Талалихина, дом 2/1, корпус 1'\n",
      " 'город Москва, Абельмановская улица, дом 6' ...\n",
      " 'город Москва, Салтыковская улица, дом 7Г'\n",
      " 'город Москва, Осенний бульвар, дом 9'\n",
      " 'город Москва, улица Новый Арбат, дом 13']\n",
      "====================\n",
      "number\n",
      "0      1621\n",
      "40      835\n",
      "20      727\n",
      "30      685\n",
      "10      644\n",
      "       ... \n",
      "172       1\n",
      "520       1\n",
      "680       1\n",
      "760       1\n",
      "495       1\n",
      "Name: number, Length: 315, dtype: int64\n",
      "[  48   35   95   40   50  240   10   90  150  120    5   24  140   32\n",
      "  270  320    7    2  160   20   30  110    6  192   65   45    4  125\n",
      "  100   49   63   70   22   56   38  220   78    3   80   46   15   96\n",
      "   60   47  180  250  200   25   12   14   16  420   98   75   34  216\n",
      "   43   54  580  159    0   28   64   67   42  124   82   36  114    8\n",
      "   71   18  158   55  196   44   76  144   41   26   68  143  198   79\n",
      "    1   86  148  190  202  131   52   92  300   85  102   88   84  246\n",
      "   81   94   23   37   39   99   61   11  130   74  128  106   58  260\n",
      "   27   19   29   13    9  168  350   93   33  105  239  104   17   62\n",
      "  230  132   87   89  170   83   21  108  210   51   53  115   66  280\n",
      "  126   97  356  156  428  380  138   72  118  139  236  450  194  330\n",
      "  225  500  112  109  146  306  272  290  176  175  252  122  400  542\n",
      "  424 1040  660  282  145  395  188  149  157  103   69  184  185  121\n",
      "  187  247  217  313  155  310  328  101  226  398  430  166  301  245\n",
      "  238  283  133  142   73   77  650   57   59  154  222  174 1200  204\n",
      "  127  360  178  680  244  134  213  214  152  206  248  324  224  165\n",
      "   31  277  337  259  167  266  481  273  136  229  242  533  218  173\n",
      "  228  760  585  195  284  305  215  162  135  116   91  644  600  177\n",
      "  338  181  302  237  288  362  141  111  153  123  495  186  275  232\n",
      "  480  164  255  147  189  286  625  207  520  675  292  340  205  278\n",
      "  151  343 1500 1400  308  161  483  107  243  371  276  257  271  456\n",
      " 1288  172  478  113  199  920  287  326  208  472  234  455  307 1700\n",
      "  490  491  700  295  268  212  119]\n",
      "<class 'pandas.core.frame.DataFrame'>\n",
      "RangeIndex: 15366 entries, 0 to 15365\n",
      "Data columns (total 6 columns):\n",
      " #   Column       Non-Null Count  Dtype \n",
      "---  ------       --------------  ----- \n",
      " 0   id           15366 non-null  int64 \n",
      " 1   object_name  15366 non-null  object\n",
      " 2   chain        15366 non-null  object\n",
      " 3   object_type  15366 non-null  object\n",
      " 4   address      15366 non-null  object\n",
      " 5   number       15366 non-null  int64 \n",
      "dtypes: int64(2), object(4)\n",
      "memory usage: 720.4+ KB\n",
      "None\n"
     ]
    },
    {
     "data": {
      "text/html": [
       "<div>\n",
       "<style scoped>\n",
       "    .dataframe tbody tr th:only-of-type {\n",
       "        vertical-align: middle;\n",
       "    }\n",
       "\n",
       "    .dataframe tbody tr th {\n",
       "        vertical-align: top;\n",
       "    }\n",
       "\n",
       "    .dataframe thead th {\n",
       "        text-align: right;\n",
       "    }\n",
       "</style>\n",
       "<table border=\"1\" class=\"dataframe\">\n",
       "  <thead>\n",
       "    <tr style=\"text-align: right;\">\n",
       "      <th></th>\n",
       "      <th>id</th>\n",
       "      <th>object_name</th>\n",
       "      <th>chain</th>\n",
       "      <th>object_type</th>\n",
       "      <th>address</th>\n",
       "      <th>number</th>\n",
       "    </tr>\n",
       "  </thead>\n",
       "  <tbody>\n",
       "    <tr>\n",
       "      <th>0</th>\n",
       "      <td>151635</td>\n",
       "      <td>СМЕТАНА</td>\n",
       "      <td>нет</td>\n",
       "      <td>кафе</td>\n",
       "      <td>город Москва, улица Егора Абакумова, дом 9</td>\n",
       "      <td>48</td>\n",
       "    </tr>\n",
       "    <tr>\n",
       "      <th>1</th>\n",
       "      <td>77874</td>\n",
       "      <td>Родник</td>\n",
       "      <td>нет</td>\n",
       "      <td>кафе</td>\n",
       "      <td>город Москва, улица Талалихина, дом 2/1, корпус 1</td>\n",
       "      <td>35</td>\n",
       "    </tr>\n",
       "    <tr>\n",
       "      <th>2</th>\n",
       "      <td>24309</td>\n",
       "      <td>Кафе «Академия»</td>\n",
       "      <td>нет</td>\n",
       "      <td>кафе</td>\n",
       "      <td>город Москва, Абельмановская улица, дом 6</td>\n",
       "      <td>95</td>\n",
       "    </tr>\n",
       "    <tr>\n",
       "      <th>3</th>\n",
       "      <td>21894</td>\n",
       "      <td>ПИЦЦЕТОРИЯ</td>\n",
       "      <td>да</td>\n",
       "      <td>кафе</td>\n",
       "      <td>город Москва, Абрамцевская улица, дом 1</td>\n",
       "      <td>40</td>\n",
       "    </tr>\n",
       "    <tr>\n",
       "      <th>4</th>\n",
       "      <td>119365</td>\n",
       "      <td>Кафе «Вишневая метель»</td>\n",
       "      <td>нет</td>\n",
       "      <td>кафе</td>\n",
       "      <td>город Москва, Абрамцевская улица, дом 9, корпус 1</td>\n",
       "      <td>50</td>\n",
       "    </tr>\n",
       "  </tbody>\n",
       "</table>\n",
       "</div>"
      ],
      "text/plain": [
       "       id             object_name chain object_type  \\\n",
       "0  151635                 СМЕТАНА   нет        кафе   \n",
       "1   77874                  Родник   нет        кафе   \n",
       "2   24309         Кафе «Академия»   нет        кафе   \n",
       "3   21894              ПИЦЦЕТОРИЯ    да        кафе   \n",
       "4  119365  Кафе «Вишневая метель»   нет        кафе   \n",
       "\n",
       "                                             address  number  \n",
       "0         город Москва, улица Егора Абакумова, дом 9      48  \n",
       "1  город Москва, улица Талалихина, дом 2/1, корпус 1      35  \n",
       "2          город Москва, Абельмановская улица, дом 6      95  \n",
       "3            город Москва, Абрамцевская улица, дом 1      40  \n",
       "4  город Москва, Абрамцевская улица, дом 9, корпус 1      50  "
      ]
     },
     "metadata": {},
     "output_type": "display_data"
    }
   ],
   "source": [
    "data(rest_data)"
   ]
  },
  {
   "cell_type": "code",
   "execution_count": 5,
   "metadata": {},
   "outputs": [
    {
     "data": {
      "text/plain": [
       "0"
      ]
     },
     "execution_count": 5,
     "metadata": {},
     "output_type": "execute_result"
    }
   ],
   "source": [
    "# смотрим наличие явных дубликатов\n",
    "rest_data.duplicated().sum()"
   ]
  },
  {
   "cell_type": "code",
   "execution_count": 6,
   "metadata": {},
   "outputs": [],
   "source": [
    "# переведем столбцы в строчный вид\n",
    "rest_data['address'] = rest_data['address'].str.lower()\n",
    "rest_data['object_name'] = rest_data['object_name'].str.lower()"
   ]
  },
  {
   "cell_type": "code",
   "execution_count": 7,
   "metadata": {},
   "outputs": [],
   "source": [
    "rest_data['object_type'] = rest_data['object_type'].str.replace('предприятие быстрого обслуживания', 'фастфуд')\n",
    "rest_data['object_type'] = rest_data['object_type'].str.replace('магазин \\(отдел кулинарии\\)', 'кулинария')"
   ]
  },
  {
   "cell_type": "code",
   "execution_count": 8,
   "metadata": {},
   "outputs": [
    {
     "data": {
      "text/plain": [
       "85"
      ]
     },
     "execution_count": 8,
     "metadata": {},
     "output_type": "execute_result"
    }
   ],
   "source": [
    "rest_data.duplicated(subset=['object_name', 'address', 'chain', 'object_type', 'number']).sum()"
   ]
  },
  {
   "cell_type": "code",
   "execution_count": 9,
   "metadata": {},
   "outputs": [],
   "source": [
    "rest_data = rest_data.drop_duplicates(subset=['object_name', 'address', 'chain', 'object_type', 'number']).reset_index()"
   ]
  },
  {
   "cell_type": "code",
   "execution_count": 10,
   "metadata": {},
   "outputs": [
    {
     "data": {
      "text/plain": [
       "0"
      ]
     },
     "execution_count": 10,
     "metadata": {},
     "output_type": "execute_result"
    }
   ],
   "source": [
    "rest_data.duplicated(subset=['object_name', 'address', 'chain', 'object_type', 'number']).sum()"
   ]
  },
  {
   "cell_type": "markdown",
   "metadata": {},
   "source": [
    "Первеел в нижний регистр данные столбца адрес, проверил на дубликаты и пропуски. Заменил длинные названия на короткие, для нормального отображения в графиках."
   ]
  },
  {
   "cell_type": "markdown",
   "metadata": {},
   "source": [
    "## Анализ данных"
   ]
  },
  {
   "cell_type": "markdown",
   "metadata": {},
   "source": [
    "### Соотношение видов объектов общественного питания по количеству"
   ]
  },
  {
   "cell_type": "code",
   "execution_count": 11,
   "metadata": {},
   "outputs": [
    {
     "data": {
      "text/html": [
       "<div>\n",
       "<style scoped>\n",
       "    .dataframe tbody tr th:only-of-type {\n",
       "        vertical-align: middle;\n",
       "    }\n",
       "\n",
       "    .dataframe tbody tr th {\n",
       "        vertical-align: top;\n",
       "    }\n",
       "\n",
       "    .dataframe thead th {\n",
       "        text-align: right;\n",
       "    }\n",
       "</style>\n",
       "<table border=\"1\" class=\"dataframe\">\n",
       "  <thead>\n",
       "    <tr style=\"text-align: right;\">\n",
       "      <th></th>\n",
       "      <th>id</th>\n",
       "    </tr>\n",
       "    <tr>\n",
       "      <th>object_type</th>\n",
       "      <th></th>\n",
       "    </tr>\n",
       "  </thead>\n",
       "  <tbody>\n",
       "    <tr>\n",
       "      <th>кафе</th>\n",
       "      <td>6071</td>\n",
       "    </tr>\n",
       "    <tr>\n",
       "      <th>столовая</th>\n",
       "      <td>2584</td>\n",
       "    </tr>\n",
       "    <tr>\n",
       "      <th>ресторан</th>\n",
       "      <td>2282</td>\n",
       "    </tr>\n",
       "    <tr>\n",
       "      <th>фастфуд</th>\n",
       "      <td>1897</td>\n",
       "    </tr>\n",
       "    <tr>\n",
       "      <th>бар</th>\n",
       "      <td>855</td>\n",
       "    </tr>\n",
       "    <tr>\n",
       "      <th>буфет</th>\n",
       "      <td>576</td>\n",
       "    </tr>\n",
       "    <tr>\n",
       "      <th>кафетерий</th>\n",
       "      <td>395</td>\n",
       "    </tr>\n",
       "    <tr>\n",
       "      <th>закусочная</th>\n",
       "      <td>348</td>\n",
       "    </tr>\n",
       "    <tr>\n",
       "      <th>кулинария</th>\n",
       "      <td>273</td>\n",
       "    </tr>\n",
       "  </tbody>\n",
       "</table>\n",
       "</div>"
      ],
      "text/plain": [
       "               id\n",
       "object_type      \n",
       "кафе         6071\n",
       "столовая     2584\n",
       "ресторан     2282\n",
       "фастфуд      1897\n",
       "бар           855\n",
       "буфет         576\n",
       "кафетерий     395\n",
       "закусочная    348\n",
       "кулинария     273"
      ]
     },
     "metadata": {},
     "output_type": "display_data"
    }
   ],
   "source": [
    "# группируем по типам объектов и считаем сумму уникальных номеров заведений\n",
    "object_count = rest_data.groupby('object_type').agg({'id': 'count'}).sort_values(by='id', ascending=False)\n",
    "display(object_count)"
   ]
  },
  {
   "cell_type": "markdown",
   "metadata": {},
   "source": [
    "Большинство заведений - кафе. С почти двукратынм отставанием столовые, рестораны и предприятия быстрого обслуживания."
   ]
  },
  {
   "cell_type": "code",
   "execution_count": 12,
   "metadata": {},
   "outputs": [
    {
     "data": {
      "image/png": "[encoded data removed]",
      "text/plain": [
       "<Figure size 432x288 with 1 Axes>"
      ]
     },
     "metadata": {
      "needs_background": "light"
     },
     "output_type": "display_data"
    }
   ],
   "source": [
    "plt.style.use('seaborn-pastel')\n",
    "object_count['id'].plot(kind='barh', stacked=True);\n",
    "plt.title('Соотношение видов объектов общественного питания по количеству')\n",
    "plt.xlabel('штук')\n",
    "plt.ylabel('Вид объекта общественного питания')\n",
    "plt.show();"
   ]
  },
  {
   "cell_type": "markdown",
   "metadata": {},
   "source": [
    "### Соотношение сетевых и несетевых заведений по количеству"
   ]
  },
  {
   "cell_type": "code",
   "execution_count": 13,
   "metadata": {
    "scrolled": false
   },
   "outputs": [
    {
     "data": {
      "text/html": [
       "<div>\n",
       "<style scoped>\n",
       "    .dataframe tbody tr th:only-of-type {\n",
       "        vertical-align: middle;\n",
       "    }\n",
       "\n",
       "    .dataframe tbody tr th {\n",
       "        vertical-align: top;\n",
       "    }\n",
       "\n",
       "    .dataframe thead th {\n",
       "        text-align: right;\n",
       "    }\n",
       "</style>\n",
       "<table border=\"1\" class=\"dataframe\">\n",
       "  <thead>\n",
       "    <tr style=\"text-align: right;\">\n",
       "      <th>chain</th>\n",
       "      <th>да</th>\n",
       "      <th>нет</th>\n",
       "      <th>total</th>\n",
       "    </tr>\n",
       "    <tr>\n",
       "      <th>object_type</th>\n",
       "      <th></th>\n",
       "      <th></th>\n",
       "      <th></th>\n",
       "    </tr>\n",
       "  </thead>\n",
       "  <tbody>\n",
       "    <tr>\n",
       "      <th>кафе</th>\n",
       "      <td>1396</td>\n",
       "      <td>4675</td>\n",
       "      <td>6071</td>\n",
       "    </tr>\n",
       "    <tr>\n",
       "      <th>столовая</th>\n",
       "      <td>3</td>\n",
       "      <td>2581</td>\n",
       "      <td>2584</td>\n",
       "    </tr>\n",
       "    <tr>\n",
       "      <th>ресторан</th>\n",
       "      <td>543</td>\n",
       "      <td>1739</td>\n",
       "      <td>2282</td>\n",
       "    </tr>\n",
       "    <tr>\n",
       "      <th>фастфуд</th>\n",
       "      <td>788</td>\n",
       "      <td>1109</td>\n",
       "      <td>1897</td>\n",
       "    </tr>\n",
       "    <tr>\n",
       "      <th>бар</th>\n",
       "      <td>37</td>\n",
       "      <td>818</td>\n",
       "      <td>855</td>\n",
       "    </tr>\n",
       "    <tr>\n",
       "      <th>буфет</th>\n",
       "      <td>11</td>\n",
       "      <td>565</td>\n",
       "      <td>576</td>\n",
       "    </tr>\n",
       "    <tr>\n",
       "      <th>кафетерий</th>\n",
       "      <td>52</td>\n",
       "      <td>343</td>\n",
       "      <td>395</td>\n",
       "    </tr>\n",
       "    <tr>\n",
       "      <th>закусочная</th>\n",
       "      <td>56</td>\n",
       "      <td>292</td>\n",
       "      <td>348</td>\n",
       "    </tr>\n",
       "    <tr>\n",
       "      <th>кулинария</th>\n",
       "      <td>78</td>\n",
       "      <td>195</td>\n",
       "      <td>273</td>\n",
       "    </tr>\n",
       "  </tbody>\n",
       "</table>\n",
       "</div>"
      ],
      "text/plain": [
       "chain          да   нет  total\n",
       "object_type                   \n",
       "кафе         1396  4675   6071\n",
       "столовая        3  2581   2584\n",
       "ресторан      543  1739   2282\n",
       "фастфуд       788  1109   1897\n",
       "бар            37   818    855\n",
       "буфет          11   565    576\n",
       "кафетерий      52   343    395\n",
       "закусочная     56   292    348\n",
       "кулинария      78   195    273"
      ]
     },
     "metadata": {},
     "output_type": "display_data"
    },
    {
     "data": {
      "image/png": "[encoded data removed]",
      "text/plain": [
       "<Figure size 432x288 with 1 Axes>"
      ]
     },
     "metadata": {
      "needs_background": "light"
     },
     "output_type": "display_data"
    }
   ],
   "source": [
    "# создадим сводную таблицу с разделением сетевые (да) и несетевые (нет) заведения.\n",
    "chain_object = rest_data.pivot_table(index='object_type', columns='chain', values='id', aggfunc='nunique')\n",
    "chain_object['total'] = chain_object['да'] + chain_object['нет']\n",
    "chain_object = chain_object.sort_values(by='total', ascending=False)\n",
    "display(chain_object)\n",
    "\n",
    "plt.style.use('seaborn-pastel')\n",
    "chain_object[['да', 'нет']].plot(kind='barh', stacked=True)\n",
    "plt.title('Соотношение сетевых и несетевых заведений по количеству')\n",
    "plt.xlabel('штук')\n",
    "plt.ylabel('Вид объекта общественного питания')\n",
    "\n",
    "       \n",
    "plt.show();"
   ]
  },
  {
   "cell_type": "markdown",
   "metadata": {},
   "source": [
    "Большинство предприятий - несетевые. К сетевым в подавляющем большинстве относятся кафе, ресторан, фастфуд."
   ]
  },
  {
   "cell_type": "code",
   "execution_count": 14,
   "metadata": {},
   "outputs": [
    {
     "data": {
      "text/html": [
       "<div>\n",
       "<style scoped>\n",
       "    .dataframe tbody tr th:only-of-type {\n",
       "        vertical-align: middle;\n",
       "    }\n",
       "\n",
       "    .dataframe tbody tr th {\n",
       "        vertical-align: top;\n",
       "    }\n",
       "\n",
       "    .dataframe thead th {\n",
       "        text-align: right;\n",
       "    }\n",
       "</style>\n",
       "<table border=\"1\" class=\"dataframe\">\n",
       "  <thead>\n",
       "    <tr style=\"text-align: right;\">\n",
       "      <th></th>\n",
       "      <th>id</th>\n",
       "      <th>number</th>\n",
       "    </tr>\n",
       "    <tr>\n",
       "      <th>object_type</th>\n",
       "      <th></th>\n",
       "      <th></th>\n",
       "    </tr>\n",
       "  </thead>\n",
       "  <tbody>\n",
       "    <tr>\n",
       "      <th>кафе</th>\n",
       "      <td>1396</td>\n",
       "      <td>47.426934</td>\n",
       "    </tr>\n",
       "    <tr>\n",
       "      <th>фастфуд</th>\n",
       "      <td>788</td>\n",
       "      <td>40.319797</td>\n",
       "    </tr>\n",
       "    <tr>\n",
       "      <th>ресторан</th>\n",
       "      <td>543</td>\n",
       "      <td>100.362799</td>\n",
       "    </tr>\n",
       "    <tr>\n",
       "      <th>кулинария</th>\n",
       "      <td>78</td>\n",
       "      <td>8.679487</td>\n",
       "    </tr>\n",
       "    <tr>\n",
       "      <th>закусочная</th>\n",
       "      <td>56</td>\n",
       "      <td>14.375000</td>\n",
       "    </tr>\n",
       "    <tr>\n",
       "      <th>кафетерий</th>\n",
       "      <td>52</td>\n",
       "      <td>12.269231</td>\n",
       "    </tr>\n",
       "    <tr>\n",
       "      <th>бар</th>\n",
       "      <td>37</td>\n",
       "      <td>53.027027</td>\n",
       "    </tr>\n",
       "    <tr>\n",
       "      <th>буфет</th>\n",
       "      <td>11</td>\n",
       "      <td>12.727273</td>\n",
       "    </tr>\n",
       "    <tr>\n",
       "      <th>столовая</th>\n",
       "      <td>3</td>\n",
       "      <td>112.333333</td>\n",
       "    </tr>\n",
       "  </tbody>\n",
       "</table>\n",
       "</div>"
      ],
      "text/plain": [
       "               id      number\n",
       "object_type                  \n",
       "кафе         1396   47.426934\n",
       "фастфуд       788   40.319797\n",
       "ресторан      543  100.362799\n",
       "кулинария      78    8.679487\n",
       "закусочная     56   14.375000\n",
       "кафетерий      52   12.269231\n",
       "бар            37   53.027027\n",
       "буфет          11   12.727273\n",
       "столовая        3  112.333333"
      ]
     },
     "metadata": {},
     "output_type": "display_data"
    },
    {
     "data": {
      "image/png": "[encoded data removed]",
      "text/plain": [
       "<Figure size 432x288 with 1 Axes>"
      ]
     },
     "metadata": {
      "needs_background": "light"
     },
     "output_type": "display_data"
    }
   ],
   "source": [
    "# Срежем до сетевых предприятий и вычислим среднее количество мест в заведении\n",
    "chain_object = rest_data.query('chain == \"да\"')\n",
    "chain_group =  chain_object.groupby('object_type').agg({'id': 'count', 'number' : 'mean'}).sort_values(by = 'id', ascending = False)\n",
    "display(chain_group)\n",
    "chain_group.plot(kind='scatter', x='id', y='number')\n",
    "plt.title('Диаграмма размаха количества мест по типам предприятий')\n",
    "plt.xlabel('количество предприятий данного типа')\n",
    "\n",
    "plt.ylabel('количество мест');"
   ]
  },
  {
   "cell_type": "markdown",
   "metadata": {},
   "source": [
    "Для сетевых предприятий характерно большое количество предприятий и небольшое количество мест (40-50 мест)"
   ]
  },
  {
   "cell_type": "markdown",
   "metadata": {},
   "source": [
    "###  Cреднее количество посадочных мест в разрезе по объектам общественного питания"
   ]
  },
  {
   "cell_type": "code",
   "execution_count": 15,
   "metadata": {},
   "outputs": [
    {
     "data": {
      "text/html": [
       "<div>\n",
       "<style scoped>\n",
       "    .dataframe tbody tr th:only-of-type {\n",
       "        vertical-align: middle;\n",
       "    }\n",
       "\n",
       "    .dataframe tbody tr th {\n",
       "        vertical-align: top;\n",
       "    }\n",
       "\n",
       "    .dataframe thead tr th {\n",
       "        text-align: left;\n",
       "    }\n",
       "\n",
       "    .dataframe thead tr:last-of-type th {\n",
       "        text-align: right;\n",
       "    }\n",
       "</style>\n",
       "<table border=\"1\" class=\"dataframe\">\n",
       "  <thead>\n",
       "    <tr>\n",
       "      <th></th>\n",
       "      <th>count</th>\n",
       "      <th>mean</th>\n",
       "      <th>median</th>\n",
       "    </tr>\n",
       "    <tr>\n",
       "      <th></th>\n",
       "      <th>number</th>\n",
       "      <th>number</th>\n",
       "      <th>number</th>\n",
       "    </tr>\n",
       "    <tr>\n",
       "      <th>object_type</th>\n",
       "      <th></th>\n",
       "      <th></th>\n",
       "      <th></th>\n",
       "    </tr>\n",
       "  </thead>\n",
       "  <tbody>\n",
       "    <tr>\n",
       "      <th>бар</th>\n",
       "      <td>855</td>\n",
       "      <td>43.533333</td>\n",
       "      <td>35</td>\n",
       "    </tr>\n",
       "    <tr>\n",
       "      <th>буфет</th>\n",
       "      <td>576</td>\n",
       "      <td>51.425347</td>\n",
       "      <td>32</td>\n",
       "    </tr>\n",
       "    <tr>\n",
       "      <th>закусочная</th>\n",
       "      <td>348</td>\n",
       "      <td>7.847701</td>\n",
       "      <td>0</td>\n",
       "    </tr>\n",
       "    <tr>\n",
       "      <th>кафе</th>\n",
       "      <td>6071</td>\n",
       "      <td>39.785703</td>\n",
       "      <td>30</td>\n",
       "    </tr>\n",
       "    <tr>\n",
       "      <th>кафетерий</th>\n",
       "      <td>395</td>\n",
       "      <td>9.184810</td>\n",
       "      <td>6</td>\n",
       "    </tr>\n",
       "    <tr>\n",
       "      <th>кулинария</th>\n",
       "      <td>273</td>\n",
       "      <td>5.589744</td>\n",
       "      <td>0</td>\n",
       "    </tr>\n",
       "    <tr>\n",
       "      <th>ресторан</th>\n",
       "      <td>2282</td>\n",
       "      <td>96.884750</td>\n",
       "      <td>80</td>\n",
       "    </tr>\n",
       "    <tr>\n",
       "      <th>столовая</th>\n",
       "      <td>2584</td>\n",
       "      <td>130.337848</td>\n",
       "      <td>103</td>\n",
       "    </tr>\n",
       "    <tr>\n",
       "      <th>фастфуд</th>\n",
       "      <td>1897</td>\n",
       "      <td>20.808645</td>\n",
       "      <td>6</td>\n",
       "    </tr>\n",
       "  </tbody>\n",
       "</table>\n",
       "</div>"
      ],
      "text/plain": [
       "             count        mean median\n",
       "            number      number number\n",
       "object_type                          \n",
       "бар            855   43.533333     35\n",
       "буфет          576   51.425347     32\n",
       "закусочная     348    7.847701      0\n",
       "кафе          6071   39.785703     30\n",
       "кафетерий      395    9.184810      6\n",
       "кулинария      273    5.589744      0\n",
       "ресторан      2282   96.884750     80\n",
       "столовая      2584  130.337848    103\n",
       "фастфуд       1897   20.808645      6"
      ]
     },
     "execution_count": 15,
     "metadata": {},
     "output_type": "execute_result"
    }
   ],
   "source": [
    "# смотрим как сильно отличаются среднее от медианы по типам объектов\n",
    "rest_data.pivot_table(index = 'object_type', values = 'number', aggfunc = ['count', 'mean', 'median'])"
   ]
  },
  {
   "cell_type": "markdown",
   "metadata": {},
   "source": [
    "Явно есть выбросы."
   ]
  },
  {
   "cell_type": "code",
   "execution_count": 16,
   "metadata": {},
   "outputs": [
    {
     "data": {
      "image/png": "[encoded data removed]",
      "text/plain": [
       "<Figure size 720x360 with 1 Axes>"
      ]
     },
     "metadata": {
      "needs_background": "light"
     },
     "output_type": "display_data"
    }
   ],
   "source": [
    "plt.style.use('seaborn-pastel')\n",
    "rest_data.query('number < 400').boxplot(column='number', by='object_type', vert=False, figsize=(10, 5))\n",
    "plt.title('Диаграмма размаха количества мест по типам предприятий')\n",
    "plt.xlabel('штук')\n",
    "plt.ylabel('Вид объекта общественного питания')\n",
    "plt.suptitle('')\n",
    "plt.show();"
   ]
  },
  {
   "cell_type": "code",
   "execution_count": 17,
   "metadata": {},
   "outputs": [
    {
     "data": {
      "image/png": "[encoded data removed]",
      "text/plain": [
       "<Figure size 432x288 with 1 Axes>"
      ]
     },
     "metadata": {
      "needs_background": "light"
     },
     "output_type": "display_data"
    }
   ],
   "source": [
    "plt.style.use('seaborn-pastel')\n",
    "graphic = rest_data.groupby('object_type').agg({'number' : 'median'}).sort_values(by = 'number', ascending = False).reset_index()\n",
    "graphic\n",
    "ax = sns.barplot(x='number', y='object_type', data=graphic)\n",
    "ax.set_title('Медиана количества мест в объектах общественного питания')\n",
    "ax.set_xlabel('Количество мест')\n",
    "ax.set_ylabel('Тип объекта')\n",
    "plt.xticks(rotation=0)\n",
    "\n",
    "rects = ax.patches\n",
    "\n",
    "for rect in rects:\n",
    "    \n",
    "    x_value = rect.get_width()\n",
    "    y_value = rect.get_y() + rect.get_height() / 2\n",
    "\n",
    "    \n",
    "    space = 5\n",
    "    \n",
    "    ha = 'left'\n",
    "\n",
    "   \n",
    "    if x_value < 0:\n",
    "        \n",
    "        space *= -1\n",
    "        \n",
    "        ha = 'right'\n",
    "\n",
    "    \n",
    "    label = \"{:.1f}\".format(x_value)\n",
    "\n",
    "    \n",
    "    plt.annotate(\n",
    "        label,                      \n",
    "        (x_value, y_value),         \n",
    "        xytext=(space, 0),          \n",
    "        textcoords=\"offset points\", \n",
    "        va='center',                \n",
    "        ha=ha)       \n",
    "plt.show()"
   ]
  },
  {
   "cell_type": "markdown",
   "metadata": {},
   "source": [
    "В среднем наибольшее количество мест в столовых и ресторанах. Закусочные и отделы кулинарии как правило без посадочных мест."
   ]
  },
  {
   "cell_type": "markdown",
   "metadata": {},
   "source": [
    "### Топ-10 улиц по количеству объектов общественного питания"
   ]
  },
  {
   "cell_type": "code",
   "execution_count": 18,
   "metadata": {},
   "outputs": [
    {
     "data": {
      "text/html": [
       "<div>\n",
       "<style scoped>\n",
       "    .dataframe tbody tr th:only-of-type {\n",
       "        vertical-align: middle;\n",
       "    }\n",
       "\n",
       "    .dataframe tbody tr th {\n",
       "        vertical-align: top;\n",
       "    }\n",
       "\n",
       "    .dataframe thead th {\n",
       "        text-align: right;\n",
       "    }\n",
       "</style>\n",
       "<table border=\"1\" class=\"dataframe\">\n",
       "  <thead>\n",
       "    <tr style=\"text-align: right;\">\n",
       "      <th></th>\n",
       "      <th>index</th>\n",
       "      <th>id</th>\n",
       "      <th>object_name</th>\n",
       "      <th>chain</th>\n",
       "      <th>object_type</th>\n",
       "      <th>address</th>\n",
       "      <th>number</th>\n",
       "      <th>street_name</th>\n",
       "    </tr>\n",
       "  </thead>\n",
       "  <tbody>\n",
       "    <tr>\n",
       "      <th>0</th>\n",
       "      <td>0</td>\n",
       "      <td>151635</td>\n",
       "      <td>сметана</td>\n",
       "      <td>нет</td>\n",
       "      <td>кафе</td>\n",
       "      <td>город москва, улица егора абакумова, дом 9</td>\n",
       "      <td>48</td>\n",
       "      <td>улица егора абакумова</td>\n",
       "    </tr>\n",
       "    <tr>\n",
       "      <th>1</th>\n",
       "      <td>1</td>\n",
       "      <td>77874</td>\n",
       "      <td>родник</td>\n",
       "      <td>нет</td>\n",
       "      <td>кафе</td>\n",
       "      <td>город москва, улица талалихина, дом 2/1, корпус 1</td>\n",
       "      <td>35</td>\n",
       "      <td>улица талалихина</td>\n",
       "    </tr>\n",
       "    <tr>\n",
       "      <th>2</th>\n",
       "      <td>2</td>\n",
       "      <td>24309</td>\n",
       "      <td>кафе «академия»</td>\n",
       "      <td>нет</td>\n",
       "      <td>кафе</td>\n",
       "      <td>город москва, абельмановская улица, дом 6</td>\n",
       "      <td>95</td>\n",
       "      <td>абельмановская улица</td>\n",
       "    </tr>\n",
       "    <tr>\n",
       "      <th>3</th>\n",
       "      <td>3</td>\n",
       "      <td>21894</td>\n",
       "      <td>пиццетория</td>\n",
       "      <td>да</td>\n",
       "      <td>кафе</td>\n",
       "      <td>город москва, абрамцевская улица, дом 1</td>\n",
       "      <td>40</td>\n",
       "      <td>абрамцевская улица</td>\n",
       "    </tr>\n",
       "    <tr>\n",
       "      <th>4</th>\n",
       "      <td>4</td>\n",
       "      <td>119365</td>\n",
       "      <td>кафе «вишневая метель»</td>\n",
       "      <td>нет</td>\n",
       "      <td>кафе</td>\n",
       "      <td>город москва, абрамцевская улица, дом 9, корпус 1</td>\n",
       "      <td>50</td>\n",
       "      <td>абрамцевская улица</td>\n",
       "    </tr>\n",
       "    <tr>\n",
       "      <th>...</th>\n",
       "      <td>...</td>\n",
       "      <td>...</td>\n",
       "      <td>...</td>\n",
       "      <td>...</td>\n",
       "      <td>...</td>\n",
       "      <td>...</td>\n",
       "      <td>...</td>\n",
       "      <td>...</td>\n",
       "    </tr>\n",
       "    <tr>\n",
       "      <th>15276</th>\n",
       "      <td>15361</td>\n",
       "      <td>208537</td>\n",
       "      <td>шоколадница</td>\n",
       "      <td>да</td>\n",
       "      <td>кафе</td>\n",
       "      <td>город москва, 3-й крутицкий переулок, дом 18</td>\n",
       "      <td>50</td>\n",
       "      <td>3-й крутицкий переулок</td>\n",
       "    </tr>\n",
       "    <tr>\n",
       "      <th>15277</th>\n",
       "      <td>15362</td>\n",
       "      <td>209264</td>\n",
       "      <td>шоколадница</td>\n",
       "      <td>да</td>\n",
       "      <td>кафе</td>\n",
       "      <td>город москва, улица земляной вал, дом 33</td>\n",
       "      <td>10</td>\n",
       "      <td>улица земляной вал</td>\n",
       "    </tr>\n",
       "    <tr>\n",
       "      <th>15278</th>\n",
       "      <td>15363</td>\n",
       "      <td>209186</td>\n",
       "      <td>шоколадница</td>\n",
       "      <td>да</td>\n",
       "      <td>кафе</td>\n",
       "      <td>город москва, улица земляной вал, дом 33</td>\n",
       "      <td>20</td>\n",
       "      <td>улица земляной вал</td>\n",
       "    </tr>\n",
       "    <tr>\n",
       "      <th>15279</th>\n",
       "      <td>15364</td>\n",
       "      <td>221900</td>\n",
       "      <td>шоколадница</td>\n",
       "      <td>да</td>\n",
       "      <td>кафе</td>\n",
       "      <td>город москва, поселение московский, киевское шоссе, 22-й километр, домовладение 4, строение 1</td>\n",
       "      <td>36</td>\n",
       "      <td>поселение московский</td>\n",
       "    </tr>\n",
       "    <tr>\n",
       "      <th>15280</th>\n",
       "      <td>15365</td>\n",
       "      <td>222535</td>\n",
       "      <td>шоколадница</td>\n",
       "      <td>да</td>\n",
       "      <td>кафе</td>\n",
       "      <td>город москва, ходынский бульвар, дом 4</td>\n",
       "      <td>10</td>\n",
       "      <td>ходынский бульвар</td>\n",
       "    </tr>\n",
       "  </tbody>\n",
       "</table>\n",
       "<p>15049 rows × 8 columns</p>\n",
       "</div>"
      ],
      "text/plain": [
       "       index      id             object_name chain object_type  \\\n",
       "0          0  151635                 сметана   нет        кафе   \n",
       "1          1   77874                  родник   нет        кафе   \n",
       "2          2   24309         кафе «академия»   нет        кафе   \n",
       "3          3   21894              пиццетория    да        кафе   \n",
       "4          4  119365  кафе «вишневая метель»   нет        кафе   \n",
       "...      ...     ...                     ...   ...         ...   \n",
       "15276  15361  208537             шоколадница    да        кафе   \n",
       "15277  15362  209264             шоколадница    да        кафе   \n",
       "15278  15363  209186             шоколадница    да        кафе   \n",
       "15279  15364  221900             шоколадница    да        кафе   \n",
       "15280  15365  222535             шоколадница    да        кафе   \n",
       "\n",
       "                                                                                             address  \\\n",
       "0                                                         город москва, улица егора абакумова, дом 9   \n",
       "1                                                  город москва, улица талалихина, дом 2/1, корпус 1   \n",
       "2                                                          город москва, абельмановская улица, дом 6   \n",
       "3                                                            город москва, абрамцевская улица, дом 1   \n",
       "4                                                  город москва, абрамцевская улица, дом 9, корпус 1   \n",
       "...                                                                                              ...   \n",
       "15276                                                   город москва, 3-й крутицкий переулок, дом 18   \n",
       "15277                                                       город москва, улица земляной вал, дом 33   \n",
       "15278                                                       город москва, улица земляной вал, дом 33   \n",
       "15279  город москва, поселение московский, киевское шоссе, 22-й километр, домовладение 4, строение 1   \n",
       "15280                                                         город москва, ходынский бульвар, дом 4   \n",
       "\n",
       "       number              street_name  \n",
       "0          48    улица егора абакумова  \n",
       "1          35         улица талалихина  \n",
       "2          95     абельмановская улица  \n",
       "3          40       абрамцевская улица  \n",
       "4          50       абрамцевская улица  \n",
       "...       ...                      ...  \n",
       "15276      50   3-й крутицкий переулок  \n",
       "15277      10       улица земляной вал  \n",
       "15278      20       улица земляной вал  \n",
       "15279      36     поселение московский  \n",
       "15280      10        ходынский бульвар  \n",
       "\n",
       "[15049 rows x 8 columns]"
      ]
     },
     "metadata": {},
     "output_type": "display_data"
    },
    {
     "name": "stdout",
     "output_type": "stream",
     "text": [
      "<class 'pandas.core.frame.DataFrame'>\n",
      "Int64Index: 15049 entries, 0 to 15280\n",
      "Data columns (total 8 columns):\n",
      " #   Column       Non-Null Count  Dtype \n",
      "---  ------       --------------  ----- \n",
      " 0   index        15049 non-null  int64 \n",
      " 1   id           15049 non-null  int64 \n",
      " 2   object_name  15049 non-null  object\n",
      " 3   chain        15049 non-null  object\n",
      " 4   object_type  15049 non-null  object\n",
      " 5   address      15049 non-null  object\n",
      " 6   number       15049 non-null  int64 \n",
      " 7   street_name  15049 non-null  object\n",
      "dtypes: int64(3), object(5)\n",
      "memory usage: 1.0+ MB\n"
     ]
    }
   ],
   "source": [
    "# уберем из данных город зеленоград, поскольку он попадает в топ\n",
    "rest_data['street_name'] = rest_data['address'].apply(lambda x: x.split(',')[1])\n",
    "rest_data = rest_data.query('street_name != \" город зеленоград\"')\n",
    "display(rest_data)\n",
    "rest_data.info()"
   ]
  },
  {
   "cell_type": "code",
   "execution_count": 19,
   "metadata": {},
   "outputs": [
    {
     "data": {
      "text/html": [
       "<div>\n",
       "<style scoped>\n",
       "    .dataframe tbody tr th:only-of-type {\n",
       "        vertical-align: middle;\n",
       "    }\n",
       "\n",
       "    .dataframe tbody tr th {\n",
       "        vertical-align: top;\n",
       "    }\n",
       "\n",
       "    .dataframe thead th {\n",
       "        text-align: right;\n",
       "    }\n",
       "</style>\n",
       "<table border=\"1\" class=\"dataframe\">\n",
       "  <thead>\n",
       "    <tr style=\"text-align: right;\">\n",
       "      <th></th>\n",
       "      <th>street_name</th>\n",
       "      <th>index</th>\n",
       "      <th>id</th>\n",
       "      <th>object_name</th>\n",
       "      <th>chain</th>\n",
       "      <th>object_type</th>\n",
       "      <th>address</th>\n",
       "      <th>number</th>\n",
       "    </tr>\n",
       "  </thead>\n",
       "  <tbody>\n",
       "    <tr>\n",
       "      <th>0</th>\n",
       "      <td>проспект мира</td>\n",
       "      <td>203</td>\n",
       "      <td>203</td>\n",
       "      <td>203</td>\n",
       "      <td>203</td>\n",
       "      <td>203</td>\n",
       "      <td>203</td>\n",
       "      <td>203</td>\n",
       "    </tr>\n",
       "    <tr>\n",
       "      <th>1</th>\n",
       "      <td>профсоюзная улица</td>\n",
       "      <td>181</td>\n",
       "      <td>181</td>\n",
       "      <td>181</td>\n",
       "      <td>181</td>\n",
       "      <td>181</td>\n",
       "      <td>181</td>\n",
       "      <td>181</td>\n",
       "    </tr>\n",
       "    <tr>\n",
       "      <th>2</th>\n",
       "      <td>ленинградский проспект</td>\n",
       "      <td>170</td>\n",
       "      <td>170</td>\n",
       "      <td>170</td>\n",
       "      <td>170</td>\n",
       "      <td>170</td>\n",
       "      <td>170</td>\n",
       "      <td>170</td>\n",
       "    </tr>\n",
       "    <tr>\n",
       "      <th>3</th>\n",
       "      <td>пресненская набережная</td>\n",
       "      <td>167</td>\n",
       "      <td>167</td>\n",
       "      <td>167</td>\n",
       "      <td>167</td>\n",
       "      <td>167</td>\n",
       "      <td>167</td>\n",
       "      <td>167</td>\n",
       "    </tr>\n",
       "    <tr>\n",
       "      <th>4</th>\n",
       "      <td>варшавское шоссе</td>\n",
       "      <td>161</td>\n",
       "      <td>161</td>\n",
       "      <td>161</td>\n",
       "      <td>161</td>\n",
       "      <td>161</td>\n",
       "      <td>161</td>\n",
       "      <td>161</td>\n",
       "    </tr>\n",
       "    <tr>\n",
       "      <th>5</th>\n",
       "      <td>ленинский проспект</td>\n",
       "      <td>147</td>\n",
       "      <td>147</td>\n",
       "      <td>147</td>\n",
       "      <td>147</td>\n",
       "      <td>147</td>\n",
       "      <td>147</td>\n",
       "      <td>147</td>\n",
       "    </tr>\n",
       "    <tr>\n",
       "      <th>6</th>\n",
       "      <td>поселение сосенское</td>\n",
       "      <td>137</td>\n",
       "      <td>137</td>\n",
       "      <td>137</td>\n",
       "      <td>137</td>\n",
       "      <td>137</td>\n",
       "      <td>137</td>\n",
       "      <td>137</td>\n",
       "    </tr>\n",
       "    <tr>\n",
       "      <th>7</th>\n",
       "      <td>проспект вернадского</td>\n",
       "      <td>128</td>\n",
       "      <td>128</td>\n",
       "      <td>128</td>\n",
       "      <td>128</td>\n",
       "      <td>128</td>\n",
       "      <td>128</td>\n",
       "      <td>128</td>\n",
       "    </tr>\n",
       "    <tr>\n",
       "      <th>8</th>\n",
       "      <td>кутузовский проспект</td>\n",
       "      <td>114</td>\n",
       "      <td>114</td>\n",
       "      <td>114</td>\n",
       "      <td>114</td>\n",
       "      <td>114</td>\n",
       "      <td>114</td>\n",
       "      <td>114</td>\n",
       "    </tr>\n",
       "    <tr>\n",
       "      <th>9</th>\n",
       "      <td>каширское шоссе</td>\n",
       "      <td>111</td>\n",
       "      <td>111</td>\n",
       "      <td>111</td>\n",
       "      <td>111</td>\n",
       "      <td>111</td>\n",
       "      <td>111</td>\n",
       "      <td>111</td>\n",
       "    </tr>\n",
       "  </tbody>\n",
       "</table>\n",
       "</div>"
      ],
      "text/plain": [
       "               street_name  index   id  object_name  chain  object_type  \\\n",
       "0            проспект мира    203  203          203    203          203   \n",
       "1        профсоюзная улица    181  181          181    181          181   \n",
       "2   ленинградский проспект    170  170          170    170          170   \n",
       "3   пресненская набережная    167  167          167    167          167   \n",
       "4         варшавское шоссе    161  161          161    161          161   \n",
       "5       ленинский проспект    147  147          147    147          147   \n",
       "6      поселение сосенское    137  137          137    137          137   \n",
       "7     проспект вернадского    128  128          128    128          128   \n",
       "8     кутузовский проспект    114  114          114    114          114   \n",
       "9          каширское шоссе    111  111          111    111          111   \n",
       "\n",
       "   address  number  \n",
       "0      203     203  \n",
       "1      181     181  \n",
       "2      170     170  \n",
       "3      167     167  \n",
       "4      161     161  \n",
       "5      147     147  \n",
       "6      137     137  \n",
       "7      128     128  \n",
       "8      114     114  \n",
       "9      111     111  "
      ]
     },
     "execution_count": 19,
     "metadata": {},
     "output_type": "execute_result"
    }
   ],
   "source": [
    "# \n",
    "temp = rest_data.groupby('street_name').count().sort_values(by='object_type', ascending=False).head(10).reset_index()\n",
    "top_10 = list(temp['street_name'])\n",
    "temp"
   ]
  },
  {
   "cell_type": "code",
   "execution_count": 20,
   "metadata": {
    "scrolled": true
   },
   "outputs": [
    {
     "data": {
      "image/png": "[encoded data removed]",
      "text/plain": [
       "<Figure size 432x288 with 1 Axes>"
      ]
     },
     "metadata": {
      "needs_background": "light"
     },
     "output_type": "display_data"
    }
   ],
   "source": [
    "ax = sns.barplot(x='object_type', y='street_name', data=temp, palette=\"Set3\")\n",
    "ax.set_title('Топ-10 улиц по количеству объектов общественного питания')\n",
    "ax.set_xlabel('Количество объектов')\n",
    "ax.set_ylabel('Название улицы')\n",
    "plt.xticks(rotation=45)\n",
    "rects = ax.patches\n",
    "\n",
    "\n",
    "for rect in rects:\n",
    "    \n",
    "    x_value = rect.get_width()\n",
    "    y_value = rect.get_y() + rect.get_height() / 2\n",
    "\n",
    "    \n",
    "    space = 5\n",
    "    \n",
    "    ha = 'left'\n",
    "\n",
    "    \n",
    "    if x_value < 0:\n",
    "        \n",
    "        space *= -1\n",
    "        \n",
    "        ha = 'right'\n",
    "\n",
    "    \n",
    "    label = \"{:.1f}\".format(x_value)\n",
    "\n",
    "    \n",
    "    plt.annotate(\n",
    "        label,                      \n",
    "        (x_value, y_value),         \n",
    "        xytext=(space, 0),         \n",
    "        textcoords=\"offset points\", \n",
    "        va='center',                \n",
    "        ha=ha)       \n",
    "plt.show()"
   ]
  },
  {
   "cell_type": "markdown",
   "metadata": {},
   "source": [
    "Наиболее популярные улицы проспект Мира, Профсоюзная улица, Ленинградский проспект. Думаю, что это не тот топ который нам нужен. БОльшее значение будет иметь концентрация таких заведений на условно квадратный километр. То есть топ по районам. Хотя тут непонятно, как это должно выглядеть в данных, поскольку административные районы не пойдут в силу различий в размерах как и улицы."
   ]
  },
  {
   "cell_type": "code",
   "execution_count": 21,
   "metadata": {},
   "outputs": [
    {
     "data": {
      "image/png": "[encoded data removed]",
      "text/plain": [
       "<Figure size 1152x432 with 1 Axes>"
      ]
     },
     "metadata": {
      "needs_background": "light"
     },
     "output_type": "display_data"
    }
   ],
   "source": [
    "plt.figure(figsize=(16,6))\n",
    "\n",
    "plt.bar(temp[\"street_name\"],temp[\"object_type\"])\n",
    "plt.title('Топ-10 улиц по количеству объектов общественного питания')\n",
    "plt.xlabel('Название улицы')\n",
    "plt.ylabel('Количество объектов')\n",
    "\n",
    "plt.xticks(rotation=45)\n",
    "\n",
    "for x,y in zip(temp[\"street_name\"],temp[\"object_type\"]):\n",
    "\n",
    "    label = \"{}\".format(y)\n",
    "\n",
    "    plt.annotate(label, \n",
    "                 (x,y), \n",
    "                 textcoords=\"offset points\", \n",
    "                 xytext=(0,6), \n",
    "                 ha='center') \n",
    "\n",
    "\n",
    "plt.show()"
   ]
  },
  {
   "cell_type": "code",
   "execution_count": 22,
   "metadata": {},
   "outputs": [
    {
     "data": {
      "text/html": [
       "<div>\n",
       "<style scoped>\n",
       "    .dataframe tbody tr th:only-of-type {\n",
       "        vertical-align: middle;\n",
       "    }\n",
       "\n",
       "    .dataframe tbody tr th {\n",
       "        vertical-align: top;\n",
       "    }\n",
       "\n",
       "    .dataframe thead th {\n",
       "        text-align: right;\n",
       "    }\n",
       "</style>\n",
       "<table border=\"1\" class=\"dataframe\">\n",
       "  <thead>\n",
       "    <tr style=\"text-align: right;\">\n",
       "      <th></th>\n",
       "      <th>streetname</th>\n",
       "      <th>areaid</th>\n",
       "      <th>okrug</th>\n",
       "      <th>area</th>\n",
       "    </tr>\n",
       "  </thead>\n",
       "  <tbody>\n",
       "    <tr>\n",
       "      <th>0</th>\n",
       "      <td>Выставочный переулок</td>\n",
       "      <td>17</td>\n",
       "      <td>ЦАО</td>\n",
       "      <td>Пресненский район</td>\n",
       "    </tr>\n",
       "    <tr>\n",
       "      <th>1</th>\n",
       "      <td>улица Гашека</td>\n",
       "      <td>17</td>\n",
       "      <td>ЦАО</td>\n",
       "      <td>Пресненский район</td>\n",
       "    </tr>\n",
       "    <tr>\n",
       "      <th>2</th>\n",
       "      <td>Большая Никитская улица</td>\n",
       "      <td>17</td>\n",
       "      <td>ЦАО</td>\n",
       "      <td>Пресненский район</td>\n",
       "    </tr>\n",
       "    <tr>\n",
       "      <th>3</th>\n",
       "      <td>Глубокий переулок</td>\n",
       "      <td>17</td>\n",
       "      <td>ЦАО</td>\n",
       "      <td>Пресненский район</td>\n",
       "    </tr>\n",
       "    <tr>\n",
       "      <th>4</th>\n",
       "      <td>Большой Гнездниковский переулок</td>\n",
       "      <td>17</td>\n",
       "      <td>ЦАО</td>\n",
       "      <td>Пресненский район</td>\n",
       "    </tr>\n",
       "    <tr>\n",
       "      <th>...</th>\n",
       "      <td>...</td>\n",
       "      <td>...</td>\n",
       "      <td>...</td>\n",
       "      <td>...</td>\n",
       "    </tr>\n",
       "    <tr>\n",
       "      <th>4393</th>\n",
       "      <td>Вознесенский проезд</td>\n",
       "      <td>17</td>\n",
       "      <td>ЦАО</td>\n",
       "      <td>Пресненский район</td>\n",
       "    </tr>\n",
       "    <tr>\n",
       "      <th>4394</th>\n",
       "      <td>Волков переулок</td>\n",
       "      <td>17</td>\n",
       "      <td>ЦАО</td>\n",
       "      <td>Пресненский район</td>\n",
       "    </tr>\n",
       "    <tr>\n",
       "      <th>4395</th>\n",
       "      <td>Поварская улица</td>\n",
       "      <td>17</td>\n",
       "      <td>ЦАО</td>\n",
       "      <td>Пресненский район</td>\n",
       "    </tr>\n",
       "    <tr>\n",
       "      <th>4396</th>\n",
       "      <td>Кудринская площадь</td>\n",
       "      <td>17</td>\n",
       "      <td>ЦАО</td>\n",
       "      <td>Пресненский район</td>\n",
       "    </tr>\n",
       "    <tr>\n",
       "      <th>4397</th>\n",
       "      <td>Вспольный переулок</td>\n",
       "      <td>17</td>\n",
       "      <td>ЦАО</td>\n",
       "      <td>Пресненский район</td>\n",
       "    </tr>\n",
       "  </tbody>\n",
       "</table>\n",
       "<p>4398 rows × 4 columns</p>\n",
       "</div>"
      ],
      "text/plain": [
       "                           streetname  areaid okrug               area\n",
       "0                Выставочный переулок      17   ЦАО  Пресненский район\n",
       "1                        улица Гашека      17   ЦАО  Пресненский район\n",
       "2             Большая Никитская улица      17   ЦАО  Пресненский район\n",
       "3                   Глубокий переулок      17   ЦАО  Пресненский район\n",
       "4     Большой Гнездниковский переулок      17   ЦАО  Пресненский район\n",
       "...                               ...     ...   ...                ...\n",
       "4393              Вознесенский проезд      17   ЦАО  Пресненский район\n",
       "4394                  Волков переулок      17   ЦАО  Пресненский район\n",
       "4395                  Поварская улица      17   ЦАО  Пресненский район\n",
       "4396               Кудринская площадь      17   ЦАО  Пресненский район\n",
       "4397               Вспольный переулок      17   ЦАО  Пресненский район\n",
       "\n",
       "[4398 rows x 4 columns]"
      ]
     },
     "execution_count": 22,
     "metadata": {},
     "output_type": "execute_result"
    }
   ],
   "source": [
    "# выгрузим данные по районам и улицам\n",
    "from io import BytesIO\n",
    "import requests\n",
    "spreadsheet_id = '1CPDYDGjKCb6jGoQt9KR5WOvTspK-dHS3NUrVeqsyqJs'\n",
    "file_name = 'https://docs.google.com/spreadsheets/d/{}/export?format=csv'.format(spreadsheet_id)\n",
    "r = requests.get(file_name)\n",
    "district = pd.read_csv(BytesIO(r.content))\n",
    "district"
   ]
  },
  {
   "cell_type": "code",
   "execution_count": 23,
   "metadata": {},
   "outputs": [],
   "source": [
    "district['streetname'] = district['streetname'].str.lower()\n",
    "district = district.rename(columns={'streetname':'street_name'})\n",
    "temp['street_name'] = temp['street_name'].str.strip()"
   ]
  },
  {
   "cell_type": "code",
   "execution_count": 24,
   "metadata": {
    "scrolled": true
   },
   "outputs": [
    {
     "data": {
      "text/html": [
       "<div>\n",
       "<style scoped>\n",
       "    .dataframe tbody tr th:only-of-type {\n",
       "        vertical-align: middle;\n",
       "    }\n",
       "\n",
       "    .dataframe tbody tr th {\n",
       "        vertical-align: top;\n",
       "    }\n",
       "\n",
       "    .dataframe thead th {\n",
       "        text-align: right;\n",
       "    }\n",
       "</style>\n",
       "<table border=\"1\" class=\"dataframe\">\n",
       "  <thead>\n",
       "    <tr style=\"text-align: right;\">\n",
       "      <th></th>\n",
       "      <th>street_name</th>\n",
       "      <th>index</th>\n",
       "      <th>okrug</th>\n",
       "      <th>area</th>\n",
       "    </tr>\n",
       "  </thead>\n",
       "  <tbody>\n",
       "    <tr>\n",
       "      <th>0</th>\n",
       "      <td>проспект мира</td>\n",
       "      <td>203</td>\n",
       "      <td>СВАО</td>\n",
       "      <td>Алексеевский район</td>\n",
       "    </tr>\n",
       "    <tr>\n",
       "      <th>1</th>\n",
       "      <td>проспект мира</td>\n",
       "      <td>203</td>\n",
       "      <td>СВАО</td>\n",
       "      <td>Ярославский Район</td>\n",
       "    </tr>\n",
       "    <tr>\n",
       "      <th>2</th>\n",
       "      <td>проспект мира</td>\n",
       "      <td>203</td>\n",
       "      <td>СВАО</td>\n",
       "      <td>Район Марьина роща</td>\n",
       "    </tr>\n",
       "    <tr>\n",
       "      <th>3</th>\n",
       "      <td>проспект мира</td>\n",
       "      <td>203</td>\n",
       "      <td>СВАО</td>\n",
       "      <td>Останкинский район</td>\n",
       "    </tr>\n",
       "    <tr>\n",
       "      <th>4</th>\n",
       "      <td>проспект мира</td>\n",
       "      <td>203</td>\n",
       "      <td>СВАО</td>\n",
       "      <td>Район Ростокино</td>\n",
       "    </tr>\n",
       "    <tr>\n",
       "      <th>5</th>\n",
       "      <td>проспект мира</td>\n",
       "      <td>203</td>\n",
       "      <td>СВАО</td>\n",
       "      <td>Район Свиблово</td>\n",
       "    </tr>\n",
       "    <tr>\n",
       "      <th>6</th>\n",
       "      <td>проспект мира</td>\n",
       "      <td>203</td>\n",
       "      <td>ЦАО</td>\n",
       "      <td>Мещанский район</td>\n",
       "    </tr>\n",
       "    <tr>\n",
       "      <th>7</th>\n",
       "      <td>профсоюзная улица</td>\n",
       "      <td>181</td>\n",
       "      <td>ЮЗАО</td>\n",
       "      <td>Академический район</td>\n",
       "    </tr>\n",
       "    <tr>\n",
       "      <th>8</th>\n",
       "      <td>профсоюзная улица</td>\n",
       "      <td>181</td>\n",
       "      <td>ЮЗАО</td>\n",
       "      <td>Район Черемушки</td>\n",
       "    </tr>\n",
       "    <tr>\n",
       "      <th>9</th>\n",
       "      <td>профсоюзная улица</td>\n",
       "      <td>181</td>\n",
       "      <td>ЮЗАО</td>\n",
       "      <td>Район Ясенево</td>\n",
       "    </tr>\n",
       "    <tr>\n",
       "      <th>10</th>\n",
       "      <td>профсоюзная улица</td>\n",
       "      <td>181</td>\n",
       "      <td>ЮЗАО</td>\n",
       "      <td>Район Коньково</td>\n",
       "    </tr>\n",
       "    <tr>\n",
       "      <th>11</th>\n",
       "      <td>профсоюзная улица</td>\n",
       "      <td>181</td>\n",
       "      <td>ЮЗАО</td>\n",
       "      <td>Обручевский район</td>\n",
       "    </tr>\n",
       "    <tr>\n",
       "      <th>12</th>\n",
       "      <td>профсоюзная улица</td>\n",
       "      <td>181</td>\n",
       "      <td>ЮЗАО</td>\n",
       "      <td>Район Теплый Стан</td>\n",
       "    </tr>\n",
       "    <tr>\n",
       "      <th>13</th>\n",
       "      <td>ленинградский проспект</td>\n",
       "      <td>170</td>\n",
       "      <td>САО</td>\n",
       "      <td>Район Аэропорт</td>\n",
       "    </tr>\n",
       "    <tr>\n",
       "      <th>14</th>\n",
       "      <td>ленинградский проспект</td>\n",
       "      <td>170</td>\n",
       "      <td>САО</td>\n",
       "      <td>Район Беговой</td>\n",
       "    </tr>\n",
       "    <tr>\n",
       "      <th>15</th>\n",
       "      <td>ленинградский проспект</td>\n",
       "      <td>170</td>\n",
       "      <td>САО</td>\n",
       "      <td>Хорошевский район</td>\n",
       "    </tr>\n",
       "    <tr>\n",
       "      <th>16</th>\n",
       "      <td>ленинградский проспект</td>\n",
       "      <td>170</td>\n",
       "      <td>САО</td>\n",
       "      <td>Район Сокол</td>\n",
       "    </tr>\n",
       "    <tr>\n",
       "      <th>17</th>\n",
       "      <td>пресненская набережная</td>\n",
       "      <td>167</td>\n",
       "      <td>ЦАО</td>\n",
       "      <td>Пресненский район</td>\n",
       "    </tr>\n",
       "    <tr>\n",
       "      <th>18</th>\n",
       "      <td>варшавское шоссе</td>\n",
       "      <td>161</td>\n",
       "      <td>ЮАО</td>\n",
       "      <td>Район Чертаново Центральное</td>\n",
       "    </tr>\n",
       "    <tr>\n",
       "      <th>19</th>\n",
       "      <td>варшавское шоссе</td>\n",
       "      <td>161</td>\n",
       "      <td>ЮАО</td>\n",
       "      <td>Район Чертаново Северное</td>\n",
       "    </tr>\n",
       "    <tr>\n",
       "      <th>20</th>\n",
       "      <td>варшавское шоссе</td>\n",
       "      <td>161</td>\n",
       "      <td>ЮАО</td>\n",
       "      <td>Район Чертаново Южное</td>\n",
       "    </tr>\n",
       "    <tr>\n",
       "      <th>21</th>\n",
       "      <td>варшавское шоссе</td>\n",
       "      <td>161</td>\n",
       "      <td>ЮАО</td>\n",
       "      <td>Донской район</td>\n",
       "    </tr>\n",
       "    <tr>\n",
       "      <th>22</th>\n",
       "      <td>варшавское шоссе</td>\n",
       "      <td>161</td>\n",
       "      <td>ЮАО</td>\n",
       "      <td>Район Нагатино-Садовники</td>\n",
       "    </tr>\n",
       "    <tr>\n",
       "      <th>23</th>\n",
       "      <td>варшавское шоссе</td>\n",
       "      <td>161</td>\n",
       "      <td>ЮАО</td>\n",
       "      <td>Нагорный район</td>\n",
       "    </tr>\n",
       "    <tr>\n",
       "      <th>24</th>\n",
       "      <td>варшавское шоссе</td>\n",
       "      <td>161</td>\n",
       "      <td>ЮЗАО</td>\n",
       "      <td>Район Северное Бутово</td>\n",
       "    </tr>\n",
       "    <tr>\n",
       "      <th>25</th>\n",
       "      <td>варшавское шоссе</td>\n",
       "      <td>161</td>\n",
       "      <td>ЮЗАО</td>\n",
       "      <td>Район Южное Бутово</td>\n",
       "    </tr>\n",
       "    <tr>\n",
       "      <th>26</th>\n",
       "      <td>ленинский проспект</td>\n",
       "      <td>147</td>\n",
       "      <td>ЗАО</td>\n",
       "      <td>Район Проспект Вернадского</td>\n",
       "    </tr>\n",
       "    <tr>\n",
       "      <th>27</th>\n",
       "      <td>ленинский проспект</td>\n",
       "      <td>147</td>\n",
       "      <td>ЗАО</td>\n",
       "      <td>Район Тропарево-Никулино</td>\n",
       "    </tr>\n",
       "    <tr>\n",
       "      <th>28</th>\n",
       "      <td>ленинский проспект</td>\n",
       "      <td>147</td>\n",
       "      <td>ЮАО</td>\n",
       "      <td>Донской район</td>\n",
       "    </tr>\n",
       "    <tr>\n",
       "      <th>29</th>\n",
       "      <td>ленинский проспект</td>\n",
       "      <td>147</td>\n",
       "      <td>ЮЗАО</td>\n",
       "      <td>Район Гагаринский</td>\n",
       "    </tr>\n",
       "    <tr>\n",
       "      <th>30</th>\n",
       "      <td>ленинский проспект</td>\n",
       "      <td>147</td>\n",
       "      <td>ЮЗАО</td>\n",
       "      <td>Ломоносовский район</td>\n",
       "    </tr>\n",
       "    <tr>\n",
       "      <th>31</th>\n",
       "      <td>ленинский проспект</td>\n",
       "      <td>147</td>\n",
       "      <td>ЮЗАО</td>\n",
       "      <td>Обручевский район</td>\n",
       "    </tr>\n",
       "    <tr>\n",
       "      <th>32</th>\n",
       "      <td>ленинский проспект</td>\n",
       "      <td>147</td>\n",
       "      <td>ЮЗАО</td>\n",
       "      <td>Район Теплый Стан</td>\n",
       "    </tr>\n",
       "    <tr>\n",
       "      <th>33</th>\n",
       "      <td>ленинский проспект</td>\n",
       "      <td>147</td>\n",
       "      <td>ЦАО</td>\n",
       "      <td>Район Якиманка</td>\n",
       "    </tr>\n",
       "    <tr>\n",
       "      <th>34</th>\n",
       "      <td>поселение сосенское</td>\n",
       "      <td>137</td>\n",
       "      <td>NaN</td>\n",
       "      <td>NaN</td>\n",
       "    </tr>\n",
       "    <tr>\n",
       "      <th>35</th>\n",
       "      <td>проспект вернадского</td>\n",
       "      <td>128</td>\n",
       "      <td>ЗАО</td>\n",
       "      <td>Район Проспект Вернадского</td>\n",
       "    </tr>\n",
       "    <tr>\n",
       "      <th>36</th>\n",
       "      <td>проспект вернадского</td>\n",
       "      <td>128</td>\n",
       "      <td>ЗАО</td>\n",
       "      <td>Район Раменки</td>\n",
       "    </tr>\n",
       "    <tr>\n",
       "      <th>37</th>\n",
       "      <td>проспект вернадского</td>\n",
       "      <td>128</td>\n",
       "      <td>ЗАО</td>\n",
       "      <td>Район Тропарево-Никулино</td>\n",
       "    </tr>\n",
       "    <tr>\n",
       "      <th>38</th>\n",
       "      <td>проспект вернадского</td>\n",
       "      <td>128</td>\n",
       "      <td>ЮЗАО</td>\n",
       "      <td>Район Гагаринский</td>\n",
       "    </tr>\n",
       "    <tr>\n",
       "      <th>39</th>\n",
       "      <td>проспект вернадского</td>\n",
       "      <td>128</td>\n",
       "      <td>ЮЗАО</td>\n",
       "      <td>Ломоносовский район</td>\n",
       "    </tr>\n",
       "    <tr>\n",
       "      <th>40</th>\n",
       "      <td>кутузовский проспект</td>\n",
       "      <td>114</td>\n",
       "      <td>ЗАО</td>\n",
       "      <td>Район Дорогомилово</td>\n",
       "    </tr>\n",
       "    <tr>\n",
       "      <th>41</th>\n",
       "      <td>кутузовский проспект</td>\n",
       "      <td>114</td>\n",
       "      <td>ЗАО</td>\n",
       "      <td>Район Фили-Давыдково</td>\n",
       "    </tr>\n",
       "    <tr>\n",
       "      <th>42</th>\n",
       "      <td>каширское шоссе</td>\n",
       "      <td>111</td>\n",
       "      <td>ЮАО</td>\n",
       "      <td>Район Москворечье-Сабурово</td>\n",
       "    </tr>\n",
       "    <tr>\n",
       "      <th>43</th>\n",
       "      <td>каширское шоссе</td>\n",
       "      <td>111</td>\n",
       "      <td>ЮАО</td>\n",
       "      <td>Район Нагатино-Садовники</td>\n",
       "    </tr>\n",
       "    <tr>\n",
       "      <th>44</th>\n",
       "      <td>каширское шоссе</td>\n",
       "      <td>111</td>\n",
       "      <td>ЮАО</td>\n",
       "      <td>Район Орехово-Борисово Южное</td>\n",
       "    </tr>\n",
       "    <tr>\n",
       "      <th>45</th>\n",
       "      <td>каширское шоссе</td>\n",
       "      <td>111</td>\n",
       "      <td>ЮАО</td>\n",
       "      <td>Район Орехово-Борисово Северное</td>\n",
       "    </tr>\n",
       "  </tbody>\n",
       "</table>\n",
       "</div>"
      ],
      "text/plain": [
       "               street_name  index okrug                             area\n",
       "0            проспект мира    203  СВАО               Алексеевский район\n",
       "1            проспект мира    203  СВАО                Ярославский Район\n",
       "2            проспект мира    203  СВАО               Район Марьина роща\n",
       "3            проспект мира    203  СВАО               Останкинский район\n",
       "4            проспект мира    203  СВАО                  Район Ростокино\n",
       "5            проспект мира    203  СВАО                   Район Свиблово\n",
       "6            проспект мира    203   ЦАО                  Мещанский район\n",
       "7        профсоюзная улица    181  ЮЗАО              Академический район\n",
       "8        профсоюзная улица    181  ЮЗАО                  Район Черемушки\n",
       "9        профсоюзная улица    181  ЮЗАО                    Район Ясенево\n",
       "10       профсоюзная улица    181  ЮЗАО                   Район Коньково\n",
       "11       профсоюзная улица    181  ЮЗАО                Обручевский район\n",
       "12       профсоюзная улица    181  ЮЗАО                Район Теплый Стан\n",
       "13  ленинградский проспект    170   САО                   Район Аэропорт\n",
       "14  ленинградский проспект    170   САО                    Район Беговой\n",
       "15  ленинградский проспект    170   САО                Хорошевский район\n",
       "16  ленинградский проспект    170   САО                      Район Сокол\n",
       "17  пресненская набережная    167   ЦАО                Пресненский район\n",
       "18        варшавское шоссе    161   ЮАО      Район Чертаново Центральное\n",
       "19        варшавское шоссе    161   ЮАО         Район Чертаново Северное\n",
       "20        варшавское шоссе    161   ЮАО            Район Чертаново Южное\n",
       "21        варшавское шоссе    161   ЮАО                    Донской район\n",
       "22        варшавское шоссе    161   ЮАО         Район Нагатино-Садовники\n",
       "23        варшавское шоссе    161   ЮАО                   Нагорный район\n",
       "24        варшавское шоссе    161  ЮЗАО            Район Северное Бутово\n",
       "25        варшавское шоссе    161  ЮЗАО               Район Южное Бутово\n",
       "26      ленинский проспект    147   ЗАО       Район Проспект Вернадского\n",
       "27      ленинский проспект    147   ЗАО         Район Тропарево-Никулино\n",
       "28      ленинский проспект    147   ЮАО                    Донской район\n",
       "29      ленинский проспект    147  ЮЗАО                Район Гагаринский\n",
       "30      ленинский проспект    147  ЮЗАО              Ломоносовский район\n",
       "31      ленинский проспект    147  ЮЗАО                Обручевский район\n",
       "32      ленинский проспект    147  ЮЗАО                Район Теплый Стан\n",
       "33      ленинский проспект    147   ЦАО                   Район Якиманка\n",
       "34     поселение сосенское    137   NaN                              NaN\n",
       "35    проспект вернадского    128   ЗАО       Район Проспект Вернадского\n",
       "36    проспект вернадского    128   ЗАО                    Район Раменки\n",
       "37    проспект вернадского    128   ЗАО         Район Тропарево-Никулино\n",
       "38    проспект вернадского    128  ЮЗАО                Район Гагаринский\n",
       "39    проспект вернадского    128  ЮЗАО              Ломоносовский район\n",
       "40    кутузовский проспект    114   ЗАО               Район Дорогомилово\n",
       "41    кутузовский проспект    114   ЗАО             Район Фили-Давыдково\n",
       "42         каширское шоссе    111   ЮАО       Район Москворечье-Сабурово\n",
       "43         каширское шоссе    111   ЮАО         Район Нагатино-Садовники\n",
       "44         каширское шоссе    111   ЮАО     Район Орехово-Борисово Южное\n",
       "45         каширское шоссе    111   ЮАО  Район Орехово-Борисово Северное"
      ]
     },
     "execution_count": 24,
     "metadata": {},
     "output_type": "execute_result"
    }
   ],
   "source": [
    "#объединяем районы с улицами\n",
    "include_streets = temp.merge(district, on='street_name', how='left')\n",
    "include_streets = include_streets.drop(['id','areaid', 'object_name', 'chain', 'object_type', 'address', 'number'],1)\n",
    "include_streets"
   ]
  },
  {
   "cell_type": "markdown",
   "metadata": {},
   "source": [
    "Соотнесли районы с улицами."
   ]
  },
  {
   "cell_type": "markdown",
   "metadata": {},
   "source": [
    "### Число улиц с одним объектом общественного питания"
   ]
  },
  {
   "cell_type": "code",
   "execution_count": 25,
   "metadata": {},
   "outputs": [
    {
     "name": "stdout",
     "output_type": "stream",
     "text": [
      "<class 'pandas.core.frame.DataFrame'>\n",
      "RangeIndex: 579 entries, 0 to 578\n",
      "Data columns (total 1 columns):\n",
      " #   Column       Non-Null Count  Dtype \n",
      "---  ------       --------------  ----- \n",
      " 0   street_name  579 non-null    object\n",
      "dtypes: object(1)\n",
      "memory usage: 4.6+ KB\n"
     ]
    }
   ],
   "source": [
    "# срежем до 1 предприятия питания на 1 улице\n",
    "one = rest_data.groupby('street_name').agg({'object_name': 'count'}).sort_values(by = 'object_name', ascending = False)\n",
    "one = one.query('object_name == 1')\n",
    "one = one.drop('object_name',1)\n",
    "one = one.reset_index()\n",
    "one.info()"
   ]
  },
  {
   "cell_type": "code",
   "execution_count": 26,
   "metadata": {},
   "outputs": [
    {
     "data": {
      "text/plain": [
       "99"
      ]
     },
     "execution_count": 26,
     "metadata": {},
     "output_type": "execute_result"
    }
   ],
   "source": [
    "#Добавим район и округ и удалим сразу дубликаты\n",
    "one['street_name'] = one['street_name'].str.strip()\n",
    "one = one.merge(district, on='street_name', how='left')\n",
    "area_nunique = one['area'].drop_duplicates()\n",
    "area_nunique = area_nunique.dropna()\n",
    "len(area_nunique)"
   ]
  },
  {
   "cell_type": "code",
   "execution_count": 27,
   "metadata": {},
   "outputs": [
    {
     "data": {
      "text/plain": [
       "0     Красносельский район\n",
       "1          Можайский Район\n",
       "3           Район Аэропорт\n",
       "4      Тимирязевский Район\n",
       "5          Район Лефортово\n",
       "6        Пресненский район\n",
       "7      Нижегородский район\n",
       "11    Район Соколиная Гора\n",
       "13        Район Сокольники\n",
       "14       Район Богородское\n",
       "Name: area, dtype: object"
      ]
     },
     "execution_count": 27,
     "metadata": {},
     "output_type": "execute_result"
    }
   ],
   "source": [
    "area_nunique.head(10)"
   ]
  },
  {
   "cell_type": "markdown",
   "metadata": {},
   "source": [
    "579 улиц с одним объектом общественного питания."
   ]
  },
  {
   "cell_type": "markdown",
   "metadata": {},
   "source": [
    "### Распределение количества посадочных мест для улиц с большим количеством объектов общественного питания"
   ]
  },
  {
   "cell_type": "code",
   "execution_count": 28,
   "metadata": {},
   "outputs": [
    {
     "data": {
      "image/png": "[encoded data removed]",
      "text/plain": [
       "<Figure size 432x288 with 1 Axes>"
      ]
     },
     "metadata": {
      "needs_background": "light"
     },
     "output_type": "display_data"
    }
   ],
   "source": [
    "# построим диаграмму распределения мест в заведениях\n",
    "plt.style.use('seaborn-pastel')\n",
    "temp = rest_data[rest_data['street_name'].isin(top_10)]\n",
    "ax = sns.boxplot(x=temp['number'])\n",
    "ax.set_xlim(-10,200)\n",
    "plt.title('Распределение количества мест')\n",
    "plt.xlabel('мест')\n",
    "plt.show()"
   ]
  },
  {
   "cell_type": "code",
   "execution_count": 29,
   "metadata": {
    "scrolled": true
   },
   "outputs": [
    {
     "data": {
      "image/png": "[encoded data removed]",
      "text/plain": [
       "<Figure size 432x288 with 1 Axes>"
      ]
     },
     "metadata": {
      "needs_background": "light"
     },
     "output_type": "display_data"
    }
   ],
   "source": [
    "temp_2 = temp.query('number < 500')\n",
    "plt.style.use('seaborn-pastel')\n",
    "temp_2['number'].hist(bins=30)\n",
    "plt.title('Количество мест на объектах в ТОП-10 улиц')\n",
    "plt.xlabel('мест')\n",
    "plt.show();"
   ]
  },
  {
   "cell_type": "code",
   "execution_count": 30,
   "metadata": {},
   "outputs": [
    {
     "data": {
      "image/png": "[encoded data removed]",
      "text/plain": [
       "<Figure size 432x288 with 1 Axes>"
      ]
     },
     "metadata": {
      "needs_background": "light"
     },
     "output_type": "display_data"
    }
   ],
   "source": [
    "plt.style.use('seaborn-pastel')\n",
    "ax = sns.boxplot(x=\"street_name\", y=\"number\", data=temp, orient='v')\n",
    "plt.xticks(rotation=45)\n",
    "ax.set_ylim(-10,300)\n",
    "plt.title('Распределение количества мест по улицам в ТОП-10')\n",
    "plt.xlabel('улица')\n",
    "plt.ylabel('мест')\n",
    "plt.show()"
   ]
  },
  {
   "cell_type": "code",
   "execution_count": 31,
   "metadata": {},
   "outputs": [
    {
     "data": {
      "text/plain": [
       "count    1519.000000\n",
       "mean       54.949309\n",
       "std        88.031118\n",
       "min         0.000000\n",
       "25%        12.000000\n",
       "50%        34.000000\n",
       "75%        70.000000\n",
       "max      1700.000000\n",
       "Name: number, dtype: float64"
      ]
     },
     "execution_count": 31,
     "metadata": {},
     "output_type": "execute_result"
    }
   ],
   "source": [
    "temp['number'].describe()"
   ]
  },
  {
   "cell_type": "code",
   "execution_count": 32,
   "metadata": {},
   "outputs": [
    {
     "data": {
      "text/plain": [
       "count    15049.000000\n",
       "mean        59.576982\n",
       "std         74.928754\n",
       "min          0.000000\n",
       "25%         13.000000\n",
       "50%         40.000000\n",
       "75%         80.000000\n",
       "max       1700.000000\n",
       "Name: number, dtype: float64"
      ]
     },
     "execution_count": 32,
     "metadata": {},
     "output_type": "execute_result"
    }
   ],
   "source": [
    "rest_data['number'].describe()"
   ]
  },
  {
   "cell_type": "markdown",
   "metadata": {},
   "source": [
    "Количество посадочных мест на популярных улицах небольшое, что вероятно объясняется повышенной стоимостью аренды."
   ]
  },
  {
   "cell_type": "markdown",
   "metadata": {},
   "source": [
    "### Вывод"
   ]
  },
  {
   "cell_type": "markdown",
   "metadata": {},
   "source": [
    "- Основные типы предприятий общественного питания - это кафе (с большим отрывом), ресторан и столовая. \n",
    "- В основном предприятия несетевые. \n",
    "- Для сетевых предприятий характерно большое количество предприятий и небольшое количество мест (30-40 мест). Как проавило это кафе. \n",
    "- В среднем наибольшее количество мест в столовых и ресторанах. Закусочные и отделы кулинарии как правило без посадочных мест.\n",
    "- Наиболее популярные улицы проспект Мира, Профсоюзная улица, Ленинградский проспект.\n",
    "- Количество посадочных мест на популярных улицах небольшое, что вероятно объясняется повышенной стоимостью аренды.\n",
    "\n",
    "Стоит обратить на улицы с минимальным количеством объектов общественного питания, но приближенных к популярным районам у любителей общественного питания.  \n",
    "Тип заведения - \"кафе\" с количеством посадочных мест 30-50."
   ]
  },
  {
   "cell_type": "markdown",
   "metadata": {},
   "source": [
    "Презентация: <https://disk.yandex.ru/i/lJy77Ai_tdST2A> "
   ]
  },
  {
   "cell_type": "code",
   "execution_count": null,
   "metadata": {},
   "outputs": [],
   "source": []
  }
 ],
 "metadata": {
  "ExecuteTimeLog": [
   {
    "duration": 1458,
    "start_time": "2022-03-04T15:40:41.264Z"
   },
   {
    "duration": 1833,
    "start_time": "2022-03-04T15:41:12.803Z"
   },
   {
    "duration": 64,
    "start_time": "2022-03-04T15:41:27.614Z"
   },
   {
    "duration": 5,
    "start_time": "2022-03-04T15:41:47.045Z"
   },
   {
    "duration": 67,
    "start_time": "2022-03-04T15:41:49.379Z"
   },
   {
    "duration": 23,
    "start_time": "2022-03-04T15:45:55.939Z"
   },
   {
    "duration": 10,
    "start_time": "2022-03-04T15:46:50.327Z"
   },
   {
    "duration": 229,
    "start_time": "2022-03-04T15:47:07.070Z"
   },
   {
    "duration": 77,
    "start_time": "2022-03-04T15:50:14.316Z"
   },
   {
    "duration": 87,
    "start_time": "2022-03-04T15:50:33.668Z"
   },
   {
    "duration": 76,
    "start_time": "2022-03-04T15:51:13.750Z"
   },
   {
    "duration": 243,
    "start_time": "2022-03-04T15:54:01.941Z"
   },
   {
    "duration": 8,
    "start_time": "2022-03-04T15:54:29.559Z"
   },
   {
    "duration": 13,
    "start_time": "2022-03-04T15:54:47.653Z"
   },
   {
    "duration": 14,
    "start_time": "2022-03-04T15:55:06.503Z"
   },
   {
    "duration": 255,
    "start_time": "2022-03-04T15:55:13.060Z"
   },
   {
    "duration": 5619,
    "start_time": "2022-03-04T15:57:14.050Z"
   },
   {
    "duration": 5493,
    "start_time": "2022-03-04T15:58:14.154Z"
   },
   {
    "duration": 577,
    "start_time": "2022-03-04T15:59:37.686Z"
   },
   {
    "duration": 267,
    "start_time": "2022-03-04T16:03:49.807Z"
   },
   {
    "duration": 272,
    "start_time": "2022-03-04T16:04:47.768Z"
   },
   {
    "duration": 578,
    "start_time": "2022-03-04T16:06:03.773Z"
   },
   {
    "duration": 5,
    "start_time": "2022-03-04T16:06:07.802Z"
   },
   {
    "duration": 65,
    "start_time": "2022-03-04T16:06:09.340Z"
   },
   {
    "duration": 21,
    "start_time": "2022-03-04T16:06:12.645Z"
   },
   {
    "duration": 14,
    "start_time": "2022-03-04T16:06:14.904Z"
   },
   {
    "duration": 303,
    "start_time": "2022-03-04T16:06:19.269Z"
   },
   {
    "duration": 230,
    "start_time": "2022-03-04T16:06:26.055Z"
   },
   {
    "duration": 574,
    "start_time": "2022-03-04T16:11:13.431Z"
   },
   {
    "duration": 573,
    "start_time": "2022-03-04T16:11:32.685Z"
   },
   {
    "duration": 611,
    "start_time": "2022-03-04T16:12:17.068Z"
   },
   {
    "duration": 239,
    "start_time": "2022-03-04T16:12:57.803Z"
   },
   {
    "duration": 225,
    "start_time": "2022-03-04T16:13:15.649Z"
   },
   {
    "duration": 279,
    "start_time": "2022-03-04T16:13:21.100Z"
   },
   {
    "duration": 744,
    "start_time": "2022-03-04T16:17:51.428Z"
   },
   {
    "duration": 537,
    "start_time": "2022-03-04T16:18:07.603Z"
   },
   {
    "duration": 341,
    "start_time": "2022-03-04T16:20:38.580Z"
   },
   {
    "duration": 387,
    "start_time": "2022-03-04T16:21:06.792Z"
   },
   {
    "duration": 5856,
    "start_time": "2022-03-04T16:21:18.794Z"
   },
   {
    "duration": 353,
    "start_time": "2022-03-04T16:21:38.529Z"
   },
   {
    "duration": 406,
    "start_time": "2022-03-04T16:26:14.645Z"
   },
   {
    "duration": 15,
    "start_time": "2022-03-04T16:26:44.747Z"
   },
   {
    "duration": 384,
    "start_time": "2022-03-04T16:26:47.887Z"
   },
   {
    "duration": 400,
    "start_time": "2022-03-04T16:27:09.154Z"
   },
   {
    "duration": 436,
    "start_time": "2022-03-04T16:27:31.435Z"
   },
   {
    "duration": 505,
    "start_time": "2022-03-04T16:27:39.751Z"
   },
   {
    "duration": 468,
    "start_time": "2022-03-04T16:28:17.059Z"
   },
   {
    "duration": 360,
    "start_time": "2022-03-04T16:30:09.454Z"
   },
   {
    "duration": 78,
    "start_time": "2022-03-04T16:31:00.572Z"
   },
   {
    "duration": 229,
    "start_time": "2022-03-04T16:31:28.994Z"
   },
   {
    "duration": 226,
    "start_time": "2022-03-04T16:31:57.335Z"
   },
   {
    "duration": 401,
    "start_time": "2022-03-04T16:32:08.914Z"
   },
   {
    "duration": 529,
    "start_time": "2022-03-04T16:33:23.960Z"
   },
   {
    "duration": 78,
    "start_time": "2022-03-04T16:34:18.744Z"
   },
   {
    "duration": 81,
    "start_time": "2022-03-04T16:34:43.023Z"
   },
   {
    "duration": 580,
    "start_time": "2022-03-04T16:35:59.382Z"
   },
   {
    "duration": 43,
    "start_time": "2022-03-04T16:36:48.963Z"
   },
   {
    "duration": 572,
    "start_time": "2022-03-04T16:38:18.834Z"
   },
   {
    "duration": 988,
    "start_time": "2022-03-04T16:39:17.018Z"
   },
   {
    "duration": 564,
    "start_time": "2022-03-04T16:42:53.911Z"
   },
   {
    "duration": 589,
    "start_time": "2022-03-04T16:43:12.117Z"
   },
   {
    "duration": 556,
    "start_time": "2022-03-04T16:43:26.413Z"
   },
   {
    "duration": 564,
    "start_time": "2022-03-04T16:45:57.078Z"
   },
   {
    "duration": 708,
    "start_time": "2022-03-04T16:46:08.412Z"
   },
   {
    "duration": 585,
    "start_time": "2022-03-04T16:46:46.566Z"
   },
   {
    "duration": 605,
    "start_time": "2022-03-04T16:48:47.131Z"
   },
   {
    "duration": 250,
    "start_time": "2022-03-04T16:48:55.099Z"
   },
   {
    "duration": 604,
    "start_time": "2022-03-04T16:49:05.236Z"
   },
   {
    "duration": 602,
    "start_time": "2022-03-04T16:49:51.157Z"
   },
   {
    "duration": 244,
    "start_time": "2022-03-04T16:52:27.555Z"
   },
   {
    "duration": 5591,
    "start_time": "2022-03-04T16:52:49.223Z"
   },
   {
    "duration": 922,
    "start_time": "2022-03-04T16:56:32.347Z"
   },
   {
    "duration": 287,
    "start_time": "2022-03-04T16:56:48.506Z"
   },
   {
    "duration": 652,
    "start_time": "2022-03-04T16:57:14.637Z"
   },
   {
    "duration": 82,
    "start_time": "2022-03-04T17:01:30.821Z"
   },
   {
    "duration": 718,
    "start_time": "2022-03-04T17:02:11.953Z"
   },
   {
    "duration": 37,
    "start_time": "2022-03-04T17:05:58.631Z"
   },
   {
    "duration": 100,
    "start_time": "2022-03-04T17:06:03.072Z"
   },
   {
    "duration": 36,
    "start_time": "2022-03-04T17:06:04.932Z"
   },
   {
    "duration": 41,
    "start_time": "2022-03-04T17:07:00.295Z"
   },
   {
    "duration": 48,
    "start_time": "2022-03-04T17:07:42.904Z"
   },
   {
    "duration": 477,
    "start_time": "2022-03-04T17:08:33.831Z"
   },
   {
    "duration": 764,
    "start_time": "2022-03-05T16:13:56.929Z"
   },
   {
    "duration": 1462,
    "start_time": "2022-03-05T16:14:10.337Z"
   },
   {
    "duration": 4,
    "start_time": "2022-03-05T16:14:11.801Z"
   },
   {
    "duration": 46,
    "start_time": "2022-03-05T16:14:11.807Z"
   },
   {
    "duration": 14,
    "start_time": "2022-03-05T16:14:11.855Z"
   },
   {
    "duration": 10,
    "start_time": "2022-03-05T16:14:11.870Z"
   },
   {
    "duration": 208,
    "start_time": "2022-03-05T16:14:11.881Z"
   },
   {
    "duration": 233,
    "start_time": "2022-03-05T16:14:12.091Z"
   },
   {
    "duration": 7,
    "start_time": "2022-03-05T16:14:12.326Z"
   },
   {
    "duration": 920,
    "start_time": "2022-03-05T16:14:12.335Z"
   },
   {
    "duration": 269,
    "start_time": "2022-03-05T16:14:13.256Z"
   },
   {
    "duration": 28,
    "start_time": "2022-03-05T16:14:13.533Z"
   },
   {
    "duration": 315,
    "start_time": "2022-03-05T16:14:13.562Z"
   },
   {
    "duration": 212,
    "start_time": "2022-03-05T16:14:13.879Z"
   },
   {
    "duration": 72,
    "start_time": "2022-03-05T16:14:14.093Z"
   },
   {
    "duration": 21,
    "start_time": "2022-03-05T16:14:14.167Z"
   },
   {
    "duration": 24,
    "start_time": "2022-03-05T16:14:14.189Z"
   },
   {
    "duration": 247,
    "start_time": "2022-03-05T16:14:14.215Z"
   },
   {
    "duration": 1002,
    "start_time": "2022-03-05T16:14:14.464Z"
   },
   {
    "duration": 3318,
    "start_time": "2022-03-05T16:14:39.543Z"
   },
   {
    "duration": 856,
    "start_time": "2022-03-05T16:16:19.822Z"
   },
   {
    "duration": 75,
    "start_time": "2022-03-05T16:18:12.920Z"
   },
   {
    "duration": 874,
    "start_time": "2022-03-05T16:22:27.181Z"
   },
   {
    "duration": 3401,
    "start_time": "2022-03-05T16:22:38.193Z"
   },
   {
    "duration": 3868,
    "start_time": "2022-03-05T16:23:28.165Z"
   },
   {
    "duration": 3084,
    "start_time": "2022-03-05T16:24:42.543Z"
   },
   {
    "duration": 779,
    "start_time": "2022-03-05T16:29:30.427Z"
   },
   {
    "duration": 194,
    "start_time": "2022-03-05T16:35:30.897Z"
   },
   {
    "duration": 16,
    "start_time": "2022-03-05T16:36:05.800Z"
   },
   {
    "duration": 207,
    "start_time": "2022-03-05T16:38:08.105Z"
   },
   {
    "duration": 1491,
    "start_time": "2022-03-05T16:38:38.615Z"
   },
   {
    "duration": 3,
    "start_time": "2022-03-05T16:38:40.108Z"
   },
   {
    "duration": 48,
    "start_time": "2022-03-05T16:38:40.115Z"
   },
   {
    "duration": 16,
    "start_time": "2022-03-05T16:38:40.165Z"
   },
   {
    "duration": 16,
    "start_time": "2022-03-05T16:38:40.183Z"
   },
   {
    "duration": 35,
    "start_time": "2022-03-05T16:38:40.201Z"
   },
   {
    "duration": 188,
    "start_time": "2022-03-05T16:38:40.240Z"
   },
   {
    "duration": 242,
    "start_time": "2022-03-05T16:38:40.433Z"
   },
   {
    "duration": 2,
    "start_time": "2022-03-05T16:38:40.677Z"
   },
   {
    "duration": 876,
    "start_time": "2022-03-05T16:38:40.680Z"
   },
   {
    "duration": 286,
    "start_time": "2022-03-05T16:38:41.557Z"
   },
   {
    "duration": 25,
    "start_time": "2022-03-05T16:38:41.845Z"
   },
   {
    "duration": 299,
    "start_time": "2022-03-05T16:38:41.872Z"
   },
   {
    "duration": 213,
    "start_time": "2022-03-05T16:38:42.172Z"
   },
   {
    "duration": 73,
    "start_time": "2022-03-05T16:38:42.387Z"
   },
   {
    "duration": 21,
    "start_time": "2022-03-05T16:38:42.462Z"
   },
   {
    "duration": 22,
    "start_time": "2022-03-05T16:38:42.484Z"
   },
   {
    "duration": 247,
    "start_time": "2022-03-05T16:38:42.507Z"
   },
   {
    "duration": 912,
    "start_time": "2022-03-05T16:38:42.756Z"
   },
   {
    "duration": 339,
    "start_time": "2022-03-05T16:38:43.670Z"
   },
   {
    "duration": -98784,
    "start_time": "2022-03-05T16:40:22.795Z"
   },
   {
    "duration": 8,
    "start_time": "2022-03-05T16:39:55.681Z"
   },
   {
    "duration": 15,
    "start_time": "2022-03-05T16:42:01.996Z"
   },
   {
    "duration": 192,
    "start_time": "2022-03-05T16:43:33.084Z"
   },
   {
    "duration": 4322,
    "start_time": "2022-03-05T16:44:05.831Z"
   },
   {
    "duration": 4418,
    "start_time": "2022-03-05T16:44:21.421Z"
   },
   {
    "duration": 889,
    "start_time": "2022-03-05T16:45:07.367Z"
   },
   {
    "duration": 969,
    "start_time": "2022-03-05T16:45:27.615Z"
   },
   {
    "duration": 752,
    "start_time": "2022-03-05T16:45:48.800Z"
   },
   {
    "duration": 788,
    "start_time": "2022-03-05T16:46:06.825Z"
   },
   {
    "duration": 4608,
    "start_time": "2022-03-05T16:46:24.968Z"
   },
   {
    "duration": 179,
    "start_time": "2022-03-05T16:46:29.630Z"
   },
   {
    "duration": 8,
    "start_time": "2022-03-05T16:46:45.900Z"
   },
   {
    "duration": 14,
    "start_time": "2022-03-05T16:46:54.738Z"
   },
   {
    "duration": 1472,
    "start_time": "2022-03-05T16:49:03.423Z"
   },
   {
    "duration": 4,
    "start_time": "2022-03-05T16:49:04.896Z"
   },
   {
    "duration": 49,
    "start_time": "2022-03-05T16:49:04.902Z"
   },
   {
    "duration": 14,
    "start_time": "2022-03-05T16:49:04.953Z"
   },
   {
    "duration": 15,
    "start_time": "2022-03-05T16:49:04.968Z"
   },
   {
    "duration": 18,
    "start_time": "2022-03-05T16:49:04.985Z"
   },
   {
    "duration": 232,
    "start_time": "2022-03-05T16:49:05.005Z"
   },
   {
    "duration": 243,
    "start_time": "2022-03-05T16:49:05.239Z"
   },
   {
    "duration": 2,
    "start_time": "2022-03-05T16:49:05.484Z"
   },
   {
    "duration": 869,
    "start_time": "2022-03-05T16:49:05.487Z"
   },
   {
    "duration": 312,
    "start_time": "2022-03-05T16:49:06.358Z"
   },
   {
    "duration": 27,
    "start_time": "2022-03-05T16:49:06.672Z"
   },
   {
    "duration": 302,
    "start_time": "2022-03-05T16:49:06.701Z"
   },
   {
    "duration": 222,
    "start_time": "2022-03-05T16:49:07.005Z"
   },
   {
    "duration": 63,
    "start_time": "2022-03-05T16:49:07.229Z"
   },
   {
    "duration": 23,
    "start_time": "2022-03-05T16:49:07.294Z"
   },
   {
    "duration": 23,
    "start_time": "2022-03-05T16:49:07.333Z"
   },
   {
    "duration": 223,
    "start_time": "2022-03-05T16:49:07.358Z"
   },
   {
    "duration": 819,
    "start_time": "2022-03-05T16:49:07.582Z"
   },
   {
    "duration": 7,
    "start_time": "2022-03-05T16:49:08.403Z"
   },
   {
    "duration": 16,
    "start_time": "2022-03-05T16:49:08.411Z"
   },
   {
    "duration": 329,
    "start_time": "2022-03-05T16:52:31.407Z"
   },
   {
    "duration": 16,
    "start_time": "2022-03-05T16:54:33.852Z"
   },
   {
    "duration": 194,
    "start_time": "2022-03-05T16:55:47.875Z"
   },
   {
    "duration": 179,
    "start_time": "2022-03-05T16:56:56.507Z"
   },
   {
    "duration": 14,
    "start_time": "2022-03-05T16:57:59.491Z"
   },
   {
    "duration": 4,
    "start_time": "2022-03-05T16:58:18.657Z"
   },
   {
    "duration": 127,
    "start_time": "2022-03-05T17:02:50.473Z"
   },
   {
    "duration": 4411,
    "start_time": "2022-03-05T17:03:25.361Z"
   },
   {
    "duration": 186,
    "start_time": "2022-03-05T17:03:33.142Z"
   },
   {
    "duration": 169,
    "start_time": "2022-03-05T17:03:41.694Z"
   },
   {
    "duration": 194,
    "start_time": "2022-03-05T17:03:49.465Z"
   },
   {
    "duration": 437,
    "start_time": "2022-03-05T17:04:17.667Z"
   },
   {
    "duration": 8,
    "start_time": "2022-03-05T17:05:44.508Z"
   },
   {
    "duration": 9,
    "start_time": "2022-03-05T17:07:28.118Z"
   },
   {
    "duration": 348,
    "start_time": "2022-03-05T17:12:04.841Z"
   },
   {
    "duration": 1506,
    "start_time": "2022-03-05T17:14:59.702Z"
   },
   {
    "duration": 3,
    "start_time": "2022-03-05T17:15:01.210Z"
   },
   {
    "duration": 55,
    "start_time": "2022-03-05T17:15:01.215Z"
   },
   {
    "duration": 15,
    "start_time": "2022-03-05T17:15:01.272Z"
   },
   {
    "duration": 17,
    "start_time": "2022-03-05T17:15:01.289Z"
   },
   {
    "duration": 28,
    "start_time": "2022-03-05T17:15:01.308Z"
   },
   {
    "duration": 189,
    "start_time": "2022-03-05T17:15:01.338Z"
   },
   {
    "duration": 242,
    "start_time": "2022-03-05T17:15:01.533Z"
   },
   {
    "duration": 2,
    "start_time": "2022-03-05T17:15:01.778Z"
   },
   {
    "duration": 893,
    "start_time": "2022-03-05T17:15:01.782Z"
   },
   {
    "duration": 307,
    "start_time": "2022-03-05T17:15:02.677Z"
   },
   {
    "duration": 26,
    "start_time": "2022-03-05T17:15:02.986Z"
   },
   {
    "duration": 305,
    "start_time": "2022-03-05T17:15:03.014Z"
   },
   {
    "duration": 212,
    "start_time": "2022-03-05T17:15:03.321Z"
   },
   {
    "duration": 62,
    "start_time": "2022-03-05T17:15:03.534Z"
   },
   {
    "duration": 37,
    "start_time": "2022-03-05T17:15:03.598Z"
   },
   {
    "duration": 24,
    "start_time": "2022-03-05T17:15:03.637Z"
   },
   {
    "duration": 222,
    "start_time": "2022-03-05T17:15:03.662Z"
   },
   {
    "duration": 921,
    "start_time": "2022-03-05T17:15:03.885Z"
   },
   {
    "duration": 7,
    "start_time": "2022-03-05T17:15:04.808Z"
   },
   {
    "duration": 18,
    "start_time": "2022-03-05T17:15:04.816Z"
   },
   {
    "duration": 15,
    "start_time": "2022-03-05T17:15:04.835Z"
   },
   {
    "duration": 13,
    "start_time": "2022-03-05T17:15:04.852Z"
   },
   {
    "duration": 4,
    "start_time": "2022-03-05T17:15:04.867Z"
   },
   {
    "duration": 144,
    "start_time": "2022-03-05T17:15:04.872Z"
   },
   {
    "duration": 203,
    "start_time": "2022-03-05T17:15:05.018Z"
   },
   {
    "duration": 423,
    "start_time": "2022-03-05T17:15:05.223Z"
   },
   {
    "duration": 7,
    "start_time": "2022-03-05T17:15:05.648Z"
   },
   {
    "duration": 8,
    "start_time": "2022-03-05T17:15:05.656Z"
   },
   {
    "duration": 18,
    "start_time": "2022-03-05T17:15:55.169Z"
   },
   {
    "duration": 202,
    "start_time": "2022-03-08T07:53:35.097Z"
   },
   {
    "duration": 1539,
    "start_time": "2022-03-08T07:53:41.417Z"
   },
   {
    "duration": 4,
    "start_time": "2022-03-08T07:53:42.957Z"
   },
   {
    "duration": 69,
    "start_time": "2022-03-08T07:53:42.963Z"
   },
   {
    "duration": 14,
    "start_time": "2022-03-08T07:53:43.034Z"
   },
   {
    "duration": 8,
    "start_time": "2022-03-08T07:53:43.050Z"
   },
   {
    "duration": 24,
    "start_time": "2022-03-08T07:53:43.060Z"
   },
   {
    "duration": 14,
    "start_time": "2022-03-08T07:53:43.085Z"
   },
   {
    "duration": 210,
    "start_time": "2022-03-08T07:53:43.100Z"
   },
   {
    "duration": 259,
    "start_time": "2022-03-08T07:53:43.313Z"
   },
   {
    "duration": 2,
    "start_time": "2022-03-08T07:53:43.574Z"
   },
   {
    "duration": 904,
    "start_time": "2022-03-08T07:53:43.578Z"
   },
   {
    "duration": 318,
    "start_time": "2022-03-08T07:53:44.484Z"
   },
   {
    "duration": 35,
    "start_time": "2022-03-08T07:53:44.803Z"
   },
   {
    "duration": 344,
    "start_time": "2022-03-08T07:53:44.839Z"
   },
   {
    "duration": 225,
    "start_time": "2022-03-08T07:53:45.184Z"
   },
   {
    "duration": 78,
    "start_time": "2022-03-08T07:53:45.411Z"
   },
   {
    "duration": 23,
    "start_time": "2022-03-08T07:53:45.491Z"
   },
   {
    "duration": 40,
    "start_time": "2022-03-08T07:53:45.516Z"
   },
   {
    "duration": 248,
    "start_time": "2022-03-08T07:53:45.558Z"
   },
   {
    "duration": 1159,
    "start_time": "2022-03-08T07:53:45.807Z"
   },
   {
    "duration": 8,
    "start_time": "2022-03-08T07:53:46.968Z"
   },
   {
    "duration": 19,
    "start_time": "2022-03-08T07:53:46.977Z"
   },
   {
    "duration": 15,
    "start_time": "2022-03-08T07:53:46.998Z"
   },
   {
    "duration": 25,
    "start_time": "2022-03-08T07:53:47.015Z"
   },
   {
    "duration": 4,
    "start_time": "2022-03-08T07:53:47.042Z"
   },
   {
    "duration": 154,
    "start_time": "2022-03-08T07:53:47.048Z"
   },
   {
    "duration": 227,
    "start_time": "2022-03-08T07:53:47.205Z"
   },
   {
    "duration": 464,
    "start_time": "2022-03-08T07:53:47.434Z"
   },
   {
    "duration": 8,
    "start_time": "2022-03-08T07:53:47.900Z"
   },
   {
    "duration": 10,
    "start_time": "2022-03-08T07:53:47.909Z"
   },
   {
    "duration": 4,
    "start_time": "2022-03-08T07:55:43.452Z"
   },
   {
    "duration": 527,
    "start_time": "2022-03-08T07:55:47.599Z"
   },
   {
    "duration": 4,
    "start_time": "2022-03-08T07:57:07.805Z"
   },
   {
    "duration": 63,
    "start_time": "2022-03-08T07:57:10.005Z"
   },
   {
    "duration": 4,
    "start_time": "2022-03-08T07:57:45.811Z"
   },
   {
    "duration": 5,
    "start_time": "2022-03-08T07:58:05.563Z"
   },
   {
    "duration": 15,
    "start_time": "2022-03-08T07:58:31.409Z"
   },
   {
    "duration": 11,
    "start_time": "2022-03-08T08:01:47.940Z"
   },
   {
    "duration": 195,
    "start_time": "2022-03-08T08:04:53.179Z"
   },
   {
    "duration": 194,
    "start_time": "2022-03-08T08:05:21.839Z"
   },
   {
    "duration": 380,
    "start_time": "2022-03-08T08:05:41.709Z"
   },
   {
    "duration": 242,
    "start_time": "2022-03-08T08:06:03.693Z"
   },
   {
    "duration": 59,
    "start_time": "2022-03-08T08:09:38.399Z"
   },
   {
    "duration": 56,
    "start_time": "2022-03-08T08:09:51.132Z"
   },
   {
    "duration": 171,
    "start_time": "2022-03-08T08:10:36.794Z"
   },
   {
    "duration": 178,
    "start_time": "2022-03-08T08:11:44.079Z"
   },
   {
    "duration": 244,
    "start_time": "2022-03-08T08:15:20.514Z"
   },
   {
    "duration": 4432,
    "start_time": "2022-03-08T08:16:37.741Z"
   },
   {
    "duration": 4376,
    "start_time": "2022-03-08T08:16:55.449Z"
   },
   {
    "duration": 4329,
    "start_time": "2022-03-08T08:17:24.173Z"
   },
   {
    "duration": 4398,
    "start_time": "2022-03-08T08:17:34.060Z"
   },
   {
    "duration": 6144,
    "start_time": "2022-03-08T08:18:11.672Z"
   },
   {
    "duration": 10,
    "start_time": "2022-03-08T08:18:52.711Z"
   },
   {
    "duration": 4579,
    "start_time": "2022-03-08T08:18:57.063Z"
   },
   {
    "duration": 244,
    "start_time": "2022-03-08T08:19:11.888Z"
   },
   {
    "duration": 274,
    "start_time": "2022-03-08T08:21:00.603Z"
   },
   {
    "duration": 269,
    "start_time": "2022-03-08T08:21:22.801Z"
   },
   {
    "duration": 245,
    "start_time": "2022-03-08T08:21:35.675Z"
   },
   {
    "duration": 250,
    "start_time": "2022-03-08T08:22:21.294Z"
   },
   {
    "duration": 294,
    "start_time": "2022-03-08T08:32:30.536Z"
   },
   {
    "duration": 425,
    "start_time": "2022-03-08T08:40:08.605Z"
   },
   {
    "duration": 458,
    "start_time": "2022-03-08T08:43:05.823Z"
   },
   {
    "duration": 248,
    "start_time": "2022-03-08T08:44:27.236Z"
   },
   {
    "duration": 60,
    "start_time": "2022-03-08T08:45:27.468Z"
   },
   {
    "duration": 64,
    "start_time": "2022-03-08T08:45:35.387Z"
   },
   {
    "duration": 477,
    "start_time": "2022-03-08T08:45:52.645Z"
   },
   {
    "duration": 242,
    "start_time": "2022-03-08T08:46:20.877Z"
   },
   {
    "duration": 59,
    "start_time": "2022-03-08T08:47:01.882Z"
   },
   {
    "duration": 249,
    "start_time": "2022-03-08T08:47:07.770Z"
   },
   {
    "duration": 441,
    "start_time": "2022-03-08T08:47:20.968Z"
   },
   {
    "duration": 249,
    "start_time": "2022-03-08T08:49:03.834Z"
   },
   {
    "duration": 261,
    "start_time": "2022-03-08T08:50:01.183Z"
   },
   {
    "duration": 244,
    "start_time": "2022-03-08T08:54:39.965Z"
   },
   {
    "duration": 26,
    "start_time": "2022-03-08T08:57:38.534Z"
   },
   {
    "duration": 525,
    "start_time": "2022-03-08T09:00:39.446Z"
   },
   {
    "duration": 203,
    "start_time": "2022-03-08T09:01:43.079Z"
   },
   {
    "duration": 28,
    "start_time": "2022-03-08T09:01:56.459Z"
   },
   {
    "duration": 206,
    "start_time": "2022-03-08T09:05:27.817Z"
   },
   {
    "duration": 222,
    "start_time": "2022-03-08T09:05:44.630Z"
   },
   {
    "duration": 18,
    "start_time": "2022-03-08T09:10:02.916Z"
   },
   {
    "duration": 15,
    "start_time": "2022-03-08T09:10:05.355Z"
   },
   {
    "duration": 5,
    "start_time": "2022-03-08T09:10:07.337Z"
   },
   {
    "duration": 22,
    "start_time": "2022-03-08T09:11:38.138Z"
   },
   {
    "duration": 28,
    "start_time": "2022-03-08T09:11:51.183Z"
   },
   {
    "duration": 21,
    "start_time": "2022-03-08T09:17:42.117Z"
   },
   {
    "duration": 1476,
    "start_time": "2022-03-08T09:18:59.299Z"
   },
   {
    "duration": 4,
    "start_time": "2022-03-08T09:19:00.778Z"
   },
   {
    "duration": 68,
    "start_time": "2022-03-08T09:19:00.783Z"
   },
   {
    "duration": 15,
    "start_time": "2022-03-08T09:19:00.853Z"
   },
   {
    "duration": 23,
    "start_time": "2022-03-08T09:19:00.870Z"
   },
   {
    "duration": 25,
    "start_time": "2022-03-08T09:19:00.895Z"
   },
   {
    "duration": 224,
    "start_time": "2022-03-08T09:19:00.921Z"
   },
   {
    "duration": 314,
    "start_time": "2022-03-08T09:19:01.148Z"
   },
   {
    "duration": 814,
    "start_time": "2022-03-08T09:19:01.464Z"
   },
   {
    "duration": 62,
    "start_time": "2022-03-08T09:19:02.280Z"
   },
   {
    "duration": 439,
    "start_time": "2022-03-08T09:19:02.344Z"
   },
   {
    "duration": 239,
    "start_time": "2022-03-08T09:19:02.785Z"
   },
   {
    "duration": 76,
    "start_time": "2022-03-08T09:19:03.026Z"
   },
   {
    "duration": 23,
    "start_time": "2022-03-08T09:19:03.103Z"
   },
   {
    "duration": 24,
    "start_time": "2022-03-08T09:19:03.138Z"
   },
   {
    "duration": 277,
    "start_time": "2022-03-08T09:19:03.164Z"
   },
   {
    "duration": 923,
    "start_time": "2022-03-08T09:19:03.443Z"
   },
   {
    "duration": 8,
    "start_time": "2022-03-08T09:19:04.367Z"
   },
   {
    "duration": 21,
    "start_time": "2022-03-08T09:19:04.376Z"
   },
   {
    "duration": 22,
    "start_time": "2022-03-08T09:19:04.399Z"
   },
   {
    "duration": 23,
    "start_time": "2022-03-08T09:19:04.422Z"
   },
   {
    "duration": 5,
    "start_time": "2022-03-08T09:19:04.446Z"
   },
   {
    "duration": 184,
    "start_time": "2022-03-08T09:19:04.454Z"
   },
   {
    "duration": 243,
    "start_time": "2022-03-08T09:19:04.640Z"
   },
   {
    "duration": 360,
    "start_time": "2022-03-08T09:19:04.885Z"
   },
   {
    "duration": 8,
    "start_time": "2022-03-08T09:19:05.247Z"
   },
   {
    "duration": 14,
    "start_time": "2022-03-08T09:19:05.257Z"
   },
   {
    "duration": 982,
    "start_time": "2022-03-08T09:27:13.662Z"
   },
   {
    "duration": 1453,
    "start_time": "2022-03-08T09:27:53.680Z"
   },
   {
    "duration": 4,
    "start_time": "2022-03-08T09:27:55.136Z"
   },
   {
    "duration": 55,
    "start_time": "2022-03-08T09:27:55.142Z"
   },
   {
    "duration": 17,
    "start_time": "2022-03-08T09:27:55.199Z"
   },
   {
    "duration": 22,
    "start_time": "2022-03-08T09:27:55.237Z"
   },
   {
    "duration": 14,
    "start_time": "2022-03-08T09:27:55.261Z"
   },
   {
    "duration": 218,
    "start_time": "2022-03-08T09:27:55.278Z"
   },
   {
    "duration": 304,
    "start_time": "2022-03-08T09:27:55.499Z"
   },
   {
    "duration": 772,
    "start_time": "2022-03-08T09:27:55.805Z"
   },
   {
    "duration": 74,
    "start_time": "2022-03-08T09:27:56.579Z"
   },
   {
    "duration": 479,
    "start_time": "2022-03-08T09:27:56.655Z"
   },
   {
    "duration": 260,
    "start_time": "2022-03-08T09:27:57.137Z"
   },
   {
    "duration": 2,
    "start_time": "2022-03-08T09:27:57.399Z"
   },
   {
    "duration": 6,
    "start_time": "2022-03-08T09:27:57.402Z"
   },
   {
    "duration": 34,
    "start_time": "2022-03-08T09:27:57.410Z"
   },
   {
    "duration": 27,
    "start_time": "2022-03-08T09:27:57.446Z"
   },
   {
    "duration": 265,
    "start_time": "2022-03-08T09:27:57.475Z"
   },
   {
    "duration": 870,
    "start_time": "2022-03-08T09:27:57.742Z"
   },
   {
    "duration": 8,
    "start_time": "2022-03-08T09:27:58.613Z"
   },
   {
    "duration": 21,
    "start_time": "2022-03-08T09:27:58.622Z"
   },
   {
    "duration": 19,
    "start_time": "2022-03-08T09:27:58.645Z"
   },
   {
    "duration": 11,
    "start_time": "2022-03-08T09:27:58.667Z"
   },
   {
    "duration": 4,
    "start_time": "2022-03-08T09:27:58.679Z"
   },
   {
    "duration": 190,
    "start_time": "2022-03-08T09:27:58.685Z"
   },
   {
    "duration": 246,
    "start_time": "2022-03-08T09:27:58.877Z"
   },
   {
    "duration": 361,
    "start_time": "2022-03-08T09:27:59.124Z"
   },
   {
    "duration": 8,
    "start_time": "2022-03-08T09:27:59.486Z"
   },
   {
    "duration": 14,
    "start_time": "2022-03-08T09:27:59.496Z"
   },
   {
    "duration": 367,
    "start_time": "2022-03-08T09:29:49.313Z"
   },
   {
    "duration": 283,
    "start_time": "2022-03-08T09:30:01.802Z"
   },
   {
    "duration": 194,
    "start_time": "2022-03-08T09:30:26.183Z"
   },
   {
    "duration": 21,
    "start_time": "2022-03-08T09:30:42.971Z"
   },
   {
    "duration": 24,
    "start_time": "2022-03-08T09:31:40.906Z"
   },
   {
    "duration": 66,
    "start_time": "2022-03-08T09:34:18.039Z"
   },
   {
    "duration": 27,
    "start_time": "2022-03-08T09:34:32.280Z"
   },
   {
    "duration": 14,
    "start_time": "2022-03-08T09:35:58.875Z"
   },
   {
    "duration": 13,
    "start_time": "2022-03-08T09:36:23.686Z"
   },
   {
    "duration": 14,
    "start_time": "2022-03-08T09:36:38.108Z"
   },
   {
    "duration": 1523,
    "start_time": "2022-03-08T09:36:45.222Z"
   },
   {
    "duration": 4,
    "start_time": "2022-03-08T09:36:46.747Z"
   },
   {
    "duration": 55,
    "start_time": "2022-03-08T09:36:46.753Z"
   },
   {
    "duration": 14,
    "start_time": "2022-03-08T09:36:46.810Z"
   },
   {
    "duration": 31,
    "start_time": "2022-03-08T09:36:46.825Z"
   },
   {
    "duration": 12,
    "start_time": "2022-03-08T09:36:46.858Z"
   },
   {
    "duration": 215,
    "start_time": "2022-03-08T09:36:46.873Z"
   },
   {
    "duration": 310,
    "start_time": "2022-03-08T09:36:47.091Z"
   },
   {
    "duration": 783,
    "start_time": "2022-03-08T09:36:47.403Z"
   },
   {
    "duration": 62,
    "start_time": "2022-03-08T09:36:48.188Z"
   },
   {
    "duration": 432,
    "start_time": "2022-03-08T09:36:48.252Z"
   },
   {
    "duration": 238,
    "start_time": "2022-03-08T09:36:48.686Z"
   },
   {
    "duration": 3,
    "start_time": "2022-03-08T09:36:48.926Z"
   },
   {
    "duration": 5,
    "start_time": "2022-03-08T09:36:48.938Z"
   },
   {
    "duration": 29,
    "start_time": "2022-03-08T09:36:48.945Z"
   },
   {
    "duration": 26,
    "start_time": "2022-03-08T09:36:48.976Z"
   },
   {
    "duration": 258,
    "start_time": "2022-03-08T09:36:49.004Z"
   },
   {
    "duration": 902,
    "start_time": "2022-03-08T09:36:49.264Z"
   },
   {
    "duration": 9,
    "start_time": "2022-03-08T09:36:50.168Z"
   },
   {
    "duration": 18,
    "start_time": "2022-03-08T09:36:50.179Z"
   },
   {
    "duration": 21,
    "start_time": "2022-03-08T09:36:50.199Z"
   },
   {
    "duration": 15,
    "start_time": "2022-03-08T09:36:50.238Z"
   },
   {
    "duration": 4,
    "start_time": "2022-03-08T09:36:50.257Z"
   },
   {
    "duration": 178,
    "start_time": "2022-03-08T09:36:50.263Z"
   },
   {
    "duration": 234,
    "start_time": "2022-03-08T09:36:50.443Z"
   },
   {
    "duration": 345,
    "start_time": "2022-03-08T09:36:50.679Z"
   },
   {
    "duration": 12,
    "start_time": "2022-03-08T09:36:51.026Z"
   },
   {
    "duration": 13,
    "start_time": "2022-03-08T09:36:51.040Z"
   },
   {
    "duration": 57,
    "start_time": "2022-03-08T09:38:23.115Z"
   },
   {
    "duration": 25,
    "start_time": "2022-03-08T09:38:46.200Z"
   },
   {
    "duration": 23,
    "start_time": "2022-03-08T09:41:21.380Z"
   },
   {
    "duration": 23,
    "start_time": "2022-03-08T09:41:39.323Z"
   },
   {
    "duration": 23,
    "start_time": "2022-03-08T09:41:47.050Z"
   },
   {
    "duration": 22,
    "start_time": "2022-03-08T09:41:49.884Z"
   },
   {
    "duration": 23,
    "start_time": "2022-03-08T09:42:04.825Z"
   },
   {
    "duration": 20,
    "start_time": "2022-03-08T09:42:17.380Z"
   },
   {
    "duration": 21,
    "start_time": "2022-03-08T09:47:25.875Z"
   },
   {
    "duration": 26,
    "start_time": "2022-03-08T09:47:39.933Z"
   },
   {
    "duration": 1485,
    "start_time": "2022-03-08T09:53:16.495Z"
   },
   {
    "duration": 4,
    "start_time": "2022-03-08T09:53:17.982Z"
   },
   {
    "duration": 56,
    "start_time": "2022-03-08T09:53:17.988Z"
   },
   {
    "duration": 15,
    "start_time": "2022-03-08T09:53:18.047Z"
   },
   {
    "duration": 22,
    "start_time": "2022-03-08T09:53:18.064Z"
   },
   {
    "duration": 17,
    "start_time": "2022-03-08T09:53:18.088Z"
   },
   {
    "duration": 238,
    "start_time": "2022-03-08T09:53:18.106Z"
   },
   {
    "duration": 311,
    "start_time": "2022-03-08T09:53:18.347Z"
   },
   {
    "duration": 798,
    "start_time": "2022-03-08T09:53:18.660Z"
   },
   {
    "duration": 31,
    "start_time": "2022-03-08T09:53:19.460Z"
   },
   {
    "duration": 486,
    "start_time": "2022-03-08T09:53:19.493Z"
   },
   {
    "duration": 249,
    "start_time": "2022-03-08T09:53:19.982Z"
   },
   {
    "duration": 28,
    "start_time": "2022-03-08T09:53:20.233Z"
   },
   {
    "duration": 24,
    "start_time": "2022-03-08T09:53:20.263Z"
   },
   {
    "duration": 273,
    "start_time": "2022-03-08T09:53:20.289Z"
   },
   {
    "duration": 988,
    "start_time": "2022-03-08T09:53:20.564Z"
   },
   {
    "duration": 9,
    "start_time": "2022-03-08T09:53:21.553Z"
   },
   {
    "duration": 25,
    "start_time": "2022-03-08T09:53:21.564Z"
   },
   {
    "duration": 26,
    "start_time": "2022-03-08T09:53:21.591Z"
   },
   {
    "duration": 13,
    "start_time": "2022-03-08T09:53:21.637Z"
   },
   {
    "duration": 5,
    "start_time": "2022-03-08T09:53:21.652Z"
   },
   {
    "duration": 182,
    "start_time": "2022-03-08T09:53:21.659Z"
   },
   {
    "duration": 250,
    "start_time": "2022-03-08T09:53:21.845Z"
   },
   {
    "duration": 365,
    "start_time": "2022-03-08T09:53:22.097Z"
   },
   {
    "duration": 9,
    "start_time": "2022-03-08T09:53:22.464Z"
   },
   {
    "duration": 23,
    "start_time": "2022-03-08T09:53:22.474Z"
   },
   {
    "duration": 2085,
    "start_time": "2022-03-09T15:28:24.353Z"
   },
   {
    "duration": 6,
    "start_time": "2022-03-09T15:28:26.441Z"
   },
   {
    "duration": 93,
    "start_time": "2022-03-09T15:28:26.456Z"
   },
   {
    "duration": 44,
    "start_time": "2022-03-09T15:28:26.552Z"
   },
   {
    "duration": 31,
    "start_time": "2022-03-09T15:28:26.599Z"
   },
   {
    "duration": 54,
    "start_time": "2022-03-09T15:28:26.632Z"
   },
   {
    "duration": 13,
    "start_time": "2022-03-09T15:28:26.691Z"
   },
   {
    "duration": 322,
    "start_time": "2022-03-09T15:28:26.707Z"
   },
   {
    "duration": 416,
    "start_time": "2022-03-09T15:28:27.032Z"
   },
   {
    "duration": 1094,
    "start_time": "2022-03-09T15:28:27.450Z"
   },
   {
    "duration": 70,
    "start_time": "2022-03-09T15:28:28.546Z"
   },
   {
    "duration": 658,
    "start_time": "2022-03-09T15:28:28.619Z"
   },
   {
    "duration": 333,
    "start_time": "2022-03-09T15:28:29.288Z"
   },
   {
    "duration": 36,
    "start_time": "2022-03-09T15:28:29.623Z"
   },
   {
    "duration": 60,
    "start_time": "2022-03-09T15:28:29.661Z"
   },
   {
    "duration": 372,
    "start_time": "2022-03-09T15:28:29.723Z"
   },
   {
    "duration": 1377,
    "start_time": "2022-03-09T15:28:30.098Z"
   },
   {
    "duration": 10,
    "start_time": "2022-03-09T15:28:31.477Z"
   },
   {
    "duration": 27,
    "start_time": "2022-03-09T15:28:31.489Z"
   },
   {
    "duration": 22,
    "start_time": "2022-03-09T15:28:31.519Z"
   },
   {
    "duration": 55,
    "start_time": "2022-03-09T15:28:31.544Z"
   },
   {
    "duration": 7,
    "start_time": "2022-03-09T15:28:31.605Z"
   },
   {
    "duration": 234,
    "start_time": "2022-03-09T15:28:31.614Z"
   },
   {
    "duration": 363,
    "start_time": "2022-03-09T15:28:31.851Z"
   },
   {
    "duration": 522,
    "start_time": "2022-03-09T15:28:32.216Z"
   },
   {
    "duration": 11,
    "start_time": "2022-03-09T15:28:32.740Z"
   },
   {
    "duration": 35,
    "start_time": "2022-03-09T15:28:32.753Z"
   },
   {
    "duration": 40,
    "start_time": "2022-03-09T15:29:28.678Z"
   },
   {
    "duration": 44,
    "start_time": "2022-03-09T15:30:00.757Z"
   },
   {
    "duration": 42,
    "start_time": "2022-03-09T15:30:39.618Z"
   },
   {
    "duration": 35,
    "start_time": "2022-03-09T15:31:06.268Z"
   },
   {
    "duration": 2137,
    "start_time": "2022-03-09T15:31:48.600Z"
   },
   {
    "duration": 6,
    "start_time": "2022-03-09T15:31:50.739Z"
   },
   {
    "duration": 85,
    "start_time": "2022-03-09T15:31:50.749Z"
   },
   {
    "duration": 21,
    "start_time": "2022-03-09T15:31:50.837Z"
   },
   {
    "duration": 53,
    "start_time": "2022-03-09T15:31:50.860Z"
   },
   {
    "duration": 30,
    "start_time": "2022-03-09T15:31:50.915Z"
   },
   {
    "duration": 39,
    "start_time": "2022-03-09T15:31:50.948Z"
   },
   {
    "duration": 311,
    "start_time": "2022-03-09T15:31:50.991Z"
   },
   {
    "duration": 412,
    "start_time": "2022-03-09T15:31:51.305Z"
   },
   {
    "duration": 1070,
    "start_time": "2022-03-09T15:31:51.719Z"
   },
   {
    "duration": 43,
    "start_time": "2022-03-09T15:31:52.792Z"
   },
   {
    "duration": 575,
    "start_time": "2022-03-09T15:31:52.888Z"
   },
   {
    "duration": 337,
    "start_time": "2022-03-09T15:31:53.467Z"
   },
   {
    "duration": 44,
    "start_time": "2022-03-09T15:31:53.807Z"
   },
   {
    "duration": 50,
    "start_time": "2022-03-09T15:31:53.854Z"
   },
   {
    "duration": 358,
    "start_time": "2022-03-09T15:31:53.906Z"
   },
   {
    "duration": 1038,
    "start_time": "2022-03-09T15:31:54.268Z"
   },
   {
    "duration": 12,
    "start_time": "2022-03-09T15:31:55.309Z"
   },
   {
    "duration": 28,
    "start_time": "2022-03-09T15:31:55.324Z"
   },
   {
    "duration": 54,
    "start_time": "2022-03-09T15:31:55.355Z"
   },
   {
    "duration": 17,
    "start_time": "2022-03-09T15:31:55.411Z"
   },
   {
    "duration": 6,
    "start_time": "2022-03-09T15:31:55.430Z"
   },
   {
    "duration": 320,
    "start_time": "2022-03-09T15:31:55.441Z"
   },
   {
    "duration": 487,
    "start_time": "2022-03-09T15:31:55.765Z"
   },
   {
    "duration": 517,
    "start_time": "2022-03-09T15:31:56.254Z"
   },
   {
    "duration": 16,
    "start_time": "2022-03-09T15:31:56.773Z"
   },
   {
    "duration": 18,
    "start_time": "2022-03-09T15:31:56.791Z"
   },
   {
    "duration": 42,
    "start_time": "2022-03-09T15:32:27.321Z"
   },
   {
    "duration": 309,
    "start_time": "2022-03-09T15:34:08.186Z"
   },
   {
    "duration": 56,
    "start_time": "2022-03-09T15:34:55.441Z"
   },
   {
    "duration": 90,
    "start_time": "2022-03-09T15:35:25.143Z"
   },
   {
    "duration": 49,
    "start_time": "2022-03-09T15:35:43.440Z"
   },
   {
    "duration": 249,
    "start_time": "2022-03-09T15:37:03.651Z"
   },
   {
    "duration": 34,
    "start_time": "2022-03-09T15:37:17.533Z"
   },
   {
    "duration": 75,
    "start_time": "2022-03-09T15:37:52.956Z"
   },
   {
    "duration": 324,
    "start_time": "2022-03-09T15:38:13.176Z"
   },
   {
    "duration": 34,
    "start_time": "2022-03-09T15:38:34.411Z"
   },
   {
    "duration": 2028,
    "start_time": "2022-03-09T15:38:56.107Z"
   },
   {
    "duration": 5,
    "start_time": "2022-03-09T15:38:58.137Z"
   },
   {
    "duration": 84,
    "start_time": "2022-03-09T15:38:58.145Z"
   },
   {
    "duration": 20,
    "start_time": "2022-03-09T15:38:58.232Z"
   },
   {
    "duration": 51,
    "start_time": "2022-03-09T15:38:58.255Z"
   },
   {
    "duration": 32,
    "start_time": "2022-03-09T15:38:58.308Z"
   },
   {
    "duration": 12,
    "start_time": "2022-03-09T15:38:58.343Z"
   },
   {
    "duration": 323,
    "start_time": "2022-03-09T15:38:58.359Z"
   },
   {
    "duration": 390,
    "start_time": "2022-03-09T15:38:58.687Z"
   },
   {
    "duration": 1043,
    "start_time": "2022-03-09T15:38:59.087Z"
   },
   {
    "duration": 77,
    "start_time": "2022-03-09T15:39:00.132Z"
   },
   {
    "duration": 619,
    "start_time": "2022-03-09T15:39:00.211Z"
   },
   {
    "duration": 332,
    "start_time": "2022-03-09T15:39:00.832Z"
   },
   {
    "duration": 62,
    "start_time": "2022-03-09T15:39:01.167Z"
   },
   {
    "duration": 29,
    "start_time": "2022-03-09T15:39:01.232Z"
   },
   {
    "duration": 365,
    "start_time": "2022-03-09T15:39:01.288Z"
   },
   {
    "duration": 1194,
    "start_time": "2022-03-09T15:39:01.656Z"
   },
   {
    "duration": 10,
    "start_time": "2022-03-09T15:39:02.853Z"
   },
   {
    "duration": 40,
    "start_time": "2022-03-09T15:39:02.865Z"
   },
   {
    "duration": 21,
    "start_time": "2022-03-09T15:39:02.908Z"
   },
   {
    "duration": 18,
    "start_time": "2022-03-09T15:39:02.931Z"
   },
   {
    "duration": 36,
    "start_time": "2022-03-09T15:39:02.951Z"
   },
   {
    "duration": 221,
    "start_time": "2022-03-09T15:39:02.991Z"
   },
   {
    "duration": 364,
    "start_time": "2022-03-09T15:39:03.214Z"
   },
   {
    "duration": 617,
    "start_time": "2022-03-09T15:39:03.580Z"
   },
   {
    "duration": 10,
    "start_time": "2022-03-09T15:39:04.200Z"
   },
   {
    "duration": 14,
    "start_time": "2022-03-09T15:39:04.212Z"
   },
   {
    "duration": 532,
    "start_time": "2022-03-09T15:39:47.833Z"
   },
   {
    "duration": 49,
    "start_time": "2022-03-09T15:43:26.427Z"
   },
   {
    "duration": 2220,
    "start_time": "2022-03-09T15:43:38.145Z"
   },
   {
    "duration": 6,
    "start_time": "2022-03-09T15:43:40.368Z"
   },
   {
    "duration": 89,
    "start_time": "2022-03-09T15:43:40.377Z"
   },
   {
    "duration": 24,
    "start_time": "2022-03-09T15:43:40.469Z"
   },
   {
    "duration": 31,
    "start_time": "2022-03-09T15:43:40.495Z"
   },
   {
    "duration": 30,
    "start_time": "2022-03-09T15:43:40.529Z"
   },
   {
    "duration": 29,
    "start_time": "2022-03-09T15:43:40.562Z"
   },
   {
    "duration": 463,
    "start_time": "2022-03-09T15:43:40.595Z"
   },
   {
    "duration": 409,
    "start_time": "2022-03-09T15:43:41.061Z"
   },
   {
    "duration": 1245,
    "start_time": "2022-03-09T15:43:41.473Z"
   },
   {
    "duration": 105,
    "start_time": "2022-03-09T15:43:42.721Z"
   },
   {
    "duration": 627,
    "start_time": "2022-03-09T15:43:42.829Z"
   },
   {
    "duration": 336,
    "start_time": "2022-03-09T15:43:43.458Z"
   },
   {
    "duration": 54,
    "start_time": "2022-03-09T15:43:43.797Z"
   },
   {
    "duration": 54,
    "start_time": "2022-03-09T15:43:43.853Z"
   },
   {
    "duration": 394,
    "start_time": "2022-03-09T15:43:43.909Z"
   },
   {
    "duration": 884,
    "start_time": "2022-03-09T15:43:44.306Z"
   },
   {
    "duration": 11,
    "start_time": "2022-03-09T15:43:45.192Z"
   },
   {
    "duration": 30,
    "start_time": "2022-03-09T15:43:45.205Z"
   },
   {
    "duration": 22,
    "start_time": "2022-03-09T15:43:45.237Z"
   },
   {
    "duration": 19,
    "start_time": "2022-03-09T15:43:45.289Z"
   },
   {
    "duration": 7,
    "start_time": "2022-03-09T15:43:45.310Z"
   },
   {
    "duration": 259,
    "start_time": "2022-03-09T15:43:45.322Z"
   },
   {
    "duration": 370,
    "start_time": "2022-03-09T15:43:45.588Z"
   },
   {
    "duration": 542,
    "start_time": "2022-03-09T15:43:45.960Z"
   },
   {
    "duration": 13,
    "start_time": "2022-03-09T15:43:46.505Z"
   },
   {
    "duration": 14,
    "start_time": "2022-03-09T15:43:46.521Z"
   },
   {
    "duration": 503,
    "start_time": "2022-03-09T15:44:05.064Z"
   },
   {
    "duration": 233,
    "start_time": "2022-03-09T15:44:17.810Z"
   },
   {
    "duration": 2058,
    "start_time": "2022-03-09T15:44:38.051Z"
   },
   {
    "duration": 6,
    "start_time": "2022-03-09T15:44:40.111Z"
   },
   {
    "duration": 84,
    "start_time": "2022-03-09T15:44:40.120Z"
   },
   {
    "duration": 20,
    "start_time": "2022-03-09T15:44:40.206Z"
   },
   {
    "duration": 28,
    "start_time": "2022-03-09T15:44:40.228Z"
   },
   {
    "duration": 55,
    "start_time": "2022-03-09T15:44:40.258Z"
   },
   {
    "duration": 30,
    "start_time": "2022-03-09T15:44:40.315Z"
   },
   {
    "duration": 310,
    "start_time": "2022-03-09T15:44:40.349Z"
   },
   {
    "duration": 412,
    "start_time": "2022-03-09T15:44:40.661Z"
   },
   {
    "duration": 1038,
    "start_time": "2022-03-09T15:44:41.076Z"
   },
   {
    "duration": 86,
    "start_time": "2022-03-09T15:44:42.116Z"
   },
   {
    "duration": 588,
    "start_time": "2022-03-09T15:44:42.204Z"
   },
   {
    "duration": 329,
    "start_time": "2022-03-09T15:44:42.794Z"
   },
   {
    "duration": 64,
    "start_time": "2022-03-09T15:44:43.125Z"
   },
   {
    "duration": 30,
    "start_time": "2022-03-09T15:44:43.191Z"
   },
   {
    "duration": 397,
    "start_time": "2022-03-09T15:44:43.223Z"
   },
   {
    "duration": 901,
    "start_time": "2022-03-09T15:44:43.622Z"
   },
   {
    "duration": 10,
    "start_time": "2022-03-09T15:44:44.525Z"
   },
   {
    "duration": 60,
    "start_time": "2022-03-09T15:44:44.537Z"
   },
   {
    "duration": 23,
    "start_time": "2022-03-09T15:44:44.599Z"
   },
   {
    "duration": 17,
    "start_time": "2022-03-09T15:44:44.624Z"
   },
   {
    "duration": 6,
    "start_time": "2022-03-09T15:44:44.643Z"
   },
   {
    "duration": 248,
    "start_time": "2022-03-09T15:44:44.653Z"
   },
   {
    "duration": 370,
    "start_time": "2022-03-09T15:44:44.903Z"
   },
   {
    "duration": 539,
    "start_time": "2022-03-09T15:44:45.276Z"
   },
   {
    "duration": 11,
    "start_time": "2022-03-09T15:44:45.817Z"
   },
   {
    "duration": 11,
    "start_time": "2022-03-09T15:44:45.830Z"
   },
   {
    "duration": 242,
    "start_time": "2022-03-09T15:51:12.468Z"
   },
   {
    "duration": 506,
    "start_time": "2022-03-09T15:52:04.806Z"
   },
   {
    "duration": 416,
    "start_time": "2022-03-09T15:52:48.413Z"
   },
   {
    "duration": 661,
    "start_time": "2022-03-09T15:53:11.890Z"
   },
   {
    "duration": 530,
    "start_time": "2022-03-09T15:53:37.670Z"
   },
   {
    "duration": 536,
    "start_time": "2022-03-09T15:53:46.258Z"
   },
   {
    "duration": 522,
    "start_time": "2022-03-09T15:54:11.253Z"
   },
   {
    "duration": 2067,
    "start_time": "2022-03-09T15:55:32.870Z"
   },
   {
    "duration": 6,
    "start_time": "2022-03-09T15:55:34.939Z"
   },
   {
    "duration": 90,
    "start_time": "2022-03-09T15:55:34.949Z"
   },
   {
    "duration": 21,
    "start_time": "2022-03-09T15:55:35.042Z"
   },
   {
    "duration": 47,
    "start_time": "2022-03-09T15:55:35.066Z"
   },
   {
    "duration": 34,
    "start_time": "2022-03-09T15:55:35.116Z"
   },
   {
    "duration": 40,
    "start_time": "2022-03-09T15:55:35.153Z"
   },
   {
    "duration": 323,
    "start_time": "2022-03-09T15:55:35.199Z"
   },
   {
    "duration": 425,
    "start_time": "2022-03-09T15:55:35.526Z"
   },
   {
    "duration": 1080,
    "start_time": "2022-03-09T15:55:35.954Z"
   },
   {
    "duration": 77,
    "start_time": "2022-03-09T15:55:37.036Z"
   },
   {
    "duration": 619,
    "start_time": "2022-03-09T15:55:37.115Z"
   },
   {
    "duration": 324,
    "start_time": "2022-03-09T15:55:37.736Z"
   },
   {
    "duration": 62,
    "start_time": "2022-03-09T15:55:38.063Z"
   },
   {
    "duration": 30,
    "start_time": "2022-03-09T15:55:38.127Z"
   },
   {
    "duration": 409,
    "start_time": "2022-03-09T15:55:38.160Z"
   },
   {
    "duration": 1045,
    "start_time": "2022-03-09T15:55:38.572Z"
   },
   {
    "duration": 10,
    "start_time": "2022-03-09T15:55:39.619Z"
   },
   {
    "duration": 46,
    "start_time": "2022-03-09T15:55:39.632Z"
   },
   {
    "duration": 20,
    "start_time": "2022-03-09T15:55:39.681Z"
   },
   {
    "duration": 18,
    "start_time": "2022-03-09T15:55:39.703Z"
   },
   {
    "duration": 11,
    "start_time": "2022-03-09T15:55:39.723Z"
   },
   {
    "duration": 253,
    "start_time": "2022-03-09T15:55:39.739Z"
   },
   {
    "duration": 368,
    "start_time": "2022-03-09T15:55:39.994Z"
   },
   {
    "duration": 543,
    "start_time": "2022-03-09T15:55:40.364Z"
   },
   {
    "duration": 11,
    "start_time": "2022-03-09T15:55:40.909Z"
   },
   {
    "duration": 16,
    "start_time": "2022-03-09T15:55:40.922Z"
   },
   {
    "duration": 431,
    "start_time": "2022-03-09T16:12:31.367Z"
   },
   {
    "duration": 684,
    "start_time": "2022-03-09T16:14:12.243Z"
   },
   {
    "duration": 572,
    "start_time": "2022-03-09T16:14:32.418Z"
   },
   {
    "duration": 409,
    "start_time": "2022-03-09T16:15:08.614Z"
   },
   {
    "duration": 352,
    "start_time": "2022-03-09T16:17:28.229Z"
   },
   {
    "duration": 340,
    "start_time": "2022-03-09T16:18:04.234Z"
   },
   {
    "duration": 272,
    "start_time": "2022-03-10T15:34:04.096Z"
   },
   {
    "duration": 1692,
    "start_time": "2022-03-10T15:34:11.433Z"
   },
   {
    "duration": 6,
    "start_time": "2022-03-10T15:34:13.127Z"
   },
   {
    "duration": 50,
    "start_time": "2022-03-10T15:34:13.134Z"
   },
   {
    "duration": 14,
    "start_time": "2022-03-10T15:34:13.186Z"
   },
   {
    "duration": 20,
    "start_time": "2022-03-10T15:34:13.202Z"
   },
   {
    "duration": 45,
    "start_time": "2022-03-10T15:34:13.225Z"
   },
   {
    "duration": 23,
    "start_time": "2022-03-10T15:34:13.272Z"
   },
   {
    "duration": 9,
    "start_time": "2022-03-10T15:34:13.298Z"
   },
   {
    "duration": 518,
    "start_time": "2022-03-10T15:34:13.310Z"
   },
   {
    "duration": -2725,
    "start_time": "2022-03-10T15:34:16.555Z"
   },
   {
    "duration": -2728,
    "start_time": "2022-03-10T15:34:16.559Z"
   },
   {
    "duration": -2738,
    "start_time": "2022-03-10T15:34:16.570Z"
   },
   {
    "duration": -2741,
    "start_time": "2022-03-10T15:34:16.574Z"
   },
   {
    "duration": -2744,
    "start_time": "2022-03-10T15:34:16.578Z"
   },
   {
    "duration": -2748,
    "start_time": "2022-03-10T15:34:16.583Z"
   },
   {
    "duration": -2750,
    "start_time": "2022-03-10T15:34:16.586Z"
   },
   {
    "duration": -2754,
    "start_time": "2022-03-10T15:34:16.592Z"
   },
   {
    "duration": -2762,
    "start_time": "2022-03-10T15:34:16.601Z"
   },
   {
    "duration": -2764,
    "start_time": "2022-03-10T15:34:16.604Z"
   },
   {
    "duration": -2767,
    "start_time": "2022-03-10T15:34:16.608Z"
   },
   {
    "duration": -2748,
    "start_time": "2022-03-10T15:34:16.611Z"
   },
   {
    "duration": -2750,
    "start_time": "2022-03-10T15:34:16.614Z"
   },
   {
    "duration": -2753,
    "start_time": "2022-03-10T15:34:16.618Z"
   },
   {
    "duration": -2755,
    "start_time": "2022-03-10T15:34:16.621Z"
   },
   {
    "duration": -2757,
    "start_time": "2022-03-10T15:34:16.624Z"
   },
   {
    "duration": -2760,
    "start_time": "2022-03-10T15:34:16.628Z"
   },
   {
    "duration": -2763,
    "start_time": "2022-03-10T15:34:16.631Z"
   },
   {
    "duration": -2766,
    "start_time": "2022-03-10T15:34:16.635Z"
   },
   {
    "duration": 195,
    "start_time": "2022-03-10T15:34:58.777Z"
   },
   {
    "duration": 17,
    "start_time": "2022-03-10T15:35:49.843Z"
   },
   {
    "duration": 16,
    "start_time": "2022-03-10T15:36:00.904Z"
   },
   {
    "duration": 233,
    "start_time": "2022-03-10T15:36:44.644Z"
   },
   {
    "duration": 14,
    "start_time": "2022-03-10T15:37:01.270Z"
   },
   {
    "duration": 1650,
    "start_time": "2022-03-10T15:37:16.939Z"
   },
   {
    "duration": 3,
    "start_time": "2022-03-10T15:37:18.592Z"
   },
   {
    "duration": 54,
    "start_time": "2022-03-10T15:37:18.598Z"
   },
   {
    "duration": 18,
    "start_time": "2022-03-10T15:37:18.653Z"
   },
   {
    "duration": 21,
    "start_time": "2022-03-10T15:37:18.673Z"
   },
   {
    "duration": 32,
    "start_time": "2022-03-10T15:37:18.696Z"
   },
   {
    "duration": 13,
    "start_time": "2022-03-10T15:37:18.730Z"
   },
   {
    "duration": 33,
    "start_time": "2022-03-10T15:37:18.745Z"
   },
   {
    "duration": 16,
    "start_time": "2022-03-10T15:37:18.780Z"
   },
   {
    "duration": 15,
    "start_time": "2022-03-10T15:37:18.798Z"
   },
   {
    "duration": 10,
    "start_time": "2022-03-10T15:37:18.815Z"
   },
   {
    "duration": 211,
    "start_time": "2022-03-10T15:37:18.827Z"
   },
   {
    "duration": 700,
    "start_time": "2022-03-10T15:37:19.040Z"
   },
   {
    "duration": -82,
    "start_time": "2022-03-10T15:37:19.826Z"
   },
   {
    "duration": -88,
    "start_time": "2022-03-10T15:37:19.833Z"
   },
   {
    "duration": -93,
    "start_time": "2022-03-10T15:37:19.839Z"
   },
   {
    "duration": -97,
    "start_time": "2022-03-10T15:37:19.845Z"
   },
   {
    "duration": -101,
    "start_time": "2022-03-10T15:37:19.850Z"
   },
   {
    "duration": -103,
    "start_time": "2022-03-10T15:37:19.865Z"
   },
   {
    "duration": -106,
    "start_time": "2022-03-10T15:37:19.870Z"
   },
   {
    "duration": -110,
    "start_time": "2022-03-10T15:37:19.875Z"
   },
   {
    "duration": -112,
    "start_time": "2022-03-10T15:37:19.879Z"
   },
   {
    "duration": -116,
    "start_time": "2022-03-10T15:37:19.884Z"
   },
   {
    "duration": -134,
    "start_time": "2022-03-10T15:37:19.904Z"
   },
   {
    "duration": -151,
    "start_time": "2022-03-10T15:37:19.922Z"
   },
   {
    "duration": -158,
    "start_time": "2022-03-10T15:37:19.931Z"
   },
   {
    "duration": -180,
    "start_time": "2022-03-10T15:37:19.954Z"
   },
   {
    "duration": -186,
    "start_time": "2022-03-10T15:37:19.961Z"
   },
   {
    "duration": -196,
    "start_time": "2022-03-10T15:37:19.973Z"
   },
   {
    "duration": -207,
    "start_time": "2022-03-10T15:37:19.986Z"
   },
   {
    "duration": -213,
    "start_time": "2022-03-10T15:37:19.993Z"
   },
   {
    "duration": 231,
    "start_time": "2022-03-10T15:37:35.596Z"
   },
   {
    "duration": 416,
    "start_time": "2022-03-10T15:37:41.082Z"
   },
   {
    "duration": 325,
    "start_time": "2022-03-10T15:37:49.157Z"
   },
   {
    "duration": 30,
    "start_time": "2022-03-10T15:38:10.827Z"
   },
   {
    "duration": 586,
    "start_time": "2022-03-10T15:38:14.070Z"
   },
   {
    "duration": 683,
    "start_time": "2022-03-10T15:38:27.121Z"
   },
   {
    "duration": 396,
    "start_time": "2022-03-10T15:38:43.788Z"
   },
   {
    "duration": 423,
    "start_time": "2022-03-10T15:39:08.228Z"
   },
   {
    "duration": 190,
    "start_time": "2022-03-10T15:39:14.324Z"
   },
   {
    "duration": 197,
    "start_time": "2022-03-10T15:39:58.411Z"
   },
   {
    "duration": 55,
    "start_time": "2022-03-10T15:40:02.936Z"
   },
   {
    "duration": 22,
    "start_time": "2022-03-10T15:40:05.804Z"
   },
   {
    "duration": 788,
    "start_time": "2022-03-10T15:45:42.177Z"
   },
   {
    "duration": 8,
    "start_time": "2022-03-10T15:45:45.212Z"
   },
   {
    "duration": 22,
    "start_time": "2022-03-10T15:45:48.963Z"
   },
   {
    "duration": 17,
    "start_time": "2022-03-10T15:45:53.875Z"
   },
   {
    "duration": 13,
    "start_time": "2022-03-10T15:46:17.376Z"
   },
   {
    "duration": 6,
    "start_time": "2022-03-10T15:46:18.570Z"
   },
   {
    "duration": 144,
    "start_time": "2022-03-10T15:46:57.935Z"
   },
   {
    "duration": 220,
    "start_time": "2022-03-10T15:47:01.703Z"
   },
   {
    "duration": 334,
    "start_time": "2022-03-10T15:47:04.185Z"
   },
   {
    "duration": 9,
    "start_time": "2022-03-10T15:47:07.533Z"
   },
   {
    "duration": 10,
    "start_time": "2022-03-10T15:47:09.362Z"
   },
   {
    "duration": 430,
    "start_time": "2022-03-10T16:00:52.876Z"
   },
   {
    "duration": 461,
    "start_time": "2022-03-10T16:02:22.086Z"
   },
   {
    "duration": 6102,
    "start_time": "2022-03-10T16:14:08.733Z"
   },
   {
    "duration": 450,
    "start_time": "2022-03-10T16:14:37.070Z"
   },
   {
    "duration": 664,
    "start_time": "2022-03-10T16:21:43.855Z"
   },
   {
    "duration": 456,
    "start_time": "2022-03-10T16:22:29.174Z"
   },
   {
    "duration": 77,
    "start_time": "2022-03-10T16:25:26.202Z"
   },
   {
    "duration": 428,
    "start_time": "2022-03-10T16:25:34.908Z"
   },
   {
    "duration": 450,
    "start_time": "2022-03-10T16:26:14.065Z"
   },
   {
    "duration": 424,
    "start_time": "2022-03-10T16:26:23.525Z"
   },
   {
    "duration": 455,
    "start_time": "2022-03-10T16:26:36.684Z"
   },
   {
    "duration": 475,
    "start_time": "2022-03-10T16:28:36.221Z"
   },
   {
    "duration": 428,
    "start_time": "2022-03-10T16:29:25.547Z"
   },
   {
    "duration": 434,
    "start_time": "2022-03-10T16:29:54.587Z"
   },
   {
    "duration": 415,
    "start_time": "2022-03-10T16:30:21.302Z"
   },
   {
    "duration": 85,
    "start_time": "2022-03-10T16:31:34.841Z"
   },
   {
    "duration": 166,
    "start_time": "2022-03-10T16:35:52.742Z"
   },
   {
    "duration": 189,
    "start_time": "2022-03-10T16:54:14.567Z"
   },
   {
    "duration": 76170,
    "start_time": "2022-03-11T11:36:17.296Z"
   },
   {
    "duration": 7,
    "start_time": "2022-03-11T11:37:33.469Z"
   },
   {
    "duration": 99,
    "start_time": "2022-03-11T11:37:33.479Z"
   },
   {
    "duration": 27,
    "start_time": "2022-03-11T11:37:33.581Z"
   },
   {
    "duration": 53,
    "start_time": "2022-03-11T11:37:33.611Z"
   },
   {
    "duration": 49,
    "start_time": "2022-03-11T11:37:33.668Z"
   },
   {
    "duration": 22,
    "start_time": "2022-03-11T11:37:33.720Z"
   },
   {
    "duration": 32,
    "start_time": "2022-03-11T11:37:33.744Z"
   },
   {
    "duration": 30,
    "start_time": "2022-03-11T11:37:33.782Z"
   },
   {
    "duration": 29,
    "start_time": "2022-03-11T11:37:33.817Z"
   },
   {
    "duration": 20,
    "start_time": "2022-03-11T11:37:33.850Z"
   },
   {
    "duration": 337,
    "start_time": "2022-03-11T11:37:33.887Z"
   },
   {
    "duration": 690,
    "start_time": "2022-03-11T11:37:34.226Z"
   },
   {
    "duration": 558,
    "start_time": "2022-03-11T11:37:34.920Z"
   },
   {
    "duration": 65,
    "start_time": "2022-03-11T11:37:35.490Z"
   },
   {
    "duration": 796,
    "start_time": "2022-03-11T11:37:35.558Z"
   },
   {
    "duration": 649,
    "start_time": "2022-03-11T11:37:36.357Z"
   },
   {
    "duration": 84,
    "start_time": "2022-03-11T11:37:37.009Z"
   },
   {
    "duration": 36,
    "start_time": "2022-03-11T11:37:37.098Z"
   },
   {
    "duration": 835,
    "start_time": "2022-03-11T11:37:37.137Z"
   },
   {
    "duration": -128,
    "start_time": "2022-03-11T11:37:38.103Z"
   },
   {
    "duration": -130,
    "start_time": "2022-03-11T11:37:38.106Z"
   },
   {
    "duration": -132,
    "start_time": "2022-03-11T11:37:38.109Z"
   },
   {
    "duration": -131,
    "start_time": "2022-03-11T11:37:38.113Z"
   },
   {
    "duration": -133,
    "start_time": "2022-03-11T11:37:38.116Z"
   },
   {
    "duration": -138,
    "start_time": "2022-03-11T11:37:38.123Z"
   },
   {
    "duration": -139,
    "start_time": "2022-03-11T11:37:38.126Z"
   },
   {
    "duration": -139,
    "start_time": "2022-03-11T11:37:38.128Z"
   },
   {
    "duration": -140,
    "start_time": "2022-03-11T11:37:38.131Z"
   },
   {
    "duration": -139,
    "start_time": "2022-03-11T11:37:38.134Z"
   },
   {
    "duration": -140,
    "start_time": "2022-03-11T11:37:38.136Z"
   },
   {
    "duration": 425,
    "start_time": "2022-03-11T11:38:07.646Z"
   },
   {
    "duration": 14,
    "start_time": "2022-03-11T11:38:40.418Z"
   },
   {
    "duration": 670,
    "start_time": "2022-03-11T11:39:09.215Z"
   },
   {
    "duration": 181,
    "start_time": "2022-03-11T11:39:34.050Z"
   },
   {
    "duration": 188,
    "start_time": "2022-03-11T11:40:12.323Z"
   },
   {
    "duration": 8,
    "start_time": "2022-03-11T11:40:21.962Z"
   },
   {
    "duration": 226,
    "start_time": "2022-03-11T11:41:08.765Z"
   },
   {
    "duration": 388,
    "start_time": "2022-03-11T11:41:21.115Z"
   },
   {
    "duration": 814,
    "start_time": "2022-03-11T11:41:21.506Z"
   },
   {
    "duration": 183,
    "start_time": "2022-03-11T11:42:49.594Z"
   },
   {
    "duration": 538,
    "start_time": "2022-03-11T11:42:54.855Z"
   },
   {
    "duration": 576,
    "start_time": "2022-03-11T11:43:01.094Z"
   },
   {
    "duration": 590,
    "start_time": "2022-03-11T11:43:06.116Z"
   },
   {
    "duration": 178,
    "start_time": "2022-03-11T11:43:33.364Z"
   },
   {
    "duration": 7,
    "start_time": "2022-03-11T11:43:46.019Z"
   },
   {
    "duration": 6,
    "start_time": "2022-03-11T11:43:49.265Z"
   },
   {
    "duration": 647,
    "start_time": "2022-03-11T11:45:07.229Z"
   },
   {
    "duration": 184,
    "start_time": "2022-03-11T11:45:35.911Z"
   },
   {
    "duration": 569,
    "start_time": "2022-03-11T11:46:28.738Z"
   },
   {
    "duration": 798,
    "start_time": "2022-03-11T11:46:36.018Z"
   },
   {
    "duration": 580,
    "start_time": "2022-03-11T11:46:49.638Z"
   },
   {
    "duration": 553,
    "start_time": "2022-03-11T11:46:56.148Z"
   },
   {
    "duration": 792,
    "start_time": "2022-03-11T11:46:59.673Z"
   },
   {
    "duration": 343,
    "start_time": "2022-03-11T16:22:59.547Z"
   },
   {
    "duration": 3908,
    "start_time": "2022-03-11T16:23:08.072Z"
   },
   {
    "duration": 6,
    "start_time": "2022-03-11T16:23:11.984Z"
   },
   {
    "duration": 93,
    "start_time": "2022-03-11T16:23:11.994Z"
   },
   {
    "duration": 23,
    "start_time": "2022-03-11T16:23:12.091Z"
   },
   {
    "duration": 31,
    "start_time": "2022-03-11T16:23:12.117Z"
   },
   {
    "duration": 62,
    "start_time": "2022-03-11T16:23:12.151Z"
   },
   {
    "duration": 19,
    "start_time": "2022-03-11T16:23:12.216Z"
   },
   {
    "duration": 60,
    "start_time": "2022-03-11T16:23:12.241Z"
   },
   {
    "duration": 22,
    "start_time": "2022-03-11T16:23:12.305Z"
   },
   {
    "duration": 21,
    "start_time": "2022-03-11T16:23:12.330Z"
   },
   {
    "duration": 43,
    "start_time": "2022-03-11T16:23:12.354Z"
   },
   {
    "duration": 331,
    "start_time": "2022-03-11T16:23:12.400Z"
   },
   {
    "duration": 429,
    "start_time": "2022-03-11T16:23:12.733Z"
   },
   {
    "duration": 2406,
    "start_time": "2022-03-11T16:23:13.164Z"
   },
   {
    "duration": -105084,
    "start_time": "2022-03-11T16:25:00.657Z"
   },
   {
    "duration": -105087,
    "start_time": "2022-03-11T16:25:00.662Z"
   },
   {
    "duration": -105091,
    "start_time": "2022-03-11T16:25:00.667Z"
   },
   {
    "duration": -105093,
    "start_time": "2022-03-11T16:25:00.671Z"
   },
   {
    "duration": -105095,
    "start_time": "2022-03-11T16:25:00.675Z"
   },
   {
    "duration": -105098,
    "start_time": "2022-03-11T16:25:00.679Z"
   },
   {
    "duration": -105101,
    "start_time": "2022-03-11T16:25:00.684Z"
   },
   {
    "duration": -105103,
    "start_time": "2022-03-11T16:25:00.688Z"
   },
   {
    "duration": -105107,
    "start_time": "2022-03-11T16:25:00.693Z"
   },
   {
    "duration": -105109,
    "start_time": "2022-03-11T16:25:00.697Z"
   },
   {
    "duration": -105112,
    "start_time": "2022-03-11T16:25:00.701Z"
   },
   {
    "duration": -105115,
    "start_time": "2022-03-11T16:25:00.705Z"
   },
   {
    "duration": -105117,
    "start_time": "2022-03-11T16:25:00.709Z"
   },
   {
    "duration": -105119,
    "start_time": "2022-03-11T16:25:00.713Z"
   },
   {
    "duration": -105122,
    "start_time": "2022-03-11T16:25:00.717Z"
   },
   {
    "duration": -105124,
    "start_time": "2022-03-11T16:25:00.721Z"
   },
   {
    "duration": -105129,
    "start_time": "2022-03-11T16:25:00.727Z"
   },
   {
    "duration": -105133,
    "start_time": "2022-03-11T16:25:00.732Z"
   },
   {
    "duration": 423,
    "start_time": "2022-03-11T16:24:41.977Z"
   },
   {
    "duration": 341,
    "start_time": "2022-03-11T16:26:29.781Z"
   },
   {
    "duration": 299,
    "start_time": "2022-03-11T16:26:42.368Z"
   },
   {
    "duration": 25652,
    "start_time": "2022-03-11T16:27:00.182Z"
   },
   {
    "duration": -105005,
    "start_time": "2022-03-11T16:29:10.842Z"
   },
   {
    "duration": 623,
    "start_time": "2022-03-11T16:27:27.912Z"
   },
   {
    "duration": 306,
    "start_time": "2022-03-11T16:27:55.400Z"
   },
   {
    "duration": 574,
    "start_time": "2022-03-11T16:34:29.865Z"
   },
   {
    "duration": 5933,
    "start_time": "2022-03-11T16:35:12.300Z"
   },
   {
    "duration": 6014,
    "start_time": "2022-03-11T16:35:22.524Z"
   },
   {
    "duration": 6378,
    "start_time": "2022-03-11T16:35:42.391Z"
   },
   {
    "duration": 311,
    "start_time": "2022-03-11T16:36:09.091Z"
   },
   {
    "duration": 18,
    "start_time": "2022-03-11T16:36:25.304Z"
   },
   {
    "duration": 616,
    "start_time": "2022-03-11T16:38:03.540Z"
   },
   {
    "duration": 339,
    "start_time": "2022-03-11T16:39:44.710Z"
   },
   {
    "duration": 575,
    "start_time": "2022-03-11T16:41:15.743Z"
   },
   {
    "duration": 561,
    "start_time": "2022-03-11T16:41:24.089Z"
   },
   {
    "duration": 454,
    "start_time": "2022-03-11T16:42:08.449Z"
   },
   {
    "duration": 337,
    "start_time": "2022-03-11T16:43:18.188Z"
   },
   {
    "duration": 341,
    "start_time": "2022-03-11T16:43:31.558Z"
   },
   {
    "duration": 331,
    "start_time": "2022-03-11T16:43:51.633Z"
   },
   {
    "duration": 364,
    "start_time": "2022-03-11T16:45:44.472Z"
   },
   {
    "duration": 463,
    "start_time": "2022-03-11T16:46:12.157Z"
   },
   {
    "duration": 450,
    "start_time": "2022-03-11T16:46:27.925Z"
   },
   {
    "duration": 54,
    "start_time": "2022-03-11T16:47:16.983Z"
   },
   {
    "duration": 37,
    "start_time": "2022-03-11T16:47:20.432Z"
   },
   {
    "duration": 383,
    "start_time": "2022-03-11T16:47:22.537Z"
   },
   {
    "duration": 535,
    "start_time": "2022-03-11T16:47:29.420Z"
   },
   {
    "duration": 217,
    "start_time": "2022-03-11T16:47:36.011Z"
   },
   {
    "duration": 344,
    "start_time": "2022-03-11T16:47:38.097Z"
   },
   {
    "duration": 644,
    "start_time": "2022-03-11T16:47:40.569Z"
   },
   {
    "duration": 273,
    "start_time": "2022-03-11T16:47:52.204Z"
   },
   {
    "duration": 247,
    "start_time": "2022-03-11T16:48:07.219Z"
   },
   {
    "duration": 2036,
    "start_time": "2022-03-11T16:48:23.499Z"
   },
   {
    "duration": 6,
    "start_time": "2022-03-11T16:48:25.538Z"
   },
   {
    "duration": 87,
    "start_time": "2022-03-11T16:48:25.547Z"
   },
   {
    "duration": 21,
    "start_time": "2022-03-11T16:48:25.637Z"
   },
   {
    "duration": 51,
    "start_time": "2022-03-11T16:48:25.660Z"
   },
   {
    "duration": 28,
    "start_time": "2022-03-11T16:48:25.714Z"
   },
   {
    "duration": 45,
    "start_time": "2022-03-11T16:48:25.744Z"
   },
   {
    "duration": 26,
    "start_time": "2022-03-11T16:48:25.794Z"
   },
   {
    "duration": 23,
    "start_time": "2022-03-11T16:48:25.823Z"
   },
   {
    "duration": 52,
    "start_time": "2022-03-11T16:48:25.849Z"
   },
   {
    "duration": 14,
    "start_time": "2022-03-11T16:48:25.904Z"
   },
   {
    "duration": 328,
    "start_time": "2022-03-11T16:48:25.920Z"
   },
   {
    "duration": 910,
    "start_time": "2022-03-11T16:48:26.251Z"
   },
   {
    "duration": -105024,
    "start_time": "2022-03-11T16:50:12.189Z"
   },
   {
    "duration": -105031,
    "start_time": "2022-03-11T16:50:12.198Z"
   },
   {
    "duration": -105041,
    "start_time": "2022-03-11T16:50:12.209Z"
   },
   {
    "duration": -105046,
    "start_time": "2022-03-11T16:50:12.215Z"
   },
   {
    "duration": -105047,
    "start_time": "2022-03-11T16:50:12.234Z"
   },
   {
    "duration": -105053,
    "start_time": "2022-03-11T16:50:12.241Z"
   },
   {
    "duration": -105056,
    "start_time": "2022-03-11T16:50:12.246Z"
   },
   {
    "duration": -105060,
    "start_time": "2022-03-11T16:50:12.251Z"
   },
   {
    "duration": -105063,
    "start_time": "2022-03-11T16:50:12.255Z"
   },
   {
    "duration": -105065,
    "start_time": "2022-03-11T16:50:12.259Z"
   },
   {
    "duration": -105068,
    "start_time": "2022-03-11T16:50:12.264Z"
   },
   {
    "duration": -105070,
    "start_time": "2022-03-11T16:50:12.267Z"
   },
   {
    "duration": -105073,
    "start_time": "2022-03-11T16:50:12.272Z"
   },
   {
    "duration": -105075,
    "start_time": "2022-03-11T16:50:12.276Z"
   },
   {
    "duration": -105079,
    "start_time": "2022-03-11T16:50:12.281Z"
   },
   {
    "duration": -105081,
    "start_time": "2022-03-11T16:50:12.285Z"
   },
   {
    "duration": -105094,
    "start_time": "2022-03-11T16:50:12.299Z"
   },
   {
    "duration": -105098,
    "start_time": "2022-03-11T16:50:12.304Z"
   },
   {
    "duration": -105101,
    "start_time": "2022-03-11T16:50:12.308Z"
   },
   {
    "duration": 410,
    "start_time": "2022-03-11T16:48:56.233Z"
   },
   {
    "duration": 404,
    "start_time": "2022-03-11T16:49:03.777Z"
   },
   {
    "duration": 43,
    "start_time": "2022-03-11T16:49:07.573Z"
   },
   {
    "duration": 609,
    "start_time": "2022-03-11T16:49:10.599Z"
   },
   {
    "duration": 343,
    "start_time": "2022-03-11T16:49:15.572Z"
   },
   {
    "duration": 57,
    "start_time": "2022-03-11T16:49:21.367Z"
   },
   {
    "duration": 31,
    "start_time": "2022-03-11T16:49:24.211Z"
   },
   {
    "duration": 470,
    "start_time": "2022-03-11T16:49:27.679Z"
   },
   {
    "duration": 409,
    "start_time": "2022-03-11T16:49:36.229Z"
   },
   {
    "duration": 627,
    "start_time": "2022-03-11T16:49:43.603Z"
   },
   {
    "duration": 870,
    "start_time": "2022-03-11T16:49:47.334Z"
   },
   {
    "duration": 10,
    "start_time": "2022-03-11T16:49:51.119Z"
   },
   {
    "duration": 29,
    "start_time": "2022-03-11T16:49:54.878Z"
   },
   {
    "duration": 21,
    "start_time": "2022-03-11T16:49:59.262Z"
   },
   {
    "duration": 18,
    "start_time": "2022-03-11T16:50:02.815Z"
   },
   {
    "duration": 6,
    "start_time": "2022-03-11T16:50:04.379Z"
   },
   {
    "duration": 221,
    "start_time": "2022-03-11T16:50:06.813Z"
   },
   {
    "duration": 351,
    "start_time": "2022-03-11T16:50:09.367Z"
   },
   {
    "duration": 523,
    "start_time": "2022-03-11T16:50:11.773Z"
   },
   {
    "duration": 11,
    "start_time": "2022-03-11T16:50:19.292Z"
   },
   {
    "duration": 11,
    "start_time": "2022-03-11T16:50:21.115Z"
   },
   {
    "duration": 5977,
    "start_time": "2022-03-11T16:53:17.658Z"
   },
   {
    "duration": 6520,
    "start_time": "2022-03-11T16:53:57.934Z"
   },
   {
    "duration": 6001,
    "start_time": "2022-03-11T16:55:32.588Z"
   },
   {
    "duration": 529,
    "start_time": "2022-03-11T16:56:04.377Z"
   },
   {
    "duration": 72,
    "start_time": "2022-03-11T17:01:13.441Z"
   },
   {
    "duration": 6144,
    "start_time": "2022-03-11T17:01:32.227Z"
   },
   {
    "duration": 591,
    "start_time": "2022-03-11T17:04:53.383Z"
   },
   {
    "duration": 77,
    "start_time": "2022-03-11T17:05:08.206Z"
   },
   {
    "duration": 6106,
    "start_time": "2022-03-11T17:05:14.095Z"
   },
   {
    "duration": 5998,
    "start_time": "2022-03-11T17:05:41.489Z"
   },
   {
    "duration": 6811,
    "start_time": "2022-03-11T17:06:18.609Z"
   },
   {
    "duration": 5638,
    "start_time": "2022-03-11T17:08:22.986Z"
   },
   {
    "duration": 5726,
    "start_time": "2022-03-11T17:08:44.166Z"
   },
   {
    "duration": 5687,
    "start_time": "2022-03-11T17:10:13.350Z"
   },
   {
    "duration": 5507,
    "start_time": "2022-03-11T17:10:31.850Z"
   },
   {
    "duration": 467,
    "start_time": "2022-03-11T17:10:47.550Z"
   },
   {
    "duration": 5867,
    "start_time": "2022-03-11T17:11:21.865Z"
   },
   {
    "duration": 288,
    "start_time": "2022-03-11T17:11:54.046Z"
   },
   {
    "duration": 2083,
    "start_time": "2022-03-11T17:12:00.029Z"
   },
   {
    "duration": 6,
    "start_time": "2022-03-11T17:12:02.115Z"
   },
   {
    "duration": 89,
    "start_time": "2022-03-11T17:12:02.124Z"
   },
   {
    "duration": 21,
    "start_time": "2022-03-11T17:12:02.215Z"
   },
   {
    "duration": 48,
    "start_time": "2022-03-11T17:12:02.239Z"
   },
   {
    "duration": 45,
    "start_time": "2022-03-11T17:12:02.290Z"
   },
   {
    "duration": 45,
    "start_time": "2022-03-11T17:12:02.339Z"
   },
   {
    "duration": 29,
    "start_time": "2022-03-11T17:12:02.389Z"
   },
   {
    "duration": 21,
    "start_time": "2022-03-11T17:12:02.420Z"
   },
   {
    "duration": 45,
    "start_time": "2022-03-11T17:12:02.443Z"
   },
   {
    "duration": 15,
    "start_time": "2022-03-11T17:12:02.490Z"
   },
   {
    "duration": 324,
    "start_time": "2022-03-11T17:12:02.507Z"
   },
   {
    "duration": 414,
    "start_time": "2022-03-11T17:12:02.834Z"
   },
   {
    "duration": 447,
    "start_time": "2022-03-11T17:12:03.251Z"
   },
   {
    "duration": 53,
    "start_time": "2022-03-11T17:12:03.701Z"
   },
   {
    "duration": 573,
    "start_time": "2022-03-11T17:12:03.757Z"
   },
   {
    "duration": 638,
    "start_time": "2022-03-11T17:12:04.333Z"
   },
   {
    "duration": 86,
    "start_time": "2022-03-11T17:12:04.974Z"
   },
   {
    "duration": 59,
    "start_time": "2022-03-11T17:12:05.063Z"
   },
   {
    "duration": 621,
    "start_time": "2022-03-11T17:12:05.125Z"
   },
   {
    "duration": 751,
    "start_time": "2022-03-11T17:12:05.749Z"
   },
   {
    "duration": 996,
    "start_time": "2022-03-11T17:12:06.503Z"
   },
   {
    "duration": 15,
    "start_time": "2022-03-11T17:12:07.505Z"
   },
   {
    "duration": 38,
    "start_time": "2022-03-11T17:12:07.523Z"
   },
   {
    "duration": 29,
    "start_time": "2022-03-11T17:12:07.588Z"
   },
   {
    "duration": 23,
    "start_time": "2022-03-11T17:12:07.620Z"
   },
   {
    "duration": 10,
    "start_time": "2022-03-11T17:12:07.646Z"
   },
   {
    "duration": 324,
    "start_time": "2022-03-11T17:12:07.688Z"
   },
   {
    "duration": 376,
    "start_time": "2022-03-11T17:12:08.015Z"
   },
   {
    "duration": 637,
    "start_time": "2022-03-11T17:12:08.394Z"
   },
   {
    "duration": 12,
    "start_time": "2022-03-11T17:12:09.033Z"
   },
   {
    "duration": 12,
    "start_time": "2022-03-11T17:12:09.047Z"
   },
   {
    "duration": 1146,
    "start_time": "2022-09-12T07:13:06.158Z"
   },
   {
    "duration": 255,
    "start_time": "2022-09-12T07:13:07.307Z"
   },
   {
    "duration": 4,
    "start_time": "2022-09-12T07:13:07.564Z"
   },
   {
    "duration": 51,
    "start_time": "2022-09-12T07:13:07.570Z"
   },
   {
    "duration": 27,
    "start_time": "2022-09-12T07:13:07.622Z"
   },
   {
    "duration": 27,
    "start_time": "2022-09-12T07:13:07.650Z"
   },
   {
    "duration": 38,
    "start_time": "2022-09-12T07:13:07.679Z"
   },
   {
    "duration": 21,
    "start_time": "2022-09-12T07:13:07.719Z"
   },
   {
    "duration": 16,
    "start_time": "2022-09-12T07:13:07.742Z"
   },
   {
    "duration": 16,
    "start_time": "2022-09-12T07:13:07.760Z"
   },
   {
    "duration": 9,
    "start_time": "2022-09-12T07:13:07.778Z"
   },
   {
    "duration": 178,
    "start_time": "2022-09-12T07:13:07.789Z"
   },
   {
    "duration": 198,
    "start_time": "2022-09-12T07:13:07.968Z"
   },
   {
    "duration": 143,
    "start_time": "2022-09-12T07:13:08.167Z"
   },
   {
    "duration": 33,
    "start_time": "2022-09-12T07:13:08.311Z"
   },
   {
    "duration": 241,
    "start_time": "2022-09-12T07:13:08.346Z"
   },
   {
    "duration": 191,
    "start_time": "2022-09-12T07:13:08.589Z"
   },
   {
    "duration": 34,
    "start_time": "2022-09-12T07:13:08.782Z"
   },
   {
    "duration": 33,
    "start_time": "2022-09-12T07:13:08.817Z"
   },
   {
    "duration": 288,
    "start_time": "2022-09-12T07:13:08.851Z"
   },
   {
    "duration": 244,
    "start_time": "2022-09-12T07:13:09.141Z"
   },
   {
    "duration": 1012,
    "start_time": "2022-09-12T07:13:09.387Z"
   },
   {
    "duration": 6,
    "start_time": "2022-09-12T07:13:10.401Z"
   },
   {
    "duration": 18,
    "start_time": "2022-09-12T07:13:10.409Z"
   },
   {
    "duration": 16,
    "start_time": "2022-09-12T07:13:10.429Z"
   },
   {
    "duration": 10,
    "start_time": "2022-09-12T07:13:10.446Z"
   },
   {
    "duration": 12,
    "start_time": "2022-09-12T07:13:10.457Z"
   },
   {
    "duration": 105,
    "start_time": "2022-09-12T07:13:10.472Z"
   },
   {
    "duration": 155,
    "start_time": "2022-09-12T07:13:10.578Z"
   },
   {
    "duration": 234,
    "start_time": "2022-09-12T07:13:10.736Z"
   },
   {
    "duration": 7,
    "start_time": "2022-09-12T07:13:10.972Z"
   },
   {
    "duration": 13,
    "start_time": "2022-09-12T07:13:10.981Z"
   }
  ],
  "kernelspec": {
   "display_name": "Python 3 (ipykernel)",
   "language": "python",
   "name": "python3"
  },
  "language_info": {
   "codemirror_mode": {
    "name": "ipython",
    "version": 3
   },
   "file_extension": ".py",
   "mimetype": "text/x-python",
   "name": "python",
   "nbconvert_exporter": "python",
   "pygments_lexer": "ipython3",
   "version": "3.9.5"
  },
  "toc": {
   "base_numbering": 1,
   "nav_menu": {},
   "number_sections": true,
   "sideBar": true,
   "skip_h1_title": true,
   "title_cell": "Table of Contents",
   "title_sidebar": "Contents",
   "toc_cell": true,
   "toc_position": {},
   "toc_section_display": true,
   "toc_window_display": false
  }
 },
 "nbformat": 4,
 "nbformat_minor": 2
}
