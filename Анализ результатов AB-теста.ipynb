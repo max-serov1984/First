{
 "cells": [
  {
   "cell_type": "markdown",
   "metadata": {},
   "source": [
    "# Проект по теме \"Принятие решений в бизнесе\""
   ]
  },
  {
   "cell_type": "markdown",
   "metadata": {
    "toc": true
   },
   "source": [
    "<h1>Содержание<span class=\"tocSkip\"></span></h1>\n",
    "<div class=\"toc\"><ul class=\"toc-item\"><li><span><a href=\"#Приоритизация-гипотез.\" data-toc-modified-id=\"Приоритизация-гипотез.-1\"><span class=\"toc-item-num\">1&nbsp;&nbsp;</span>Приоритизация гипотез.</a></span><ul class=\"toc-item\"><li><span><a href=\"#Загрузка-и-просмотр-данных\" data-toc-modified-id=\"Загрузка-и-просмотр-данных-1.1\"><span class=\"toc-item-num\">1.1&nbsp;&nbsp;</span>Загрузка и просмотр данных</a></span></li><li><span><a href=\"#Предобработка-данных\" data-toc-modified-id=\"Предобработка-данных-1.2\"><span class=\"toc-item-num\">1.2&nbsp;&nbsp;</span>Предобработка данных</a></span></li><li><span><a href=\"#Приоритизация-гипотез\" data-toc-modified-id=\"Приоритизация-гипотез-1.3\"><span class=\"toc-item-num\">1.3&nbsp;&nbsp;</span>Приоритизация гипотез</a></span></li></ul></li><li><span><a href=\"#Анализ-A/B-теста\" data-toc-modified-id=\"Анализ-A/B-теста-2\"><span class=\"toc-item-num\">2&nbsp;&nbsp;</span>Анализ A/B-теста</a></span><ul class=\"toc-item\"><li><span><a href=\"#Загрузка-и-просмотр-данных\" data-toc-modified-id=\"Загрузка-и-просмотр-данных-2.1\"><span class=\"toc-item-num\">2.1&nbsp;&nbsp;</span>Загрузка и просмотр данных</a></span></li><li><span><a href=\"#Предобработка-данных\" data-toc-modified-id=\"Предобработка-данных-2.2\"><span class=\"toc-item-num\">2.2&nbsp;&nbsp;</span>Предобработка данных</a></span></li><li><span><a href=\"#Задача\" data-toc-modified-id=\"Задача-2.3\"><span class=\"toc-item-num\">2.3&nbsp;&nbsp;</span>Задача</a></span><ul class=\"toc-item\"><li><span><a href=\"#График-кумулятивной-выручки-по-группам\" data-toc-modified-id=\"График-кумулятивной-выручки-по-группам-2.3.1\"><span class=\"toc-item-num\">2.3.1&nbsp;&nbsp;</span>График кумулятивной выручки по группам</a></span></li><li><span><a href=\"#График-кумулятивного-чека-по-группам\" data-toc-modified-id=\"График-кумулятивного-чека-по-группам-2.3.2\"><span class=\"toc-item-num\">2.3.2&nbsp;&nbsp;</span>График кумулятивного чека по группам</a></span></li><li><span><a href=\"#График-относительного-изменения-кумулятивного-среднего-чека\" data-toc-modified-id=\"График-относительного-изменения-кумулятивного-среднего-чека-2.3.3\"><span class=\"toc-item-num\">2.3.3&nbsp;&nbsp;</span>График относительного изменения кумулятивного среднего чека</a></span></li><li><span><a href=\"#График-кумулятивной-конверсии\" data-toc-modified-id=\"График-кумулятивной-конверсии-2.3.4\"><span class=\"toc-item-num\">2.3.4&nbsp;&nbsp;</span>График кумулятивной конверсии</a></span></li><li><span><a href=\"#График-относительного-изменения-кумулятивной-конверсии\" data-toc-modified-id=\"График-относительного-изменения-кумулятивной-конверсии-2.3.5\"><span class=\"toc-item-num\">2.3.5&nbsp;&nbsp;</span>График относительного изменения кумулятивной конверсии</a></span></li><li><span><a href=\"#График-количества-заказов\" data-toc-modified-id=\"График-количества-заказов-2.3.6\"><span class=\"toc-item-num\">2.3.6&nbsp;&nbsp;</span>График количества заказов</a></span></li><li><span><a href=\"#Перцентили-стоимости-заказов\" data-toc-modified-id=\"Перцентили-стоимости-заказов-2.3.7\"><span class=\"toc-item-num\">2.3.7&nbsp;&nbsp;</span>Перцентили стоимости заказов</a></span></li><li><span><a href=\"#Точечный-график-стоимости-заказов\" data-toc-modified-id=\"Точечный-график-стоимости-заказов-2.3.8\"><span class=\"toc-item-num\">2.3.8&nbsp;&nbsp;</span>Точечный график стоимости заказов</a></span></li><li><span><a href=\"#Перцентили-стоимости-заказов\" data-toc-modified-id=\"Перцентили-стоимости-заказов-2.3.9\"><span class=\"toc-item-num\">2.3.9&nbsp;&nbsp;</span>Перцентили стоимости заказов</a></span></li><li><span><a href=\"#Статистическая-значимость-различий-в-конверсии-между-группами-по-«сырым»-данным.\" data-toc-modified-id=\"Статистическая-значимость-различий-в-конверсии-между-группами-по-«сырым»-данным.-2.3.10\"><span class=\"toc-item-num\">2.3.10&nbsp;&nbsp;</span>Статистическая значимость различий в конверсии между группами по «сырым» данным.</a></span></li><li><span><a href=\"#Статистическая-значимость-различий-в-среднем-чеке-заказа-между-группами-по-«сырым»-данным.\" data-toc-modified-id=\"Статистическая-значимость-различий-в-среднем-чеке-заказа-между-группами-по-«сырым»-данным.-2.3.11\"><span class=\"toc-item-num\">2.3.11&nbsp;&nbsp;</span>Статистическая значимость различий в среднем чеке заказа между группами по «сырым» данным.</a></span></li><li><span><a href=\"#Статистическая-значимость-различий-в-конверсии-между-группами-по-«очищенным»-данным.\" data-toc-modified-id=\"Статистическая-значимость-различий-в-конверсии-между-группами-по-«очищенным»-данным.-2.3.12\"><span class=\"toc-item-num\">2.3.12&nbsp;&nbsp;</span>Статистическая значимость различий в конверсии между группами по «очищенным» данным.</a></span></li><li><span><a href=\"#Статистическая-значимость-различий-в-среднем-чеке-заказа-между-группами-по-«очищенным»-данным\" data-toc-modified-id=\"Статистическая-значимость-различий-в-среднем-чеке-заказа-между-группами-по-«очищенным»-данным-2.3.13\"><span class=\"toc-item-num\">2.3.13&nbsp;&nbsp;</span>Статистическая значимость различий в среднем чеке заказа между группами по «очищенным» данным</a></span></li></ul></li></ul></li><li><span><a href=\"#Вывод\" data-toc-modified-id=\"Вывод-3\"><span class=\"toc-item-num\">3&nbsp;&nbsp;</span>Вывод</a></span></li></ul></div>"
   ]
  },
  {
   "cell_type": "markdown",
   "metadata": {},
   "source": [
    "# Описание проекта\n",
    "\n",
    "Я — аналитик крупного интернет-магазина. Вместе с отделом маркетинга мы подготовили список гипотез для увеличения выручки.\n",
    "Нужно приоритизировать гипотезы, запустить A/B-тест и проанализировать результаты."
   ]
  },
  {
   "cell_type": "markdown",
   "metadata": {},
   "source": [
    "## Приоритизация гипотез."
   ]
  },
  {
   "cell_type": "markdown",
   "metadata": {},
   "source": [
    "### Загрузка и просмотр данных"
   ]
  },
  {
   "cell_type": "code",
   "execution_count": 1,
   "metadata": {},
   "outputs": [],
   "source": [
    "import pandas as pd\n",
    "import warnings \n",
    "warnings.filterwarnings(\"ignore\")\n",
    "import numpy as np\n",
    "import matplotlib as mpl\n",
    "import seaborn as sns\n",
    "import datetime as dt\n",
    "import matplotlib.pyplot as plt\n",
    "import scipy.stats as stats"
   ]
  },
  {
   "cell_type": "code",
   "execution_count": 2,
   "metadata": {},
   "outputs": [
    {
     "data": {
      "text/html": [
       "<div>\n",
       "<style scoped>\n",
       "    .dataframe tbody tr th:only-of-type {\n",
       "        vertical-align: middle;\n",
       "    }\n",
       "\n",
       "    .dataframe tbody tr th {\n",
       "        vertical-align: top;\n",
       "    }\n",
       "\n",
       "    .dataframe thead th {\n",
       "        text-align: right;\n",
       "    }\n",
       "</style>\n",
       "<table border=\"1\" class=\"dataframe\">\n",
       "  <thead>\n",
       "    <tr style=\"text-align: right;\">\n",
       "      <th></th>\n",
       "      <th>Hypothesis</th>\n",
       "      <th>Reach</th>\n",
       "      <th>Impact</th>\n",
       "      <th>Confidence</th>\n",
       "      <th>Efforts</th>\n",
       "    </tr>\n",
       "  </thead>\n",
       "  <tbody>\n",
       "    <tr>\n",
       "      <th>0</th>\n",
       "      <td>Добавить два новых канала привлечения трафика, что позволит привлекать на 30% больше пользователей</td>\n",
       "      <td>3</td>\n",
       "      <td>10</td>\n",
       "      <td>8</td>\n",
       "      <td>6</td>\n",
       "    </tr>\n",
       "    <tr>\n",
       "      <th>1</th>\n",
       "      <td>Запустить собственную службу доставки, что сократит срок доставки заказов</td>\n",
       "      <td>2</td>\n",
       "      <td>5</td>\n",
       "      <td>4</td>\n",
       "      <td>10</td>\n",
       "    </tr>\n",
       "    <tr>\n",
       "      <th>2</th>\n",
       "      <td>Добавить блоки рекомендаций товаров на сайт интернет магазина, чтобы повысить конверсию и средний чек заказа</td>\n",
       "      <td>8</td>\n",
       "      <td>3</td>\n",
       "      <td>7</td>\n",
       "      <td>3</td>\n",
       "    </tr>\n",
       "    <tr>\n",
       "      <th>3</th>\n",
       "      <td>Изменить структура категорий, что увеличит конверсию, т.к. пользователи быстрее найдут нужный товар</td>\n",
       "      <td>8</td>\n",
       "      <td>3</td>\n",
       "      <td>3</td>\n",
       "      <td>8</td>\n",
       "    </tr>\n",
       "    <tr>\n",
       "      <th>4</th>\n",
       "      <td>Изменить цвет фона главной страницы, чтобы увеличить вовлеченность пользователей</td>\n",
       "      <td>3</td>\n",
       "      <td>1</td>\n",
       "      <td>1</td>\n",
       "      <td>1</td>\n",
       "    </tr>\n",
       "    <tr>\n",
       "      <th>5</th>\n",
       "      <td>Добавить страницу отзывов клиентов о магазине, что позволит увеличить количество заказов</td>\n",
       "      <td>3</td>\n",
       "      <td>2</td>\n",
       "      <td>2</td>\n",
       "      <td>3</td>\n",
       "    </tr>\n",
       "    <tr>\n",
       "      <th>6</th>\n",
       "      <td>Показать на главной странице баннеры с актуальными акциями и распродажами, чтобы увеличить конверсию</td>\n",
       "      <td>5</td>\n",
       "      <td>3</td>\n",
       "      <td>8</td>\n",
       "      <td>3</td>\n",
       "    </tr>\n",
       "    <tr>\n",
       "      <th>7</th>\n",
       "      <td>Добавить форму подписки на все основные страницы, чтобы собрать базу клиентов для email-рассылок</td>\n",
       "      <td>10</td>\n",
       "      <td>7</td>\n",
       "      <td>8</td>\n",
       "      <td>5</td>\n",
       "    </tr>\n",
       "    <tr>\n",
       "      <th>8</th>\n",
       "      <td>Запустить акцию, дающую скидку на товар в день рождения</td>\n",
       "      <td>1</td>\n",
       "      <td>9</td>\n",
       "      <td>9</td>\n",
       "      <td>5</td>\n",
       "    </tr>\n",
       "  </tbody>\n",
       "</table>\n",
       "</div>"
      ],
      "text/plain": [
       "                                                                                                     Hypothesis  \\\n",
       "0            Добавить два новых канала привлечения трафика, что позволит привлекать на 30% больше пользователей   \n",
       "1                                     Запустить собственную службу доставки, что сократит срок доставки заказов   \n",
       "2  Добавить блоки рекомендаций товаров на сайт интернет магазина, чтобы повысить конверсию и средний чек заказа   \n",
       "3           Изменить структура категорий, что увеличит конверсию, т.к. пользователи быстрее найдут нужный товар   \n",
       "4                              Изменить цвет фона главной страницы, чтобы увеличить вовлеченность пользователей   \n",
       "5                      Добавить страницу отзывов клиентов о магазине, что позволит увеличить количество заказов   \n",
       "6          Показать на главной странице баннеры с актуальными акциями и распродажами, чтобы увеличить конверсию   \n",
       "7              Добавить форму подписки на все основные страницы, чтобы собрать базу клиентов для email-рассылок   \n",
       "8                                                       Запустить акцию, дающую скидку на товар в день рождения   \n",
       "\n",
       "   Reach  Impact  Confidence  Efforts  \n",
       "0      3      10           8        6  \n",
       "1      2       5           4       10  \n",
       "2      8       3           7        3  \n",
       "3      8       3           3        8  \n",
       "4      3       1           1        1  \n",
       "5      3       2           2        3  \n",
       "6      5       3           8        3  \n",
       "7     10       7           8        5  \n",
       "8      1       9           9        5  "
      ]
     },
     "execution_count": 2,
     "metadata": {},
     "output_type": "execute_result"
    }
   ],
   "source": [
    "hips = pd.read_csv('/datasets/hypothesis.csv', sep=',')\n",
    "\n",
    "pd.set_option('display.max_columns', None)\n",
    "pd.plotting.register_matplotlib_converters()\n",
    "pd.options.display.max_colwidth = 150\n",
    "hips"
   ]
  },
  {
   "cell_type": "markdown",
   "metadata": {},
   "source": [
    "### Предобработка данных"
   ]
  },
  {
   "cell_type": "code",
   "execution_count": 3,
   "metadata": {},
   "outputs": [],
   "source": [
    "#функция для вывода данных\n",
    "def data(dataframes):\n",
    "    dataframes.columns = [x.lower().replace(' ', '_') for x in dataframes.columns.values]\n",
    "    for column in dataframes.columns:\n",
    "        print('====================')\n",
    "        print(column)\n",
    "        print(dataframes[column].value_counts())\n",
    "        print(dataframes[column].unique())\n",
    "    dataframes.describe()\n",
    "    print(dataframes.info())\n",
    "    print(dataframes.head())"
   ]
  },
  {
   "cell_type": "code",
   "execution_count": 4,
   "metadata": {
    "scrolled": false
   },
   "outputs": [
    {
     "name": "stdout",
     "output_type": "stream",
     "text": [
      "====================\n",
      "hypothesis\n",
      "Добавить форму подписки на все основные страницы, чтобы собрать базу клиентов для email-рассылок                1\n",
      "Запустить собственную службу доставки, что сократит срок доставки заказов                                       1\n",
      "Изменить структура категорий, что увеличит конверсию, т.к. пользователи быстрее найдут нужный товар             1\n",
      "Добавить страницу отзывов клиентов о магазине, что позволит увеличить количество заказов                        1\n",
      "Изменить цвет фона главной страницы, чтобы увеличить вовлеченность пользователей                                1\n",
      "Запустить акцию, дающую скидку на товар в день рождения                                                         1\n",
      "Добавить два новых канала привлечения трафика, что позволит привлекать на 30% больше пользователей              1\n",
      "Показать на главной странице баннеры с актуальными акциями и распродажами, чтобы увеличить конверсию            1\n",
      "Добавить блоки рекомендаций товаров на сайт интернет магазина, чтобы повысить конверсию и средний чек заказа    1\n",
      "Name: hypothesis, dtype: int64\n",
      "['Добавить два новых канала привлечения трафика, что позволит привлекать на 30% больше пользователей'\n",
      " 'Запустить собственную службу доставки, что сократит срок доставки заказов'\n",
      " 'Добавить блоки рекомендаций товаров на сайт интернет магазина, чтобы повысить конверсию и средний чек заказа'\n",
      " 'Изменить структура категорий, что увеличит конверсию, т.к. пользователи быстрее найдут нужный товар'\n",
      " 'Изменить цвет фона главной страницы, чтобы увеличить вовлеченность пользователей'\n",
      " 'Добавить страницу отзывов клиентов о магазине, что позволит увеличить количество заказов'\n",
      " 'Показать на главной странице баннеры с актуальными акциями и распродажами, чтобы увеличить конверсию'\n",
      " 'Добавить форму подписки на все основные страницы, чтобы собрать базу клиентов для email-рассылок'\n",
      " 'Запустить акцию, дающую скидку на товар в день рождения']\n",
      "====================\n",
      "reach\n",
      "3     3\n",
      "8     2\n",
      "1     1\n",
      "2     1\n",
      "5     1\n",
      "10    1\n",
      "Name: reach, dtype: int64\n",
      "[ 3  2  8  5 10  1]\n",
      "====================\n",
      "impact\n",
      "3     3\n",
      "1     1\n",
      "2     1\n",
      "5     1\n",
      "7     1\n",
      "9     1\n",
      "10    1\n",
      "Name: impact, dtype: int64\n",
      "[10  5  3  1  2  7  9]\n",
      "====================\n",
      "confidence\n",
      "8    3\n",
      "1    1\n",
      "2    1\n",
      "3    1\n",
      "4    1\n",
      "7    1\n",
      "9    1\n",
      "Name: confidence, dtype: int64\n",
      "[8 4 7 3 1 2 9]\n",
      "====================\n",
      "efforts\n",
      "3     3\n",
      "5     2\n",
      "1     1\n",
      "6     1\n",
      "8     1\n",
      "10    1\n",
      "Name: efforts, dtype: int64\n",
      "[ 6 10  3  8  1  5]\n",
      "<class 'pandas.core.frame.DataFrame'>\n",
      "RangeIndex: 9 entries, 0 to 8\n",
      "Data columns (total 5 columns):\n",
      " #   Column      Non-Null Count  Dtype \n",
      "---  ------      --------------  ----- \n",
      " 0   hypothesis  9 non-null      object\n",
      " 1   reach       9 non-null      int64 \n",
      " 2   impact      9 non-null      int64 \n",
      " 3   confidence  9 non-null      int64 \n",
      " 4   efforts     9 non-null      int64 \n",
      "dtypes: int64(4), object(1)\n",
      "memory usage: 488.0+ bytes\n",
      "None\n",
      "                                                                                                     hypothesis  \\\n",
      "0            Добавить два новых канала привлечения трафика, что позволит привлекать на 30% больше пользователей   \n",
      "1                                     Запустить собственную службу доставки, что сократит срок доставки заказов   \n",
      "2  Добавить блоки рекомендаций товаров на сайт интернет магазина, чтобы повысить конверсию и средний чек заказа   \n",
      "3           Изменить структура категорий, что увеличит конверсию, т.к. пользователи быстрее найдут нужный товар   \n",
      "4                              Изменить цвет фона главной страницы, чтобы увеличить вовлеченность пользователей   \n",
      "\n",
      "   reach  impact  confidence  efforts  \n",
      "0      3      10           8        6  \n",
      "1      2       5           4       10  \n",
      "2      8       3           7        3  \n",
      "3      8       3           3        8  \n",
      "4      3       1           1        1  \n"
     ]
    }
   ],
   "source": [
    "data(hips)"
   ]
  },
  {
   "cell_type": "markdown",
   "metadata": {},
   "source": [
    "### Приоритизация гипотез"
   ]
  },
  {
   "cell_type": "code",
   "execution_count": 5,
   "metadata": {},
   "outputs": [
    {
     "data": {
      "text/html": [
       "<div>\n",
       "<style scoped>\n",
       "    .dataframe tbody tr th:only-of-type {\n",
       "        vertical-align: middle;\n",
       "    }\n",
       "\n",
       "    .dataframe tbody tr th {\n",
       "        vertical-align: top;\n",
       "    }\n",
       "\n",
       "    .dataframe thead th {\n",
       "        text-align: right;\n",
       "    }\n",
       "</style>\n",
       "<table border=\"1\" class=\"dataframe\">\n",
       "  <thead>\n",
       "    <tr style=\"text-align: right;\">\n",
       "      <th></th>\n",
       "      <th>ice</th>\n",
       "      <th>hypothesis</th>\n",
       "    </tr>\n",
       "  </thead>\n",
       "  <tbody>\n",
       "    <tr>\n",
       "      <th>8</th>\n",
       "      <td>16.0</td>\n",
       "      <td>Запустить акцию, дающую скидку на товар в день рождения</td>\n",
       "    </tr>\n",
       "    <tr>\n",
       "      <th>0</th>\n",
       "      <td>13.0</td>\n",
       "      <td>Добавить два новых канала привлечения трафика, что позволит привлекать на 30% больше пользователей</td>\n",
       "    </tr>\n",
       "    <tr>\n",
       "      <th>7</th>\n",
       "      <td>11.0</td>\n",
       "      <td>Добавить форму подписки на все основные страницы, чтобы собрать базу клиентов для email-рассылок</td>\n",
       "    </tr>\n",
       "    <tr>\n",
       "      <th>6</th>\n",
       "      <td>8.0</td>\n",
       "      <td>Показать на главной странице баннеры с актуальными акциями и распродажами, чтобы увеличить конверсию</td>\n",
       "    </tr>\n",
       "    <tr>\n",
       "      <th>2</th>\n",
       "      <td>7.0</td>\n",
       "      <td>Добавить блоки рекомендаций товаров на сайт интернет магазина, чтобы повысить конверсию и средний чек заказа</td>\n",
       "    </tr>\n",
       "    <tr>\n",
       "      <th>1</th>\n",
       "      <td>2.0</td>\n",
       "      <td>Запустить собственную службу доставки, что сократит срок доставки заказов</td>\n",
       "    </tr>\n",
       "    <tr>\n",
       "      <th>5</th>\n",
       "      <td>1.0</td>\n",
       "      <td>Добавить страницу отзывов клиентов о магазине, что позволит увеличить количество заказов</td>\n",
       "    </tr>\n",
       "    <tr>\n",
       "      <th>3</th>\n",
       "      <td>1.0</td>\n",
       "      <td>Изменить структура категорий, что увеличит конверсию, т.к. пользователи быстрее найдут нужный товар</td>\n",
       "    </tr>\n",
       "    <tr>\n",
       "      <th>4</th>\n",
       "      <td>1.0</td>\n",
       "      <td>Изменить цвет фона главной страницы, чтобы увеличить вовлеченность пользователей</td>\n",
       "    </tr>\n",
       "  </tbody>\n",
       "</table>\n",
       "</div>"
      ],
      "text/plain": [
       "    ice  \\\n",
       "8  16.0   \n",
       "0  13.0   \n",
       "7  11.0   \n",
       "6   8.0   \n",
       "2   7.0   \n",
       "1   2.0   \n",
       "5   1.0   \n",
       "3   1.0   \n",
       "4   1.0   \n",
       "\n",
       "                                                                                                     hypothesis  \n",
       "8                                                       Запустить акцию, дающую скидку на товар в день рождения  \n",
       "0            Добавить два новых канала привлечения трафика, что позволит привлекать на 30% больше пользователей  \n",
       "7              Добавить форму подписки на все основные страницы, чтобы собрать базу клиентов для email-рассылок  \n",
       "6          Показать на главной странице баннеры с актуальными акциями и распродажами, чтобы увеличить конверсию  \n",
       "2  Добавить блоки рекомендаций товаров на сайт интернет магазина, чтобы повысить конверсию и средний чек заказа  \n",
       "1                                     Запустить собственную службу доставки, что сократит срок доставки заказов  \n",
       "5                      Добавить страницу отзывов клиентов о магазине, что позволит увеличить количество заказов  \n",
       "3           Изменить структура категорий, что увеличит конверсию, т.к. пользователи быстрее найдут нужный товар  \n",
       "4                              Изменить цвет фона главной страницы, чтобы увеличить вовлеченность пользователей  "
      ]
     },
     "execution_count": 5,
     "metadata": {},
     "output_type": "execute_result"
    }
   ],
   "source": [
    "# приоритизируем гипотезы с помощью ICE\n",
    "hips['ice'] = (hips['impact'] * hips['confidence']) / hips['efforts']\n",
    "\n",
    "ice_hips = hips[{'hypothesis', 'ice'}].sort_values(by='ice', ascending=False).round()\n",
    "ice_hips"
   ]
  },
  {
   "cell_type": "markdown",
   "metadata": {},
   "source": [
    "Наиболее переспективные гипотезы:\n",
    " - Запустить акцию, дающую скидку на товар в день рождения,\n",
    " - Добавить два новых канала привлечения трафика, что позволит привлекать на 30% больше пользователей,\n",
    " - Добавить форму подписки на все основные страницы, чтобы собрать базу клиентов для email-рассылок,\n",
    " - Показать на главной странице баннеры с актуальными акциями и распродажами, чтобы увеличить конверсию,\n",
    " - Добавить блоки рекомендаций товаров на сайт интернет магазина, чтобы повысить конверсию и средний чек заказа."
   ]
  },
  {
   "cell_type": "code",
   "execution_count": 6,
   "metadata": {},
   "outputs": [
    {
     "data": {
      "text/html": [
       "<div>\n",
       "<style scoped>\n",
       "    .dataframe tbody tr th:only-of-type {\n",
       "        vertical-align: middle;\n",
       "    }\n",
       "\n",
       "    .dataframe tbody tr th {\n",
       "        vertical-align: top;\n",
       "    }\n",
       "\n",
       "    .dataframe thead th {\n",
       "        text-align: right;\n",
       "    }\n",
       "</style>\n",
       "<table border=\"1\" class=\"dataframe\">\n",
       "  <thead>\n",
       "    <tr style=\"text-align: right;\">\n",
       "      <th></th>\n",
       "      <th>hypothesis</th>\n",
       "      <th>rice</th>\n",
       "    </tr>\n",
       "  </thead>\n",
       "  <tbody>\n",
       "    <tr>\n",
       "      <th>7</th>\n",
       "      <td>Добавить форму подписки на все основные страницы, чтобы собрать базу клиентов для email-рассылок</td>\n",
       "      <td>112.0</td>\n",
       "    </tr>\n",
       "    <tr>\n",
       "      <th>2</th>\n",
       "      <td>Добавить блоки рекомендаций товаров на сайт интернет магазина, чтобы повысить конверсию и средний чек заказа</td>\n",
       "      <td>56.0</td>\n",
       "    </tr>\n",
       "    <tr>\n",
       "      <th>0</th>\n",
       "      <td>Добавить два новых канала привлечения трафика, что позволит привлекать на 30% больше пользователей</td>\n",
       "      <td>40.0</td>\n",
       "    </tr>\n",
       "    <tr>\n",
       "      <th>6</th>\n",
       "      <td>Показать на главной странице баннеры с актуальными акциями и распродажами, чтобы увеличить конверсию</td>\n",
       "      <td>40.0</td>\n",
       "    </tr>\n",
       "    <tr>\n",
       "      <th>8</th>\n",
       "      <td>Запустить акцию, дающую скидку на товар в день рождения</td>\n",
       "      <td>16.2</td>\n",
       "    </tr>\n",
       "    <tr>\n",
       "      <th>3</th>\n",
       "      <td>Изменить структура категорий, что увеличит конверсию, т.к. пользователи быстрее найдут нужный товар</td>\n",
       "      <td>9.0</td>\n",
       "    </tr>\n",
       "    <tr>\n",
       "      <th>1</th>\n",
       "      <td>Запустить собственную службу доставки, что сократит срок доставки заказов</td>\n",
       "      <td>4.0</td>\n",
       "    </tr>\n",
       "    <tr>\n",
       "      <th>5</th>\n",
       "      <td>Добавить страницу отзывов клиентов о магазине, что позволит увеличить количество заказов</td>\n",
       "      <td>4.0</td>\n",
       "    </tr>\n",
       "    <tr>\n",
       "      <th>4</th>\n",
       "      <td>Изменить цвет фона главной страницы, чтобы увеличить вовлеченность пользователей</td>\n",
       "      <td>3.0</td>\n",
       "    </tr>\n",
       "  </tbody>\n",
       "</table>\n",
       "</div>"
      ],
      "text/plain": [
       "                                                                                                     hypothesis  \\\n",
       "7              Добавить форму подписки на все основные страницы, чтобы собрать базу клиентов для email-рассылок   \n",
       "2  Добавить блоки рекомендаций товаров на сайт интернет магазина, чтобы повысить конверсию и средний чек заказа   \n",
       "0            Добавить два новых канала привлечения трафика, что позволит привлекать на 30% больше пользователей   \n",
       "6          Показать на главной странице баннеры с актуальными акциями и распродажами, чтобы увеличить конверсию   \n",
       "8                                                       Запустить акцию, дающую скидку на товар в день рождения   \n",
       "3           Изменить структура категорий, что увеличит конверсию, т.к. пользователи быстрее найдут нужный товар   \n",
       "1                                     Запустить собственную службу доставки, что сократит срок доставки заказов   \n",
       "5                      Добавить страницу отзывов клиентов о магазине, что позволит увеличить количество заказов   \n",
       "4                              Изменить цвет фона главной страницы, чтобы увеличить вовлеченность пользователей   \n",
       "\n",
       "    rice  \n",
       "7  112.0  \n",
       "2   56.0  \n",
       "0   40.0  \n",
       "6   40.0  \n",
       "8   16.2  \n",
       "3    9.0  \n",
       "1    4.0  \n",
       "5    4.0  \n",
       "4    3.0  "
      ]
     },
     "execution_count": 6,
     "metadata": {},
     "output_type": "execute_result"
    }
   ],
   "source": [
    "# приоритизируем гипотезы с помощью RICE\n",
    "hips['rice'] = (hips['reach'] * hips['impact'] * hips['confidence']) / hips['efforts']\n",
    "\n",
    "rice_hips = hips[{'hypothesis', 'rice'}].sort_values(by='rice', ascending=False)\n",
    "rice_hips"
   ]
  },
  {
   "cell_type": "markdown",
   "metadata": {},
   "source": [
    "Набор гипотез тот же самый, только другой порядок"
   ]
  },
  {
   "cell_type": "code",
   "execution_count": 7,
   "metadata": {},
   "outputs": [
    {
     "data": {
      "text/html": [
       "<style  type=\"text/css\" >\n",
       "#T_18605_row0_col1,#T_18605_row2_col2{\n",
       "            background-color:  #f0f0f3;\n",
       "            color:  #000000;\n",
       "        }#T_18605_row0_col2,#T_18605_row4_col1{\n",
       "            background-color:  #7878f9;\n",
       "            color:  #000000;\n",
       "        }#T_18605_row1_col1,#T_18605_row4_col2{\n",
       "            background-color:  #d2d2f4;\n",
       "            color:  #000000;\n",
       "        }#T_18605_row1_col2,#T_18605_row3_col2{\n",
       "            background-color:  #a5a5f7;\n",
       "            color:  #000000;\n",
       "        }#T_18605_row2_col1{\n",
       "            background-color:  #b4b4f6;\n",
       "            color:  #000000;\n",
       "        }#T_18605_row3_col1{\n",
       "            background-color:  #9696f7;\n",
       "            color:  #000000;\n",
       "        }#T_18605_row5_col1,#T_18605_row7_col2{\n",
       "            background-color:  #5a5afa;\n",
       "            color:  #f1f1f1;\n",
       "        }#T_18605_row5_col2,#T_18605_row6_col2{\n",
       "            background-color:  #2c2cfd;\n",
       "            color:  #f1f1f1;\n",
       "        }#T_18605_row6_col1{\n",
       "            background-color:  #3b3bfc;\n",
       "            color:  #f1f1f1;\n",
       "        }#T_18605_row7_col1{\n",
       "            background-color:  #1d1dfe;\n",
       "            color:  #f1f1f1;\n",
       "        }#T_18605_row8_col1,#T_18605_row8_col2{\n",
       "            background-color:  #0000ff;\n",
       "            color:  #f1f1f1;\n",
       "        }</style><table id=\"T_18605_\" ><thead>    <tr>        <th class=\"blank level0\" ></th>        <th class=\"col_heading level0 col0\" >hypothesis</th>        <th class=\"col_heading level0 col1\" >rank_ice</th>        <th class=\"col_heading level0 col2\" >rank_rice</th>    </tr></thead><tbody>\n",
       "                <tr>\n",
       "                        <th id=\"T_18605_level0_row0\" class=\"row_heading level0 row0\" >0</th>\n",
       "                        <td id=\"T_18605_row0_col0\" class=\"data row0 col0\" >Запустить акцию, дающую скидку на товар в день рождения</td>\n",
       "                        <td id=\"T_18605_row0_col1\" class=\"data row0 col1\" >1.000000</td>\n",
       "                        <td id=\"T_18605_row0_col2\" class=\"data row0 col2\" >5.000000</td>\n",
       "            </tr>\n",
       "            <tr>\n",
       "                        <th id=\"T_18605_level0_row1\" class=\"row_heading level0 row1\" >1</th>\n",
       "                        <td id=\"T_18605_row1_col0\" class=\"data row1 col0\" >Добавить два новых канала привлечения трафика, что позволит привлекать на 30% больше пользователей</td>\n",
       "                        <td id=\"T_18605_row1_col1\" class=\"data row1 col1\" >2.000000</td>\n",
       "                        <td id=\"T_18605_row1_col2\" class=\"data row1 col2\" >3.500000</td>\n",
       "            </tr>\n",
       "            <tr>\n",
       "                        <th id=\"T_18605_level0_row2\" class=\"row_heading level0 row2\" >2</th>\n",
       "                        <td id=\"T_18605_row2_col0\" class=\"data row2 col0\" >Добавить форму подписки на все основные страницы, чтобы собрать базу клиентов для email-рассылок</td>\n",
       "                        <td id=\"T_18605_row2_col1\" class=\"data row2 col1\" >3.000000</td>\n",
       "                        <td id=\"T_18605_row2_col2\" class=\"data row2 col2\" >1.000000</td>\n",
       "            </tr>\n",
       "            <tr>\n",
       "                        <th id=\"T_18605_level0_row3\" class=\"row_heading level0 row3\" >3</th>\n",
       "                        <td id=\"T_18605_row3_col0\" class=\"data row3 col0\" >Показать на главной странице баннеры с актуальными акциями и распродажами, чтобы увеличить конверсию</td>\n",
       "                        <td id=\"T_18605_row3_col1\" class=\"data row3 col1\" >4.000000</td>\n",
       "                        <td id=\"T_18605_row3_col2\" class=\"data row3 col2\" >3.500000</td>\n",
       "            </tr>\n",
       "            <tr>\n",
       "                        <th id=\"T_18605_level0_row4\" class=\"row_heading level0 row4\" >4</th>\n",
       "                        <td id=\"T_18605_row4_col0\" class=\"data row4 col0\" >Добавить блоки рекомендаций товаров на сайт интернет магазина, чтобы повысить конверсию и средний чек заказа</td>\n",
       "                        <td id=\"T_18605_row4_col1\" class=\"data row4 col1\" >5.000000</td>\n",
       "                        <td id=\"T_18605_row4_col2\" class=\"data row4 col2\" >2.000000</td>\n",
       "            </tr>\n",
       "            <tr>\n",
       "                        <th id=\"T_18605_level0_row5\" class=\"row_heading level0 row5\" >5</th>\n",
       "                        <td id=\"T_18605_row5_col0\" class=\"data row5 col0\" >Запустить собственную службу доставки, что сократит срок доставки заказов</td>\n",
       "                        <td id=\"T_18605_row5_col1\" class=\"data row5 col1\" >6.000000</td>\n",
       "                        <td id=\"T_18605_row5_col2\" class=\"data row5 col2\" >7.500000</td>\n",
       "            </tr>\n",
       "            <tr>\n",
       "                        <th id=\"T_18605_level0_row6\" class=\"row_heading level0 row6\" >6</th>\n",
       "                        <td id=\"T_18605_row6_col0\" class=\"data row6 col0\" >Добавить страницу отзывов клиентов о магазине, что позволит увеличить количество заказов</td>\n",
       "                        <td id=\"T_18605_row6_col1\" class=\"data row6 col1\" >7.000000</td>\n",
       "                        <td id=\"T_18605_row6_col2\" class=\"data row6 col2\" >7.500000</td>\n",
       "            </tr>\n",
       "            <tr>\n",
       "                        <th id=\"T_18605_level0_row7\" class=\"row_heading level0 row7\" >7</th>\n",
       "                        <td id=\"T_18605_row7_col0\" class=\"data row7 col0\" >Изменить структура категорий, что увеличит конверсию, т.к. пользователи быстрее найдут нужный товар</td>\n",
       "                        <td id=\"T_18605_row7_col1\" class=\"data row7 col1\" >8.000000</td>\n",
       "                        <td id=\"T_18605_row7_col2\" class=\"data row7 col2\" >6.000000</td>\n",
       "            </tr>\n",
       "            <tr>\n",
       "                        <th id=\"T_18605_level0_row8\" class=\"row_heading level0 row8\" >8</th>\n",
       "                        <td id=\"T_18605_row8_col0\" class=\"data row8 col0\" >Изменить цвет фона главной страницы, чтобы увеличить вовлеченность пользователей</td>\n",
       "                        <td id=\"T_18605_row8_col1\" class=\"data row8 col1\" >9.000000</td>\n",
       "                        <td id=\"T_18605_row8_col2\" class=\"data row8 col2\" >9.000000</td>\n",
       "            </tr>\n",
       "    </tbody></table>"
      ],
      "text/plain": [
       "<pandas.io.formats.style.Styler at 0x7fb14e6efb80>"
      ]
     },
     "execution_count": 7,
     "metadata": {},
     "output_type": "execute_result"
    }
   ],
   "source": [
    "cm = sns.light_palette(\"blue\", as_cmap=True)\n",
    "ice_hips['rank_ice'] = hips['ice'].rank(ascending=0)\n",
    "rice_hips['rank_rice'] = hips['rice'].rank(ascending=0)\n",
    "ice_hips.merge(rice_hips, on='hypothesis').drop(columns = ['ice', 'rice'], axis=1).style.background_gradient(cmap=cm, axis=0)"
   ]
  },
  {
   "cell_type": "code",
   "execution_count": 8,
   "metadata": {},
   "outputs": [
    {
     "data": {
      "text/plain": [
       "0     3\n",
       "1     2\n",
       "2     8\n",
       "3     8\n",
       "4     3\n",
       "5     3\n",
       "6     5\n",
       "7    10\n",
       "8     1\n",
       "Name: reach, dtype: int64"
      ]
     },
     "execution_count": 8,
     "metadata": {},
     "output_type": "execute_result"
    }
   ],
   "source": [
    "# посмотрел оценку параметра reach по гипотезам\n",
    "hips['reach']"
   ]
  },
  {
   "cell_type": "markdown",
   "metadata": {},
   "source": [
    "Наиболее переспективные гипотезы:\n",
    " - Запустить акцию, дающую скидку на товар в день рождения,\n",
    " - Добавить два новых канала привлечения трафика, что позволит привлекать на 30% больше пользователей,\n",
    " - Добавить форму подписки на все основные страницы, чтобы собрать базу клиентов для email-рассылок,\n",
    " - Показать на главной странице баннеры с актуальными акциями и распродажами, чтобы увеличить конверсию,\n",
    " - Добавить блоки рекомендаций товаров на сайт интернет магазина, чтобы повысить конверсию и средний чек заказа. \n",
    " \n",
    "(состав гипотез одинаков обоими методами ICE и RICE)\n",
    "Разница в различном приоритете при использовании подсчета через ICE и RICE объясняется дополнительным множителем в числителе в виде показателя Reach. Чем он выше, тем выше будет приоритет гипотезы относительно гипотез в среднем имеющих аналогичные показатели Impact, Confidence и Efforts."
   ]
  },
  {
   "cell_type": "markdown",
   "metadata": {},
   "source": [
    "##  Анализ A/B-теста"
   ]
  },
  {
   "cell_type": "markdown",
   "metadata": {},
   "source": [
    "### Загрузка и просмотр данных"
   ]
  },
  {
   "cell_type": "code",
   "execution_count": 9,
   "metadata": {},
   "outputs": [
    {
     "name": "stdout",
     "output_type": "stream",
     "text": [
      "<class 'pandas.core.frame.DataFrame'>\n",
      "RangeIndex: 1197 entries, 0 to 1196\n",
      "Data columns (total 5 columns):\n",
      " #   Column         Non-Null Count  Dtype         \n",
      "---  ------         --------------  -----         \n",
      " 0   transactionId  1197 non-null   int64         \n",
      " 1   visitorId      1197 non-null   int64         \n",
      " 2   date           1197 non-null   datetime64[ns]\n",
      " 3   revenue        1197 non-null   int64         \n",
      " 4   group          1197 non-null   object        \n",
      "dtypes: datetime64[ns](1), int64(3), object(1)\n",
      "memory usage: 46.9+ KB\n"
     ]
    }
   ],
   "source": [
    "orders = pd.read_csv('/datasets/orders.csv', sep=',')\n",
    "orders['date'] = orders['date'].map(\n",
    "   lambda x: dt.datetime.strptime(x, '%Y-%m-%d')\n",
    ")\n",
    "\n",
    "visitors = pd.read_csv(\n",
    "    '/datasets/visitors.csv', sep=','\n",
    ")\n",
    "visitors['date'] = visitors['date'].map(\n",
    "   lambda x: dt.datetime.strptime(x, '%Y-%m-%d')\n",
    ")\n",
    "\n",
    "orders.head()\n",
    "orders.info()"
   ]
  },
  {
   "cell_type": "markdown",
   "metadata": {},
   "source": [
    "Нет \"змеиного\" регистра и используются заглавные буквы. Заглавные буквы уберу, со \"змеиным\" регистром поленился поскольку менять ниже весь код."
   ]
  },
  {
   "cell_type": "code",
   "execution_count": 10,
   "metadata": {},
   "outputs": [
    {
     "name": "stdout",
     "output_type": "stream",
     "text": [
      "<class 'pandas.core.frame.DataFrame'>\n",
      "RangeIndex: 62 entries, 0 to 61\n",
      "Data columns (total 3 columns):\n",
      " #   Column    Non-Null Count  Dtype         \n",
      "---  ------    --------------  -----         \n",
      " 0   date      62 non-null     datetime64[ns]\n",
      " 1   group     62 non-null     object        \n",
      " 2   visitors  62 non-null     int64         \n",
      "dtypes: datetime64[ns](1), int64(1), object(1)\n",
      "memory usage: 1.6+ KB\n"
     ]
    }
   ],
   "source": [
    "visitors.head()\n",
    "visitors.info()"
   ]
  },
  {
   "cell_type": "markdown",
   "metadata": {},
   "source": [
    "### Предобработка данных"
   ]
  },
  {
   "cell_type": "code",
   "execution_count": 11,
   "metadata": {
    "scrolled": false
   },
   "outputs": [
    {
     "name": "stdout",
     "output_type": "stream",
     "text": [
      "====================\n",
      "transactionid\n",
      "1658608862    1\n",
      "2211880073    1\n",
      "3913205113    1\n",
      "437656952     1\n",
      "3592105335    1\n",
      "             ..\n",
      "2872509092    1\n",
      "2013919907    1\n",
      "3154167297    1\n",
      "2960804513    1\n",
      "4281129020    1\n",
      "Name: transactionid, Length: 1197, dtype: int64\n",
      "[3667963787 2804400009 2961555356 ... 1807773912 1947021204 3936777065]\n",
      "====================\n",
      "visitorid\n",
      "4256040402    11\n",
      "2458001652    11\n",
      "2378935119     9\n",
      "2038680547     8\n",
      "199603092      5\n",
      "              ..\n",
      "2406916810     1\n",
      "1255412427     1\n",
      "3866069709     1\n",
      "54447517       1\n",
      "3013339133     1\n",
      "Name: visitorid, Length: 1031, dtype: int64\n",
      "[3312258926 3642806036 4069496402 ...  370388673  573423106 2108080724]\n",
      "====================\n",
      "date\n",
      "2019-08-05    48\n",
      "2019-08-12    47\n",
      "2019-08-14    47\n",
      "2019-08-15    46\n",
      "2019-08-06    46\n",
      "2019-08-01    45\n",
      "2019-08-28    45\n",
      "2019-08-02    44\n",
      "2019-08-27    44\n",
      "2019-08-08    43\n",
      "2019-08-19    43\n",
      "2019-08-29    42\n",
      "2019-08-07    42\n",
      "2019-08-26    41\n",
      "2019-08-22    41\n",
      "2019-08-09    41\n",
      "2019-08-03    40\n",
      "2019-08-23    40\n",
      "2019-08-10    39\n",
      "2019-08-16    38\n",
      "2019-08-21    37\n",
      "2019-08-30    35\n",
      "2019-08-13    35\n",
      "2019-08-04    33\n",
      "2019-08-20    32\n",
      "2019-08-31    32\n",
      "2019-08-24    31\n",
      "2019-08-18    26\n",
      "2019-08-11    26\n",
      "2019-08-17    24\n",
      "2019-08-25    24\n",
      "Name: date, dtype: int64\n",
      "['2019-08-15T00:00:00.000000000' '2019-08-16T00:00:00.000000000'\n",
      " '2019-08-01T00:00:00.000000000' '2019-08-22T00:00:00.000000000'\n",
      " '2019-08-17T00:00:00.000000000' '2019-08-23T00:00:00.000000000'\n",
      " '2019-08-02T00:00:00.000000000' '2019-08-18T00:00:00.000000000'\n",
      " '2019-08-24T00:00:00.000000000' '2019-08-03T00:00:00.000000000'\n",
      " '2019-08-25T00:00:00.000000000' '2019-08-28T00:00:00.000000000'\n",
      " '2019-08-19T00:00:00.000000000' '2019-08-06T00:00:00.000000000'\n",
      " '2019-08-26T00:00:00.000000000' '2019-08-29T00:00:00.000000000'\n",
      " '2019-08-04T00:00:00.000000000' '2019-08-20T00:00:00.000000000'\n",
      " '2019-08-09T00:00:00.000000000' '2019-08-07T00:00:00.000000000'\n",
      " '2019-08-30T00:00:00.000000000' '2019-08-05T00:00:00.000000000'\n",
      " '2019-08-27T00:00:00.000000000' '2019-08-21T00:00:00.000000000'\n",
      " '2019-08-08T00:00:00.000000000' '2019-08-10T00:00:00.000000000'\n",
      " '2019-08-31T00:00:00.000000000' '2019-08-11T00:00:00.000000000'\n",
      " '2019-08-12T00:00:00.000000000' '2019-08-13T00:00:00.000000000'\n",
      " '2019-08-14T00:00:00.000000000']\n",
      "====================\n",
      "revenue\n",
      "990       17\n",
      "890       13\n",
      "390       13\n",
      "1190      10\n",
      "400       10\n",
      "          ..\n",
      "6440       1\n",
      "45780      1\n",
      "725        1\n",
      "9800       1\n",
      "202740     1\n",
      "Name: revenue, Length: 713, dtype: int64\n",
      "[   1650     730     400    9759    2308    2210    1860    1044   13710\n",
      "    1855    4008    4499    7370   11985   10980   15277    1060     990\n",
      "   16490    1190     300    1050     632   15185    7555    3488    7620\n",
      "    5280     700     190     383    1680   22785    2355    2470    6250\n",
      "   19260     610    2986    1090    9290    2480    3000    2140    3590\n",
      "    6990    1250    2970   18100     100    2750     570    2978    1440\n",
      "    7860   56650     790    1350    2540    1710    2350   14610    8999\n",
      "   10510   29499     780     890    4400   32350   40740    2490    2080\n",
      "    5400    5100    4020     690   12350    1290     382    2110    1490\n",
      "   17868    1940   26550    5970     987    9024    5555    7129    3240\n",
      "    2995    2550   17600     850    5365    8390    5870    5020   14489\n",
      "    8470    1630    5800     172    6230     760    3390    4480    1139\n",
      "   12336    1450    7990    5099    9400    6441    3070    6145   53904\n",
      "    6922    5190    6976    7690     426   28490     390     299    6329\n",
      "    8800    2990    9448    2920    9980    1790    4970    3760    8090\n",
      "   11990   18900    6420    1990     650     436    1038    1780    3564\n",
      "    3340    5480   38160    2800    3040     995    3210     310    2090\n",
      "    3468     778    5740    4580    1840    1550   17990     290    6940\n",
      "    1690    5369   11115     165    2646    2220    2190    2845    1799\n",
      "    1498    9850    6700     500    2640    4717   30649    5640    2820\n",
      "   17422   14155    4185   10960    1140    1310    1380   10791    9310\n",
      "    3470    2955   15850   27550   15485    6201    2320     599     660\n",
      "    6149    2938   10590     110   12810    9880     920   15417     950\n",
      "    2339    3190    2360   16950   34340    1620   14271    1920     380\n",
      "    8240     282   10970     170    1922   14400   19538   10450    2290\n",
      "    1830   33970    1100    4877   12680     860    3354    1000    6890\n",
      "    4299   12562     420   23750    6350     490   22040    2950    2342\n",
      "    5622    7485    1200    2057      76    1900    2690   20219    4195\n",
      "     830    2330    2526    1435    1460     250    6194    3460    5070\n",
      "    8850    1410    1758    1220    8000   15072   41450    1530    1390\n",
      "    4370    6000    2580    5160    6536    5000   14970    9080     910\n",
      "   16770    2500    1590    3990   20026   12470    4980   16680   16480\n",
      "    4780    3450    5415   16279    2385     120    1398   20990    5539\n",
      "     270   21220    1253   12550     880    9990    3890   19240    3080\n",
      "     460      70     870   26980   13990   24744    4500    8870     600\n",
      "     440     750    1950   37550   31680    9490   11249     470 1294500\n",
      "    2630    4930    3150   17650    5450    5770    1575   20450   11050\n",
      "    2000    2255    1999    7300   18464    6677    2890    6248    5270\n",
      "    4485    7349    3030      50    9232    9934    2840    8990    8780\n",
      "    4410     350   19280   13769    6681    6260    1130   11135   20100\n",
      "    2722    8885    8585    1980   10195   30990    2359     320    2590\n",
      "    8250     580    5350    3140    1910   17379    4840    6930    5690\n",
      "    6090     740   10440    4880    6590   21550   33405    3525   43990\n",
      "   13390     697    4495    8401    6382    2285   10485    6288   11711\n",
      "    3950   25080    1580   35485    9750   27490    1510    1850    4990\n",
      "    3650   33050    5530   27600    1893   31350     360    5249    6716\n",
      "    3559    5790     604    3550     240    2235   10550    4690   12888\n",
      "    7995    3220     495     265    4790     480    1721    2830     340\n",
      "    1870    2670    2420    3261    1634   39800   12990   25890   18990\n",
      "    3826   18010   10250   17030    5119    9870   13860    8877    4620\n",
      "   43690    1846      90    4190   34550   10765    7024    4698    2030\n",
      "   78990   10850     550   16990     620     654    6613   10160    6400\n",
      "    6440   27390    2050     540   42740    9680    5150     410    3680\n",
      "    5227     590    5776    2390   14495    2070    2555   19520   11688\n",
      "    4180    1399   45880    3050     295   17792   24381    1805   28350\n",
      "    6170    3270    2960    1020   10137   14490   67990   86620    4900\n",
      "   49495    3170   37150   19660   45780   24860    1737    1040    9690\n",
      "    1149    5490    1640     840   12490    4740    3480     785    7890\n",
      "    2600    3739     900    3888    1993   13770   20290    2578    5330\n",
      "    5719    2436    5030    4210    2400    8099    1540    6242   18560\n",
      "     150    4600   13740    2790   19990     980    1120   15416    3410\n",
      "    5840    4170   10170     985   22950    1180    1188    2674    4710\n",
      "   18270     770   93940    7110   12642    4920    3290   35890    4363\n",
      "    6445   58220    3740    3500    1600    1420    1729    3250     450\n",
      "   11440    4188     530   13354   17300    2180     160    1960     359\n",
      "     510   19386      75    1885    4040   25790   13203    2250   34990\n",
      "    3430   19490     720      60    7390    3910   58550     800    7240\n",
      "   18350   18463    3330    6660    4283   60450   24350    9050    5170\n",
      "   28750   11250    1730    5900    2348    3600    1320    3806    2907\n",
      "     971   14990     640    8290    5430     820    4685    2610   14250\n",
      "     130   52900    3490    4390    9800   13070   15500    6674    3404\n",
      "   18557    8439    8340   27985    6645    8640    6060    1720   15450\n",
      "    1800    8950    8280    1825    5688    4240    2061   12150    1280\n",
      "    8777    9300    8590    6015    1170    4650   39500    6585    5050\n",
      "   14000   32610   16920   65710     725    6438   66350    3320   11490\n",
      "    7500    7550   11565    2752   28060    1707    6780    5390    3260\n",
      "   17940   24990    3980    8529    5440    2510   18893   92550   52480\n",
      "    4140    3520    3180    4120     370    6385    9368    3780    1329\n",
      "    3020    6180   25250    4940   10380   15380     112   31550    8600\n",
      "    6490  202740]\n",
      "====================\n",
      "group\n",
      "B    640\n",
      "A    557\n",
      "Name: group, dtype: int64\n",
      "['B' 'A']\n",
      "<class 'pandas.core.frame.DataFrame'>\n",
      "RangeIndex: 1197 entries, 0 to 1196\n",
      "Data columns (total 5 columns):\n",
      " #   Column         Non-Null Count  Dtype         \n",
      "---  ------         --------------  -----         \n",
      " 0   transactionid  1197 non-null   int64         \n",
      " 1   visitorid      1197 non-null   int64         \n",
      " 2   date           1197 non-null   datetime64[ns]\n",
      " 3   revenue        1197 non-null   int64         \n",
      " 4   group          1197 non-null   object        \n",
      "dtypes: datetime64[ns](1), int64(3), object(1)\n",
      "memory usage: 46.9+ KB\n",
      "None\n",
      "   transactionid   visitorid       date  revenue group\n",
      "0     3667963787  3312258926 2019-08-15     1650     B\n",
      "1     2804400009  3642806036 2019-08-15      730     B\n",
      "2     2961555356  4069496402 2019-08-15      400     A\n",
      "3     3797467345  1196621759 2019-08-15     9759     B\n",
      "4     2282983706  2322279887 2019-08-15     2308     B\n"
     ]
    }
   ],
   "source": [
    "data(orders)"
   ]
  },
  {
   "cell_type": "code",
   "execution_count": 12,
   "metadata": {},
   "outputs": [
    {
     "data": {
      "text/html": [
       "<div>\n",
       "<style scoped>\n",
       "    .dataframe tbody tr th:only-of-type {\n",
       "        vertical-align: middle;\n",
       "    }\n",
       "\n",
       "    .dataframe tbody tr th {\n",
       "        vertical-align: top;\n",
       "    }\n",
       "\n",
       "    .dataframe thead th {\n",
       "        text-align: right;\n",
       "    }\n",
       "</style>\n",
       "<table border=\"1\" class=\"dataframe\">\n",
       "  <thead>\n",
       "    <tr style=\"text-align: right;\">\n",
       "      <th></th>\n",
       "      <th>transactionid</th>\n",
       "      <th>visitorid</th>\n",
       "    </tr>\n",
       "    <tr>\n",
       "      <th>group</th>\n",
       "      <th></th>\n",
       "      <th></th>\n",
       "    </tr>\n",
       "  </thead>\n",
       "  <tbody>\n",
       "    <tr>\n",
       "      <th>A</th>\n",
       "      <td>557</td>\n",
       "      <td>503</td>\n",
       "    </tr>\n",
       "    <tr>\n",
       "      <th>B</th>\n",
       "      <td>640</td>\n",
       "      <td>586</td>\n",
       "    </tr>\n",
       "  </tbody>\n",
       "</table>\n",
       "</div>"
      ],
      "text/plain": [
       "       transactionid  visitorid\n",
       "group                          \n",
       "A                557        503\n",
       "B                640        586"
      ]
     },
     "execution_count": 12,
     "metadata": {},
     "output_type": "execute_result"
    }
   ],
   "source": [
    "orders.groupby('group').agg({'transactionid': 'count', 'visitorid': pd.Series.nunique})"
   ]
  },
  {
   "cell_type": "code",
   "execution_count": 13,
   "metadata": {},
   "outputs": [
    {
     "data": {
      "text/html": [
       "<div>\n",
       "<style scoped>\n",
       "    .dataframe tbody tr th:only-of-type {\n",
       "        vertical-align: middle;\n",
       "    }\n",
       "\n",
       "    .dataframe tbody tr th {\n",
       "        vertical-align: top;\n",
       "    }\n",
       "\n",
       "    .dataframe thead th {\n",
       "        text-align: right;\n",
       "    }\n",
       "</style>\n",
       "<table border=\"1\" class=\"dataframe\">\n",
       "  <thead>\n",
       "    <tr style=\"text-align: right;\">\n",
       "      <th></th>\n",
       "      <th>transactionid</th>\n",
       "      <th>visitorid</th>\n",
       "      <th>date</th>\n",
       "      <th>revenue</th>\n",
       "      <th>group</th>\n",
       "    </tr>\n",
       "  </thead>\n",
       "  <tbody>\n",
       "    <tr>\n",
       "      <th>56</th>\n",
       "      <td>900025958</td>\n",
       "      <td>5114589</td>\n",
       "      <td>2019-08-16</td>\n",
       "      <td>570</td>\n",
       "      <td>B</td>\n",
       "    </tr>\n",
       "    <tr>\n",
       "      <th>573</th>\n",
       "      <td>1887336629</td>\n",
       "      <td>6958315</td>\n",
       "      <td>2019-08-04</td>\n",
       "      <td>1490</td>\n",
       "      <td>B</td>\n",
       "    </tr>\n",
       "    <tr>\n",
       "      <th>71</th>\n",
       "      <td>3679129301</td>\n",
       "      <td>8300375</td>\n",
       "      <td>2019-08-01</td>\n",
       "      <td>10510</td>\n",
       "      <td>B</td>\n",
       "    </tr>\n",
       "    <tr>\n",
       "      <th>703</th>\n",
       "      <td>4293855558</td>\n",
       "      <td>8300375</td>\n",
       "      <td>2019-08-07</td>\n",
       "      <td>1790</td>\n",
       "      <td>A</td>\n",
       "    </tr>\n",
       "    <tr>\n",
       "      <th>233</th>\n",
       "      <td>797272237</td>\n",
       "      <td>11685486</td>\n",
       "      <td>2019-08-23</td>\n",
       "      <td>6201</td>\n",
       "      <td>A</td>\n",
       "    </tr>\n",
       "    <tr>\n",
       "      <th>...</th>\n",
       "      <td>...</td>\n",
       "      <td>...</td>\n",
       "      <td>...</td>\n",
       "      <td>...</td>\n",
       "      <td>...</td>\n",
       "    </tr>\n",
       "    <tr>\n",
       "      <th>682</th>\n",
       "      <td>1216533772</td>\n",
       "      <td>4266935830</td>\n",
       "      <td>2019-08-29</td>\n",
       "      <td>78990</td>\n",
       "      <td>B</td>\n",
       "    </tr>\n",
       "    <tr>\n",
       "      <th>886</th>\n",
       "      <td>51443164</td>\n",
       "      <td>4278982564</td>\n",
       "      <td>2019-08-05</td>\n",
       "      <td>24744</td>\n",
       "      <td>A</td>\n",
       "    </tr>\n",
       "    <tr>\n",
       "      <th>576</th>\n",
       "      <td>2724331495</td>\n",
       "      <td>4279090005</td>\n",
       "      <td>2019-08-04</td>\n",
       "      <td>6716</td>\n",
       "      <td>B</td>\n",
       "    </tr>\n",
       "    <tr>\n",
       "      <th>392</th>\n",
       "      <td>3796325351</td>\n",
       "      <td>4281247801</td>\n",
       "      <td>2019-08-25</td>\n",
       "      <td>2640</td>\n",
       "      <td>B</td>\n",
       "    </tr>\n",
       "    <tr>\n",
       "      <th>974</th>\n",
       "      <td>836739159</td>\n",
       "      <td>4283872382</td>\n",
       "      <td>2019-08-22</td>\n",
       "      <td>3806</td>\n",
       "      <td>B</td>\n",
       "    </tr>\n",
       "  </tbody>\n",
       "</table>\n",
       "<p>1197 rows × 5 columns</p>\n",
       "</div>"
      ],
      "text/plain": [
       "     transactionid   visitorid       date  revenue group\n",
       "56       900025958     5114589 2019-08-16      570     B\n",
       "573     1887336629     6958315 2019-08-04     1490     B\n",
       "71      3679129301     8300375 2019-08-01    10510     B\n",
       "703     4293855558     8300375 2019-08-07     1790     A\n",
       "233      797272237    11685486 2019-08-23     6201     A\n",
       "..             ...         ...        ...      ...   ...\n",
       "682     1216533772  4266935830 2019-08-29    78990     B\n",
       "886       51443164  4278982564 2019-08-05    24744     A\n",
       "576     2724331495  4279090005 2019-08-04     6716     B\n",
       "392     3796325351  4281247801 2019-08-25     2640     B\n",
       "974      836739159  4283872382 2019-08-22     3806     B\n",
       "\n",
       "[1197 rows x 5 columns]"
      ]
     },
     "execution_count": 13,
     "metadata": {},
     "output_type": "execute_result"
    }
   ],
   "source": [
    "# интересно распределение пользователей по группам, не задвоены ли? \n",
    "orders.sort_values('visitorid')"
   ]
  },
  {
   "cell_type": "code",
   "execution_count": 14,
   "metadata": {},
   "outputs": [
    {
     "data": {
      "text/html": [
       "<div>\n",
       "<style scoped>\n",
       "    .dataframe tbody tr th:only-of-type {\n",
       "        vertical-align: middle;\n",
       "    }\n",
       "\n",
       "    .dataframe tbody tr th {\n",
       "        vertical-align: top;\n",
       "    }\n",
       "\n",
       "    .dataframe thead th {\n",
       "        text-align: right;\n",
       "    }\n",
       "</style>\n",
       "<table border=\"1\" class=\"dataframe\">\n",
       "  <thead>\n",
       "    <tr style=\"text-align: right;\">\n",
       "      <th>group</th>\n",
       "      <th>A</th>\n",
       "      <th>B</th>\n",
       "    </tr>\n",
       "    <tr>\n",
       "      <th>visitorid</th>\n",
       "      <th></th>\n",
       "      <th></th>\n",
       "    </tr>\n",
       "  </thead>\n",
       "  <tbody>\n",
       "    <tr>\n",
       "      <th>8300375</th>\n",
       "      <td>1790.0</td>\n",
       "      <td>10510.0</td>\n",
       "    </tr>\n",
       "    <tr>\n",
       "      <th>199603092</th>\n",
       "      <td>19692.0</td>\n",
       "      <td>3488.0</td>\n",
       "    </tr>\n",
       "    <tr>\n",
       "      <th>232979603</th>\n",
       "      <td>60.0</td>\n",
       "      <td>2640.0</td>\n",
       "    </tr>\n",
       "    <tr>\n",
       "      <th>237748145</th>\n",
       "      <td>3190.0</td>\n",
       "      <td>7620.0</td>\n",
       "    </tr>\n",
       "    <tr>\n",
       "      <th>276558944</th>\n",
       "      <td>5050.0</td>\n",
       "      <td>12350.0</td>\n",
       "    </tr>\n",
       "    <tr>\n",
       "      <th>351125977</th>\n",
       "      <td>4485.0</td>\n",
       "      <td>15185.0</td>\n",
       "    </tr>\n",
       "    <tr>\n",
       "      <th>393266494</th>\n",
       "      <td>21550.0</td>\n",
       "      <td>33740.0</td>\n",
       "    </tr>\n",
       "    <tr>\n",
       "      <th>457167155</th>\n",
       "      <td>1620.0</td>\n",
       "      <td>8237.0</td>\n",
       "    </tr>\n",
       "    <tr>\n",
       "      <th>471551937</th>\n",
       "      <td>22950.0</td>\n",
       "      <td>3460.0</td>\n",
       "    </tr>\n",
       "    <tr>\n",
       "      <th>477780734</th>\n",
       "      <td>7300.0</td>\n",
       "      <td>3650.0</td>\n",
       "    </tr>\n",
       "    <tr>\n",
       "      <th>818047933</th>\n",
       "      <td>3460.0</td>\n",
       "      <td>400.0</td>\n",
       "    </tr>\n",
       "    <tr>\n",
       "      <th>963407295</th>\n",
       "      <td>4940.0</td>\n",
       "      <td>300.0</td>\n",
       "    </tr>\n",
       "    <tr>\n",
       "      <th>1230306981</th>\n",
       "      <td>18440.0</td>\n",
       "      <td>12840.0</td>\n",
       "    </tr>\n",
       "    <tr>\n",
       "      <th>1294878855</th>\n",
       "      <td>27960.0</td>\n",
       "      <td>3080.0</td>\n",
       "    </tr>\n",
       "    <tr>\n",
       "      <th>1316129916</th>\n",
       "      <td>93940.0</td>\n",
       "      <td>830.0</td>\n",
       "    </tr>\n",
       "    <tr>\n",
       "      <th>1333886533</th>\n",
       "      <td>1460.0</td>\n",
       "      <td>2950.0</td>\n",
       "    </tr>\n",
       "    <tr>\n",
       "      <th>1404934699</th>\n",
       "      <td>8640.0</td>\n",
       "      <td>35320.0</td>\n",
       "    </tr>\n",
       "    <tr>\n",
       "      <th>1602967004</th>\n",
       "      <td>4040.0</td>\n",
       "      <td>4740.0</td>\n",
       "    </tr>\n",
       "    <tr>\n",
       "      <th>1614305549</th>\n",
       "      <td>2380.0</td>\n",
       "      <td>9680.0</td>\n",
       "    </tr>\n",
       "    <tr>\n",
       "      <th>1648269707</th>\n",
       "      <td>860.0</td>\n",
       "      <td>290.0</td>\n",
       "    </tr>\n",
       "    <tr>\n",
       "      <th>1668030113</th>\n",
       "      <td>2600.0</td>\n",
       "      <td>6360.0</td>\n",
       "    </tr>\n",
       "    <tr>\n",
       "      <th>1738359350</th>\n",
       "      <td>3070.0</td>\n",
       "      <td>2890.0</td>\n",
       "    </tr>\n",
       "    <tr>\n",
       "      <th>1801183820</th>\n",
       "      <td>390.0</td>\n",
       "      <td>100.0</td>\n",
       "    </tr>\n",
       "    <tr>\n",
       "      <th>1959144690</th>\n",
       "      <td>16480.0</td>\n",
       "      <td>16480.0</td>\n",
       "    </tr>\n",
       "    <tr>\n",
       "      <th>2038680547</th>\n",
       "      <td>8570.0</td>\n",
       "      <td>6900.0</td>\n",
       "    </tr>\n",
       "    <tr>\n",
       "      <th>2044997962</th>\n",
       "      <td>2540.0</td>\n",
       "      <td>7080.0</td>\n",
       "    </tr>\n",
       "    <tr>\n",
       "      <th>2378935119</th>\n",
       "      <td>63570.0</td>\n",
       "      <td>79369.0</td>\n",
       "    </tr>\n",
       "    <tr>\n",
       "      <th>2458001652</th>\n",
       "      <td>32809.0</td>\n",
       "      <td>29289.0</td>\n",
       "    </tr>\n",
       "    <tr>\n",
       "      <th>2579882178</th>\n",
       "      <td>1922.0</td>\n",
       "      <td>19538.0</td>\n",
       "    </tr>\n",
       "    <tr>\n",
       "      <th>2587333274</th>\n",
       "      <td>3600.0</td>\n",
       "      <td>18640.0</td>\n",
       "    </tr>\n",
       "    <tr>\n",
       "      <th>2600415354</th>\n",
       "      <td>2790.0</td>\n",
       "      <td>1530.0</td>\n",
       "    </tr>\n",
       "    <tr>\n",
       "      <th>2654030115</th>\n",
       "      <td>1980.0</td>\n",
       "      <td>1980.0</td>\n",
       "    </tr>\n",
       "    <tr>\n",
       "      <th>2686716486</th>\n",
       "      <td>10960.0</td>\n",
       "      <td>34340.0</td>\n",
       "    </tr>\n",
       "    <tr>\n",
       "      <th>2712142231</th>\n",
       "      <td>2490.0</td>\n",
       "      <td>790.0</td>\n",
       "    </tr>\n",
       "    <tr>\n",
       "      <th>2716752286</th>\n",
       "      <td>2220.0</td>\n",
       "      <td>7990.0</td>\n",
       "    </tr>\n",
       "    <tr>\n",
       "      <th>2780786433</th>\n",
       "      <td>2780.0</td>\n",
       "      <td>540.0</td>\n",
       "    </tr>\n",
       "    <tr>\n",
       "      <th>2927087541</th>\n",
       "      <td>27550.0</td>\n",
       "      <td>2190.0</td>\n",
       "    </tr>\n",
       "    <tr>\n",
       "      <th>2949041841</th>\n",
       "      <td>190.0</td>\n",
       "      <td>10380.0</td>\n",
       "    </tr>\n",
       "    <tr>\n",
       "      <th>2954449915</th>\n",
       "      <td>10791.0</td>\n",
       "      <td>3070.0</td>\n",
       "    </tr>\n",
       "    <tr>\n",
       "      <th>3062433592</th>\n",
       "      <td>16920.0</td>\n",
       "      <td>58539.0</td>\n",
       "    </tr>\n",
       "    <tr>\n",
       "      <th>3202540741</th>\n",
       "      <td>3150.0</td>\n",
       "      <td>5450.0</td>\n",
       "    </tr>\n",
       "    <tr>\n",
       "      <th>3234906277</th>\n",
       "      <td>7555.0</td>\n",
       "      <td>7555.0</td>\n",
       "    </tr>\n",
       "    <tr>\n",
       "      <th>3656415546</th>\n",
       "      <td>2845.0</td>\n",
       "      <td>250.0</td>\n",
       "    </tr>\n",
       "    <tr>\n",
       "      <th>3717692402</th>\n",
       "      <td>2400.0</td>\n",
       "      <td>9020.0</td>\n",
       "    </tr>\n",
       "    <tr>\n",
       "      <th>3766097110</th>\n",
       "      <td>980.0</td>\n",
       "      <td>360.0</td>\n",
       "    </tr>\n",
       "    <tr>\n",
       "      <th>3803269165</th>\n",
       "      <td>700.0</td>\n",
       "      <td>10353.0</td>\n",
       "    </tr>\n",
       "    <tr>\n",
       "      <th>3891541246</th>\n",
       "      <td>6010.0</td>\n",
       "      <td>480.0</td>\n",
       "    </tr>\n",
       "    <tr>\n",
       "      <th>3941795274</th>\n",
       "      <td>990.0</td>\n",
       "      <td>1320.0</td>\n",
       "    </tr>\n",
       "    <tr>\n",
       "      <th>3951559397</th>\n",
       "      <td>2490.0</td>\n",
       "      <td>30990.0</td>\n",
       "    </tr>\n",
       "    <tr>\n",
       "      <th>3957174400</th>\n",
       "      <td>2480.0</td>\n",
       "      <td>2480.0</td>\n",
       "    </tr>\n",
       "    <tr>\n",
       "      <th>3963646447</th>\n",
       "      <td>6385.0</td>\n",
       "      <td>7485.0</td>\n",
       "    </tr>\n",
       "    <tr>\n",
       "      <th>3972127743</th>\n",
       "      <td>8439.0</td>\n",
       "      <td>8401.0</td>\n",
       "    </tr>\n",
       "    <tr>\n",
       "      <th>3984495233</th>\n",
       "      <td>34714.0</td>\n",
       "      <td>20219.0</td>\n",
       "    </tr>\n",
       "    <tr>\n",
       "      <th>4069496402</th>\n",
       "      <td>400.0</td>\n",
       "      <td>640.0</td>\n",
       "    </tr>\n",
       "    <tr>\n",
       "      <th>4120364173</th>\n",
       "      <td>39800.0</td>\n",
       "      <td>15500.0</td>\n",
       "    </tr>\n",
       "    <tr>\n",
       "      <th>4186807279</th>\n",
       "      <td>4990.0</td>\n",
       "      <td>32300.0</td>\n",
       "    </tr>\n",
       "    <tr>\n",
       "      <th>4256040402</th>\n",
       "      <td>48800.0</td>\n",
       "      <td>127690.0</td>\n",
       "    </tr>\n",
       "    <tr>\n",
       "      <th>4266935830</th>\n",
       "      <td>78990.0</td>\n",
       "      <td>78990.0</td>\n",
       "    </tr>\n",
       "  </tbody>\n",
       "</table>\n",
       "</div>"
      ],
      "text/plain": [
       "group             A         B\n",
       "visitorid                    \n",
       "8300375      1790.0   10510.0\n",
       "199603092   19692.0    3488.0\n",
       "232979603      60.0    2640.0\n",
       "237748145    3190.0    7620.0\n",
       "276558944    5050.0   12350.0\n",
       "351125977    4485.0   15185.0\n",
       "393266494   21550.0   33740.0\n",
       "457167155    1620.0    8237.0\n",
       "471551937   22950.0    3460.0\n",
       "477780734    7300.0    3650.0\n",
       "818047933    3460.0     400.0\n",
       "963407295    4940.0     300.0\n",
       "1230306981  18440.0   12840.0\n",
       "1294878855  27960.0    3080.0\n",
       "1316129916  93940.0     830.0\n",
       "1333886533   1460.0    2950.0\n",
       "1404934699   8640.0   35320.0\n",
       "1602967004   4040.0    4740.0\n",
       "1614305549   2380.0    9680.0\n",
       "1648269707    860.0     290.0\n",
       "1668030113   2600.0    6360.0\n",
       "1738359350   3070.0    2890.0\n",
       "1801183820    390.0     100.0\n",
       "1959144690  16480.0   16480.0\n",
       "2038680547   8570.0    6900.0\n",
       "2044997962   2540.0    7080.0\n",
       "2378935119  63570.0   79369.0\n",
       "2458001652  32809.0   29289.0\n",
       "2579882178   1922.0   19538.0\n",
       "2587333274   3600.0   18640.0\n",
       "2600415354   2790.0    1530.0\n",
       "2654030115   1980.0    1980.0\n",
       "2686716486  10960.0   34340.0\n",
       "2712142231   2490.0     790.0\n",
       "2716752286   2220.0    7990.0\n",
       "2780786433   2780.0     540.0\n",
       "2927087541  27550.0    2190.0\n",
       "2949041841    190.0   10380.0\n",
       "2954449915  10791.0    3070.0\n",
       "3062433592  16920.0   58539.0\n",
       "3202540741   3150.0    5450.0\n",
       "3234906277   7555.0    7555.0\n",
       "3656415546   2845.0     250.0\n",
       "3717692402   2400.0    9020.0\n",
       "3766097110    980.0     360.0\n",
       "3803269165    700.0   10353.0\n",
       "3891541246   6010.0     480.0\n",
       "3941795274    990.0    1320.0\n",
       "3951559397   2490.0   30990.0\n",
       "3957174400   2480.0    2480.0\n",
       "3963646447   6385.0    7485.0\n",
       "3972127743   8439.0    8401.0\n",
       "3984495233  34714.0   20219.0\n",
       "4069496402    400.0     640.0\n",
       "4120364173  39800.0   15500.0\n",
       "4186807279   4990.0   32300.0\n",
       "4256040402  48800.0  127690.0\n",
       "4266935830  78990.0   78990.0"
      ]
     },
     "execution_count": 14,
     "metadata": {},
     "output_type": "execute_result"
    }
   ],
   "source": [
    "# один и тот же пользователь в разных группах?\n",
    "orders.pivot_table(index='visitorid', columns='group', values='revenue', aggfunc='sum'\n",
    ").dropna()"
   ]
  },
  {
   "cell_type": "markdown",
   "metadata": {},
   "source": [
    "Есть как повторные покупки одним пользователем, так и очень крупные заказы."
   ]
  },
  {
   "cell_type": "code",
   "execution_count": 15,
   "metadata": {
    "scrolled": true
   },
   "outputs": [],
   "source": [
    "# находим  ID пользователей в обеих группах и удаляем их из данных\n",
    "bad_users = orders.groupby('visitorid').agg({ 'group': 'nunique'}).query('group == 2').reset_index()['visitorid'].to_list()\n",
    "orders = orders.query('visitorid not in @bad_users')"
   ]
  },
  {
   "cell_type": "code",
   "execution_count": 16,
   "metadata": {},
   "outputs": [
    {
     "data": {
      "text/html": [
       "<div>\n",
       "<style scoped>\n",
       "    .dataframe tbody tr th:only-of-type {\n",
       "        vertical-align: middle;\n",
       "    }\n",
       "\n",
       "    .dataframe tbody tr th {\n",
       "        vertical-align: top;\n",
       "    }\n",
       "\n",
       "    .dataframe thead th {\n",
       "        text-align: right;\n",
       "    }\n",
       "</style>\n",
       "<table border=\"1\" class=\"dataframe\">\n",
       "  <thead>\n",
       "    <tr style=\"text-align: right;\">\n",
       "      <th></th>\n",
       "      <th>transactionid</th>\n",
       "      <th>visitorid</th>\n",
       "      <th>date</th>\n",
       "      <th>revenue</th>\n",
       "      <th>group</th>\n",
       "    </tr>\n",
       "  </thead>\n",
       "  <tbody>\n",
       "    <tr>\n",
       "      <th>0</th>\n",
       "      <td>3667963787</td>\n",
       "      <td>3312258926</td>\n",
       "      <td>2019-08-15</td>\n",
       "      <td>1650</td>\n",
       "      <td>B</td>\n",
       "    </tr>\n",
       "    <tr>\n",
       "      <th>1</th>\n",
       "      <td>2804400009</td>\n",
       "      <td>3642806036</td>\n",
       "      <td>2019-08-15</td>\n",
       "      <td>730</td>\n",
       "      <td>B</td>\n",
       "    </tr>\n",
       "    <tr>\n",
       "      <th>3</th>\n",
       "      <td>3797467345</td>\n",
       "      <td>1196621759</td>\n",
       "      <td>2019-08-15</td>\n",
       "      <td>9759</td>\n",
       "      <td>B</td>\n",
       "    </tr>\n",
       "    <tr>\n",
       "      <th>4</th>\n",
       "      <td>2282983706</td>\n",
       "      <td>2322279887</td>\n",
       "      <td>2019-08-15</td>\n",
       "      <td>2308</td>\n",
       "      <td>B</td>\n",
       "    </tr>\n",
       "    <tr>\n",
       "      <th>5</th>\n",
       "      <td>182168103</td>\n",
       "      <td>935554773</td>\n",
       "      <td>2019-08-15</td>\n",
       "      <td>2210</td>\n",
       "      <td>B</td>\n",
       "    </tr>\n",
       "    <tr>\n",
       "      <th>...</th>\n",
       "      <td>...</td>\n",
       "      <td>...</td>\n",
       "      <td>...</td>\n",
       "      <td>...</td>\n",
       "      <td>...</td>\n",
       "    </tr>\n",
       "    <tr>\n",
       "      <th>1191</th>\n",
       "      <td>3592955527</td>\n",
       "      <td>608641596</td>\n",
       "      <td>2019-08-14</td>\n",
       "      <td>16490</td>\n",
       "      <td>B</td>\n",
       "    </tr>\n",
       "    <tr>\n",
       "      <th>1192</th>\n",
       "      <td>2662137336</td>\n",
       "      <td>3733762160</td>\n",
       "      <td>2019-08-14</td>\n",
       "      <td>6490</td>\n",
       "      <td>B</td>\n",
       "    </tr>\n",
       "    <tr>\n",
       "      <th>1193</th>\n",
       "      <td>2203539145</td>\n",
       "      <td>370388673</td>\n",
       "      <td>2019-08-14</td>\n",
       "      <td>3190</td>\n",
       "      <td>A</td>\n",
       "    </tr>\n",
       "    <tr>\n",
       "      <th>1194</th>\n",
       "      <td>1807773912</td>\n",
       "      <td>573423106</td>\n",
       "      <td>2019-08-14</td>\n",
       "      <td>10550</td>\n",
       "      <td>A</td>\n",
       "    </tr>\n",
       "    <tr>\n",
       "      <th>1196</th>\n",
       "      <td>3936777065</td>\n",
       "      <td>2108080724</td>\n",
       "      <td>2019-08-15</td>\n",
       "      <td>202740</td>\n",
       "      <td>B</td>\n",
       "    </tr>\n",
       "  </tbody>\n",
       "</table>\n",
       "<p>1016 rows × 5 columns</p>\n",
       "</div>"
      ],
      "text/plain": [
       "      transactionid   visitorid       date  revenue group\n",
       "0        3667963787  3312258926 2019-08-15     1650     B\n",
       "1        2804400009  3642806036 2019-08-15      730     B\n",
       "3        3797467345  1196621759 2019-08-15     9759     B\n",
       "4        2282983706  2322279887 2019-08-15     2308     B\n",
       "5         182168103   935554773 2019-08-15     2210     B\n",
       "...             ...         ...        ...      ...   ...\n",
       "1191     3592955527   608641596 2019-08-14    16490     B\n",
       "1192     2662137336  3733762160 2019-08-14     6490     B\n",
       "1193     2203539145   370388673 2019-08-14     3190     A\n",
       "1194     1807773912   573423106 2019-08-14    10550     A\n",
       "1196     3936777065  2108080724 2019-08-15   202740     B\n",
       "\n",
       "[1016 rows x 5 columns]"
      ]
     },
     "execution_count": 16,
     "metadata": {},
     "output_type": "execute_result"
    }
   ],
   "source": [
    "orders"
   ]
  },
  {
   "cell_type": "code",
   "execution_count": 17,
   "metadata": {
    "scrolled": false
   },
   "outputs": [
    {
     "name": "stdout",
     "output_type": "stream",
     "text": [
      "====================\n",
      "date\n",
      "2019-08-27    2\n",
      "2019-08-24    2\n",
      "2019-08-08    2\n",
      "2019-08-14    2\n",
      "2019-08-20    2\n",
      "2019-08-26    2\n",
      "2019-08-01    2\n",
      "2019-08-07    2\n",
      "2019-08-13    2\n",
      "2019-08-19    2\n",
      "2019-08-25    2\n",
      "2019-08-31    2\n",
      "2019-08-06    2\n",
      "2019-08-12    2\n",
      "2019-08-18    2\n",
      "2019-08-30    2\n",
      "2019-08-21    2\n",
      "2019-08-05    2\n",
      "2019-08-11    2\n",
      "2019-08-17    2\n",
      "2019-08-23    2\n",
      "2019-08-29    2\n",
      "2019-08-04    2\n",
      "2019-08-10    2\n",
      "2019-08-16    2\n",
      "2019-08-22    2\n",
      "2019-08-28    2\n",
      "2019-08-03    2\n",
      "2019-08-09    2\n",
      "2019-08-15    2\n",
      "2019-08-02    2\n",
      "Name: date, dtype: int64\n",
      "['2019-08-01T00:00:00.000000000' '2019-08-02T00:00:00.000000000'\n",
      " '2019-08-03T00:00:00.000000000' '2019-08-04T00:00:00.000000000'\n",
      " '2019-08-05T00:00:00.000000000' '2019-08-06T00:00:00.000000000'\n",
      " '2019-08-07T00:00:00.000000000' '2019-08-08T00:00:00.000000000'\n",
      " '2019-08-09T00:00:00.000000000' '2019-08-10T00:00:00.000000000'\n",
      " '2019-08-11T00:00:00.000000000' '2019-08-12T00:00:00.000000000'\n",
      " '2019-08-13T00:00:00.000000000' '2019-08-14T00:00:00.000000000'\n",
      " '2019-08-15T00:00:00.000000000' '2019-08-16T00:00:00.000000000'\n",
      " '2019-08-17T00:00:00.000000000' '2019-08-18T00:00:00.000000000'\n",
      " '2019-08-19T00:00:00.000000000' '2019-08-20T00:00:00.000000000'\n",
      " '2019-08-21T00:00:00.000000000' '2019-08-22T00:00:00.000000000'\n",
      " '2019-08-23T00:00:00.000000000' '2019-08-24T00:00:00.000000000'\n",
      " '2019-08-25T00:00:00.000000000' '2019-08-26T00:00:00.000000000'\n",
      " '2019-08-27T00:00:00.000000000' '2019-08-28T00:00:00.000000000'\n",
      " '2019-08-29T00:00:00.000000000' '2019-08-30T00:00:00.000000000'\n",
      " '2019-08-31T00:00:00.000000000']\n",
      "====================\n",
      "group\n",
      "A    31\n",
      "B    31\n",
      "Name: group, dtype: int64\n",
      "['A' 'B']\n",
      "====================\n",
      "visitors\n",
      "610    2\n",
      "718    2\n",
      "654    2\n",
      "490    2\n",
      "609    1\n",
      "717    1\n",
      "719    1\n",
      "720    1\n",
      "721    1\n",
      "594    1\n",
      "722    1\n",
      "468    1\n",
      "595    1\n",
      "756    1\n",
      "735    1\n",
      "769    1\n",
      "711    1\n",
      "668    1\n",
      "487    1\n",
      "361    1\n",
      "746    1\n",
      "619    1\n",
      "748    1\n",
      "621    1\n",
      "369    1\n",
      "628    1\n",
      "709    1\n",
      "378    1\n",
      "507    1\n",
      "713    1\n",
      "581    1\n",
      "770    1\n",
      "413    1\n",
      "644    1\n",
      "646    1\n",
      "650    1\n",
      "395    1\n",
      "655    1\n",
      "737    1\n",
      "531    1\n",
      "502    1\n",
      "406    1\n",
      "667    1\n",
      "412    1\n",
      "543    1\n",
      "707    1\n",
      "544    1\n",
      "546    1\n",
      "676    1\n",
      "421    1\n",
      "617    1\n",
      "679    1\n",
      "560    1\n",
      "656    1\n",
      "699    1\n",
      "575    1\n",
      "577    1\n",
      "509    1\n",
      "Name: visitors, dtype: int64\n",
      "[719 619 507 717 756 667 644 610 617 406 718 595 748 735 628 361 412 668\n",
      " 502 575 646 609 468 395 621 722 711 594 577 490 699 713 581 509 770 707\n",
      " 655 709 654 369 721 543 769 746 544 413 421 737 487 560 656 650 546 378\n",
      " 679 676 720 531]\n",
      "<class 'pandas.core.frame.DataFrame'>\n",
      "RangeIndex: 62 entries, 0 to 61\n",
      "Data columns (total 3 columns):\n",
      " #   Column    Non-Null Count  Dtype         \n",
      "---  ------    --------------  -----         \n",
      " 0   date      62 non-null     datetime64[ns]\n",
      " 1   group     62 non-null     object        \n",
      " 2   visitors  62 non-null     int64         \n",
      "dtypes: datetime64[ns](1), int64(1), object(1)\n",
      "memory usage: 1.6+ KB\n",
      "None\n",
      "        date group  visitors\n",
      "0 2019-08-01     A       719\n",
      "1 2019-08-02     A       619\n",
      "2 2019-08-03     A       507\n",
      "3 2019-08-04     A       717\n",
      "4 2019-08-05     A       756\n"
     ]
    }
   ],
   "source": [
    "data(visitors)"
   ]
  },
  {
   "cell_type": "code",
   "execution_count": 18,
   "metadata": {},
   "outputs": [
    {
     "data": {
      "text/plain": [
       "0"
      ]
     },
     "execution_count": 18,
     "metadata": {},
     "output_type": "execute_result"
    }
   ],
   "source": [
    "orders.duplicated().sum()"
   ]
  },
  {
   "cell_type": "code",
   "execution_count": 19,
   "metadata": {},
   "outputs": [
    {
     "data": {
      "text/plain": [
       "0"
      ]
     },
     "execution_count": 19,
     "metadata": {},
     "output_type": "execute_result"
    }
   ],
   "source": [
    "visitors.duplicated().sum()"
   ]
  },
  {
   "cell_type": "markdown",
   "metadata": {},
   "source": [
    "Пропусков и дубликатов нет. Есть пользователи присутствующие в обеих группах."
   ]
  },
  {
   "cell_type": "markdown",
   "metadata": {},
   "source": [
    "### Задача"
   ]
  },
  {
   "cell_type": "markdown",
   "metadata": {},
   "source": [
    "#### График кумулятивной выручки по группам"
   ]
  },
  {
   "cell_type": "code",
   "execution_count": 20,
   "metadata": {},
   "outputs": [],
   "source": [
    "# создаем массив уникальных пар значений дат и групп теста\n",
    "datesGroups = orders[['date','group']].drop_duplicates()\n",
    "\n",
    "# получаем агрегированные кумулятивные по дням данные о заказах \n",
    "ordersAggregated = datesGroups.apply(lambda x: orders[np.logical_and(orders['date'] <= x['date'], orders['group'] == x['group'])].agg({'date' : 'max', 'group' : 'max', 'transactionid' : 'nunique', 'visitorid' : 'nunique', 'revenue' : 'sum'}), axis=1).sort_values(by=['date','group'])\n",
    "\n",
    "# получаем агрегированные кумулятивные по дням данные о посетителях интернет-магазина \n",
    "visitorsAggregated = datesGroups.apply(lambda x: visitors[np.logical_and(visitors['date'] <= x['date'], visitors['group'] == x['group'])].agg({'date' : 'max', 'group' : 'max', 'visitors' : 'sum'}), axis=1).sort_values(by=['date','group'])\n",
    "\n",
    "# объединяем кумулятивные данные в одной таблице и присваиваем ее столбцам понятные названия\n",
    "cumulativeData = ordersAggregated.merge(visitorsAggregated, left_on=['date', 'group'], right_on=['date', 'group'])\n",
    "cumulativeData.columns = ['date', 'group', 'orders', 'buyers', 'revenue', 'visitors']"
   ]
  },
  {
   "cell_type": "code",
   "execution_count": 21,
   "metadata": {
    "scrolled": true
   },
   "outputs": [
    {
     "data": {
      "image/png": "[encoded data removed]",
      "text/plain": [
       "<Figure size 1080x360 with 1 Axes>"
      ]
     },
     "metadata": {
      "needs_background": "light"
     },
     "output_type": "display_data"
    }
   ],
   "source": [
    "plt.figure(figsize = (15,5))\n",
    "# датафрейм с кумулятивным количеством заказов и кумулятивной выручкой по дням в группе А\n",
    "cumulativeRevenueA = cumulativeData[cumulativeData['group']=='A'][['date','revenue', 'orders']]\n",
    "\n",
    "# датафрейм с кумулятивным количеством заказов и кумулятивной выручкой по дням в группе B\n",
    "cumulativeRevenueB = cumulativeData[cumulativeData['group']=='B'][['date','revenue', 'orders']]\n",
    "\n",
    "# Строим график выручки группы А\n",
    "plt.plot(cumulativeRevenueA['date'], cumulativeRevenueA['revenue'], label='A')\n",
    "\n",
    "# Строим график выручки группы B\n",
    "plt.plot(cumulativeRevenueB['date'], cumulativeRevenueB['revenue'], label='B')\n",
    "plt.title('Динамика кумулятивной выручки по группам, рублей')\n",
    "plt.ylabel('рублей')\n",
    "# plt.annotate('скачок', xy=('2019-08-17', 2800000), xytext=('2019-08-10', 3500000),\n",
    "#             arrowprops=dict(facecolor='g'))\n",
    "# plt.annotate('отрыв', xy=('2019-08-05', 800000), xytext=('2019-08-05', 2000000),\n",
    "#             arrowprops=dict(facecolor='g'))\n",
    "plt.legend(); "
   ]
  },
  {
   "cell_type": "markdown",
   "metadata": {},
   "source": [
    "Выручка по группе А равномерно растет (Выбросов немного). Выручка по группе В растет скачкообразно, что говорит о влиянии выбросов."
   ]
  },
  {
   "cell_type": "markdown",
   "metadata": {},
   "source": [
    "#### График кумулятивного чека по группам"
   ]
  },
  {
   "cell_type": "code",
   "execution_count": 22,
   "metadata": {
    "scrolled": true
   },
   "outputs": [
    {
     "data": {
      "image/png": "[encoded data removed]",
      "text/plain": [
       "<Figure size 1080x360 with 1 Axes>"
      ]
     },
     "metadata": {
      "needs_background": "light"
     },
     "output_type": "display_data"
    }
   ],
   "source": [
    "plt.figure(figsize = (15,5))\n",
    "plt.plot(cumulativeRevenueA['date'], cumulativeRevenueA['revenue']/cumulativeRevenueA['orders'], label='A')\n",
    "plt.plot(cumulativeRevenueB['date'], cumulativeRevenueB['revenue']/cumulativeRevenueB['orders'], label='B')\n",
    "plt.title('Динамика кумулятивного чека по группам, рублей')\n",
    "plt.ylabel('рублей')\n",
    "plt.annotate('скачок', xy=('2019-08-17', 7500), xytext=('2019-08-10', 9000),\n",
    "            arrowprops=dict(facecolor='g'))\n",
    "plt.legend();"
   ]
  },
  {
   "cell_type": "markdown",
   "metadata": {},
   "source": [
    "Средний чек по группам неравномерен, скорее зеркален, что говорит о неравномерном распределении чеков по группам и выбросам. По группе А постепенно растет, группа В после выброса стабилизируется."
   ]
  },
  {
   "cell_type": "markdown",
   "metadata": {},
   "source": [
    "#### График относительного изменения кумулятивного среднего чека"
   ]
  },
  {
   "cell_type": "code",
   "execution_count": 23,
   "metadata": {},
   "outputs": [
    {
     "data": {
      "image/png": "[encoded data removed]",
      "text/plain": [
       "<Figure size 1080x360 with 1 Axes>"
      ]
     },
     "metadata": {
      "needs_background": "light"
     },
     "output_type": "display_data"
    }
   ],
   "source": [
    "# собираем данные в одном датафрейме\n",
    "plt.figure(figsize = (15,5))\n",
    "mergedCumulativeRevenue = cumulativeRevenueA.merge(cumulativeRevenueB, left_on='date', right_on='date', how='left', suffixes=['A', 'B'])\n",
    "\n",
    "# cтроим отношение средних чеков\n",
    "plt.plot(mergedCumulativeRevenue['date'], (mergedCumulativeRevenue['revenueB']/mergedCumulativeRevenue['ordersB'])/(mergedCumulativeRevenue['revenueA']/mergedCumulativeRevenue['ordersA'])-1)\n",
    "\n",
    "# добавляем ось X\n",
    "\n",
    "plt.title('Относительное изменение кумулятивного среднего чека')\n",
    "plt.axhline(y=0, color='black', linestyle='--'); "
   ]
  },
  {
   "cell_type": "markdown",
   "metadata": {},
   "source": [
    "График подтверждает вышенаписанные выводы о выбросах влияющих на разницу в средних чеках."
   ]
  },
  {
   "cell_type": "markdown",
   "metadata": {},
   "source": [
    "#### График кумулятивной конверсии"
   ]
  },
  {
   "cell_type": "code",
   "execution_count": 24,
   "metadata": {},
   "outputs": [
    {
     "data": {
      "image/png": "[encoded data removed]",
      "text/plain": [
       "<Figure size 1080x360 with 1 Axes>"
      ]
     },
     "metadata": {
      "needs_background": "light"
     },
     "output_type": "display_data"
    }
   ],
   "source": [
    "plt.figure(figsize = (15,5))\n",
    "# считаем кумулятивную конверсию\n",
    "cumulativeData['conversion'] = cumulativeData['orders']/cumulativeData['visitors']\n",
    "\n",
    "# отделяем данные по группе A\n",
    "cumulativeDataA = cumulativeData[cumulativeData['group']=='A']\n",
    "\n",
    "# отделяем данные по группе B\n",
    "cumulativeDataB = cumulativeData[cumulativeData['group']=='B']\n",
    "\n",
    "# строим графики\n",
    "plt.plot(cumulativeDataA['date'], cumulativeDataA['conversion'], label='A')\n",
    "plt.plot(cumulativeDataB['date'], cumulativeDataB['conversion'], label='B')\n",
    "plt.legend()\n",
    "\n",
    "# задаем масштаб осей\n",
    "plt.title('Кумулятивная конверсия');\n",
    "# plt.axis(['2019-08-01', '2019-09-01', 0.02, 0.04]);"
   ]
  },
  {
   "cell_type": "markdown",
   "metadata": {},
   "source": [
    "Конверсия по группе В целом выше, что может объясняться аномальными данными. Но конверсия с течением времени становится стабильной."
   ]
  },
  {
   "cell_type": "markdown",
   "metadata": {},
   "source": [
    "#### График относительного изменения кумулятивной конверсии"
   ]
  },
  {
   "cell_type": "code",
   "execution_count": 25,
   "metadata": {},
   "outputs": [
    {
     "data": {
      "image/png": "[encoded data removed]",
      "text/plain": [
       "<Figure size 1080x360 with 1 Axes>"
      ]
     },
     "metadata": {
      "needs_background": "light"
     },
     "output_type": "display_data"
    }
   ],
   "source": [
    "plt.figure(figsize = (15,5))\n",
    "mergedCumulativeConversions = cumulativeDataA[['date','conversion']].merge(cumulativeDataB[['date','conversion']], left_on='date', right_on='date', how='left', suffixes=['A', 'B'])\n",
    "\n",
    "plt.plot(mergedCumulativeConversions['date'], mergedCumulativeConversions['conversionB']/mergedCumulativeConversions['conversionA']-1, label=\"Относительный прирост конверсии группы B относительно группы A\")\n",
    "\n",
    "plt.axhline(y=0, color='black', linestyle='--')\n",
    "plt.axhline(y=0.1, color='grey', linestyle='--');\n",
    "# plt.axis([\"2019-08-01\", '2019-09-01', -0.3, 0.3]);"
   ]
  },
  {
   "cell_type": "markdown",
   "metadata": {},
   "source": [
    "Вначале конверсия по группе В была меньше, но в дальнейшем стабильно выше группы А."
   ]
  },
  {
   "cell_type": "markdown",
   "metadata": {},
   "source": [
    "#### График количества заказов"
   ]
  },
  {
   "cell_type": "code",
   "execution_count": 26,
   "metadata": {},
   "outputs": [
    {
     "data": {
      "image/png": "[encoded data removed]",
      "text/plain": [
       "<Figure size 432x288 with 1 Axes>"
      ]
     },
     "metadata": {
      "needs_background": "light"
     },
     "output_type": "display_data"
    }
   ],
   "source": [
    "ordersByUsers = (\n",
    "    orders.groupby('visitorid', as_index=False)\n",
    "    .agg({'transactionid': pd.Series.nunique})\n",
    ")\n",
    "\n",
    "ordersByUsers.columns = ['visitorid', 'orders']\n",
    "\n",
    "x_values = pd.Series(range(0,len(ordersByUsers)))\n",
    "plt.title('Распределение количества заказов, штук')\n",
    "plt.ylabel('шт.')\n",
    "plt.scatter(x_values, ordersByUsers['orders']);"
   ]
  },
  {
   "cell_type": "markdown",
   "metadata": {},
   "source": [
    "Большинство пользователей сделали 1 заказ. Есть пользователи с 2 и 3 заказами."
   ]
  },
  {
   "cell_type": "markdown",
   "metadata": {},
   "source": [
    "#### Перцентили стоимости заказов"
   ]
  },
  {
   "cell_type": "code",
   "execution_count": 27,
   "metadata": {},
   "outputs": [
    {
     "data": {
      "text/plain": [
       "array([1., 2.])"
      ]
     },
     "execution_count": 27,
     "metadata": {},
     "output_type": "execute_result"
    }
   ],
   "source": [
    "np.percentile(ordersByUsers['orders'], [95, 99])"
   ]
  },
  {
   "cell_type": "markdown",
   "metadata": {},
   "source": [
    "95 процентов пользователей сделали не более 1 заказа за месяц, 99 - не более 2."
   ]
  },
  {
   "cell_type": "markdown",
   "metadata": {},
   "source": [
    "#### Точечный график стоимости заказов"
   ]
  },
  {
   "cell_type": "code",
   "execution_count": 28,
   "metadata": {},
   "outputs": [
    {
     "data": {
      "image/png": "[encoded data removed]",
      "text/plain": [
       "<Figure size 1080x360 with 1 Axes>"
      ]
     },
     "metadata": {
      "needs_background": "light"
     },
     "output_type": "display_data"
    }
   ],
   "source": [
    "# специально срезал до 125000, поскольку пара заказов превращают график в нечитаемый вид\n",
    "plt.figure(figsize = (15,5))\n",
    "x_values = pd.Series(range(0,len(orders['revenue'])))\n",
    "plt.title('Распределение стоимости заказов, рублей')\n",
    "plt.ylabel('рублей')\n",
    "plt.scatter(x_values, orders['revenue'])\n",
    "plt.ylim(0, 125000); "
   ]
  },
  {
   "cell_type": "code",
   "execution_count": 29,
   "metadata": {},
   "outputs": [
    {
     "data": {
      "text/plain": [
       "425     1294500\n",
       "1196     202740\n",
       "1136      92550\n",
       "744       86620\n",
       "743       67990\n",
       "         ...   \n",
       "404          70\n",
       "933          60\n",
       "584          50\n",
       "756          50\n",
       "459          50\n",
       "Name: revenue, Length: 1016, dtype: int64"
      ]
     },
     "execution_count": 29,
     "metadata": {},
     "output_type": "execute_result"
    }
   ],
   "source": [
    "orders['revenue'].sort_values(ascending=False)"
   ]
  },
  {
   "cell_type": "markdown",
   "metadata": {},
   "source": [
    "Большинство заказов менее 20 000 рублей."
   ]
  },
  {
   "cell_type": "markdown",
   "metadata": {},
   "source": [
    "#### Перцентили стоимости заказов"
   ]
  },
  {
   "cell_type": "code",
   "execution_count": 30,
   "metadata": {},
   "outputs": [
    {
     "data": {
      "text/plain": [
       "array([26785., 53904.])"
      ]
     },
     "execution_count": 30,
     "metadata": {},
     "output_type": "execute_result"
    }
   ],
   "source": [
    "np.percentile(orders['revenue'], [95, 99])"
   ]
  },
  {
   "cell_type": "markdown",
   "metadata": {},
   "source": [
    "95 процентов пользователей оформили заказы стоимостью менее 26,8 тысяч."
   ]
  },
  {
   "cell_type": "markdown",
   "metadata": {},
   "source": [
    "#### Статистическая значимость различий в конверсии между группами по «сырым» данным."
   ]
  },
  {
   "cell_type": "markdown",
   "metadata": {},
   "source": [
    "1. Нулевая гипотеза - Конверсии в группах А и В равны.\n",
    "2. Обратная гипотеза- Конверсии в группах А и В отличаются."
   ]
  },
  {
   "cell_type": "code",
   "execution_count": 31,
   "metadata": {},
   "outputs": [],
   "source": [
    "visitorsADaily = visitors[visitors['group'] == 'A'][['date', 'visitors']]\n",
    "visitorsADaily.columns = ['date', 'visitorsPerDateA']\n",
    "\n",
    "visitorsACummulative = visitorsADaily.apply(\n",
    "    lambda x: visitorsADaily[visitorsADaily['date'] <= x['date']].agg(\n",
    "        {'date': 'max', 'visitorsPerDateA': 'sum'}\n",
    "    ),\n",
    "    axis=1,\n",
    ")\n",
    "visitorsACummulative.columns = ['date', 'visitorsCummulativeA']\n",
    "\n",
    "visitorsBDaily = visitors[visitors['group'] == 'B'][['date', 'visitors']]\n",
    "visitorsBDaily.columns = ['date', 'visitorsPerDateB']\n",
    "\n",
    "visitorsBCummulative = visitorsBDaily.apply(\n",
    "    lambda x: visitorsBDaily[visitorsBDaily['date'] <= x['date']].agg(\n",
    "        {'date': 'max', 'visitorsPerDateB': 'sum'}\n",
    "    ),\n",
    "    axis=1,\n",
    ")\n",
    "visitorsBCummulative.columns = ['date', 'visitorsCummulativeB']\n",
    "\n",
    "ordersADaily = (\n",
    "    orders[orders['group'] == 'A'][['date', 'transactionid', 'visitorid', 'revenue']]\n",
    "    .groupby('date', as_index=False)\n",
    "    .agg({'transactionid': pd.Series.nunique, 'revenue': 'sum'})\n",
    ")\n",
    "ordersADaily.columns = ['date', 'ordersPerDateA', 'revenuePerDateA']\n",
    "\n",
    "ordersACummulative = ordersADaily.apply(\n",
    "    lambda x: ordersADaily[ordersADaily['date'] <= x['date']].agg(\n",
    "        {'date': 'max', 'ordersPerDateA': 'sum', 'revenuePerDateA': 'sum'}\n",
    "    ),\n",
    "    axis=1,\n",
    ").sort_values(by=['date'])\n",
    "ordersACummulative.columns = [\n",
    "    'date',\n",
    "    'ordersCummulativeA',\n",
    "    'revenueCummulativeA',\n",
    "]\n",
    "\n",
    "ordersBDaily = (\n",
    "    orders[orders['group'] == 'B'][['date', 'transactionid', 'visitorid', 'revenue']]\n",
    "    .groupby('date', as_index=False)\n",
    "    .agg({'transactionid': pd.Series.nunique, 'revenue': 'sum'})\n",
    ")\n",
    "ordersBDaily.columns = ['date', 'ordersPerDateB', 'revenuePerDateB']\n",
    "\n",
    "ordersBCummulative = ordersBDaily.apply(\n",
    "    lambda x: ordersBDaily[ordersBDaily['date'] <= x['date']].agg(\n",
    "        {'date': 'max', 'ordersPerDateB': 'sum', 'revenuePerDateB': 'sum'}\n",
    "    ),\n",
    "    axis=1,\n",
    ").sort_values(by=['date'])\n",
    "ordersBCummulative.columns = [\n",
    "    'date',\n",
    "    'ordersCummulativeB',\n",
    "    'revenueCummulativeB',\n",
    "]\n",
    "\n",
    "data = (\n",
    "    ordersADaily.merge(\n",
    "        ordersBDaily, left_on='date', right_on='date', how='left'\n",
    "    )\n",
    "    .merge(ordersACummulative, left_on='date', right_on='date', how='left')\n",
    "    .merge(ordersBCummulative, left_on='date', right_on='date', how='left')\n",
    "    .merge(visitorsADaily, left_on='date', right_on='date', how='left')\n",
    "    .merge(visitorsBDaily, left_on='date', right_on='date', how='left')\n",
    "    .merge(visitorsACummulative, left_on='date', right_on='date', how='left')\n",
    "    .merge(visitorsBCummulative, left_on='date', right_on='date', how='left')\n",
    ")"
   ]
  },
  {
   "cell_type": "code",
   "execution_count": 32,
   "metadata": {},
   "outputs": [],
   "source": [
    "ordersByUsersA = (\n",
    "    orders[orders['group'] == 'A']\n",
    "    .groupby('visitorid', as_index=False)\n",
    "    .agg({'transactionid': pd.Series.nunique})\n",
    ")\n",
    "ordersByUsersA.columns = ['visitorid', 'orders']\n",
    "\n",
    "ordersByUsersB = (\n",
    "    orders[orders['group'] == 'B']\n",
    "    .groupby('visitorid', as_index=False)\n",
    "    .agg({'transactionid': pd.Series.nunique})\n",
    ")\n",
    "ordersByUsersB.columns = ['visitorid', 'orders'] "
   ]
  },
  {
   "cell_type": "code",
   "execution_count": 33,
   "metadata": {},
   "outputs": [
    {
     "name": "stdout",
     "output_type": "stream",
     "text": [
      "0.011\n",
      "0.160\n"
     ]
    }
   ],
   "source": [
    "sampleA = pd.concat(\n",
    "    [\n",
    "        ordersByUsersA['orders'],\n",
    "        pd.Series(\n",
    "            0,\n",
    "            index=np.arange(\n",
    "                data['visitorsPerDateA'].sum() - len(ordersByUsersA['orders'])\n",
    "            ),\n",
    "            name='orders',\n",
    "        ),\n",
    "    ],\n",
    "    axis=0,\n",
    ")\n",
    "\n",
    "sampleB = pd.concat(\n",
    "    [\n",
    "        ordersByUsersB['orders'],\n",
    "        pd.Series(\n",
    "            0,\n",
    "            index=np.arange(\n",
    "                data['visitorsPerDateB'].sum() - len(ordersByUsersB['orders'])\n",
    "            ),\n",
    "            name='orders',\n",
    "        ),\n",
    "    ],\n",
    "    axis=0,\n",
    ")\n",
    "\n",
    "print(\"{0:.3f}\".format(stats.mannwhitneyu(sampleA, sampleB, alternative='two-sided')[1]))\n",
    "\n",
    "print(\"{0:.3f}\".format(sampleB.mean() / sampleA.mean() - 1))\n"
   ]
  },
  {
   "cell_type": "markdown",
   "metadata": {},
   "source": [
    "Нулевую гипотезу о том, что статистически значимых различий в конверсии между группами нет, отвергаем по причине того, что p-value < 0.05. То есть различия по \"сырым\" данным в конверсии групп есть.\n",
    "Проигрыш группы А равен 16%."
   ]
  },
  {
   "cell_type": "markdown",
   "metadata": {},
   "source": [
    "#### Статистическая значимость различий в среднем чеке заказа между группами по «сырым» данным."
   ]
  },
  {
   "cell_type": "markdown",
   "metadata": {},
   "source": [
    "1. Нулевая гипотеза - Средние чеки в группах А и В равны.\n",
    "2. Обратная гипотеза- Средние чеки в группах А и В отличаются."
   ]
  },
  {
   "cell_type": "code",
   "execution_count": 34,
   "metadata": {},
   "outputs": [
    {
     "name": "stdout",
     "output_type": "stream",
     "text": [
      "0.829\n",
      "0.287\n"
     ]
    }
   ],
   "source": [
    "print('{0:.3f}'.format(stats.mannwhitneyu(orders[orders['group']=='A']['revenue'], orders[orders['group']=='B']['revenue'], alternative='two-sided')[1]))\n",
    "print('{0:.3f}'.format(orders[orders['group']=='B']['revenue'].mean()/orders[orders['group']=='A']['revenue'].mean()-1))"
   ]
  },
  {
   "cell_type": "markdown",
   "metadata": {},
   "source": [
    "P-value значительно больше 0.05. Значит, причин отвергать нулевую гипотезу и считать, что в среднем чеке есть различия, нет. Впрочем, средний чек группы B значительно выше среднего чека группы A."
   ]
  },
  {
   "cell_type": "markdown",
   "metadata": {},
   "source": [
    "#### Статистическая значимость различий в конверсии между группами по «очищенным» данным. "
   ]
  },
  {
   "cell_type": "code",
   "execution_count": 35,
   "metadata": {},
   "outputs": [
    {
     "name": "stdout",
     "output_type": "stream",
     "text": [
      "1099    148427295\n",
      "928     204675465\n",
      "33      249864742\n",
      "684     358944393\n",
      "648     382846391\n",
      "Name: visitorid, dtype: int64\n",
      "(55,)\n"
     ]
    }
   ],
   "source": [
    "# считаем количество аномальных пользователей\n",
    "usersWithManyOrders = pd.concat(\n",
    "    [\n",
    "        ordersByUsersA[ordersByUsersA['orders'] > 2]['visitorid'],\n",
    "        ordersByUsersB[ordersByUsersB['orders'] > 2]['visitorid'],\n",
    "    ],\n",
    "    axis=0,\n",
    ")\n",
    "usersWithExpensiveOrders = orders[orders['revenue'] > 28000]['visitorid']\n",
    "abnormalUsers = (\n",
    "    pd.concat([usersWithManyOrders, usersWithExpensiveOrders], axis=0)\n",
    "    .drop_duplicates()\n",
    "    .sort_values()\n",
    ")\n",
    "print(abnormalUsers.head(5))\n",
    "print(abnormalUsers.shape) "
   ]
  },
  {
   "cell_type": "markdown",
   "metadata": {},
   "source": [
    "55 аномальных пользователя"
   ]
  },
  {
   "cell_type": "code",
   "execution_count": 36,
   "metadata": {},
   "outputs": [],
   "source": [
    "sampleAFiltered = pd.concat(\n",
    "    [\n",
    "        ordersByUsersA[\n",
    "            np.logical_not(ordersByUsersA['visitorid'].isin(abnormalUsers))\n",
    "        ]['orders'],\n",
    "        pd.Series(\n",
    "            0,\n",
    "            index=np.arange(\n",
    "                data['visitorsPerDateA'].sum() - len(ordersByUsersA['orders'])\n",
    "            ),\n",
    "            name='orders',\n",
    "        ),\n",
    "    ],\n",
    "    axis=0,\n",
    ")\n",
    "\n",
    "sampleBFiltered = pd.concat(\n",
    "    [\n",
    "        ordersByUsersB[\n",
    "            np.logical_not(ordersByUsersB['visitorid'].isin(abnormalUsers))\n",
    "        ]['orders'],\n",
    "        pd.Series(\n",
    "            0,\n",
    "            index=np.arange(\n",
    "                data['visitorsPerDateB'].sum() - len(ordersByUsersB['orders'])\n",
    "            ),\n",
    "            name='orders',\n",
    "        ),\n",
    "    ],\n",
    "    axis=0,\n",
    ") "
   ]
  },
  {
   "cell_type": "code",
   "execution_count": 37,
   "metadata": {},
   "outputs": [
    {
     "name": "stdout",
     "output_type": "stream",
     "text": [
      "0.009\n",
      "0.189\n"
     ]
    }
   ],
   "source": [
    "print('{0:.3f}'.format(stats.mannwhitneyu(sampleAFiltered, sampleBFiltered, alternative='two-sided') [1]))\n",
    "print('{0:.3f}'.format(sampleBFiltered.mean()/sampleAFiltered.mean()-1))"
   ]
  },
  {
   "cell_type": "markdown",
   "metadata": {},
   "source": [
    "Результаты по конверсии изменились, но незначительно. Конверсия групп по прежнему отлична друг от друга.\n",
    "Проигрыш группы А стал еще больше."
   ]
  },
  {
   "cell_type": "markdown",
   "metadata": {},
   "source": [
    "#### Статистическая значимость различий в среднем чеке заказа между группами по «очищенным» данным"
   ]
  },
  {
   "cell_type": "code",
   "execution_count": 38,
   "metadata": {},
   "outputs": [
    {
     "name": "stdout",
     "output_type": "stream",
     "text": [
      "0.762\n",
      "-0.022\n"
     ]
    }
   ],
   "source": [
    "print(\n",
    "    '{0:.3f}'.format(\n",
    "        stats.mannwhitneyu(\n",
    "            orders[\n",
    "                np.logical_and(\n",
    "                    orders['group'] == 'A',\n",
    "                    np.logical_not(orders['visitorid'].isin(abnormalUsers)),\n",
    "                )\n",
    "            ]['revenue'],\n",
    "            orders[\n",
    "                np.logical_and(\n",
    "                    orders['group'] == 'B',\n",
    "                    np.logical_not(orders['visitorid'].isin(abnormalUsers)), \n",
    "                )\n",
    "            ]['revenue'], alternative='two-sided'\n",
    "        )[1]\n",
    "    )\n",
    ")\n",
    "\n",
    "print(\n",
    "    \"{0:.3f}\".format(\n",
    "        orders[\n",
    "            np.logical_and(\n",
    "                orders['group'] == 'B',\n",
    "                np.logical_not(orders['visitorid'].isin(abnormalUsers)),\n",
    "            )\n",
    "        ]['revenue'].mean()\n",
    "        / orders[\n",
    "            np.logical_and(\n",
    "                orders['group'] == 'A',\n",
    "                np.logical_not(orders['visitorid'].isin(abnormalUsers)),\n",
    "            )\n",
    "        ]['revenue'].mean()\n",
    "        - 1\n",
    "    )\n",
    ") "
   ]
  },
  {
   "cell_type": "markdown",
   "metadata": {},
   "source": [
    "P-value стал еще больше. Нулевую гипотезу так же не отвергаем. \n",
    "Однако, средний чек группы B после удаления аномальных заказов стал практически равен среднему чеку группы A."
   ]
  },
  {
   "cell_type": "markdown",
   "metadata": {},
   "source": [
    "## Вывод"
   ]
  },
  {
   "cell_type": "markdown",
   "metadata": {},
   "source": [
    "В данных не используется \"змеиный\" регистр и используются заглавные буквы. Привел столбцы в строчный вид.\n",
    "Пропусков и дубликатов нет. Есть пользователи присутствующие в обеих группах.\n",
    "\n",
    "Наиболее переспективные гипотезы:\n",
    " - Запустить акцию, дающую скидку на товар в день рождения,\n",
    " - Добавить два новых канала привлечения трафика, что позволит привлекать на 30% больше пользователей,\n",
    " - Добавить форму подписки на все основные страницы, чтобы собрать базу клиентов для email-рассылок,\n",
    " - Показать на главной странице баннеры с актуальными акциями и распродажами, чтобы увеличить конверсию,\n",
    " - Добавить блоки рекомендаций товаров на сайт интернет магазина, чтобы повысить конверсию и средний чек заказа.\n",
    " \n",
    "Выручка по группе А равномерно растет (Выбросов немного). Выручка по группе В растет скачкообразно, что говорит о влиянии выбросов и она выше чем по группе А.\n",
    "Средний чек по группам неравномерен, что говорит о неравномерном распределении чеков по группам и выбросам. По группе А постепенно растет, группа В после выброса стабилизируется. Средний чек по группе В выше.\n",
    "Конверсия по группе В целом выше, что может объясняться аномальными данными. \n",
    "Вначале конверсия по группе В была меньше, но в дальнейшем стабильно выше группы А.\n",
    "Большинство пользователей сделали 1-3 заказа. Есть пользователи с 4,5,8,9 и выше заказами.\n",
    "95 процентов пользователей сделали не более двух заказов за месяц, 99 - не более 4.\n",
    "Большинство заказов менее 20 000 рублей.\n",
    "95 процентов пользователей оформили заказы стоимостью менее 28 тысяч.\n",
    "\n",
    " - Выводы по \"сырым\" данным.\n",
    "Конверсии по группам отличны, и вероятность, что они будут одинаковы очень мала.\n",
    "Конверсия группы В выше конверсии группы А на 13.8%.\n",
    "Средний чек по группам одинаков.\n",
    "Выявлены 74 аномальных пользователя.\n",
    " - Выводы по \"очищенным\" данным.\n",
    "Конверсия по группе В выше конверсии группы А на 17,3%.\n",
    "Средний чек группы B практически равен среднему чеку группы A.\n",
    "\n",
    "Подытожим:\n",
    " - Есть статистически значимое различие по конверсии между группами и по «сырым» данным, и по данным после фильтрации аномалий;\n",
    " - Нет статистически значимого различия по среднему чеку между группами ни по «сырым», ни по данным после фильтрации аномалий;\n",
    " - График различия конверсии между группами сообщает, что результаты группы B лучше группы A и они и в целом стабильны\n",
    " - График различия среднего чека говорит о том, что результаты группы А на 30% хуже\n",
    " - Исходя из обнаруженных фактов, тест следует остановить и признать его успешным. Продолжать смысла нет, потому как вероятность, что при имеющихся данных сегмент B на самом деле хуже сегмента A — практически нулевая.\n",
    " \n",
    " P.S. Однако есть подозрения, что неравность групп в датасете orders и наличие одного пользователя в обеих группах, говорит о том, что эти данные нельзя использовать."
   ]
  }
 ],
 "metadata": {
  "ExecuteTimeLog": [
   {
    "duration": 3,
    "start_time": "2022-02-20T11:25:30.249Z"
   },
   {
    "duration": 7587,
    "start_time": "2022-02-20T11:56:17.561Z"
   },
   {
    "duration": 16,
    "start_time": "2022-02-20T11:56:45.640Z"
   },
   {
    "duration": 25,
    "start_time": "2022-02-20T11:56:51.258Z"
   },
   {
    "duration": 15,
    "start_time": "2022-02-20T11:58:37.902Z"
   },
   {
    "duration": 22,
    "start_time": "2022-02-20T11:59:42.252Z"
   },
   {
    "duration": 20,
    "start_time": "2022-02-20T11:59:52.478Z"
   },
   {
    "duration": 13,
    "start_time": "2022-02-20T12:16:22.714Z"
   },
   {
    "duration": 330,
    "start_time": "2022-02-20T12:19:23.090Z"
   },
   {
    "duration": 11,
    "start_time": "2022-02-20T12:19:37.505Z"
   },
   {
    "duration": 17,
    "start_time": "2022-02-20T12:21:04.811Z"
   },
   {
    "duration": 7,
    "start_time": "2022-02-20T12:44:01.126Z"
   },
   {
    "duration": 579,
    "start_time": "2022-02-21T16:06:44.911Z"
   },
   {
    "duration": 4,
    "start_time": "2022-02-21T16:06:49.537Z"
   },
   {
    "duration": 19,
    "start_time": "2022-02-21T16:07:27.617Z"
   },
   {
    "duration": 11,
    "start_time": "2022-02-21T16:07:33.901Z"
   },
   {
    "duration": 12,
    "start_time": "2022-02-21T16:07:38.053Z"
   },
   {
    "duration": 5,
    "start_time": "2022-02-21T16:07:51.780Z"
   },
   {
    "duration": 1283,
    "start_time": "2022-02-21T16:08:02.795Z"
   },
   {
    "duration": 45,
    "start_time": "2022-02-21T16:09:09.426Z"
   },
   {
    "duration": 8,
    "start_time": "2022-02-21T16:09:34.001Z"
   },
   {
    "duration": 44,
    "start_time": "2022-02-21T16:09:46.753Z"
   },
   {
    "duration": 38,
    "start_time": "2022-02-21T16:10:02.592Z"
   },
   {
    "duration": 46,
    "start_time": "2022-02-21T16:10:51.571Z"
   },
   {
    "duration": 876,
    "start_time": "2022-02-21T16:11:05.336Z"
   },
   {
    "duration": 174,
    "start_time": "2022-02-21T16:11:21.081Z"
   },
   {
    "duration": 6,
    "start_time": "2022-02-21T16:11:28.351Z"
   },
   {
    "duration": 940,
    "start_time": "2022-02-21T16:11:50.936Z"
   },
   {
    "duration": 46,
    "start_time": "2022-02-21T16:12:32.680Z"
   },
   {
    "duration": 7,
    "start_time": "2022-02-21T16:12:35.116Z"
   },
   {
    "duration": 23,
    "start_time": "2022-02-21T16:12:54.698Z"
   },
   {
    "duration": 16,
    "start_time": "2022-02-21T16:12:57.791Z"
   },
   {
    "duration": 4529,
    "start_time": "2022-02-21T16:16:31.160Z"
   },
   {
    "duration": 57,
    "start_time": "2022-02-21T16:20:54.633Z"
   },
   {
    "duration": -87901,
    "start_time": "2022-02-21T16:22:22.594Z"
   },
   {
    "duration": -87904,
    "start_time": "2022-02-21T16:22:22.600Z"
   },
   {
    "duration": -87919,
    "start_time": "2022-02-21T16:22:22.616Z"
   },
   {
    "duration": -87923,
    "start_time": "2022-02-21T16:22:22.621Z"
   },
   {
    "duration": -87930,
    "start_time": "2022-02-21T16:22:22.629Z"
   },
   {
    "duration": -87931,
    "start_time": "2022-02-21T16:22:22.632Z"
   },
   {
    "duration": -87935,
    "start_time": "2022-02-21T16:22:22.637Z"
   },
   {
    "duration": -87938,
    "start_time": "2022-02-21T16:22:22.641Z"
   },
   {
    "duration": -87941,
    "start_time": "2022-02-21T16:22:22.644Z"
   },
   {
    "duration": -87943,
    "start_time": "2022-02-21T16:22:22.647Z"
   },
   {
    "duration": -87945,
    "start_time": "2022-02-21T16:22:22.650Z"
   },
   {
    "duration": -87947,
    "start_time": "2022-02-21T16:22:22.653Z"
   },
   {
    "duration": -87948,
    "start_time": "2022-02-21T16:22:22.655Z"
   },
   {
    "duration": -87950,
    "start_time": "2022-02-21T16:22:22.658Z"
   },
   {
    "duration": -87953,
    "start_time": "2022-02-21T16:22:22.662Z"
   },
   {
    "duration": -87954,
    "start_time": "2022-02-21T16:22:22.665Z"
   },
   {
    "duration": -87955,
    "start_time": "2022-02-21T16:22:22.667Z"
   },
   {
    "duration": 207,
    "start_time": "2022-02-21T16:20:54.715Z"
   },
   {
    "duration": -87889,
    "start_time": "2022-02-21T16:22:22.814Z"
   },
   {
    "duration": -87893,
    "start_time": "2022-02-21T16:22:22.819Z"
   },
   {
    "duration": -87944,
    "start_time": "2022-02-21T16:22:22.872Z"
   },
   {
    "duration": -87948,
    "start_time": "2022-02-21T16:22:22.877Z"
   },
   {
    "duration": -87950,
    "start_time": "2022-02-21T16:22:22.881Z"
   },
   {
    "duration": -87953,
    "start_time": "2022-02-21T16:22:22.885Z"
   },
   {
    "duration": -87956,
    "start_time": "2022-02-21T16:22:22.889Z"
   },
   {
    "duration": 704,
    "start_time": "2022-02-21T16:21:16.191Z"
   },
   {
    "duration": 7,
    "start_time": "2022-02-21T16:21:18.872Z"
   },
   {
    "duration": 75,
    "start_time": "2022-02-21T16:21:43.295Z"
   },
   {
    "duration": -87921,
    "start_time": "2022-02-21T16:23:11.293Z"
   },
   {
    "duration": -87927,
    "start_time": "2022-02-21T16:23:11.303Z"
   },
   {
    "duration": -87936,
    "start_time": "2022-02-21T16:23:11.313Z"
   },
   {
    "duration": -87942,
    "start_time": "2022-02-21T16:23:11.320Z"
   },
   {
    "duration": -87946,
    "start_time": "2022-02-21T16:23:11.325Z"
   },
   {
    "duration": -87950,
    "start_time": "2022-02-21T16:23:11.329Z"
   },
   {
    "duration": -87951,
    "start_time": "2022-02-21T16:23:11.331Z"
   },
   {
    "duration": -87952,
    "start_time": "2022-02-21T16:23:11.334Z"
   },
   {
    "duration": -87955,
    "start_time": "2022-02-21T16:23:11.337Z"
   },
   {
    "duration": -87955,
    "start_time": "2022-02-21T16:23:11.339Z"
   },
   {
    "duration": -87957,
    "start_time": "2022-02-21T16:23:11.342Z"
   },
   {
    "duration": -87958,
    "start_time": "2022-02-21T16:23:11.344Z"
   },
   {
    "duration": -87960,
    "start_time": "2022-02-21T16:23:11.347Z"
   },
   {
    "duration": -87963,
    "start_time": "2022-02-21T16:23:11.351Z"
   },
   {
    "duration": -87964,
    "start_time": "2022-02-21T16:23:11.354Z"
   },
   {
    "duration": -87966,
    "start_time": "2022-02-21T16:23:11.357Z"
   },
   {
    "duration": -87968,
    "start_time": "2022-02-21T16:23:11.360Z"
   },
   {
    "duration": -87970,
    "start_time": "2022-02-21T16:23:11.363Z"
   },
   {
    "duration": 244,
    "start_time": "2022-02-21T16:21:43.395Z"
   },
   {
    "duration": -87906,
    "start_time": "2022-02-21T16:23:11.547Z"
   },
   {
    "duration": -87911,
    "start_time": "2022-02-21T16:23:11.553Z"
   },
   {
    "duration": -87914,
    "start_time": "2022-02-21T16:23:11.558Z"
   },
   {
    "duration": -87922,
    "start_time": "2022-02-21T16:23:11.567Z"
   },
   {
    "duration": -87925,
    "start_time": "2022-02-21T16:23:11.571Z"
   },
   {
    "duration": -87930,
    "start_time": "2022-02-21T16:23:11.577Z"
   },
   {
    "duration": 584,
    "start_time": "2022-02-21T16:22:54.584Z"
   },
   {
    "duration": 3,
    "start_time": "2022-02-21T16:22:55.170Z"
   },
   {
    "duration": 23,
    "start_time": "2022-02-21T16:22:55.175Z"
   },
   {
    "duration": 11,
    "start_time": "2022-02-21T16:22:55.200Z"
   },
   {
    "duration": 10,
    "start_time": "2022-02-21T16:22:55.213Z"
   },
   {
    "duration": 4,
    "start_time": "2022-02-21T16:22:55.225Z"
   },
   {
    "duration": 144,
    "start_time": "2022-02-21T16:22:55.230Z"
   },
   {
    "duration": 6,
    "start_time": "2022-02-21T16:22:55.377Z"
   },
   {
    "duration": 28,
    "start_time": "2022-02-21T16:22:55.385Z"
   },
   {
    "duration": 15,
    "start_time": "2022-02-21T16:22:55.416Z"
   },
   {
    "duration": 4425,
    "start_time": "2022-02-21T16:22:55.433Z"
   },
   {
    "duration": -87985,
    "start_time": "2022-02-21T16:24:27.845Z"
   },
   {
    "duration": -87991,
    "start_time": "2022-02-21T16:24:27.852Z"
   },
   {
    "duration": -87994,
    "start_time": "2022-02-21T16:24:27.857Z"
   },
   {
    "duration": -88035,
    "start_time": "2022-02-21T16:24:27.899Z"
   },
   {
    "duration": -88039,
    "start_time": "2022-02-21T16:24:27.904Z"
   },
   {
    "duration": -88044,
    "start_time": "2022-02-21T16:24:27.910Z"
   },
   {
    "duration": -88047,
    "start_time": "2022-02-21T16:24:27.914Z"
   },
   {
    "duration": -88051,
    "start_time": "2022-02-21T16:24:27.919Z"
   },
   {
    "duration": -88056,
    "start_time": "2022-02-21T16:24:27.925Z"
   },
   {
    "duration": -88077,
    "start_time": "2022-02-21T16:24:27.947Z"
   },
   {
    "duration": -88080,
    "start_time": "2022-02-21T16:24:27.951Z"
   },
   {
    "duration": -88083,
    "start_time": "2022-02-21T16:24:27.955Z"
   },
   {
    "duration": -88087,
    "start_time": "2022-02-21T16:24:27.960Z"
   },
   {
    "duration": -88126,
    "start_time": "2022-02-21T16:24:28.000Z"
   },
   {
    "duration": -88130,
    "start_time": "2022-02-21T16:24:28.005Z"
   },
   {
    "duration": 4879,
    "start_time": "2022-02-21T16:23:33.430Z"
   },
   {
    "duration": 327,
    "start_time": "2022-02-21T16:25:20.694Z"
   },
   {
    "duration": 222,
    "start_time": "2022-02-21T16:25:34.919Z"
   },
   {
    "duration": 225,
    "start_time": "2022-02-21T16:28:02.673Z"
   },
   {
    "duration": 350,
    "start_time": "2022-02-21T16:31:19.430Z"
   },
   {
    "duration": 195,
    "start_time": "2022-02-21T16:32:29.619Z"
   },
   {
    "duration": 226,
    "start_time": "2022-02-21T16:33:21.799Z"
   },
   {
    "duration": 204,
    "start_time": "2022-02-21T16:34:11.415Z"
   },
   {
    "duration": 209,
    "start_time": "2022-02-21T16:34:16.203Z"
   },
   {
    "duration": 201,
    "start_time": "2022-02-21T16:34:38.665Z"
   },
   {
    "duration": 230,
    "start_time": "2022-02-21T16:38:01.345Z"
   },
   {
    "duration": 220,
    "start_time": "2022-02-21T16:38:10.945Z"
   },
   {
    "duration": 343,
    "start_time": "2022-02-21T16:38:28.072Z"
   },
   {
    "duration": 342,
    "start_time": "2022-02-21T16:38:39.648Z"
   },
   {
    "duration": 62,
    "start_time": "2022-02-21T16:39:40.443Z"
   },
   {
    "duration": 435,
    "start_time": "2022-02-21T16:39:54.326Z"
   },
   {
    "duration": 5,
    "start_time": "2022-02-21T16:41:24.888Z"
   },
   {
    "duration": 360,
    "start_time": "2022-02-21T16:44:15.409Z"
   },
   {
    "duration": 4604,
    "start_time": "2022-02-21T16:44:39.047Z"
   },
   {
    "duration": -87967,
    "start_time": "2022-02-21T16:46:11.620Z"
   },
   {
    "duration": 265,
    "start_time": "2022-02-21T16:45:11.315Z"
   },
   {
    "duration": 114,
    "start_time": "2022-02-21T16:45:20.437Z"
   },
   {
    "duration": 195,
    "start_time": "2022-02-21T16:45:29.456Z"
   },
   {
    "duration": 698,
    "start_time": "2022-02-21T16:46:31.252Z"
   },
   {
    "duration": 4,
    "start_time": "2022-02-21T16:46:31.952Z"
   },
   {
    "duration": 24,
    "start_time": "2022-02-21T16:46:31.959Z"
   },
   {
    "duration": 12,
    "start_time": "2022-02-21T16:46:31.985Z"
   },
   {
    "duration": 11,
    "start_time": "2022-02-21T16:46:31.998Z"
   },
   {
    "duration": 18,
    "start_time": "2022-02-21T16:46:32.011Z"
   },
   {
    "duration": 573,
    "start_time": "2022-02-21T16:46:32.031Z"
   },
   {
    "duration": 7,
    "start_time": "2022-02-21T16:46:32.607Z"
   },
   {
    "duration": 32,
    "start_time": "2022-02-21T16:46:32.616Z"
   },
   {
    "duration": 14,
    "start_time": "2022-02-21T16:46:32.650Z"
   },
   {
    "duration": 367,
    "start_time": "2022-02-21T16:46:32.666Z"
   },
   {
    "duration": 238,
    "start_time": "2022-02-21T16:46:33.035Z"
   },
   {
    "duration": 215,
    "start_time": "2022-02-21T16:46:33.275Z"
   },
   {
    "duration": 306,
    "start_time": "2022-02-21T16:46:33.492Z"
   },
   {
    "duration": 231,
    "start_time": "2022-02-21T16:46:33.800Z"
   },
   {
    "duration": 358,
    "start_time": "2022-02-21T16:46:34.033Z"
   },
   {
    "duration": 384,
    "start_time": "2022-02-21T16:46:34.393Z"
   },
   {
    "duration": 6,
    "start_time": "2022-02-21T16:46:34.779Z"
   },
   {
    "duration": 277,
    "start_time": "2022-02-21T16:46:34.786Z"
   },
   {
    "duration": 121,
    "start_time": "2022-02-21T16:46:35.065Z"
   },
   {
    "duration": 271,
    "start_time": "2022-02-21T16:46:35.188Z"
   },
   {
    "duration": -87919,
    "start_time": "2022-02-21T16:48:03.380Z"
   },
   {
    "duration": -87923,
    "start_time": "2022-02-21T16:48:03.385Z"
   },
   {
    "duration": -87927,
    "start_time": "2022-02-21T16:48:03.390Z"
   },
   {
    "duration": -87934,
    "start_time": "2022-02-21T16:48:03.398Z"
   },
   {
    "duration": -87936,
    "start_time": "2022-02-21T16:48:03.401Z"
   },
   {
    "duration": 645,
    "start_time": "2022-02-21T16:49:16.551Z"
   },
   {
    "duration": 3,
    "start_time": "2022-02-21T16:49:17.198Z"
   },
   {
    "duration": 24,
    "start_time": "2022-02-21T16:49:17.203Z"
   },
   {
    "duration": 10,
    "start_time": "2022-02-21T16:49:17.229Z"
   },
   {
    "duration": 24,
    "start_time": "2022-02-21T16:49:17.240Z"
   },
   {
    "duration": 13,
    "start_time": "2022-02-21T16:49:17.266Z"
   },
   {
    "duration": 514,
    "start_time": "2022-02-21T16:49:17.281Z"
   },
   {
    "duration": 7,
    "start_time": "2022-02-21T16:49:17.797Z"
   },
   {
    "duration": 23,
    "start_time": "2022-02-21T16:49:17.806Z"
   },
   {
    "duration": 14,
    "start_time": "2022-02-21T16:49:17.831Z"
   },
   {
    "duration": 340,
    "start_time": "2022-02-21T16:49:17.846Z"
   },
   {
    "duration": 214,
    "start_time": "2022-02-21T16:49:18.188Z"
   },
   {
    "duration": 201,
    "start_time": "2022-02-21T16:49:18.404Z"
   },
   {
    "duration": 283,
    "start_time": "2022-02-21T16:49:18.607Z"
   },
   {
    "duration": 236,
    "start_time": "2022-02-21T16:49:18.891Z"
   },
   {
    "duration": 353,
    "start_time": "2022-02-21T16:49:19.129Z"
   },
   {
    "duration": 377,
    "start_time": "2022-02-21T16:49:19.485Z"
   },
   {
    "duration": 5,
    "start_time": "2022-02-21T16:49:19.864Z"
   },
   {
    "duration": 271,
    "start_time": "2022-02-21T16:49:19.871Z"
   },
   {
    "duration": 115,
    "start_time": "2022-02-21T16:49:20.144Z"
   },
   {
    "duration": 13,
    "start_time": "2022-02-21T16:49:20.261Z"
   },
   {
    "duration": 54,
    "start_time": "2022-02-21T16:49:20.275Z"
   },
   {
    "duration": -87894,
    "start_time": "2022-02-21T16:50:48.225Z"
   },
   {
    "duration": -87901,
    "start_time": "2022-02-21T16:50:48.233Z"
   },
   {
    "duration": -87910,
    "start_time": "2022-02-21T16:50:48.243Z"
   },
   {
    "duration": -87914,
    "start_time": "2022-02-21T16:50:48.248Z"
   },
   {
    "duration": 117,
    "start_time": "2022-02-21T16:50:49.228Z"
   },
   {
    "duration": 10,
    "start_time": "2022-02-21T16:51:19.209Z"
   },
   {
    "duration": 9,
    "start_time": "2022-02-21T16:57:37.927Z"
   },
   {
    "duration": 4251,
    "start_time": "2022-02-21T16:58:56.627Z"
   },
   {
    "duration": 11,
    "start_time": "2022-02-21T16:59:28.689Z"
   },
   {
    "duration": 10,
    "start_time": "2022-02-21T17:00:08.621Z"
   },
   {
    "duration": 10,
    "start_time": "2022-02-21T17:02:30.406Z"
   },
   {
    "duration": 8,
    "start_time": "2022-02-21T17:02:53.045Z"
   },
   {
    "duration": 17,
    "start_time": "2022-02-21T17:05:34.277Z"
   },
   {
    "duration": 14,
    "start_time": "2022-02-21T17:06:00.167Z"
   },
   {
    "duration": 303,
    "start_time": "2022-02-22T16:11:37.765Z"
   },
   {
    "duration": 761,
    "start_time": "2022-02-22T16:11:46.367Z"
   },
   {
    "duration": 5,
    "start_time": "2022-02-22T16:11:47.131Z"
   },
   {
    "duration": 28,
    "start_time": "2022-02-22T16:11:47.140Z"
   },
   {
    "duration": 23,
    "start_time": "2022-02-22T16:11:47.172Z"
   },
   {
    "duration": 16,
    "start_time": "2022-02-22T16:11:47.226Z"
   },
   {
    "duration": 7,
    "start_time": "2022-02-22T16:11:47.244Z"
   },
   {
    "duration": 695,
    "start_time": "2022-02-22T16:11:47.253Z"
   },
   {
    "duration": 11,
    "start_time": "2022-02-22T16:11:47.950Z"
   },
   {
    "duration": 35,
    "start_time": "2022-02-22T16:11:47.968Z"
   },
   {
    "duration": 15,
    "start_time": "2022-02-22T16:11:48.026Z"
   },
   {
    "duration": 22,
    "start_time": "2022-02-22T16:11:48.044Z"
   },
   {
    "duration": 688,
    "start_time": "2022-02-22T16:11:48.068Z"
   },
   {
    "duration": 448,
    "start_time": "2022-02-22T16:11:48.759Z"
   },
   {
    "duration": 411,
    "start_time": "2022-02-22T16:11:49.209Z"
   },
   {
    "duration": 419,
    "start_time": "2022-02-22T16:11:49.627Z"
   },
   {
    "duration": 363,
    "start_time": "2022-02-22T16:11:50.049Z"
   },
   {
    "duration": 465,
    "start_time": "2022-02-22T16:11:50.415Z"
   },
   {
    "duration": 594,
    "start_time": "2022-02-22T16:11:50.882Z"
   },
   {
    "duration": 7,
    "start_time": "2022-02-22T16:11:51.479Z"
   },
   {
    "duration": 431,
    "start_time": "2022-02-22T16:11:51.488Z"
   },
   {
    "duration": 8,
    "start_time": "2022-02-22T16:11:51.921Z"
   },
   {
    "duration": 479,
    "start_time": "2022-02-22T16:11:51.931Z"
   },
   {
    "duration": 232,
    "start_time": "2022-02-22T16:11:52.412Z"
   },
   {
    "duration": 16,
    "start_time": "2022-02-22T16:11:52.647Z"
   },
   {
    "duration": 13,
    "start_time": "2022-02-22T16:11:52.665Z"
   },
   {
    "duration": 546,
    "start_time": "2022-02-22T16:11:52.680Z"
   },
   {
    "duration": -1557,
    "start_time": "2022-02-22T16:11:54.786Z"
   },
   {
    "duration": -1561,
    "start_time": "2022-02-22T16:11:54.791Z"
   },
   {
    "duration": -1564,
    "start_time": "2022-02-22T16:11:54.795Z"
   },
   {
    "duration": 15,
    "start_time": "2022-02-22T16:13:14.363Z"
   },
   {
    "duration": 255,
    "start_time": "2022-02-22T16:13:32.254Z"
   },
   {
    "duration": 12,
    "start_time": "2022-02-22T16:13:38.449Z"
   },
   {
    "duration": 10,
    "start_time": "2022-02-22T16:13:41.273Z"
   },
   {
    "duration": 426,
    "start_time": "2022-02-22T16:17:23.563Z"
   },
   {
    "duration": 476,
    "start_time": "2022-02-22T16:18:05.354Z"
   },
   {
    "duration": 420,
    "start_time": "2022-02-22T16:18:47.851Z"
   },
   {
    "duration": 658,
    "start_time": "2022-02-22T16:19:22.293Z"
   },
   {
    "duration": 497,
    "start_time": "2022-02-22T16:19:35.543Z"
   },
   {
    "duration": 504,
    "start_time": "2022-02-22T16:20:12.355Z"
   },
   {
    "duration": 452,
    "start_time": "2022-02-22T16:21:14.826Z"
   },
   {
    "duration": 517,
    "start_time": "2022-02-22T16:21:44.039Z"
   },
   {
    "duration": 573,
    "start_time": "2022-02-22T16:22:14.686Z"
   },
   {
    "duration": 608,
    "start_time": "2022-02-22T16:24:22.132Z"
   },
   {
    "duration": 7,
    "start_time": "2022-02-22T16:24:28.204Z"
   },
   {
    "duration": 441,
    "start_time": "2022-02-22T16:24:56.886Z"
   },
   {
    "duration": 8,
    "start_time": "2022-02-22T16:26:12.389Z"
   },
   {
    "duration": 9,
    "start_time": "2022-02-22T16:28:11.782Z"
   },
   {
    "duration": 9,
    "start_time": "2022-02-22T16:28:34.212Z"
   },
   {
    "duration": 764,
    "start_time": "2022-02-22T16:30:44.909Z"
   },
   {
    "duration": 1075,
    "start_time": "2022-02-22T16:32:17.921Z"
   },
   {
    "duration": 815,
    "start_time": "2022-02-22T16:32:42.580Z"
   },
   {
    "duration": 778,
    "start_time": "2022-02-22T16:34:01.038Z"
   },
   {
    "duration": 744,
    "start_time": "2022-02-22T16:34:12.870Z"
   },
   {
    "duration": 22,
    "start_time": "2022-02-22T16:37:13.772Z"
   },
   {
    "duration": 24,
    "start_time": "2022-02-22T16:45:43.018Z"
   },
   {
    "duration": 20,
    "start_time": "2022-02-22T16:52:59.249Z"
   },
   {
    "duration": 286,
    "start_time": "2022-02-22T16:57:00.215Z"
   },
   {
    "duration": 280,
    "start_time": "2022-02-22T16:57:12.903Z"
   },
   {
    "duration": 277,
    "start_time": "2022-02-22T16:57:45.778Z"
   },
   {
    "duration": 22,
    "start_time": "2022-02-22T16:58:01.172Z"
   },
   {
    "duration": 20,
    "start_time": "2022-02-22T17:05:56.228Z"
   },
   {
    "duration": 98,
    "start_time": "2022-02-22T17:06:16.719Z"
   },
   {
    "duration": 265,
    "start_time": "2022-02-22T17:06:21.684Z"
   },
   {
    "duration": 20,
    "start_time": "2022-02-22T17:07:07.930Z"
   },
   {
    "duration": 21,
    "start_time": "2022-02-22T17:07:23.147Z"
   },
   {
    "duration": 249,
    "start_time": "2022-02-22T17:09:49.755Z"
   },
   {
    "duration": 31,
    "start_time": "2022-02-22T17:10:16.012Z"
   },
   {
    "duration": 36,
    "start_time": "2022-02-22T17:11:15.747Z"
   },
   {
    "duration": 514,
    "start_time": "2022-02-22T17:16:42.384Z"
   },
   {
    "duration": 818,
    "start_time": "2022-02-22T17:18:08.318Z"
   },
   {
    "duration": 6,
    "start_time": "2022-02-22T17:18:09.139Z"
   },
   {
    "duration": 30,
    "start_time": "2022-02-22T17:18:09.149Z"
   },
   {
    "duration": 49,
    "start_time": "2022-02-22T17:18:09.182Z"
   },
   {
    "duration": 16,
    "start_time": "2022-02-22T17:18:09.233Z"
   },
   {
    "duration": 9,
    "start_time": "2022-02-22T17:18:09.251Z"
   },
   {
    "duration": 818,
    "start_time": "2022-02-22T17:18:09.262Z"
   },
   {
    "duration": 9,
    "start_time": "2022-02-22T17:18:10.083Z"
   },
   {
    "duration": 39,
    "start_time": "2022-02-22T17:18:10.096Z"
   },
   {
    "duration": 17,
    "start_time": "2022-02-22T17:18:10.137Z"
   },
   {
    "duration": 24,
    "start_time": "2022-02-22T17:18:10.156Z"
   },
   {
    "duration": 68,
    "start_time": "2022-02-22T17:18:10.182Z"
   },
   {
    "duration": 24,
    "start_time": "2022-02-22T17:18:10.252Z"
   },
   {
    "duration": 606,
    "start_time": "2022-02-22T17:18:10.279Z"
   },
   {
    "duration": 463,
    "start_time": "2022-02-22T17:18:10.888Z"
   },
   {
    "duration": 430,
    "start_time": "2022-02-22T17:18:11.354Z"
   },
   {
    "duration": 557,
    "start_time": "2022-02-22T17:18:11.786Z"
   },
   {
    "duration": 460,
    "start_time": "2022-02-22T17:18:12.346Z"
   },
   {
    "duration": 542,
    "start_time": "2022-02-22T17:18:12.808Z"
   },
   {
    "duration": 600,
    "start_time": "2022-02-22T17:18:13.353Z"
   },
   {
    "duration": 7,
    "start_time": "2022-02-22T17:18:13.956Z"
   },
   {
    "duration": 492,
    "start_time": "2022-02-22T17:18:13.965Z"
   },
   {
    "duration": 10,
    "start_time": "2022-02-22T17:18:14.464Z"
   },
   {
    "duration": 8,
    "start_time": "2022-02-22T17:18:14.478Z"
   },
   {
    "duration": 505,
    "start_time": "2022-02-22T17:18:14.489Z"
   },
   {
    "duration": 265,
    "start_time": "2022-02-22T17:18:14.997Z"
   },
   {
    "duration": 17,
    "start_time": "2022-02-22T17:18:15.265Z"
   },
   {
    "duration": 43,
    "start_time": "2022-02-22T17:18:15.285Z"
   },
   {
    "duration": 16,
    "start_time": "2022-02-22T17:18:15.331Z"
   },
   {
    "duration": 12,
    "start_time": "2022-02-22T17:18:15.350Z"
   },
   {
    "duration": 13,
    "start_time": "2022-02-22T17:18:15.364Z"
   },
   {
    "duration": 58,
    "start_time": "2022-02-22T17:18:15.380Z"
   },
   {
    "duration": 557,
    "start_time": "2022-02-22T19:26:27.082Z"
   },
   {
    "duration": 3,
    "start_time": "2022-02-22T19:26:27.642Z"
   },
   {
    "duration": 23,
    "start_time": "2022-02-22T19:26:27.647Z"
   },
   {
    "duration": 10,
    "start_time": "2022-02-22T19:26:27.672Z"
   },
   {
    "duration": 12,
    "start_time": "2022-02-22T19:26:27.684Z"
   },
   {
    "duration": 33,
    "start_time": "2022-02-22T19:26:27.698Z"
   },
   {
    "duration": 527,
    "start_time": "2022-02-22T19:26:27.733Z"
   },
   {
    "duration": 6,
    "start_time": "2022-02-22T19:26:28.262Z"
   },
   {
    "duration": 24,
    "start_time": "2022-02-22T19:26:28.269Z"
   },
   {
    "duration": 9,
    "start_time": "2022-02-22T19:26:28.294Z"
   },
   {
    "duration": 11,
    "start_time": "2022-02-22T19:26:28.305Z"
   },
   {
    "duration": 31,
    "start_time": "2022-02-22T19:26:28.318Z"
   },
   {
    "duration": 14,
    "start_time": "2022-02-22T19:26:28.351Z"
   },
   {
    "duration": 352,
    "start_time": "2022-02-22T19:26:28.367Z"
   },
   {
    "duration": 272,
    "start_time": "2022-02-22T19:26:28.721Z"
   },
   {
    "duration": 264,
    "start_time": "2022-02-22T19:26:28.995Z"
   },
   {
    "duration": 340,
    "start_time": "2022-02-22T19:26:29.261Z"
   },
   {
    "duration": 262,
    "start_time": "2022-02-22T19:26:29.603Z"
   },
   {
    "duration": 346,
    "start_time": "2022-02-22T19:26:29.866Z"
   },
   {
    "duration": 412,
    "start_time": "2022-02-22T19:26:30.213Z"
   },
   {
    "duration": 5,
    "start_time": "2022-02-22T19:26:30.630Z"
   },
   {
    "duration": 349,
    "start_time": "2022-02-22T19:26:30.636Z"
   },
   {
    "duration": 7,
    "start_time": "2022-02-22T19:26:30.988Z"
   },
   {
    "duration": 10,
    "start_time": "2022-02-22T19:26:30.996Z"
   },
   {
    "duration": 284,
    "start_time": "2022-02-22T19:26:31.008Z"
   },
   {
    "duration": 121,
    "start_time": "2022-02-22T19:26:31.293Z"
   },
   {
    "duration": 19,
    "start_time": "2022-02-22T19:26:31.416Z"
   },
   {
    "duration": 10,
    "start_time": "2022-02-22T19:26:31.437Z"
   },
   {
    "duration": 11,
    "start_time": "2022-02-22T19:26:31.449Z"
   },
   {
    "duration": 9,
    "start_time": "2022-02-22T19:26:31.462Z"
   },
   {
    "duration": 10,
    "start_time": "2022-02-22T19:26:31.473Z"
   },
   {
    "duration": 51,
    "start_time": "2022-02-22T19:26:31.485Z"
   },
   {
    "duration": 307,
    "start_time": "2022-02-23T10:22:18.975Z"
   },
   {
    "duration": 864,
    "start_time": "2022-02-23T10:22:37.983Z"
   },
   {
    "duration": 5,
    "start_time": "2022-02-23T10:22:38.850Z"
   },
   {
    "duration": 46,
    "start_time": "2022-02-23T10:22:38.857Z"
   },
   {
    "duration": 20,
    "start_time": "2022-02-23T10:22:38.905Z"
   },
   {
    "duration": 16,
    "start_time": "2022-02-23T10:22:38.927Z"
   },
   {
    "duration": 10,
    "start_time": "2022-02-23T10:22:38.945Z"
   },
   {
    "duration": 753,
    "start_time": "2022-02-23T10:22:38.957Z"
   },
   {
    "duration": 8,
    "start_time": "2022-02-23T10:22:39.714Z"
   },
   {
    "duration": 35,
    "start_time": "2022-02-23T10:22:39.726Z"
   },
   {
    "duration": 39,
    "start_time": "2022-02-23T10:22:39.763Z"
   },
   {
    "duration": 28,
    "start_time": "2022-02-23T10:22:39.805Z"
   },
   {
    "duration": 86,
    "start_time": "2022-02-23T10:22:39.836Z"
   },
   {
    "duration": 23,
    "start_time": "2022-02-23T10:22:39.925Z"
   },
   {
    "duration": 598,
    "start_time": "2022-02-23T10:22:39.951Z"
   },
   {
    "duration": 684,
    "start_time": "2022-02-23T10:22:40.552Z"
   },
   {
    "duration": 428,
    "start_time": "2022-02-23T10:22:41.240Z"
   },
   {
    "duration": 558,
    "start_time": "2022-02-23T10:22:41.671Z"
   },
   {
    "duration": 428,
    "start_time": "2022-02-23T10:22:42.231Z"
   },
   {
    "duration": 578,
    "start_time": "2022-02-23T10:22:42.662Z"
   },
   {
    "duration": 665,
    "start_time": "2022-02-23T10:22:43.244Z"
   },
   {
    "duration": 9,
    "start_time": "2022-02-23T10:22:43.913Z"
   },
   {
    "duration": 503,
    "start_time": "2022-02-23T10:22:43.926Z"
   },
   {
    "duration": 14,
    "start_time": "2022-02-23T10:22:44.433Z"
   },
   {
    "duration": 18,
    "start_time": "2022-02-23T10:22:44.450Z"
   },
   {
    "duration": 474,
    "start_time": "2022-02-23T10:22:44.472Z"
   },
   {
    "duration": 240,
    "start_time": "2022-02-23T10:22:44.948Z"
   },
   {
    "duration": 15,
    "start_time": "2022-02-23T10:22:45.191Z"
   },
   {
    "duration": 16,
    "start_time": "2022-02-23T10:22:45.209Z"
   },
   {
    "duration": 16,
    "start_time": "2022-02-23T10:22:45.228Z"
   },
   {
    "duration": 50,
    "start_time": "2022-02-23T10:22:45.247Z"
   },
   {
    "duration": 9,
    "start_time": "2022-02-23T10:22:45.299Z"
   },
   {
    "duration": 21,
    "start_time": "2022-02-23T10:22:45.311Z"
   },
   {
    "duration": 24,
    "start_time": "2022-02-23T10:23:27.827Z"
   },
   {
    "duration": 25,
    "start_time": "2022-02-23T10:23:45.993Z"
   },
   {
    "duration": 16,
    "start_time": "2022-02-23T10:24:02.225Z"
   },
   {
    "duration": 10,
    "start_time": "2022-02-23T10:29:28.661Z"
   },
   {
    "duration": 17,
    "start_time": "2022-02-23T10:29:42.627Z"
   },
   {
    "duration": 15,
    "start_time": "2022-02-23T10:29:52.806Z"
   },
   {
    "duration": 16,
    "start_time": "2022-02-23T10:32:31.155Z"
   },
   {
    "duration": 606,
    "start_time": "2022-02-23T10:45:42.387Z"
   },
   {
    "duration": 25,
    "start_time": "2022-02-23T10:46:01.919Z"
   },
   {
    "duration": 271,
    "start_time": "2022-02-23T10:48:27.965Z"
   },
   {
    "duration": 26,
    "start_time": "2022-02-23T10:49:22.677Z"
   },
   {
    "duration": 5605,
    "start_time": "2022-02-23T10:49:39.964Z"
   },
   {
    "duration": 10,
    "start_time": "2022-02-23T10:50:03.227Z"
   },
   {
    "duration": 36,
    "start_time": "2022-02-23T10:50:05.695Z"
   },
   {
    "duration": 27,
    "start_time": "2022-02-23T10:50:08.957Z"
   },
   {
    "duration": 24,
    "start_time": "2022-02-23T10:50:11.804Z"
   },
   {
    "duration": 234,
    "start_time": "2022-02-23T10:50:16.265Z"
   },
   {
    "duration": 214,
    "start_time": "2022-02-23T10:51:04.674Z"
   },
   {
    "duration": 8,
    "start_time": "2022-02-23T10:51:08.208Z"
   },
   {
    "duration": 29,
    "start_time": "2022-02-23T10:51:11.323Z"
   },
   {
    "duration": 18,
    "start_time": "2022-02-23T10:51:15.301Z"
   },
   {
    "duration": 20,
    "start_time": "2022-02-23T10:51:17.836Z"
   },
   {
    "duration": 680,
    "start_time": "2022-02-23T10:51:21.290Z"
   },
   {
    "duration": 300,
    "start_time": "2022-02-23T10:54:12.517Z"
   },
   {
    "duration": 272,
    "start_time": "2022-02-23T10:54:28.644Z"
   },
   {
    "duration": 253,
    "start_time": "2022-02-23T10:54:51.542Z"
   },
   {
    "duration": 48,
    "start_time": "2022-02-23T10:56:52.072Z"
   },
   {
    "duration": 38,
    "start_time": "2022-02-23T10:59:59.828Z"
   },
   {
    "duration": 31,
    "start_time": "2022-02-23T11:04:14.809Z"
   },
   {
    "duration": 5,
    "start_time": "2022-02-23T11:04:20.735Z"
   },
   {
    "duration": 27,
    "start_time": "2022-02-23T11:04:23.605Z"
   },
   {
    "duration": 19,
    "start_time": "2022-02-23T11:04:27.284Z"
   },
   {
    "duration": 18,
    "start_time": "2022-02-23T11:05:00.606Z"
   },
   {
    "duration": 40,
    "start_time": "2022-02-23T11:05:09.128Z"
   },
   {
    "duration": 6,
    "start_time": "2022-02-23T11:05:13.389Z"
   },
   {
    "duration": 74,
    "start_time": "2022-02-23T11:06:46.708Z"
   },
   {
    "duration": 10,
    "start_time": "2022-02-23T11:08:03.882Z"
   },
   {
    "duration": 38,
    "start_time": "2022-02-23T11:08:06.979Z"
   },
   {
    "duration": 16,
    "start_time": "2022-02-23T11:08:14.542Z"
   },
   {
    "duration": 36,
    "start_time": "2022-02-23T11:08:24.663Z"
   },
   {
    "duration": 58,
    "start_time": "2022-02-23T11:08:31.334Z"
   },
   {
    "duration": 26,
    "start_time": "2022-02-23T11:15:31.721Z"
   },
   {
    "duration": 5,
    "start_time": "2022-02-23T11:19:21.558Z"
   },
   {
    "duration": 7,
    "start_time": "2022-02-23T11:19:30.737Z"
   },
   {
    "duration": 13,
    "start_time": "2022-02-23T11:19:50.578Z"
   },
   {
    "duration": 15,
    "start_time": "2022-02-23T11:24:07.542Z"
   },
   {
    "duration": 20,
    "start_time": "2022-02-23T11:25:14.501Z"
   },
   {
    "duration": 80,
    "start_time": "2022-02-23T11:27:44.384Z"
   },
   {
    "duration": 358,
    "start_time": "2022-02-23T11:28:03.493Z"
   },
   {
    "duration": 14,
    "start_time": "2022-02-23T11:28:10.988Z"
   },
   {
    "duration": 26,
    "start_time": "2022-02-23T11:28:17.463Z"
   },
   {
    "duration": 6370,
    "start_time": "2022-02-23T11:28:20.761Z"
   },
   {
    "duration": 6210,
    "start_time": "2022-02-23T11:29:37.275Z"
   },
   {
    "duration": 20,
    "start_time": "2022-02-23T11:30:29.074Z"
   },
   {
    "duration": 280,
    "start_time": "2022-02-23T11:31:53.635Z"
   },
   {
    "duration": 21,
    "start_time": "2022-02-23T11:32:05.600Z"
   },
   {
    "duration": 6,
    "start_time": "2022-02-23T11:32:39.897Z"
   },
   {
    "duration": 15,
    "start_time": "2022-02-23T11:32:47.619Z"
   },
   {
    "duration": 6,
    "start_time": "2022-02-23T11:32:50.691Z"
   },
   {
    "duration": 19,
    "start_time": "2022-02-23T11:33:03.546Z"
   },
   {
    "duration": 21,
    "start_time": "2022-02-23T11:33:39.818Z"
   },
   {
    "duration": 239,
    "start_time": "2022-02-23T11:39:09.819Z"
   },
   {
    "duration": 16,
    "start_time": "2022-02-23T11:39:20.978Z"
   },
   {
    "duration": 227,
    "start_time": "2022-02-23T11:41:11.601Z"
   },
   {
    "duration": 1604,
    "start_time": "2022-02-23T11:41:41.970Z"
   },
   {
    "duration": 5,
    "start_time": "2022-02-23T11:41:43.577Z"
   },
   {
    "duration": 32,
    "start_time": "2022-02-23T11:41:43.586Z"
   },
   {
    "duration": 27,
    "start_time": "2022-02-23T11:41:43.621Z"
   },
   {
    "duration": 51,
    "start_time": "2022-02-23T11:41:43.651Z"
   },
   {
    "duration": 604,
    "start_time": "2022-02-23T11:41:43.705Z"
   },
   {
    "duration": 7,
    "start_time": "2022-02-23T11:41:44.312Z"
   },
   {
    "duration": 93,
    "start_time": "2022-02-23T11:41:44.324Z"
   },
   {
    "duration": 8,
    "start_time": "2022-02-23T11:41:44.421Z"
   },
   {
    "duration": 67,
    "start_time": "2022-02-23T11:41:44.432Z"
   },
   {
    "duration": 18,
    "start_time": "2022-02-23T11:41:44.501Z"
   },
   {
    "duration": 21,
    "start_time": "2022-02-23T11:41:44.522Z"
   },
   {
    "duration": 104,
    "start_time": "2022-02-23T11:41:44.547Z"
   },
   {
    "duration": 5,
    "start_time": "2022-02-23T11:41:44.654Z"
   },
   {
    "duration": 7,
    "start_time": "2022-02-23T11:41:44.662Z"
   },
   {
    "duration": 30,
    "start_time": "2022-02-23T11:41:44.671Z"
   },
   {
    "duration": 31,
    "start_time": "2022-02-23T11:41:44.703Z"
   },
   {
    "duration": 638,
    "start_time": "2022-02-23T11:41:44.737Z"
   },
   {
    "duration": 466,
    "start_time": "2022-02-23T11:41:45.378Z"
   },
   {
    "duration": 487,
    "start_time": "2022-02-23T11:41:45.847Z"
   },
   {
    "duration": 716,
    "start_time": "2022-02-23T11:41:46.336Z"
   },
   {
    "duration": 516,
    "start_time": "2022-02-23T11:41:47.054Z"
   },
   {
    "duration": 696,
    "start_time": "2022-02-23T11:41:47.575Z"
   },
   {
    "duration": 637,
    "start_time": "2022-02-23T11:41:48.275Z"
   },
   {
    "duration": 9,
    "start_time": "2022-02-23T11:41:48.914Z"
   },
   {
    "duration": 521,
    "start_time": "2022-02-23T11:41:48.926Z"
   },
   {
    "duration": 10,
    "start_time": "2022-02-23T11:41:49.450Z"
   },
   {
    "duration": 18,
    "start_time": "2022-02-23T11:41:49.463Z"
   },
   {
    "duration": 564,
    "start_time": "2022-02-23T11:41:49.495Z"
   },
   {
    "duration": 374,
    "start_time": "2022-02-23T11:41:50.062Z"
   },
   {
    "duration": 25,
    "start_time": "2022-02-23T11:41:50.440Z"
   },
   {
    "duration": 39,
    "start_time": "2022-02-23T11:41:50.468Z"
   },
   {
    "duration": 24,
    "start_time": "2022-02-23T11:41:50.510Z"
   },
   {
    "duration": 23,
    "start_time": "2022-02-23T11:41:50.536Z"
   },
   {
    "duration": 39,
    "start_time": "2022-02-23T11:41:50.562Z"
   },
   {
    "duration": 30,
    "start_time": "2022-02-23T11:41:50.604Z"
   },
   {
    "duration": 11,
    "start_time": "2022-02-23T11:45:58.645Z"
   },
   {
    "duration": 9,
    "start_time": "2022-02-23T11:46:15.571Z"
   },
   {
    "duration": 9,
    "start_time": "2022-02-23T11:46:41.906Z"
   },
   {
    "duration": 424,
    "start_time": "2022-02-23T11:49:53.209Z"
   },
   {
    "duration": 555,
    "start_time": "2022-02-23T11:50:49.163Z"
   },
   {
    "duration": 414,
    "start_time": "2022-02-23T11:51:53.421Z"
   },
   {
    "duration": 457,
    "start_time": "2022-02-23T11:52:04.067Z"
   },
   {
    "duration": 507,
    "start_time": "2022-02-23T11:53:03.206Z"
   },
   {
    "duration": 527,
    "start_time": "2022-02-23T11:53:32.890Z"
   },
   {
    "duration": 512,
    "start_time": "2022-02-23T11:54:10.583Z"
   },
   {
    "duration": 767,
    "start_time": "2022-02-23T11:54:30.846Z"
   },
   {
    "duration": 512,
    "start_time": "2022-02-23T11:54:51.010Z"
   },
   {
    "duration": 399,
    "start_time": "2022-02-23T12:04:02.254Z"
   },
   {
    "duration": 23,
    "start_time": "2022-02-23T12:04:21.133Z"
   },
   {
    "duration": 255,
    "start_time": "2022-02-23T12:07:03.118Z"
   },
   {
    "duration": 20,
    "start_time": "2022-02-23T12:07:19.130Z"
   },
   {
    "duration": 16,
    "start_time": "2022-02-23T12:12:09.912Z"
   },
   {
    "duration": 17,
    "start_time": "2022-02-23T12:13:40.338Z"
   },
   {
    "duration": 12,
    "start_time": "2022-02-23T12:14:12.624Z"
   },
   {
    "duration": 13,
    "start_time": "2022-02-23T12:14:46.110Z"
   },
   {
    "duration": 11,
    "start_time": "2022-02-23T12:16:09.823Z"
   },
   {
    "duration": 15,
    "start_time": "2022-02-23T12:16:23.150Z"
   },
   {
    "duration": 20,
    "start_time": "2022-02-23T12:16:42.884Z"
   },
   {
    "duration": 14,
    "start_time": "2022-02-23T12:17:18.814Z"
   },
   {
    "duration": 16,
    "start_time": "2022-02-23T12:18:34.706Z"
   },
   {
    "duration": 76,
    "start_time": "2022-02-23T12:19:26.243Z"
   },
   {
    "duration": 73,
    "start_time": "2022-02-23T12:19:36.024Z"
   },
   {
    "duration": 7,
    "start_time": "2022-02-23T12:19:40.846Z"
   },
   {
    "duration": 19,
    "start_time": "2022-02-23T12:19:53.651Z"
   },
   {
    "duration": 5998,
    "start_time": "2022-02-23T12:21:33.856Z"
   },
   {
    "duration": 15,
    "start_time": "2022-02-23T12:22:05.148Z"
   },
   {
    "duration": 5822,
    "start_time": "2022-02-23T12:23:43.242Z"
   },
   {
    "duration": 5781,
    "start_time": "2022-02-23T12:24:14.803Z"
   },
   {
    "duration": 1722,
    "start_time": "2022-02-23T12:24:40.772Z"
   },
   {
    "duration": 5,
    "start_time": "2022-02-23T12:24:42.496Z"
   },
   {
    "duration": 50,
    "start_time": "2022-02-23T12:24:42.504Z"
   },
   {
    "duration": 19,
    "start_time": "2022-02-23T12:24:42.557Z"
   },
   {
    "duration": 28,
    "start_time": "2022-02-23T12:24:42.578Z"
   },
   {
    "duration": 579,
    "start_time": "2022-02-23T12:24:42.609Z"
   },
   {
    "duration": 6,
    "start_time": "2022-02-23T12:24:43.195Z"
   },
   {
    "duration": 84,
    "start_time": "2022-02-23T12:24:43.205Z"
   },
   {
    "duration": 9,
    "start_time": "2022-02-23T12:24:43.292Z"
   },
   {
    "duration": 40,
    "start_time": "2022-02-23T12:24:43.304Z"
   },
   {
    "duration": 16,
    "start_time": "2022-02-23T12:24:43.347Z"
   },
   {
    "duration": 46,
    "start_time": "2022-02-23T12:24:43.365Z"
   },
   {
    "duration": 39,
    "start_time": "2022-02-23T12:24:43.413Z"
   },
   {
    "duration": 3,
    "start_time": "2022-02-23T12:24:43.455Z"
   },
   {
    "duration": 33,
    "start_time": "2022-02-23T12:24:43.461Z"
   },
   {
    "duration": 9,
    "start_time": "2022-02-23T12:24:43.497Z"
   },
   {
    "duration": 26,
    "start_time": "2022-02-23T12:24:43.508Z"
   },
   {
    "duration": 8,
    "start_time": "2022-02-23T12:24:43.536Z"
   },
   {
    "duration": 9,
    "start_time": "2022-02-23T12:24:43.546Z"
   },
   {
    "duration": 616,
    "start_time": "2022-02-23T12:24:43.557Z"
   },
   {
    "duration": 572,
    "start_time": "2022-02-23T12:24:44.175Z"
   },
   {
    "duration": 81,
    "start_time": "2022-02-23T12:24:44.749Z"
   },
   {
    "duration": -1135,
    "start_time": "2022-02-23T12:24:45.968Z"
   },
   {
    "duration": -1140,
    "start_time": "2022-02-23T12:24:45.975Z"
   },
   {
    "duration": -1144,
    "start_time": "2022-02-23T12:24:45.981Z"
   },
   {
    "duration": -1148,
    "start_time": "2022-02-23T12:24:45.986Z"
   },
   {
    "duration": -1151,
    "start_time": "2022-02-23T12:24:45.991Z"
   },
   {
    "duration": -1156,
    "start_time": "2022-02-23T12:24:45.997Z"
   },
   {
    "duration": -1159,
    "start_time": "2022-02-23T12:24:46.002Z"
   },
   {
    "duration": -1162,
    "start_time": "2022-02-23T12:24:46.007Z"
   },
   {
    "duration": -1165,
    "start_time": "2022-02-23T12:24:46.012Z"
   },
   {
    "duration": -1168,
    "start_time": "2022-02-23T12:24:46.017Z"
   },
   {
    "duration": -1173,
    "start_time": "2022-02-23T12:24:46.023Z"
   },
   {
    "duration": -1184,
    "start_time": "2022-02-23T12:24:46.037Z"
   },
   {
    "duration": -1188,
    "start_time": "2022-02-23T12:24:46.042Z"
   },
   {
    "duration": -1193,
    "start_time": "2022-02-23T12:24:46.048Z"
   },
   {
    "duration": -1195,
    "start_time": "2022-02-23T12:24:46.052Z"
   },
   {
    "duration": -1200,
    "start_time": "2022-02-23T12:24:46.058Z"
   },
   {
    "duration": -1204,
    "start_time": "2022-02-23T12:24:46.063Z"
   },
   {
    "duration": 78,
    "start_time": "2022-02-23T12:28:58.861Z"
   },
   {
    "duration": 553,
    "start_time": "2022-02-23T12:34:07.327Z"
   },
   {
    "duration": 590,
    "start_time": "2022-02-23T12:34:14.929Z"
   },
   {
    "duration": 382,
    "start_time": "2022-02-23T12:39:51.223Z"
   },
   {
    "duration": 292,
    "start_time": "2022-02-23T12:39:59.894Z"
   },
   {
    "duration": 288,
    "start_time": "2022-02-23T12:40:05.047Z"
   },
   {
    "duration": 1453,
    "start_time": "2022-02-23T12:40:14.445Z"
   },
   {
    "duration": 5,
    "start_time": "2022-02-23T12:40:15.901Z"
   },
   {
    "duration": 34,
    "start_time": "2022-02-23T12:40:15.908Z"
   },
   {
    "duration": 17,
    "start_time": "2022-02-23T12:40:15.945Z"
   },
   {
    "duration": 42,
    "start_time": "2022-02-23T12:40:15.965Z"
   },
   {
    "duration": 589,
    "start_time": "2022-02-23T12:40:16.009Z"
   },
   {
    "duration": 7,
    "start_time": "2022-02-23T12:40:16.601Z"
   },
   {
    "duration": 58,
    "start_time": "2022-02-23T12:40:16.612Z"
   },
   {
    "duration": 9,
    "start_time": "2022-02-23T12:40:16.674Z"
   },
   {
    "duration": 38,
    "start_time": "2022-02-23T12:40:16.694Z"
   },
   {
    "duration": 15,
    "start_time": "2022-02-23T12:40:16.734Z"
   },
   {
    "duration": 54,
    "start_time": "2022-02-23T12:40:16.751Z"
   },
   {
    "duration": 35,
    "start_time": "2022-02-23T12:40:16.807Z"
   },
   {
    "duration": 2,
    "start_time": "2022-02-23T12:40:16.845Z"
   },
   {
    "duration": 4,
    "start_time": "2022-02-23T12:40:16.850Z"
   },
   {
    "duration": 37,
    "start_time": "2022-02-23T12:40:16.856Z"
   },
   {
    "duration": 25,
    "start_time": "2022-02-23T12:40:16.896Z"
   },
   {
    "duration": 7,
    "start_time": "2022-02-23T12:40:16.923Z"
   },
   {
    "duration": 6,
    "start_time": "2022-02-23T12:40:16.933Z"
   },
   {
    "duration": 588,
    "start_time": "2022-02-23T12:40:16.941Z"
   },
   {
    "duration": 553,
    "start_time": "2022-02-23T12:40:17.532Z"
   },
   {
    "duration": 476,
    "start_time": "2022-02-23T12:40:18.089Z"
   },
   {
    "duration": 570,
    "start_time": "2022-02-23T12:40:18.570Z"
   },
   {
    "duration": 522,
    "start_time": "2022-02-23T12:40:19.144Z"
   },
   {
    "duration": 532,
    "start_time": "2022-02-23T12:40:19.669Z"
   },
   {
    "duration": 594,
    "start_time": "2022-02-23T12:40:20.204Z"
   },
   {
    "duration": 6,
    "start_time": "2022-02-23T12:40:20.801Z"
   },
   {
    "duration": 510,
    "start_time": "2022-02-23T12:40:20.809Z"
   },
   {
    "duration": 9,
    "start_time": "2022-02-23T12:40:21.322Z"
   },
   {
    "duration": 8,
    "start_time": "2022-02-23T12:40:21.333Z"
   },
   {
    "duration": 497,
    "start_time": "2022-02-23T12:40:21.344Z"
   },
   {
    "duration": 227,
    "start_time": "2022-02-23T12:40:21.844Z"
   },
   {
    "duration": 25,
    "start_time": "2022-02-23T12:40:22.073Z"
   },
   {
    "duration": 15,
    "start_time": "2022-02-23T12:40:22.100Z"
   },
   {
    "duration": 16,
    "start_time": "2022-02-23T12:40:22.117Z"
   },
   {
    "duration": 14,
    "start_time": "2022-02-23T12:40:22.137Z"
   },
   {
    "duration": 55,
    "start_time": "2022-02-23T12:40:22.154Z"
   },
   {
    "duration": 23,
    "start_time": "2022-02-23T12:40:22.212Z"
   },
   {
    "duration": 18,
    "start_time": "2022-02-23T12:46:44.630Z"
   },
   {
    "duration": 513,
    "start_time": "2022-02-23T17:38:46.440Z"
   },
   {
    "duration": 1593,
    "start_time": "2022-02-23T17:39:09.230Z"
   },
   {
    "duration": 5,
    "start_time": "2022-02-23T17:39:10.826Z"
   },
   {
    "duration": 30,
    "start_time": "2022-02-23T17:39:10.834Z"
   },
   {
    "duration": 48,
    "start_time": "2022-02-23T17:39:10.866Z"
   },
   {
    "duration": 17,
    "start_time": "2022-02-23T17:39:10.916Z"
   },
   {
    "duration": 131027,
    "start_time": "2022-02-23T17:39:10.935Z"
   },
   {
    "duration": 49,
    "start_time": "2022-02-23T17:41:21.964Z"
   },
   {
    "duration": 101,
    "start_time": "2022-02-23T17:41:22.015Z"
   },
   {
    "duration": 9,
    "start_time": "2022-02-23T17:41:22.122Z"
   },
   {
    "duration": 35,
    "start_time": "2022-02-23T17:41:22.134Z"
   },
   {
    "duration": 15,
    "start_time": "2022-02-23T17:41:22.171Z"
   },
   {
    "duration": 40,
    "start_time": "2022-02-23T17:41:22.188Z"
   },
   {
    "duration": 42,
    "start_time": "2022-02-23T17:41:22.231Z"
   },
   {
    "duration": 13,
    "start_time": "2022-02-23T17:41:22.275Z"
   },
   {
    "duration": 28,
    "start_time": "2022-02-23T17:41:22.292Z"
   },
   {
    "duration": 4,
    "start_time": "2022-02-23T17:41:22.323Z"
   },
   {
    "duration": 6,
    "start_time": "2022-02-23T17:41:22.329Z"
   },
   {
    "duration": 22,
    "start_time": "2022-02-23T17:41:22.338Z"
   },
   {
    "duration": 8,
    "start_time": "2022-02-23T17:41:22.362Z"
   },
   {
    "duration": 10,
    "start_time": "2022-02-23T17:41:22.412Z"
   },
   {
    "duration": 695,
    "start_time": "2022-02-23T17:41:22.424Z"
   },
   {
    "duration": 663,
    "start_time": "2022-02-23T17:41:23.122Z"
   },
   {
    "duration": 478,
    "start_time": "2022-02-23T17:41:23.788Z"
   },
   {
    "duration": 587,
    "start_time": "2022-02-23T17:41:24.269Z"
   },
   {
    "duration": 513,
    "start_time": "2022-02-23T17:41:24.859Z"
   },
   {
    "duration": 528,
    "start_time": "2022-02-23T17:41:25.375Z"
   },
   {
    "duration": 594,
    "start_time": "2022-02-23T17:41:25.912Z"
   },
   {
    "duration": 9,
    "start_time": "2022-02-23T17:41:26.509Z"
   },
   {
    "duration": 534,
    "start_time": "2022-02-23T17:41:26.521Z"
   },
   {
    "duration": 9,
    "start_time": "2022-02-23T17:41:27.057Z"
   },
   {
    "duration": 6,
    "start_time": "2022-02-23T17:41:27.069Z"
   },
   {
    "duration": 504,
    "start_time": "2022-02-23T17:41:27.078Z"
   },
   {
    "duration": 250,
    "start_time": "2022-02-23T17:41:27.585Z"
   },
   {
    "duration": 18,
    "start_time": "2022-02-23T17:41:27.838Z"
   },
   {
    "duration": 15,
    "start_time": "2022-02-23T17:41:27.859Z"
   },
   {
    "duration": 47,
    "start_time": "2022-02-23T17:41:27.879Z"
   },
   {
    "duration": 12,
    "start_time": "2022-02-23T17:41:27.930Z"
   },
   {
    "duration": 12,
    "start_time": "2022-02-23T17:41:27.944Z"
   },
   {
    "duration": 60,
    "start_time": "2022-02-23T17:41:27.959Z"
   },
   {
    "duration": 20,
    "start_time": "2022-02-23T17:42:28.419Z"
   },
   {
    "duration": 22,
    "start_time": "2022-02-23T17:42:47.410Z"
   },
   {
    "duration": 14,
    "start_time": "2022-02-23T17:43:12.568Z"
   },
   {
    "duration": 12,
    "start_time": "2022-02-23T17:43:14.151Z"
   },
   {
    "duration": 11791,
    "start_time": "2022-02-23T17:43:24.362Z"
   },
   {
    "duration": 15,
    "start_time": "2022-02-23T17:43:38.453Z"
   },
   {
    "duration": 7,
    "start_time": "2022-02-23T17:43:41.713Z"
   },
   {
    "duration": 16,
    "start_time": "2022-02-23T17:43:49.162Z"
   },
   {
    "duration": 6,
    "start_time": "2022-02-23T17:43:49.797Z"
   },
   {
    "duration": 22,
    "start_time": "2022-02-23T17:43:53.527Z"
   },
   {
    "duration": 133,
    "start_time": "2022-02-23T17:48:20.930Z"
   },
   {
    "duration": 119,
    "start_time": "2022-02-23T17:48:23.018Z"
   },
   {
    "duration": 1147,
    "start_time": "2022-02-24T16:02:26.730Z"
   },
   {
    "duration": 3,
    "start_time": "2022-02-24T16:02:27.879Z"
   },
   {
    "duration": 23,
    "start_time": "2022-02-24T16:02:27.884Z"
   },
   {
    "duration": 12,
    "start_time": "2022-02-24T16:02:27.909Z"
   },
   {
    "duration": 11,
    "start_time": "2022-02-24T16:02:27.922Z"
   },
   {
    "duration": 299,
    "start_time": "2022-02-24T16:02:27.935Z"
   },
   {
    "duration": 7,
    "start_time": "2022-02-24T16:02:28.236Z"
   },
   {
    "duration": 49,
    "start_time": "2022-02-24T16:02:28.246Z"
   },
   {
    "duration": 5,
    "start_time": "2022-02-24T16:02:28.297Z"
   },
   {
    "duration": 26,
    "start_time": "2022-02-24T16:02:28.304Z"
   },
   {
    "duration": 12,
    "start_time": "2022-02-24T16:02:28.332Z"
   },
   {
    "duration": 12,
    "start_time": "2022-02-24T16:02:28.345Z"
   },
   {
    "duration": 23,
    "start_time": "2022-02-24T16:02:28.359Z"
   },
   {
    "duration": 11,
    "start_time": "2022-02-24T16:02:28.383Z"
   },
   {
    "duration": 2,
    "start_time": "2022-02-24T16:02:28.395Z"
   },
   {
    "duration": 3,
    "start_time": "2022-02-24T16:02:28.430Z"
   },
   {
    "duration": 17,
    "start_time": "2022-02-24T16:02:28.434Z"
   },
   {
    "duration": 5,
    "start_time": "2022-02-24T16:02:28.453Z"
   },
   {
    "duration": 5,
    "start_time": "2022-02-24T16:02:28.460Z"
   },
   {
    "duration": 353,
    "start_time": "2022-02-24T16:02:28.466Z"
   },
   {
    "duration": 326,
    "start_time": "2022-02-24T16:02:28.820Z"
   },
   {
    "duration": 286,
    "start_time": "2022-02-24T16:02:29.148Z"
   },
   {
    "duration": 393,
    "start_time": "2022-02-24T16:02:29.437Z"
   },
   {
    "duration": 320,
    "start_time": "2022-02-24T16:02:29.832Z"
   },
   {
    "duration": 337,
    "start_time": "2022-02-24T16:02:30.153Z"
   },
   {
    "duration": 346,
    "start_time": "2022-02-24T16:02:30.491Z"
   },
   {
    "duration": 5,
    "start_time": "2022-02-24T16:02:30.838Z"
   },
   {
    "duration": 351,
    "start_time": "2022-02-24T16:02:30.844Z"
   },
   {
    "duration": 6,
    "start_time": "2022-02-24T16:02:31.197Z"
   },
   {
    "duration": 6,
    "start_time": "2022-02-24T16:02:31.205Z"
   },
   {
    "duration": 263,
    "start_time": "2022-02-24T16:02:31.213Z"
   },
   {
    "duration": 114,
    "start_time": "2022-02-24T16:02:31.477Z"
   },
   {
    "duration": 58,
    "start_time": "2022-02-24T16:02:31.593Z"
   },
   {
    "duration": -89911,
    "start_time": "2022-02-24T16:04:01.564Z"
   },
   {
    "duration": -89928,
    "start_time": "2022-02-24T16:04:01.582Z"
   },
   {
    "duration": -89935,
    "start_time": "2022-02-24T16:04:01.590Z"
   },
   {
    "duration": -89941,
    "start_time": "2022-02-24T16:04:01.597Z"
   },
   {
    "duration": -89947,
    "start_time": "2022-02-24T16:04:01.604Z"
   },
   {
    "duration": 19,
    "start_time": "2022-02-24T16:05:51.592Z"
   },
   {
    "duration": 263,
    "start_time": "2022-02-24T16:06:05.756Z"
   },
   {
    "duration": 1310,
    "start_time": "2022-02-24T16:06:44.251Z"
   },
   {
    "duration": 5,
    "start_time": "2022-02-24T16:06:45.563Z"
   },
   {
    "duration": 29,
    "start_time": "2022-02-24T16:06:45.571Z"
   },
   {
    "duration": 29,
    "start_time": "2022-02-24T16:06:45.603Z"
   },
   {
    "duration": 13,
    "start_time": "2022-02-24T16:06:45.633Z"
   },
   {
    "duration": 295,
    "start_time": "2022-02-24T16:06:45.648Z"
   },
   {
    "duration": 4,
    "start_time": "2022-02-24T16:06:45.946Z"
   },
   {
    "duration": 47,
    "start_time": "2022-02-24T16:06:45.953Z"
   },
   {
    "duration": 6,
    "start_time": "2022-02-24T16:06:46.002Z"
   },
   {
    "duration": 30,
    "start_time": "2022-02-24T16:06:46.010Z"
   },
   {
    "duration": 10,
    "start_time": "2022-02-24T16:06:46.042Z"
   },
   {
    "duration": 15,
    "start_time": "2022-02-24T16:06:46.054Z"
   },
   {
    "duration": 22,
    "start_time": "2022-02-24T16:06:46.071Z"
   },
   {
    "duration": 43,
    "start_time": "2022-02-24T16:06:46.095Z"
   },
   {
    "duration": 2,
    "start_time": "2022-02-24T16:06:46.140Z"
   },
   {
    "duration": 5,
    "start_time": "2022-02-24T16:06:46.144Z"
   },
   {
    "duration": 17,
    "start_time": "2022-02-24T16:06:46.151Z"
   },
   {
    "duration": 5,
    "start_time": "2022-02-24T16:06:46.170Z"
   },
   {
    "duration": 4,
    "start_time": "2022-02-24T16:06:46.177Z"
   },
   {
    "duration": 359,
    "start_time": "2022-02-24T16:06:46.182Z"
   },
   {
    "duration": 324,
    "start_time": "2022-02-24T16:06:46.543Z"
   },
   {
    "duration": 282,
    "start_time": "2022-02-24T16:06:46.869Z"
   },
   {
    "duration": 370,
    "start_time": "2022-02-24T16:06:47.156Z"
   },
   {
    "duration": 337,
    "start_time": "2022-02-24T16:06:47.527Z"
   },
   {
    "duration": 326,
    "start_time": "2022-02-24T16:06:47.866Z"
   },
   {
    "duration": 410,
    "start_time": "2022-02-24T16:06:48.193Z"
   },
   {
    "duration": 4,
    "start_time": "2022-02-24T16:06:48.605Z"
   },
   {
    "duration": 371,
    "start_time": "2022-02-24T16:06:48.610Z"
   },
   {
    "duration": 6,
    "start_time": "2022-02-24T16:06:48.982Z"
   },
   {
    "duration": 7,
    "start_time": "2022-02-24T16:06:48.989Z"
   },
   {
    "duration": 281,
    "start_time": "2022-02-24T16:06:48.997Z"
   },
   {
    "duration": 123,
    "start_time": "2022-02-24T16:06:49.280Z"
   },
   {
    "duration": 59,
    "start_time": "2022-02-24T16:06:49.404Z"
   },
   {
    "duration": -89889,
    "start_time": "2022-02-24T16:08:19.354Z"
   },
   {
    "duration": -89898,
    "start_time": "2022-02-24T16:08:19.364Z"
   },
   {
    "duration": -89905,
    "start_time": "2022-02-24T16:08:19.372Z"
   },
   {
    "duration": -89912,
    "start_time": "2022-02-24T16:08:19.380Z"
   },
   {
    "duration": -89917,
    "start_time": "2022-02-24T16:08:19.386Z"
   },
   {
    "duration": 546,
    "start_time": "2022-02-24T16:08:39.636Z"
   },
   {
    "duration": 609,
    "start_time": "2022-02-24T16:09:01.056Z"
   },
   {
    "duration": 269,
    "start_time": "2022-02-24T16:09:50.419Z"
   },
   {
    "duration": 199,
    "start_time": "2022-02-24T16:10:06.431Z"
   },
   {
    "duration": 437,
    "start_time": "2022-02-24T16:10:13.113Z"
   },
   {
    "duration": 207,
    "start_time": "2022-02-24T16:11:16.219Z"
   },
   {
    "duration": 10,
    "start_time": "2022-02-24T16:12:59.342Z"
   },
   {
    "duration": 57,
    "start_time": "2022-02-24T16:14:09.845Z"
   },
   {
    "duration": 71,
    "start_time": "2022-02-24T16:14:36.720Z"
   },
   {
    "duration": 114,
    "start_time": "2022-02-24T16:14:43.688Z"
   },
   {
    "duration": 63,
    "start_time": "2022-02-24T16:14:46.763Z"
   },
   {
    "duration": 60,
    "start_time": "2022-02-24T16:14:54.465Z"
   },
   {
    "duration": 66,
    "start_time": "2022-02-24T16:15:42.350Z"
   },
   {
    "duration": 1157,
    "start_time": "2022-02-24T16:15:49.931Z"
   },
   {
    "duration": 4,
    "start_time": "2022-02-24T16:15:51.089Z"
   },
   {
    "duration": 27,
    "start_time": "2022-02-24T16:15:51.095Z"
   },
   {
    "duration": 13,
    "start_time": "2022-02-24T16:15:51.124Z"
   },
   {
    "duration": 11,
    "start_time": "2022-02-24T16:15:51.138Z"
   },
   {
    "duration": 305,
    "start_time": "2022-02-24T16:15:51.150Z"
   },
   {
    "duration": 5,
    "start_time": "2022-02-24T16:15:51.457Z"
   },
   {
    "duration": 42,
    "start_time": "2022-02-24T16:15:51.465Z"
   },
   {
    "duration": 6,
    "start_time": "2022-02-24T16:15:51.509Z"
   },
   {
    "duration": 36,
    "start_time": "2022-02-24T16:15:51.516Z"
   },
   {
    "duration": 11,
    "start_time": "2022-02-24T16:15:51.554Z"
   },
   {
    "duration": 13,
    "start_time": "2022-02-24T16:15:51.567Z"
   },
   {
    "duration": 49,
    "start_time": "2022-02-24T16:15:51.582Z"
   },
   {
    "duration": 20,
    "start_time": "2022-02-24T16:15:51.633Z"
   },
   {
    "duration": 2,
    "start_time": "2022-02-24T16:15:51.656Z"
   },
   {
    "duration": 7,
    "start_time": "2022-02-24T16:15:51.660Z"
   },
   {
    "duration": 17,
    "start_time": "2022-02-24T16:15:51.668Z"
   },
   {
    "duration": 5,
    "start_time": "2022-02-24T16:15:51.687Z"
   },
   {
    "duration": 39,
    "start_time": "2022-02-24T16:15:51.693Z"
   },
   {
    "duration": 336,
    "start_time": "2022-02-24T16:15:51.734Z"
   },
   {
    "duration": 330,
    "start_time": "2022-02-24T16:15:52.071Z"
   },
   {
    "duration": 289,
    "start_time": "2022-02-24T16:15:52.403Z"
   },
   {
    "duration": 439,
    "start_time": "2022-02-24T16:15:52.695Z"
   },
   {
    "duration": 327,
    "start_time": "2022-02-24T16:15:53.136Z"
   },
   {
    "duration": 340,
    "start_time": "2022-02-24T16:15:53.465Z"
   },
   {
    "duration": 382,
    "start_time": "2022-02-24T16:15:53.807Z"
   },
   {
    "duration": 5,
    "start_time": "2022-02-24T16:15:54.191Z"
   },
   {
    "duration": 377,
    "start_time": "2022-02-24T16:15:54.198Z"
   },
   {
    "duration": 6,
    "start_time": "2022-02-24T16:15:54.577Z"
   },
   {
    "duration": 6,
    "start_time": "2022-02-24T16:15:54.584Z"
   },
   {
    "duration": 278,
    "start_time": "2022-02-24T16:15:54.591Z"
   },
   {
    "duration": 119,
    "start_time": "2022-02-24T16:15:54.871Z"
   },
   {
    "duration": 79,
    "start_time": "2022-02-24T16:15:54.992Z"
   },
   {
    "duration": -89902,
    "start_time": "2022-02-24T16:17:24.975Z"
   },
   {
    "duration": -89911,
    "start_time": "2022-02-24T16:17:24.985Z"
   },
   {
    "duration": -89935,
    "start_time": "2022-02-24T16:17:25.010Z"
   },
   {
    "duration": -89947,
    "start_time": "2022-02-24T16:17:25.023Z"
   },
   {
    "duration": -90000,
    "start_time": "2022-02-24T16:17:25.077Z"
   },
   {
    "duration": 72,
    "start_time": "2022-02-24T16:17:08.470Z"
   },
   {
    "duration": 56,
    "start_time": "2022-02-24T16:17:27.000Z"
   },
   {
    "duration": 58,
    "start_time": "2022-02-24T16:18:08.334Z"
   },
   {
    "duration": 57,
    "start_time": "2022-02-24T16:18:18.233Z"
   },
   {
    "duration": 74,
    "start_time": "2022-02-24T16:18:27.709Z"
   },
   {
    "duration": 63,
    "start_time": "2022-02-24T16:19:10.622Z"
   },
   {
    "duration": 11,
    "start_time": "2022-02-24T16:19:18.718Z"
   },
   {
    "duration": 9,
    "start_time": "2022-02-24T16:19:27.198Z"
   },
   {
    "duration": 9,
    "start_time": "2022-02-24T16:19:30.416Z"
   },
   {
    "duration": 498,
    "start_time": "2022-02-24T16:19:32.345Z"
   },
   {
    "duration": 8,
    "start_time": "2022-02-24T16:19:47.134Z"
   },
   {
    "duration": 60,
    "start_time": "2022-02-24T16:20:04.231Z"
   },
   {
    "duration": 14,
    "start_time": "2022-02-24T16:20:36.428Z"
   },
   {
    "duration": 62,
    "start_time": "2022-02-24T16:21:54.252Z"
   },
   {
    "duration": 1109,
    "start_time": "2022-02-24T16:23:15.169Z"
   },
   {
    "duration": 4,
    "start_time": "2022-02-24T16:23:16.280Z"
   },
   {
    "duration": 20,
    "start_time": "2022-02-24T16:23:16.285Z"
   },
   {
    "duration": 12,
    "start_time": "2022-02-24T16:23:16.306Z"
   },
   {
    "duration": 10,
    "start_time": "2022-02-24T16:23:16.331Z"
   },
   {
    "duration": 295,
    "start_time": "2022-02-24T16:23:16.343Z"
   },
   {
    "duration": 4,
    "start_time": "2022-02-24T16:23:16.640Z"
   },
   {
    "duration": 45,
    "start_time": "2022-02-24T16:23:16.647Z"
   },
   {
    "duration": 6,
    "start_time": "2022-02-24T16:23:16.694Z"
   },
   {
    "duration": 28,
    "start_time": "2022-02-24T16:23:16.702Z"
   },
   {
    "duration": 10,
    "start_time": "2022-02-24T16:23:16.732Z"
   },
   {
    "duration": 15,
    "start_time": "2022-02-24T16:23:16.744Z"
   },
   {
    "duration": 21,
    "start_time": "2022-02-24T16:23:16.760Z"
   },
   {
    "duration": 18,
    "start_time": "2022-02-24T16:23:16.783Z"
   },
   {
    "duration": 28,
    "start_time": "2022-02-24T16:23:16.802Z"
   },
   {
    "duration": 5,
    "start_time": "2022-02-24T16:23:16.832Z"
   },
   {
    "duration": 17,
    "start_time": "2022-02-24T16:23:16.838Z"
   },
   {
    "duration": 5,
    "start_time": "2022-02-24T16:23:16.857Z"
   },
   {
    "duration": 5,
    "start_time": "2022-02-24T16:23:16.864Z"
   },
   {
    "duration": 360,
    "start_time": "2022-02-24T16:23:16.870Z"
   },
   {
    "duration": 338,
    "start_time": "2022-02-24T16:23:17.231Z"
   },
   {
    "duration": 283,
    "start_time": "2022-02-24T16:23:17.571Z"
   },
   {
    "duration": 391,
    "start_time": "2022-02-24T16:23:17.857Z"
   },
   {
    "duration": 323,
    "start_time": "2022-02-24T16:23:18.250Z"
   },
   {
    "duration": 319,
    "start_time": "2022-02-24T16:23:18.575Z"
   },
   {
    "duration": 412,
    "start_time": "2022-02-24T16:23:18.895Z"
   },
   {
    "duration": 5,
    "start_time": "2022-02-24T16:23:19.309Z"
   },
   {
    "duration": 390,
    "start_time": "2022-02-24T16:23:19.316Z"
   },
   {
    "duration": 6,
    "start_time": "2022-02-24T16:23:19.708Z"
   },
   {
    "duration": 16,
    "start_time": "2022-02-24T16:23:19.715Z"
   },
   {
    "duration": 260,
    "start_time": "2022-02-24T16:23:19.733Z"
   },
   {
    "duration": 121,
    "start_time": "2022-02-24T16:23:19.995Z"
   },
   {
    "duration": 67,
    "start_time": "2022-02-24T16:23:20.118Z"
   },
   {
    "duration": -89904,
    "start_time": "2022-02-24T16:24:50.091Z"
   },
   {
    "duration": -89911,
    "start_time": "2022-02-24T16:24:50.099Z"
   },
   {
    "duration": -89918,
    "start_time": "2022-02-24T16:24:50.107Z"
   },
   {
    "duration": -89923,
    "start_time": "2022-02-24T16:24:50.113Z"
   },
   {
    "duration": -89928,
    "start_time": "2022-02-24T16:24:50.120Z"
   },
   {
    "duration": 269,
    "start_time": "2022-02-24T16:24:05.691Z"
   },
   {
    "duration": 13,
    "start_time": "2022-02-24T16:24:49.358Z"
   },
   {
    "duration": 11,
    "start_time": "2022-02-24T16:25:08.854Z"
   },
   {
    "duration": 10,
    "start_time": "2022-02-24T16:25:21.744Z"
   },
   {
    "duration": 10,
    "start_time": "2022-02-24T16:25:26.224Z"
   },
   {
    "duration": 9,
    "start_time": "2022-02-24T16:25:30.147Z"
   },
   {
    "duration": 7,
    "start_time": "2022-02-24T16:25:33.121Z"
   },
   {
    "duration": 15,
    "start_time": "2022-02-24T16:25:38.702Z"
   },
   {
    "duration": 11,
    "start_time": "2022-02-24T16:26:24.751Z"
   },
   {
    "duration": 1091,
    "start_time": "2022-02-24T16:26:41.290Z"
   },
   {
    "duration": 4,
    "start_time": "2022-02-24T16:26:42.384Z"
   },
   {
    "duration": 23,
    "start_time": "2022-02-24T16:26:42.390Z"
   },
   {
    "duration": 20,
    "start_time": "2022-02-24T16:26:42.415Z"
   },
   {
    "duration": 11,
    "start_time": "2022-02-24T16:26:42.437Z"
   },
   {
    "duration": 288,
    "start_time": "2022-02-24T16:26:42.450Z"
   },
   {
    "duration": 5,
    "start_time": "2022-02-24T16:26:42.740Z"
   },
   {
    "duration": 49,
    "start_time": "2022-02-24T16:26:42.747Z"
   },
   {
    "duration": 5,
    "start_time": "2022-02-24T16:26:42.799Z"
   },
   {
    "duration": 26,
    "start_time": "2022-02-24T16:26:42.805Z"
   },
   {
    "duration": 11,
    "start_time": "2022-02-24T16:26:42.832Z"
   },
   {
    "duration": 12,
    "start_time": "2022-02-24T16:26:42.845Z"
   },
   {
    "duration": 23,
    "start_time": "2022-02-24T16:26:42.859Z"
   },
   {
    "duration": 10,
    "start_time": "2022-02-24T16:26:42.884Z"
   },
   {
    "duration": 2,
    "start_time": "2022-02-24T16:26:42.896Z"
   },
   {
    "duration": 5,
    "start_time": "2022-02-24T16:26:42.931Z"
   },
   {
    "duration": 16,
    "start_time": "2022-02-24T16:26:42.937Z"
   },
   {
    "duration": 5,
    "start_time": "2022-02-24T16:26:42.955Z"
   },
   {
    "duration": 4,
    "start_time": "2022-02-24T16:26:42.961Z"
   },
   {
    "duration": 348,
    "start_time": "2022-02-24T16:26:42.967Z"
   },
   {
    "duration": 321,
    "start_time": "2022-02-24T16:26:43.317Z"
   },
   {
    "duration": 281,
    "start_time": "2022-02-24T16:26:43.639Z"
   },
   {
    "duration": 400,
    "start_time": "2022-02-24T16:26:43.923Z"
   },
   {
    "duration": 312,
    "start_time": "2022-02-24T16:26:44.325Z"
   },
   {
    "duration": 341,
    "start_time": "2022-02-24T16:26:44.639Z"
   },
   {
    "duration": 435,
    "start_time": "2022-02-24T16:26:44.981Z"
   },
   {
    "duration": 14,
    "start_time": "2022-02-24T16:26:45.417Z"
   },
   {
    "duration": 359,
    "start_time": "2022-02-24T16:26:45.432Z"
   },
   {
    "duration": 6,
    "start_time": "2022-02-24T16:26:45.793Z"
   },
   {
    "duration": 6,
    "start_time": "2022-02-24T16:26:45.801Z"
   },
   {
    "duration": 280,
    "start_time": "2022-02-24T16:26:45.809Z"
   },
   {
    "duration": 102,
    "start_time": "2022-02-24T16:26:46.091Z"
   },
   {
    "duration": 12,
    "start_time": "2022-02-24T16:26:46.194Z"
   },
   {
    "duration": 9,
    "start_time": "2022-02-24T16:26:46.208Z"
   },
   {
    "duration": 19,
    "start_time": "2022-02-24T16:26:46.218Z"
   },
   {
    "duration": 13,
    "start_time": "2022-02-24T16:26:46.238Z"
   },
   {
    "duration": 8,
    "start_time": "2022-02-24T16:26:46.252Z"
   },
   {
    "duration": 11,
    "start_time": "2022-02-24T16:26:46.262Z"
   },
   {
    "duration": 13,
    "start_time": "2022-02-24T16:27:50.987Z"
   },
   {
    "duration": 1691,
    "start_time": "2022-03-15T17:07:21.384Z"
   },
   {
    "duration": 5,
    "start_time": "2022-03-15T17:07:23.078Z"
   },
   {
    "duration": 95,
    "start_time": "2022-03-15T17:07:23.086Z"
   },
   {
    "duration": 4154,
    "start_time": "2022-03-15T17:07:23.184Z"
   },
   {
    "duration": -99,
    "start_time": "2022-03-15T17:07:27.441Z"
   },
   {
    "duration": -104,
    "start_time": "2022-03-15T17:07:27.448Z"
   },
   {
    "duration": -111,
    "start_time": "2022-03-15T17:07:27.456Z"
   },
   {
    "duration": -116,
    "start_time": "2022-03-15T17:07:27.463Z"
   },
   {
    "duration": -120,
    "start_time": "2022-03-15T17:07:27.469Z"
   },
   {
    "duration": -125,
    "start_time": "2022-03-15T17:07:27.477Z"
   },
   {
    "duration": -128,
    "start_time": "2022-03-15T17:07:27.482Z"
   },
   {
    "duration": -133,
    "start_time": "2022-03-15T17:07:27.489Z"
   },
   {
    "duration": -138,
    "start_time": "2022-03-15T17:07:27.496Z"
   },
   {
    "duration": -143,
    "start_time": "2022-03-15T17:07:27.503Z"
   },
   {
    "duration": -148,
    "start_time": "2022-03-15T17:07:27.510Z"
   },
   {
    "duration": -154,
    "start_time": "2022-03-15T17:07:27.518Z"
   },
   {
    "duration": -159,
    "start_time": "2022-03-15T17:07:27.526Z"
   },
   {
    "duration": -165,
    "start_time": "2022-03-15T17:07:27.533Z"
   },
   {
    "duration": -170,
    "start_time": "2022-03-15T17:07:27.539Z"
   },
   {
    "duration": -178,
    "start_time": "2022-03-15T17:07:27.549Z"
   },
   {
    "duration": -185,
    "start_time": "2022-03-15T17:07:27.560Z"
   },
   {
    "duration": -195,
    "start_time": "2022-03-15T17:07:27.572Z"
   },
   {
    "duration": -200,
    "start_time": "2022-03-15T17:07:27.580Z"
   },
   {
    "duration": -206,
    "start_time": "2022-03-15T17:07:27.588Z"
   },
   {
    "duration": -213,
    "start_time": "2022-03-15T17:07:27.597Z"
   },
   {
    "duration": -218,
    "start_time": "2022-03-15T17:07:27.604Z"
   },
   {
    "duration": -223,
    "start_time": "2022-03-15T17:07:27.611Z"
   },
   {
    "duration": -229,
    "start_time": "2022-03-15T17:07:27.619Z"
   },
   {
    "duration": -234,
    "start_time": "2022-03-15T17:07:27.627Z"
   },
   {
    "duration": -239,
    "start_time": "2022-03-15T17:07:27.634Z"
   },
   {
    "duration": -246,
    "start_time": "2022-03-15T17:07:27.642Z"
   },
   {
    "duration": -198,
    "start_time": "2022-03-15T17:07:27.649Z"
   },
   {
    "duration": -203,
    "start_time": "2022-03-15T17:07:27.656Z"
   },
   {
    "duration": -209,
    "start_time": "2022-03-15T17:07:27.664Z"
   },
   {
    "duration": -212,
    "start_time": "2022-03-15T17:07:27.669Z"
   },
   {
    "duration": -217,
    "start_time": "2022-03-15T17:07:27.676Z"
   },
   {
    "duration": -222,
    "start_time": "2022-03-15T17:07:27.683Z"
   },
   {
    "duration": -230,
    "start_time": "2022-03-15T17:07:27.692Z"
   },
   {
    "duration": -234,
    "start_time": "2022-03-15T17:07:27.698Z"
   },
   {
    "duration": 31,
    "start_time": "2022-03-15T17:07:50.063Z"
   },
   {
    "duration": 1965,
    "start_time": "2022-03-18T13:03:13.350Z"
   },
   {
    "duration": 5,
    "start_time": "2022-03-18T13:03:15.318Z"
   },
   {
    "duration": 105,
    "start_time": "2022-03-18T13:03:15.325Z"
   },
   {
    "duration": 2130,
    "start_time": "2022-03-18T13:03:15.432Z"
   },
   {
    "duration": 0,
    "start_time": "2022-03-18T13:03:17.565Z"
   },
   {
    "duration": 1,
    "start_time": "2022-03-18T13:03:17.567Z"
   },
   {
    "duration": 0,
    "start_time": "2022-03-18T13:03:17.569Z"
   },
   {
    "duration": 0,
    "start_time": "2022-03-18T13:03:17.571Z"
   },
   {
    "duration": 0,
    "start_time": "2022-03-18T13:03:17.573Z"
   },
   {
    "duration": 0,
    "start_time": "2022-03-18T13:03:17.578Z"
   },
   {
    "duration": 0,
    "start_time": "2022-03-18T13:03:17.580Z"
   },
   {
    "duration": 0,
    "start_time": "2022-03-18T13:03:17.582Z"
   },
   {
    "duration": 0,
    "start_time": "2022-03-18T13:03:17.585Z"
   },
   {
    "duration": 0,
    "start_time": "2022-03-18T13:03:17.587Z"
   },
   {
    "duration": 0,
    "start_time": "2022-03-18T13:03:17.590Z"
   },
   {
    "duration": 0,
    "start_time": "2022-03-18T13:03:17.593Z"
   },
   {
    "duration": 0,
    "start_time": "2022-03-18T13:03:17.594Z"
   },
   {
    "duration": 0,
    "start_time": "2022-03-18T13:03:17.596Z"
   },
   {
    "duration": 0,
    "start_time": "2022-03-18T13:03:17.597Z"
   },
   {
    "duration": 0,
    "start_time": "2022-03-18T13:03:17.598Z"
   },
   {
    "duration": 0,
    "start_time": "2022-03-18T13:03:17.600Z"
   },
   {
    "duration": 0,
    "start_time": "2022-03-18T13:03:17.601Z"
   },
   {
    "duration": 0,
    "start_time": "2022-03-18T13:03:17.602Z"
   },
   {
    "duration": 0,
    "start_time": "2022-03-18T13:03:17.604Z"
   },
   {
    "duration": 0,
    "start_time": "2022-03-18T13:03:17.605Z"
   },
   {
    "duration": 0,
    "start_time": "2022-03-18T13:03:17.606Z"
   },
   {
    "duration": 0,
    "start_time": "2022-03-18T13:03:17.608Z"
   },
   {
    "duration": 0,
    "start_time": "2022-03-18T13:03:17.610Z"
   },
   {
    "duration": 0,
    "start_time": "2022-03-18T13:03:17.612Z"
   },
   {
    "duration": 0,
    "start_time": "2022-03-18T13:03:17.613Z"
   },
   {
    "duration": 0,
    "start_time": "2022-03-18T13:03:17.678Z"
   },
   {
    "duration": 0,
    "start_time": "2022-03-18T13:03:17.684Z"
   },
   {
    "duration": 0,
    "start_time": "2022-03-18T13:03:17.686Z"
   },
   {
    "duration": 0,
    "start_time": "2022-03-18T13:03:17.688Z"
   },
   {
    "duration": 0,
    "start_time": "2022-03-18T13:03:17.690Z"
   },
   {
    "duration": 0,
    "start_time": "2022-03-18T13:03:17.691Z"
   },
   {
    "duration": 0,
    "start_time": "2022-03-18T13:03:17.693Z"
   },
   {
    "duration": 0,
    "start_time": "2022-03-18T13:03:17.694Z"
   },
   {
    "duration": 0,
    "start_time": "2022-03-18T13:03:17.695Z"
   },
   {
    "duration": 1553,
    "start_time": "2022-03-18T13:07:26.595Z"
   },
   {
    "duration": 5,
    "start_time": "2022-03-18T13:07:28.151Z"
   },
   {
    "duration": 50,
    "start_time": "2022-03-18T13:07:28.158Z"
   },
   {
    "duration": 21,
    "start_time": "2022-03-18T13:07:28.211Z"
   },
   {
    "duration": 17,
    "start_time": "2022-03-18T13:07:28.234Z"
   },
   {
    "duration": 101,
    "start_time": "2022-03-18T13:07:28.275Z"
   },
   {
    "duration": 9,
    "start_time": "2022-03-18T13:07:28.378Z"
   },
   {
    "duration": 64,
    "start_time": "2022-03-18T13:07:28.389Z"
   },
   {
    "duration": 20,
    "start_time": "2022-03-18T13:07:28.456Z"
   },
   {
    "duration": 45,
    "start_time": "2022-03-18T13:07:28.483Z"
   },
   {
    "duration": 16,
    "start_time": "2022-03-18T13:07:28.530Z"
   },
   {
    "duration": 22,
    "start_time": "2022-03-18T13:07:28.575Z"
   },
   {
    "duration": 39,
    "start_time": "2022-03-18T13:07:28.598Z"
   },
   {
    "duration": 45,
    "start_time": "2022-03-18T13:07:28.639Z"
   },
   {
    "duration": 22,
    "start_time": "2022-03-18T13:07:28.687Z"
   },
   {
    "duration": 11,
    "start_time": "2022-03-18T13:07:28.712Z"
   },
   {
    "duration": 7,
    "start_time": "2022-03-18T13:07:28.726Z"
   },
   {
    "duration": 56,
    "start_time": "2022-03-18T13:07:28.735Z"
   },
   {
    "duration": 8,
    "start_time": "2022-03-18T13:07:28.794Z"
   },
   {
    "duration": 8,
    "start_time": "2022-03-18T13:07:28.804Z"
   },
   {
    "duration": 550,
    "start_time": "2022-03-18T13:07:28.814Z"
   },
   {
    "duration": 374,
    "start_time": "2022-03-18T13:07:29.367Z"
   },
   {
    "duration": 162,
    "start_time": "2022-03-18T13:07:29.744Z"
   },
   {
    "duration": 410,
    "start_time": "2022-03-18T13:07:29.909Z"
   },
   {
    "duration": 532,
    "start_time": "2022-03-18T13:07:30.321Z"
   },
   {
    "duration": 0,
    "start_time": "2022-03-18T13:07:30.856Z"
   },
   {
    "duration": 0,
    "start_time": "2022-03-18T13:07:30.858Z"
   },
   {
    "duration": 0,
    "start_time": "2022-03-18T13:07:30.860Z"
   },
   {
    "duration": 0,
    "start_time": "2022-03-18T13:07:30.861Z"
   },
   {
    "duration": 0,
    "start_time": "2022-03-18T13:07:30.878Z"
   },
   {
    "duration": 0,
    "start_time": "2022-03-18T13:07:30.881Z"
   },
   {
    "duration": 0,
    "start_time": "2022-03-18T13:07:30.883Z"
   },
   {
    "duration": 1,
    "start_time": "2022-03-18T13:07:30.885Z"
   },
   {
    "duration": 0,
    "start_time": "2022-03-18T13:07:30.889Z"
   },
   {
    "duration": 0,
    "start_time": "2022-03-18T13:07:30.891Z"
   },
   {
    "duration": 0,
    "start_time": "2022-03-18T13:07:30.893Z"
   },
   {
    "duration": 0,
    "start_time": "2022-03-18T13:07:30.895Z"
   },
   {
    "duration": 0,
    "start_time": "2022-03-18T13:07:30.896Z"
   },
   {
    "duration": 0,
    "start_time": "2022-03-18T13:07:30.897Z"
   },
   {
    "duration": 1141,
    "start_time": "2022-05-26T16:57:52.445Z"
   },
   {
    "duration": 81,
    "start_time": "2022-05-26T16:57:53.588Z"
   },
   {
    "duration": 4,
    "start_time": "2022-05-26T16:57:53.670Z"
   },
   {
    "duration": 46,
    "start_time": "2022-05-26T16:57:53.676Z"
   },
   {
    "duration": 13,
    "start_time": "2022-05-26T16:57:53.724Z"
   },
   {
    "duration": 18,
    "start_time": "2022-05-26T16:57:53.738Z"
   },
   {
    "duration": 65,
    "start_time": "2022-05-26T16:57:53.757Z"
   },
   {
    "duration": 4,
    "start_time": "2022-05-26T16:57:53.824Z"
   },
   {
    "duration": 151,
    "start_time": "2022-05-26T16:57:53.829Z"
   },
   {
    "duration": 10,
    "start_time": "2022-05-26T16:57:53.982Z"
   },
   {
    "duration": 46,
    "start_time": "2022-05-26T16:57:53.993Z"
   },
   {
    "duration": 9,
    "start_time": "2022-05-26T16:57:54.041Z"
   },
   {
    "duration": 14,
    "start_time": "2022-05-26T16:57:54.052Z"
   },
   {
    "duration": 40,
    "start_time": "2022-05-26T16:57:54.068Z"
   },
   {
    "duration": 10,
    "start_time": "2022-05-26T16:57:54.110Z"
   },
   {
    "duration": 19,
    "start_time": "2022-05-26T16:57:54.122Z"
   },
   {
    "duration": 39,
    "start_time": "2022-05-26T16:57:54.143Z"
   },
   {
    "duration": 5,
    "start_time": "2022-05-26T16:57:54.183Z"
   },
   {
    "duration": 33,
    "start_time": "2022-05-26T16:57:54.189Z"
   },
   {
    "duration": 345,
    "start_time": "2022-05-26T16:57:54.223Z"
   },
   {
    "duration": 219,
    "start_time": "2022-05-26T16:57:54.569Z"
   },
   {
    "duration": 81,
    "start_time": "2022-05-26T16:57:54.789Z"
   },
   {
    "duration": 278,
    "start_time": "2022-05-26T16:57:54.871Z"
   },
   {
    "duration": 298,
    "start_time": "2022-05-26T16:57:55.151Z"
   },
   {
    "duration": 0,
    "start_time": "2022-05-26T16:57:55.451Z"
   },
   {
    "duration": 0,
    "start_time": "2022-05-26T16:57:55.453Z"
   },
   {
    "duration": 0,
    "start_time": "2022-05-26T16:57:55.454Z"
   },
   {
    "duration": 0,
    "start_time": "2022-05-26T16:57:55.455Z"
   },
   {
    "duration": 0,
    "start_time": "2022-05-26T16:57:55.459Z"
   },
   {
    "duration": 0,
    "start_time": "2022-05-26T16:57:55.460Z"
   },
   {
    "duration": 0,
    "start_time": "2022-05-26T16:57:55.461Z"
   },
   {
    "duration": 0,
    "start_time": "2022-05-26T16:57:55.462Z"
   },
   {
    "duration": 0,
    "start_time": "2022-05-26T16:57:55.463Z"
   },
   {
    "duration": 0,
    "start_time": "2022-05-26T16:57:55.464Z"
   },
   {
    "duration": 0,
    "start_time": "2022-05-26T16:57:55.465Z"
   },
   {
    "duration": 0,
    "start_time": "2022-05-26T16:57:55.466Z"
   },
   {
    "duration": 0,
    "start_time": "2022-05-26T16:57:55.467Z"
   },
   {
    "duration": 0,
    "start_time": "2022-05-26T16:57:55.468Z"
   },
   {
    "duration": 74,
    "start_time": "2022-05-26T16:59:03.566Z"
   },
   {
    "duration": 78,
    "start_time": "2022-05-26T16:59:15.606Z"
   },
   {
    "duration": 80,
    "start_time": "2022-05-26T16:59:25.461Z"
   },
   {
    "duration": 79,
    "start_time": "2022-05-26T17:00:28.898Z"
   },
   {
    "duration": 246,
    "start_time": "2022-05-26T17:03:17.826Z"
   },
   {
    "duration": 77,
    "start_time": "2022-05-26T17:04:16.579Z"
   },
   {
    "duration": 1048,
    "start_time": "2022-05-26T17:12:04.226Z"
   },
   {
    "duration": 36,
    "start_time": "2022-05-26T17:12:05.276Z"
   },
   {
    "duration": 4,
    "start_time": "2022-05-26T17:12:05.313Z"
   },
   {
    "duration": 60,
    "start_time": "2022-05-26T17:12:05.318Z"
   },
   {
    "duration": 19,
    "start_time": "2022-05-26T17:12:05.380Z"
   },
   {
    "duration": 19,
    "start_time": "2022-05-26T17:12:05.400Z"
   },
   {
    "duration": 77,
    "start_time": "2022-05-26T17:12:05.421Z"
   },
   {
    "duration": 3,
    "start_time": "2022-05-26T17:12:05.500Z"
   },
   {
    "duration": 90,
    "start_time": "2022-05-26T17:12:05.505Z"
   },
   {
    "duration": 9,
    "start_time": "2022-05-26T17:12:05.597Z"
   },
   {
    "duration": 41,
    "start_time": "2022-05-26T17:12:05.608Z"
   },
   {
    "duration": 10,
    "start_time": "2022-05-26T17:12:05.651Z"
   },
   {
    "duration": 36,
    "start_time": "2022-05-26T17:12:05.663Z"
   },
   {
    "duration": 27,
    "start_time": "2022-05-26T17:12:05.700Z"
   },
   {
    "duration": 16,
    "start_time": "2022-05-26T17:12:05.729Z"
   },
   {
    "duration": 27,
    "start_time": "2022-05-26T17:12:05.747Z"
   },
   {
    "duration": 41,
    "start_time": "2022-05-26T17:12:05.776Z"
   },
   {
    "duration": 16,
    "start_time": "2022-05-26T17:12:05.818Z"
   },
   {
    "duration": 16,
    "start_time": "2022-05-26T17:12:05.835Z"
   },
   {
    "duration": 351,
    "start_time": "2022-05-26T17:12:05.853Z"
   },
   {
    "duration": 5,
    "start_time": "2022-05-26T17:12:06.205Z"
   },
   {
    "duration": 0,
    "start_time": "2022-05-26T17:12:06.212Z"
   },
   {
    "duration": 0,
    "start_time": "2022-05-26T17:12:06.213Z"
   },
   {
    "duration": 0,
    "start_time": "2022-05-26T17:12:06.214Z"
   },
   {
    "duration": 0,
    "start_time": "2022-05-26T17:12:06.215Z"
   },
   {
    "duration": 0,
    "start_time": "2022-05-26T17:12:06.216Z"
   },
   {
    "duration": 0,
    "start_time": "2022-05-26T17:12:06.217Z"
   },
   {
    "duration": 0,
    "start_time": "2022-05-26T17:12:06.218Z"
   },
   {
    "duration": 0,
    "start_time": "2022-05-26T17:12:06.219Z"
   },
   {
    "duration": 0,
    "start_time": "2022-05-26T17:12:06.220Z"
   },
   {
    "duration": 0,
    "start_time": "2022-05-26T17:12:06.221Z"
   },
   {
    "duration": 0,
    "start_time": "2022-05-26T17:12:06.222Z"
   },
   {
    "duration": 0,
    "start_time": "2022-05-26T17:12:06.223Z"
   },
   {
    "duration": 0,
    "start_time": "2022-05-26T17:12:06.224Z"
   },
   {
    "duration": 0,
    "start_time": "2022-05-26T17:12:06.225Z"
   },
   {
    "duration": 0,
    "start_time": "2022-05-26T17:12:06.225Z"
   },
   {
    "duration": 0,
    "start_time": "2022-05-26T17:12:06.226Z"
   },
   {
    "duration": 0,
    "start_time": "2022-05-26T17:12:06.227Z"
   },
   {
    "duration": 1154,
    "start_time": "2022-05-26T17:12:24.446Z"
   },
   {
    "duration": 36,
    "start_time": "2022-05-26T17:12:25.602Z"
   },
   {
    "duration": 4,
    "start_time": "2022-05-26T17:12:25.639Z"
   },
   {
    "duration": 52,
    "start_time": "2022-05-26T17:12:25.644Z"
   },
   {
    "duration": 12,
    "start_time": "2022-05-26T17:12:25.699Z"
   },
   {
    "duration": 10,
    "start_time": "2022-05-26T17:12:25.713Z"
   },
   {
    "duration": 75,
    "start_time": "2022-05-26T17:12:25.725Z"
   },
   {
    "duration": 4,
    "start_time": "2022-05-26T17:12:25.802Z"
   },
   {
    "duration": 87,
    "start_time": "2022-05-26T17:12:25.808Z"
   },
   {
    "duration": 13,
    "start_time": "2022-05-26T17:12:25.898Z"
   },
   {
    "duration": 35,
    "start_time": "2022-05-26T17:12:25.913Z"
   },
   {
    "duration": 18,
    "start_time": "2022-05-26T17:12:25.950Z"
   },
   {
    "duration": 21,
    "start_time": "2022-05-26T17:12:25.970Z"
   },
   {
    "duration": 46,
    "start_time": "2022-05-26T17:12:25.993Z"
   },
   {
    "duration": 9,
    "start_time": "2022-05-26T17:12:26.041Z"
   },
   {
    "duration": 37,
    "start_time": "2022-05-26T17:12:26.051Z"
   },
   {
    "duration": 26,
    "start_time": "2022-05-26T17:12:26.090Z"
   },
   {
    "duration": 7,
    "start_time": "2022-05-26T17:12:26.117Z"
   },
   {
    "duration": 13,
    "start_time": "2022-05-26T17:12:26.126Z"
   },
   {
    "duration": 376,
    "start_time": "2022-05-26T17:12:26.140Z"
   },
   {
    "duration": 317,
    "start_time": "2022-05-26T17:12:26.518Z"
   },
   {
    "duration": 219,
    "start_time": "2022-05-26T17:12:26.837Z"
   },
   {
    "duration": 322,
    "start_time": "2022-05-26T17:12:27.058Z"
   },
   {
    "duration": 331,
    "start_time": "2022-05-26T17:12:27.381Z"
   },
   {
    "duration": 0,
    "start_time": "2022-05-26T17:12:27.714Z"
   },
   {
    "duration": 0,
    "start_time": "2022-05-26T17:12:27.715Z"
   },
   {
    "duration": 0,
    "start_time": "2022-05-26T17:12:27.716Z"
   },
   {
    "duration": 0,
    "start_time": "2022-05-26T17:12:27.717Z"
   },
   {
    "duration": 0,
    "start_time": "2022-05-26T17:12:27.719Z"
   },
   {
    "duration": 0,
    "start_time": "2022-05-26T17:12:27.720Z"
   },
   {
    "duration": 0,
    "start_time": "2022-05-26T17:12:27.721Z"
   },
   {
    "duration": 0,
    "start_time": "2022-05-26T17:12:27.723Z"
   },
   {
    "duration": 0,
    "start_time": "2022-05-26T17:12:27.724Z"
   },
   {
    "duration": 0,
    "start_time": "2022-05-26T17:12:27.725Z"
   },
   {
    "duration": 0,
    "start_time": "2022-05-26T17:12:27.726Z"
   },
   {
    "duration": 0,
    "start_time": "2022-05-26T17:12:27.727Z"
   },
   {
    "duration": 0,
    "start_time": "2022-05-26T17:12:27.728Z"
   },
   {
    "duration": 0,
    "start_time": "2022-05-26T17:12:27.729Z"
   },
   {
    "duration": 1139,
    "start_time": "2022-05-26T17:13:21.424Z"
   },
   {
    "duration": 40,
    "start_time": "2022-05-26T17:13:22.565Z"
   },
   {
    "duration": 3,
    "start_time": "2022-05-26T17:13:22.607Z"
   },
   {
    "duration": 33,
    "start_time": "2022-05-26T17:13:22.612Z"
   },
   {
    "duration": 17,
    "start_time": "2022-05-26T17:13:22.646Z"
   },
   {
    "duration": 15,
    "start_time": "2022-05-26T17:13:22.669Z"
   },
   {
    "duration": 57,
    "start_time": "2022-05-26T17:13:22.685Z"
   },
   {
    "duration": 4,
    "start_time": "2022-05-26T17:13:22.744Z"
   },
   {
    "duration": 73,
    "start_time": "2022-05-26T17:13:22.750Z"
   },
   {
    "duration": 10,
    "start_time": "2022-05-26T17:13:22.825Z"
   },
   {
    "duration": 36,
    "start_time": "2022-05-26T17:13:22.837Z"
   },
   {
    "duration": 10,
    "start_time": "2022-05-26T17:13:22.874Z"
   },
   {
    "duration": 13,
    "start_time": "2022-05-26T17:13:22.885Z"
   },
   {
    "duration": 23,
    "start_time": "2022-05-26T17:13:22.899Z"
   },
   {
    "duration": 9,
    "start_time": "2022-05-26T17:13:22.923Z"
   },
   {
    "duration": 33,
    "start_time": "2022-05-26T17:13:22.933Z"
   },
   {
    "duration": 26,
    "start_time": "2022-05-26T17:13:22.968Z"
   },
   {
    "duration": 6,
    "start_time": "2022-05-26T17:13:22.996Z"
   },
   {
    "duration": 9,
    "start_time": "2022-05-26T17:13:23.003Z"
   },
   {
    "duration": 354,
    "start_time": "2022-05-26T17:13:23.013Z"
   },
   {
    "duration": 322,
    "start_time": "2022-05-26T17:13:23.370Z"
   },
   {
    "duration": 211,
    "start_time": "2022-05-26T17:13:23.694Z"
   },
   {
    "duration": 267,
    "start_time": "2022-05-26T17:13:23.907Z"
   },
   {
    "duration": 205,
    "start_time": "2022-05-26T17:13:24.176Z"
   },
   {
    "duration": 264,
    "start_time": "2022-05-26T17:13:24.382Z"
   },
   {
    "duration": 258,
    "start_time": "2022-05-26T17:13:24.647Z"
   },
   {
    "duration": 4,
    "start_time": "2022-05-26T17:13:24.907Z"
   },
   {
    "duration": 161,
    "start_time": "2022-05-26T17:13:24.913Z"
   },
   {
    "duration": 5,
    "start_time": "2022-05-26T17:13:25.076Z"
   },
   {
    "duration": 10,
    "start_time": "2022-05-26T17:13:25.083Z"
   },
   {
    "duration": 214,
    "start_time": "2022-05-26T17:13:25.094Z"
   },
   {
    "duration": 134,
    "start_time": "2022-05-26T17:13:25.310Z"
   },
   {
    "duration": 39,
    "start_time": "2022-05-26T17:13:25.445Z"
   },
   {
    "duration": 9,
    "start_time": "2022-05-26T17:13:25.485Z"
   },
   {
    "duration": 7,
    "start_time": "2022-05-26T17:13:25.496Z"
   },
   {
    "duration": 9,
    "start_time": "2022-05-26T17:13:25.505Z"
   },
   {
    "duration": 47,
    "start_time": "2022-05-26T17:13:25.516Z"
   },
   {
    "duration": 14,
    "start_time": "2022-05-26T17:13:25.572Z"
   },
   {
    "duration": 1097,
    "start_time": "2022-05-26T17:18:22.190Z"
   },
   {
    "duration": 35,
    "start_time": "2022-05-26T17:18:23.289Z"
   },
   {
    "duration": 3,
    "start_time": "2022-05-26T17:18:23.326Z"
   },
   {
    "duration": 44,
    "start_time": "2022-05-26T17:18:23.331Z"
   },
   {
    "duration": 11,
    "start_time": "2022-05-26T17:18:23.377Z"
   },
   {
    "duration": 39,
    "start_time": "2022-05-26T17:18:23.390Z"
   },
   {
    "duration": 77,
    "start_time": "2022-05-26T17:18:23.431Z"
   },
   {
    "duration": 4,
    "start_time": "2022-05-26T17:18:23.510Z"
   },
   {
    "duration": 90,
    "start_time": "2022-05-26T17:18:23.516Z"
   },
   {
    "duration": 9,
    "start_time": "2022-05-26T17:18:23.609Z"
   },
   {
    "duration": 58,
    "start_time": "2022-05-26T17:18:23.619Z"
   },
   {
    "duration": 10,
    "start_time": "2022-05-26T17:18:23.678Z"
   },
   {
    "duration": 14,
    "start_time": "2022-05-26T17:18:23.690Z"
   },
   {
    "duration": 47,
    "start_time": "2022-05-26T17:18:23.706Z"
   },
   {
    "duration": 28,
    "start_time": "2022-05-26T17:18:23.754Z"
   },
   {
    "duration": 23,
    "start_time": "2022-05-26T17:18:23.784Z"
   },
   {
    "duration": 53,
    "start_time": "2022-05-26T17:18:23.808Z"
   },
   {
    "duration": 25,
    "start_time": "2022-05-26T17:18:23.863Z"
   },
   {
    "duration": 34,
    "start_time": "2022-05-26T17:18:23.890Z"
   },
   {
    "duration": 374,
    "start_time": "2022-05-26T17:18:23.926Z"
   },
   {
    "duration": 338,
    "start_time": "2022-05-26T17:18:24.302Z"
   },
   {
    "duration": 229,
    "start_time": "2022-05-26T17:18:24.642Z"
   },
   {
    "duration": 323,
    "start_time": "2022-05-26T17:18:24.874Z"
   },
   {
    "duration": 243,
    "start_time": "2022-05-26T17:18:25.199Z"
   },
   {
    "duration": 338,
    "start_time": "2022-05-26T17:18:25.444Z"
   },
   {
    "duration": 252,
    "start_time": "2022-05-26T17:18:25.783Z"
   },
   {
    "duration": 5,
    "start_time": "2022-05-26T17:18:26.037Z"
   },
   {
    "duration": 170,
    "start_time": "2022-05-26T17:18:26.046Z"
   },
   {
    "duration": 5,
    "start_time": "2022-05-26T17:18:26.218Z"
   },
   {
    "duration": 9,
    "start_time": "2022-05-26T17:18:26.224Z"
   },
   {
    "duration": 239,
    "start_time": "2022-05-26T17:18:26.234Z"
   },
   {
    "duration": 130,
    "start_time": "2022-05-26T17:18:26.475Z"
   },
   {
    "duration": 28,
    "start_time": "2022-05-26T17:18:26.607Z"
   },
   {
    "duration": 9,
    "start_time": "2022-05-26T17:18:26.636Z"
   },
   {
    "duration": 11,
    "start_time": "2022-05-26T17:18:26.660Z"
   },
   {
    "duration": 13,
    "start_time": "2022-05-26T17:18:26.674Z"
   },
   {
    "duration": 29,
    "start_time": "2022-05-26T17:18:26.688Z"
   },
   {
    "duration": 13,
    "start_time": "2022-05-26T17:18:26.718Z"
   },
   {
    "duration": 1047,
    "start_time": "2022-05-26T17:20:33.428Z"
   },
   {
    "duration": 36,
    "start_time": "2022-05-26T17:20:34.477Z"
   },
   {
    "duration": 4,
    "start_time": "2022-05-26T17:20:34.514Z"
   },
   {
    "duration": 60,
    "start_time": "2022-05-26T17:20:34.520Z"
   },
   {
    "duration": 19,
    "start_time": "2022-05-26T17:20:34.582Z"
   },
   {
    "duration": 30,
    "start_time": "2022-05-26T17:20:34.603Z"
   },
   {
    "duration": 62,
    "start_time": "2022-05-26T17:20:34.635Z"
   },
   {
    "duration": 5,
    "start_time": "2022-05-26T17:20:34.698Z"
   },
   {
    "duration": 78,
    "start_time": "2022-05-26T17:20:34.705Z"
   },
   {
    "duration": 9,
    "start_time": "2022-05-26T17:20:34.787Z"
   },
   {
    "duration": 32,
    "start_time": "2022-05-26T17:20:34.797Z"
   },
   {
    "duration": 10,
    "start_time": "2022-05-26T17:20:34.830Z"
   },
   {
    "duration": 33,
    "start_time": "2022-05-26T17:20:34.841Z"
   },
   {
    "duration": 36,
    "start_time": "2022-05-26T17:20:34.876Z"
   },
   {
    "duration": 13,
    "start_time": "2022-05-26T17:20:34.914Z"
   },
   {
    "duration": 16,
    "start_time": "2022-05-26T17:20:34.929Z"
   },
   {
    "duration": 29,
    "start_time": "2022-05-26T17:20:34.958Z"
   },
   {
    "duration": 8,
    "start_time": "2022-05-26T17:20:34.989Z"
   },
   {
    "duration": 5,
    "start_time": "2022-05-26T17:20:34.999Z"
   },
   {
    "duration": 375,
    "start_time": "2022-05-26T17:20:35.006Z"
   },
   {
    "duration": 331,
    "start_time": "2022-05-26T17:20:35.383Z"
   },
   {
    "duration": 238,
    "start_time": "2022-05-26T17:20:35.716Z"
   },
   {
    "duration": 394,
    "start_time": "2022-05-26T17:20:35.959Z"
   },
   {
    "duration": 226,
    "start_time": "2022-05-26T17:20:36.362Z"
   },
   {
    "duration": 284,
    "start_time": "2022-05-26T17:20:36.590Z"
   },
   {
    "duration": 293,
    "start_time": "2022-05-26T17:20:36.876Z"
   },
   {
    "duration": 6,
    "start_time": "2022-05-26T17:20:37.179Z"
   },
   {
    "duration": 159,
    "start_time": "2022-05-26T17:20:37.189Z"
   },
   {
    "duration": 5,
    "start_time": "2022-05-26T17:20:37.350Z"
   },
   {
    "duration": 22,
    "start_time": "2022-05-26T17:20:37.359Z"
   },
   {
    "duration": 227,
    "start_time": "2022-05-26T17:20:37.383Z"
   },
   {
    "duration": 169,
    "start_time": "2022-05-26T17:20:37.612Z"
   },
   {
    "duration": 37,
    "start_time": "2022-05-26T17:20:37.785Z"
   },
   {
    "duration": 14,
    "start_time": "2022-05-26T17:20:37.825Z"
   },
   {
    "duration": 13,
    "start_time": "2022-05-26T17:20:37.865Z"
   },
   {
    "duration": 23,
    "start_time": "2022-05-26T17:20:37.882Z"
   },
   {
    "duration": 35,
    "start_time": "2022-05-26T17:20:37.908Z"
   },
   {
    "duration": 22,
    "start_time": "2022-05-26T17:20:37.947Z"
   },
   {
    "duration": 36,
    "start_time": "2022-05-26T17:37:09.661Z"
   },
   {
    "duration": 1096,
    "start_time": "2022-05-26T17:37:36.273Z"
   },
   {
    "duration": 49,
    "start_time": "2022-05-26T17:37:37.371Z"
   },
   {
    "duration": 4,
    "start_time": "2022-05-26T17:37:37.421Z"
   },
   {
    "duration": 34,
    "start_time": "2022-05-26T17:37:37.426Z"
   },
   {
    "duration": 13,
    "start_time": "2022-05-26T17:37:37.462Z"
   },
   {
    "duration": 10,
    "start_time": "2022-05-26T17:37:37.476Z"
   },
   {
    "duration": 52,
    "start_time": "2022-05-26T17:37:37.487Z"
   },
   {
    "duration": 19,
    "start_time": "2022-05-26T17:37:37.541Z"
   },
   {
    "duration": 67,
    "start_time": "2022-05-26T17:37:37.562Z"
   },
   {
    "duration": 9,
    "start_time": "2022-05-26T17:37:37.631Z"
   },
   {
    "duration": 33,
    "start_time": "2022-05-26T17:37:37.642Z"
   },
   {
    "duration": 9,
    "start_time": "2022-05-26T17:37:37.676Z"
   },
   {
    "duration": 11,
    "start_time": "2022-05-26T17:37:37.687Z"
   },
   {
    "duration": 34,
    "start_time": "2022-05-26T17:37:37.701Z"
   },
   {
    "duration": 32,
    "start_time": "2022-05-26T17:37:37.737Z"
   },
   {
    "duration": 19,
    "start_time": "2022-05-26T17:37:37.771Z"
   },
   {
    "duration": 33,
    "start_time": "2022-05-26T17:37:37.792Z"
   },
   {
    "duration": 9,
    "start_time": "2022-05-26T17:37:37.826Z"
   },
   {
    "duration": 23,
    "start_time": "2022-05-26T17:37:37.836Z"
   },
   {
    "duration": 361,
    "start_time": "2022-05-26T17:37:37.861Z"
   },
   {
    "duration": 300,
    "start_time": "2022-05-26T17:37:38.224Z"
   },
   {
    "duration": 245,
    "start_time": "2022-05-26T17:37:38.525Z"
   },
   {
    "duration": 279,
    "start_time": "2022-05-26T17:37:38.772Z"
   },
   {
    "duration": 195,
    "start_time": "2022-05-26T17:37:39.053Z"
   },
   {
    "duration": 282,
    "start_time": "2022-05-26T17:37:39.249Z"
   },
   {
    "duration": 235,
    "start_time": "2022-05-26T17:37:39.533Z"
   },
   {
    "duration": 5,
    "start_time": "2022-05-26T17:37:39.770Z"
   },
   {
    "duration": 161,
    "start_time": "2022-05-26T17:37:39.778Z"
   },
   {
    "duration": 5,
    "start_time": "2022-05-26T17:37:39.940Z"
   },
   {
    "duration": 16,
    "start_time": "2022-05-26T17:37:39.946Z"
   },
   {
    "duration": 232,
    "start_time": "2022-05-26T17:37:39.963Z"
   },
   {
    "duration": 118,
    "start_time": "2022-05-26T17:37:40.197Z"
   },
   {
    "duration": 45,
    "start_time": "2022-05-26T17:37:40.317Z"
   },
   {
    "duration": 10,
    "start_time": "2022-05-26T17:37:40.363Z"
   },
   {
    "duration": 11,
    "start_time": "2022-05-26T17:37:40.375Z"
   },
   {
    "duration": 11,
    "start_time": "2022-05-26T17:37:40.387Z"
   },
   {
    "duration": 27,
    "start_time": "2022-05-26T17:37:40.399Z"
   },
   {
    "duration": 42,
    "start_time": "2022-05-26T17:37:40.428Z"
   },
   {
    "duration": 1053,
    "start_time": "2022-09-12T07:09:55.578Z"
   },
   {
    "duration": 74,
    "start_time": "2022-09-12T07:09:56.633Z"
   },
   {
    "duration": 4,
    "start_time": "2022-09-12T07:09:56.708Z"
   },
   {
    "duration": 30,
    "start_time": "2022-09-12T07:09:56.714Z"
   },
   {
    "duration": 10,
    "start_time": "2022-09-12T07:09:56.746Z"
   },
   {
    "duration": 12,
    "start_time": "2022-09-12T07:09:56.758Z"
   },
   {
    "duration": 66,
    "start_time": "2022-09-12T07:09:56.772Z"
   },
   {
    "duration": 4,
    "start_time": "2022-09-12T07:09:56.839Z"
   },
   {
    "duration": 159,
    "start_time": "2022-09-12T07:09:56.845Z"
   },
   {
    "duration": 9,
    "start_time": "2022-09-12T07:09:57.006Z"
   },
   {
    "duration": 30,
    "start_time": "2022-09-12T07:09:57.016Z"
   },
   {
    "duration": 8,
    "start_time": "2022-09-12T07:09:57.048Z"
   },
   {
    "duration": 16,
    "start_time": "2022-09-12T07:09:57.058Z"
   },
   {
    "duration": 32,
    "start_time": "2022-09-12T07:09:57.075Z"
   },
   {
    "duration": 9,
    "start_time": "2022-09-12T07:09:57.108Z"
   },
   {
    "duration": 25,
    "start_time": "2022-09-12T07:09:57.118Z"
   },
   {
    "duration": 40,
    "start_time": "2022-09-12T07:09:57.145Z"
   },
   {
    "duration": 6,
    "start_time": "2022-09-12T07:09:57.187Z"
   },
   {
    "duration": 11,
    "start_time": "2022-09-12T07:09:57.195Z"
   },
   {
    "duration": 311,
    "start_time": "2022-09-12T07:09:57.208Z"
   },
   {
    "duration": 288,
    "start_time": "2022-09-12T07:09:57.521Z"
   },
   {
    "duration": 217,
    "start_time": "2022-09-12T07:09:57.811Z"
   },
   {
    "duration": 283,
    "start_time": "2022-09-12T07:09:58.036Z"
   },
   {
    "duration": 184,
    "start_time": "2022-09-12T07:09:58.320Z"
   },
   {
    "duration": 295,
    "start_time": "2022-09-12T07:09:58.505Z"
   },
   {
    "duration": 235,
    "start_time": "2022-09-12T07:09:58.802Z"
   },
   {
    "duration": 5,
    "start_time": "2022-09-12T07:09:59.038Z"
   },
   {
    "duration": 150,
    "start_time": "2022-09-12T07:09:59.046Z"
   },
   {
    "duration": 6,
    "start_time": "2022-09-12T07:09:59.198Z"
   },
   {
    "duration": 8,
    "start_time": "2022-09-12T07:09:59.205Z"
   },
   {
    "duration": 291,
    "start_time": "2022-09-12T07:09:59.214Z"
   },
   {
    "duration": 112,
    "start_time": "2022-09-12T07:09:59.506Z"
   },
   {
    "duration": 32,
    "start_time": "2022-09-12T07:09:59.620Z"
   },
   {
    "duration": 10,
    "start_time": "2022-09-12T07:09:59.653Z"
   },
   {
    "duration": 38,
    "start_time": "2022-09-12T07:09:59.664Z"
   },
   {
    "duration": 55,
    "start_time": "2022-09-12T07:09:59.703Z"
   },
   {
    "duration": 34,
    "start_time": "2022-09-12T07:09:59.759Z"
   },
   {
    "duration": 15,
    "start_time": "2022-09-12T07:09:59.795Z"
   }
  ],
  "kernelspec": {
   "display_name": "Python 3 (ipykernel)",
   "language": "python",
   "name": "python3"
  },
  "language_info": {
   "codemirror_mode": {
    "name": "ipython",
    "version": 3
   },
   "file_extension": ".py",
   "mimetype": "text/x-python",
   "name": "python",
   "nbconvert_exporter": "python",
   "pygments_lexer": "ipython3",
   "version": "3.9.5"
  },
  "toc": {
   "base_numbering": 1,
   "nav_menu": {
    "height": "136px",
    "width": "365px"
   },
   "number_sections": true,
   "sideBar": true,
   "skip_h1_title": true,
   "title_cell": "Содержание",
   "title_sidebar": "Contents",
   "toc_cell": true,
   "toc_position": {
    "height": "calc(100% - 180px)",
    "left": "10px",
    "top": "150px",
    "width": "181.383px"
   },
   "toc_section_display": true,
   "toc_window_display": false
  }
 },
 "nbformat": 4,
 "nbformat_minor": 2
}
