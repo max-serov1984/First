{
 "cells": [
  {
   "cell_type": "markdown",
   "metadata": {},
   "source": [
    "# Исследование надёжности заёмщиков\n",
    "\n",
    "Заказчик — кредитный отдел банка. Нужно разобраться, влияет ли семейное положение и количество детей клиента на факт погашения кредита в срок. Входные данные от банка — статистика о платёжеспособности клиентов.\n",
    "\n",
    "Результаты исследования будут учтены при построении модели **кредитного скоринга** — специальной системы, которая оценивает способность потенциального заёмщика вернуть кредит банку."
   ]
  },
  {
   "cell_type": "markdown",
   "metadata": {},
   "source": [
    "## Шаг 1. Откройте файл с данными и изучите общую информацию"
   ]
  },
  {
   "cell_type": "code",
   "execution_count": 1,
   "metadata": {},
   "outputs": [
    {
     "name": "stdout",
     "output_type": "stream",
     "text": [
      "<class 'pandas.core.frame.DataFrame'>\n",
      "RangeIndex: 21525 entries, 0 to 21524\n",
      "Data columns (total 12 columns):\n",
      " #   Column            Non-Null Count  Dtype  \n",
      "---  ------            --------------  -----  \n",
      " 0   children          21525 non-null  int64  \n",
      " 1   days_employed     19351 non-null  float64\n",
      " 2   dob_years         21525 non-null  int64  \n",
      " 3   education         21525 non-null  object \n",
      " 4   education_id      21525 non-null  int64  \n",
      " 5   family_status     21525 non-null  object \n",
      " 6   family_status_id  21525 non-null  int64  \n",
      " 7   gender            21525 non-null  object \n",
      " 8   income_type       21525 non-null  object \n",
      " 9   debt              21525 non-null  int64  \n",
      " 10  total_income      19351 non-null  float64\n",
      " 11  purpose           21525 non-null  object \n",
      "dtypes: float64(2), int64(5), object(5)\n",
      "memory usage: 2.0+ MB\n"
     ]
    }
   ],
   "source": [
    "# просмотр общей информации\n",
    "import pandas as pd\n",
    "data = pd.read_csv('/datasets/data.csv')\n",
    "data.info()"
   ]
  },
  {
   "cell_type": "markdown",
   "metadata": {},
   "source": [
    "**Имеем 12 столбцов с названиями укладывающимися в нормы. Имеются пропуски в столбцах days_employed и total_incom. Данные в виде вещественных чисел, целых чисел и строк.**"
   ]
  },
  {
   "cell_type": "code",
   "execution_count": 2,
   "metadata": {
    "scrolled": true
   },
   "outputs": [
    {
     "data": {
      "text/html": [
       "<div>\n",
       "<style scoped>\n",
       "    .dataframe tbody tr th:only-of-type {\n",
       "        vertical-align: middle;\n",
       "    }\n",
       "\n",
       "    .dataframe tbody tr th {\n",
       "        vertical-align: top;\n",
       "    }\n",
       "\n",
       "    .dataframe thead th {\n",
       "        text-align: right;\n",
       "    }\n",
       "</style>\n",
       "<table border=\"1\" class=\"dataframe\">\n",
       "  <thead>\n",
       "    <tr style=\"text-align: right;\">\n",
       "      <th></th>\n",
       "      <th>children</th>\n",
       "      <th>days_employed</th>\n",
       "      <th>dob_years</th>\n",
       "      <th>education</th>\n",
       "      <th>education_id</th>\n",
       "      <th>family_status</th>\n",
       "      <th>family_status_id</th>\n",
       "      <th>gender</th>\n",
       "      <th>income_type</th>\n",
       "      <th>debt</th>\n",
       "      <th>total_income</th>\n",
       "      <th>purpose</th>\n",
       "    </tr>\n",
       "  </thead>\n",
       "  <tbody>\n",
       "    <tr>\n",
       "      <th>0</th>\n",
       "      <td>1</td>\n",
       "      <td>-8437.673028</td>\n",
       "      <td>42</td>\n",
       "      <td>высшее</td>\n",
       "      <td>0</td>\n",
       "      <td>женат / замужем</td>\n",
       "      <td>0</td>\n",
       "      <td>F</td>\n",
       "      <td>сотрудник</td>\n",
       "      <td>0</td>\n",
       "      <td>253875.639453</td>\n",
       "      <td>покупка жилья</td>\n",
       "    </tr>\n",
       "    <tr>\n",
       "      <th>1</th>\n",
       "      <td>1</td>\n",
       "      <td>-4024.803754</td>\n",
       "      <td>36</td>\n",
       "      <td>среднее</td>\n",
       "      <td>1</td>\n",
       "      <td>женат / замужем</td>\n",
       "      <td>0</td>\n",
       "      <td>F</td>\n",
       "      <td>сотрудник</td>\n",
       "      <td>0</td>\n",
       "      <td>112080.014102</td>\n",
       "      <td>приобретение автомобиля</td>\n",
       "    </tr>\n",
       "    <tr>\n",
       "      <th>2</th>\n",
       "      <td>0</td>\n",
       "      <td>-5623.422610</td>\n",
       "      <td>33</td>\n",
       "      <td>Среднее</td>\n",
       "      <td>1</td>\n",
       "      <td>женат / замужем</td>\n",
       "      <td>0</td>\n",
       "      <td>M</td>\n",
       "      <td>сотрудник</td>\n",
       "      <td>0</td>\n",
       "      <td>145885.952297</td>\n",
       "      <td>покупка жилья</td>\n",
       "    </tr>\n",
       "    <tr>\n",
       "      <th>3</th>\n",
       "      <td>3</td>\n",
       "      <td>-4124.747207</td>\n",
       "      <td>32</td>\n",
       "      <td>среднее</td>\n",
       "      <td>1</td>\n",
       "      <td>женат / замужем</td>\n",
       "      <td>0</td>\n",
       "      <td>M</td>\n",
       "      <td>сотрудник</td>\n",
       "      <td>0</td>\n",
       "      <td>267628.550329</td>\n",
       "      <td>дополнительное образование</td>\n",
       "    </tr>\n",
       "    <tr>\n",
       "      <th>4</th>\n",
       "      <td>0</td>\n",
       "      <td>340266.072047</td>\n",
       "      <td>53</td>\n",
       "      <td>среднее</td>\n",
       "      <td>1</td>\n",
       "      <td>гражданский брак</td>\n",
       "      <td>1</td>\n",
       "      <td>F</td>\n",
       "      <td>пенсионер</td>\n",
       "      <td>0</td>\n",
       "      <td>158616.077870</td>\n",
       "      <td>сыграть свадьбу</td>\n",
       "    </tr>\n",
       "    <tr>\n",
       "      <th>5</th>\n",
       "      <td>0</td>\n",
       "      <td>-926.185831</td>\n",
       "      <td>27</td>\n",
       "      <td>высшее</td>\n",
       "      <td>0</td>\n",
       "      <td>гражданский брак</td>\n",
       "      <td>1</td>\n",
       "      <td>M</td>\n",
       "      <td>компаньон</td>\n",
       "      <td>0</td>\n",
       "      <td>255763.565419</td>\n",
       "      <td>покупка жилья</td>\n",
       "    </tr>\n",
       "    <tr>\n",
       "      <th>6</th>\n",
       "      <td>0</td>\n",
       "      <td>-2879.202052</td>\n",
       "      <td>43</td>\n",
       "      <td>высшее</td>\n",
       "      <td>0</td>\n",
       "      <td>женат / замужем</td>\n",
       "      <td>0</td>\n",
       "      <td>F</td>\n",
       "      <td>компаньон</td>\n",
       "      <td>0</td>\n",
       "      <td>240525.971920</td>\n",
       "      <td>операции с жильем</td>\n",
       "    </tr>\n",
       "    <tr>\n",
       "      <th>7</th>\n",
       "      <td>0</td>\n",
       "      <td>-152.779569</td>\n",
       "      <td>50</td>\n",
       "      <td>СРЕДНЕЕ</td>\n",
       "      <td>1</td>\n",
       "      <td>женат / замужем</td>\n",
       "      <td>0</td>\n",
       "      <td>M</td>\n",
       "      <td>сотрудник</td>\n",
       "      <td>0</td>\n",
       "      <td>135823.934197</td>\n",
       "      <td>образование</td>\n",
       "    </tr>\n",
       "    <tr>\n",
       "      <th>8</th>\n",
       "      <td>2</td>\n",
       "      <td>-6929.865299</td>\n",
       "      <td>35</td>\n",
       "      <td>ВЫСШЕЕ</td>\n",
       "      <td>0</td>\n",
       "      <td>гражданский брак</td>\n",
       "      <td>1</td>\n",
       "      <td>F</td>\n",
       "      <td>сотрудник</td>\n",
       "      <td>0</td>\n",
       "      <td>95856.832424</td>\n",
       "      <td>на проведение свадьбы</td>\n",
       "    </tr>\n",
       "    <tr>\n",
       "      <th>9</th>\n",
       "      <td>0</td>\n",
       "      <td>-2188.756445</td>\n",
       "      <td>41</td>\n",
       "      <td>среднее</td>\n",
       "      <td>1</td>\n",
       "      <td>женат / замужем</td>\n",
       "      <td>0</td>\n",
       "      <td>M</td>\n",
       "      <td>сотрудник</td>\n",
       "      <td>0</td>\n",
       "      <td>144425.938277</td>\n",
       "      <td>покупка жилья для семьи</td>\n",
       "    </tr>\n",
       "  </tbody>\n",
       "</table>\n",
       "</div>"
      ],
      "text/plain": [
       "   children  days_employed  dob_years education  education_id  \\\n",
       "0         1   -8437.673028         42    высшее             0   \n",
       "1         1   -4024.803754         36   среднее             1   \n",
       "2         0   -5623.422610         33   Среднее             1   \n",
       "3         3   -4124.747207         32   среднее             1   \n",
       "4         0  340266.072047         53   среднее             1   \n",
       "5         0    -926.185831         27    высшее             0   \n",
       "6         0   -2879.202052         43    высшее             0   \n",
       "7         0    -152.779569         50   СРЕДНЕЕ             1   \n",
       "8         2   -6929.865299         35    ВЫСШЕЕ             0   \n",
       "9         0   -2188.756445         41   среднее             1   \n",
       "\n",
       "      family_status  family_status_id gender income_type  debt   total_income  \\\n",
       "0   женат / замужем                 0      F   сотрудник     0  253875.639453   \n",
       "1   женат / замужем                 0      F   сотрудник     0  112080.014102   \n",
       "2   женат / замужем                 0      M   сотрудник     0  145885.952297   \n",
       "3   женат / замужем                 0      M   сотрудник     0  267628.550329   \n",
       "4  гражданский брак                 1      F   пенсионер     0  158616.077870   \n",
       "5  гражданский брак                 1      M   компаньон     0  255763.565419   \n",
       "6   женат / замужем                 0      F   компаньон     0  240525.971920   \n",
       "7   женат / замужем                 0      M   сотрудник     0  135823.934197   \n",
       "8  гражданский брак                 1      F   сотрудник     0   95856.832424   \n",
       "9   женат / замужем                 0      M   сотрудник     0  144425.938277   \n",
       "\n",
       "                      purpose  \n",
       "0               покупка жилья  \n",
       "1     приобретение автомобиля  \n",
       "2               покупка жилья  \n",
       "3  дополнительное образование  \n",
       "4             сыграть свадьбу  \n",
       "5               покупка жилья  \n",
       "6           операции с жильем  \n",
       "7                 образование  \n",
       "8       на проведение свадьбы  \n",
       "9     покупка жилья для семьи  "
      ]
     },
     "execution_count": 2,
     "metadata": {},
     "output_type": "execute_result"
    }
   ],
   "source": [
    "# просмотр первых десяти строк\n",
    "data.head(10)"
   ]
  },
  {
   "cell_type": "code",
   "execution_count": 48,
   "metadata": {},
   "outputs": [],
   "source": [
    "#функция для вывода данных\n",
    "def datai(dataframes):\n",
    "    dataframes.columns = [x.lower().replace(' ', '_') for x in dataframes.columns.values]\n",
    "    for column in dataframes.columns:\n",
    "        print('====================')\n",
    "        print(column)\n",
    "        print(dataframes[column].value_counts())\n",
    "        print(dataframes[column].unique())\n",
    "    print(dataframes.info())\n",
    "    display(dataframes.head())"
   ]
  },
  {
   "cell_type": "code",
   "execution_count": 49,
   "metadata": {},
   "outputs": [
    {
     "name": "stdout",
     "output_type": "stream",
     "text": [
      "====================\n",
      "index\n",
      "0        1\n",
      "19779    1\n",
      "11583    1\n",
      "9534     1\n",
      "15677    1\n",
      "        ..\n",
      "19100    1\n",
      "4759     1\n",
      "6806     1\n",
      "661      1\n",
      "2047     1\n",
      "Name: index, Length: 21454, dtype: int64\n",
      "[    0     1     2 ... 21522 21523 21524]\n",
      "====================\n",
      "children\n",
      "0    14091\n",
      "1     4855\n",
      "2     2128\n",
      "3      330\n",
      "4       41\n",
      "5        9\n",
      "Name: children, dtype: int64\n",
      "[1 0 3 2 4 5]\n",
      "====================\n",
      "days_employed\n",
      "2194     2109\n",
      "133        16\n",
      "327        16\n",
      "438        15\n",
      "223        14\n",
      "         ... \n",
      "5211        1\n",
      "8247        1\n",
      "51          1\n",
      "16427       1\n",
      "2049        1\n",
      "Name: days_employed, Length: 7787, dtype: int64\n",
      "[ 8437  4024  5623 ...   960  9929 14330]\n",
      "====================\n",
      "dob_years\n",
      "35    616\n",
      "40    607\n",
      "41    605\n",
      "34    601\n",
      "38    597\n",
      "42    596\n",
      "33    581\n",
      "39    572\n",
      "31    559\n",
      "36    554\n",
      "44    545\n",
      "29    544\n",
      "30    537\n",
      "37    536\n",
      "48    536\n",
      "50    513\n",
      "43    512\n",
      "32    509\n",
      "49    508\n",
      "28    503\n",
      "45    496\n",
      "27    493\n",
      "52    484\n",
      "56    483\n",
      "47    477\n",
      "54    476\n",
      "46    472\n",
      "53    459\n",
      "57    456\n",
      "58    454\n",
      "51    446\n",
      "59    443\n",
      "55    443\n",
      "26    408\n",
      "60    374\n",
      "25    357\n",
      "61    354\n",
      "62    348\n",
      "63    269\n",
      "24    264\n",
      "64    260\n",
      "23    252\n",
      "65    193\n",
      "22    183\n",
      "66    182\n",
      "67    167\n",
      "21    111\n",
      "0     101\n",
      "68     99\n",
      "69     85\n",
      "70     65\n",
      "71     56\n",
      "20     51\n",
      "72     33\n",
      "19     14\n",
      "73      8\n",
      "74      6\n",
      "75      1\n",
      "Name: dob_years, dtype: int64\n",
      "[42 36 33 32 53 27 43 50 35 41 40 65 54 56 26 48 24 21 57 67 28 63 62 47\n",
      " 34 68 25 31 30 20 49 37 45 61 64 44 52 46 23 38 39 51  0 59 29 60 55 58\n",
      " 71 22 73 66 69 19 72 70 74 75]\n",
      "====================\n",
      "education\n",
      "среднее                15172\n",
      "высшее                  5250\n",
      "неоконченное высшее      744\n",
      "начальное                282\n",
      "ученая степень             6\n",
      "Name: education, dtype: int64\n",
      "['высшее' 'среднее' 'неоконченное высшее' 'начальное' 'ученая степень']\n",
      "====================\n",
      "education_id\n",
      "1    15172\n",
      "0     5250\n",
      "2      744\n",
      "3      282\n",
      "4        6\n",
      "Name: education_id, dtype: int64\n",
      "[0 1 2 3 4]\n",
      "====================\n",
      "family_status\n",
      "женат / замужем          12339\n",
      "гражданский брак          4151\n",
      "Не женат / не замужем     2810\n",
      "в разводе                 1195\n",
      "вдовец / вдова             959\n",
      "Name: family_status, dtype: int64\n",
      "['женат / замужем' 'гражданский брак' 'вдовец / вдова' 'в разводе'\n",
      " 'Не женат / не замужем']\n",
      "====================\n",
      "family_status_id\n",
      "0    12339\n",
      "1     4151\n",
      "4     2810\n",
      "3     1195\n",
      "2      959\n",
      "Name: family_status_id, dtype: int64\n",
      "[0 1 2 3 4]\n",
      "====================\n",
      "gender\n",
      "F    14175\n",
      "M     7279\n",
      "Name: gender, dtype: int64\n",
      "['F' 'M']\n",
      "====================\n",
      "income_type\n",
      "сотрудник          11084\n",
      "компаньон           5078\n",
      "пенсионер           3829\n",
      "госслужащий         1457\n",
      "предприниматель        2\n",
      "безработный            2\n",
      "в декрете              1\n",
      "студент                1\n",
      "Name: income_type, dtype: int64\n",
      "['сотрудник' 'пенсионер' 'компаньон' 'госслужащий' 'безработный'\n",
      " 'предприниматель' 'студент' 'в декрете']\n",
      "====================\n",
      "debt\n",
      "0    19713\n",
      "1     1741\n",
      "Name: debt, dtype: int64\n",
      "[0 1]\n",
      "====================\n",
      "total_income\n",
      "145017    2104\n",
      "139038       3\n",
      "104693       3\n",
      "172040       3\n",
      "144163       3\n",
      "          ... \n",
      "205761       1\n",
      "179138       1\n",
      "61724        1\n",
      "99269        1\n",
      "126820       1\n",
      "Name: total_income, Length: 18606, dtype: int64\n",
      "[253875 112080 145885 ...  89672 244093  82047]\n",
      "====================\n",
      "purpose\n",
      "свадьба                                   791\n",
      "на проведение свадьбы                     768\n",
      "сыграть свадьбу                           765\n",
      "операции с недвижимостью                  675\n",
      "покупка коммерческой недвижимости         661\n",
      "операции с жильем                         652\n",
      "покупка жилья для сдачи                   651\n",
      "операции с коммерческой недвижимостью     650\n",
      "покупка жилья                             646\n",
      "жилье                                     646\n",
      "покупка жилья для семьи                   638\n",
      "строительство собственной недвижимости    635\n",
      "недвижимость                              633\n",
      "операции со своей недвижимостью           627\n",
      "строительство жилой недвижимости          624\n",
      "покупка недвижимости                      621\n",
      "покупка своего жилья                      620\n",
      "строительство недвижимости                619\n",
      "ремонт жилью                              607\n",
      "покупка жилой недвижимости                606\n",
      "на покупку своего автомобиля              505\n",
      "заняться высшим образованием              496\n",
      "автомобиль                                494\n",
      "сделка с подержанным автомобилем          486\n",
      "автомобили                                478\n",
      "на покупку подержанного автомобиля        478\n",
      "свой автомобиль                           478\n",
      "на покупку автомобиля                     471\n",
      "приобретение автомобиля                   461\n",
      "дополнительное образование                460\n",
      "сделка с автомобилем                      455\n",
      "высшее образование                        452\n",
      "образование                               447\n",
      "получение дополнительного образования     446\n",
      "получение образования                     442\n",
      "профильное образование                    436\n",
      "получение высшего образования             426\n",
      "заняться образованием                     408\n",
      "Name: purpose, dtype: int64\n",
      "['покупка жилья' 'приобретение автомобиля' 'дополнительное образование'\n",
      " 'сыграть свадьбу' 'операции с жильем' 'образование'\n",
      " 'на проведение свадьбы' 'покупка жилья для семьи' 'покупка недвижимости'\n",
      " 'покупка коммерческой недвижимости' 'покупка жилой недвижимости'\n",
      " 'строительство собственной недвижимости' 'недвижимость'\n",
      " 'строительство недвижимости' 'на покупку подержанного автомобиля'\n",
      " 'на покупку своего автомобиля' 'операции с коммерческой недвижимостью'\n",
      " 'строительство жилой недвижимости' 'жилье'\n",
      " 'операции со своей недвижимостью' 'автомобили' 'заняться образованием'\n",
      " 'сделка с подержанным автомобилем' 'получение образования' 'автомобиль'\n",
      " 'свадьба' 'получение дополнительного образования' 'покупка своего жилья'\n",
      " 'операции с недвижимостью' 'получение высшего образования'\n",
      " 'свой автомобиль' 'сделка с автомобилем' 'профильное образование'\n",
      " 'высшее образование' 'покупка жилья для сдачи' 'на покупку автомобиля'\n",
      " 'ремонт жилью' 'заняться высшим образованием']\n",
      "====================\n",
      "category\n",
      "жилищный кредит           10811\n",
      "автокредит                 4306\n",
      "кредит на образование      4013\n",
      "потребительский кредит     2324\n",
      "Name: category, dtype: int64\n",
      "['жилищный кредит' 'автокредит' 'кредит на образование'\n",
      " 'потребительский кредит']\n",
      "====================\n",
      "income_group\n",
      "средний             7308\n",
      "ниже среднего       5504\n",
      "Зачем им кредит?    4269\n",
      "выше среднего       2508\n",
      "низкий              1865\n",
      "Name: income_group, dtype: int64\n",
      "['Зачем им кредит?' 'ниже среднего' 'средний' 'низкий' 'выше среднего']\n",
      "====================\n",
      "number_child\n",
      "бездетный          14091\n",
      "1-2 ребенка         6983\n",
      "3 и более детей      380\n",
      "Name: number_child, dtype: int64\n",
      "['1-2 ребенка' 'бездетный' '3 и более детей']\n",
      "<class 'pandas.core.frame.DataFrame'>\n",
      "RangeIndex: 21454 entries, 0 to 21453\n",
      "Data columns (total 16 columns):\n",
      " #   Column            Non-Null Count  Dtype \n",
      "---  ------            --------------  ----- \n",
      " 0   index             21454 non-null  int64 \n",
      " 1   children          21454 non-null  int64 \n",
      " 2   days_employed     21454 non-null  int64 \n",
      " 3   dob_years         21454 non-null  int64 \n",
      " 4   education         21454 non-null  object\n",
      " 5   education_id      21454 non-null  int64 \n",
      " 6   family_status     21454 non-null  object\n",
      " 7   family_status_id  21454 non-null  int64 \n",
      " 8   gender            21454 non-null  object\n",
      " 9   income_type       21454 non-null  object\n",
      " 10  debt              21454 non-null  int64 \n",
      " 11  total_income      21454 non-null  int64 \n",
      " 12  purpose           21454 non-null  object\n",
      " 13  category          21454 non-null  object\n",
      " 14  income_group      21454 non-null  object\n",
      " 15  number_child      21454 non-null  object\n",
      "dtypes: int64(8), object(8)\n",
      "memory usage: 2.6+ MB\n",
      "None\n"
     ]
    },
    {
     "data": {
      "text/html": [
       "<div>\n",
       "<style scoped>\n",
       "    .dataframe tbody tr th:only-of-type {\n",
       "        vertical-align: middle;\n",
       "    }\n",
       "\n",
       "    .dataframe tbody tr th {\n",
       "        vertical-align: top;\n",
       "    }\n",
       "\n",
       "    .dataframe thead th {\n",
       "        text-align: right;\n",
       "    }\n",
       "</style>\n",
       "<table border=\"1\" class=\"dataframe\">\n",
       "  <thead>\n",
       "    <tr style=\"text-align: right;\">\n",
       "      <th></th>\n",
       "      <th>index</th>\n",
       "      <th>children</th>\n",
       "      <th>days_employed</th>\n",
       "      <th>dob_years</th>\n",
       "      <th>education</th>\n",
       "      <th>education_id</th>\n",
       "      <th>family_status</th>\n",
       "      <th>family_status_id</th>\n",
       "      <th>gender</th>\n",
       "      <th>income_type</th>\n",
       "      <th>debt</th>\n",
       "      <th>total_income</th>\n",
       "      <th>purpose</th>\n",
       "      <th>category</th>\n",
       "      <th>income_group</th>\n",
       "      <th>number_child</th>\n",
       "    </tr>\n",
       "  </thead>\n",
       "  <tbody>\n",
       "    <tr>\n",
       "      <th>0</th>\n",
       "      <td>0</td>\n",
       "      <td>1</td>\n",
       "      <td>8437</td>\n",
       "      <td>42</td>\n",
       "      <td>высшее</td>\n",
       "      <td>0</td>\n",
       "      <td>женат / замужем</td>\n",
       "      <td>0</td>\n",
       "      <td>F</td>\n",
       "      <td>сотрудник</td>\n",
       "      <td>0</td>\n",
       "      <td>253875</td>\n",
       "      <td>покупка жилья</td>\n",
       "      <td>жилищный кредит</td>\n",
       "      <td>Зачем им кредит?</td>\n",
       "      <td>1-2 ребенка</td>\n",
       "    </tr>\n",
       "    <tr>\n",
       "      <th>1</th>\n",
       "      <td>1</td>\n",
       "      <td>1</td>\n",
       "      <td>4024</td>\n",
       "      <td>36</td>\n",
       "      <td>среднее</td>\n",
       "      <td>1</td>\n",
       "      <td>женат / замужем</td>\n",
       "      <td>0</td>\n",
       "      <td>F</td>\n",
       "      <td>сотрудник</td>\n",
       "      <td>0</td>\n",
       "      <td>112080</td>\n",
       "      <td>приобретение автомобиля</td>\n",
       "      <td>автокредит</td>\n",
       "      <td>ниже среднего</td>\n",
       "      <td>1-2 ребенка</td>\n",
       "    </tr>\n",
       "    <tr>\n",
       "      <th>2</th>\n",
       "      <td>2</td>\n",
       "      <td>0</td>\n",
       "      <td>5623</td>\n",
       "      <td>33</td>\n",
       "      <td>среднее</td>\n",
       "      <td>1</td>\n",
       "      <td>женат / замужем</td>\n",
       "      <td>0</td>\n",
       "      <td>M</td>\n",
       "      <td>сотрудник</td>\n",
       "      <td>0</td>\n",
       "      <td>145885</td>\n",
       "      <td>покупка жилья</td>\n",
       "      <td>жилищный кредит</td>\n",
       "      <td>средний</td>\n",
       "      <td>бездетный</td>\n",
       "    </tr>\n",
       "    <tr>\n",
       "      <th>3</th>\n",
       "      <td>3</td>\n",
       "      <td>3</td>\n",
       "      <td>4124</td>\n",
       "      <td>32</td>\n",
       "      <td>среднее</td>\n",
       "      <td>1</td>\n",
       "      <td>женат / замужем</td>\n",
       "      <td>0</td>\n",
       "      <td>M</td>\n",
       "      <td>сотрудник</td>\n",
       "      <td>0</td>\n",
       "      <td>267628</td>\n",
       "      <td>дополнительное образование</td>\n",
       "      <td>кредит на образование</td>\n",
       "      <td>Зачем им кредит?</td>\n",
       "      <td>3 и более детей</td>\n",
       "    </tr>\n",
       "    <tr>\n",
       "      <th>4</th>\n",
       "      <td>4</td>\n",
       "      <td>0</td>\n",
       "      <td>14177</td>\n",
       "      <td>53</td>\n",
       "      <td>среднее</td>\n",
       "      <td>1</td>\n",
       "      <td>гражданский брак</td>\n",
       "      <td>1</td>\n",
       "      <td>F</td>\n",
       "      <td>пенсионер</td>\n",
       "      <td>0</td>\n",
       "      <td>158616</td>\n",
       "      <td>сыграть свадьбу</td>\n",
       "      <td>потребительский кредит</td>\n",
       "      <td>средний</td>\n",
       "      <td>бездетный</td>\n",
       "    </tr>\n",
       "  </tbody>\n",
       "</table>\n",
       "</div>"
      ],
      "text/plain": [
       "   index  children  days_employed  dob_years education  education_id  \\\n",
       "0      0         1           8437         42    высшее             0   \n",
       "1      1         1           4024         36   среднее             1   \n",
       "2      2         0           5623         33   среднее             1   \n",
       "3      3         3           4124         32   среднее             1   \n",
       "4      4         0          14177         53   среднее             1   \n",
       "\n",
       "      family_status  family_status_id gender income_type  debt  total_income  \\\n",
       "0   женат / замужем                 0      F   сотрудник     0        253875   \n",
       "1   женат / замужем                 0      F   сотрудник     0        112080   \n",
       "2   женат / замужем                 0      M   сотрудник     0        145885   \n",
       "3   женат / замужем                 0      M   сотрудник     0        267628   \n",
       "4  гражданский брак                 1      F   пенсионер     0        158616   \n",
       "\n",
       "                      purpose                category      income_group  \\\n",
       "0               покупка жилья         жилищный кредит  Зачем им кредит?   \n",
       "1     приобретение автомобиля              автокредит     ниже среднего   \n",
       "2               покупка жилья         жилищный кредит           средний   \n",
       "3  дополнительное образование   кредит на образование  Зачем им кредит?   \n",
       "4             сыграть свадьбу  потребительский кредит           средний   \n",
       "\n",
       "      number_child  \n",
       "0      1-2 ребенка  \n",
       "1      1-2 ребенка  \n",
       "2        бездетный  \n",
       "3  3 и более детей  \n",
       "4        бездетный  "
      ]
     },
     "metadata": {},
     "output_type": "display_data"
    }
   ],
   "source": [
    "datai(data)"
   ]
  },
  {
   "cell_type": "code",
   "execution_count": 10,
   "metadata": {},
   "outputs": [],
   "source": [
    "# заменяем XNA на F\n",
    "data['gender'] = data['gender'].replace('XNA', 'F')"
   ]
  },
  {
   "cell_type": "code",
   "execution_count": 15,
   "metadata": {},
   "outputs": [],
   "source": [
    "# замена значения 20 на 2 в столбце children\n",
    "data['children'] = data['children'].replace(20, 2)"
   ]
  },
  {
   "cell_type": "code",
   "execution_count": 16,
   "metadata": {},
   "outputs": [
    {
     "data": {
      "text/plain": [
       "0    14149\n",
       "1     4865\n",
       "2     2131\n",
       "3      330\n",
       "4       41\n",
       "5        9\n",
       "Name: children, dtype: int64"
      ]
     },
     "execution_count": 16,
     "metadata": {},
     "output_type": "execute_result"
    }
   ],
   "source": [
    "# проверка замены\n",
    "data['children'].value_counts()"
   ]
  },
  {
   "cell_type": "markdown",
   "metadata": {},
   "source": [
    "В данных имеются пропуски (столбцы days_employed и total_income), дублирующие категории в столбце образование, ошибочные значения в столбце дети, данные в столбце по целям кредит необходимо укрупнить в категории, также произведена замена ошибки в выборе пола. С циклом не вышло. Пишет ошибку в четвертой строке."
   ]
  },
  {
   "cell_type": "markdown",
   "metadata": {},
   "source": [
    "##  Предобработка данных"
   ]
  },
  {
   "cell_type": "markdown",
   "metadata": {},
   "source": [
    "### Обработка пропусков"
   ]
  },
  {
   "cell_type": "code",
   "execution_count": 18,
   "metadata": {},
   "outputs": [],
   "source": [
    "# приводим значения стажа (столбец days_employed) в абсолютные значения и переводим значения выраженные в часах в дни\n",
    "data['days_employed'] = data['days_employed'].apply(abs)\n",
    "data.loc[data['days_employed'] >30000, 'days_employed'] = data.loc[data['days_employed'] >30000, 'days_employed'] / 24"
   ]
  },
  {
   "cell_type": "code",
   "execution_count": 19,
   "metadata": {},
   "outputs": [
    {
     "data": {
      "text/plain": [
       "('Пропуски до:', 2174)"
      ]
     },
     "execution_count": 19,
     "metadata": {},
     "output_type": "execute_result"
    }
   ],
   "source": [
    "# считаем количество пропусков в столбце days_employed\n",
    "'Пропуски до:', data['days_employed'].isna().sum()"
   ]
  },
  {
   "cell_type": "code",
   "execution_count": 20,
   "metadata": {},
   "outputs": [
    {
     "data": {
      "text/plain": [
       "('Пропуски после:', 0)"
      ]
     },
     "execution_count": 20,
     "metadata": {},
     "output_type": "execute_result"
    }
   ],
   "source": [
    "# заменяем пустые значения на медиану и проверяем все ли заполнено\n",
    "data.loc[data['days_employed'].isna(), 'days_employed'] = data['days_employed'].median()\n",
    "'Пропуски после:', data['days_employed'].isna().sum()"
   ]
  },
  {
   "cell_type": "code",
   "execution_count": 21,
   "metadata": {},
   "outputs": [
    {
     "data": {
      "text/plain": [
       "('Пропуски до:', 2174)"
      ]
     },
     "execution_count": 21,
     "metadata": {},
     "output_type": "execute_result"
    }
   ],
   "source": [
    "# по аналогии делаем со столбцом total_income\n",
    "'Пропуски до:', data['total_income'].isna().sum()"
   ]
  },
  {
   "cell_type": "code",
   "execution_count": 22,
   "metadata": {},
   "outputs": [
    {
     "data": {
      "text/plain": [
       "('Пропуски после:', 0)"
      ]
     },
     "execution_count": 22,
     "metadata": {},
     "output_type": "execute_result"
    }
   ],
   "source": [
    "data.loc[data['total_income'].isna(), 'total_income'] = data['total_income'].median()\n",
    "'Пропуски после:', data['total_income'].isna().sum()"
   ]
  },
  {
   "cell_type": "markdown",
   "metadata": {},
   "source": [
    "Пропуски в стаже и в заработке - это вероятно безработные люди и несовершеннолетние. Следовательно и заполнение медианой не совсем корректно... Быть может стоило заполнить нулями. Обработали пропуски заменив их на медиану столбцов total_income и days_employed"
   ]
  },
  {
   "cell_type": "markdown",
   "metadata": {},
   "source": [
    "### Замена типа данных"
   ]
  },
  {
   "cell_type": "code",
   "execution_count": 23,
   "metadata": {},
   "outputs": [],
   "source": [
    "# переводим значения в столбцах days_employed и total_income в целочисленный вид\n",
    "data['days_employed'] = data['days_employed'].astype(int)"
   ]
  },
  {
   "cell_type": "code",
   "execution_count": 24,
   "metadata": {},
   "outputs": [
    {
     "name": "stdout",
     "output_type": "stream",
     "text": [
      "<class 'pandas.core.frame.DataFrame'>\n",
      "RangeIndex: 21525 entries, 0 to 21524\n",
      "Data columns (total 12 columns):\n",
      " #   Column            Non-Null Count  Dtype  \n",
      "---  ------            --------------  -----  \n",
      " 0   children          21525 non-null  int64  \n",
      " 1   days_employed     21525 non-null  int64  \n",
      " 2   dob_years         21525 non-null  int64  \n",
      " 3   education         21525 non-null  object \n",
      " 4   education_id      21525 non-null  int64  \n",
      " 5   family_status     21525 non-null  object \n",
      " 6   family_status_id  21525 non-null  int64  \n",
      " 7   gender            21525 non-null  object \n",
      " 8   income_type       21525 non-null  object \n",
      " 9   debt              21525 non-null  int64  \n",
      " 10  total_income      21525 non-null  float64\n",
      " 11  purpose           21525 non-null  object \n",
      "dtypes: float64(1), int64(6), object(5)\n",
      "memory usage: 2.0+ MB\n"
     ]
    }
   ],
   "source": [
    "data.info()"
   ]
  },
  {
   "cell_type": "code",
   "execution_count": 25,
   "metadata": {},
   "outputs": [],
   "source": [
    "# переводим значения в столбцах days_employed и total_income в целочисленный вид\n",
    "data['total_income'] = data['total_income'].astype(int)"
   ]
  },
  {
   "cell_type": "code",
   "execution_count": 26,
   "metadata": {},
   "outputs": [
    {
     "name": "stdout",
     "output_type": "stream",
     "text": [
      "<class 'pandas.core.frame.DataFrame'>\n",
      "RangeIndex: 21525 entries, 0 to 21524\n",
      "Data columns (total 12 columns):\n",
      " #   Column            Non-Null Count  Dtype \n",
      "---  ------            --------------  ----- \n",
      " 0   children          21525 non-null  int64 \n",
      " 1   days_employed     21525 non-null  int64 \n",
      " 2   dob_years         21525 non-null  int64 \n",
      " 3   education         21525 non-null  object\n",
      " 4   education_id      21525 non-null  int64 \n",
      " 5   family_status     21525 non-null  object\n",
      " 6   family_status_id  21525 non-null  int64 \n",
      " 7   gender            21525 non-null  object\n",
      " 8   income_type       21525 non-null  object\n",
      " 9   debt              21525 non-null  int64 \n",
      " 10  total_income      21525 non-null  int64 \n",
      " 11  purpose           21525 non-null  object\n",
      "dtypes: int64(7), object(5)\n",
      "memory usage: 2.0+ MB\n"
     ]
    }
   ],
   "source": [
    "data.info()"
   ]
  },
  {
   "cell_type": "markdown",
   "metadata": {},
   "source": [
    "**Выбрал метод astype(), поскольку to_numeric() переводит из строковых значений в вещественные числа**"
   ]
  },
  {
   "cell_type": "markdown",
   "metadata": {},
   "source": [
    "### Обработка дубликатов"
   ]
  },
  {
   "cell_type": "code",
   "execution_count": 27,
   "metadata": {},
   "outputs": [
    {
     "data": {
      "text/plain": [
       "среднее                13750\n",
       "высшее                  4718\n",
       "СРЕДНЕЕ                  772\n",
       "Среднее                  711\n",
       "неоконченное высшее      668\n",
       "ВЫСШЕЕ                   274\n",
       "Высшее                   268\n",
       "начальное                250\n",
       "Неоконченное высшее       47\n",
       "НЕОКОНЧЕННОЕ ВЫСШЕЕ       29\n",
       "НАЧАЛЬНОЕ                 17\n",
       "Начальное                 15\n",
       "ученая степень             4\n",
       "Ученая степень             1\n",
       "УЧЕНАЯ СТЕПЕНЬ             1\n",
       "Name: education, dtype: int64"
      ]
     },
     "execution_count": 27,
     "metadata": {},
     "output_type": "execute_result"
    }
   ],
   "source": [
    "# смотрим количество уникальных значений столбца education\n",
    "data['education'].value_counts()"
   ]
  },
  {
   "cell_type": "code",
   "execution_count": 28,
   "metadata": {},
   "outputs": [
    {
     "data": {
      "text/plain": [
       "среднее                15233\n",
       "высшее                  5260\n",
       "неоконченное высшее      744\n",
       "начальное                282\n",
       "ученая степень             6\n",
       "Name: education, dtype: int64"
      ]
     },
     "execution_count": 28,
     "metadata": {},
     "output_type": "execute_result"
    }
   ],
   "source": [
    "# переводим названия категорий в строчный вид\n",
    "data['education'] = data['education'].str.lower()\n",
    "data['education'].value_counts()"
   ]
  },
  {
   "cell_type": "code",
   "execution_count": 29,
   "metadata": {
    "scrolled": true
   },
   "outputs": [
    {
     "data": {
      "text/html": [
       "<div>\n",
       "<style scoped>\n",
       "    .dataframe tbody tr th:only-of-type {\n",
       "        vertical-align: middle;\n",
       "    }\n",
       "\n",
       "    .dataframe tbody tr th {\n",
       "        vertical-align: top;\n",
       "    }\n",
       "\n",
       "    .dataframe thead th {\n",
       "        text-align: right;\n",
       "    }\n",
       "</style>\n",
       "<table border=\"1\" class=\"dataframe\">\n",
       "  <thead>\n",
       "    <tr style=\"text-align: right;\">\n",
       "      <th></th>\n",
       "      <th>children</th>\n",
       "      <th>days_employed</th>\n",
       "      <th>dob_years</th>\n",
       "      <th>education</th>\n",
       "      <th>education_id</th>\n",
       "      <th>family_status</th>\n",
       "      <th>family_status_id</th>\n",
       "      <th>gender</th>\n",
       "      <th>income_type</th>\n",
       "      <th>debt</th>\n",
       "      <th>total_income</th>\n",
       "      <th>purpose</th>\n",
       "    </tr>\n",
       "  </thead>\n",
       "  <tbody>\n",
       "    <tr>\n",
       "      <th>15892</th>\n",
       "      <td>0</td>\n",
       "      <td>2194</td>\n",
       "      <td>23</td>\n",
       "      <td>среднее</td>\n",
       "      <td>1</td>\n",
       "      <td>Не женат / не замужем</td>\n",
       "      <td>4</td>\n",
       "      <td>F</td>\n",
       "      <td>сотрудник</td>\n",
       "      <td>0</td>\n",
       "      <td>145017</td>\n",
       "      <td>сделка с подержанным автомобилем</td>\n",
       "    </tr>\n",
       "    <tr>\n",
       "      <th>19321</th>\n",
       "      <td>0</td>\n",
       "      <td>2194</td>\n",
       "      <td>23</td>\n",
       "      <td>среднее</td>\n",
       "      <td>1</td>\n",
       "      <td>Не женат / не замужем</td>\n",
       "      <td>4</td>\n",
       "      <td>F</td>\n",
       "      <td>сотрудник</td>\n",
       "      <td>0</td>\n",
       "      <td>145017</td>\n",
       "      <td>сделка с подержанным автомобилем</td>\n",
       "    </tr>\n",
       "    <tr>\n",
       "      <th>3452</th>\n",
       "      <td>0</td>\n",
       "      <td>2194</td>\n",
       "      <td>29</td>\n",
       "      <td>высшее</td>\n",
       "      <td>0</td>\n",
       "      <td>женат / замужем</td>\n",
       "      <td>0</td>\n",
       "      <td>M</td>\n",
       "      <td>сотрудник</td>\n",
       "      <td>0</td>\n",
       "      <td>145017</td>\n",
       "      <td>покупка жилой недвижимости</td>\n",
       "    </tr>\n",
       "    <tr>\n",
       "      <th>18328</th>\n",
       "      <td>0</td>\n",
       "      <td>2194</td>\n",
       "      <td>29</td>\n",
       "      <td>высшее</td>\n",
       "      <td>0</td>\n",
       "      <td>женат / замужем</td>\n",
       "      <td>0</td>\n",
       "      <td>M</td>\n",
       "      <td>сотрудник</td>\n",
       "      <td>0</td>\n",
       "      <td>145017</td>\n",
       "      <td>покупка жилой недвижимости</td>\n",
       "    </tr>\n",
       "    <tr>\n",
       "      <th>4216</th>\n",
       "      <td>0</td>\n",
       "      <td>2194</td>\n",
       "      <td>30</td>\n",
       "      <td>среднее</td>\n",
       "      <td>1</td>\n",
       "      <td>женат / замужем</td>\n",
       "      <td>0</td>\n",
       "      <td>M</td>\n",
       "      <td>сотрудник</td>\n",
       "      <td>0</td>\n",
       "      <td>145017</td>\n",
       "      <td>строительство жилой недвижимости</td>\n",
       "    </tr>\n",
       "    <tr>\n",
       "      <th>...</th>\n",
       "      <td>...</td>\n",
       "      <td>...</td>\n",
       "      <td>...</td>\n",
       "      <td>...</td>\n",
       "      <td>...</td>\n",
       "      <td>...</td>\n",
       "      <td>...</td>\n",
       "      <td>...</td>\n",
       "      <td>...</td>\n",
       "      <td>...</td>\n",
       "      <td>...</td>\n",
       "      <td>...</td>\n",
       "    </tr>\n",
       "    <tr>\n",
       "      <th>9238</th>\n",
       "      <td>2</td>\n",
       "      <td>2194</td>\n",
       "      <td>34</td>\n",
       "      <td>среднее</td>\n",
       "      <td>1</td>\n",
       "      <td>женат / замужем</td>\n",
       "      <td>0</td>\n",
       "      <td>F</td>\n",
       "      <td>сотрудник</td>\n",
       "      <td>0</td>\n",
       "      <td>145017</td>\n",
       "      <td>покупка жилья для сдачи</td>\n",
       "    </tr>\n",
       "    <tr>\n",
       "      <th>9013</th>\n",
       "      <td>2</td>\n",
       "      <td>2194</td>\n",
       "      <td>36</td>\n",
       "      <td>высшее</td>\n",
       "      <td>0</td>\n",
       "      <td>женат / замужем</td>\n",
       "      <td>0</td>\n",
       "      <td>F</td>\n",
       "      <td>госслужащий</td>\n",
       "      <td>0</td>\n",
       "      <td>145017</td>\n",
       "      <td>получение образования</td>\n",
       "    </tr>\n",
       "    <tr>\n",
       "      <th>14432</th>\n",
       "      <td>2</td>\n",
       "      <td>2194</td>\n",
       "      <td>36</td>\n",
       "      <td>высшее</td>\n",
       "      <td>0</td>\n",
       "      <td>женат / замужем</td>\n",
       "      <td>0</td>\n",
       "      <td>F</td>\n",
       "      <td>госслужащий</td>\n",
       "      <td>0</td>\n",
       "      <td>145017</td>\n",
       "      <td>получение образования</td>\n",
       "    </tr>\n",
       "    <tr>\n",
       "      <th>11033</th>\n",
       "      <td>2</td>\n",
       "      <td>2194</td>\n",
       "      <td>39</td>\n",
       "      <td>среднее</td>\n",
       "      <td>1</td>\n",
       "      <td>гражданский брак</td>\n",
       "      <td>1</td>\n",
       "      <td>F</td>\n",
       "      <td>сотрудник</td>\n",
       "      <td>0</td>\n",
       "      <td>145017</td>\n",
       "      <td>сыграть свадьбу</td>\n",
       "    </tr>\n",
       "    <tr>\n",
       "      <th>16902</th>\n",
       "      <td>2</td>\n",
       "      <td>2194</td>\n",
       "      <td>39</td>\n",
       "      <td>среднее</td>\n",
       "      <td>1</td>\n",
       "      <td>гражданский брак</td>\n",
       "      <td>1</td>\n",
       "      <td>F</td>\n",
       "      <td>сотрудник</td>\n",
       "      <td>0</td>\n",
       "      <td>145017</td>\n",
       "      <td>сыграть свадьбу</td>\n",
       "    </tr>\n",
       "  </tbody>\n",
       "</table>\n",
       "<p>137 rows × 12 columns</p>\n",
       "</div>"
      ],
      "text/plain": [
       "       children  days_employed  dob_years education  education_id  \\\n",
       "15892         0           2194         23   среднее             1   \n",
       "19321         0           2194         23   среднее             1   \n",
       "3452          0           2194         29    высшее             0   \n",
       "18328         0           2194         29    высшее             0   \n",
       "4216          0           2194         30   среднее             1   \n",
       "...         ...            ...        ...       ...           ...   \n",
       "9238          2           2194         34   среднее             1   \n",
       "9013          2           2194         36    высшее             0   \n",
       "14432         2           2194         36    высшее             0   \n",
       "11033         2           2194         39   среднее             1   \n",
       "16902         2           2194         39   среднее             1   \n",
       "\n",
       "               family_status  family_status_id gender  income_type  debt  \\\n",
       "15892  Не женат / не замужем                 4      F    сотрудник     0   \n",
       "19321  Не женат / не замужем                 4      F    сотрудник     0   \n",
       "3452         женат / замужем                 0      M    сотрудник     0   \n",
       "18328        женат / замужем                 0      M    сотрудник     0   \n",
       "4216         женат / замужем                 0      M    сотрудник     0   \n",
       "...                      ...               ...    ...          ...   ...   \n",
       "9238         женат / замужем                 0      F    сотрудник     0   \n",
       "9013         женат / замужем                 0      F  госслужащий     0   \n",
       "14432        женат / замужем                 0      F  госслужащий     0   \n",
       "11033       гражданский брак                 1      F    сотрудник     0   \n",
       "16902       гражданский брак                 1      F    сотрудник     0   \n",
       "\n",
       "       total_income                           purpose  \n",
       "15892        145017  сделка с подержанным автомобилем  \n",
       "19321        145017  сделка с подержанным автомобилем  \n",
       "3452         145017        покупка жилой недвижимости  \n",
       "18328        145017        покупка жилой недвижимости  \n",
       "4216         145017  строительство жилой недвижимости  \n",
       "...             ...                               ...  \n",
       "9238         145017           покупка жилья для сдачи  \n",
       "9013         145017             получение образования  \n",
       "14432        145017             получение образования  \n",
       "11033        145017                   сыграть свадьбу  \n",
       "16902        145017                   сыграть свадьбу  \n",
       "\n",
       "[137 rows x 12 columns]"
      ]
     },
     "execution_count": 29,
     "metadata": {},
     "output_type": "execute_result"
    }
   ],
   "source": [
    "# находим \"полнострочные\" дубликаты\n",
    "data[data.duplicated(keep = False)].sort_values(by = list(data.columns))"
   ]
  },
  {
   "cell_type": "code",
   "execution_count": 30,
   "metadata": {
    "scrolled": false
   },
   "outputs": [],
   "source": [
    "# удаляем дубликаты\n",
    "data = data.drop_duplicates().reset_index()"
   ]
  },
  {
   "cell_type": "code",
   "execution_count": 31,
   "metadata": {},
   "outputs": [
    {
     "data": {
      "text/plain": [
       "('Дубликаты после:', 0)"
      ]
     },
     "execution_count": 31,
     "metadata": {},
     "output_type": "execute_result"
    }
   ],
   "source": [
    "'Дубликаты после:', data.duplicated().sum()"
   ]
  },
  {
   "cell_type": "markdown",
   "metadata": {},
   "source": [
    "**дубликаты в образовании объединили путем перевода в строчный вид. Полные дубликаты строк удалили обычным способом drop_duplicates(). Причины появления дубликатов могут быть в объединении нескольких баз, человеческим фактором**"
   ]
  },
  {
   "cell_type": "markdown",
   "metadata": {},
   "source": [
    "### Лемматизация"
   ]
  },
  {
   "cell_type": "code",
   "execution_count": 32,
   "metadata": {},
   "outputs": [],
   "source": [
    "# импортируем pymystem3\n",
    "from pymystem3 import Mystem\n",
    "m = Mystem() \n",
    "# лемматизируем столбец цель кредита\n",
    "lemmas = m.lemmatize(' '.join(data['purpose']))"
   ]
  },
  {
   "cell_type": "code",
   "execution_count": 33,
   "metadata": {},
   "outputs": [
    {
     "data": {
      "text/plain": [
       "Counter({'покупка': 5897,\n",
       "         ' ': 55023,\n",
       "         'жилье': 4460,\n",
       "         'приобретение': 461,\n",
       "         'автомобиль': 4306,\n",
       "         'дополнительный': 906,\n",
       "         'образование': 4013,\n",
       "         'сыграть': 765,\n",
       "         'свадьба': 2324,\n",
       "         'операция': 2604,\n",
       "         'с': 2918,\n",
       "         'на': 2222,\n",
       "         'проведение': 768,\n",
       "         'для': 1289,\n",
       "         'семья': 638,\n",
       "         'недвижимость': 6351,\n",
       "         'коммерческий': 1311,\n",
       "         'жилой': 1230,\n",
       "         'строительство': 1878,\n",
       "         'собственный': 635,\n",
       "         'подержать': 853,\n",
       "         'свой': 2230,\n",
       "         'со': 627,\n",
       "         'заниматься': 904,\n",
       "         'сделка': 941,\n",
       "         'получение': 1314,\n",
       "         'высокий': 1374,\n",
       "         'подержанный': 111,\n",
       "         'профильный': 436,\n",
       "         'сдача': 651,\n",
       "         'ремонт': 607,\n",
       "         '\\n': 1})"
      ]
     },
     "execution_count": 33,
     "metadata": {},
     "output_type": "execute_result"
    }
   ],
   "source": [
    "# подсчитываем количество упоминаний слов в заявленных целях на кредит\n",
    "from collections import Counter\n",
    "Counter(lemmas)"
   ]
  },
  {
   "cell_type": "code",
   "execution_count": 34,
   "metadata": {},
   "outputs": [],
   "source": [
    "# объединяем похожие цели в категории\n",
    "# создаем список категорий\n",
    "category = ['жилищный кредит', 'автокредит', 'кредит на образование', 'потребительский кредит']\n",
    "# пишем функцию которая возвращает категорию по значению purpose\n",
    "def loans(categories):\n",
    "    lem = m.lemmatize(categories)\n",
    "    if 'жилье' in lem:\n",
    "        return 'жилищный кредит'\n",
    "    if 'недвижимость' in lem:\n",
    "        return 'жилищный кредит'\n",
    "    if 'автомобиль' in lem:\n",
    "        return 'автокредит'\n",
    "    if 'образование' in lem:\n",
    "        return 'кредит на образование'\n",
    "    return 'потребительский кредит'\n",
    "# создаем новый столбец category \n",
    "data['category'] = data['purpose'].apply(loans)"
   ]
  },
  {
   "cell_type": "code",
   "execution_count": 35,
   "metadata": {
    "scrolled": true
   },
   "outputs": [
    {
     "data": {
      "text/html": [
       "<div>\n",
       "<style scoped>\n",
       "    .dataframe tbody tr th:only-of-type {\n",
       "        vertical-align: middle;\n",
       "    }\n",
       "\n",
       "    .dataframe tbody tr th {\n",
       "        vertical-align: top;\n",
       "    }\n",
       "\n",
       "    .dataframe thead th {\n",
       "        text-align: right;\n",
       "    }\n",
       "</style>\n",
       "<table border=\"1\" class=\"dataframe\">\n",
       "  <thead>\n",
       "    <tr style=\"text-align: right;\">\n",
       "      <th></th>\n",
       "      <th>index</th>\n",
       "      <th>children</th>\n",
       "      <th>days_employed</th>\n",
       "      <th>dob_years</th>\n",
       "      <th>education</th>\n",
       "      <th>education_id</th>\n",
       "      <th>family_status</th>\n",
       "      <th>family_status_id</th>\n",
       "      <th>gender</th>\n",
       "      <th>income_type</th>\n",
       "      <th>debt</th>\n",
       "      <th>total_income</th>\n",
       "      <th>purpose</th>\n",
       "      <th>category</th>\n",
       "    </tr>\n",
       "  </thead>\n",
       "  <tbody>\n",
       "    <tr>\n",
       "      <th>0</th>\n",
       "      <td>0</td>\n",
       "      <td>1</td>\n",
       "      <td>8437</td>\n",
       "      <td>42</td>\n",
       "      <td>высшее</td>\n",
       "      <td>0</td>\n",
       "      <td>женат / замужем</td>\n",
       "      <td>0</td>\n",
       "      <td>F</td>\n",
       "      <td>сотрудник</td>\n",
       "      <td>0</td>\n",
       "      <td>253875</td>\n",
       "      <td>покупка жилья</td>\n",
       "      <td>жилищный кредит</td>\n",
       "    </tr>\n",
       "    <tr>\n",
       "      <th>1</th>\n",
       "      <td>1</td>\n",
       "      <td>1</td>\n",
       "      <td>4024</td>\n",
       "      <td>36</td>\n",
       "      <td>среднее</td>\n",
       "      <td>1</td>\n",
       "      <td>женат / замужем</td>\n",
       "      <td>0</td>\n",
       "      <td>F</td>\n",
       "      <td>сотрудник</td>\n",
       "      <td>0</td>\n",
       "      <td>112080</td>\n",
       "      <td>приобретение автомобиля</td>\n",
       "      <td>автокредит</td>\n",
       "    </tr>\n",
       "    <tr>\n",
       "      <th>2</th>\n",
       "      <td>2</td>\n",
       "      <td>0</td>\n",
       "      <td>5623</td>\n",
       "      <td>33</td>\n",
       "      <td>среднее</td>\n",
       "      <td>1</td>\n",
       "      <td>женат / замужем</td>\n",
       "      <td>0</td>\n",
       "      <td>M</td>\n",
       "      <td>сотрудник</td>\n",
       "      <td>0</td>\n",
       "      <td>145885</td>\n",
       "      <td>покупка жилья</td>\n",
       "      <td>жилищный кредит</td>\n",
       "    </tr>\n",
       "    <tr>\n",
       "      <th>3</th>\n",
       "      <td>3</td>\n",
       "      <td>3</td>\n",
       "      <td>4124</td>\n",
       "      <td>32</td>\n",
       "      <td>среднее</td>\n",
       "      <td>1</td>\n",
       "      <td>женат / замужем</td>\n",
       "      <td>0</td>\n",
       "      <td>M</td>\n",
       "      <td>сотрудник</td>\n",
       "      <td>0</td>\n",
       "      <td>267628</td>\n",
       "      <td>дополнительное образование</td>\n",
       "      <td>кредит на образование</td>\n",
       "    </tr>\n",
       "    <tr>\n",
       "      <th>4</th>\n",
       "      <td>4</td>\n",
       "      <td>0</td>\n",
       "      <td>14177</td>\n",
       "      <td>53</td>\n",
       "      <td>среднее</td>\n",
       "      <td>1</td>\n",
       "      <td>гражданский брак</td>\n",
       "      <td>1</td>\n",
       "      <td>F</td>\n",
       "      <td>пенсионер</td>\n",
       "      <td>0</td>\n",
       "      <td>158616</td>\n",
       "      <td>сыграть свадьбу</td>\n",
       "      <td>потребительский кредит</td>\n",
       "    </tr>\n",
       "    <tr>\n",
       "      <th>5</th>\n",
       "      <td>5</td>\n",
       "      <td>0</td>\n",
       "      <td>926</td>\n",
       "      <td>27</td>\n",
       "      <td>высшее</td>\n",
       "      <td>0</td>\n",
       "      <td>гражданский брак</td>\n",
       "      <td>1</td>\n",
       "      <td>M</td>\n",
       "      <td>компаньон</td>\n",
       "      <td>0</td>\n",
       "      <td>255763</td>\n",
       "      <td>покупка жилья</td>\n",
       "      <td>жилищный кредит</td>\n",
       "    </tr>\n",
       "    <tr>\n",
       "      <th>6</th>\n",
       "      <td>6</td>\n",
       "      <td>0</td>\n",
       "      <td>2879</td>\n",
       "      <td>43</td>\n",
       "      <td>высшее</td>\n",
       "      <td>0</td>\n",
       "      <td>женат / замужем</td>\n",
       "      <td>0</td>\n",
       "      <td>F</td>\n",
       "      <td>компаньон</td>\n",
       "      <td>0</td>\n",
       "      <td>240525</td>\n",
       "      <td>операции с жильем</td>\n",
       "      <td>жилищный кредит</td>\n",
       "    </tr>\n",
       "    <tr>\n",
       "      <th>7</th>\n",
       "      <td>7</td>\n",
       "      <td>0</td>\n",
       "      <td>152</td>\n",
       "      <td>50</td>\n",
       "      <td>среднее</td>\n",
       "      <td>1</td>\n",
       "      <td>женат / замужем</td>\n",
       "      <td>0</td>\n",
       "      <td>M</td>\n",
       "      <td>сотрудник</td>\n",
       "      <td>0</td>\n",
       "      <td>135823</td>\n",
       "      <td>образование</td>\n",
       "      <td>кредит на образование</td>\n",
       "    </tr>\n",
       "    <tr>\n",
       "      <th>8</th>\n",
       "      <td>8</td>\n",
       "      <td>2</td>\n",
       "      <td>6929</td>\n",
       "      <td>35</td>\n",
       "      <td>высшее</td>\n",
       "      <td>0</td>\n",
       "      <td>гражданский брак</td>\n",
       "      <td>1</td>\n",
       "      <td>F</td>\n",
       "      <td>сотрудник</td>\n",
       "      <td>0</td>\n",
       "      <td>95856</td>\n",
       "      <td>на проведение свадьбы</td>\n",
       "      <td>потребительский кредит</td>\n",
       "    </tr>\n",
       "    <tr>\n",
       "      <th>9</th>\n",
       "      <td>9</td>\n",
       "      <td>0</td>\n",
       "      <td>2188</td>\n",
       "      <td>41</td>\n",
       "      <td>среднее</td>\n",
       "      <td>1</td>\n",
       "      <td>женат / замужем</td>\n",
       "      <td>0</td>\n",
       "      <td>M</td>\n",
       "      <td>сотрудник</td>\n",
       "      <td>0</td>\n",
       "      <td>144425</td>\n",
       "      <td>покупка жилья для семьи</td>\n",
       "      <td>жилищный кредит</td>\n",
       "    </tr>\n",
       "  </tbody>\n",
       "</table>\n",
       "</div>"
      ],
      "text/plain": [
       "   index  children  days_employed  dob_years education  education_id  \\\n",
       "0      0         1           8437         42    высшее             0   \n",
       "1      1         1           4024         36   среднее             1   \n",
       "2      2         0           5623         33   среднее             1   \n",
       "3      3         3           4124         32   среднее             1   \n",
       "4      4         0          14177         53   среднее             1   \n",
       "5      5         0            926         27    высшее             0   \n",
       "6      6         0           2879         43    высшее             0   \n",
       "7      7         0            152         50   среднее             1   \n",
       "8      8         2           6929         35    высшее             0   \n",
       "9      9         0           2188         41   среднее             1   \n",
       "\n",
       "      family_status  family_status_id gender income_type  debt  total_income  \\\n",
       "0   женат / замужем                 0      F   сотрудник     0        253875   \n",
       "1   женат / замужем                 0      F   сотрудник     0        112080   \n",
       "2   женат / замужем                 0      M   сотрудник     0        145885   \n",
       "3   женат / замужем                 0      M   сотрудник     0        267628   \n",
       "4  гражданский брак                 1      F   пенсионер     0        158616   \n",
       "5  гражданский брак                 1      M   компаньон     0        255763   \n",
       "6   женат / замужем                 0      F   компаньон     0        240525   \n",
       "7   женат / замужем                 0      M   сотрудник     0        135823   \n",
       "8  гражданский брак                 1      F   сотрудник     0         95856   \n",
       "9   женат / замужем                 0      M   сотрудник     0        144425   \n",
       "\n",
       "                      purpose                category  \n",
       "0               покупка жилья         жилищный кредит  \n",
       "1     приобретение автомобиля              автокредит  \n",
       "2               покупка жилья         жилищный кредит  \n",
       "3  дополнительное образование   кредит на образование  \n",
       "4             сыграть свадьбу  потребительский кредит  \n",
       "5               покупка жилья         жилищный кредит  \n",
       "6           операции с жильем         жилищный кредит  \n",
       "7                 образование   кредит на образование  \n",
       "8       на проведение свадьбы  потребительский кредит  \n",
       "9     покупка жилья для семьи         жилищный кредит  "
      ]
     },
     "execution_count": 35,
     "metadata": {},
     "output_type": "execute_result"
    }
   ],
   "source": [
    "# выводим результат\n",
    "data.head(10)"
   ]
  },
  {
   "cell_type": "code",
   "execution_count": 36,
   "metadata": {},
   "outputs": [
    {
     "data": {
      "text/plain": [
       "21454"
      ]
     },
     "execution_count": 36,
     "metadata": {},
     "output_type": "execute_result"
    }
   ],
   "source": [
    "data['category'].count()"
   ]
  },
  {
   "cell_type": "markdown",
   "metadata": {},
   "source": [
    "**Данные лемматизированы, объединены в понятные группы по целям кредита. Большая часть кредитов взята на жилье и недвижимость.**"
   ]
  },
  {
   "cell_type": "markdown",
   "metadata": {},
   "source": [
    "### Категоризация данных"
   ]
  },
  {
   "cell_type": "code",
   "execution_count": 37,
   "metadata": {},
   "outputs": [
    {
     "data": {
      "text/html": [
       "<div>\n",
       "<style scoped>\n",
       "    .dataframe tbody tr th:only-of-type {\n",
       "        vertical-align: middle;\n",
       "    }\n",
       "\n",
       "    .dataframe tbody tr th {\n",
       "        vertical-align: top;\n",
       "    }\n",
       "\n",
       "    .dataframe thead th {\n",
       "        text-align: right;\n",
       "    }\n",
       "</style>\n",
       "<table border=\"1\" class=\"dataframe\">\n",
       "  <thead>\n",
       "    <tr style=\"text-align: right;\">\n",
       "      <th></th>\n",
       "      <th>family_status</th>\n",
       "    </tr>\n",
       "    <tr>\n",
       "      <th>family_status_id</th>\n",
       "      <th></th>\n",
       "    </tr>\n",
       "  </thead>\n",
       "  <tbody>\n",
       "    <tr>\n",
       "      <th>0</th>\n",
       "      <td>женат / замужем</td>\n",
       "    </tr>\n",
       "    <tr>\n",
       "      <th>1</th>\n",
       "      <td>гражданский брак</td>\n",
       "    </tr>\n",
       "    <tr>\n",
       "      <th>2</th>\n",
       "      <td>вдовец / вдова</td>\n",
       "    </tr>\n",
       "    <tr>\n",
       "      <th>3</th>\n",
       "      <td>в разводе</td>\n",
       "    </tr>\n",
       "    <tr>\n",
       "      <th>4</th>\n",
       "      <td>Не женат / не замужем</td>\n",
       "    </tr>\n",
       "  </tbody>\n",
       "</table>\n",
       "</div>"
      ],
      "text/plain": [
       "                          family_status\n",
       "family_status_id                       \n",
       "0                       женат / замужем\n",
       "1                      гражданский брак\n",
       "2                        вдовец / вдова\n",
       "3                             в разводе\n",
       "4                 Не женат / не замужем"
      ]
     },
     "execution_count": 37,
     "metadata": {},
     "output_type": "execute_result"
    }
   ],
   "source": [
    "# выделяем категории заемщиков по семейному статусу\n",
    "data[['family_status_id', 'family_status']].drop_duplicates().set_index('family_status_id')"
   ]
  },
  {
   "cell_type": "code",
   "execution_count": 38,
   "metadata": {
    "scrolled": true
   },
   "outputs": [
    {
     "data": {
      "text/html": [
       "<div>\n",
       "<style scoped>\n",
       "    .dataframe tbody tr th:only-of-type {\n",
       "        vertical-align: middle;\n",
       "    }\n",
       "\n",
       "    .dataframe tbody tr th {\n",
       "        vertical-align: top;\n",
       "    }\n",
       "\n",
       "    .dataframe thead th {\n",
       "        text-align: right;\n",
       "    }\n",
       "</style>\n",
       "<table border=\"1\" class=\"dataframe\">\n",
       "  <thead>\n",
       "    <tr style=\"text-align: right;\">\n",
       "      <th></th>\n",
       "      <th>education</th>\n",
       "    </tr>\n",
       "    <tr>\n",
       "      <th>education_id</th>\n",
       "      <th></th>\n",
       "    </tr>\n",
       "  </thead>\n",
       "  <tbody>\n",
       "    <tr>\n",
       "      <th>0</th>\n",
       "      <td>высшее</td>\n",
       "    </tr>\n",
       "    <tr>\n",
       "      <th>1</th>\n",
       "      <td>среднее</td>\n",
       "    </tr>\n",
       "    <tr>\n",
       "      <th>2</th>\n",
       "      <td>неоконченное высшее</td>\n",
       "    </tr>\n",
       "    <tr>\n",
       "      <th>3</th>\n",
       "      <td>начальное</td>\n",
       "    </tr>\n",
       "    <tr>\n",
       "      <th>4</th>\n",
       "      <td>ученая степень</td>\n",
       "    </tr>\n",
       "  </tbody>\n",
       "</table>\n",
       "</div>"
      ],
      "text/plain": [
       "                        education\n",
       "education_id                     \n",
       "0                          высшее\n",
       "1                         среднее\n",
       "2             неоконченное высшее\n",
       "3                       начальное\n",
       "4                  ученая степень"
      ]
     },
     "execution_count": 38,
     "metadata": {},
     "output_type": "execute_result"
    }
   ],
   "source": [
    "# выделяем категории заемщиков по образованию\n",
    "data[['education_id', 'education']].drop_duplicates().set_index('education_id')"
   ]
  },
  {
   "cell_type": "code",
   "execution_count": 39,
   "metadata": {},
   "outputs": [
    {
     "data": {
      "text/html": [
       "<div>\n",
       "<style scoped>\n",
       "    .dataframe tbody tr th:only-of-type {\n",
       "        vertical-align: middle;\n",
       "    }\n",
       "\n",
       "    .dataframe tbody tr th {\n",
       "        vertical-align: top;\n",
       "    }\n",
       "\n",
       "    .dataframe thead th {\n",
       "        text-align: right;\n",
       "    }\n",
       "</style>\n",
       "<table border=\"1\" class=\"dataframe\">\n",
       "  <thead>\n",
       "    <tr style=\"text-align: right;\">\n",
       "      <th></th>\n",
       "      <th>index</th>\n",
       "      <th>children</th>\n",
       "      <th>days_employed</th>\n",
       "      <th>dob_years</th>\n",
       "      <th>education</th>\n",
       "      <th>education_id</th>\n",
       "      <th>family_status</th>\n",
       "      <th>family_status_id</th>\n",
       "      <th>gender</th>\n",
       "      <th>income_type</th>\n",
       "      <th>debt</th>\n",
       "      <th>total_income</th>\n",
       "      <th>purpose</th>\n",
       "      <th>category</th>\n",
       "      <th>income_group</th>\n",
       "    </tr>\n",
       "  </thead>\n",
       "  <tbody>\n",
       "    <tr>\n",
       "      <th>0</th>\n",
       "      <td>0</td>\n",
       "      <td>1</td>\n",
       "      <td>8437</td>\n",
       "      <td>42</td>\n",
       "      <td>высшее</td>\n",
       "      <td>0</td>\n",
       "      <td>женат / замужем</td>\n",
       "      <td>0</td>\n",
       "      <td>F</td>\n",
       "      <td>сотрудник</td>\n",
       "      <td>0</td>\n",
       "      <td>253875</td>\n",
       "      <td>покупка жилья</td>\n",
       "      <td>жилищный кредит</td>\n",
       "      <td>Зачем им кредит?</td>\n",
       "    </tr>\n",
       "    <tr>\n",
       "      <th>1</th>\n",
       "      <td>1</td>\n",
       "      <td>1</td>\n",
       "      <td>4024</td>\n",
       "      <td>36</td>\n",
       "      <td>среднее</td>\n",
       "      <td>1</td>\n",
       "      <td>женат / замужем</td>\n",
       "      <td>0</td>\n",
       "      <td>F</td>\n",
       "      <td>сотрудник</td>\n",
       "      <td>0</td>\n",
       "      <td>112080</td>\n",
       "      <td>приобретение автомобиля</td>\n",
       "      <td>автокредит</td>\n",
       "      <td>ниже среднего</td>\n",
       "    </tr>\n",
       "    <tr>\n",
       "      <th>2</th>\n",
       "      <td>2</td>\n",
       "      <td>0</td>\n",
       "      <td>5623</td>\n",
       "      <td>33</td>\n",
       "      <td>среднее</td>\n",
       "      <td>1</td>\n",
       "      <td>женат / замужем</td>\n",
       "      <td>0</td>\n",
       "      <td>M</td>\n",
       "      <td>сотрудник</td>\n",
       "      <td>0</td>\n",
       "      <td>145885</td>\n",
       "      <td>покупка жилья</td>\n",
       "      <td>жилищный кредит</td>\n",
       "      <td>средний</td>\n",
       "    </tr>\n",
       "    <tr>\n",
       "      <th>3</th>\n",
       "      <td>3</td>\n",
       "      <td>3</td>\n",
       "      <td>4124</td>\n",
       "      <td>32</td>\n",
       "      <td>среднее</td>\n",
       "      <td>1</td>\n",
       "      <td>женат / замужем</td>\n",
       "      <td>0</td>\n",
       "      <td>M</td>\n",
       "      <td>сотрудник</td>\n",
       "      <td>0</td>\n",
       "      <td>267628</td>\n",
       "      <td>дополнительное образование</td>\n",
       "      <td>кредит на образование</td>\n",
       "      <td>Зачем им кредит?</td>\n",
       "    </tr>\n",
       "    <tr>\n",
       "      <th>4</th>\n",
       "      <td>4</td>\n",
       "      <td>0</td>\n",
       "      <td>14177</td>\n",
       "      <td>53</td>\n",
       "      <td>среднее</td>\n",
       "      <td>1</td>\n",
       "      <td>гражданский брак</td>\n",
       "      <td>1</td>\n",
       "      <td>F</td>\n",
       "      <td>пенсионер</td>\n",
       "      <td>0</td>\n",
       "      <td>158616</td>\n",
       "      <td>сыграть свадьбу</td>\n",
       "      <td>потребительский кредит</td>\n",
       "      <td>средний</td>\n",
       "    </tr>\n",
       "    <tr>\n",
       "      <th>5</th>\n",
       "      <td>5</td>\n",
       "      <td>0</td>\n",
       "      <td>926</td>\n",
       "      <td>27</td>\n",
       "      <td>высшее</td>\n",
       "      <td>0</td>\n",
       "      <td>гражданский брак</td>\n",
       "      <td>1</td>\n",
       "      <td>M</td>\n",
       "      <td>компаньон</td>\n",
       "      <td>0</td>\n",
       "      <td>255763</td>\n",
       "      <td>покупка жилья</td>\n",
       "      <td>жилищный кредит</td>\n",
       "      <td>Зачем им кредит?</td>\n",
       "    </tr>\n",
       "    <tr>\n",
       "      <th>6</th>\n",
       "      <td>6</td>\n",
       "      <td>0</td>\n",
       "      <td>2879</td>\n",
       "      <td>43</td>\n",
       "      <td>высшее</td>\n",
       "      <td>0</td>\n",
       "      <td>женат / замужем</td>\n",
       "      <td>0</td>\n",
       "      <td>F</td>\n",
       "      <td>компаньон</td>\n",
       "      <td>0</td>\n",
       "      <td>240525</td>\n",
       "      <td>операции с жильем</td>\n",
       "      <td>жилищный кредит</td>\n",
       "      <td>Зачем им кредит?</td>\n",
       "    </tr>\n",
       "    <tr>\n",
       "      <th>7</th>\n",
       "      <td>7</td>\n",
       "      <td>0</td>\n",
       "      <td>152</td>\n",
       "      <td>50</td>\n",
       "      <td>среднее</td>\n",
       "      <td>1</td>\n",
       "      <td>женат / замужем</td>\n",
       "      <td>0</td>\n",
       "      <td>M</td>\n",
       "      <td>сотрудник</td>\n",
       "      <td>0</td>\n",
       "      <td>135823</td>\n",
       "      <td>образование</td>\n",
       "      <td>кредит на образование</td>\n",
       "      <td>средний</td>\n",
       "    </tr>\n",
       "    <tr>\n",
       "      <th>8</th>\n",
       "      <td>8</td>\n",
       "      <td>2</td>\n",
       "      <td>6929</td>\n",
       "      <td>35</td>\n",
       "      <td>высшее</td>\n",
       "      <td>0</td>\n",
       "      <td>гражданский брак</td>\n",
       "      <td>1</td>\n",
       "      <td>F</td>\n",
       "      <td>сотрудник</td>\n",
       "      <td>0</td>\n",
       "      <td>95856</td>\n",
       "      <td>на проведение свадьбы</td>\n",
       "      <td>потребительский кредит</td>\n",
       "      <td>ниже среднего</td>\n",
       "    </tr>\n",
       "    <tr>\n",
       "      <th>9</th>\n",
       "      <td>9</td>\n",
       "      <td>0</td>\n",
       "      <td>2188</td>\n",
       "      <td>41</td>\n",
       "      <td>среднее</td>\n",
       "      <td>1</td>\n",
       "      <td>женат / замужем</td>\n",
       "      <td>0</td>\n",
       "      <td>M</td>\n",
       "      <td>сотрудник</td>\n",
       "      <td>0</td>\n",
       "      <td>144425</td>\n",
       "      <td>покупка жилья для семьи</td>\n",
       "      <td>жилищный кредит</td>\n",
       "      <td>средний</td>\n",
       "    </tr>\n",
       "  </tbody>\n",
       "</table>\n",
       "</div>"
      ],
      "text/plain": [
       "   index  children  days_employed  dob_years education  education_id  \\\n",
       "0      0         1           8437         42    высшее             0   \n",
       "1      1         1           4024         36   среднее             1   \n",
       "2      2         0           5623         33   среднее             1   \n",
       "3      3         3           4124         32   среднее             1   \n",
       "4      4         0          14177         53   среднее             1   \n",
       "5      5         0            926         27    высшее             0   \n",
       "6      6         0           2879         43    высшее             0   \n",
       "7      7         0            152         50   среднее             1   \n",
       "8      8         2           6929         35    высшее             0   \n",
       "9      9         0           2188         41   среднее             1   \n",
       "\n",
       "      family_status  family_status_id gender income_type  debt  total_income  \\\n",
       "0   женат / замужем                 0      F   сотрудник     0        253875   \n",
       "1   женат / замужем                 0      F   сотрудник     0        112080   \n",
       "2   женат / замужем                 0      M   сотрудник     0        145885   \n",
       "3   женат / замужем                 0      M   сотрудник     0        267628   \n",
       "4  гражданский брак                 1      F   пенсионер     0        158616   \n",
       "5  гражданский брак                 1      M   компаньон     0        255763   \n",
       "6   женат / замужем                 0      F   компаньон     0        240525   \n",
       "7   женат / замужем                 0      M   сотрудник     0        135823   \n",
       "8  гражданский брак                 1      F   сотрудник     0         95856   \n",
       "9   женат / замужем                 0      M   сотрудник     0        144425   \n",
       "\n",
       "                      purpose                category      income_group  \n",
       "0               покупка жилья         жилищный кредит  Зачем им кредит?  \n",
       "1     приобретение автомобиля              автокредит     ниже среднего  \n",
       "2               покупка жилья         жилищный кредит           средний  \n",
       "3  дополнительное образование   кредит на образование  Зачем им кредит?  \n",
       "4             сыграть свадьбу  потребительский кредит           средний  \n",
       "5               покупка жилья         жилищный кредит  Зачем им кредит?  \n",
       "6           операции с жильем         жилищный кредит  Зачем им кредит?  \n",
       "7                 образование   кредит на образование           средний  \n",
       "8       на проведение свадьбы  потребительский кредит     ниже среднего  \n",
       "9     покупка жилья для семьи         жилищный кредит           средний  "
      ]
     },
     "execution_count": 39,
     "metadata": {},
     "output_type": "execute_result"
    }
   ],
   "source": [
    "# решили делать по медиане\n",
    "# создаем функцию для разделения столбца заработка на категории\n",
    "def income_group(income):\n",
    "    if income <= 75000:\n",
    "        return 'низкий'\n",
    "    if income <= 125000:\n",
    "        return 'ниже среднего'\n",
    "    if income <= 175000:\n",
    "        return 'средний'\n",
    "    if income <= 215000:\n",
    "        return 'выше среднего'\n",
    "    return 'Зачем им кредит?'\n",
    "data['income_group'] = data['total_income'].apply(income_group)\n",
    "data.head(10)"
   ]
  },
  {
   "cell_type": "code",
   "execution_count": 40,
   "metadata": {},
   "outputs": [
    {
     "data": {
      "text/plain": [
       "средний             7308\n",
       "ниже среднего       5504\n",
       "Зачем им кредит?    4269\n",
       "выше среднего       2508\n",
       "низкий              1865\n",
       "Name: income_group, dtype: int64"
      ]
     },
     "execution_count": 40,
     "metadata": {},
     "output_type": "execute_result"
    }
   ],
   "source": [
    "# смотрим сумму уникальных значений столбца. Наверное, разделение произзошло пропорционально верно, \n",
    "# ниже среднего около 6 тысяч и выше среднего около 6 тысяч.Хм... Ну это потому что по медиане делил:)\n",
    "data['income_group'].value_counts()"
   ]
  },
  {
   "cell_type": "code",
   "execution_count": 41,
   "metadata": {},
   "outputs": [
    {
     "data": {
      "text/plain": [
       "жилищный кредит           10811\n",
       "автокредит                 4306\n",
       "кредит на образование      4013\n",
       "потребительский кредит     2324\n",
       "Name: category, dtype: int64"
      ]
     },
     "execution_count": 41,
     "metadata": {},
     "output_type": "execute_result"
    }
   ],
   "source": [
    "# выводим сумму каждой категории\n",
    "data['category'].value_counts()"
   ]
  },
  {
   "cell_type": "code",
   "execution_count": 42,
   "metadata": {},
   "outputs": [],
   "source": [
    "number_child = ['бездетный', '1-2 ребенка', '3 и более детей']\n",
    "# пишем функцию которая возвращает категорию по значению purpose\n",
    "def child(children):\n",
    "    if children == 0:\n",
    "        return 'бездетный'\n",
    "    if children <= 2:\n",
    "        return '1-2 ребенка'\n",
    "    return '3 и более детей'\n",
    "# создаем новый столбец category \n",
    "data['number_child'] = data['children'].apply(child)"
   ]
  },
  {
   "cell_type": "code",
   "execution_count": 43,
   "metadata": {},
   "outputs": [
    {
     "data": {
      "text/plain": [
       "бездетный          14091\n",
       "1-2 ребенка         6983\n",
       "3 и более детей      380\n",
       "Name: number_child, dtype: int64"
      ]
     },
     "execution_count": 43,
     "metadata": {},
     "output_type": "execute_result"
    }
   ],
   "source": [
    "# выводим сумму каждой категории\n",
    "data['number_child'].value_counts()"
   ]
  },
  {
   "cell_type": "markdown",
   "metadata": {},
   "source": [
    "**Для последующего анализза выделили категории по детям, образованию и семейному положению**"
   ]
  },
  {
   "cell_type": "markdown",
   "metadata": {},
   "source": [
    "##  Ответьте на вопросы"
   ]
  },
  {
   "cell_type": "markdown",
   "metadata": {},
   "source": [
    "- Есть ли зависимость между наличием детей и возвратом кредита в срок?"
   ]
  },
  {
   "cell_type": "code",
   "execution_count": 44,
   "metadata": {
    "scrolled": true
   },
   "outputs": [
    {
     "data": {
      "text/html": [
       "<div>\n",
       "<style scoped>\n",
       "    .dataframe tbody tr th:only-of-type {\n",
       "        vertical-align: middle;\n",
       "    }\n",
       "\n",
       "    .dataframe tbody tr th {\n",
       "        vertical-align: top;\n",
       "    }\n",
       "\n",
       "    .dataframe thead th {\n",
       "        text-align: right;\n",
       "    }\n",
       "</style>\n",
       "<table border=\"1\" class=\"dataframe\">\n",
       "  <thead>\n",
       "    <tr style=\"text-align: right;\">\n",
       "      <th></th>\n",
       "      <th>no_debt</th>\n",
       "      <th>debt</th>\n",
       "      <th>%</th>\n",
       "    </tr>\n",
       "    <tr>\n",
       "      <th>number_child</th>\n",
       "      <th></th>\n",
       "      <th></th>\n",
       "      <th></th>\n",
       "    </tr>\n",
       "  </thead>\n",
       "  <tbody>\n",
       "    <tr>\n",
       "      <th>1-2 ребенка</th>\n",
       "      <td>6336</td>\n",
       "      <td>647</td>\n",
       "      <td>9.27</td>\n",
       "    </tr>\n",
       "    <tr>\n",
       "      <th>3 и более детей</th>\n",
       "      <td>349</td>\n",
       "      <td>31</td>\n",
       "      <td>8.16</td>\n",
       "    </tr>\n",
       "    <tr>\n",
       "      <th>бездетный</th>\n",
       "      <td>13028</td>\n",
       "      <td>1063</td>\n",
       "      <td>7.54</td>\n",
       "    </tr>\n",
       "  </tbody>\n",
       "</table>\n",
       "</div>"
      ],
      "text/plain": [
       "                 no_debt  debt     %\n",
       "number_child                        \n",
       "1-2 ребенка         6336   647  9.27\n",
       "3 и более детей      349    31  8.16\n",
       "бездетный          13028  1063  7.54"
      ]
     },
     "execution_count": 44,
     "metadata": {},
     "output_type": "execute_result"
    }
   ],
   "source": [
    "# создаем табличку с расчитанной конверсией с разделением по количеству детей\n",
    "table_child_debt = data.pivot_table(index = 'number_child', columns = 'debt', values = 'total_income', aggfunc = 'count')\n",
    "table_child_debt.columns = ['no_debt', 'debt']\n",
    "table_child_debt['%'] = (table_child_debt['debt'] / (table_child_debt['debt'] + table_child_debt['no_debt']))*100\n",
    "table_child_debt.round(2)"
   ]
  },
  {
   "cell_type": "markdown",
   "metadata": {},
   "source": [
    "**Видна прямая зависимость вероятности невозврата кредита от количества детей в семье. Хотя стоит заметить, что при трех детях почему то просрочек меньше, что вероятно объясняется небольшой выборкой**"
   ]
  },
  {
   "cell_type": "markdown",
   "metadata": {},
   "source": [
    "- Есть ли зависимость между семейным положением и возвратом кредита в срок?"
   ]
  },
  {
   "cell_type": "code",
   "execution_count": 45,
   "metadata": {},
   "outputs": [
    {
     "data": {
      "text/html": [
       "<div>\n",
       "<style scoped>\n",
       "    .dataframe tbody tr th:only-of-type {\n",
       "        vertical-align: middle;\n",
       "    }\n",
       "\n",
       "    .dataframe tbody tr th {\n",
       "        vertical-align: top;\n",
       "    }\n",
       "\n",
       "    .dataframe thead th {\n",
       "        text-align: right;\n",
       "    }\n",
       "</style>\n",
       "<table border=\"1\" class=\"dataframe\">\n",
       "  <thead>\n",
       "    <tr style=\"text-align: right;\">\n",
       "      <th></th>\n",
       "      <th>no_debt</th>\n",
       "      <th>debt</th>\n",
       "      <th>%</th>\n",
       "    </tr>\n",
       "    <tr>\n",
       "      <th>family_status</th>\n",
       "      <th></th>\n",
       "      <th></th>\n",
       "      <th></th>\n",
       "    </tr>\n",
       "  </thead>\n",
       "  <tbody>\n",
       "    <tr>\n",
       "      <th>Не женат / не замужем</th>\n",
       "      <td>2536</td>\n",
       "      <td>274</td>\n",
       "      <td>9.75</td>\n",
       "    </tr>\n",
       "    <tr>\n",
       "      <th>в разводе</th>\n",
       "      <td>1110</td>\n",
       "      <td>85</td>\n",
       "      <td>7.11</td>\n",
       "    </tr>\n",
       "    <tr>\n",
       "      <th>вдовец / вдова</th>\n",
       "      <td>896</td>\n",
       "      <td>63</td>\n",
       "      <td>6.57</td>\n",
       "    </tr>\n",
       "    <tr>\n",
       "      <th>гражданский брак</th>\n",
       "      <td>3763</td>\n",
       "      <td>388</td>\n",
       "      <td>9.35</td>\n",
       "    </tr>\n",
       "    <tr>\n",
       "      <th>женат / замужем</th>\n",
       "      <td>11408</td>\n",
       "      <td>931</td>\n",
       "      <td>7.55</td>\n",
       "    </tr>\n",
       "  </tbody>\n",
       "</table>\n",
       "</div>"
      ],
      "text/plain": [
       "                       no_debt  debt     %\n",
       "family_status                             \n",
       "Не женат / не замужем     2536   274  9.75\n",
       "в разводе                 1110    85  7.11\n",
       "вдовец / вдова             896    63  6.57\n",
       "гражданский брак          3763   388  9.35\n",
       "женат / замужем          11408   931  7.55"
      ]
     },
     "execution_count": 45,
     "metadata": {},
     "output_type": "execute_result"
    }
   ],
   "source": [
    "# создаем табличку с расчитанной конверсией с разделением по семейному статусу\n",
    "table_family_debt = data.pivot_table(index = 'family_status', columns = 'debt', values = 'total_income', aggfunc = 'count')\n",
    "table_family_debt.columns = ['no_debt', 'debt']\n",
    "table_family_debt['%'] = (table_family_debt['debt'] / (table_family_debt['debt'] + table_family_debt['no_debt']))*100\n",
    "table_family_debt.round(2)"
   ]
  },
  {
   "cell_type": "markdown",
   "metadata": {},
   "source": [
    "**Хуже всего отадют кредиты незамужние и живущие в гражданском браке, что вероятно объясняется молодостью и невысокой зарплатой, с другой стороны люди в разводе и вдовцы реже допускают просрочки (люди старше и с более высокой зарплатой).**"
   ]
  },
  {
   "cell_type": "markdown",
   "metadata": {},
   "source": [
    "- Есть ли зависимость между уровнем дохода и возвратом кредита в срок?"
   ]
  },
  {
   "cell_type": "code",
   "execution_count": 46,
   "metadata": {},
   "outputs": [
    {
     "data": {
      "text/html": [
       "<div>\n",
       "<style scoped>\n",
       "    .dataframe tbody tr th:only-of-type {\n",
       "        vertical-align: middle;\n",
       "    }\n",
       "\n",
       "    .dataframe tbody tr th {\n",
       "        vertical-align: top;\n",
       "    }\n",
       "\n",
       "    .dataframe thead th {\n",
       "        text-align: right;\n",
       "    }\n",
       "</style>\n",
       "<table border=\"1\" class=\"dataframe\">\n",
       "  <thead>\n",
       "    <tr style=\"text-align: right;\">\n",
       "      <th></th>\n",
       "      <th>no_debt</th>\n",
       "      <th>debt</th>\n",
       "      <th>%</th>\n",
       "    </tr>\n",
       "    <tr>\n",
       "      <th>income_group</th>\n",
       "      <th></th>\n",
       "      <th></th>\n",
       "      <th></th>\n",
       "    </tr>\n",
       "  </thead>\n",
       "  <tbody>\n",
       "    <tr>\n",
       "      <th>Зачем им кредит?</th>\n",
       "      <td>3970</td>\n",
       "      <td>299</td>\n",
       "      <td>7.00</td>\n",
       "    </tr>\n",
       "    <tr>\n",
       "      <th>выше среднего</th>\n",
       "      <td>2299</td>\n",
       "      <td>209</td>\n",
       "      <td>8.33</td>\n",
       "    </tr>\n",
       "    <tr>\n",
       "      <th>ниже среднего</th>\n",
       "      <td>5032</td>\n",
       "      <td>472</td>\n",
       "      <td>8.58</td>\n",
       "    </tr>\n",
       "    <tr>\n",
       "      <th>низкий</th>\n",
       "      <td>1729</td>\n",
       "      <td>136</td>\n",
       "      <td>7.29</td>\n",
       "    </tr>\n",
       "    <tr>\n",
       "      <th>средний</th>\n",
       "      <td>6683</td>\n",
       "      <td>625</td>\n",
       "      <td>8.55</td>\n",
       "    </tr>\n",
       "  </tbody>\n",
       "</table>\n",
       "</div>"
      ],
      "text/plain": [
       "                  no_debt  debt     %\n",
       "income_group                         \n",
       "Зачем им кредит?     3970   299  7.00\n",
       "выше среднего        2299   209  8.33\n",
       "ниже среднего        5032   472  8.58\n",
       "низкий               1729   136  7.29\n",
       "средний              6683   625  8.55"
      ]
     },
     "execution_count": 46,
     "metadata": {},
     "output_type": "execute_result"
    }
   ],
   "source": [
    "# создаем табличку с расчитанной конверсией с разделением по уровню заработка\n",
    "table_income_debt = data.pivot_table(index = 'income_group', columns = 'debt', values = 'total_income', aggfunc = 'count')\n",
    "table_income_debt.columns = ['no_debt', 'debt']\n",
    "table_income_debt['%'] = (table_income_debt['debt'] / (table_income_debt['debt'] + table_income_debt['no_debt']))*100\n",
    "table_income_debt.round(2)"
   ]
  },
  {
   "cell_type": "markdown",
   "metadata": {},
   "source": [
    "**Люди с самым высоким уровнем дохода, как и с самым низким допускают меньше просрочек, нежели прочие. Так что судить по уровню дохода о вероятности просрочки все же не стоит**"
   ]
  },
  {
   "cell_type": "markdown",
   "metadata": {},
   "source": [
    "- Как разные цели кредита влияют на его возврат в срок?"
   ]
  },
  {
   "cell_type": "code",
   "execution_count": 47,
   "metadata": {},
   "outputs": [
    {
     "data": {
      "text/html": [
       "<div>\n",
       "<style scoped>\n",
       "    .dataframe tbody tr th:only-of-type {\n",
       "        vertical-align: middle;\n",
       "    }\n",
       "\n",
       "    .dataframe tbody tr th {\n",
       "        vertical-align: top;\n",
       "    }\n",
       "\n",
       "    .dataframe thead th {\n",
       "        text-align: right;\n",
       "    }\n",
       "</style>\n",
       "<table border=\"1\" class=\"dataframe\">\n",
       "  <thead>\n",
       "    <tr style=\"text-align: right;\">\n",
       "      <th></th>\n",
       "      <th>no_debt</th>\n",
       "      <th>debt</th>\n",
       "      <th>%</th>\n",
       "    </tr>\n",
       "    <tr>\n",
       "      <th>category</th>\n",
       "      <th></th>\n",
       "      <th></th>\n",
       "      <th></th>\n",
       "    </tr>\n",
       "  </thead>\n",
       "  <tbody>\n",
       "    <tr>\n",
       "      <th>автокредит</th>\n",
       "      <td>3903</td>\n",
       "      <td>403</td>\n",
       "      <td>9.36</td>\n",
       "    </tr>\n",
       "    <tr>\n",
       "      <th>жилищный кредит</th>\n",
       "      <td>10029</td>\n",
       "      <td>782</td>\n",
       "      <td>7.23</td>\n",
       "    </tr>\n",
       "    <tr>\n",
       "      <th>кредит на образование</th>\n",
       "      <td>3643</td>\n",
       "      <td>370</td>\n",
       "      <td>9.22</td>\n",
       "    </tr>\n",
       "    <tr>\n",
       "      <th>потребительский кредит</th>\n",
       "      <td>2138</td>\n",
       "      <td>186</td>\n",
       "      <td>8.00</td>\n",
       "    </tr>\n",
       "  </tbody>\n",
       "</table>\n",
       "</div>"
      ],
      "text/plain": [
       "                        no_debt  debt     %\n",
       "category                                   \n",
       "автокредит                 3903   403  9.36\n",
       "жилищный кредит           10029   782  7.23\n",
       "кредит на образование      3643   370  9.22\n",
       "потребительский кредит     2138   186  8.00"
      ]
     },
     "execution_count": 47,
     "metadata": {},
     "output_type": "execute_result"
    }
   ],
   "source": [
    "# создаем табличку с расчитанной конверсией с разделением по цели кредита\n",
    "table_income_debt = data.pivot_table(index = 'category', columns = 'debt', values = 'total_income', aggfunc = 'count')\n",
    "table_income_debt.columns = ['no_debt', 'debt']\n",
    "table_income_debt['%'] = (table_income_debt['debt'] / (table_income_debt['debt'] + table_income_debt['no_debt']))*100\n",
    "table_income_debt.round(2)"
   ]
  },
  {
   "cell_type": "markdown",
   "metadata": {},
   "source": [
    "**Жилищный кредит наименее рисковый судя по нашей конверсии**"
   ]
  },
  {
   "cell_type": "markdown",
   "metadata": {},
   "source": [
    "## Общий вывод"
   ]
  },
  {
   "cell_type": "markdown",
   "metadata": {},
   "source": [
    "Вероятность просрочки по кредитам увеличивается при наличии детей и молодого возраста (холостые и находящиеся в гражданском браке). Судить о вероятности просрочки исходя из уровня заработка все таки не стоит, поскольку результаты конверсии противоречивые. Воззможно данные по суммам кредитов несколько прояснили и показали зависимость заработка и просрочки."
   ]
  }
 ],
 "metadata": {
  "ExecuteTimeLog": [
   {
    "duration": 1291,
    "start_time": "2021-11-20T07:44:42.747Z"
   },
   {
    "duration": 77,
    "start_time": "2021-11-20T07:45:04.755Z"
   },
   {
    "duration": 626,
    "start_time": "2021-11-20T17:07:55.446Z"
   },
   {
    "duration": 924,
    "start_time": "2021-11-20T17:08:07.771Z"
   },
   {
    "duration": 33,
    "start_time": "2021-11-20T17:08:08.697Z"
   },
   {
    "duration": 402,
    "start_time": "2021-11-20T17:14:55.691Z"
   },
   {
    "duration": 8,
    "start_time": "2021-11-20T17:15:04.723Z"
   },
   {
    "duration": 8,
    "start_time": "2021-11-20T17:15:22.759Z"
   },
   {
    "duration": 9,
    "start_time": "2021-11-20T17:16:36.851Z"
   },
   {
    "duration": 6,
    "start_time": "2021-11-20T17:17:47.801Z"
   },
   {
    "duration": 7,
    "start_time": "2021-11-20T17:18:54.641Z"
   },
   {
    "duration": 7,
    "start_time": "2021-11-20T17:30:57.542Z"
   },
   {
    "duration": 10,
    "start_time": "2021-11-20T17:32:40.141Z"
   },
   {
    "duration": 20,
    "start_time": "2021-11-20T17:32:56.712Z"
   },
   {
    "duration": 9,
    "start_time": "2021-11-20T17:33:16.401Z"
   },
   {
    "duration": 5,
    "start_time": "2021-11-20T17:36:09.841Z"
   },
   {
    "duration": 7,
    "start_time": "2021-11-20T17:36:58.972Z"
   },
   {
    "duration": 6,
    "start_time": "2021-11-20T17:37:57.041Z"
   },
   {
    "duration": 5,
    "start_time": "2021-11-20T17:38:55.601Z"
   },
   {
    "duration": 6,
    "start_time": "2021-11-20T17:39:14.261Z"
   },
   {
    "duration": 6,
    "start_time": "2021-11-20T17:39:35.371Z"
   },
   {
    "duration": 6,
    "start_time": "2021-11-20T17:39:58.751Z"
   },
   {
    "duration": 7,
    "start_time": "2021-11-20T17:40:19.711Z"
   },
   {
    "duration": 5,
    "start_time": "2021-11-20T17:51:42.661Z"
   },
   {
    "duration": 5,
    "start_time": "2021-11-20T18:01:02.189Z"
   },
   {
    "duration": 300,
    "start_time": "2021-11-21T16:15:22.696Z"
   },
   {
    "duration": 676,
    "start_time": "2021-11-21T16:15:33.350Z"
   },
   {
    "duration": 20,
    "start_time": "2021-11-21T16:15:34.027Z"
   },
   {
    "duration": 6,
    "start_time": "2021-11-21T16:15:34.051Z"
   },
   {
    "duration": 10,
    "start_time": "2021-11-21T16:15:34.059Z"
   },
   {
    "duration": 5,
    "start_time": "2021-11-21T16:15:34.071Z"
   },
   {
    "duration": 5,
    "start_time": "2021-11-21T16:15:34.078Z"
   },
   {
    "duration": 4,
    "start_time": "2021-11-21T16:15:34.086Z"
   },
   {
    "duration": 7,
    "start_time": "2021-11-21T16:15:34.092Z"
   },
   {
    "duration": 44,
    "start_time": "2021-11-21T16:15:34.101Z"
   },
   {
    "duration": 3,
    "start_time": "2021-11-21T16:15:34.147Z"
   },
   {
    "duration": 15,
    "start_time": "2021-11-21T16:15:34.152Z"
   },
   {
    "duration": 6,
    "start_time": "2021-11-21T16:15:53.737Z"
   },
   {
    "duration": 4,
    "start_time": "2021-11-21T16:16:07.347Z"
   },
   {
    "duration": 6,
    "start_time": "2021-11-21T16:16:25.350Z"
   },
   {
    "duration": 5,
    "start_time": "2021-11-21T16:17:14.026Z"
   },
   {
    "duration": 288,
    "start_time": "2021-11-21T16:22:39.179Z"
   },
   {
    "duration": 8,
    "start_time": "2021-11-21T16:22:48.550Z"
   },
   {
    "duration": 147,
    "start_time": "2021-11-21T16:28:08.898Z"
   },
   {
    "duration": 558,
    "start_time": "2021-11-21T16:29:31.912Z"
   },
   {
    "duration": 102,
    "start_time": "2021-11-21T16:30:05.792Z"
   },
   {
    "duration": 21,
    "start_time": "2021-11-21T16:31:04.755Z"
   },
   {
    "duration": 6,
    "start_time": "2021-11-21T16:31:08.421Z"
   },
   {
    "duration": 6,
    "start_time": "2021-11-21T16:31:12.480Z"
   },
   {
    "duration": 662,
    "start_time": "2021-11-21T16:31:22.712Z"
   },
   {
    "duration": 19,
    "start_time": "2021-11-21T16:31:23.377Z"
   },
   {
    "duration": 5,
    "start_time": "2021-11-21T16:31:23.776Z"
   },
   {
    "duration": 6,
    "start_time": "2021-11-21T16:31:23.782Z"
   },
   {
    "duration": 4,
    "start_time": "2021-11-21T16:31:23.790Z"
   },
   {
    "duration": 7,
    "start_time": "2021-11-21T16:31:23.796Z"
   },
   {
    "duration": 4,
    "start_time": "2021-11-21T16:31:23.805Z"
   },
   {
    "duration": 6,
    "start_time": "2021-11-21T16:31:23.917Z"
   },
   {
    "duration": 4,
    "start_time": "2021-11-21T16:31:23.925Z"
   },
   {
    "duration": 5,
    "start_time": "2021-11-21T16:31:23.931Z"
   },
   {
    "duration": 4,
    "start_time": "2021-11-21T16:31:23.937Z"
   },
   {
    "duration": 5,
    "start_time": "2021-11-21T16:31:23.943Z"
   },
   {
    "duration": 20,
    "start_time": "2021-11-21T16:31:23.950Z"
   },
   {
    "duration": 5,
    "start_time": "2021-11-21T16:31:23.971Z"
   },
   {
    "duration": 26,
    "start_time": "2021-11-21T16:32:45.939Z"
   },
   {
    "duration": 15,
    "start_time": "2021-11-21T16:34:03.180Z"
   },
   {
    "duration": 1025,
    "start_time": "2021-11-21T16:40:01.129Z"
   },
   {
    "duration": 29,
    "start_time": "2021-11-21T16:40:02.156Z"
   },
   {
    "duration": 7,
    "start_time": "2021-11-21T16:40:02.189Z"
   },
   {
    "duration": 5,
    "start_time": "2021-11-21T16:40:02.199Z"
   },
   {
    "duration": 6,
    "start_time": "2021-11-21T16:40:02.206Z"
   },
   {
    "duration": 36,
    "start_time": "2021-11-21T16:40:02.214Z"
   },
   {
    "duration": 9,
    "start_time": "2021-11-21T16:40:02.256Z"
   },
   {
    "duration": 8,
    "start_time": "2021-11-21T16:40:02.269Z"
   },
   {
    "duration": 8,
    "start_time": "2021-11-21T16:40:02.280Z"
   },
   {
    "duration": 8,
    "start_time": "2021-11-21T16:40:02.291Z"
   },
   {
    "duration": 9,
    "start_time": "2021-11-21T16:40:02.301Z"
   },
   {
    "duration": 38,
    "start_time": "2021-11-21T16:40:02.312Z"
   },
   {
    "duration": 32,
    "start_time": "2021-11-21T16:40:02.353Z"
   },
   {
    "duration": 32,
    "start_time": "2021-11-21T16:40:02.387Z"
   },
   {
    "duration": 25,
    "start_time": "2021-11-21T16:42:03.183Z"
   },
   {
    "duration": 98,
    "start_time": "2021-11-21T16:44:29.914Z"
   },
   {
    "duration": 8,
    "start_time": "2021-11-21T16:44:54.025Z"
   },
   {
    "duration": 803,
    "start_time": "2021-11-21T16:45:55.728Z"
   },
   {
    "duration": 26,
    "start_time": "2021-11-21T16:45:56.533Z"
   },
   {
    "duration": 5,
    "start_time": "2021-11-21T16:45:56.562Z"
   },
   {
    "duration": 7,
    "start_time": "2021-11-21T16:45:56.570Z"
   },
   {
    "duration": 5,
    "start_time": "2021-11-21T16:45:56.579Z"
   },
   {
    "duration": 5,
    "start_time": "2021-11-21T16:45:56.587Z"
   },
   {
    "duration": 4,
    "start_time": "2021-11-21T16:45:56.594Z"
   },
   {
    "duration": 44,
    "start_time": "2021-11-21T16:45:56.600Z"
   },
   {
    "duration": 5,
    "start_time": "2021-11-21T16:45:56.647Z"
   },
   {
    "duration": 7,
    "start_time": "2021-11-21T16:45:56.654Z"
   },
   {
    "duration": 5,
    "start_time": "2021-11-21T16:45:56.664Z"
   },
   {
    "duration": 31,
    "start_time": "2021-11-21T16:45:56.671Z"
   },
   {
    "duration": 6,
    "start_time": "2021-11-21T16:45:56.703Z"
   },
   {
    "duration": 36,
    "start_time": "2021-11-21T16:45:56.710Z"
   },
   {
    "duration": 9,
    "start_time": "2021-11-21T16:49:29.597Z"
   },
   {
    "duration": 693,
    "start_time": "2021-11-21T16:50:47.579Z"
   },
   {
    "duration": 20,
    "start_time": "2021-11-21T16:50:48.275Z"
   },
   {
    "duration": 6,
    "start_time": "2021-11-21T16:50:48.298Z"
   },
   {
    "duration": 6,
    "start_time": "2021-11-21T16:50:48.306Z"
   },
   {
    "duration": 33,
    "start_time": "2021-11-21T16:50:48.314Z"
   },
   {
    "duration": 7,
    "start_time": "2021-11-21T16:50:48.349Z"
   },
   {
    "duration": 6,
    "start_time": "2021-11-21T16:50:48.359Z"
   },
   {
    "duration": 7,
    "start_time": "2021-11-21T16:50:48.367Z"
   },
   {
    "duration": 5,
    "start_time": "2021-11-21T16:50:48.377Z"
   },
   {
    "duration": 5,
    "start_time": "2021-11-21T16:50:48.384Z"
   },
   {
    "duration": 54,
    "start_time": "2021-11-21T16:50:48.392Z"
   },
   {
    "duration": 14,
    "start_time": "2021-11-21T16:50:48.448Z"
   },
   {
    "duration": 6,
    "start_time": "2021-11-21T16:50:48.464Z"
   },
   {
    "duration": 7,
    "start_time": "2021-11-21T16:50:48.473Z"
   },
   {
    "duration": 4,
    "start_time": "2021-11-21T16:50:48.482Z"
   },
   {
    "duration": 10,
    "start_time": "2021-11-21T16:50:48.487Z"
   },
   {
    "duration": 13,
    "start_time": "2021-11-21T17:00:40.682Z"
   },
   {
    "duration": 786,
    "start_time": "2021-11-21T17:00:57.805Z"
   },
   {
    "duration": 24,
    "start_time": "2021-11-21T17:00:58.594Z"
   },
   {
    "duration": 6,
    "start_time": "2021-11-21T17:00:58.621Z"
   },
   {
    "duration": 20,
    "start_time": "2021-11-21T17:00:58.629Z"
   },
   {
    "duration": 12,
    "start_time": "2021-11-21T17:00:58.651Z"
   },
   {
    "duration": 7,
    "start_time": "2021-11-21T17:00:58.666Z"
   },
   {
    "duration": 5,
    "start_time": "2021-11-21T17:00:58.675Z"
   },
   {
    "duration": 8,
    "start_time": "2021-11-21T17:00:58.684Z"
   },
   {
    "duration": 4,
    "start_time": "2021-11-21T17:00:58.694Z"
   },
   {
    "duration": 5,
    "start_time": "2021-11-21T17:00:58.700Z"
   },
   {
    "duration": 45,
    "start_time": "2021-11-21T17:00:58.706Z"
   },
   {
    "duration": 17,
    "start_time": "2021-11-21T17:00:58.753Z"
   },
   {
    "duration": 5,
    "start_time": "2021-11-21T17:00:58.772Z"
   },
   {
    "duration": 8,
    "start_time": "2021-11-21T17:00:58.778Z"
   },
   {
    "duration": 5,
    "start_time": "2021-11-21T17:00:58.788Z"
   },
   {
    "duration": 7,
    "start_time": "2021-11-21T17:00:58.795Z"
   },
   {
    "duration": 42,
    "start_time": "2021-11-21T17:00:58.804Z"
   },
   {
    "duration": 24,
    "start_time": "2021-11-21T17:00:58.849Z"
   },
   {
    "duration": 6,
    "start_time": "2021-11-21T17:00:58.875Z"
   },
   {
    "duration": 22,
    "start_time": "2021-11-21T17:00:58.883Z"
   },
   {
    "duration": 9,
    "start_time": "2021-11-21T17:05:27.574Z"
   },
   {
    "duration": 18,
    "start_time": "2021-11-21T17:09:31.695Z"
   },
   {
    "duration": 690,
    "start_time": "2021-11-21T17:13:00.798Z"
   },
   {
    "duration": 23,
    "start_time": "2021-11-21T17:13:01.490Z"
   },
   {
    "duration": 6,
    "start_time": "2021-11-21T17:13:01.516Z"
   },
   {
    "duration": 24,
    "start_time": "2021-11-21T17:13:01.525Z"
   },
   {
    "duration": 12,
    "start_time": "2021-11-21T17:13:01.552Z"
   },
   {
    "duration": 12,
    "start_time": "2021-11-21T17:13:01.566Z"
   },
   {
    "duration": 28,
    "start_time": "2021-11-21T17:13:01.580Z"
   },
   {
    "duration": 404,
    "start_time": "2021-11-21T17:13:01.612Z"
   },
   {
    "duration": 623,
    "start_time": "2021-11-21T17:13:01.397Z"
   },
   {
    "duration": 608,
    "start_time": "2021-11-21T17:13:01.413Z"
   },
   {
    "duration": 589,
    "start_time": "2021-11-21T17:13:01.433Z"
   },
   {
    "duration": 584,
    "start_time": "2021-11-21T17:13:01.439Z"
   },
   {
    "duration": 582,
    "start_time": "2021-11-21T17:13:01.442Z"
   },
   {
    "duration": 579,
    "start_time": "2021-11-21T17:13:01.446Z"
   },
   {
    "duration": 577,
    "start_time": "2021-11-21T17:13:01.449Z"
   },
   {
    "duration": 570,
    "start_time": "2021-11-21T17:13:01.458Z"
   },
   {
    "duration": 567,
    "start_time": "2021-11-21T17:13:01.462Z"
   },
   {
    "duration": 565,
    "start_time": "2021-11-21T17:13:01.465Z"
   },
   {
    "duration": 563,
    "start_time": "2021-11-21T17:13:01.468Z"
   },
   {
    "duration": 560,
    "start_time": "2021-11-21T17:13:01.472Z"
   },
   {
    "duration": 558,
    "start_time": "2021-11-21T17:13:01.476Z"
   },
   {
    "duration": 545,
    "start_time": "2021-11-21T17:13:01.490Z"
   },
   {
    "duration": 537,
    "start_time": "2021-11-21T17:13:01.499Z"
   },
   {
    "duration": 684,
    "start_time": "2021-11-21T17:13:19.933Z"
   },
   {
    "duration": 25,
    "start_time": "2021-11-21T17:13:20.619Z"
   },
   {
    "duration": 7,
    "start_time": "2021-11-21T17:13:20.648Z"
   },
   {
    "duration": 6,
    "start_time": "2021-11-21T17:13:20.658Z"
   },
   {
    "duration": 5,
    "start_time": "2021-11-21T17:13:20.666Z"
   },
   {
    "duration": 6,
    "start_time": "2021-11-21T17:13:20.673Z"
   },
   {
    "duration": 5,
    "start_time": "2021-11-21T17:13:20.680Z"
   },
   {
    "duration": 447,
    "start_time": "2021-11-21T17:13:20.688Z"
   },
   {
    "duration": 633,
    "start_time": "2021-11-21T17:13:20.504Z"
   },
   {
    "duration": 611,
    "start_time": "2021-11-21T17:13:20.527Z"
   },
   {
    "duration": 604,
    "start_time": "2021-11-21T17:13:20.536Z"
   },
   {
    "duration": 601,
    "start_time": "2021-11-21T17:13:20.540Z"
   },
   {
    "duration": 598,
    "start_time": "2021-11-21T17:13:20.544Z"
   },
   {
    "duration": 596,
    "start_time": "2021-11-21T17:13:20.547Z"
   },
   {
    "duration": 594,
    "start_time": "2021-11-21T17:13:20.551Z"
   },
   {
    "duration": 591,
    "start_time": "2021-11-21T17:13:20.555Z"
   },
   {
    "duration": 590,
    "start_time": "2021-11-21T17:13:20.558Z"
   },
   {
    "duration": 587,
    "start_time": "2021-11-21T17:13:20.562Z"
   },
   {
    "duration": 584,
    "start_time": "2021-11-21T17:13:20.566Z"
   },
   {
    "duration": 582,
    "start_time": "2021-11-21T17:13:20.570Z"
   },
   {
    "duration": 574,
    "start_time": "2021-11-21T17:13:20.579Z"
   },
   {
    "duration": 571,
    "start_time": "2021-11-21T17:13:20.583Z"
   },
   {
    "duration": 568,
    "start_time": "2021-11-21T17:13:20.588Z"
   },
   {
    "duration": 269,
    "start_time": "2021-11-21T17:13:42.532Z"
   },
   {
    "duration": 510,
    "start_time": "2021-11-21T17:14:34.822Z"
   },
   {
    "duration": 648,
    "start_time": "2021-11-21T17:14:54.758Z"
   },
   {
    "duration": 19,
    "start_time": "2021-11-21T17:14:55.408Z"
   },
   {
    "duration": 7,
    "start_time": "2021-11-21T17:14:55.429Z"
   },
   {
    "duration": 9,
    "start_time": "2021-11-21T17:14:55.438Z"
   },
   {
    "duration": 4,
    "start_time": "2021-11-21T17:14:55.449Z"
   },
   {
    "duration": 7,
    "start_time": "2021-11-21T17:14:55.455Z"
   },
   {
    "duration": 5,
    "start_time": "2021-11-21T17:14:55.463Z"
   },
   {
    "duration": 7,
    "start_time": "2021-11-21T17:14:55.469Z"
   },
   {
    "duration": 5,
    "start_time": "2021-11-21T17:14:55.479Z"
   },
   {
    "duration": 5,
    "start_time": "2021-11-21T17:14:55.485Z"
   },
   {
    "duration": 8,
    "start_time": "2021-11-21T17:14:55.492Z"
   },
   {
    "duration": 13,
    "start_time": "2021-11-21T17:14:55.544Z"
   },
   {
    "duration": 4,
    "start_time": "2021-11-21T17:14:55.559Z"
   },
   {
    "duration": 8,
    "start_time": "2021-11-21T17:14:55.565Z"
   },
   {
    "duration": 5,
    "start_time": "2021-11-21T17:14:55.575Z"
   },
   {
    "duration": 8,
    "start_time": "2021-11-21T17:14:55.581Z"
   },
   {
    "duration": 4,
    "start_time": "2021-11-21T17:14:55.590Z"
   },
   {
    "duration": 55,
    "start_time": "2021-11-21T17:14:55.596Z"
   },
   {
    "duration": 4,
    "start_time": "2021-11-21T17:14:55.653Z"
   },
   {
    "duration": 15,
    "start_time": "2021-11-21T17:14:55.659Z"
   },
   {
    "duration": 9,
    "start_time": "2021-11-21T17:14:55.676Z"
   },
   {
    "duration": 19,
    "start_time": "2021-11-21T17:14:55.688Z"
   },
   {
    "duration": 664,
    "start_time": "2021-11-21T17:23:05.066Z"
   },
   {
    "duration": 19,
    "start_time": "2021-11-21T17:23:05.732Z"
   },
   {
    "duration": 11,
    "start_time": "2021-11-21T17:23:05.754Z"
   },
   {
    "duration": 25,
    "start_time": "2021-11-21T17:23:05.767Z"
   },
   {
    "duration": 25,
    "start_time": "2021-11-21T17:23:05.794Z"
   },
   {
    "duration": 18,
    "start_time": "2021-11-21T17:23:05.821Z"
   },
   {
    "duration": 20,
    "start_time": "2021-11-21T17:23:05.840Z"
   },
   {
    "duration": 19,
    "start_time": "2021-11-21T17:23:05.863Z"
   },
   {
    "duration": 16,
    "start_time": "2021-11-21T17:23:05.884Z"
   },
   {
    "duration": 27,
    "start_time": "2021-11-21T17:23:05.902Z"
   },
   {
    "duration": 27,
    "start_time": "2021-11-21T17:23:05.931Z"
   },
   {
    "duration": 17,
    "start_time": "2021-11-21T17:23:05.959Z"
   },
   {
    "duration": 18,
    "start_time": "2021-11-21T17:23:05.977Z"
   },
   {
    "duration": 22,
    "start_time": "2021-11-21T17:23:05.997Z"
   },
   {
    "duration": 26,
    "start_time": "2021-11-21T17:23:06.021Z"
   },
   {
    "duration": 11,
    "start_time": "2021-11-21T17:23:06.049Z"
   },
   {
    "duration": 18,
    "start_time": "2021-11-21T17:23:06.062Z"
   },
   {
    "duration": 20,
    "start_time": "2021-11-21T17:23:06.083Z"
   },
   {
    "duration": 28,
    "start_time": "2021-11-21T17:23:06.105Z"
   },
   {
    "duration": 31,
    "start_time": "2021-11-21T17:23:06.135Z"
   },
   {
    "duration": 24,
    "start_time": "2021-11-21T17:23:06.168Z"
   },
   {
    "duration": 23,
    "start_time": "2021-11-21T17:23:06.194Z"
   },
   {
    "duration": 28,
    "start_time": "2021-11-21T17:23:06.220Z"
   },
   {
    "duration": 15,
    "start_time": "2021-11-21T17:23:27.840Z"
   },
   {
    "duration": 12,
    "start_time": "2021-11-21T17:24:19.863Z"
   },
   {
    "duration": 34,
    "start_time": "2021-11-21T17:27:11.127Z"
   },
   {
    "duration": 840,
    "start_time": "2021-11-21T17:30:57.088Z"
   },
   {
    "duration": 24,
    "start_time": "2021-11-21T17:30:57.931Z"
   },
   {
    "duration": 4,
    "start_time": "2021-11-21T17:30:57.958Z"
   },
   {
    "duration": 5,
    "start_time": "2021-11-21T17:30:57.964Z"
   },
   {
    "duration": 5,
    "start_time": "2021-11-21T17:30:57.971Z"
   },
   {
    "duration": 6,
    "start_time": "2021-11-21T17:30:57.978Z"
   },
   {
    "duration": 4,
    "start_time": "2021-11-21T17:30:57.985Z"
   },
   {
    "duration": 8,
    "start_time": "2021-11-21T17:30:57.991Z"
   },
   {
    "duration": 43,
    "start_time": "2021-11-21T17:30:58.001Z"
   },
   {
    "duration": 5,
    "start_time": "2021-11-21T17:30:58.046Z"
   },
   {
    "duration": 10,
    "start_time": "2021-11-21T17:30:58.053Z"
   },
   {
    "duration": 5,
    "start_time": "2021-11-21T17:30:58.065Z"
   },
   {
    "duration": 13,
    "start_time": "2021-11-21T17:30:58.072Z"
   },
   {
    "duration": 6,
    "start_time": "2021-11-21T17:30:58.086Z"
   },
   {
    "duration": 8,
    "start_time": "2021-11-21T17:30:58.094Z"
   },
   {
    "duration": 44,
    "start_time": "2021-11-21T17:30:58.104Z"
   },
   {
    "duration": 9,
    "start_time": "2021-11-21T17:30:58.150Z"
   },
   {
    "duration": 3,
    "start_time": "2021-11-21T17:30:58.161Z"
   },
   {
    "duration": 13,
    "start_time": "2021-11-21T17:30:58.166Z"
   },
   {
    "duration": 3,
    "start_time": "2021-11-21T17:30:58.181Z"
   },
   {
    "duration": 18,
    "start_time": "2021-11-21T17:30:58.185Z"
   },
   {
    "duration": 46,
    "start_time": "2021-11-21T17:30:58.204Z"
   },
   {
    "duration": 32,
    "start_time": "2021-11-21T17:30:58.253Z"
   },
   {
    "duration": 38,
    "start_time": "2021-11-21T17:30:58.287Z"
   },
   {
    "duration": 15,
    "start_time": "2021-11-21T17:30:58.327Z"
   },
   {
    "duration": 25,
    "start_time": "2021-11-21T17:33:16.360Z"
   },
   {
    "duration": 418,
    "start_time": "2021-11-21T17:37:11.889Z"
   },
   {
    "duration": 753,
    "start_time": "2021-11-21T17:38:17.531Z"
   },
   {
    "duration": 19,
    "start_time": "2021-11-21T17:38:18.286Z"
   },
   {
    "duration": 4,
    "start_time": "2021-11-21T17:38:18.307Z"
   },
   {
    "duration": 5,
    "start_time": "2021-11-21T17:38:18.314Z"
   },
   {
    "duration": 28,
    "start_time": "2021-11-21T17:38:18.321Z"
   },
   {
    "duration": 15,
    "start_time": "2021-11-21T17:38:18.351Z"
   },
   {
    "duration": 4,
    "start_time": "2021-11-21T17:38:18.369Z"
   },
   {
    "duration": 8,
    "start_time": "2021-11-21T17:38:18.376Z"
   },
   {
    "duration": 4,
    "start_time": "2021-11-21T17:38:18.387Z"
   },
   {
    "duration": 6,
    "start_time": "2021-11-21T17:38:18.392Z"
   },
   {
    "duration": 53,
    "start_time": "2021-11-21T17:38:18.400Z"
   },
   {
    "duration": 7,
    "start_time": "2021-11-21T17:38:18.455Z"
   },
   {
    "duration": 11,
    "start_time": "2021-11-21T17:38:18.465Z"
   },
   {
    "duration": 4,
    "start_time": "2021-11-21T17:38:18.478Z"
   },
   {
    "duration": 8,
    "start_time": "2021-11-21T17:38:18.484Z"
   },
   {
    "duration": 5,
    "start_time": "2021-11-21T17:38:18.493Z"
   },
   {
    "duration": 47,
    "start_time": "2021-11-21T17:38:18.499Z"
   },
   {
    "duration": 5,
    "start_time": "2021-11-21T17:38:18.548Z"
   },
   {
    "duration": 17,
    "start_time": "2021-11-21T17:38:18.556Z"
   },
   {
    "duration": 5,
    "start_time": "2021-11-21T17:38:18.575Z"
   },
   {
    "duration": 14,
    "start_time": "2021-11-21T17:38:18.582Z"
   },
   {
    "duration": 10,
    "start_time": "2021-11-21T17:38:18.598Z"
   },
   {
    "duration": 25,
    "start_time": "2021-11-21T17:38:18.643Z"
   },
   {
    "duration": 36,
    "start_time": "2021-11-21T17:38:18.670Z"
   },
   {
    "duration": 57,
    "start_time": "2021-11-21T17:38:18.708Z"
   },
   {
    "duration": 34,
    "start_time": "2021-11-21T17:38:18.767Z"
   },
   {
    "duration": 15,
    "start_time": "2021-11-21T17:38:18.802Z"
   },
   {
    "duration": 31,
    "start_time": "2021-11-21T17:39:03.901Z"
   },
   {
    "duration": 47,
    "start_time": "2021-11-21T17:39:03.935Z"
   },
   {
    "duration": 706,
    "start_time": "2021-11-21T17:40:19.165Z"
   },
   {
    "duration": 20,
    "start_time": "2021-11-21T17:40:19.874Z"
   },
   {
    "duration": 5,
    "start_time": "2021-11-21T17:40:19.896Z"
   },
   {
    "duration": 5,
    "start_time": "2021-11-21T17:40:19.904Z"
   },
   {
    "duration": 36,
    "start_time": "2021-11-21T17:40:19.911Z"
   },
   {
    "duration": 8,
    "start_time": "2021-11-21T17:40:19.949Z"
   },
   {
    "duration": 6,
    "start_time": "2021-11-21T17:40:19.960Z"
   },
   {
    "duration": 6,
    "start_time": "2021-11-21T17:40:19.970Z"
   },
   {
    "duration": 6,
    "start_time": "2021-11-21T17:40:19.978Z"
   },
   {
    "duration": 5,
    "start_time": "2021-11-21T17:40:19.986Z"
   },
   {
    "duration": 61,
    "start_time": "2021-11-21T17:40:19.993Z"
   },
   {
    "duration": 6,
    "start_time": "2021-11-21T17:40:20.057Z"
   },
   {
    "duration": 13,
    "start_time": "2021-11-21T17:40:20.066Z"
   },
   {
    "duration": 5,
    "start_time": "2021-11-21T17:40:20.081Z"
   },
   {
    "duration": 10,
    "start_time": "2021-11-21T17:40:20.088Z"
   },
   {
    "duration": 5,
    "start_time": "2021-11-21T17:40:20.100Z"
   },
   {
    "duration": 48,
    "start_time": "2021-11-21T17:40:20.106Z"
   },
   {
    "duration": 5,
    "start_time": "2021-11-21T17:40:20.156Z"
   },
   {
    "duration": 19,
    "start_time": "2021-11-21T17:40:20.163Z"
   },
   {
    "duration": 5,
    "start_time": "2021-11-21T17:40:20.184Z"
   },
   {
    "duration": 13,
    "start_time": "2021-11-21T17:40:20.191Z"
   },
   {
    "duration": 9,
    "start_time": "2021-11-21T17:40:20.206Z"
   },
   {
    "duration": 57,
    "start_time": "2021-11-21T17:40:20.218Z"
   },
   {
    "duration": 40,
    "start_time": "2021-11-21T17:40:20.276Z"
   },
   {
    "duration": 62,
    "start_time": "2021-11-21T17:40:20.318Z"
   },
   {
    "duration": 36,
    "start_time": "2021-11-21T17:40:20.383Z"
   },
   {
    "duration": 34,
    "start_time": "2021-11-21T17:40:20.420Z"
   },
   {
    "duration": 29,
    "start_time": "2021-11-21T17:41:57.032Z"
   },
   {
    "duration": 34,
    "start_time": "2021-11-21T17:43:39.356Z"
   },
   {
    "duration": 18,
    "start_time": "2021-11-21T17:43:39.393Z"
   },
   {
    "duration": 401,
    "start_time": "2021-11-21T17:46:24.572Z"
   },
   {
    "duration": 10,
    "start_time": "2021-11-21T17:47:55.448Z"
   },
   {
    "duration": 722,
    "start_time": "2021-11-21T17:52:11.407Z"
   },
   {
    "duration": 35,
    "start_time": "2021-11-21T17:52:12.131Z"
   },
   {
    "duration": 4,
    "start_time": "2021-11-21T17:52:12.169Z"
   },
   {
    "duration": 8,
    "start_time": "2021-11-21T17:52:12.175Z"
   },
   {
    "duration": 4,
    "start_time": "2021-11-21T17:52:12.185Z"
   },
   {
    "duration": 7,
    "start_time": "2021-11-21T17:52:12.190Z"
   },
   {
    "duration": 4,
    "start_time": "2021-11-21T17:52:12.199Z"
   },
   {
    "duration": 7,
    "start_time": "2021-11-21T17:52:12.205Z"
   },
   {
    "duration": 30,
    "start_time": "2021-11-21T17:52:12.215Z"
   },
   {
    "duration": 10,
    "start_time": "2021-11-21T17:52:12.247Z"
   },
   {
    "duration": 15,
    "start_time": "2021-11-21T17:52:12.259Z"
   },
   {
    "duration": 3,
    "start_time": "2021-11-21T17:52:12.276Z"
   },
   {
    "duration": 15,
    "start_time": "2021-11-21T17:52:12.281Z"
   },
   {
    "duration": 7,
    "start_time": "2021-11-21T17:52:12.297Z"
   },
   {
    "duration": 9,
    "start_time": "2021-11-21T17:52:12.306Z"
   },
   {
    "duration": 6,
    "start_time": "2021-11-21T17:52:12.346Z"
   },
   {
    "duration": 11,
    "start_time": "2021-11-21T17:52:12.354Z"
   },
   {
    "duration": 4,
    "start_time": "2021-11-21T17:52:12.367Z"
   },
   {
    "duration": 15,
    "start_time": "2021-11-21T17:52:12.373Z"
   },
   {
    "duration": 4,
    "start_time": "2021-11-21T17:52:12.393Z"
   },
   {
    "duration": 48,
    "start_time": "2021-11-21T17:52:12.398Z"
   },
   {
    "duration": 11,
    "start_time": "2021-11-21T17:52:12.449Z"
   },
   {
    "duration": 22,
    "start_time": "2021-11-21T17:52:12.462Z"
   },
   {
    "duration": 35,
    "start_time": "2021-11-21T17:52:12.485Z"
   },
   {
    "duration": 40,
    "start_time": "2021-11-21T17:52:12.544Z"
   },
   {
    "duration": 828,
    "start_time": "2021-11-22T16:14:06.871Z"
   },
   {
    "duration": 30,
    "start_time": "2021-11-22T16:14:17.796Z"
   },
   {
    "duration": 10,
    "start_time": "2021-11-22T16:14:25.328Z"
   },
   {
    "duration": 6,
    "start_time": "2021-11-22T16:14:30.163Z"
   },
   {
    "duration": 7,
    "start_time": "2021-11-22T16:14:36.014Z"
   },
   {
    "duration": 9,
    "start_time": "2021-11-22T16:14:43.504Z"
   },
   {
    "duration": 7,
    "start_time": "2021-11-22T16:14:48.672Z"
   },
   {
    "duration": 6,
    "start_time": "2021-11-22T16:14:52.454Z"
   },
   {
    "duration": 9,
    "start_time": "2021-11-22T16:14:55.595Z"
   },
   {
    "duration": 6,
    "start_time": "2021-11-22T16:15:09.578Z"
   },
   {
    "duration": 13,
    "start_time": "2021-11-22T16:15:12.360Z"
   },
   {
    "duration": 9,
    "start_time": "2021-11-22T16:15:59.219Z"
   },
   {
    "duration": 5,
    "start_time": "2021-11-22T16:17:09.177Z"
   },
   {
    "duration": 14,
    "start_time": "2021-11-22T16:17:56.289Z"
   },
   {
    "duration": 19,
    "start_time": "2021-11-22T16:18:11.107Z"
   },
   {
    "duration": 23,
    "start_time": "2021-11-22T16:18:40.703Z"
   },
   {
    "duration": 6,
    "start_time": "2021-11-22T16:18:43.164Z"
   },
   {
    "duration": 10,
    "start_time": "2021-11-22T16:18:51.038Z"
   },
   {
    "duration": 25,
    "start_time": "2021-11-22T16:18:59.581Z"
   },
   {
    "duration": 13,
    "start_time": "2021-11-22T16:19:02.036Z"
   },
   {
    "duration": 6,
    "start_time": "2021-11-22T16:19:26.352Z"
   },
   {
    "duration": 27,
    "start_time": "2021-11-22T16:19:29.251Z"
   },
   {
    "duration": 13,
    "start_time": "2021-11-22T16:19:58.599Z"
   },
   {
    "duration": 33,
    "start_time": "2021-11-22T16:20:01.857Z"
   },
   {
    "duration": 58,
    "start_time": "2021-11-22T16:20:14.605Z"
   },
   {
    "duration": 38,
    "start_time": "2021-11-22T16:20:18.251Z"
   },
   {
    "duration": 23,
    "start_time": "2021-11-22T16:20:56.572Z"
   },
   {
    "duration": 5,
    "start_time": "2021-11-22T16:21:45.187Z"
   },
   {
    "duration": 20,
    "start_time": "2021-11-22T16:21:47.671Z"
   },
   {
    "duration": 16,
    "start_time": "2021-11-22T16:21:53.683Z"
   },
   {
    "duration": 24,
    "start_time": "2021-11-22T16:22:07.144Z"
   },
   {
    "duration": 68,
    "start_time": "2021-11-22T16:22:24.586Z"
   },
   {
    "duration": 47,
    "start_time": "2021-11-22T16:22:33.673Z"
   },
   {
    "duration": 18,
    "start_time": "2021-11-22T16:22:40.195Z"
   },
   {
    "duration": 57,
    "start_time": "2021-11-22T16:23:08.096Z"
   },
   {
    "duration": 476,
    "start_time": "2021-11-22T16:32:10.403Z"
   },
   {
    "duration": 300,
    "start_time": "2021-11-22T16:33:58.342Z"
   },
   {
    "duration": 8,
    "start_time": "2021-11-22T16:34:47.315Z"
   },
   {
    "duration": 3601,
    "start_time": "2021-11-22T16:39:08.589Z"
   },
   {
    "duration": 4720,
    "start_time": "2021-11-22T16:39:32.710Z"
   },
   {
    "duration": 3852,
    "start_time": "2021-11-22T16:39:37.433Z"
   },
   {
    "duration": 29,
    "start_time": "2021-11-22T16:42:40.271Z"
   },
   {
    "duration": 18,
    "start_time": "2021-11-22T16:42:53.459Z"
   },
   {
    "duration": 399,
    "start_time": "2021-11-22T16:43:04.832Z"
   },
   {
    "duration": 4175,
    "start_time": "2021-11-22T16:43:15.161Z"
   },
   {
    "duration": 16,
    "start_time": "2021-11-22T16:43:23.907Z"
   },
   {
    "duration": 4151,
    "start_time": "2021-11-22T16:43:55.584Z"
   },
   {
    "duration": 18,
    "start_time": "2021-11-22T16:43:59.737Z"
   },
   {
    "duration": 4208,
    "start_time": "2021-11-22T16:44:37.930Z"
   },
   {
    "duration": 20,
    "start_time": "2021-11-22T16:44:42.141Z"
   },
   {
    "duration": 18,
    "start_time": "2021-11-22T16:46:00.041Z"
   },
   {
    "duration": 19,
    "start_time": "2021-11-22T16:46:27.287Z"
   },
   {
    "duration": 3883,
    "start_time": "2021-11-22T16:46:52.483Z"
   },
   {
    "duration": 31,
    "start_time": "2021-11-22T16:46:56.369Z"
   },
   {
    "duration": 9,
    "start_time": "2021-11-22T16:47:48.020Z"
   },
   {
    "duration": 90,
    "start_time": "2021-11-22T16:49:34.809Z"
   },
   {
    "duration": 1415,
    "start_time": "2021-11-22T16:50:25.524Z"
   },
   {
    "duration": 3891,
    "start_time": "2021-11-22T16:50:42.358Z"
   },
   {
    "duration": 35,
    "start_time": "2021-11-22T16:50:46.252Z"
   },
   {
    "duration": 3877,
    "start_time": "2021-11-22T16:51:31.324Z"
   },
   {
    "duration": 19,
    "start_time": "2021-11-22T16:51:35.204Z"
   },
   {
    "duration": 3829,
    "start_time": "2021-11-22T16:52:26.314Z"
   },
   {
    "duration": 19,
    "start_time": "2021-11-22T16:52:30.145Z"
   },
   {
    "duration": 10,
    "start_time": "2021-11-22T16:52:55.063Z"
   },
   {
    "duration": 22,
    "start_time": "2021-11-22T16:54:23.157Z"
   },
   {
    "duration": 20,
    "start_time": "2021-11-22T16:54:26.099Z"
   },
   {
    "duration": 894,
    "start_time": "2021-11-22T16:56:19.295Z"
   },
   {
    "duration": 35,
    "start_time": "2021-11-22T16:56:20.192Z"
   },
   {
    "duration": 6,
    "start_time": "2021-11-22T16:56:20.230Z"
   },
   {
    "duration": 7,
    "start_time": "2021-11-22T16:56:20.240Z"
   },
   {
    "duration": 11,
    "start_time": "2021-11-22T16:56:20.283Z"
   },
   {
    "duration": 20,
    "start_time": "2021-11-22T16:56:20.296Z"
   },
   {
    "duration": 13,
    "start_time": "2021-11-22T16:56:20.319Z"
   },
   {
    "duration": 10,
    "start_time": "2021-11-22T16:56:20.336Z"
   },
   {
    "duration": 39,
    "start_time": "2021-11-22T16:56:20.349Z"
   },
   {
    "duration": 14,
    "start_time": "2021-11-22T16:56:20.391Z"
   },
   {
    "duration": 16,
    "start_time": "2021-11-22T16:56:20.408Z"
   },
   {
    "duration": 7,
    "start_time": "2021-11-22T16:56:20.426Z"
   },
   {
    "duration": 8,
    "start_time": "2021-11-22T16:56:20.435Z"
   },
   {
    "duration": 44,
    "start_time": "2021-11-22T16:56:20.445Z"
   },
   {
    "duration": 37,
    "start_time": "2021-11-22T16:56:20.492Z"
   },
   {
    "duration": 7,
    "start_time": "2021-11-22T16:56:20.532Z"
   },
   {
    "duration": 41,
    "start_time": "2021-11-22T16:56:20.542Z"
   },
   {
    "duration": 13,
    "start_time": "2021-11-22T16:56:20.586Z"
   },
   {
    "duration": 16,
    "start_time": "2021-11-22T16:56:20.602Z"
   },
   {
    "duration": 5,
    "start_time": "2021-11-22T16:56:20.621Z"
   },
   {
    "duration": 30,
    "start_time": "2021-11-22T16:56:20.628Z"
   },
   {
    "duration": 33,
    "start_time": "2021-11-22T16:56:20.660Z"
   },
   {
    "duration": 25,
    "start_time": "2021-11-22T16:56:20.701Z"
   },
   {
    "duration": 13,
    "start_time": "2021-11-22T16:56:20.731Z"
   },
   {
    "duration": 66,
    "start_time": "2021-11-22T16:56:20.746Z"
   },
   {
    "duration": 86,
    "start_time": "2021-11-22T16:56:20.814Z"
   },
   {
    "duration": 57,
    "start_time": "2021-11-22T16:56:20.904Z"
   },
   {
    "duration": 20,
    "start_time": "2021-11-22T16:56:20.983Z"
   },
   {
    "duration": 60,
    "start_time": "2021-11-22T16:56:21.005Z"
   },
   {
    "duration": 10,
    "start_time": "2021-11-22T16:56:21.084Z"
   },
   {
    "duration": 3586,
    "start_time": "2021-11-22T16:56:21.096Z"
   },
   {
    "duration": 20,
    "start_time": "2021-11-22T16:56:24.684Z"
   },
   {
    "duration": 4160,
    "start_time": "2021-11-22T16:56:24.706Z"
   },
   {
    "duration": 40,
    "start_time": "2021-11-22T16:56:28.868Z"
   },
   {
    "duration": 12,
    "start_time": "2021-11-22T16:56:28.911Z"
   },
   {
    "duration": 31,
    "start_time": "2021-11-22T16:56:28.926Z"
   },
   {
    "duration": 46,
    "start_time": "2021-11-22T16:56:28.960Z"
   },
   {
    "duration": 27,
    "start_time": "2021-11-22T16:59:01.959Z"
   },
   {
    "duration": 71,
    "start_time": "2021-11-22T17:00:08.961Z"
   },
   {
    "duration": 53,
    "start_time": "2021-11-22T17:02:40.243Z"
   },
   {
    "duration": 835,
    "start_time": "2021-11-22T17:03:47.428Z"
   },
   {
    "duration": 30,
    "start_time": "2021-11-22T17:03:48.266Z"
   },
   {
    "duration": 6,
    "start_time": "2021-11-22T17:03:48.299Z"
   },
   {
    "duration": 7,
    "start_time": "2021-11-22T17:03:48.308Z"
   },
   {
    "duration": 7,
    "start_time": "2021-11-22T17:03:48.318Z"
   },
   {
    "duration": 57,
    "start_time": "2021-11-22T17:03:48.327Z"
   },
   {
    "duration": 7,
    "start_time": "2021-11-22T17:03:48.387Z"
   },
   {
    "duration": 9,
    "start_time": "2021-11-22T17:03:48.398Z"
   },
   {
    "duration": 15,
    "start_time": "2021-11-22T17:03:48.410Z"
   },
   {
    "duration": 6,
    "start_time": "2021-11-22T17:03:48.428Z"
   },
   {
    "duration": 61,
    "start_time": "2021-11-22T17:03:48.437Z"
   },
   {
    "duration": 10,
    "start_time": "2021-11-22T17:03:48.501Z"
   },
   {
    "duration": 6,
    "start_time": "2021-11-22T17:03:48.514Z"
   },
   {
    "duration": 10,
    "start_time": "2021-11-22T17:03:48.523Z"
   },
   {
    "duration": 53,
    "start_time": "2021-11-22T17:03:48.535Z"
   },
   {
    "duration": 5,
    "start_time": "2021-11-22T17:03:48.590Z"
   },
   {
    "duration": 16,
    "start_time": "2021-11-22T17:03:48.598Z"
   },
   {
    "duration": 19,
    "start_time": "2021-11-22T17:03:48.616Z"
   },
   {
    "duration": 44,
    "start_time": "2021-11-22T17:03:48.637Z"
   },
   {
    "duration": 5,
    "start_time": "2021-11-22T17:03:48.683Z"
   },
   {
    "duration": 23,
    "start_time": "2021-11-22T17:03:48.690Z"
   },
   {
    "duration": 5,
    "start_time": "2021-11-22T17:03:48.715Z"
   },
   {
    "duration": 59,
    "start_time": "2021-11-22T17:03:48.724Z"
   },
   {
    "duration": 10,
    "start_time": "2021-11-22T17:03:48.786Z"
   },
   {
    "duration": 30,
    "start_time": "2021-11-22T17:03:48.798Z"
   },
   {
    "duration": 89,
    "start_time": "2021-11-22T17:03:48.830Z"
   },
   {
    "duration": 61,
    "start_time": "2021-11-22T17:03:48.922Z"
   },
   {
    "duration": 8,
    "start_time": "2021-11-22T17:03:48.986Z"
   },
   {
    "duration": 3974,
    "start_time": "2021-11-22T17:03:48.996Z"
   },
   {
    "duration": 19,
    "start_time": "2021-11-22T17:03:52.973Z"
   },
   {
    "duration": 4262,
    "start_time": "2021-11-22T17:03:52.994Z"
   },
   {
    "duration": 34,
    "start_time": "2021-11-22T17:03:57.258Z"
   },
   {
    "duration": 17,
    "start_time": "2021-11-22T17:03:57.295Z"
   },
   {
    "duration": 24,
    "start_time": "2021-11-22T17:03:57.314Z"
   },
   {
    "duration": 43,
    "start_time": "2021-11-22T17:03:57.340Z"
   },
   {
    "duration": 779,
    "start_time": "2021-11-22T17:05:10.486Z"
   },
   {
    "duration": 7,
    "start_time": "2021-11-22T17:05:21.986Z"
   },
   {
    "duration": 804,
    "start_time": "2021-11-22T17:05:49.309Z"
   },
   {
    "duration": 43,
    "start_time": "2021-11-22T17:05:50.116Z"
   },
   {
    "duration": 26,
    "start_time": "2021-11-22T17:05:50.163Z"
   },
   {
    "duration": 13,
    "start_time": "2021-11-22T17:05:50.193Z"
   },
   {
    "duration": 8,
    "start_time": "2021-11-22T17:05:50.210Z"
   },
   {
    "duration": 9,
    "start_time": "2021-11-22T17:05:50.221Z"
   },
   {
    "duration": 7,
    "start_time": "2021-11-22T17:05:50.233Z"
   },
   {
    "duration": 7,
    "start_time": "2021-11-22T17:05:50.282Z"
   },
   {
    "duration": 15,
    "start_time": "2021-11-22T17:05:50.293Z"
   },
   {
    "duration": 6,
    "start_time": "2021-11-22T17:05:50.311Z"
   },
   {
    "duration": 16,
    "start_time": "2021-11-22T17:05:50.320Z"
   },
   {
    "duration": 10,
    "start_time": "2021-11-22T17:05:50.383Z"
   },
   {
    "duration": 8,
    "start_time": "2021-11-22T17:05:50.396Z"
   },
   {
    "duration": 17,
    "start_time": "2021-11-22T17:05:50.406Z"
   },
   {
    "duration": 21,
    "start_time": "2021-11-22T17:05:50.426Z"
   },
   {
    "duration": 35,
    "start_time": "2021-11-22T17:05:50.450Z"
   },
   {
    "duration": 12,
    "start_time": "2021-11-22T17:05:50.488Z"
   },
   {
    "duration": 6,
    "start_time": "2021-11-22T17:05:50.502Z"
   },
   {
    "duration": 12,
    "start_time": "2021-11-22T17:05:50.511Z"
   },
   {
    "duration": 5,
    "start_time": "2021-11-22T17:05:50.526Z"
   },
   {
    "duration": 63,
    "start_time": "2021-11-22T17:05:50.534Z"
   },
   {
    "duration": 10,
    "start_time": "2021-11-22T17:05:50.599Z"
   },
   {
    "duration": 25,
    "start_time": "2021-11-22T17:05:50.614Z"
   },
   {
    "duration": 15,
    "start_time": "2021-11-22T17:05:50.641Z"
   },
   {
    "duration": 31,
    "start_time": "2021-11-22T17:05:50.684Z"
   },
   {
    "duration": 75,
    "start_time": "2021-11-22T17:05:50.718Z"
   },
   {
    "duration": 50,
    "start_time": "2021-11-22T17:05:50.795Z"
   },
   {
    "duration": 8,
    "start_time": "2021-11-22T17:05:50.847Z"
   },
   {
    "duration": 3573,
    "start_time": "2021-11-22T17:05:50.857Z"
   },
   {
    "duration": 20,
    "start_time": "2021-11-22T17:05:54.433Z"
   },
   {
    "duration": 4074,
    "start_time": "2021-11-22T17:05:54.455Z"
   },
   {
    "duration": 21,
    "start_time": "2021-11-22T17:05:58.531Z"
   },
   {
    "duration": 33,
    "start_time": "2021-11-22T17:05:58.554Z"
   },
   {
    "duration": 8,
    "start_time": "2021-11-22T17:05:58.589Z"
   },
   {
    "duration": 25,
    "start_time": "2021-11-22T17:05:58.600Z"
   },
   {
    "duration": 19,
    "start_time": "2021-11-22T17:05:58.627Z"
   },
   {
    "duration": 22,
    "start_time": "2021-11-22T17:06:57.764Z"
   },
   {
    "duration": 58,
    "start_time": "2021-11-22T17:07:34.559Z"
   },
   {
    "duration": 15,
    "start_time": "2021-11-22T17:07:38.118Z"
   },
   {
    "duration": 54,
    "start_time": "2021-11-22T17:08:09.073Z"
   },
   {
    "duration": 18,
    "start_time": "2021-11-22T17:08:25.005Z"
   },
   {
    "duration": 848,
    "start_time": "2021-11-22T17:08:42.266Z"
   },
   {
    "duration": 29,
    "start_time": "2021-11-22T17:08:43.117Z"
   },
   {
    "duration": 6,
    "start_time": "2021-11-22T17:08:43.150Z"
   },
   {
    "duration": 7,
    "start_time": "2021-11-22T17:08:43.183Z"
   },
   {
    "duration": 13,
    "start_time": "2021-11-22T17:08:43.192Z"
   },
   {
    "duration": 11,
    "start_time": "2021-11-22T17:08:43.208Z"
   },
   {
    "duration": 10,
    "start_time": "2021-11-22T17:08:43.222Z"
   },
   {
    "duration": 7,
    "start_time": "2021-11-22T17:08:43.236Z"
   },
   {
    "duration": 42,
    "start_time": "2021-11-22T17:08:43.246Z"
   },
   {
    "duration": 13,
    "start_time": "2021-11-22T17:08:43.291Z"
   },
   {
    "duration": 15,
    "start_time": "2021-11-22T17:08:43.307Z"
   },
   {
    "duration": 11,
    "start_time": "2021-11-22T17:08:43.325Z"
   },
   {
    "duration": 44,
    "start_time": "2021-11-22T17:08:43.338Z"
   },
   {
    "duration": 8,
    "start_time": "2021-11-22T17:08:43.384Z"
   },
   {
    "duration": 34,
    "start_time": "2021-11-22T17:08:43.394Z"
   },
   {
    "duration": 6,
    "start_time": "2021-11-22T17:08:43.430Z"
   },
   {
    "duration": 15,
    "start_time": "2021-11-22T17:08:43.438Z"
   },
   {
    "duration": 27,
    "start_time": "2021-11-22T17:08:43.455Z"
   },
   {
    "duration": 11,
    "start_time": "2021-11-22T17:08:43.484Z"
   },
   {
    "duration": 9,
    "start_time": "2021-11-22T17:08:43.497Z"
   },
   {
    "duration": 21,
    "start_time": "2021-11-22T17:08:43.508Z"
   },
   {
    "duration": 10,
    "start_time": "2021-11-22T17:08:43.532Z"
   },
   {
    "duration": 49,
    "start_time": "2021-11-22T17:08:43.547Z"
   },
   {
    "duration": 12,
    "start_time": "2021-11-22T17:08:43.599Z"
   },
   {
    "duration": 23,
    "start_time": "2021-11-22T17:08:43.614Z"
   },
   {
    "duration": 90,
    "start_time": "2021-11-22T17:08:43.639Z"
   },
   {
    "duration": 61,
    "start_time": "2021-11-22T17:08:43.732Z"
   },
   {
    "duration": 14,
    "start_time": "2021-11-22T17:08:43.796Z"
   },
   {
    "duration": 8,
    "start_time": "2021-11-22T17:08:43.813Z"
   },
   {
    "duration": 3755,
    "start_time": "2021-11-22T17:08:43.824Z"
   },
   {
    "duration": 19,
    "start_time": "2021-11-22T17:08:47.582Z"
   },
   {
    "duration": 3960,
    "start_time": "2021-11-22T17:08:47.603Z"
   },
   {
    "duration": 42,
    "start_time": "2021-11-22T17:08:51.566Z"
   },
   {
    "duration": 12,
    "start_time": "2021-11-22T17:08:51.611Z"
   },
   {
    "duration": 11,
    "start_time": "2021-11-22T17:08:51.626Z"
   },
   {
    "duration": 55,
    "start_time": "2021-11-22T17:08:51.639Z"
   },
   {
    "duration": 16,
    "start_time": "2021-11-22T17:08:51.696Z"
   },
   {
    "duration": 56,
    "start_time": "2021-11-22T17:09:21.857Z"
   },
   {
    "duration": 9897,
    "start_time": "2021-11-22T17:21:51.252Z"
   },
   {
    "duration": 7656,
    "start_time": "2021-11-22T17:23:40.216Z"
   },
   {
    "duration": 32,
    "start_time": "2021-11-22T17:24:08.949Z"
   },
   {
    "duration": 30,
    "start_time": "2021-11-22T17:24:16.032Z"
   },
   {
    "duration": 922,
    "start_time": "2021-11-22T17:25:14.612Z"
   },
   {
    "duration": 31,
    "start_time": "2021-11-22T17:25:15.537Z"
   },
   {
    "duration": 8,
    "start_time": "2021-11-22T17:25:15.584Z"
   },
   {
    "duration": 10,
    "start_time": "2021-11-22T17:25:15.596Z"
   },
   {
    "duration": 9,
    "start_time": "2021-11-22T17:25:15.609Z"
   },
   {
    "duration": 11,
    "start_time": "2021-11-22T17:25:15.621Z"
   },
   {
    "duration": 9,
    "start_time": "2021-11-22T17:25:15.683Z"
   },
   {
    "duration": 7,
    "start_time": "2021-11-22T17:25:15.698Z"
   },
   {
    "duration": 11,
    "start_time": "2021-11-22T17:25:15.708Z"
   },
   {
    "duration": 8,
    "start_time": "2021-11-22T17:25:15.721Z"
   },
   {
    "duration": 58,
    "start_time": "2021-11-22T17:25:15.731Z"
   },
   {
    "duration": 8,
    "start_time": "2021-11-22T17:25:15.791Z"
   },
   {
    "duration": 6,
    "start_time": "2021-11-22T17:25:15.801Z"
   },
   {
    "duration": 9,
    "start_time": "2021-11-22T17:25:15.810Z"
   },
   {
    "duration": 16,
    "start_time": "2021-11-22T17:25:15.821Z"
   },
   {
    "duration": 7,
    "start_time": "2021-11-22T17:25:15.883Z"
   },
   {
    "duration": 11,
    "start_time": "2021-11-22T17:25:15.892Z"
   },
   {
    "duration": 5,
    "start_time": "2021-11-22T17:25:15.905Z"
   },
   {
    "duration": 14,
    "start_time": "2021-11-22T17:25:15.913Z"
   },
   {
    "duration": 5,
    "start_time": "2021-11-22T17:25:15.929Z"
   },
   {
    "duration": 19,
    "start_time": "2021-11-22T17:25:15.983Z"
   },
   {
    "duration": 8,
    "start_time": "2021-11-22T17:25:16.004Z"
   },
   {
    "duration": 20,
    "start_time": "2021-11-22T17:25:16.017Z"
   },
   {
    "duration": 44,
    "start_time": "2021-11-22T17:25:16.040Z"
   },
   {
    "duration": 25,
    "start_time": "2021-11-22T17:25:16.086Z"
   },
   {
    "duration": 78,
    "start_time": "2021-11-22T17:25:16.113Z"
   },
   {
    "duration": 52,
    "start_time": "2021-11-22T17:25:16.193Z"
   },
   {
    "duration": 8,
    "start_time": "2021-11-22T17:25:16.247Z"
   },
   {
    "duration": 5056,
    "start_time": "2021-11-22T17:25:16.257Z"
   },
   {
    "duration": 20,
    "start_time": "2021-11-22T17:25:21.315Z"
   },
   {
    "duration": 4045,
    "start_time": "2021-11-22T17:25:21.337Z"
   },
   {
    "duration": 20,
    "start_time": "2021-11-22T17:25:25.385Z"
   },
   {
    "duration": 21,
    "start_time": "2021-11-22T17:25:25.407Z"
   },
   {
    "duration": 17,
    "start_time": "2021-11-22T17:25:25.431Z"
   },
   {
    "duration": 48,
    "start_time": "2021-11-22T17:25:25.451Z"
   },
   {
    "duration": 28,
    "start_time": "2021-11-22T17:25:25.502Z"
   },
   {
    "duration": 71,
    "start_time": "2021-11-22T17:25:25.533Z"
   },
   {
    "duration": 30,
    "start_time": "2021-11-22T17:27:44.944Z"
   },
   {
    "duration": 471,
    "start_time": "2021-11-22T17:33:02.014Z"
   },
   {
    "duration": 128,
    "start_time": "2021-11-22T17:45:28.966Z"
   },
   {
    "duration": 264,
    "start_time": "2021-11-22T17:45:45.544Z"
   },
   {
    "duration": 11860,
    "start_time": "2021-11-22T17:46:05.241Z"
   },
   {
    "duration": 8,
    "start_time": "2021-11-22T17:46:31.214Z"
   },
   {
    "duration": 692,
    "start_time": "2021-11-22T17:47:42.543Z"
   },
   {
    "duration": 439,
    "start_time": "2021-11-22T17:48:00.404Z"
   },
   {
    "duration": 6,
    "start_time": "2021-11-22T17:49:15.147Z"
   },
   {
    "duration": 8,
    "start_time": "2021-11-22T17:54:37.060Z"
   },
   {
    "duration": 50,
    "start_time": "2021-11-22T17:56:44.872Z"
   },
   {
    "duration": 11,
    "start_time": "2021-11-22T17:57:32.143Z"
   },
   {
    "duration": 33,
    "start_time": "2021-11-22T17:58:52.740Z"
   },
   {
    "duration": 46,
    "start_time": "2021-11-22T18:01:12.310Z"
   },
   {
    "duration": 820,
    "start_time": "2021-11-22T18:03:21.936Z"
   },
   {
    "duration": 30,
    "start_time": "2021-11-22T18:03:22.759Z"
   },
   {
    "duration": 7,
    "start_time": "2021-11-22T18:03:22.792Z"
   },
   {
    "duration": 9,
    "start_time": "2021-11-22T18:03:22.802Z"
   },
   {
    "duration": 6,
    "start_time": "2021-11-22T18:03:22.814Z"
   },
   {
    "duration": 8,
    "start_time": "2021-11-22T18:03:22.823Z"
   },
   {
    "duration": 7,
    "start_time": "2021-11-22T18:03:22.884Z"
   },
   {
    "duration": 12,
    "start_time": "2021-11-22T18:03:22.896Z"
   },
   {
    "duration": 12,
    "start_time": "2021-11-22T18:03:22.912Z"
   },
   {
    "duration": 8,
    "start_time": "2021-11-22T18:03:22.926Z"
   },
   {
    "duration": 50,
    "start_time": "2021-11-22T18:03:22.936Z"
   },
   {
    "duration": 7,
    "start_time": "2021-11-22T18:03:22.989Z"
   },
   {
    "duration": 12,
    "start_time": "2021-11-22T18:03:22.999Z"
   },
   {
    "duration": 10,
    "start_time": "2021-11-22T18:03:23.014Z"
   },
   {
    "duration": 59,
    "start_time": "2021-11-22T18:03:23.027Z"
   },
   {
    "duration": 7,
    "start_time": "2021-11-22T18:03:23.089Z"
   },
   {
    "duration": 18,
    "start_time": "2021-11-22T18:03:23.099Z"
   },
   {
    "duration": 7,
    "start_time": "2021-11-22T18:03:23.120Z"
   },
   {
    "duration": 14,
    "start_time": "2021-11-22T18:03:23.130Z"
   },
   {
    "duration": 6,
    "start_time": "2021-11-22T18:03:23.183Z"
   },
   {
    "duration": 35,
    "start_time": "2021-11-22T18:03:23.192Z"
   },
   {
    "duration": 5,
    "start_time": "2021-11-22T18:03:23.230Z"
   },
   {
    "duration": 54,
    "start_time": "2021-11-22T18:03:23.243Z"
   },
   {
    "duration": 13,
    "start_time": "2021-11-22T18:03:23.301Z"
   },
   {
    "duration": 25,
    "start_time": "2021-11-22T18:03:23.317Z"
   },
   {
    "duration": 113,
    "start_time": "2021-11-22T18:03:23.345Z"
   },
   {
    "duration": 63,
    "start_time": "2021-11-22T18:03:23.461Z"
   },
   {
    "duration": 8,
    "start_time": "2021-11-22T18:03:23.526Z"
   },
   {
    "duration": 3777,
    "start_time": "2021-11-22T18:03:23.536Z"
   },
   {
    "duration": 20,
    "start_time": "2021-11-22T18:03:27.316Z"
   },
   {
    "duration": 4643,
    "start_time": "2021-11-22T18:03:27.339Z"
   },
   {
    "duration": 20,
    "start_time": "2021-11-22T18:03:31.984Z"
   },
   {
    "duration": 14,
    "start_time": "2021-11-22T18:03:32.007Z"
   },
   {
    "duration": 11,
    "start_time": "2021-11-22T18:03:32.024Z"
   },
   {
    "duration": 55,
    "start_time": "2021-11-22T18:03:32.038Z"
   },
   {
    "duration": 17,
    "start_time": "2021-11-22T18:03:32.095Z"
   },
   {
    "duration": 33,
    "start_time": "2021-11-22T18:03:32.115Z"
   },
   {
    "duration": 34,
    "start_time": "2021-11-22T18:03:32.183Z"
   },
   {
    "duration": 7,
    "start_time": "2021-11-22T18:03:32.220Z"
   },
   {
    "duration": 9,
    "start_time": "2021-11-22T18:03:32.230Z"
   },
   {
    "duration": 69,
    "start_time": "2021-11-22T18:03:32.242Z"
   },
   {
    "duration": 15,
    "start_time": "2021-11-22T18:03:32.314Z"
   },
   {
    "duration": 57,
    "start_time": "2021-11-22T18:03:32.331Z"
   },
   {
    "duration": 31,
    "start_time": "2021-11-22T18:03:32.391Z"
   },
   {
    "duration": 27,
    "start_time": "2021-11-22T18:06:59.424Z"
   },
   {
    "duration": 28,
    "start_time": "2021-11-22T18:07:19.872Z"
   },
   {
    "duration": 803,
    "start_time": "2021-11-22T18:10:55.627Z"
   },
   {
    "duration": 31,
    "start_time": "2021-11-22T18:10:56.433Z"
   },
   {
    "duration": 8,
    "start_time": "2021-11-22T18:10:56.484Z"
   },
   {
    "duration": 13,
    "start_time": "2021-11-22T18:10:56.496Z"
   },
   {
    "duration": 13,
    "start_time": "2021-11-22T18:10:56.512Z"
   },
   {
    "duration": 10,
    "start_time": "2021-11-22T18:10:56.528Z"
   },
   {
    "duration": 8,
    "start_time": "2021-11-22T18:10:56.540Z"
   },
   {
    "duration": 6,
    "start_time": "2021-11-22T18:10:56.583Z"
   },
   {
    "duration": 11,
    "start_time": "2021-11-22T18:10:56.593Z"
   },
   {
    "duration": 5,
    "start_time": "2021-11-22T18:10:56.607Z"
   },
   {
    "duration": 16,
    "start_time": "2021-11-22T18:10:56.614Z"
   },
   {
    "duration": 52,
    "start_time": "2021-11-22T18:10:56.632Z"
   },
   {
    "duration": 9,
    "start_time": "2021-11-22T18:10:56.687Z"
   },
   {
    "duration": 14,
    "start_time": "2021-11-22T18:10:56.698Z"
   },
   {
    "duration": 24,
    "start_time": "2021-11-22T18:10:56.715Z"
   },
   {
    "duration": 7,
    "start_time": "2021-11-22T18:10:56.742Z"
   },
   {
    "duration": 13,
    "start_time": "2021-11-22T18:10:56.783Z"
   },
   {
    "duration": 37,
    "start_time": "2021-11-22T18:10:56.798Z"
   },
   {
    "duration": 12,
    "start_time": "2021-11-22T18:10:56.838Z"
   },
   {
    "duration": 6,
    "start_time": "2021-11-22T18:10:56.852Z"
   },
   {
    "duration": 36,
    "start_time": "2021-11-22T18:10:56.861Z"
   },
   {
    "duration": 8,
    "start_time": "2021-11-22T18:10:56.900Z"
   },
   {
    "duration": 31,
    "start_time": "2021-11-22T18:10:56.910Z"
   },
   {
    "duration": 45,
    "start_time": "2021-11-22T18:10:56.945Z"
   },
   {
    "duration": 24,
    "start_time": "2021-11-22T18:10:56.992Z"
   },
   {
    "duration": 85,
    "start_time": "2021-11-22T18:10:57.019Z"
   },
   {
    "duration": 51,
    "start_time": "2021-11-22T18:10:57.110Z"
   },
   {
    "duration": 20,
    "start_time": "2021-11-22T18:10:57.164Z"
   },
   {
    "duration": 3821,
    "start_time": "2021-11-22T18:10:57.186Z"
   },
   {
    "duration": 23,
    "start_time": "2021-11-22T18:11:01.010Z"
   },
   {
    "duration": 4019,
    "start_time": "2021-11-22T18:11:01.036Z"
   },
   {
    "duration": 31,
    "start_time": "2021-11-22T18:11:05.058Z"
   },
   {
    "duration": 13,
    "start_time": "2021-11-22T18:11:05.091Z"
   },
   {
    "duration": 8,
    "start_time": "2021-11-22T18:11:05.106Z"
   },
   {
    "duration": 20,
    "start_time": "2021-11-22T18:11:05.117Z"
   },
   {
    "duration": 56,
    "start_time": "2021-11-22T18:11:05.139Z"
   },
   {
    "duration": 31,
    "start_time": "2021-11-22T18:11:05.198Z"
   },
   {
    "duration": 63,
    "start_time": "2021-11-22T18:11:05.231Z"
   },
   {
    "duration": 6,
    "start_time": "2021-11-22T18:11:05.296Z"
   },
   {
    "duration": 9,
    "start_time": "2021-11-22T18:11:05.304Z"
   },
   {
    "duration": 68,
    "start_time": "2021-11-22T18:11:05.316Z"
   },
   {
    "duration": 10,
    "start_time": "2021-11-22T18:11:05.387Z"
   },
   {
    "duration": 42,
    "start_time": "2021-11-22T18:11:05.399Z"
   },
   {
    "duration": 60,
    "start_time": "2021-11-22T18:11:05.444Z"
   },
   {
    "duration": 870,
    "start_time": "2021-11-23T16:16:03.657Z"
   },
   {
    "duration": 29,
    "start_time": "2021-11-23T16:16:04.530Z"
   },
   {
    "duration": 25,
    "start_time": "2021-11-23T16:16:04.561Z"
   },
   {
    "duration": 12,
    "start_time": "2021-11-23T16:16:04.589Z"
   },
   {
    "duration": 10,
    "start_time": "2021-11-23T16:16:04.603Z"
   },
   {
    "duration": 8,
    "start_time": "2021-11-23T16:16:04.615Z"
   },
   {
    "duration": 6,
    "start_time": "2021-11-23T16:16:04.626Z"
   },
   {
    "duration": 51,
    "start_time": "2021-11-23T16:16:04.636Z"
   },
   {
    "duration": 11,
    "start_time": "2021-11-23T16:16:04.690Z"
   },
   {
    "duration": 12,
    "start_time": "2021-11-23T16:16:04.703Z"
   },
   {
    "duration": 13,
    "start_time": "2021-11-23T16:16:04.718Z"
   },
   {
    "duration": 54,
    "start_time": "2021-11-23T16:16:04.733Z"
   },
   {
    "duration": 6,
    "start_time": "2021-11-23T16:16:04.789Z"
   },
   {
    "duration": 9,
    "start_time": "2021-11-23T16:16:04.797Z"
   },
   {
    "duration": 21,
    "start_time": "2021-11-23T16:16:04.808Z"
   },
   {
    "duration": 6,
    "start_time": "2021-11-23T16:16:04.832Z"
   },
   {
    "duration": 10,
    "start_time": "2021-11-23T16:16:04.883Z"
   },
   {
    "duration": 6,
    "start_time": "2021-11-23T16:16:04.895Z"
   },
   {
    "duration": 11,
    "start_time": "2021-11-23T16:16:04.903Z"
   },
   {
    "duration": 4,
    "start_time": "2021-11-23T16:16:04.916Z"
   },
   {
    "duration": 70,
    "start_time": "2021-11-23T16:16:04.923Z"
   },
   {
    "duration": 6,
    "start_time": "2021-11-23T16:16:04.995Z"
   },
   {
    "duration": 18,
    "start_time": "2021-11-23T16:16:05.006Z"
   },
   {
    "duration": 10,
    "start_time": "2021-11-23T16:16:05.028Z"
   },
   {
    "duration": 65,
    "start_time": "2021-11-23T16:16:05.040Z"
   },
   {
    "duration": 81,
    "start_time": "2021-11-23T16:16:05.108Z"
   },
   {
    "duration": 28,
    "start_time": "2021-11-23T16:16:05.192Z"
   },
   {
    "duration": 7,
    "start_time": "2021-11-23T16:16:05.222Z"
   },
   {
    "duration": 3201,
    "start_time": "2021-11-23T16:16:05.231Z"
   },
   {
    "duration": 19,
    "start_time": "2021-11-23T16:16:08.434Z"
   },
   {
    "duration": 3964,
    "start_time": "2021-11-23T16:16:08.456Z"
   },
   {
    "duration": 22,
    "start_time": "2021-11-23T16:16:12.422Z"
   },
   {
    "duration": 14,
    "start_time": "2021-11-23T16:16:12.447Z"
   },
   {
    "duration": 23,
    "start_time": "2021-11-23T16:16:12.483Z"
   },
   {
    "duration": 16,
    "start_time": "2021-11-23T16:16:12.508Z"
   },
   {
    "duration": 66,
    "start_time": "2021-11-23T16:16:12.526Z"
   },
   {
    "duration": 29,
    "start_time": "2021-11-23T16:16:12.594Z"
   },
   {
    "duration": 6,
    "start_time": "2021-11-23T16:16:12.625Z"
   },
   {
    "duration": 8,
    "start_time": "2021-11-23T16:16:12.633Z"
   },
   {
    "duration": 39,
    "start_time": "2021-11-23T16:16:12.682Z"
   },
   {
    "duration": 18,
    "start_time": "2021-11-23T16:16:12.724Z"
   },
   {
    "duration": 76,
    "start_time": "2021-11-23T16:16:12.745Z"
   },
   {
    "duration": 43,
    "start_time": "2021-11-23T16:16:12.824Z"
   },
   {
    "duration": 7,
    "start_time": "2021-11-23T16:22:20.853Z"
   },
   {
    "duration": 3715,
    "start_time": "2021-11-23T16:27:07.337Z"
   },
   {
    "duration": 30,
    "start_time": "2021-11-23T16:27:11.054Z"
   },
   {
    "duration": 20,
    "start_time": "2021-11-23T16:27:35.614Z"
   },
   {
    "duration": 19,
    "start_time": "2021-11-23T16:27:41.518Z"
   },
   {
    "duration": 3861,
    "start_time": "2021-11-23T16:28:05.202Z"
   },
   {
    "duration": 24,
    "start_time": "2021-11-23T16:28:17.613Z"
   },
   {
    "duration": 18,
    "start_time": "2021-11-23T16:28:31.202Z"
   },
   {
    "duration": 7,
    "start_time": "2021-11-23T16:28:56.074Z"
   },
   {
    "duration": 876,
    "start_time": "2021-11-24T16:18:16.810Z"
   },
   {
    "duration": 28,
    "start_time": "2021-11-24T16:18:17.689Z"
   },
   {
    "duration": 8,
    "start_time": "2021-11-24T16:18:17.730Z"
   },
   {
    "duration": 9,
    "start_time": "2021-11-24T16:18:17.741Z"
   },
   {
    "duration": 8,
    "start_time": "2021-11-24T16:18:17.753Z"
   },
   {
    "duration": 9,
    "start_time": "2021-11-24T16:18:17.763Z"
   },
   {
    "duration": 56,
    "start_time": "2021-11-24T16:18:17.774Z"
   },
   {
    "duration": 7,
    "start_time": "2021-11-24T16:18:17.834Z"
   },
   {
    "duration": 12,
    "start_time": "2021-11-24T16:18:17.843Z"
   },
   {
    "duration": 6,
    "start_time": "2021-11-24T16:18:17.858Z"
   },
   {
    "duration": 13,
    "start_time": "2021-11-24T16:18:17.866Z"
   },
   {
    "duration": 50,
    "start_time": "2021-11-24T16:18:17.882Z"
   },
   {
    "duration": 5,
    "start_time": "2021-11-24T16:18:17.934Z"
   },
   {
    "duration": 11,
    "start_time": "2021-11-24T16:18:17.941Z"
   },
   {
    "duration": 19,
    "start_time": "2021-11-24T16:18:17.954Z"
   },
   {
    "duration": 7,
    "start_time": "2021-11-24T16:18:17.975Z"
   },
   {
    "duration": 57,
    "start_time": "2021-11-24T16:18:17.984Z"
   },
   {
    "duration": 5,
    "start_time": "2021-11-24T16:18:18.043Z"
   },
   {
    "duration": 12,
    "start_time": "2021-11-24T16:18:18.050Z"
   },
   {
    "duration": 5,
    "start_time": "2021-11-24T16:18:18.064Z"
   },
   {
    "duration": 19,
    "start_time": "2021-11-24T16:18:18.071Z"
   },
   {
    "duration": 44,
    "start_time": "2021-11-24T16:18:18.092Z"
   },
   {
    "duration": 15,
    "start_time": "2021-11-24T16:18:18.143Z"
   },
   {
    "duration": 9,
    "start_time": "2021-11-24T16:18:18.161Z"
   },
   {
    "duration": 29,
    "start_time": "2021-11-24T16:18:18.173Z"
   },
   {
    "duration": 82,
    "start_time": "2021-11-24T16:18:18.205Z"
   },
   {
    "duration": 50,
    "start_time": "2021-11-24T16:18:18.290Z"
   },
   {
    "duration": 26,
    "start_time": "2021-11-24T16:18:18.344Z"
   },
   {
    "duration": 3332,
    "start_time": "2021-11-24T16:18:18.372Z"
   },
   {
    "duration": 29,
    "start_time": "2021-11-24T16:18:21.707Z"
   },
   {
    "duration": 3827,
    "start_time": "2021-11-24T16:18:21.739Z"
   },
   {
    "duration": 20,
    "start_time": "2021-11-24T16:18:25.568Z"
   },
   {
    "duration": 12,
    "start_time": "2021-11-24T16:18:25.590Z"
   },
   {
    "duration": 33,
    "start_time": "2021-11-24T16:18:25.605Z"
   },
   {
    "duration": 21,
    "start_time": "2021-11-24T16:18:25.641Z"
   },
   {
    "duration": 18,
    "start_time": "2021-11-24T16:18:25.664Z"
   },
   {
    "duration": 59,
    "start_time": "2021-11-24T16:18:25.685Z"
   },
   {
    "duration": 9,
    "start_time": "2021-11-24T16:18:25.747Z"
   },
   {
    "duration": 10,
    "start_time": "2021-11-24T16:18:25.758Z"
   },
   {
    "duration": 5,
    "start_time": "2021-11-24T16:18:25.770Z"
   },
   {
    "duration": 51,
    "start_time": "2021-11-24T16:18:25.727Z"
   },
   {
    "duration": 37,
    "start_time": "2021-11-24T16:18:25.743Z"
   },
   {
    "duration": 35,
    "start_time": "2021-11-24T16:18:25.747Z"
   },
   {
    "duration": 31,
    "start_time": "2021-11-24T16:18:25.752Z"
   },
   {
    "duration": 5,
    "start_time": "2021-11-24T16:18:59.408Z"
   },
   {
    "duration": 16,
    "start_time": "2021-11-24T16:19:07.928Z"
   },
   {
    "duration": 826,
    "start_time": "2021-11-24T16:19:16.737Z"
   },
   {
    "duration": 27,
    "start_time": "2021-11-24T16:19:17.566Z"
   },
   {
    "duration": 7,
    "start_time": "2021-11-24T16:19:17.597Z"
   },
   {
    "duration": 33,
    "start_time": "2021-11-24T16:19:17.607Z"
   },
   {
    "duration": 8,
    "start_time": "2021-11-24T16:19:17.643Z"
   },
   {
    "duration": 8,
    "start_time": "2021-11-24T16:19:17.653Z"
   },
   {
    "duration": 6,
    "start_time": "2021-11-24T16:19:17.663Z"
   },
   {
    "duration": 8,
    "start_time": "2021-11-24T16:19:17.672Z"
   },
   {
    "duration": 61,
    "start_time": "2021-11-24T16:19:17.684Z"
   },
   {
    "duration": 6,
    "start_time": "2021-11-24T16:19:17.748Z"
   },
   {
    "duration": 17,
    "start_time": "2021-11-24T16:19:17.757Z"
   },
   {
    "duration": 7,
    "start_time": "2021-11-24T16:19:17.777Z"
   },
   {
    "duration": 4,
    "start_time": "2021-11-24T16:19:17.787Z"
   },
   {
    "duration": 9,
    "start_time": "2021-11-24T16:19:17.829Z"
   },
   {
    "duration": 22,
    "start_time": "2021-11-24T16:19:17.840Z"
   },
   {
    "duration": 5,
    "start_time": "2021-11-24T16:19:17.865Z"
   },
   {
    "duration": 12,
    "start_time": "2021-11-24T16:19:17.873Z"
   },
   {
    "duration": 47,
    "start_time": "2021-11-24T16:19:17.888Z"
   },
   {
    "duration": 12,
    "start_time": "2021-11-24T16:19:17.938Z"
   },
   {
    "duration": 4,
    "start_time": "2021-11-24T16:19:17.953Z"
   },
   {
    "duration": 19,
    "start_time": "2021-11-24T16:19:17.959Z"
   },
   {
    "duration": 4,
    "start_time": "2021-11-24T16:19:17.980Z"
   },
   {
    "duration": 21,
    "start_time": "2021-11-24T16:19:18.029Z"
   },
   {
    "duration": 10,
    "start_time": "2021-11-24T16:19:18.052Z"
   },
   {
    "duration": 29,
    "start_time": "2021-11-24T16:19:18.065Z"
   },
   {
    "duration": 60,
    "start_time": "2021-11-24T16:19:18.129Z"
   },
   {
    "duration": 43,
    "start_time": "2021-11-24T16:19:18.193Z"
   },
   {
    "duration": 28,
    "start_time": "2021-11-24T16:19:18.239Z"
   },
   {
    "duration": 3330,
    "start_time": "2021-11-24T16:19:18.269Z"
   },
   {
    "duration": 30,
    "start_time": "2021-11-24T16:19:21.602Z"
   },
   {
    "duration": 3812,
    "start_time": "2021-11-24T16:19:21.636Z"
   },
   {
    "duration": 20,
    "start_time": "2021-11-24T16:19:25.450Z"
   },
   {
    "duration": 14,
    "start_time": "2021-11-24T16:19:25.473Z"
   },
   {
    "duration": 9,
    "start_time": "2021-11-24T16:19:25.490Z"
   },
   {
    "duration": 47,
    "start_time": "2021-11-24T16:19:25.501Z"
   },
   {
    "duration": 18,
    "start_time": "2021-11-24T16:19:25.551Z"
   },
   {
    "duration": 32,
    "start_time": "2021-11-24T16:19:25.571Z"
   },
   {
    "duration": 32,
    "start_time": "2021-11-24T16:19:25.606Z"
   },
   {
    "duration": 15,
    "start_time": "2021-11-24T16:19:25.642Z"
   },
   {
    "duration": 39,
    "start_time": "2021-11-24T16:19:25.659Z"
   },
   {
    "duration": 56,
    "start_time": "2021-11-24T16:19:25.701Z"
   },
   {
    "duration": 28,
    "start_time": "2021-11-24T16:19:25.760Z"
   },
   {
    "duration": 56,
    "start_time": "2021-11-24T16:19:25.790Z"
   },
   {
    "duration": 29,
    "start_time": "2021-11-24T16:19:25.849Z"
   },
   {
    "duration": 7663,
    "start_time": "2021-11-24T16:22:59.356Z"
   },
   {
    "duration": 6669,
    "start_time": "2021-11-24T16:24:36.250Z"
   },
   {
    "duration": 345,
    "start_time": "2021-11-24T16:26:53.593Z"
   },
   {
    "duration": 6196,
    "start_time": "2021-11-24T16:27:07.405Z"
   },
   {
    "duration": 6449,
    "start_time": "2021-11-24T16:29:12.371Z"
   },
   {
    "duration": 6776,
    "start_time": "2021-11-24T16:29:51.847Z"
   },
   {
    "duration": 6562,
    "start_time": "2021-11-24T16:30:54.002Z"
   },
   {
    "duration": 6765,
    "start_time": "2021-11-24T16:31:38.335Z"
   },
   {
    "duration": 282,
    "start_time": "2021-11-24T16:32:12.092Z"
   },
   {
    "duration": 89,
    "start_time": "2021-11-24T16:32:23.713Z"
   },
   {
    "duration": 6406,
    "start_time": "2021-11-24T16:32:31.521Z"
   },
   {
    "duration": 967,
    "start_time": "2021-11-24T16:36:28.133Z"
   },
   {
    "duration": 43,
    "start_time": "2021-11-24T16:36:29.103Z"
   },
   {
    "duration": 7,
    "start_time": "2021-11-24T16:36:29.149Z"
   },
   {
    "duration": 20,
    "start_time": "2021-11-24T16:36:29.159Z"
   },
   {
    "duration": 19,
    "start_time": "2021-11-24T16:36:29.182Z"
   },
   {
    "duration": 15,
    "start_time": "2021-11-24T16:36:29.204Z"
   },
   {
    "duration": 20,
    "start_time": "2021-11-24T16:36:29.222Z"
   },
   {
    "duration": 31,
    "start_time": "2021-11-24T16:36:29.246Z"
   },
   {
    "duration": 13,
    "start_time": "2021-11-24T16:36:29.280Z"
   },
   {
    "duration": 6,
    "start_time": "2021-11-24T16:36:29.295Z"
   },
   {
    "duration": 16,
    "start_time": "2021-11-24T16:36:29.303Z"
   },
   {
    "duration": 17,
    "start_time": "2021-11-24T16:36:29.321Z"
   },
   {
    "duration": 5,
    "start_time": "2021-11-24T16:36:29.340Z"
   },
   {
    "duration": 8,
    "start_time": "2021-11-24T16:36:29.348Z"
   },
   {
    "duration": 3,
    "start_time": "2021-11-24T16:36:29.359Z"
   },
   {
    "duration": 23,
    "start_time": "2021-11-24T16:36:29.364Z"
   },
   {
    "duration": 6,
    "start_time": "2021-11-24T16:36:29.389Z"
   },
   {
    "duration": 14,
    "start_time": "2021-11-24T16:36:29.429Z"
   },
   {
    "duration": 7,
    "start_time": "2021-11-24T16:36:29.447Z"
   },
   {
    "duration": 13,
    "start_time": "2021-11-24T16:36:29.457Z"
   },
   {
    "duration": 6,
    "start_time": "2021-11-24T16:36:29.473Z"
   },
   {
    "duration": 65,
    "start_time": "2021-11-24T16:36:29.482Z"
   },
   {
    "duration": 5,
    "start_time": "2021-11-24T16:36:29.552Z"
   },
   {
    "duration": 20,
    "start_time": "2021-11-24T16:36:29.560Z"
   },
   {
    "duration": 45,
    "start_time": "2021-11-24T16:36:29.583Z"
   },
   {
    "duration": 31,
    "start_time": "2021-11-24T16:36:29.631Z"
   },
   {
    "duration": 88,
    "start_time": "2021-11-24T16:36:29.665Z"
   },
   {
    "duration": 27,
    "start_time": "2021-11-24T16:36:29.755Z"
   },
   {
    "duration": 26,
    "start_time": "2021-11-24T16:36:29.784Z"
   },
   {
    "duration": 3524,
    "start_time": "2021-11-24T16:36:29.813Z"
   },
   {
    "duration": 25,
    "start_time": "2021-11-24T16:36:33.339Z"
   },
   {
    "duration": 3808,
    "start_time": "2021-11-24T16:36:33.366Z"
   },
   {
    "duration": 23,
    "start_time": "2021-11-24T16:36:37.176Z"
   },
   {
    "duration": 40,
    "start_time": "2021-11-24T16:36:37.202Z"
   },
   {
    "duration": 34,
    "start_time": "2021-11-24T16:36:37.245Z"
   },
   {
    "duration": 22,
    "start_time": "2021-11-24T16:36:37.282Z"
   },
   {
    "duration": 44,
    "start_time": "2021-11-24T16:36:37.306Z"
   },
   {
    "duration": 25,
    "start_time": "2021-11-24T16:36:37.353Z"
   },
   {
    "duration": 18,
    "start_time": "2021-11-24T16:36:37.380Z"
   },
   {
    "duration": 21,
    "start_time": "2021-11-24T16:36:37.400Z"
   },
   {
    "duration": 50,
    "start_time": "2021-11-24T16:36:37.423Z"
   },
   {
    "duration": 28,
    "start_time": "2021-11-24T16:36:37.475Z"
   },
   {
    "duration": 41,
    "start_time": "2021-11-24T16:36:37.505Z"
   },
   {
    "duration": 29,
    "start_time": "2021-11-24T16:36:37.548Z"
   },
   {
    "duration": 13,
    "start_time": "2021-11-24T16:37:43.628Z"
   },
   {
    "duration": 35,
    "start_time": "2021-11-24T16:39:44.367Z"
   },
   {
    "duration": 132,
    "start_time": "2021-11-24T16:42:59.989Z"
   },
   {
    "duration": 474,
    "start_time": "2021-11-24T16:43:22.111Z"
   },
   {
    "duration": 277,
    "start_time": "2021-11-24T16:44:51.480Z"
   },
   {
    "duration": 31,
    "start_time": "2021-11-24T16:50:02.052Z"
   },
   {
    "duration": 32,
    "start_time": "2021-11-24T16:58:51.479Z"
   },
   {
    "duration": 52,
    "start_time": "2021-11-24T17:00:03.626Z"
   },
   {
    "duration": 922,
    "start_time": "2021-11-24T17:01:47.942Z"
   },
   {
    "duration": 40,
    "start_time": "2021-11-24T17:01:48.867Z"
   },
   {
    "duration": 22,
    "start_time": "2021-11-24T17:01:48.912Z"
   },
   {
    "duration": 14,
    "start_time": "2021-11-24T17:01:48.938Z"
   },
   {
    "duration": 13,
    "start_time": "2021-11-24T17:01:48.960Z"
   },
   {
    "duration": 23,
    "start_time": "2021-11-24T17:01:48.975Z"
   },
   {
    "duration": 17,
    "start_time": "2021-11-24T17:01:49.000Z"
   },
   {
    "duration": 14,
    "start_time": "2021-11-24T17:01:49.034Z"
   },
   {
    "duration": 22,
    "start_time": "2021-11-24T17:01:49.053Z"
   },
   {
    "duration": 13,
    "start_time": "2021-11-24T17:01:49.079Z"
   },
   {
    "duration": 39,
    "start_time": "2021-11-24T17:01:49.095Z"
   },
   {
    "duration": 17,
    "start_time": "2021-11-24T17:01:49.137Z"
   },
   {
    "duration": 10,
    "start_time": "2021-11-24T17:01:49.157Z"
   },
   {
    "duration": 21,
    "start_time": "2021-11-24T17:01:49.170Z"
   },
   {
    "duration": 18,
    "start_time": "2021-11-24T17:01:49.194Z"
   },
   {
    "duration": 49,
    "start_time": "2021-11-24T17:01:49.215Z"
   },
   {
    "duration": 7,
    "start_time": "2021-11-24T17:01:49.268Z"
   },
   {
    "duration": 32,
    "start_time": "2021-11-24T17:01:49.277Z"
   },
   {
    "duration": 7,
    "start_time": "2021-11-24T17:01:49.312Z"
   },
   {
    "duration": 35,
    "start_time": "2021-11-24T17:01:49.321Z"
   },
   {
    "duration": 29,
    "start_time": "2021-11-24T17:01:49.358Z"
   },
   {
    "duration": 29,
    "start_time": "2021-11-24T17:01:49.389Z"
   },
   {
    "duration": 4,
    "start_time": "2021-11-24T17:01:49.421Z"
   },
   {
    "duration": 55,
    "start_time": "2021-11-24T17:01:49.427Z"
   },
   {
    "duration": 10,
    "start_time": "2021-11-24T17:01:49.484Z"
   },
   {
    "duration": 55,
    "start_time": "2021-11-24T17:01:49.497Z"
   },
   {
    "duration": 59,
    "start_time": "2021-11-24T17:01:49.558Z"
   },
   {
    "duration": 43,
    "start_time": "2021-11-24T17:01:49.620Z"
   },
   {
    "duration": 27,
    "start_time": "2021-11-24T17:01:49.669Z"
   },
   {
    "duration": 3709,
    "start_time": "2021-11-24T17:01:49.698Z"
   },
   {
    "duration": 38,
    "start_time": "2021-11-24T17:01:53.410Z"
   },
   {
    "duration": 5437,
    "start_time": "2021-11-24T17:01:53.453Z"
   },
   {
    "duration": 28,
    "start_time": "2021-11-24T17:01:58.893Z"
   },
   {
    "duration": 14,
    "start_time": "2021-11-24T17:01:58.933Z"
   },
   {
    "duration": 31,
    "start_time": "2021-11-24T17:01:58.954Z"
   },
   {
    "duration": 64,
    "start_time": "2021-11-24T17:01:58.987Z"
   },
   {
    "duration": 53,
    "start_time": "2021-11-24T17:01:59.054Z"
   },
   {
    "duration": 23,
    "start_time": "2021-11-24T17:01:59.111Z"
   },
   {
    "duration": 33,
    "start_time": "2021-11-24T17:01:59.139Z"
   },
   {
    "duration": 18,
    "start_time": "2021-11-24T17:01:59.175Z"
   },
   {
    "duration": 13,
    "start_time": "2021-11-24T17:01:59.196Z"
   },
   {
    "duration": 84,
    "start_time": "2021-11-24T17:01:59.212Z"
   },
   {
    "duration": 36,
    "start_time": "2021-11-24T17:01:59.299Z"
   },
   {
    "duration": 47,
    "start_time": "2021-11-24T17:01:59.337Z"
   },
   {
    "duration": 71,
    "start_time": "2021-11-24T17:01:59.390Z"
   },
   {
    "duration": 225,
    "start_time": "2021-11-25T16:06:56.277Z"
   },
   {
    "duration": 590,
    "start_time": "2021-11-25T16:07:17.950Z"
   },
   {
    "duration": 19,
    "start_time": "2021-11-25T16:07:18.543Z"
   },
   {
    "duration": 25,
    "start_time": "2021-11-25T16:07:18.564Z"
   },
   {
    "duration": 13,
    "start_time": "2021-11-25T16:07:18.591Z"
   },
   {
    "duration": 18,
    "start_time": "2021-11-25T16:07:18.606Z"
   },
   {
    "duration": 37,
    "start_time": "2021-11-25T16:07:18.626Z"
   },
   {
    "duration": 28,
    "start_time": "2021-11-25T16:07:18.664Z"
   },
   {
    "duration": 18,
    "start_time": "2021-11-25T16:07:18.694Z"
   },
   {
    "duration": 24,
    "start_time": "2021-11-25T16:07:18.715Z"
   },
   {
    "duration": 8,
    "start_time": "2021-11-25T16:07:18.741Z"
   },
   {
    "duration": 35,
    "start_time": "2021-11-25T16:07:18.751Z"
   },
   {
    "duration": 9,
    "start_time": "2021-11-25T16:07:18.788Z"
   },
   {
    "duration": 23,
    "start_time": "2021-11-25T16:07:18.799Z"
   },
   {
    "duration": 38,
    "start_time": "2021-11-25T16:07:18.823Z"
   },
   {
    "duration": 4603,
    "start_time": "2021-11-25T16:07:18.863Z"
   },
   {
    "duration": 97,
    "start_time": "2021-11-25T16:07:23.372Z"
   },
   {
    "duration": 93,
    "start_time": "2021-11-25T16:07:23.377Z"
   },
   {
    "duration": 89,
    "start_time": "2021-11-25T16:07:23.382Z"
   },
   {
    "duration": 87,
    "start_time": "2021-11-25T16:07:23.386Z"
   },
   {
    "duration": 84,
    "start_time": "2021-11-25T16:07:23.390Z"
   },
   {
    "duration": 80,
    "start_time": "2021-11-25T16:07:23.395Z"
   },
   {
    "duration": 76,
    "start_time": "2021-11-25T16:07:23.400Z"
   },
   {
    "duration": 71,
    "start_time": "2021-11-25T16:07:23.406Z"
   },
   {
    "duration": 67,
    "start_time": "2021-11-25T16:07:23.411Z"
   },
   {
    "duration": 63,
    "start_time": "2021-11-25T16:07:23.416Z"
   },
   {
    "duration": 60,
    "start_time": "2021-11-25T16:07:23.421Z"
   },
   {
    "duration": 56,
    "start_time": "2021-11-25T16:07:23.426Z"
   },
   {
    "duration": 52,
    "start_time": "2021-11-25T16:07:23.431Z"
   },
   {
    "duration": 49,
    "start_time": "2021-11-25T16:07:23.435Z"
   },
   {
    "duration": 45,
    "start_time": "2021-11-25T16:07:23.440Z"
   },
   {
    "duration": 42,
    "start_time": "2021-11-25T16:07:23.444Z"
   },
   {
    "duration": 37,
    "start_time": "2021-11-25T16:07:23.450Z"
   },
   {
    "duration": 34,
    "start_time": "2021-11-25T16:07:23.454Z"
   },
   {
    "duration": 30,
    "start_time": "2021-11-25T16:07:23.459Z"
   },
   {
    "duration": 18,
    "start_time": "2021-11-25T16:07:23.472Z"
   },
   {
    "duration": 13,
    "start_time": "2021-11-25T16:07:23.478Z"
   },
   {
    "duration": 9,
    "start_time": "2021-11-25T16:07:23.483Z"
   },
   {
    "duration": 5,
    "start_time": "2021-11-25T16:07:23.488Z"
   },
   {
    "duration": 2,
    "start_time": "2021-11-25T16:07:23.492Z"
   },
   {
    "duration": -3,
    "start_time": "2021-11-25T16:07:23.498Z"
   },
   {
    "duration": -6,
    "start_time": "2021-11-25T16:07:23.502Z"
   },
   {
    "duration": -10,
    "start_time": "2021-11-25T16:07:23.507Z"
   },
   {
    "duration": -14,
    "start_time": "2021-11-25T16:07:23.512Z"
   },
   {
    "duration": -17,
    "start_time": "2021-11-25T16:07:23.516Z"
   },
   {
    "duration": -20,
    "start_time": "2021-11-25T16:07:23.520Z"
   },
   {
    "duration": 4198,
    "start_time": "2021-11-25T16:08:18.648Z"
   },
   {
    "duration": 27,
    "start_time": "2021-11-25T16:14:48.951Z"
   },
   {
    "duration": 251,
    "start_time": "2021-11-25T16:15:41.812Z"
   },
   {
    "duration": 227,
    "start_time": "2021-11-25T16:16:00.700Z"
   },
   {
    "duration": 27,
    "start_time": "2021-11-25T16:16:11.086Z"
   },
   {
    "duration": 11,
    "start_time": "2021-11-25T16:16:55.365Z"
   },
   {
    "duration": 28,
    "start_time": "2021-11-25T16:17:35.972Z"
   },
   {
    "duration": 64,
    "start_time": "2021-11-25T16:17:42.309Z"
   },
   {
    "duration": 28,
    "start_time": "2021-11-25T16:17:51.145Z"
   },
   {
    "duration": 578,
    "start_time": "2021-11-25T16:21:41.527Z"
   },
   {
    "duration": 20,
    "start_time": "2021-11-25T16:21:42.107Z"
   },
   {
    "duration": 5,
    "start_time": "2021-11-25T16:21:42.128Z"
   },
   {
    "duration": 5,
    "start_time": "2021-11-25T16:21:42.135Z"
   },
   {
    "duration": 7,
    "start_time": "2021-11-25T16:21:42.141Z"
   },
   {
    "duration": 6,
    "start_time": "2021-11-25T16:21:42.150Z"
   },
   {
    "duration": 4,
    "start_time": "2021-11-25T16:21:42.157Z"
   },
   {
    "duration": 7,
    "start_time": "2021-11-25T16:21:42.192Z"
   },
   {
    "duration": 9,
    "start_time": "2021-11-25T16:21:42.201Z"
   },
   {
    "duration": 4,
    "start_time": "2021-11-25T16:21:42.212Z"
   },
   {
    "duration": 10,
    "start_time": "2021-11-25T16:21:42.218Z"
   },
   {
    "duration": 6,
    "start_time": "2021-11-25T16:21:42.230Z"
   },
   {
    "duration": 3,
    "start_time": "2021-11-25T16:21:42.238Z"
   },
   {
    "duration": 50,
    "start_time": "2021-11-25T16:21:42.243Z"
   },
   {
    "duration": 29,
    "start_time": "2021-11-25T16:21:42.294Z"
   },
   {
    "duration": 10,
    "start_time": "2021-11-25T16:21:42.325Z"
   },
   {
    "duration": 6,
    "start_time": "2021-11-25T16:21:42.337Z"
   },
   {
    "duration": 7,
    "start_time": "2021-11-25T16:21:42.344Z"
   },
   {
    "duration": 4,
    "start_time": "2021-11-25T16:21:42.353Z"
   },
   {
    "duration": 38,
    "start_time": "2021-11-25T16:21:42.358Z"
   },
   {
    "duration": 3,
    "start_time": "2021-11-25T16:21:42.397Z"
   },
   {
    "duration": 15,
    "start_time": "2021-11-25T16:21:42.402Z"
   },
   {
    "duration": 4,
    "start_time": "2021-11-25T16:21:42.421Z"
   },
   {
    "duration": 13,
    "start_time": "2021-11-25T16:21:42.427Z"
   },
   {
    "duration": 8,
    "start_time": "2021-11-25T16:21:42.441Z"
   },
   {
    "duration": 55,
    "start_time": "2021-11-25T16:21:42.451Z"
   },
   {
    "duration": 36,
    "start_time": "2021-11-25T16:21:42.508Z"
   },
   {
    "duration": 20,
    "start_time": "2021-11-25T16:21:42.546Z"
   },
   {
    "duration": 40,
    "start_time": "2021-11-25T16:21:42.567Z"
   },
   {
    "duration": 2357,
    "start_time": "2021-11-25T16:21:42.608Z"
   },
   {
    "duration": 14,
    "start_time": "2021-11-25T16:21:44.967Z"
   },
   {
    "duration": 2708,
    "start_time": "2021-11-25T16:21:44.983Z"
   },
   {
    "duration": 12,
    "start_time": "2021-11-25T16:21:47.693Z"
   },
   {
    "duration": 23,
    "start_time": "2021-11-25T16:21:47.707Z"
   },
   {
    "duration": 28,
    "start_time": "2021-11-25T16:21:47.731Z"
   },
   {
    "duration": 18,
    "start_time": "2021-11-25T16:21:47.760Z"
   },
   {
    "duration": 28,
    "start_time": "2021-11-25T16:21:47.780Z"
   },
   {
    "duration": 6,
    "start_time": "2021-11-25T16:21:47.810Z"
   },
   {
    "duration": 21,
    "start_time": "2021-11-25T16:21:47.818Z"
   },
   {
    "duration": 24,
    "start_time": "2021-11-25T16:21:47.840Z"
   },
   {
    "duration": 25,
    "start_time": "2021-11-25T16:21:47.865Z"
   },
   {
    "duration": 39,
    "start_time": "2021-11-25T16:21:47.891Z"
   },
   {
    "duration": 20,
    "start_time": "2021-11-25T16:21:47.931Z"
   },
   {
    "duration": 21,
    "start_time": "2021-11-25T16:21:47.952Z"
   },
   {
    "duration": 34,
    "start_time": "2021-11-25T16:21:47.975Z"
   },
   {
    "duration": 20,
    "start_time": "2021-11-25T16:23:14.802Z"
   },
   {
    "duration": 19,
    "start_time": "2021-11-25T16:23:47.741Z"
   },
   {
    "duration": 54,
    "start_time": "2022-05-22T11:00:41.466Z"
   },
   {
    "duration": 756,
    "start_time": "2022-05-22T11:00:49.419Z"
   },
   {
    "duration": 19,
    "start_time": "2022-05-22T11:00:50.177Z"
   },
   {
    "duration": 39,
    "start_time": "2022-05-22T11:00:50.198Z"
   },
   {
    "duration": 70,
    "start_time": "2022-05-22T11:00:50.238Z"
   },
   {
    "duration": 4,
    "start_time": "2022-05-22T11:00:50.310Z"
   },
   {
    "duration": 64,
    "start_time": "2022-05-22T11:00:50.315Z"
   },
   {
    "duration": 40,
    "start_time": "2022-05-22T11:00:50.381Z"
   },
   {
    "duration": 30,
    "start_time": "2022-05-22T11:00:50.423Z"
   },
   {
    "duration": 34,
    "start_time": "2022-05-22T11:00:50.454Z"
   },
   {
    "duration": 27,
    "start_time": "2022-05-22T11:00:50.490Z"
   },
   {
    "duration": 31,
    "start_time": "2022-05-22T11:00:50.518Z"
   },
   {
    "duration": 27,
    "start_time": "2022-05-22T11:00:50.551Z"
   },
   {
    "duration": 26,
    "start_time": "2022-05-22T11:00:50.579Z"
   },
   {
    "duration": 32,
    "start_time": "2022-05-22T11:00:50.607Z"
   },
   {
    "duration": 40,
    "start_time": "2022-05-22T11:00:50.641Z"
   },
   {
    "duration": 47,
    "start_time": "2022-05-22T11:00:50.682Z"
   },
   {
    "duration": 26,
    "start_time": "2022-05-22T11:00:50.731Z"
   },
   {
    "duration": 12,
    "start_time": "2022-05-22T11:00:50.759Z"
   },
   {
    "duration": 23,
    "start_time": "2022-05-22T11:00:50.772Z"
   },
   {
    "duration": 28,
    "start_time": "2022-05-22T11:00:50.797Z"
   },
   {
    "duration": 37,
    "start_time": "2022-05-22T11:00:50.827Z"
   },
   {
    "duration": 9,
    "start_time": "2022-05-22T11:00:50.866Z"
   },
   {
    "duration": 3,
    "start_time": "2022-05-22T11:00:50.877Z"
   },
   {
    "duration": 16,
    "start_time": "2022-05-22T11:00:50.882Z"
   },
   {
    "duration": 25,
    "start_time": "2022-05-22T11:00:50.900Z"
   },
   {
    "duration": 39,
    "start_time": "2022-05-22T11:00:50.926Z"
   },
   {
    "duration": 22,
    "start_time": "2022-05-22T11:00:50.967Z"
   },
   {
    "duration": 27,
    "start_time": "2022-05-22T11:00:50.991Z"
   },
   {
    "duration": 31,
    "start_time": "2022-05-22T11:00:51.019Z"
   },
   {
    "duration": 17,
    "start_time": "2022-05-22T11:00:51.052Z"
   },
   {
    "duration": 18,
    "start_time": "2022-05-22T11:00:51.071Z"
   },
   {
    "duration": 2378,
    "start_time": "2022-05-22T11:00:51.092Z"
   },
   {
    "duration": 11,
    "start_time": "2022-05-22T11:00:53.472Z"
   },
   {
    "duration": 2645,
    "start_time": "2022-05-22T11:00:53.485Z"
   },
   {
    "duration": 12,
    "start_time": "2022-05-22T11:00:56.132Z"
   },
   {
    "duration": 17,
    "start_time": "2022-05-22T11:00:56.145Z"
   },
   {
    "duration": 14,
    "start_time": "2022-05-22T11:00:56.164Z"
   },
   {
    "duration": 10,
    "start_time": "2022-05-22T11:00:56.179Z"
   },
   {
    "duration": 20,
    "start_time": "2022-05-22T11:00:56.190Z"
   },
   {
    "duration": 14,
    "start_time": "2022-05-22T11:00:56.211Z"
   },
   {
    "duration": 33,
    "start_time": "2022-05-22T11:00:56.226Z"
   },
   {
    "duration": 6,
    "start_time": "2022-05-22T11:00:56.261Z"
   },
   {
    "duration": 10,
    "start_time": "2022-05-22T11:00:56.269Z"
   },
   {
    "duration": 22,
    "start_time": "2022-05-22T11:00:56.280Z"
   },
   {
    "duration": 17,
    "start_time": "2022-05-22T11:00:56.304Z"
   },
   {
    "duration": 38,
    "start_time": "2022-05-22T11:00:56.322Z"
   },
   {
    "duration": 17,
    "start_time": "2022-05-22T11:00:56.362Z"
   },
   {
    "duration": 4,
    "start_time": "2022-05-22T11:01:43.707Z"
   },
   {
    "duration": 67,
    "start_time": "2022-05-22T11:01:45.153Z"
   }
  ],
  "kernelspec": {
   "display_name": "Python 3 (ipykernel)",
   "language": "python",
   "name": "python3"
  },
  "language_info": {
   "codemirror_mode": {
    "name": "ipython",
    "version": 3
   },
   "file_extension": ".py",
   "mimetype": "text/x-python",
   "name": "python",
   "nbconvert_exporter": "python",
   "pygments_lexer": "ipython3",
   "version": "3.9.5"
  },
  "toc": {
   "base_numbering": 1,
   "nav_menu": {},
   "number_sections": true,
   "sideBar": true,
   "skip_h1_title": true,
   "title_cell": "Table of Contents",
   "title_sidebar": "Contents",
   "toc_cell": false,
   "toc_position": {},
   "toc_section_display": true,
   "toc_window_display": false
  }
 },
 "nbformat": 4,
 "nbformat_minor": 2
}
