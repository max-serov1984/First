{
 "cells": [
  {
   "cell_type": "markdown",
   "metadata": {},
   "source": [
    "# Проект на тему: Основы машинного обучения"
   ]
  },
  {
   "cell_type": "markdown",
   "metadata": {},
   "source": [
    "# Описание проекта\n",
    "Сеть фитнес-центров «Культурист-датасаентист» разрабатывает стратегию взаимодействия с клиентами на основе аналитических данных.\n",
    "Чтобы бороться с оттоком, отдел по работе с клиентами «Культуриста-датасаентиста» перевёл в электронный вид множество клиентских анкет. \n",
    "Моя задача — провести анализ и подготовить план действий по удержанию клиентов.\n",
    "А именно:\n",
    "- научиться прогнозировать вероятность оттока (на уровне следующего месяца) для каждого клиента;\n",
    "- сформировать типичные портреты клиентов: выделить несколько наиболее ярких групп и охарактеризовать их основные свойства;\n",
    "  проанализировать основные признаки, наиболее сильно влияющие на отток;\n",
    "- сформулировать основные выводы и разработать рекомендации по повышению качества работы с клиентами:\n",
    "\n",
    "1) выделить целевые группы клиентов;\n",
    "\n",
    "2) предложить меры по снижению оттока;\n",
    "\n",
    "3) определить другие особенности взаимодействия с клиентами."
   ]
  },
  {
   "cell_type": "markdown",
   "metadata": {
    "toc": true
   },
   "source": [
    "<h1>Table of Contents<span class=\"tocSkip\"></span></h1>\n",
    "<div class=\"toc\"><ul class=\"toc-item\"><li><span><a href=\"#Загрузка-данных\" data-toc-modified-id=\"Загрузка-данных-1\"><span class=\"toc-item-num\">1&nbsp;&nbsp;</span>Загрузка данных</a></span></li><li><span><a href=\"#Предобработка-данных\" data-toc-modified-id=\"Предобработка-данных-2\"><span class=\"toc-item-num\">2&nbsp;&nbsp;</span>Предобработка данных</a></span></li><li><span><a href=\"#Модель-прогнозирования-оттока-клиентов\" data-toc-modified-id=\"Модель-прогнозирования-оттока-клиентов-3\"><span class=\"toc-item-num\">3&nbsp;&nbsp;</span>Модель прогнозирования оттока клиентов</a></span></li><li><span><a href=\"#Кластеризация-клиентов\" data-toc-modified-id=\"Кластеризация-клиентов-4\"><span class=\"toc-item-num\">4&nbsp;&nbsp;</span>Кластеризация клиентов</a></span></li><li><span><a href=\"#Выводы-и-базовые-рекомендации\" data-toc-modified-id=\"Выводы-и-базовые-рекомендации-5\"><span class=\"toc-item-num\">5&nbsp;&nbsp;</span>Выводы и базовые рекомендации</a></span></li></ul></div>"
   ]
  },
  {
   "cell_type": "markdown",
   "metadata": {},
   "source": [
    "## Загрузка данных"
   ]
  },
  {
   "cell_type": "code",
   "execution_count": 1,
   "metadata": {
    "scrolled": true
   },
   "outputs": [],
   "source": [
    "import warnings \n",
    "warnings.filterwarnings(\"ignore\")\n",
    "import json\n",
    "import math\n",
    "import numpy as np\n",
    "import matplotlib.pyplot as plt\n",
    "import pandas as pd\n",
    "import requests\n",
    "import scipy.stats as stats\n",
    "import seaborn as sns\n",
    "import warnings\n",
    "import plotly.express as px\n",
    "import datetime as dt\n",
    "from plotly import graph_objects as go \n",
    "import math as mth\n",
    "from scipy import stats as st\n",
    "from sklearn.linear_model import LogisticRegression\n",
    "from sklearn.ensemble import RandomForestClassifier\n",
    "from sklearn.metrics import accuracy_score, precision_score, recall_score, mean_squared_error, f1_score\n",
    "from sklearn.preprocessing import StandardScaler\n",
    "from sklearn.model_selection import train_test_split\n",
    "from sklearn.cluster import KMeans\n",
    "from scipy.cluster.hierarchy import dendrogram, linkage\n",
    "from IPython.display import display\n",
    "from sklearn.metrics import roc_auc_score\n",
    "from matplotlib.pylab import rc, plot\n",
    "from sklearn.preprocessing import LabelEncoder, OneHotEncoder\n",
    "from sklearn.model_selection import cross_val_score\n",
    "from sklearn.linear_model import LogisticRegression\n",
    "from sklearn.ensemble import RandomForestClassifier, GradientBoostingClassifier\n",
    "from sklearn.metrics import precision_recall_curve, classification_report\n",
    "from sklearn.model_selection import train_test_split\n",
    "from sklearn import metrics\n",
    "\n"
   ]
  },
  {
   "cell_type": "code",
   "execution_count": 2,
   "metadata": {},
   "outputs": [
    {
     "data": {
      "text/html": [
       "<div>\n",
       "<style scoped>\n",
       "    .dataframe tbody tr th:only-of-type {\n",
       "        vertical-align: middle;\n",
       "    }\n",
       "\n",
       "    .dataframe tbody tr th {\n",
       "        vertical-align: top;\n",
       "    }\n",
       "\n",
       "    .dataframe thead th {\n",
       "        text-align: right;\n",
       "    }\n",
       "</style>\n",
       "<table border=\"1\" class=\"dataframe\">\n",
       "  <thead>\n",
       "    <tr style=\"text-align: right;\">\n",
       "      <th></th>\n",
       "      <th>gender</th>\n",
       "      <th>Near_Location</th>\n",
       "      <th>Partner</th>\n",
       "      <th>Promo_friends</th>\n",
       "      <th>Phone</th>\n",
       "      <th>Contract_period</th>\n",
       "      <th>Group_visits</th>\n",
       "      <th>Age</th>\n",
       "      <th>Avg_additional_charges_total</th>\n",
       "      <th>Month_to_end_contract</th>\n",
       "      <th>Lifetime</th>\n",
       "      <th>Avg_class_frequency_total</th>\n",
       "      <th>Avg_class_frequency_current_month</th>\n",
       "      <th>Churn</th>\n",
       "    </tr>\n",
       "  </thead>\n",
       "  <tbody>\n",
       "    <tr>\n",
       "      <th>0</th>\n",
       "      <td>1</td>\n",
       "      <td>1</td>\n",
       "      <td>1</td>\n",
       "      <td>1</td>\n",
       "      <td>0</td>\n",
       "      <td>6</td>\n",
       "      <td>1</td>\n",
       "      <td>29</td>\n",
       "      <td>14.227470</td>\n",
       "      <td>5.0</td>\n",
       "      <td>3</td>\n",
       "      <td>0.020398</td>\n",
       "      <td>0.000000</td>\n",
       "      <td>0</td>\n",
       "    </tr>\n",
       "    <tr>\n",
       "      <th>1</th>\n",
       "      <td>0</td>\n",
       "      <td>1</td>\n",
       "      <td>0</td>\n",
       "      <td>0</td>\n",
       "      <td>1</td>\n",
       "      <td>12</td>\n",
       "      <td>1</td>\n",
       "      <td>31</td>\n",
       "      <td>113.202938</td>\n",
       "      <td>12.0</td>\n",
       "      <td>7</td>\n",
       "      <td>1.922936</td>\n",
       "      <td>1.910244</td>\n",
       "      <td>0</td>\n",
       "    </tr>\n",
       "    <tr>\n",
       "      <th>2</th>\n",
       "      <td>0</td>\n",
       "      <td>1</td>\n",
       "      <td>1</td>\n",
       "      <td>0</td>\n",
       "      <td>1</td>\n",
       "      <td>1</td>\n",
       "      <td>0</td>\n",
       "      <td>28</td>\n",
       "      <td>129.448479</td>\n",
       "      <td>1.0</td>\n",
       "      <td>2</td>\n",
       "      <td>1.859098</td>\n",
       "      <td>1.736502</td>\n",
       "      <td>0</td>\n",
       "    </tr>\n",
       "    <tr>\n",
       "      <th>3</th>\n",
       "      <td>0</td>\n",
       "      <td>1</td>\n",
       "      <td>1</td>\n",
       "      <td>1</td>\n",
       "      <td>1</td>\n",
       "      <td>12</td>\n",
       "      <td>1</td>\n",
       "      <td>33</td>\n",
       "      <td>62.669863</td>\n",
       "      <td>12.0</td>\n",
       "      <td>2</td>\n",
       "      <td>3.205633</td>\n",
       "      <td>3.357215</td>\n",
       "      <td>0</td>\n",
       "    </tr>\n",
       "    <tr>\n",
       "      <th>4</th>\n",
       "      <td>1</td>\n",
       "      <td>1</td>\n",
       "      <td>1</td>\n",
       "      <td>1</td>\n",
       "      <td>1</td>\n",
       "      <td>1</td>\n",
       "      <td>0</td>\n",
       "      <td>26</td>\n",
       "      <td>198.362265</td>\n",
       "      <td>1.0</td>\n",
       "      <td>3</td>\n",
       "      <td>1.113884</td>\n",
       "      <td>1.120078</td>\n",
       "      <td>0</td>\n",
       "    </tr>\n",
       "    <tr>\n",
       "      <th>...</th>\n",
       "      <td>...</td>\n",
       "      <td>...</td>\n",
       "      <td>...</td>\n",
       "      <td>...</td>\n",
       "      <td>...</td>\n",
       "      <td>...</td>\n",
       "      <td>...</td>\n",
       "      <td>...</td>\n",
       "      <td>...</td>\n",
       "      <td>...</td>\n",
       "      <td>...</td>\n",
       "      <td>...</td>\n",
       "      <td>...</td>\n",
       "      <td>...</td>\n",
       "    </tr>\n",
       "    <tr>\n",
       "      <th>3995</th>\n",
       "      <td>1</td>\n",
       "      <td>1</td>\n",
       "      <td>1</td>\n",
       "      <td>0</td>\n",
       "      <td>1</td>\n",
       "      <td>12</td>\n",
       "      <td>0</td>\n",
       "      <td>33</td>\n",
       "      <td>2.406023</td>\n",
       "      <td>12.0</td>\n",
       "      <td>8</td>\n",
       "      <td>2.284497</td>\n",
       "      <td>2.349070</td>\n",
       "      <td>0</td>\n",
       "    </tr>\n",
       "    <tr>\n",
       "      <th>3996</th>\n",
       "      <td>0</td>\n",
       "      <td>1</td>\n",
       "      <td>0</td>\n",
       "      <td>0</td>\n",
       "      <td>1</td>\n",
       "      <td>1</td>\n",
       "      <td>1</td>\n",
       "      <td>29</td>\n",
       "      <td>68.883764</td>\n",
       "      <td>1.0</td>\n",
       "      <td>1</td>\n",
       "      <td>1.277168</td>\n",
       "      <td>0.292859</td>\n",
       "      <td>1</td>\n",
       "    </tr>\n",
       "    <tr>\n",
       "      <th>3997</th>\n",
       "      <td>1</td>\n",
       "      <td>1</td>\n",
       "      <td>1</td>\n",
       "      <td>1</td>\n",
       "      <td>1</td>\n",
       "      <td>12</td>\n",
       "      <td>0</td>\n",
       "      <td>28</td>\n",
       "      <td>78.250542</td>\n",
       "      <td>11.0</td>\n",
       "      <td>2</td>\n",
       "      <td>2.786146</td>\n",
       "      <td>2.831439</td>\n",
       "      <td>0</td>\n",
       "    </tr>\n",
       "    <tr>\n",
       "      <th>3998</th>\n",
       "      <td>0</td>\n",
       "      <td>1</td>\n",
       "      <td>1</td>\n",
       "      <td>1</td>\n",
       "      <td>1</td>\n",
       "      <td>6</td>\n",
       "      <td>0</td>\n",
       "      <td>32</td>\n",
       "      <td>61.912657</td>\n",
       "      <td>5.0</td>\n",
       "      <td>3</td>\n",
       "      <td>1.630108</td>\n",
       "      <td>1.596237</td>\n",
       "      <td>0</td>\n",
       "    </tr>\n",
       "    <tr>\n",
       "      <th>3999</th>\n",
       "      <td>1</td>\n",
       "      <td>0</td>\n",
       "      <td>1</td>\n",
       "      <td>0</td>\n",
       "      <td>0</td>\n",
       "      <td>12</td>\n",
       "      <td>1</td>\n",
       "      <td>30</td>\n",
       "      <td>178.861814</td>\n",
       "      <td>12.0</td>\n",
       "      <td>1</td>\n",
       "      <td>1.101832</td>\n",
       "      <td>1.035270</td>\n",
       "      <td>0</td>\n",
       "    </tr>\n",
       "  </tbody>\n",
       "</table>\n",
       "<p>4000 rows × 14 columns</p>\n",
       "</div>"
      ],
      "text/plain": [
       "      gender  Near_Location  Partner  Promo_friends  Phone  Contract_period  \\\n",
       "0          1              1        1              1      0                6   \n",
       "1          0              1        0              0      1               12   \n",
       "2          0              1        1              0      1                1   \n",
       "3          0              1        1              1      1               12   \n",
       "4          1              1        1              1      1                1   \n",
       "...      ...            ...      ...            ...    ...              ...   \n",
       "3995       1              1        1              0      1               12   \n",
       "3996       0              1        0              0      1                1   \n",
       "3997       1              1        1              1      1               12   \n",
       "3998       0              1        1              1      1                6   \n",
       "3999       1              0        1              0      0               12   \n",
       "\n",
       "      Group_visits  Age  Avg_additional_charges_total  Month_to_end_contract  \\\n",
       "0                1   29                     14.227470                    5.0   \n",
       "1                1   31                    113.202938                   12.0   \n",
       "2                0   28                    129.448479                    1.0   \n",
       "3                1   33                     62.669863                   12.0   \n",
       "4                0   26                    198.362265                    1.0   \n",
       "...            ...  ...                           ...                    ...   \n",
       "3995             0   33                      2.406023                   12.0   \n",
       "3996             1   29                     68.883764                    1.0   \n",
       "3997             0   28                     78.250542                   11.0   \n",
       "3998             0   32                     61.912657                    5.0   \n",
       "3999             1   30                    178.861814                   12.0   \n",
       "\n",
       "      Lifetime  Avg_class_frequency_total  Avg_class_frequency_current_month  \\\n",
       "0            3                   0.020398                           0.000000   \n",
       "1            7                   1.922936                           1.910244   \n",
       "2            2                   1.859098                           1.736502   \n",
       "3            2                   3.205633                           3.357215   \n",
       "4            3                   1.113884                           1.120078   \n",
       "...        ...                        ...                                ...   \n",
       "3995         8                   2.284497                           2.349070   \n",
       "3996         1                   1.277168                           0.292859   \n",
       "3997         2                   2.786146                           2.831439   \n",
       "3998         3                   1.630108                           1.596237   \n",
       "3999         1                   1.101832                           1.035270   \n",
       "\n",
       "      Churn  \n",
       "0         0  \n",
       "1         0  \n",
       "2         0  \n",
       "3         0  \n",
       "4         0  \n",
       "...     ...  \n",
       "3995      0  \n",
       "3996      1  \n",
       "3997      0  \n",
       "3998      0  \n",
       "3999      0  \n",
       "\n",
       "[4000 rows x 14 columns]"
      ]
     },
     "metadata": {},
     "output_type": "display_data"
    },
    {
     "name": "stdout",
     "output_type": "stream",
     "text": [
      "<class 'pandas.core.frame.DataFrame'>\n",
      "RangeIndex: 4000 entries, 0 to 3999\n",
      "Data columns (total 14 columns):\n",
      " #   Column                             Non-Null Count  Dtype  \n",
      "---  ------                             --------------  -----  \n",
      " 0   gender                             4000 non-null   int64  \n",
      " 1   Near_Location                      4000 non-null   int64  \n",
      " 2   Partner                            4000 non-null   int64  \n",
      " 3   Promo_friends                      4000 non-null   int64  \n",
      " 4   Phone                              4000 non-null   int64  \n",
      " 5   Contract_period                    4000 non-null   int64  \n",
      " 6   Group_visits                       4000 non-null   int64  \n",
      " 7   Age                                4000 non-null   int64  \n",
      " 8   Avg_additional_charges_total       4000 non-null   float64\n",
      " 9   Month_to_end_contract              4000 non-null   float64\n",
      " 10  Lifetime                           4000 non-null   int64  \n",
      " 11  Avg_class_frequency_total          4000 non-null   float64\n",
      " 12  Avg_class_frequency_current_month  4000 non-null   float64\n",
      " 13  Churn                              4000 non-null   int64  \n",
      "dtypes: float64(4), int64(10)\n",
      "memory usage: 437.6 KB\n"
     ]
    }
   ],
   "source": [
    "df = pd.read_csv('/datasets/gym_churn.csv')\n",
    "\n",
    "pd.set_option('display.max_columns', None)\n",
    "pd.options.display.max_colwidth = 150\n",
    "display(df)\n",
    "df.info()"
   ]
  },
  {
   "cell_type": "markdown",
   "metadata": {},
   "source": [
    "Имеем следующие \"проблемы\":\n",
    "- заглавные буквы и отсутствие змеиного регистра в названиях столбцов"
   ]
  },
  {
   "cell_type": "markdown",
   "metadata": {},
   "source": [
    "## Предобработка данных"
   ]
  },
  {
   "cell_type": "code",
   "execution_count": 3,
   "metadata": {},
   "outputs": [],
   "source": [
    "#функция для вывода данных\n",
    "def data(dataframes):\n",
    "    dataframes.columns = [x.lower().replace(' ', '_') for x in dataframes.columns.values]\n",
    "    for column in dataframes.columns:\n",
    "        print('====================')\n",
    "        print(column)\n",
    "        print(dataframes[column].value_counts())\n",
    "        print(dataframes[column].unique())\n",
    "    print(dataframes.info())\n",
    "    display(dataframes.head())"
   ]
  },
  {
   "cell_type": "code",
   "execution_count": 4,
   "metadata": {},
   "outputs": [
    {
     "name": "stdout",
     "output_type": "stream",
     "text": [
      "====================\n",
      "gender\n",
      "1    2041\n",
      "0    1959\n",
      "Name: gender, dtype: int64\n",
      "[1 0]\n",
      "====================\n",
      "near_location\n",
      "1    3381\n",
      "0     619\n",
      "Name: near_location, dtype: int64\n",
      "[1 0]\n",
      "====================\n",
      "partner\n",
      "0    2053\n",
      "1    1947\n",
      "Name: partner, dtype: int64\n",
      "[1 0]\n",
      "====================\n",
      "promo_friends\n",
      "0    2766\n",
      "1    1234\n",
      "Name: promo_friends, dtype: int64\n",
      "[1 0]\n",
      "====================\n",
      "phone\n",
      "1    3614\n",
      "0     386\n",
      "Name: phone, dtype: int64\n",
      "[0 1]\n",
      "====================\n",
      "contract_period\n",
      "1     2207\n",
      "12     960\n",
      "6      833\n",
      "Name: contract_period, dtype: int64\n",
      "[ 6 12  1]\n",
      "====================\n",
      "group_visits\n",
      "0    2351\n",
      "1    1649\n",
      "Name: group_visits, dtype: int64\n",
      "[1 0]\n",
      "====================\n",
      "age\n",
      "29    468\n",
      "30    457\n",
      "28    447\n",
      "31    434\n",
      "27    378\n",
      "32    364\n",
      "26    300\n",
      "33    253\n",
      "25    231\n",
      "34    174\n",
      "24    148\n",
      "35     98\n",
      "23     82\n",
      "36     48\n",
      "22     33\n",
      "37     29\n",
      "21     24\n",
      "20     14\n",
      "38     10\n",
      "39      3\n",
      "18      2\n",
      "19      2\n",
      "41      1\n",
      "Name: age, dtype: int64\n",
      "[29 31 28 33 26 34 32 30 23 27 35 25 36 24 21 37 22 19 20 38 39 18 41]\n",
      "====================\n",
      "avg_additional_charges_total\n",
      "89.952762     1\n",
      "174.658455    1\n",
      "122.765563    1\n",
      "204.444527    1\n",
      "50.813166     1\n",
      "             ..\n",
      "272.997181    1\n",
      "115.130268    1\n",
      "133.525137    1\n",
      "201.447650    1\n",
      "218.979321    1\n",
      "Name: avg_additional_charges_total, Length: 4000, dtype: int64\n",
      "[ 14.22747042 113.20293765 129.44847933 ...  78.25054157  61.91265691\n",
      " 178.86181361]\n",
      "====================\n",
      "month_to_end_contract\n",
      "1.0     2207\n",
      "6.0      645\n",
      "12.0     524\n",
      "11.0     181\n",
      "5.0      130\n",
      "10.0      82\n",
      "9.0       73\n",
      "4.0       58\n",
      "8.0       38\n",
      "7.0       25\n",
      "3.0       23\n",
      "2.0       14\n",
      "Name: month_to_end_contract, dtype: int64\n",
      "[ 5. 12.  1.  6.  3. 10. 11.  9.  4.  7.  8.  2.]\n",
      "====================\n",
      "lifetime\n",
      "1     843\n",
      "2     610\n",
      "3     490\n",
      "0     487\n",
      "4     383\n",
      "5     273\n",
      "6     220\n",
      "7     167\n",
      "8     111\n",
      "9     100\n",
      "10     76\n",
      "12     53\n",
      "11     48\n",
      "13     28\n",
      "15     24\n",
      "14     24\n",
      "16     15\n",
      "17     11\n",
      "19      7\n",
      "18      7\n",
      "20      7\n",
      "21      5\n",
      "26      2\n",
      "24      2\n",
      "22      2\n",
      "23      2\n",
      "27      1\n",
      "29      1\n",
      "31      1\n",
      "Name: lifetime, dtype: int64\n",
      "[ 3  7  2  0  1 11  4  8 14  6  5 15 12 21 10 20  9 13 17 16 24 22 31 26\n",
      " 23 18 19 27 29]\n",
      "====================\n",
      "avg_class_frequency_total\n",
      "0.000000    88\n",
      "0.827058     1\n",
      "2.770845     1\n",
      "1.472779     1\n",
      "3.735185     1\n",
      "            ..\n",
      "2.602823     1\n",
      "1.295159     1\n",
      "1.138963     1\n",
      "2.262743     1\n",
      "0.992312     1\n",
      "Name: avg_class_frequency_total, Length: 3913, dtype: int64\n",
      "[0.02039795 1.92293606 1.85909835 ... 2.78614636 1.63010814 1.10183221]\n",
      "====================\n",
      "avg_class_frequency_current_month\n",
      "0.000000    181\n",
      "0.379235      1\n",
      "0.054540      1\n",
      "1.877288      1\n",
      "1.058906      1\n",
      "           ... \n",
      "3.115417      1\n",
      "3.429058      1\n",
      "3.233156      1\n",
      "2.564243      1\n",
      "1.454710      1\n",
      "Name: avg_class_frequency_current_month, Length: 3820, dtype: int64\n",
      "[0.         1.91024352 1.73650189 ... 2.8314395  1.59623664 1.03526976]\n",
      "====================\n",
      "churn\n",
      "0    2939\n",
      "1    1061\n",
      "Name: churn, dtype: int64\n",
      "[0 1]\n",
      "<class 'pandas.core.frame.DataFrame'>\n",
      "RangeIndex: 4000 entries, 0 to 3999\n",
      "Data columns (total 14 columns):\n",
      " #   Column                             Non-Null Count  Dtype  \n",
      "---  ------                             --------------  -----  \n",
      " 0   gender                             4000 non-null   int64  \n",
      " 1   near_location                      4000 non-null   int64  \n",
      " 2   partner                            4000 non-null   int64  \n",
      " 3   promo_friends                      4000 non-null   int64  \n",
      " 4   phone                              4000 non-null   int64  \n",
      " 5   contract_period                    4000 non-null   int64  \n",
      " 6   group_visits                       4000 non-null   int64  \n",
      " 7   age                                4000 non-null   int64  \n",
      " 8   avg_additional_charges_total       4000 non-null   float64\n",
      " 9   month_to_end_contract              4000 non-null   float64\n",
      " 10  lifetime                           4000 non-null   int64  \n",
      " 11  avg_class_frequency_total          4000 non-null   float64\n",
      " 12  avg_class_frequency_current_month  4000 non-null   float64\n",
      " 13  churn                              4000 non-null   int64  \n",
      "dtypes: float64(4), int64(10)\n",
      "memory usage: 437.6 KB\n",
      "None\n"
     ]
    },
    {
     "data": {
      "text/html": [
       "<div>\n",
       "<style scoped>\n",
       "    .dataframe tbody tr th:only-of-type {\n",
       "        vertical-align: middle;\n",
       "    }\n",
       "\n",
       "    .dataframe tbody tr th {\n",
       "        vertical-align: top;\n",
       "    }\n",
       "\n",
       "    .dataframe thead th {\n",
       "        text-align: right;\n",
       "    }\n",
       "</style>\n",
       "<table border=\"1\" class=\"dataframe\">\n",
       "  <thead>\n",
       "    <tr style=\"text-align: right;\">\n",
       "      <th></th>\n",
       "      <th>gender</th>\n",
       "      <th>near_location</th>\n",
       "      <th>partner</th>\n",
       "      <th>promo_friends</th>\n",
       "      <th>phone</th>\n",
       "      <th>contract_period</th>\n",
       "      <th>group_visits</th>\n",
       "      <th>age</th>\n",
       "      <th>avg_additional_charges_total</th>\n",
       "      <th>month_to_end_contract</th>\n",
       "      <th>lifetime</th>\n",
       "      <th>avg_class_frequency_total</th>\n",
       "      <th>avg_class_frequency_current_month</th>\n",
       "      <th>churn</th>\n",
       "    </tr>\n",
       "  </thead>\n",
       "  <tbody>\n",
       "    <tr>\n",
       "      <th>0</th>\n",
       "      <td>1</td>\n",
       "      <td>1</td>\n",
       "      <td>1</td>\n",
       "      <td>1</td>\n",
       "      <td>0</td>\n",
       "      <td>6</td>\n",
       "      <td>1</td>\n",
       "      <td>29</td>\n",
       "      <td>14.227470</td>\n",
       "      <td>5.0</td>\n",
       "      <td>3</td>\n",
       "      <td>0.020398</td>\n",
       "      <td>0.000000</td>\n",
       "      <td>0</td>\n",
       "    </tr>\n",
       "    <tr>\n",
       "      <th>1</th>\n",
       "      <td>0</td>\n",
       "      <td>1</td>\n",
       "      <td>0</td>\n",
       "      <td>0</td>\n",
       "      <td>1</td>\n",
       "      <td>12</td>\n",
       "      <td>1</td>\n",
       "      <td>31</td>\n",
       "      <td>113.202938</td>\n",
       "      <td>12.0</td>\n",
       "      <td>7</td>\n",
       "      <td>1.922936</td>\n",
       "      <td>1.910244</td>\n",
       "      <td>0</td>\n",
       "    </tr>\n",
       "    <tr>\n",
       "      <th>2</th>\n",
       "      <td>0</td>\n",
       "      <td>1</td>\n",
       "      <td>1</td>\n",
       "      <td>0</td>\n",
       "      <td>1</td>\n",
       "      <td>1</td>\n",
       "      <td>0</td>\n",
       "      <td>28</td>\n",
       "      <td>129.448479</td>\n",
       "      <td>1.0</td>\n",
       "      <td>2</td>\n",
       "      <td>1.859098</td>\n",
       "      <td>1.736502</td>\n",
       "      <td>0</td>\n",
       "    </tr>\n",
       "    <tr>\n",
       "      <th>3</th>\n",
       "      <td>0</td>\n",
       "      <td>1</td>\n",
       "      <td>1</td>\n",
       "      <td>1</td>\n",
       "      <td>1</td>\n",
       "      <td>12</td>\n",
       "      <td>1</td>\n",
       "      <td>33</td>\n",
       "      <td>62.669863</td>\n",
       "      <td>12.0</td>\n",
       "      <td>2</td>\n",
       "      <td>3.205633</td>\n",
       "      <td>3.357215</td>\n",
       "      <td>0</td>\n",
       "    </tr>\n",
       "    <tr>\n",
       "      <th>4</th>\n",
       "      <td>1</td>\n",
       "      <td>1</td>\n",
       "      <td>1</td>\n",
       "      <td>1</td>\n",
       "      <td>1</td>\n",
       "      <td>1</td>\n",
       "      <td>0</td>\n",
       "      <td>26</td>\n",
       "      <td>198.362265</td>\n",
       "      <td>1.0</td>\n",
       "      <td>3</td>\n",
       "      <td>1.113884</td>\n",
       "      <td>1.120078</td>\n",
       "      <td>0</td>\n",
       "    </tr>\n",
       "  </tbody>\n",
       "</table>\n",
       "</div>"
      ],
      "text/plain": [
       "   gender  near_location  partner  promo_friends  phone  contract_period  \\\n",
       "0       1              1        1              1      0                6   \n",
       "1       0              1        0              0      1               12   \n",
       "2       0              1        1              0      1                1   \n",
       "3       0              1        1              1      1               12   \n",
       "4       1              1        1              1      1                1   \n",
       "\n",
       "   group_visits  age  avg_additional_charges_total  month_to_end_contract  \\\n",
       "0             1   29                     14.227470                    5.0   \n",
       "1             1   31                    113.202938                   12.0   \n",
       "2             0   28                    129.448479                    1.0   \n",
       "3             1   33                     62.669863                   12.0   \n",
       "4             0   26                    198.362265                    1.0   \n",
       "\n",
       "   lifetime  avg_class_frequency_total  avg_class_frequency_current_month  \\\n",
       "0         3                   0.020398                           0.000000   \n",
       "1         7                   1.922936                           1.910244   \n",
       "2         2                   1.859098                           1.736502   \n",
       "3         2                   3.205633                           3.357215   \n",
       "4         3                   1.113884                           1.120078   \n",
       "\n",
       "   churn  \n",
       "0      0  \n",
       "1      0  \n",
       "2      0  \n",
       "3      0  \n",
       "4      0  "
      ]
     },
     "metadata": {},
     "output_type": "display_data"
    }
   ],
   "source": [
    "data(df)"
   ]
  },
  {
   "cell_type": "code",
   "execution_count": 5,
   "metadata": {},
   "outputs": [
    {
     "data": {
      "text/plain": [
       "0"
      ]
     },
     "execution_count": 5,
     "metadata": {},
     "output_type": "execute_result"
    }
   ],
   "source": [
    "# смотрим наличие явных дубликатов\n",
    "df.duplicated().sum()"
   ]
  },
  {
   "cell_type": "code",
   "execution_count": 6,
   "metadata": {},
   "outputs": [
    {
     "data": {
      "text/html": [
       "<div>\n",
       "<style scoped>\n",
       "    .dataframe tbody tr th:only-of-type {\n",
       "        vertical-align: middle;\n",
       "    }\n",
       "\n",
       "    .dataframe tbody tr th {\n",
       "        vertical-align: top;\n",
       "    }\n",
       "\n",
       "    .dataframe thead th {\n",
       "        text-align: right;\n",
       "    }\n",
       "</style>\n",
       "<table border=\"1\" class=\"dataframe\">\n",
       "  <thead>\n",
       "    <tr style=\"text-align: right;\">\n",
       "      <th></th>\n",
       "      <th>gender</th>\n",
       "      <th>near_location</th>\n",
       "      <th>partner</th>\n",
       "      <th>promo_friends</th>\n",
       "      <th>phone</th>\n",
       "      <th>contract_period</th>\n",
       "      <th>group_visits</th>\n",
       "      <th>age</th>\n",
       "      <th>avg_additional_charges_total</th>\n",
       "      <th>month_to_end_contract</th>\n",
       "      <th>lifetime</th>\n",
       "      <th>avg_class_frequency_total</th>\n",
       "      <th>avg_class_frequency_current_month</th>\n",
       "      <th>churn</th>\n",
       "    </tr>\n",
       "  </thead>\n",
       "  <tbody>\n",
       "    <tr>\n",
       "      <th>count</th>\n",
       "      <td>4000.000000</td>\n",
       "      <td>4000.000000</td>\n",
       "      <td>4000.000000</td>\n",
       "      <td>4000.000000</td>\n",
       "      <td>4000.000000</td>\n",
       "      <td>4000.000000</td>\n",
       "      <td>4000.000000</td>\n",
       "      <td>4000.000000</td>\n",
       "      <td>4000.000000</td>\n",
       "      <td>4000.000000</td>\n",
       "      <td>4000.000000</td>\n",
       "      <td>4000.000000</td>\n",
       "      <td>4000.000000</td>\n",
       "      <td>4000.000000</td>\n",
       "    </tr>\n",
       "    <tr>\n",
       "      <th>mean</th>\n",
       "      <td>0.510250</td>\n",
       "      <td>0.845250</td>\n",
       "      <td>0.486750</td>\n",
       "      <td>0.308500</td>\n",
       "      <td>0.903500</td>\n",
       "      <td>4.681250</td>\n",
       "      <td>0.412250</td>\n",
       "      <td>29.184250</td>\n",
       "      <td>146.943728</td>\n",
       "      <td>4.322750</td>\n",
       "      <td>3.724750</td>\n",
       "      <td>1.879020</td>\n",
       "      <td>1.767052</td>\n",
       "      <td>0.265250</td>\n",
       "    </tr>\n",
       "    <tr>\n",
       "      <th>std</th>\n",
       "      <td>0.499957</td>\n",
       "      <td>0.361711</td>\n",
       "      <td>0.499887</td>\n",
       "      <td>0.461932</td>\n",
       "      <td>0.295313</td>\n",
       "      <td>4.549706</td>\n",
       "      <td>0.492301</td>\n",
       "      <td>3.258367</td>\n",
       "      <td>96.355602</td>\n",
       "      <td>4.191297</td>\n",
       "      <td>3.749267</td>\n",
       "      <td>0.972245</td>\n",
       "      <td>1.052906</td>\n",
       "      <td>0.441521</td>\n",
       "    </tr>\n",
       "    <tr>\n",
       "      <th>min</th>\n",
       "      <td>0.000000</td>\n",
       "      <td>0.000000</td>\n",
       "      <td>0.000000</td>\n",
       "      <td>0.000000</td>\n",
       "      <td>0.000000</td>\n",
       "      <td>1.000000</td>\n",
       "      <td>0.000000</td>\n",
       "      <td>18.000000</td>\n",
       "      <td>0.148205</td>\n",
       "      <td>1.000000</td>\n",
       "      <td>0.000000</td>\n",
       "      <td>0.000000</td>\n",
       "      <td>0.000000</td>\n",
       "      <td>0.000000</td>\n",
       "    </tr>\n",
       "    <tr>\n",
       "      <th>25%</th>\n",
       "      <td>0.000000</td>\n",
       "      <td>1.000000</td>\n",
       "      <td>0.000000</td>\n",
       "      <td>0.000000</td>\n",
       "      <td>1.000000</td>\n",
       "      <td>1.000000</td>\n",
       "      <td>0.000000</td>\n",
       "      <td>27.000000</td>\n",
       "      <td>68.868830</td>\n",
       "      <td>1.000000</td>\n",
       "      <td>1.000000</td>\n",
       "      <td>1.180875</td>\n",
       "      <td>0.963003</td>\n",
       "      <td>0.000000</td>\n",
       "    </tr>\n",
       "    <tr>\n",
       "      <th>50%</th>\n",
       "      <td>1.000000</td>\n",
       "      <td>1.000000</td>\n",
       "      <td>0.000000</td>\n",
       "      <td>0.000000</td>\n",
       "      <td>1.000000</td>\n",
       "      <td>1.000000</td>\n",
       "      <td>0.000000</td>\n",
       "      <td>29.000000</td>\n",
       "      <td>136.220159</td>\n",
       "      <td>1.000000</td>\n",
       "      <td>3.000000</td>\n",
       "      <td>1.832768</td>\n",
       "      <td>1.719574</td>\n",
       "      <td>0.000000</td>\n",
       "    </tr>\n",
       "    <tr>\n",
       "      <th>75%</th>\n",
       "      <td>1.000000</td>\n",
       "      <td>1.000000</td>\n",
       "      <td>1.000000</td>\n",
       "      <td>1.000000</td>\n",
       "      <td>1.000000</td>\n",
       "      <td>6.000000</td>\n",
       "      <td>1.000000</td>\n",
       "      <td>31.000000</td>\n",
       "      <td>210.949625</td>\n",
       "      <td>6.000000</td>\n",
       "      <td>5.000000</td>\n",
       "      <td>2.536078</td>\n",
       "      <td>2.510336</td>\n",
       "      <td>1.000000</td>\n",
       "    </tr>\n",
       "    <tr>\n",
       "      <th>max</th>\n",
       "      <td>1.000000</td>\n",
       "      <td>1.000000</td>\n",
       "      <td>1.000000</td>\n",
       "      <td>1.000000</td>\n",
       "      <td>1.000000</td>\n",
       "      <td>12.000000</td>\n",
       "      <td>1.000000</td>\n",
       "      <td>41.000000</td>\n",
       "      <td>552.590740</td>\n",
       "      <td>12.000000</td>\n",
       "      <td>31.000000</td>\n",
       "      <td>6.023668</td>\n",
       "      <td>6.146783</td>\n",
       "      <td>1.000000</td>\n",
       "    </tr>\n",
       "  </tbody>\n",
       "</table>\n",
       "</div>"
      ],
      "text/plain": [
       "            gender  near_location      partner  promo_friends        phone  \\\n",
       "count  4000.000000    4000.000000  4000.000000    4000.000000  4000.000000   \n",
       "mean      0.510250       0.845250     0.486750       0.308500     0.903500   \n",
       "std       0.499957       0.361711     0.499887       0.461932     0.295313   \n",
       "min       0.000000       0.000000     0.000000       0.000000     0.000000   \n",
       "25%       0.000000       1.000000     0.000000       0.000000     1.000000   \n",
       "50%       1.000000       1.000000     0.000000       0.000000     1.000000   \n",
       "75%       1.000000       1.000000     1.000000       1.000000     1.000000   \n",
       "max       1.000000       1.000000     1.000000       1.000000     1.000000   \n",
       "\n",
       "       contract_period  group_visits          age  \\\n",
       "count      4000.000000   4000.000000  4000.000000   \n",
       "mean          4.681250      0.412250    29.184250   \n",
       "std           4.549706      0.492301     3.258367   \n",
       "min           1.000000      0.000000    18.000000   \n",
       "25%           1.000000      0.000000    27.000000   \n",
       "50%           1.000000      0.000000    29.000000   \n",
       "75%           6.000000      1.000000    31.000000   \n",
       "max          12.000000      1.000000    41.000000   \n",
       "\n",
       "       avg_additional_charges_total  month_to_end_contract     lifetime  \\\n",
       "count                   4000.000000            4000.000000  4000.000000   \n",
       "mean                     146.943728               4.322750     3.724750   \n",
       "std                       96.355602               4.191297     3.749267   \n",
       "min                        0.148205               1.000000     0.000000   \n",
       "25%                       68.868830               1.000000     1.000000   \n",
       "50%                      136.220159               1.000000     3.000000   \n",
       "75%                      210.949625               6.000000     5.000000   \n",
       "max                      552.590740              12.000000    31.000000   \n",
       "\n",
       "       avg_class_frequency_total  avg_class_frequency_current_month  \\\n",
       "count                4000.000000                        4000.000000   \n",
       "mean                    1.879020                           1.767052   \n",
       "std                     0.972245                           1.052906   \n",
       "min                     0.000000                           0.000000   \n",
       "25%                     1.180875                           0.963003   \n",
       "50%                     1.832768                           1.719574   \n",
       "75%                     2.536078                           2.510336   \n",
       "max                     6.023668                           6.146783   \n",
       "\n",
       "             churn  \n",
       "count  4000.000000  \n",
       "mean      0.265250  \n",
       "std       0.441521  \n",
       "min       0.000000  \n",
       "25%       0.000000  \n",
       "50%       0.000000  \n",
       "75%       1.000000  \n",
       "max       1.000000  "
      ]
     },
     "execution_count": 6,
     "metadata": {},
     "output_type": "execute_result"
    }
   ],
   "source": [
    "df.describe()"
   ]
  },
  {
   "cell_type": "markdown",
   "metadata": {},
   "source": [
    "- Мужчин и женщин одинаковое количество;\n",
    "- В одном районе с фитнесом проживает 85% людей;\n",
    "- 49 % клиентов сотрудники компаний-партнеров\n",
    "- 31 % приходят по рекомендации друзей\n",
    "- 90 % пользователей оставляют телефон\n",
    "- в основном абонемент покупают на 6 месяцев\n",
    "- 41% посещают груповые занятия\n",
    "- средний возраст клиентов 29 лет.\n",
    "- средняя доп покупка = 146 у.е.\n",
    "- среднее количество месяцев посещения 3.7\n",
    "- средний отток составляет 27 %"
   ]
  },
  {
   "cell_type": "code",
   "execution_count": 7,
   "metadata": {},
   "outputs": [],
   "source": [
    "df_churn=df.groupby('churn').mean()"
   ]
  },
  {
   "cell_type": "code",
   "execution_count": 8,
   "metadata": {},
   "outputs": [
    {
     "data": {
      "text/html": [
       "<div>\n",
       "<style scoped>\n",
       "    .dataframe tbody tr th:only-of-type {\n",
       "        vertical-align: middle;\n",
       "    }\n",
       "\n",
       "    .dataframe tbody tr th {\n",
       "        vertical-align: top;\n",
       "    }\n",
       "\n",
       "    .dataframe thead th {\n",
       "        text-align: right;\n",
       "    }\n",
       "</style>\n",
       "<table border=\"1\" class=\"dataframe\">\n",
       "  <thead>\n",
       "    <tr style=\"text-align: right;\">\n",
       "      <th>churn</th>\n",
       "      <th>0</th>\n",
       "      <th>1</th>\n",
       "    </tr>\n",
       "  </thead>\n",
       "  <tbody>\n",
       "    <tr>\n",
       "      <th>gender</th>\n",
       "      <td>0.510037</td>\n",
       "      <td>0.510839</td>\n",
       "    </tr>\n",
       "    <tr>\n",
       "      <th>near_location</th>\n",
       "      <td>0.873086</td>\n",
       "      <td>0.768143</td>\n",
       "    </tr>\n",
       "    <tr>\n",
       "      <th>partner</th>\n",
       "      <td>0.534195</td>\n",
       "      <td>0.355325</td>\n",
       "    </tr>\n",
       "    <tr>\n",
       "      <th>promo_friends</th>\n",
       "      <td>0.353522</td>\n",
       "      <td>0.183789</td>\n",
       "    </tr>\n",
       "    <tr>\n",
       "      <th>phone</th>\n",
       "      <td>0.903709</td>\n",
       "      <td>0.902922</td>\n",
       "    </tr>\n",
       "    <tr>\n",
       "      <th>contract_period</th>\n",
       "      <td>5.747193</td>\n",
       "      <td>1.728558</td>\n",
       "    </tr>\n",
       "    <tr>\n",
       "      <th>group_visits</th>\n",
       "      <td>0.464103</td>\n",
       "      <td>0.268615</td>\n",
       "    </tr>\n",
       "    <tr>\n",
       "      <th>age</th>\n",
       "      <td>29.976523</td>\n",
       "      <td>26.989632</td>\n",
       "    </tr>\n",
       "    <tr>\n",
       "      <th>avg_additional_charges_total</th>\n",
       "      <td>158.445715</td>\n",
       "      <td>115.082899</td>\n",
       "    </tr>\n",
       "    <tr>\n",
       "      <th>month_to_end_contract</th>\n",
       "      <td>5.283089</td>\n",
       "      <td>1.662582</td>\n",
       "    </tr>\n",
       "    <tr>\n",
       "      <th>lifetime</th>\n",
       "      <td>4.711807</td>\n",
       "      <td>0.990575</td>\n",
       "    </tr>\n",
       "    <tr>\n",
       "      <th>avg_class_frequency_total</th>\n",
       "      <td>2.024876</td>\n",
       "      <td>1.474995</td>\n",
       "    </tr>\n",
       "    <tr>\n",
       "      <th>avg_class_frequency_current_month</th>\n",
       "      <td>2.027882</td>\n",
       "      <td>1.044546</td>\n",
       "    </tr>\n",
       "  </tbody>\n",
       "</table>\n",
       "</div>"
      ],
      "text/plain": [
       "churn                                       0           1\n",
       "gender                               0.510037    0.510839\n",
       "near_location                        0.873086    0.768143\n",
       "partner                              0.534195    0.355325\n",
       "promo_friends                        0.353522    0.183789\n",
       "phone                                0.903709    0.902922\n",
       "contract_period                      5.747193    1.728558\n",
       "group_visits                         0.464103    0.268615\n",
       "age                                 29.976523   26.989632\n",
       "avg_additional_charges_total       158.445715  115.082899\n",
       "month_to_end_contract                5.283089    1.662582\n",
       "lifetime                             4.711807    0.990575\n",
       "avg_class_frequency_total            2.024876    1.474995\n",
       "avg_class_frequency_current_month    2.027882    1.044546"
      ]
     },
     "execution_count": 8,
     "metadata": {},
     "output_type": "execute_result"
    }
   ],
   "source": [
    "df_churn_tr = df_churn.transpose()\n",
    "df_churn_tr"
   ]
  },
  {
   "cell_type": "markdown",
   "metadata": {},
   "source": [
    "Люди которые остаются как правило:\n",
    "- живут в одном районе с фитнесом\n",
    "- из компании-партнера\n",
    "- по рекомендации друга\n",
    "- 5.7 месяца в клубе\n",
    "- ходит на групповые занятия\n",
    "- возраст остающихся на три года выше среднего возраста уходящих\n",
    "- больше тратят на услуги\n",
    "- до конца абонемента 5.2 месяца\n",
    "- уже занимаются в среднем 4.7 месяца\n",
    "- посещает фитнес в среднем 2 раза в неделю"
   ]
  },
  {
   "cell_type": "code",
   "execution_count": 9,
   "metadata": {},
   "outputs": [
    {
     "data": {
      "image/png": "[encoded data removed]",
      "text/plain": [
       "<Figure size 432x288 with 1 Axes>"
      ]
     },
     "metadata": {
      "needs_background": "light"
     },
     "output_type": "display_data"
    },
    {
     "data": {
      "image/png": "[encoded data removed]",
      "text/plain": [
       "<Figure size 432x288 with 1 Axes>"
      ]
     },
     "metadata": {
      "needs_background": "light"
     },
     "output_type": "display_data"
    },
    {
     "data": {
      "image/png": "[encoded data removed]",
      "text/plain": [
       "<Figure size 432x288 with 1 Axes>"
      ]
     },
     "metadata": {
      "needs_background": "light"
     },
     "output_type": "display_data"
    },
    {
     "data": {
      "image/png": "[encoded data removed]",
      "text/plain": [
       "<Figure size 432x288 with 1 Axes>"
      ]
     },
     "metadata": {
      "needs_background": "light"
     },
     "output_type": "display_data"
    },
    {
     "data": {
      "image/png": "[encoded data removed]",
      "text/plain": [
       "<Figure size 432x288 with 1 Axes>"
      ]
     },
     "metadata": {
      "needs_background": "light"
     },
     "output_type": "display_data"
    },
    {
     "data": {
      "image/png": "[encoded data removed]",
      "text/plain": [
       "<Figure size 432x288 with 1 Axes>"
      ]
     },
     "metadata": {
      "needs_background": "light"
     },
     "output_type": "display_data"
    },
    {
     "data": {
      "image/png": "[encoded data removed]",
      "text/plain": [
       "<Figure size 432x288 with 1 Axes>"
      ]
     },
     "metadata": {
      "needs_background": "light"
     },
     "output_type": "display_data"
    },
    {
     "data": {
      "image/png": "[encoded data removed]",
      "text/plain": [
       "<Figure size 432x288 with 1 Axes>"
      ]
     },
     "metadata": {
      "needs_background": "light"
     },
     "output_type": "display_data"
    },
    {
     "data": {
      "image/png": "[encoded data removed]",
      "text/plain": [
       "<Figure size 432x288 with 1 Axes>"
      ]
     },
     "metadata": {
      "needs_background": "light"
     },
     "output_type": "display_data"
    },
    {
     "data": {
      "image/png": "[encoded data removed]",
      "text/plain": [
       "<Figure size 432x288 with 1 Axes>"
      ]
     },
     "metadata": {
      "needs_background": "light"
     },
     "output_type": "display_data"
    }
   ],
   "source": [
    "for column in ['gender', 'near_location', 'partner', 'promo_friends', 'contract_period', 'phone', 'group_visits', 'age', 'month_to_end_contract', 'lifetime',]:\n",
    "    if column == 'partner':\n",
    "        report = df.pivot_table(index = column, columns = 'churn', values = 'phone', aggfunc = 'count')\n",
    "        report.plot(kind = 'bar', stacked = True, alpha = 0.5)\n",
    "    else:\n",
    "        report = df.pivot_table(index = column, columns = 'churn', values = 'partner', aggfunc = 'count')\n",
    "        report.plot(kind = 'bar', stacked = True, alpha = 0.5)"
   ]
  },
  {
   "cell_type": "markdown",
   "metadata": {},
   "source": [
    "Отток происходит в основном в первые 4 месяца, у людей с 1-месячным контрактом. Группа людей старше 33 лет наиболее удерживаема."
   ]
  },
  {
   "cell_type": "code",
   "execution_count": 10,
   "metadata": {},
   "outputs": [
    {
     "data": {
      "image/png": "[encoded data removed]",
      "text/plain": [
       "<Figure size 576x288 with 1 Axes>"
      ]
     },
     "metadata": {
      "needs_background": "light"
     },
     "output_type": "display_data"
    },
    {
     "data": {
      "image/png": "[encoded data removed]",
      "text/plain": [
       "<Figure size 576x288 with 1 Axes>"
      ]
     },
     "metadata": {
      "needs_background": "light"
     },
     "output_type": "display_data"
    },
    {
     "data": {
      "image/png": "[encoded data removed]",
      "text/plain": [
       "<Figure size 576x288 with 1 Axes>"
      ]
     },
     "metadata": {
      "needs_background": "light"
     },
     "output_type": "display_data"
    },
    {
     "data": {
      "image/png": "[encoded data removed]",
      "text/plain": [
       "<Figure size 576x288 with 1 Axes>"
      ]
     },
     "metadata": {
      "needs_background": "light"
     },
     "output_type": "display_data"
    },
    {
     "data": {
      "image/png": "[encoded data removed]",
      "text/plain": [
       "<Figure size 576x288 with 1 Axes>"
      ]
     },
     "metadata": {
      "needs_background": "light"
     },
     "output_type": "display_data"
    },
    {
     "data": {
      "image/png": "[encoded data removed]",
      "text/plain": [
       "<Figure size 576x288 with 1 Axes>"
      ]
     },
     "metadata": {
      "needs_background": "light"
     },
     "output_type": "display_data"
    },
    {
     "data": {
      "image/png": "[encoded data removed]",
      "text/plain": [
       "<Figure size 576x288 with 1 Axes>"
      ]
     },
     "metadata": {
      "needs_background": "light"
     },
     "output_type": "display_data"
    }
   ],
   "source": [
    "first = df[df['churn'] == 1]\n",
    "zero = df[df['churn'] == 0]\n",
    "distplot_columns = ['avg_additional_charges_total', 'avg_class_frequency_total', 'avg_class_frequency_current_month', 'lifetime', 'age', 'contract_period', 'month_to_end_contract']\n",
    "for column in distplot_columns: \n",
    "    plt.figure(figsize=(8,4)) \n",
    "    plt.title(column)\n",
    "    sns.distplot(first[column])\n",
    "    sns.distplot(zero[column])\n",
    "    plt.legend(['ушедшие', 'оставшиеся'])\n",
    "    plt.show()"
   ]
  },
  {
   "cell_type": "code",
   "execution_count": 11,
   "metadata": {
    "scrolled": true
   },
   "outputs": [
    {
     "data": {
      "image/png": "[encoded data removed]",
      "text/plain": [
       "<Figure size 360x360 with 1 Axes>"
      ]
     },
     "metadata": {
      "needs_background": "light"
     },
     "output_type": "display_data"
    },
    {
     "data": {
      "image/png": "[encoded data removed]",
      "text/plain": [
       "<Figure size 360x360 with 1 Axes>"
      ]
     },
     "metadata": {
      "needs_background": "light"
     },
     "output_type": "display_data"
    },
    {
     "data": {
      "image/png": "[encoded data removed]",
      "text/plain": [
       "<Figure size 360x360 with 1 Axes>"
      ]
     },
     "metadata": {
      "needs_background": "light"
     },
     "output_type": "display_data"
    },
    {
     "data": {
      "image/png": "[encoded data removed]",
      "text/plain": [
       "<Figure size 360x360 with 1 Axes>"
      ]
     },
     "metadata": {
      "needs_background": "light"
     },
     "output_type": "display_data"
    },
    {
     "data": {
      "image/png": "[encoded data removed]",
      "text/plain": [
       "<Figure size 360x360 with 1 Axes>"
      ]
     },
     "metadata": {
      "needs_background": "light"
     },
     "output_type": "display_data"
    }
   ],
   "source": [
    "for column in ['gender', 'near_location', 'partner', 'promo_friends', 'contract_period']:\n",
    "    plt.figure(figsize=(5, 5))\n",
    "    sns.countplot(x = df[column], hue='churn', data=df)\n",
    "    plt.show()"
   ]
  },
  {
   "cell_type": "code",
   "execution_count": 12,
   "metadata": {
    "scrolled": false
   },
   "outputs": [
    {
     "data": {
      "image/png": "[encoded data removed]",
      "text/plain": [
       "<Figure size 1008x720 with 2 Axes>"
      ]
     },
     "metadata": {
      "needs_background": "light"
     },
     "output_type": "display_data"
    }
   ],
   "source": [
    "corr = df.corr()\n",
    "plt.figure(figsize=(14, 10))\n",
    "sns.heatmap(corr, annot = True, fmt = '0.2f', linewidths=.5, cmap=\"CMRmap\")\n",
    "plt.show()"
   ]
  },
  {
   "cell_type": "markdown",
   "metadata": {},
   "source": [
    "Видна положительная корреляция между рекомендациями друзей, парнтерскими занятиями, месяцев до конца абонемента и близостью фитнеса. То есть увеличение одного показателя влечет увеличение других. Уровень оттока снижается при условии \"долгого\" контракта, старшего возраста, частых посещений, длительности посещений (лайфтайама)."
   ]
  },
  {
   "cell_type": "markdown",
   "metadata": {},
   "source": [
    "## Модель прогнозирования оттока клиентов"
   ]
  },
  {
   "cell_type": "code",
   "execution_count": 13,
   "metadata": {},
   "outputs": [
    {
     "data": {
      "text/plain": [
       "LogisticRegression()"
      ]
     },
     "execution_count": 13,
     "metadata": {},
     "output_type": "execute_result"
    }
   ],
   "source": [
    "X = df.drop(columns = ['churn', 'month_to_end_contract'], axis = 1)\n",
    "y = df['churn']\n",
    "X_train, X_test, y_train, y_test = train_test_split(X, y, test_size=0.2, random_state=0, stratify=y)\n",
    "model = LogisticRegression()\n",
    "model.fit(X_train, y_train)"
   ]
  },
  {
   "cell_type": "code",
   "execution_count": 14,
   "metadata": {},
   "outputs": [],
   "source": [
    "predictions = model.predict(X_test)\n",
    "probabilities =  model.predict_proba(X_test)[:,1]"
   ]
  },
  {
   "cell_type": "code",
   "execution_count": 15,
   "metadata": {},
   "outputs": [],
   "source": [
    "def prin(y, pred, prob):\n",
    "    print('Accuracy: {:.2f}'.format(accuracy_score(y, pred)))\n",
    "    print('Precision: {:.2f}'.format(precision_score(y, pred)))\n",
    "    print('Recall: {:.2f}'.format(recall_score(y, pred)))\n",
    "    print('F1: {:.2f}'.format(f1_score(y, pred)))\n",
    "    print('ROC_AUC: {:.2f}'.format(roc_auc_score(y, prob)))"
   ]
  },
  {
   "cell_type": "code",
   "execution_count": 16,
   "metadata": {},
   "outputs": [
    {
     "name": "stdout",
     "output_type": "stream",
     "text": [
      "Accuracy: 0.93\n",
      "Precision: 0.90\n",
      "Recall: 0.81\n",
      "F1: 0.85\n",
      "ROC_AUC: 0.97\n"
     ]
    }
   ],
   "source": [
    "prin(y_test, predictions, probabilities)"
   ]
  },
  {
   "cell_type": "code",
   "execution_count": 17,
   "metadata": {},
   "outputs": [],
   "source": [
    "scaler = StandardScaler()\n",
    "scaler.fit(X_train)\n",
    "X_train_st = scaler.transform(X_train)\n",
    "X_test_st = scaler.transform(X_test)\n",
    "\n",
    "rf_model = RandomForestClassifier(n_estimators = 100, random_state = 0) \n",
    "rf_model.fit(X_train_st, y_train)\n",
    "rf_predictions = rf_model.predict(X_test_st) \n",
    "rf_probabilities = rf_model.predict_proba(X_test_st)[:,1]"
   ]
  },
  {
   "cell_type": "code",
   "execution_count": 18,
   "metadata": {
    "scrolled": true
   },
   "outputs": [
    {
     "name": "stdout",
     "output_type": "stream",
     "text": [
      "Accuracy: 0.92\n",
      "Precision: 0.87\n",
      "Recall: 0.80\n",
      "F1: 0.84\n",
      "ROC_AUC: 0.97\n"
     ]
    }
   ],
   "source": [
    "prin(y_test, rf_predictions, rf_probabilities)"
   ]
  },
  {
   "cell_type": "code",
   "execution_count": 19,
   "metadata": {},
   "outputs": [
    {
     "data": {
      "image/png": "[encoded data removed]",
      "text/plain": [
       "<Figure size 720x576 with 1 Axes>"
      ]
     },
     "metadata": {},
     "output_type": "display_data"
    }
   ],
   "source": [
    "sns.set(font_scale=1.5)\n",
    "sns.set_color_codes(\"muted\")\n",
    "\n",
    "plt.figure(figsize=(10, 8))\n",
    "fpr, tpr, thresholds = metrics.roc_curve(y_test, model.predict_proba(X_test)[:,1], pos_label=1)\n",
    "fpr_f, tpr_f, thresholds_f = metrics.roc_curve(y_test, rf_model.predict_proba(X_test)[:,1], pos_label=1)\n",
    "lw = 2\n",
    "plt.plot(fpr, tpr, lw=lw, label= 'LogisticRegression')\n",
    "plt.plot(fpr_f, tpr_f, lw=lw, label= 'RandomForestClassifier')\n",
    "plt.plot([0, 1], [0, 1])\n",
    "plt.xlim([0.0, 1.0])\n",
    "plt.ylim([0.0, 1.05])\n",
    "plt.xlabel('False Positive Rate')\n",
    "plt.ylabel('True Positive Rate')\n",
    "plt.title('ROC curve')\n",
    "plt.savefig(\"ROC.png\")\n",
    "plt.legend()\n",
    "plt.show()\n",
    "\n",
    "sns.set(font_scale=1.5)\n",
    "sns.set_color_codes(\"muted\")"
   ]
  },
  {
   "cell_type": "markdown",
   "metadata": {},
   "source": [
    "Метрики логистической регрессии лучше. Ну и метрика roc_auc явно говорит, что прогноз посредством логистической регрессии занчительно лучше."
   ]
  },
  {
   "cell_type": "markdown",
   "metadata": {},
   "source": [
    "## Кластеризация клиентов"
   ]
  },
  {
   "cell_type": "code",
   "execution_count": 20,
   "metadata": {},
   "outputs": [],
   "source": [
    "df_sс = df.drop(['churn'], axis=1)\n",
    "df_columns_list = df_sс.columns\n",
    "df_sс = StandardScaler().fit_transform(df_sс)\n",
    "df_sс = pd.DataFrame(df_sс, columns = df_columns_list).astype('float64')"
   ]
  },
  {
   "cell_type": "code",
   "execution_count": 21,
   "metadata": {},
   "outputs": [],
   "source": [
    "linked = linkage(df_sс, method = 'ward')"
   ]
  },
  {
   "cell_type": "code",
   "execution_count": 22,
   "metadata": {
    "scrolled": false
   },
   "outputs": [
    {
     "data": {
      "image/png": "[encoded data removed]",
      "text/plain": [
       "<Figure size 1152x648 with 1 Axes>"
      ]
     },
     "metadata": {},
     "output_type": "display_data"
    }
   ],
   "source": [
    "plt.figure(figsize=(16, 9))  \n",
    "dendrogram(linked, orientation = 'top')\n",
    "plt.title('Кластеризация пользователей')\n",
    "plt.show()"
   ]
  },
  {
   "cell_type": "markdown",
   "metadata": {},
   "source": [
    "Выделено 4 кластера."
   ]
  },
  {
   "cell_type": "code",
   "execution_count": 23,
   "metadata": {},
   "outputs": [],
   "source": [
    "km = KMeans(n_clusters = 5, random_state=0)\n",
    "labels = km.fit_predict(df_sс)\n",
    "df['cluster'] = labels"
   ]
  },
  {
   "cell_type": "code",
   "execution_count": 24,
   "metadata": {},
   "outputs": [
    {
     "data": {
      "text/plain": [
       "3    1262\n",
       "0    1010\n",
       "4     838\n",
       "2     505\n",
       "1     385\n",
       "Name: cluster, dtype: int64"
      ]
     },
     "execution_count": 24,
     "metadata": {},
     "output_type": "execute_result"
    }
   ],
   "source": [
    "df.cluster.value_counts()"
   ]
  },
  {
   "cell_type": "code",
   "execution_count": 25,
   "metadata": {
    "scrolled": true
   },
   "outputs": [
    {
     "data": {
      "image/png": "[encoded data removed]",
      "text/plain": [
       "<Figure size 360x360 with 1 Axes>"
      ]
     },
     "metadata": {},
     "output_type": "display_data"
    },
    {
     "data": {
      "image/png": "[encoded data removed]",
      "text/plain": [
       "<Figure size 360x360 with 1 Axes>"
      ]
     },
     "metadata": {},
     "output_type": "display_data"
    },
    {
     "data": {
      "image/png": "[encoded data removed]",
      "text/plain": [
       "<Figure size 360x360 with 1 Axes>"
      ]
     },
     "metadata": {},
     "output_type": "display_data"
    },
    {
     "data": {
      "image/png": "[encoded data removed]",
      "text/plain": [
       "<Figure size 360x360 with 1 Axes>"
      ]
     },
     "metadata": {},
     "output_type": "display_data"
    },
    {
     "data": {
      "image/png": "[encoded data removed]",
      "text/plain": [
       "<Figure size 360x360 with 1 Axes>"
      ]
     },
     "metadata": {},
     "output_type": "display_data"
    }
   ],
   "source": [
    "for column in ['gender', 'near_location', 'partner', 'promo_friends', 'contract_period']:\n",
    "    plt.figure(figsize=(5, 5))\n",
    "    sns.countplot(x = df[column], hue='cluster', data=df)\n",
    "    plt.title(column)\n",
    "    plt.show()"
   ]
  },
  {
   "cell_type": "code",
   "execution_count": 26,
   "metadata": {},
   "outputs": [
    {
     "data": {
      "text/html": [
       "<div>\n",
       "<style scoped>\n",
       "    .dataframe tbody tr th:only-of-type {\n",
       "        vertical-align: middle;\n",
       "    }\n",
       "\n",
       "    .dataframe tbody tr th {\n",
       "        vertical-align: top;\n",
       "    }\n",
       "\n",
       "    .dataframe thead th {\n",
       "        text-align: right;\n",
       "    }\n",
       "</style>\n",
       "<table border=\"1\" class=\"dataframe\">\n",
       "  <thead>\n",
       "    <tr style=\"text-align: right;\">\n",
       "      <th>cluster</th>\n",
       "      <th>0</th>\n",
       "      <th>1</th>\n",
       "      <th>2</th>\n",
       "      <th>3</th>\n",
       "      <th>4</th>\n",
       "    </tr>\n",
       "  </thead>\n",
       "  <tbody>\n",
       "    <tr>\n",
       "      <th>gender</th>\n",
       "      <td>0.502970</td>\n",
       "      <td>0.522078</td>\n",
       "      <td>0.495050</td>\n",
       "      <td>0.485737</td>\n",
       "      <td>0.559666</td>\n",
       "    </tr>\n",
       "    <tr>\n",
       "      <th>near_location</th>\n",
       "      <td>0.959406</td>\n",
       "      <td>0.862338</td>\n",
       "      <td>0.000000</td>\n",
       "      <td>1.000000</td>\n",
       "      <td>0.976134</td>\n",
       "    </tr>\n",
       "    <tr>\n",
       "      <th>partner</th>\n",
       "      <td>0.783168</td>\n",
       "      <td>0.470130</td>\n",
       "      <td>0.463366</td>\n",
       "      <td>0.350238</td>\n",
       "      <td>0.356802</td>\n",
       "    </tr>\n",
       "    <tr>\n",
       "      <th>promo_friends</th>\n",
       "      <td>0.574257</td>\n",
       "      <td>0.306494</td>\n",
       "      <td>0.079208</td>\n",
       "      <td>0.240095</td>\n",
       "      <td>0.230310</td>\n",
       "    </tr>\n",
       "    <tr>\n",
       "      <th>phone</th>\n",
       "      <td>1.000000</td>\n",
       "      <td>0.000000</td>\n",
       "      <td>1.000000</td>\n",
       "      <td>1.000000</td>\n",
       "      <td>0.998807</td>\n",
       "    </tr>\n",
       "    <tr>\n",
       "      <th>contract_period</th>\n",
       "      <td>10.889109</td>\n",
       "      <td>4.787013</td>\n",
       "      <td>2.352475</td>\n",
       "      <td>1.948494</td>\n",
       "      <td>2.669451</td>\n",
       "    </tr>\n",
       "    <tr>\n",
       "      <th>group_visits</th>\n",
       "      <td>0.542574</td>\n",
       "      <td>0.425974</td>\n",
       "      <td>0.215842</td>\n",
       "      <td>0.341521</td>\n",
       "      <td>0.473747</td>\n",
       "    </tr>\n",
       "    <tr>\n",
       "      <th>age</th>\n",
       "      <td>29.982178</td>\n",
       "      <td>29.301299</td>\n",
       "      <td>28.477228</td>\n",
       "      <td>28.167987</td>\n",
       "      <td>30.125298</td>\n",
       "    </tr>\n",
       "    <tr>\n",
       "      <th>avg_additional_charges_total</th>\n",
       "      <td>160.761016</td>\n",
       "      <td>143.957664</td>\n",
       "      <td>135.457501</td>\n",
       "      <td>131.622204</td>\n",
       "      <td>161.657905</td>\n",
       "    </tr>\n",
       "    <tr>\n",
       "      <th>month_to_end_contract</th>\n",
       "      <td>9.954455</td>\n",
       "      <td>4.475325</td>\n",
       "      <td>2.198020</td>\n",
       "      <td>1.856577</td>\n",
       "      <td>2.459427</td>\n",
       "    </tr>\n",
       "    <tr>\n",
       "      <th>lifetime</th>\n",
       "      <td>4.736634</td>\n",
       "      <td>3.924675</td>\n",
       "      <td>2.809901</td>\n",
       "      <td>2.440571</td>\n",
       "      <td>4.898568</td>\n",
       "    </tr>\n",
       "    <tr>\n",
       "      <th>avg_class_frequency_total</th>\n",
       "      <td>1.982055</td>\n",
       "      <td>1.847220</td>\n",
       "      <td>1.660461</td>\n",
       "      <td>1.247634</td>\n",
       "      <td>2.852002</td>\n",
       "    </tr>\n",
       "    <tr>\n",
       "      <th>avg_class_frequency_current_month</th>\n",
       "      <td>1.974789</td>\n",
       "      <td>1.716369</td>\n",
       "      <td>1.477324</td>\n",
       "      <td>1.012983</td>\n",
       "      <td>2.850161</td>\n",
       "    </tr>\n",
       "    <tr>\n",
       "      <th>churn</th>\n",
       "      <td>0.027723</td>\n",
       "      <td>0.267532</td>\n",
       "      <td>0.443564</td>\n",
       "      <td>0.514263</td>\n",
       "      <td>0.068019</td>\n",
       "    </tr>\n",
       "  </tbody>\n",
       "</table>\n",
       "</div>"
      ],
      "text/plain": [
       "cluster                                     0           1           2  \\\n",
       "gender                               0.502970    0.522078    0.495050   \n",
       "near_location                        0.959406    0.862338    0.000000   \n",
       "partner                              0.783168    0.470130    0.463366   \n",
       "promo_friends                        0.574257    0.306494    0.079208   \n",
       "phone                                1.000000    0.000000    1.000000   \n",
       "contract_period                     10.889109    4.787013    2.352475   \n",
       "group_visits                         0.542574    0.425974    0.215842   \n",
       "age                                 29.982178   29.301299   28.477228   \n",
       "avg_additional_charges_total       160.761016  143.957664  135.457501   \n",
       "month_to_end_contract                9.954455    4.475325    2.198020   \n",
       "lifetime                             4.736634    3.924675    2.809901   \n",
       "avg_class_frequency_total            1.982055    1.847220    1.660461   \n",
       "avg_class_frequency_current_month    1.974789    1.716369    1.477324   \n",
       "churn                                0.027723    0.267532    0.443564   \n",
       "\n",
       "cluster                                     3           4  \n",
       "gender                               0.485737    0.559666  \n",
       "near_location                        1.000000    0.976134  \n",
       "partner                              0.350238    0.356802  \n",
       "promo_friends                        0.240095    0.230310  \n",
       "phone                                1.000000    0.998807  \n",
       "contract_period                      1.948494    2.669451  \n",
       "group_visits                         0.341521    0.473747  \n",
       "age                                 28.167987   30.125298  \n",
       "avg_additional_charges_total       131.622204  161.657905  \n",
       "month_to_end_contract                1.856577    2.459427  \n",
       "lifetime                             2.440571    4.898568  \n",
       "avg_class_frequency_total            1.247634    2.852002  \n",
       "avg_class_frequency_current_month    1.012983    2.850161  \n",
       "churn                                0.514263    0.068019  "
      ]
     },
     "execution_count": 26,
     "metadata": {},
     "output_type": "execute_result"
    }
   ],
   "source": [
    "df.groupby('cluster').mean().T"
   ]
  },
  {
   "cell_type": "markdown",
   "metadata": {},
   "source": [
    "Кластеры под номерами 2 и 3 наиболее склонны к оттоку\n",
    "Пользователи 3 кластера живут около фитнеса, пользуются в среднем 2,5 месяца. Стоит обратить внимание на эту группу, выяснить причины оттока. Создается впечатление, что эта группа состоит из молодых людей пришедших самостоятельно и особо не представляющих целей занятия фитнесом. Возможно стоит их заинтересовать, составить план тренировок. \n",
    "Со второй группой сложнее поскольку живут не в районе фитнеса, в основном занимаются индивидуально и чтобы удержать этих пользователей нужно приложить усилия, которые вряд ли окупятся. Тем более их число не велико. \n",
    "\n",
    "Промежуточное положение занимает кластер под номером  1.\n",
    "Их число самое маленькое, обращает на себя внимание, что пользователи этого кластера не оставляют номер телефона\n",
    "\n",
    "Лучшие кластеры по номерами 0 и 4.\n",
    "Это в основном жители района, сотрудники района, по скидке от друзей, с длительным абонементом и часто посещающие занятия.\n"
   ]
  },
  {
   "cell_type": "markdown",
   "metadata": {},
   "source": [
    "## Выводы и базовые рекомендации"
   ]
  },
  {
   "cell_type": "markdown",
   "metadata": {},
   "source": [
    "Отток происходит в основном в первые 4 месяца, у людей с 1-месячным контрактом. Группа людей старше 33 лет наиболее удерживаема. То есть необходимо обратить на новых клиентов моложе 33 лет, прежде всего из 3 кластера поскольку он многочислен, выяснить причины оттока и постараться удержать их, возможно занятиями с личным тренером, либо в групповых занятиях."
   ]
  },
  {
   "cell_type": "code",
   "execution_count": null,
   "metadata": {},
   "outputs": [],
   "source": []
  }
 ],
 "metadata": {
  "ExecuteTimeLog": [
   {
    "duration": 2049,
    "start_time": "2022-04-17T11:03:26.562Z"
   },
   {
    "duration": 48,
    "start_time": "2022-04-17T11:05:03.663Z"
   },
   {
    "duration": 45,
    "start_time": "2022-04-17T11:05:29.085Z"
   },
   {
    "duration": 6,
    "start_time": "2022-04-17T11:06:29.140Z"
   },
   {
    "duration": 56,
    "start_time": "2022-04-17T11:06:38.951Z"
   },
   {
    "duration": 11,
    "start_time": "2022-04-17T11:08:22.329Z"
   },
   {
    "duration": 67,
    "start_time": "2022-04-17T11:09:05.085Z"
   },
   {
    "duration": 158,
    "start_time": "2022-04-17T11:10:28.772Z"
   },
   {
    "duration": 5,
    "start_time": "2022-04-17T11:10:48.353Z"
   },
   {
    "duration": 11,
    "start_time": "2022-04-17T11:12:17.287Z"
   },
   {
    "duration": 23,
    "start_time": "2022-04-17T11:15:21.409Z"
   },
   {
    "duration": 44,
    "start_time": "2022-04-17T16:02:52.581Z"
   },
   {
    "duration": 2249,
    "start_time": "2022-04-17T16:03:00.346Z"
   },
   {
    "duration": 4,
    "start_time": "2022-04-17T16:03:02.598Z"
   },
   {
    "duration": 56,
    "start_time": "2022-04-17T16:03:02.604Z"
   },
   {
    "duration": 10,
    "start_time": "2022-04-17T16:03:02.661Z"
   },
   {
    "duration": 51,
    "start_time": "2022-04-17T16:03:02.674Z"
   },
   {
    "duration": 25,
    "start_time": "2022-04-17T16:03:02.727Z"
   },
   {
    "duration": 11,
    "start_time": "2022-04-17T16:03:02.753Z"
   },
   {
    "duration": 10,
    "start_time": "2022-04-17T16:04:01.831Z"
   },
   {
    "duration": 295,
    "start_time": "2022-04-17T16:04:44.193Z"
   },
   {
    "duration": 316,
    "start_time": "2022-04-17T16:05:09.586Z"
   },
   {
    "duration": 231,
    "start_time": "2022-04-17T16:05:21.054Z"
   },
   {
    "duration": 218,
    "start_time": "2022-04-17T16:05:32.467Z"
   },
   {
    "duration": 233,
    "start_time": "2022-04-17T16:05:45.295Z"
   },
   {
    "duration": 2505,
    "start_time": "2022-04-17T16:07:11.938Z"
   },
   {
    "duration": 1559,
    "start_time": "2022-04-17T16:08:43.892Z"
   },
   {
    "duration": 1625,
    "start_time": "2022-04-17T16:11:46.239Z"
   },
   {
    "duration": 557,
    "start_time": "2022-04-17T16:13:54.999Z"
   },
   {
    "duration": 1443,
    "start_time": "2022-04-17T16:15:05.985Z"
   },
   {
    "duration": 541,
    "start_time": "2022-04-17T16:16:22.413Z"
   },
   {
    "duration": 12,
    "start_time": "2022-04-17T16:16:39.207Z"
   },
   {
    "duration": 9,
    "start_time": "2022-04-17T16:16:53.954Z"
   },
   {
    "duration": 334,
    "start_time": "2022-04-17T16:17:08.265Z"
   },
   {
    "duration": 8,
    "start_time": "2022-04-17T16:18:16.730Z"
   },
   {
    "duration": 9,
    "start_time": "2022-04-17T16:19:33.154Z"
   },
   {
    "duration": 554,
    "start_time": "2022-04-17T16:19:43.850Z"
   },
   {
    "duration": 98757,
    "start_time": "2022-04-17T16:19:54.160Z"
   },
   {
    "duration": 1813,
    "start_time": "2022-04-17T16:21:50.138Z"
   },
   {
    "duration": 6,
    "start_time": "2022-04-17T16:21:52.757Z"
   },
   {
    "duration": 13,
    "start_time": "2022-04-17T16:21:54.864Z"
   },
   {
    "duration": 1872,
    "start_time": "2022-04-17T16:58:04.413Z"
   },
   {
    "duration": 4,
    "start_time": "2022-04-17T16:58:06.287Z"
   },
   {
    "duration": 41,
    "start_time": "2022-04-17T16:58:06.292Z"
   },
   {
    "duration": 11,
    "start_time": "2022-04-17T16:58:06.348Z"
   },
   {
    "duration": 47,
    "start_time": "2022-04-17T16:58:06.360Z"
   },
   {
    "duration": 6,
    "start_time": "2022-04-17T16:58:06.409Z"
   },
   {
    "duration": 38,
    "start_time": "2022-04-17T16:58:06.417Z"
   },
   {
    "duration": 255,
    "start_time": "2022-04-17T16:58:06.457Z"
   },
   {
    "duration": 2464,
    "start_time": "2022-04-17T16:58:06.714Z"
   },
   {
    "duration": 1669,
    "start_time": "2022-04-17T16:58:09.180Z"
   },
   {
    "duration": 598,
    "start_time": "2022-04-17T16:58:10.851Z"
   },
   {
    "duration": 1477,
    "start_time": "2022-04-17T16:58:11.451Z"
   },
   {
    "duration": 720,
    "start_time": "2022-04-17T16:58:12.930Z"
   },
   {
    "duration": 100,
    "start_time": "2022-04-17T16:58:13.652Z"
   },
   {
    "duration": 202,
    "start_time": "2022-04-17T16:58:13.754Z"
   },
   {
    "duration": 351,
    "start_time": "2022-04-17T16:58:13.958Z"
   },
   {
    "duration": 9,
    "start_time": "2022-04-17T16:58:14.311Z"
   },
   {
    "duration": 9,
    "start_time": "2022-04-17T16:58:14.322Z"
   },
   {
    "duration": 920,
    "start_time": "2022-04-17T16:58:14.348Z"
   },
   {
    "duration": 98005,
    "start_time": "2022-04-17T16:58:15.270Z"
   },
   {
    "duration": 1184,
    "start_time": "2022-04-17T16:59:53.277Z"
   },
   {
    "duration": 86,
    "start_time": "2022-04-17T16:59:54.463Z"
   },
   {
    "duration": 14,
    "start_time": "2022-04-17T16:59:54.550Z"
   },
   {
    "duration": 1863,
    "start_time": "2022-04-18T16:28:11.251Z"
   },
   {
    "duration": 4,
    "start_time": "2022-04-18T16:28:13.116Z"
   },
   {
    "duration": 38,
    "start_time": "2022-04-18T16:28:13.121Z"
   },
   {
    "duration": 8,
    "start_time": "2022-04-18T16:28:13.161Z"
   },
   {
    "duration": 60,
    "start_time": "2022-04-18T16:28:13.171Z"
   },
   {
    "duration": 5,
    "start_time": "2022-04-18T16:28:13.233Z"
   },
   {
    "duration": 10,
    "start_time": "2022-04-18T16:28:13.240Z"
   },
   {
    "duration": 279,
    "start_time": "2022-04-18T16:28:13.251Z"
   },
   {
    "duration": 2389,
    "start_time": "2022-04-18T16:28:13.532Z"
   },
   {
    "duration": 1671,
    "start_time": "2022-04-18T16:28:15.925Z"
   },
   {
    "duration": 591,
    "start_time": "2022-04-18T16:28:17.598Z"
   },
   {
    "duration": 1446,
    "start_time": "2022-04-18T16:28:18.191Z"
   },
   {
    "duration": 974,
    "start_time": "2022-04-18T16:28:19.639Z"
   },
   {
    "duration": 96,
    "start_time": "2022-04-18T16:28:20.615Z"
   },
   {
    "duration": 195,
    "start_time": "2022-04-18T16:28:20.714Z"
   },
   {
    "duration": 348,
    "start_time": "2022-04-18T16:28:20.911Z"
   },
   {
    "duration": 9,
    "start_time": "2022-04-18T16:28:21.261Z"
   },
   {
    "duration": 10,
    "start_time": "2022-04-18T16:28:21.271Z"
   },
   {
    "duration": 542,
    "start_time": "2022-04-18T16:28:21.282Z"
   },
   {
    "duration": 96123,
    "start_time": "2022-04-18T16:28:21.826Z"
   },
   {
    "duration": 1059,
    "start_time": "2022-04-18T16:29:57.950Z"
   },
   {
    "duration": 88,
    "start_time": "2022-04-18T16:29:59.014Z"
   },
   {
    "duration": 15,
    "start_time": "2022-04-18T16:29:59.104Z"
   },
   {
    "duration": 254,
    "start_time": "2022-04-18T16:29:59.121Z"
   },
   {
    "duration": 786,
    "start_time": "2022-04-18T17:01:31.819Z"
   },
   {
    "duration": 1166,
    "start_time": "2022-04-18T17:01:53.515Z"
   },
   {
    "duration": 48,
    "start_time": "2022-04-19T16:17:45.840Z"
   },
   {
    "duration": 2070,
    "start_time": "2022-04-19T16:17:52.426Z"
   },
   {
    "duration": 4,
    "start_time": "2022-04-19T16:17:54.499Z"
   },
   {
    "duration": 63,
    "start_time": "2022-04-19T16:17:54.504Z"
   },
   {
    "duration": 11,
    "start_time": "2022-04-19T16:17:54.570Z"
   },
   {
    "duration": 53,
    "start_time": "2022-04-19T16:17:54.583Z"
   },
   {
    "duration": 6,
    "start_time": "2022-04-19T16:17:54.638Z"
   },
   {
    "duration": 10,
    "start_time": "2022-04-19T16:17:54.646Z"
   },
   {
    "duration": 251,
    "start_time": "2022-04-19T16:17:54.657Z"
   },
   {
    "duration": 236,
    "start_time": "2022-04-19T16:17:54.910Z"
   },
   {
    "duration": 0,
    "start_time": "2022-04-19T16:17:55.149Z"
   },
   {
    "duration": 0,
    "start_time": "2022-04-19T16:17:55.150Z"
   },
   {
    "duration": 0,
    "start_time": "2022-04-19T16:17:55.151Z"
   },
   {
    "duration": 0,
    "start_time": "2022-04-19T16:17:55.153Z"
   },
   {
    "duration": 0,
    "start_time": "2022-04-19T16:17:55.154Z"
   },
   {
    "duration": 0,
    "start_time": "2022-04-19T16:17:55.155Z"
   },
   {
    "duration": 0,
    "start_time": "2022-04-19T16:17:55.158Z"
   },
   {
    "duration": 0,
    "start_time": "2022-04-19T16:17:55.159Z"
   },
   {
    "duration": 0,
    "start_time": "2022-04-19T16:17:55.161Z"
   },
   {
    "duration": 0,
    "start_time": "2022-04-19T16:17:55.163Z"
   },
   {
    "duration": 0,
    "start_time": "2022-04-19T16:17:55.164Z"
   },
   {
    "duration": 0,
    "start_time": "2022-04-19T16:17:55.166Z"
   },
   {
    "duration": 0,
    "start_time": "2022-04-19T16:17:55.167Z"
   },
   {
    "duration": 0,
    "start_time": "2022-04-19T16:17:55.169Z"
   },
   {
    "duration": 0,
    "start_time": "2022-04-19T16:17:55.170Z"
   },
   {
    "duration": 0,
    "start_time": "2022-04-19T16:17:55.173Z"
   },
   {
    "duration": 0,
    "start_time": "2022-04-19T16:17:55.175Z"
   },
   {
    "duration": 0,
    "start_time": "2022-04-19T16:17:55.176Z"
   },
   {
    "duration": 136,
    "start_time": "2022-04-19T16:18:38.840Z"
   },
   {
    "duration": 333,
    "start_time": "2022-04-19T16:22:14.980Z"
   },
   {
    "duration": 1636,
    "start_time": "2022-04-19T16:24:20.566Z"
   },
   {
    "duration": 4,
    "start_time": "2022-04-19T16:24:22.204Z"
   },
   {
    "duration": 55,
    "start_time": "2022-04-19T16:24:22.210Z"
   },
   {
    "duration": 9,
    "start_time": "2022-04-19T16:24:22.268Z"
   },
   {
    "duration": 57,
    "start_time": "2022-04-19T16:24:22.279Z"
   },
   {
    "duration": 7,
    "start_time": "2022-04-19T16:24:22.338Z"
   },
   {
    "duration": 10,
    "start_time": "2022-04-19T16:24:22.347Z"
   },
   {
    "duration": 154,
    "start_time": "2022-04-19T16:24:22.359Z"
   },
   {
    "duration": 477,
    "start_time": "2022-04-19T16:24:22.515Z"
   },
   {
    "duration": 0,
    "start_time": "2022-04-19T16:24:22.994Z"
   },
   {
    "duration": 0,
    "start_time": "2022-04-19T16:24:22.995Z"
   },
   {
    "duration": 0,
    "start_time": "2022-04-19T16:24:22.997Z"
   },
   {
    "duration": 0,
    "start_time": "2022-04-19T16:24:22.998Z"
   },
   {
    "duration": 0,
    "start_time": "2022-04-19T16:24:23.000Z"
   },
   {
    "duration": 0,
    "start_time": "2022-04-19T16:24:23.001Z"
   },
   {
    "duration": 0,
    "start_time": "2022-04-19T16:24:23.002Z"
   },
   {
    "duration": 0,
    "start_time": "2022-04-19T16:24:23.004Z"
   },
   {
    "duration": 0,
    "start_time": "2022-04-19T16:24:23.024Z"
   },
   {
    "duration": 0,
    "start_time": "2022-04-19T16:24:23.025Z"
   },
   {
    "duration": 0,
    "start_time": "2022-04-19T16:24:23.026Z"
   },
   {
    "duration": 0,
    "start_time": "2022-04-19T16:24:23.029Z"
   },
   {
    "duration": 0,
    "start_time": "2022-04-19T16:24:23.030Z"
   },
   {
    "duration": 0,
    "start_time": "2022-04-19T16:24:23.032Z"
   },
   {
    "duration": 0,
    "start_time": "2022-04-19T16:24:23.033Z"
   },
   {
    "duration": 0,
    "start_time": "2022-04-19T16:24:23.035Z"
   },
   {
    "duration": 0,
    "start_time": "2022-04-19T16:24:23.036Z"
   },
   {
    "duration": 0,
    "start_time": "2022-04-19T16:24:23.037Z"
   },
   {
    "duration": 18,
    "start_time": "2022-04-19T16:24:40.810Z"
   },
   {
    "duration": 132,
    "start_time": "2022-04-19T16:27:39.008Z"
   },
   {
    "duration": 124,
    "start_time": "2022-04-19T16:27:49.279Z"
   },
   {
    "duration": 1719,
    "start_time": "2022-04-19T16:28:25.198Z"
   },
   {
    "duration": 4,
    "start_time": "2022-04-19T16:28:26.919Z"
   },
   {
    "duration": 72,
    "start_time": "2022-04-19T16:28:26.925Z"
   },
   {
    "duration": 14,
    "start_time": "2022-04-19T16:28:27.001Z"
   },
   {
    "duration": 76,
    "start_time": "2022-04-19T16:28:27.023Z"
   },
   {
    "duration": 7,
    "start_time": "2022-04-19T16:28:27.102Z"
   },
   {
    "duration": 30,
    "start_time": "2022-04-19T16:28:27.110Z"
   },
   {
    "duration": 156,
    "start_time": "2022-04-19T16:28:27.141Z"
   },
   {
    "duration": 252056,
    "start_time": "2022-04-19T16:28:27.299Z"
   },
   {
    "duration": 0,
    "start_time": "2022-04-19T16:32:39.357Z"
   },
   {
    "duration": 0,
    "start_time": "2022-04-19T16:32:39.359Z"
   },
   {
    "duration": 0,
    "start_time": "2022-04-19T16:32:39.360Z"
   },
   {
    "duration": 0,
    "start_time": "2022-04-19T16:32:39.360Z"
   },
   {
    "duration": 0,
    "start_time": "2022-04-19T16:32:39.362Z"
   },
   {
    "duration": 0,
    "start_time": "2022-04-19T16:32:39.363Z"
   },
   {
    "duration": 0,
    "start_time": "2022-04-19T16:32:39.364Z"
   },
   {
    "duration": 0,
    "start_time": "2022-04-19T16:32:39.365Z"
   },
   {
    "duration": 0,
    "start_time": "2022-04-19T16:32:39.366Z"
   },
   {
    "duration": 0,
    "start_time": "2022-04-19T16:32:39.367Z"
   },
   {
    "duration": 0,
    "start_time": "2022-04-19T16:32:39.368Z"
   },
   {
    "duration": 0,
    "start_time": "2022-04-19T16:32:39.369Z"
   },
   {
    "duration": 0,
    "start_time": "2022-04-19T16:32:39.370Z"
   },
   {
    "duration": 0,
    "start_time": "2022-04-19T16:32:39.371Z"
   },
   {
    "duration": 0,
    "start_time": "2022-04-19T16:32:39.372Z"
   },
   {
    "duration": 0,
    "start_time": "2022-04-19T16:32:39.373Z"
   },
   {
    "duration": 0,
    "start_time": "2022-04-19T16:32:39.374Z"
   },
   {
    "duration": 0,
    "start_time": "2022-04-19T16:32:39.375Z"
   },
   {
    "duration": 1403,
    "start_time": "2022-04-19T16:34:38.477Z"
   },
   {
    "duration": 1530,
    "start_time": "2022-04-19T16:34:53.269Z"
   },
   {
    "duration": 2809,
    "start_time": "2022-04-19T16:39:10.637Z"
   },
   {
    "duration": 20339,
    "start_time": "2022-04-19T16:40:22.722Z"
   },
   {
    "duration": 16,
    "start_time": "2022-04-19T16:41:18.254Z"
   },
   {
    "duration": 18,
    "start_time": "2022-04-19T16:41:43.315Z"
   },
   {
    "duration": 1962,
    "start_time": "2022-04-19T16:41:59.645Z"
   },
   {
    "duration": 203,
    "start_time": "2022-04-19T16:44:58.463Z"
   },
   {
    "duration": 207,
    "start_time": "2022-04-19T16:45:32.530Z"
   },
   {
    "duration": 1672,
    "start_time": "2022-04-19T16:46:37.605Z"
   },
   {
    "duration": 3,
    "start_time": "2022-04-19T16:46:39.279Z"
   },
   {
    "duration": 35,
    "start_time": "2022-04-19T16:46:39.284Z"
   },
   {
    "duration": 10,
    "start_time": "2022-04-19T16:46:39.321Z"
   },
   {
    "duration": 60,
    "start_time": "2022-04-19T16:46:39.333Z"
   },
   {
    "duration": 5,
    "start_time": "2022-04-19T16:46:39.395Z"
   },
   {
    "duration": 15,
    "start_time": "2022-04-19T16:46:39.401Z"
   },
   {
    "duration": 1635,
    "start_time": "2022-04-19T16:46:39.418Z"
   },
   {
    "duration": 2396,
    "start_time": "2022-04-19T16:46:41.055Z"
   },
   {
    "duration": 1798,
    "start_time": "2022-04-19T16:46:43.454Z"
   },
   {
    "duration": 574,
    "start_time": "2022-04-19T16:46:45.253Z"
   },
   {
    "duration": 1355,
    "start_time": "2022-04-19T16:46:45.829Z"
   },
   {
    "duration": 1846,
    "start_time": "2022-04-19T16:46:47.186Z"
   },
   {
    "duration": 18,
    "start_time": "2022-04-19T16:46:49.034Z"
   },
   {
    "duration": 201,
    "start_time": "2022-04-19T16:46:49.054Z"
   },
   {
    "duration": 357,
    "start_time": "2022-04-19T16:46:49.256Z"
   },
   {
    "duration": 8,
    "start_time": "2022-04-19T16:46:49.614Z"
   },
   {
    "duration": 10,
    "start_time": "2022-04-19T16:46:49.625Z"
   },
   {
    "duration": 668,
    "start_time": "2022-04-19T16:46:49.637Z"
   },
   {
    "duration": 1619,
    "start_time": "2022-04-19T16:47:38.253Z"
   },
   {
    "duration": 4,
    "start_time": "2022-04-19T16:47:39.874Z"
   },
   {
    "duration": 38,
    "start_time": "2022-04-19T16:47:39.879Z"
   },
   {
    "duration": 15,
    "start_time": "2022-04-19T16:47:39.919Z"
   },
   {
    "duration": 56,
    "start_time": "2022-04-19T16:47:39.935Z"
   },
   {
    "duration": 5,
    "start_time": "2022-04-19T16:47:39.993Z"
   },
   {
    "duration": 12,
    "start_time": "2022-04-19T16:47:40.000Z"
   },
   {
    "duration": 1601,
    "start_time": "2022-04-19T16:47:40.014Z"
   },
   {
    "duration": 2356,
    "start_time": "2022-04-19T16:47:41.616Z"
   },
   {
    "duration": 1755,
    "start_time": "2022-04-19T16:47:43.975Z"
   },
   {
    "duration": 566,
    "start_time": "2022-04-19T16:47:45.732Z"
   },
   {
    "duration": 154,
    "start_time": "2022-04-19T16:47:46.299Z"
   },
   {
    "duration": 0,
    "start_time": "2022-04-19T16:47:46.454Z"
   },
   {
    "duration": 0,
    "start_time": "2022-04-19T16:47:46.456Z"
   },
   {
    "duration": 0,
    "start_time": "2022-04-19T16:47:46.457Z"
   },
   {
    "duration": 0,
    "start_time": "2022-04-19T16:47:46.458Z"
   },
   {
    "duration": 0,
    "start_time": "2022-04-19T16:47:46.459Z"
   },
   {
    "duration": 0,
    "start_time": "2022-04-19T16:47:46.459Z"
   },
   {
    "duration": 0,
    "start_time": "2022-04-19T16:47:46.460Z"
   },
   {
    "duration": 0,
    "start_time": "2022-04-19T16:47:46.462Z"
   },
   {
    "duration": 0,
    "start_time": "2022-04-19T16:47:46.463Z"
   },
   {
    "duration": 0,
    "start_time": "2022-04-19T16:47:46.463Z"
   },
   {
    "duration": 0,
    "start_time": "2022-04-19T16:47:46.464Z"
   },
   {
    "duration": 0,
    "start_time": "2022-04-19T16:47:46.465Z"
   },
   {
    "duration": 0,
    "start_time": "2022-04-19T16:47:46.466Z"
   },
   {
    "duration": 1280,
    "start_time": "2022-04-19T16:48:14.868Z"
   },
   {
    "duration": 1700,
    "start_time": "2022-04-19T16:48:49.588Z"
   },
   {
    "duration": 4,
    "start_time": "2022-04-19T16:48:51.290Z"
   },
   {
    "duration": 53,
    "start_time": "2022-04-19T16:48:51.295Z"
   },
   {
    "duration": 10,
    "start_time": "2022-04-19T16:48:51.350Z"
   },
   {
    "duration": 48,
    "start_time": "2022-04-19T16:48:51.362Z"
   },
   {
    "duration": 18,
    "start_time": "2022-04-19T16:48:51.411Z"
   },
   {
    "duration": 26,
    "start_time": "2022-04-19T16:48:51.433Z"
   },
   {
    "duration": 1578,
    "start_time": "2022-04-19T16:48:51.460Z"
   },
   {
    "duration": 2482,
    "start_time": "2022-04-19T16:48:53.040Z"
   },
   {
    "duration": 1830,
    "start_time": "2022-04-19T16:48:55.525Z"
   },
   {
    "duration": 620,
    "start_time": "2022-04-19T16:48:57.356Z"
   },
   {
    "duration": 1322,
    "start_time": "2022-04-19T16:48:57.978Z"
   },
   {
    "duration": 1353,
    "start_time": "2022-04-19T16:48:59.302Z"
   },
   {
    "duration": 89,
    "start_time": "2022-04-19T16:49:00.656Z"
   },
   {
    "duration": 91,
    "start_time": "2022-04-19T16:49:00.747Z"
   },
   {
    "duration": 446,
    "start_time": "2022-04-19T16:49:00.843Z"
   },
   {
    "duration": 8,
    "start_time": "2022-04-19T16:49:01.291Z"
   },
   {
    "duration": 18,
    "start_time": "2022-04-19T16:49:01.301Z"
   },
   {
    "duration": 574,
    "start_time": "2022-04-19T16:49:01.321Z"
   },
   {
    "duration": 100699,
    "start_time": "2022-04-19T16:49:01.897Z"
   },
   {
    "duration": 937,
    "start_time": "2022-04-19T16:50:42.598Z"
   },
   {
    "duration": 7,
    "start_time": "2022-04-19T16:50:43.542Z"
   },
   {
    "duration": 748,
    "start_time": "2022-04-19T16:50:43.551Z"
   },
   {
    "duration": 837,
    "start_time": "2022-04-19T16:50:44.301Z"
   },
   {
    "duration": 17,
    "start_time": "2022-04-19T16:50:45.139Z"
   },
   {
    "duration": 121,
    "start_time": "2022-04-19T16:52:48.062Z"
   },
   {
    "duration": 139,
    "start_time": "2022-04-19T16:53:01.654Z"
   },
   {
    "duration": 126,
    "start_time": "2022-04-19T16:53:12.013Z"
   },
   {
    "duration": 142,
    "start_time": "2022-04-19T16:54:10.866Z"
   },
   {
    "duration": 756,
    "start_time": "2022-04-19T16:54:18.163Z"
   },
   {
    "duration": 232,
    "start_time": "2022-04-19T16:57:35.231Z"
   },
   {
    "duration": 24,
    "start_time": "2022-04-19T16:57:52.911Z"
   },
   {
    "duration": 178,
    "start_time": "2022-04-19T16:58:10.570Z"
   },
   {
    "duration": 168,
    "start_time": "2022-04-19T17:00:44.212Z"
   },
   {
    "duration": 462,
    "start_time": "2022-04-19T17:03:59.772Z"
   },
   {
    "duration": 595,
    "start_time": "2022-04-19T17:05:08.113Z"
   },
   {
    "duration": 161,
    "start_time": "2022-04-19T17:05:36.303Z"
   },
   {
    "duration": 2404,
    "start_time": "2022-04-19T17:07:30.690Z"
   },
   {
    "duration": 1601,
    "start_time": "2022-04-19T17:07:45.393Z"
   },
   {
    "duration": 3,
    "start_time": "2022-04-19T17:07:46.996Z"
   },
   {
    "duration": 38,
    "start_time": "2022-04-19T17:07:47.001Z"
   },
   {
    "duration": 8,
    "start_time": "2022-04-19T17:07:47.041Z"
   },
   {
    "duration": 39,
    "start_time": "2022-04-19T17:07:47.050Z"
   },
   {
    "duration": 6,
    "start_time": "2022-04-19T17:07:47.090Z"
   },
   {
    "duration": 30,
    "start_time": "2022-04-19T17:07:47.097Z"
   },
   {
    "duration": 1517,
    "start_time": "2022-04-19T17:07:47.129Z"
   },
   {
    "duration": 191,
    "start_time": "2022-04-19T17:07:48.648Z"
   },
   {
    "duration": 2208,
    "start_time": "2022-04-19T17:07:48.842Z"
   },
   {
    "duration": 1686,
    "start_time": "2022-04-19T17:07:51.051Z"
   },
   {
    "duration": 533,
    "start_time": "2022-04-19T17:07:52.739Z"
   },
   {
    "duration": 1218,
    "start_time": "2022-04-19T17:07:53.274Z"
   },
   {
    "duration": 851,
    "start_time": "2022-04-19T17:07:54.494Z"
   },
   {
    "duration": 85,
    "start_time": "2022-04-19T17:07:55.347Z"
   },
   {
    "duration": 96,
    "start_time": "2022-04-19T17:07:55.435Z"
   },
   {
    "duration": 427,
    "start_time": "2022-04-19T17:07:55.532Z"
   },
   {
    "duration": 8,
    "start_time": "2022-04-19T17:07:55.961Z"
   },
   {
    "duration": 11,
    "start_time": "2022-04-19T17:07:55.971Z"
   },
   {
    "duration": 525,
    "start_time": "2022-04-19T17:07:55.984Z"
   },
   {
    "duration": 92627,
    "start_time": "2022-04-19T17:07:56.511Z"
   },
   {
    "duration": 1093,
    "start_time": "2022-04-19T17:09:29.140Z"
   },
   {
    "duration": 7,
    "start_time": "2022-04-19T17:09:30.324Z"
   },
   {
    "duration": 715,
    "start_time": "2022-04-19T17:09:30.333Z"
   },
   {
    "duration": 778,
    "start_time": "2022-04-19T17:09:31.050Z"
   },
   {
    "duration": 14,
    "start_time": "2022-04-19T17:09:31.830Z"
   },
   {
    "duration": 2171,
    "start_time": "2022-04-19T17:23:44.815Z"
   },
   {
    "duration": 5,
    "start_time": "2022-04-19T17:23:46.989Z"
   },
   {
    "duration": 61,
    "start_time": "2022-04-19T17:23:46.996Z"
   },
   {
    "duration": 9,
    "start_time": "2022-04-19T17:23:47.059Z"
   },
   {
    "duration": 59,
    "start_time": "2022-04-19T17:23:47.070Z"
   },
   {
    "duration": 8,
    "start_time": "2022-04-19T17:23:47.131Z"
   },
   {
    "duration": 11,
    "start_time": "2022-04-19T17:23:47.140Z"
   },
   {
    "duration": 1639,
    "start_time": "2022-04-19T17:23:47.153Z"
   },
   {
    "duration": 131,
    "start_time": "2022-04-19T17:23:48.794Z"
   },
   {
    "duration": 0,
    "start_time": "2022-04-19T17:23:48.928Z"
   },
   {
    "duration": 0,
    "start_time": "2022-04-19T17:23:48.930Z"
   },
   {
    "duration": 0,
    "start_time": "2022-04-19T17:23:48.931Z"
   },
   {
    "duration": 0,
    "start_time": "2022-04-19T17:23:48.932Z"
   },
   {
    "duration": 0,
    "start_time": "2022-04-19T17:23:48.934Z"
   },
   {
    "duration": 0,
    "start_time": "2022-04-19T17:23:48.936Z"
   },
   {
    "duration": 0,
    "start_time": "2022-04-19T17:23:48.937Z"
   },
   {
    "duration": 0,
    "start_time": "2022-04-19T17:23:48.938Z"
   },
   {
    "duration": 0,
    "start_time": "2022-04-19T17:23:48.940Z"
   },
   {
    "duration": 0,
    "start_time": "2022-04-19T17:23:48.942Z"
   },
   {
    "duration": 0,
    "start_time": "2022-04-19T17:23:48.943Z"
   },
   {
    "duration": 0,
    "start_time": "2022-04-19T17:23:48.944Z"
   },
   {
    "duration": 0,
    "start_time": "2022-04-19T17:23:48.946Z"
   },
   {
    "duration": 0,
    "start_time": "2022-04-19T17:23:48.947Z"
   },
   {
    "duration": 1,
    "start_time": "2022-04-19T17:23:48.948Z"
   },
   {
    "duration": 11,
    "start_time": "2022-04-19T17:24:58.815Z"
   },
   {
    "duration": 2004,
    "start_time": "2022-04-19T17:25:56.724Z"
   },
   {
    "duration": 550,
    "start_time": "2022-04-19T17:26:05.536Z"
   },
   {
    "duration": 2126,
    "start_time": "2022-04-20T16:43:53.424Z"
   },
   {
    "duration": 4,
    "start_time": "2022-04-20T16:43:55.553Z"
   },
   {
    "duration": 55,
    "start_time": "2022-04-20T16:43:55.558Z"
   },
   {
    "duration": 19,
    "start_time": "2022-04-20T16:43:55.615Z"
   },
   {
    "duration": 51,
    "start_time": "2022-04-20T16:43:55.636Z"
   },
   {
    "duration": 6,
    "start_time": "2022-04-20T16:43:55.689Z"
   },
   {
    "duration": 38,
    "start_time": "2022-04-20T16:43:55.697Z"
   },
   {
    "duration": 1929,
    "start_time": "2022-04-20T16:43:55.737Z"
   },
   {
    "duration": 267,
    "start_time": "2022-04-20T16:43:57.668Z"
   },
   {
    "duration": 0,
    "start_time": "2022-04-20T16:43:57.937Z"
   },
   {
    "duration": 0,
    "start_time": "2022-04-20T16:43:57.939Z"
   },
   {
    "duration": 0,
    "start_time": "2022-04-20T16:43:57.940Z"
   },
   {
    "duration": 0,
    "start_time": "2022-04-20T16:43:57.942Z"
   },
   {
    "duration": 0,
    "start_time": "2022-04-20T16:43:57.943Z"
   },
   {
    "duration": 0,
    "start_time": "2022-04-20T16:43:57.944Z"
   },
   {
    "duration": 0,
    "start_time": "2022-04-20T16:43:57.945Z"
   },
   {
    "duration": 0,
    "start_time": "2022-04-20T16:43:57.946Z"
   },
   {
    "duration": 0,
    "start_time": "2022-04-20T16:43:57.948Z"
   },
   {
    "duration": 0,
    "start_time": "2022-04-20T16:43:57.949Z"
   },
   {
    "duration": 0,
    "start_time": "2022-04-20T16:43:57.950Z"
   },
   {
    "duration": 0,
    "start_time": "2022-04-20T16:43:57.952Z"
   },
   {
    "duration": 0,
    "start_time": "2022-04-20T16:43:57.953Z"
   },
   {
    "duration": 0,
    "start_time": "2022-04-20T16:43:57.954Z"
   },
   {
    "duration": 0,
    "start_time": "2022-04-20T16:43:57.955Z"
   },
   {
    "duration": 2191,
    "start_time": "2022-04-20T16:45:11.431Z"
   },
   {
    "duration": 675,
    "start_time": "2022-04-20T16:45:27.438Z"
   },
   {
    "duration": 1782,
    "start_time": "2022-04-20T16:45:56.380Z"
   },
   {
    "duration": 928,
    "start_time": "2022-04-20T16:46:28.911Z"
   },
   {
    "duration": 9,
    "start_time": "2022-04-20T16:46:32.391Z"
   },
   {
    "duration": 10,
    "start_time": "2022-04-20T16:46:35.727Z"
   },
   {
    "duration": 422,
    "start_time": "2022-04-20T16:46:39.718Z"
   },
   {
    "duration": 10,
    "start_time": "2022-04-20T16:46:43.096Z"
   },
   {
    "duration": 11,
    "start_time": "2022-04-20T16:47:09.160Z"
   },
   {
    "duration": 1834,
    "start_time": "2022-04-20T16:47:36.038Z"
   },
   {
    "duration": 5,
    "start_time": "2022-04-20T16:47:37.875Z"
   },
   {
    "duration": 46,
    "start_time": "2022-04-20T16:47:37.882Z"
   },
   {
    "duration": 13,
    "start_time": "2022-04-20T16:47:37.932Z"
   },
   {
    "duration": 51,
    "start_time": "2022-04-20T16:47:37.947Z"
   },
   {
    "duration": 33,
    "start_time": "2022-04-20T16:47:38.000Z"
   },
   {
    "duration": 11,
    "start_time": "2022-04-20T16:47:38.036Z"
   },
   {
    "duration": 1989,
    "start_time": "2022-04-20T16:47:38.048Z"
   },
   {
    "duration": 2142,
    "start_time": "2022-04-20T16:47:40.039Z"
   },
   {
    "duration": 690,
    "start_time": "2022-04-20T16:47:42.184Z"
   },
   {
    "duration": 1718,
    "start_time": "2022-04-20T16:47:42.876Z"
   },
   {
    "duration": 944,
    "start_time": "2022-04-20T16:47:44.596Z"
   },
   {
    "duration": 100,
    "start_time": "2022-04-20T16:47:45.542Z"
   },
   {
    "duration": 105,
    "start_time": "2022-04-20T16:47:45.740Z"
   },
   {
    "duration": 423,
    "start_time": "2022-04-20T16:47:45.847Z"
   },
   {
    "duration": 10,
    "start_time": "2022-04-20T16:47:46.272Z"
   },
   {
    "duration": 10,
    "start_time": "2022-04-20T16:47:46.283Z"
   },
   {
    "duration": 627,
    "start_time": "2022-04-20T16:47:46.295Z"
   },
   {
    "duration": 120158,
    "start_time": "2022-04-20T16:47:46.924Z"
   },
   {
    "duration": 1257,
    "start_time": "2022-04-20T16:49:47.084Z"
   },
   {
    "duration": 92,
    "start_time": "2022-04-20T16:49:48.344Z"
   },
   {
    "duration": 939,
    "start_time": "2022-04-20T16:49:48.438Z"
   },
   {
    "duration": 1270,
    "start_time": "2022-04-20T16:49:49.379Z"
   },
   {
    "duration": 16,
    "start_time": "2022-04-20T16:49:50.651Z"
   },
   {
    "duration": 2262,
    "start_time": "2022-04-22T16:02:39.369Z"
   },
   {
    "duration": 5,
    "start_time": "2022-04-22T16:02:41.634Z"
   },
   {
    "duration": 72,
    "start_time": "2022-04-22T16:02:41.640Z"
   },
   {
    "duration": 8,
    "start_time": "2022-04-22T16:02:41.714Z"
   },
   {
    "duration": 51,
    "start_time": "2022-04-22T16:02:41.725Z"
   },
   {
    "duration": 6,
    "start_time": "2022-04-22T16:02:41.778Z"
   },
   {
    "duration": 16,
    "start_time": "2022-04-22T16:02:41.785Z"
   },
   {
    "duration": 1919,
    "start_time": "2022-04-22T16:02:41.803Z"
   },
   {
    "duration": 2553,
    "start_time": "2022-04-22T16:02:43.724Z"
   },
   {
    "duration": 799,
    "start_time": "2022-04-22T16:02:46.279Z"
   },
   {
    "duration": 1656,
    "start_time": "2022-04-22T16:02:47.080Z"
   },
   {
    "duration": 1458,
    "start_time": "2022-04-22T16:02:48.739Z"
   },
   {
    "duration": 72,
    "start_time": "2022-04-22T16:02:50.205Z"
   },
   {
    "duration": 114,
    "start_time": "2022-04-22T16:02:50.295Z"
   },
   {
    "duration": 665,
    "start_time": "2022-04-22T16:02:50.411Z"
   },
   {
    "duration": 14,
    "start_time": "2022-04-22T16:02:51.078Z"
   },
   {
    "duration": 14,
    "start_time": "2022-04-22T16:02:51.095Z"
   },
   {
    "duration": 819,
    "start_time": "2022-04-22T16:02:51.111Z"
   },
   {
    "duration": 124723,
    "start_time": "2022-04-22T16:02:51.932Z"
   },
   {
    "duration": 963,
    "start_time": "2022-04-22T16:04:56.657Z"
   },
   {
    "duration": 50,
    "start_time": "2022-04-22T16:04:57.622Z"
   },
   {
    "duration": 978,
    "start_time": "2022-04-22T16:04:57.681Z"
   },
   {
    "duration": 25,
    "start_time": "2022-04-22T16:04:58.661Z"
   },
   {
    "duration": 309,
    "start_time": "2022-04-22T16:05:04.329Z"
   },
   {
    "duration": 8,
    "start_time": "2022-04-22T16:05:34.966Z"
   },
   {
    "duration": 45,
    "start_time": "2022-04-22T16:05:38.674Z"
   },
   {
    "duration": 164,
    "start_time": "2022-04-22T16:07:04.011Z"
   },
   {
    "duration": 843,
    "start_time": "2022-04-22T16:07:17.737Z"
   },
   {
    "duration": 168,
    "start_time": "2022-04-22T16:10:32.368Z"
   },
   {
    "duration": 5,
    "start_time": "2022-04-22T16:11:02.071Z"
   },
   {
    "duration": 205,
    "start_time": "2022-04-22T16:11:05.200Z"
   },
   {
    "duration": 159,
    "start_time": "2022-04-22T16:11:15.035Z"
   },
   {
    "duration": 203,
    "start_time": "2022-04-22T16:11:24.956Z"
   },
   {
    "duration": 42,
    "start_time": "2022-04-22T16:11:43.680Z"
   },
   {
    "duration": 10,
    "start_time": "2022-04-22T16:11:50.063Z"
   },
   {
    "duration": 14,
    "start_time": "2022-04-22T16:12:20.320Z"
   },
   {
    "duration": 2088,
    "start_time": "2022-04-22T16:12:48.583Z"
   },
   {
    "duration": 5,
    "start_time": "2022-04-22T16:12:50.675Z"
   },
   {
    "duration": 65,
    "start_time": "2022-04-22T16:12:50.682Z"
   },
   {
    "duration": 12,
    "start_time": "2022-04-22T16:12:50.750Z"
   },
   {
    "duration": 76,
    "start_time": "2022-04-22T16:12:50.764Z"
   },
   {
    "duration": 9,
    "start_time": "2022-04-22T16:12:50.842Z"
   },
   {
    "duration": 48,
    "start_time": "2022-04-22T16:12:50.853Z"
   },
   {
    "duration": 2336,
    "start_time": "2022-04-22T16:12:50.903Z"
   },
   {
    "duration": 2278,
    "start_time": "2022-04-22T16:12:53.241Z"
   },
   {
    "duration": 720,
    "start_time": "2022-04-22T16:12:55.522Z"
   },
   {
    "duration": 1610,
    "start_time": "2022-04-22T16:12:56.244Z"
   },
   {
    "duration": 1642,
    "start_time": "2022-04-22T16:12:57.855Z"
   },
   {
    "duration": 92,
    "start_time": "2022-04-22T16:12:59.500Z"
   },
   {
    "duration": 102,
    "start_time": "2022-04-22T16:12:59.599Z"
   },
   {
    "duration": 46,
    "start_time": "2022-04-22T16:12:59.703Z"
   },
   {
    "duration": 448,
    "start_time": "2022-04-22T16:12:59.758Z"
   },
   {
    "duration": 10,
    "start_time": "2022-04-22T16:13:00.208Z"
   },
   {
    "duration": 12,
    "start_time": "2022-04-22T16:13:00.219Z"
   },
   {
    "duration": 689,
    "start_time": "2022-04-22T16:13:00.233Z"
   },
   {
    "duration": 130355,
    "start_time": "2022-04-22T16:13:00.923Z"
   },
   {
    "duration": 1211,
    "start_time": "2022-04-22T16:15:11.284Z"
   },
   {
    "duration": 47,
    "start_time": "2022-04-22T16:15:12.505Z"
   },
   {
    "duration": 1030,
    "start_time": "2022-04-22T16:15:12.560Z"
   },
   {
    "duration": 18,
    "start_time": "2022-04-22T16:15:13.592Z"
   },
   {
    "duration": 55,
    "start_time": "2022-04-22T16:15:16.821Z"
   },
   {
    "duration": 168,
    "start_time": "2022-04-22T16:15:43.968Z"
   },
   {
    "duration": 2121,
    "start_time": "2022-04-22T16:16:08.233Z"
   },
   {
    "duration": 5,
    "start_time": "2022-04-22T16:16:10.356Z"
   },
   {
    "duration": 78,
    "start_time": "2022-04-22T16:16:10.363Z"
   },
   {
    "duration": 12,
    "start_time": "2022-04-22T16:16:10.442Z"
   },
   {
    "duration": 88,
    "start_time": "2022-04-22T16:16:10.458Z"
   },
   {
    "duration": 10,
    "start_time": "2022-04-22T16:16:10.558Z"
   },
   {
    "duration": 56,
    "start_time": "2022-04-22T16:16:10.570Z"
   },
   {
    "duration": 2168,
    "start_time": "2022-04-22T16:16:10.628Z"
   },
   {
    "duration": 2203,
    "start_time": "2022-04-22T16:16:12.798Z"
   },
   {
    "duration": 766,
    "start_time": "2022-04-22T16:16:15.003Z"
   },
   {
    "duration": 1969,
    "start_time": "2022-04-22T16:16:15.775Z"
   },
   {
    "duration": 1827,
    "start_time": "2022-04-22T16:16:17.747Z"
   },
   {
    "duration": 81,
    "start_time": "2022-04-22T16:16:19.582Z"
   },
   {
    "duration": 115,
    "start_time": "2022-04-22T16:16:19.683Z"
   },
   {
    "duration": 13,
    "start_time": "2022-04-22T16:16:19.800Z"
   },
   {
    "duration": 464,
    "start_time": "2022-04-22T16:16:19.815Z"
   },
   {
    "duration": 14,
    "start_time": "2022-04-22T16:16:20.284Z"
   },
   {
    "duration": 172,
    "start_time": "2022-04-22T16:16:20.299Z"
   },
   {
    "duration": 1,
    "start_time": "2022-04-22T16:16:20.473Z"
   },
   {
    "duration": 0,
    "start_time": "2022-04-22T16:16:20.475Z"
   },
   {
    "duration": 0,
    "start_time": "2022-04-22T16:16:20.476Z"
   },
   {
    "duration": 0,
    "start_time": "2022-04-22T16:16:20.478Z"
   },
   {
    "duration": 0,
    "start_time": "2022-04-22T16:16:20.479Z"
   },
   {
    "duration": 0,
    "start_time": "2022-04-22T16:16:20.481Z"
   },
   {
    "duration": 0,
    "start_time": "2022-04-22T16:16:20.482Z"
   },
   {
    "duration": 14,
    "start_time": "2022-04-22T16:17:17.436Z"
   },
   {
    "duration": 15,
    "start_time": "2022-04-22T16:17:23.499Z"
   },
   {
    "duration": 18,
    "start_time": "2022-04-22T16:18:38.906Z"
   },
   {
    "duration": 19,
    "start_time": "2022-04-22T16:20:38.280Z"
   },
   {
    "duration": 14,
    "start_time": "2022-04-22T16:21:09.377Z"
   },
   {
    "duration": 2016,
    "start_time": "2022-04-22T16:22:00.216Z"
   },
   {
    "duration": 17,
    "start_time": "2022-04-22T16:22:02.235Z"
   },
   {
    "duration": 49,
    "start_time": "2022-04-22T16:22:02.255Z"
   },
   {
    "duration": 8,
    "start_time": "2022-04-22T16:22:02.306Z"
   },
   {
    "duration": 77,
    "start_time": "2022-04-22T16:22:02.316Z"
   },
   {
    "duration": 7,
    "start_time": "2022-04-22T16:22:02.395Z"
   },
   {
    "duration": 19,
    "start_time": "2022-04-22T16:22:02.404Z"
   },
   {
    "duration": 1774,
    "start_time": "2022-04-22T16:22:02.424Z"
   },
   {
    "duration": 1891,
    "start_time": "2022-04-22T16:22:04.200Z"
   },
   {
    "duration": 610,
    "start_time": "2022-04-22T16:22:06.094Z"
   },
   {
    "duration": 1506,
    "start_time": "2022-04-22T16:22:06.706Z"
   },
   {
    "duration": 4052,
    "start_time": "2022-04-22T16:22:08.215Z"
   },
   {
    "duration": 105,
    "start_time": "2022-04-22T16:22:12.269Z"
   },
   {
    "duration": 178,
    "start_time": "2022-04-22T16:22:12.377Z"
   },
   {
    "duration": 27,
    "start_time": "2022-04-22T16:22:12.557Z"
   },
   {
    "duration": 361,
    "start_time": "2022-04-22T16:22:12.586Z"
   },
   {
    "duration": 13,
    "start_time": "2022-04-22T16:22:12.949Z"
   },
   {
    "duration": 608,
    "start_time": "2022-04-22T16:22:12.966Z"
   },
   {
    "duration": 11,
    "start_time": "2022-04-22T16:22:13.576Z"
   },
   {
    "duration": 954,
    "start_time": "2022-04-22T16:22:13.589Z"
   },
   {
    "duration": 112315,
    "start_time": "2022-04-22T16:22:14.547Z"
   },
   {
    "duration": 1121,
    "start_time": "2022-04-22T16:24:06.865Z"
   },
   {
    "duration": 10,
    "start_time": "2022-04-22T16:24:08.049Z"
   },
   {
    "duration": 846,
    "start_time": "2022-04-22T16:24:08.060Z"
   },
   {
    "duration": 13,
    "start_time": "2022-04-22T16:24:08.908Z"
   },
   {
    "duration": 789,
    "start_time": "2022-04-22T16:24:54.310Z"
   },
   {
    "duration": 1616,
    "start_time": "2022-04-22T16:25:14.533Z"
   },
   {
    "duration": 3,
    "start_time": "2022-04-22T16:25:16.151Z"
   },
   {
    "duration": 41,
    "start_time": "2022-04-22T16:25:16.156Z"
   },
   {
    "duration": 9,
    "start_time": "2022-04-22T16:25:16.199Z"
   },
   {
    "duration": 82,
    "start_time": "2022-04-22T16:25:16.210Z"
   },
   {
    "duration": 7,
    "start_time": "2022-04-22T16:25:16.294Z"
   },
   {
    "duration": 13,
    "start_time": "2022-04-22T16:25:16.302Z"
   },
   {
    "duration": 1662,
    "start_time": "2022-04-22T16:25:16.317Z"
   },
   {
    "duration": 1780,
    "start_time": "2022-04-22T16:25:17.981Z"
   },
   {
    "duration": 575,
    "start_time": "2022-04-22T16:25:19.764Z"
   },
   {
    "duration": 1581,
    "start_time": "2022-04-22T16:25:20.347Z"
   },
   {
    "duration": 327,
    "start_time": "2022-04-22T16:25:21.930Z"
   },
   {
    "duration": 92,
    "start_time": "2022-04-22T16:25:22.259Z"
   },
   {
    "duration": 98,
    "start_time": "2022-04-22T16:25:22.354Z"
   },
   {
    "duration": 18,
    "start_time": "2022-04-22T16:25:22.455Z"
   },
   {
    "duration": 421,
    "start_time": "2022-04-22T16:25:22.475Z"
   },
   {
    "duration": 11,
    "start_time": "2022-04-22T16:25:22.898Z"
   },
   {
    "duration": 986,
    "start_time": "2022-04-22T16:25:22.911Z"
   },
   {
    "duration": 11,
    "start_time": "2022-04-22T16:25:23.899Z"
   },
   {
    "duration": 588,
    "start_time": "2022-04-22T16:25:23.911Z"
   },
   {
    "duration": 109945,
    "start_time": "2022-04-22T16:25:24.501Z"
   },
   {
    "duration": 1404,
    "start_time": "2022-04-22T16:27:14.448Z"
   },
   {
    "duration": 7,
    "start_time": "2022-04-22T16:27:15.855Z"
   },
   {
    "duration": 901,
    "start_time": "2022-04-22T16:27:15.864Z"
   },
   {
    "duration": 15,
    "start_time": "2022-04-22T16:27:16.768Z"
   },
   {
    "duration": 163,
    "start_time": "2022-04-22T16:33:11.976Z"
   },
   {
    "duration": 129,
    "start_time": "2022-04-22T16:33:27.029Z"
   },
   {
    "duration": 123,
    "start_time": "2022-04-22T16:33:47.305Z"
   },
   {
    "duration": 736,
    "start_time": "2022-04-22T16:40:05.206Z"
   },
   {
    "duration": 920,
    "start_time": "2022-04-22T16:40:57.184Z"
   },
   {
    "duration": 841,
    "start_time": "2022-04-22T16:41:25.519Z"
   },
   {
    "duration": 866,
    "start_time": "2022-04-22T16:41:59.948Z"
   },
   {
    "duration": 849,
    "start_time": "2022-04-22T16:42:34.259Z"
   },
   {
    "duration": 805,
    "start_time": "2022-04-22T16:42:53.012Z"
   },
   {
    "duration": 786,
    "start_time": "2022-04-22T16:43:24.349Z"
   },
   {
    "duration": 495,
    "start_time": "2022-04-22T16:44:32.962Z"
   },
   {
    "duration": 334,
    "start_time": "2022-04-22T16:44:46.112Z"
   },
   {
    "duration": 528,
    "start_time": "2022-04-22T16:44:53.815Z"
   },
   {
    "duration": 187,
    "start_time": "2022-04-22T16:49:43.772Z"
   },
   {
    "duration": 590,
    "start_time": "2022-04-22T16:49:55.430Z"
   },
   {
    "duration": 837,
    "start_time": "2022-04-22T16:52:04.426Z"
   },
   {
    "duration": 729,
    "start_time": "2022-04-22T16:52:37.302Z"
   },
   {
    "duration": 1897,
    "start_time": "2022-04-22T17:07:44.770Z"
   },
   {
    "duration": 4,
    "start_time": "2022-04-22T17:07:46.670Z"
   },
   {
    "duration": 73,
    "start_time": "2022-04-22T17:07:46.676Z"
   },
   {
    "duration": 10,
    "start_time": "2022-04-22T17:07:46.751Z"
   },
   {
    "duration": 73,
    "start_time": "2022-04-22T17:07:46.764Z"
   },
   {
    "duration": 9,
    "start_time": "2022-04-22T17:07:46.839Z"
   },
   {
    "duration": 38,
    "start_time": "2022-04-22T17:07:46.850Z"
   },
   {
    "duration": 2316,
    "start_time": "2022-04-22T17:07:46.890Z"
   },
   {
    "duration": 2590,
    "start_time": "2022-04-22T17:07:49.209Z"
   },
   {
    "duration": 779,
    "start_time": "2022-04-22T17:07:51.801Z"
   },
   {
    "duration": 1793,
    "start_time": "2022-04-22T17:07:52.582Z"
   },
   {
    "duration": 1104,
    "start_time": "2022-04-22T17:07:54.377Z"
   },
   {
    "duration": 89,
    "start_time": "2022-04-22T17:07:55.493Z"
   },
   {
    "duration": 162,
    "start_time": "2022-04-22T17:07:55.593Z"
   },
   {
    "duration": 29,
    "start_time": "2022-04-22T17:07:55.765Z"
   },
   {
    "duration": 423,
    "start_time": "2022-04-22T17:07:55.796Z"
   },
   {
    "duration": 9,
    "start_time": "2022-04-22T17:07:56.220Z"
   },
   {
    "duration": 604,
    "start_time": "2022-04-22T17:07:56.231Z"
   },
   {
    "duration": 20,
    "start_time": "2022-04-22T17:07:56.847Z"
   },
   {
    "duration": 818,
    "start_time": "2022-04-22T17:07:56.870Z"
   },
   {
    "duration": 2288,
    "start_time": "2022-04-22T17:08:43.949Z"
   },
   {
    "duration": 5,
    "start_time": "2022-04-22T17:08:46.240Z"
   },
   {
    "duration": 85,
    "start_time": "2022-04-22T17:08:46.247Z"
   },
   {
    "duration": 10,
    "start_time": "2022-04-22T17:08:46.334Z"
   },
   {
    "duration": 81,
    "start_time": "2022-04-22T17:08:46.351Z"
   },
   {
    "duration": 6,
    "start_time": "2022-04-22T17:08:46.434Z"
   },
   {
    "duration": 40,
    "start_time": "2022-04-22T17:08:46.442Z"
   },
   {
    "duration": 2332,
    "start_time": "2022-04-22T17:08:46.484Z"
   },
   {
    "duration": 2493,
    "start_time": "2022-04-22T17:08:48.818Z"
   },
   {
    "duration": 843,
    "start_time": "2022-04-22T17:08:51.315Z"
   },
   {
    "duration": 1923,
    "start_time": "2022-04-22T17:08:52.160Z"
   },
   {
    "duration": 2476,
    "start_time": "2022-04-22T17:08:54.085Z"
   },
   {
    "duration": 109,
    "start_time": "2022-04-22T17:08:56.568Z"
   },
   {
    "duration": 61,
    "start_time": "2022-04-22T17:08:56.691Z"
   },
   {
    "duration": 37,
    "start_time": "2022-04-22T17:08:56.755Z"
   },
   {
    "duration": 489,
    "start_time": "2022-04-22T17:08:56.794Z"
   },
   {
    "duration": 10,
    "start_time": "2022-04-22T17:08:57.285Z"
   },
   {
    "duration": 679,
    "start_time": "2022-04-22T17:08:57.297Z"
   },
   {
    "duration": 14,
    "start_time": "2022-04-22T17:08:57.978Z"
   },
   {
    "duration": 774,
    "start_time": "2022-04-22T17:08:57.994Z"
   },
   {
    "duration": 133699,
    "start_time": "2022-04-22T17:08:58.770Z"
   },
   {
    "duration": 690,
    "start_time": "2022-04-22T17:11:12.471Z"
   },
   {
    "duration": 17,
    "start_time": "2022-04-22T17:11:13.172Z"
   },
   {
    "duration": 1286,
    "start_time": "2022-04-22T17:11:13.199Z"
   },
   {
    "duration": 20,
    "start_time": "2022-04-22T17:11:14.488Z"
   },
   {
    "duration": 2211,
    "start_time": "2022-04-22T17:15:20.653Z"
   },
   {
    "duration": 5,
    "start_time": "2022-04-22T17:15:22.867Z"
   },
   {
    "duration": 49,
    "start_time": "2022-04-22T17:15:22.874Z"
   },
   {
    "duration": 29,
    "start_time": "2022-04-22T17:15:22.926Z"
   },
   {
    "duration": 56,
    "start_time": "2022-04-22T17:15:22.957Z"
   },
   {
    "duration": 6,
    "start_time": "2022-04-22T17:15:23.015Z"
   },
   {
    "duration": 35,
    "start_time": "2022-04-22T17:15:23.023Z"
   },
   {
    "duration": 2309,
    "start_time": "2022-04-22T17:15:23.060Z"
   },
   {
    "duration": 2150,
    "start_time": "2022-04-22T17:15:25.372Z"
   },
   {
    "duration": 832,
    "start_time": "2022-04-22T17:15:27.525Z"
   },
   {
    "duration": 1489,
    "start_time": "2022-04-22T17:15:28.359Z"
   },
   {
    "duration": 1302,
    "start_time": "2022-04-22T17:15:29.851Z"
   },
   {
    "duration": 96,
    "start_time": "2022-04-22T17:15:31.157Z"
   },
   {
    "duration": 193,
    "start_time": "2022-04-22T17:15:31.258Z"
   },
   {
    "duration": 12,
    "start_time": "2022-04-22T17:15:31.454Z"
   },
   {
    "duration": 368,
    "start_time": "2022-04-22T17:15:31.468Z"
   },
   {
    "duration": 18,
    "start_time": "2022-04-22T17:15:31.838Z"
   },
   {
    "duration": 585,
    "start_time": "2022-04-22T17:15:31.859Z"
   },
   {
    "duration": 13,
    "start_time": "2022-04-22T17:15:32.447Z"
   },
   {
    "duration": 869,
    "start_time": "2022-04-22T17:15:32.462Z"
   },
   {
    "duration": 1429,
    "start_time": "2022-09-12T07:19:36.589Z"
   },
   {
    "duration": 92,
    "start_time": "2022-09-12T07:19:38.020Z"
   },
   {
    "duration": 4,
    "start_time": "2022-09-12T07:19:38.114Z"
   },
   {
    "duration": 40,
    "start_time": "2022-09-12T07:19:38.120Z"
   },
   {
    "duration": 6,
    "start_time": "2022-09-12T07:19:38.162Z"
   },
   {
    "duration": 41,
    "start_time": "2022-09-12T07:19:38.170Z"
   },
   {
    "duration": 27,
    "start_time": "2022-09-12T07:19:38.212Z"
   },
   {
    "duration": 9,
    "start_time": "2022-09-12T07:19:38.241Z"
   },
   {
    "duration": 1647,
    "start_time": "2022-09-12T07:19:38.252Z"
   },
   {
    "duration": 1822,
    "start_time": "2022-09-12T07:19:39.901Z"
   },
   {
    "duration": 582,
    "start_time": "2022-09-12T07:19:41.725Z"
   },
   {
    "duration": 1459,
    "start_time": "2022-09-12T07:19:42.309Z"
   },
   {
    "duration": 478,
    "start_time": "2022-09-12T07:19:43.770Z"
   },
   {
    "duration": 91,
    "start_time": "2022-09-12T07:19:44.250Z"
   },
   {
    "duration": 93,
    "start_time": "2022-09-12T07:19:44.346Z"
   },
   {
    "duration": 107,
    "start_time": "2022-09-12T07:19:44.441Z"
   },
   {
    "duration": 367,
    "start_time": "2022-09-12T07:19:44.550Z"
   },
   {
    "duration": 9,
    "start_time": "2022-09-12T07:19:44.919Z"
   },
   {
    "duration": 530,
    "start_time": "2022-09-12T07:19:44.937Z"
   },
   {
    "duration": 9,
    "start_time": "2022-09-12T07:19:45.469Z"
   },
   {
    "duration": 543,
    "start_time": "2022-09-12T07:19:45.480Z"
   },
   {
    "duration": 103336,
    "start_time": "2022-09-12T07:19:46.025Z"
   },
   {
    "duration": 1175,
    "start_time": "2022-09-12T07:21:29.363Z"
   },
   {
    "duration": 6,
    "start_time": "2022-09-12T07:21:30.540Z"
   },
   {
    "duration": 807,
    "start_time": "2022-09-12T07:21:30.637Z"
   },
   {
    "duration": 14,
    "start_time": "2022-09-12T07:21:31.446Z"
   }
  ],
  "kernelspec": {
   "display_name": "Python 3 (ipykernel)",
   "language": "python",
   "name": "python3"
  },
  "language_info": {
   "codemirror_mode": {
    "name": "ipython",
    "version": 3
   },
   "file_extension": ".py",
   "mimetype": "text/x-python",
   "name": "python",
   "nbconvert_exporter": "python",
   "pygments_lexer": "ipython3",
   "version": "3.9.5"
  },
  "toc": {
   "base_numbering": 1,
   "nav_menu": {},
   "number_sections": true,
   "sideBar": true,
   "skip_h1_title": true,
   "title_cell": "Table of Contents",
   "title_sidebar": "Contents",
   "toc_cell": true,
   "toc_position": {
    "height": "calc(100% - 180px)",
    "left": "10px",
    "top": "150px",
    "width": "174.188px"
   },
   "toc_section_display": true,
   "toc_window_display": true
  }
 },
 "nbformat": 4,
 "nbformat_minor": 2
}
